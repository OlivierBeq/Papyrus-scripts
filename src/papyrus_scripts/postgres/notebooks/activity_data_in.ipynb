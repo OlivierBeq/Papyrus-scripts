{
 "cells": [
  {
   "cell_type": "code",
   "execution_count": 7,
   "id": "376b9205",
   "metadata": {
    "ExecuteTime": {
     "end_time": "2022-05-30T14:59:40.841958Z",
     "start_time": "2022-05-30T14:59:40.328162Z"
    }
   },
   "outputs": [],
   "source": [
    "import sys\n",
    "sys.path.append('/code')\n",
    "\n",
    "from database.models import (Protein, Organism, Classification, Molecule, Activity, ActivityType, Source, Quality, CID)\n",
    "\n",
    "from sqlalchemy import create_engine\n",
    "from sqlalchemy.orm import scoped_session\n",
    "from sqlalchemy.orm import sessionmaker\n",
    "import os\n",
    "import glob\n",
    "from rdkit import Chem\n",
    "from razi.rdkit_postgresql.functions import morganbv_fp\n",
    "\n",
    "import pandas as pd\n",
    "# import modin.pandas as pd\n",
    "import numpy as np\n",
    "import json\n",
    "\n",
    "import multiprocessing\n",
    "import gc\n",
    "from tqdm import tqdm\n",
    "from copy import copy\n",
    "import numpy as np\n",
    "\n",
    "\n",
    "def get_db_session():\n",
    "    engine = create_engine(\n",
    "        os.environ.get('SQLALCHEMY_URL'), convert_unicode=True,\n",
    "        pool_recycle=3600, pool_size=10)\n",
    "    db_session = scoped_session(sessionmaker(\n",
    "        autocommit=False, autoflush=False, bind=engine))\n",
    "    \n",
    "    return db_session\n",
    "\n",
    "\n",
    "def get_or_create(session, model, **kwargs):\n",
    "    instance = session.query(model).filter_by(**kwargs).first()\n",
    "    if instance:\n",
    "        return instance\n",
    "    else:\n",
    "        instance = model(**kwargs)\n",
    "        session.add(instance)\n",
    "        session.flush()\n",
    "        session.refresh(instance)\n",
    "        return instance\n",
    "    \n",
    "def get_or_instance(session, model, **kwargs):\n",
    "    instance = session.query(model).filter_by(**kwargs).first()\n",
    "    if instance:\n",
    "        return (False, instance)\n",
    "    else:\n",
    "        instance = model(**kwargs)\n",
    "        return (True, instance)\n",
    "    \n",
    "def sanitize_and_split(row, length, spl=';'):\n",
    "    split = [v.rstrip() for v in str(row).split(spl)]\n",
    "    if len(split)!= length:\n",
    "        split = [split[0] for i in range(0,length)]\n",
    "    \n",
    "    split = [None if x == '' else x for x in split]\n",
    "    \n",
    "    return split\n",
    "\n",
    "\n",
    "class TypeDecoder(json.JSONDecoder):\n",
    "    \"\"\"Custom json decoder to support types as values.\"\"\"\n",
    "\n",
    "    def __init__(self, *args, **kwargs):\n",
    "        \"\"\"Simple json decoder handling types as values.\"\"\"\n",
    "        json.JSONDecoder.__init__(self, object_hook=self.object_hook, *args, **kwargs)\n",
    "\n",
    "    def object_hook(self, obj):\n",
    "        \"\"\"Handle types.\"\"\"\n",
    "        if '__type__' not in obj:\n",
    "            return obj\n",
    "        module = obj['__type__']['module']\n",
    "        type_ = obj['__type__']['type']\n",
    "        if module == 'builtins':\n",
    "            return getattr(__builtins__, type_)\n",
    "        loaded_module = importlib.import_module(module)\n",
    "        return getattr(loaded_module, type_)\n",
    "    \n",
    "\n",
    "\n",
    "dtype_file = '../.data/papyrus/05.5/data_types.json'\n",
    "activity_data = '../.data/papyrus/05.5/05.5_combined_set_without_stereochemistry.tsv.xz'\n",
    "protein_data = '../.data/papyrus/05.5/05.5_combined_set_protein_targets.tsv.xz'\n"
   ]
  },
  {
   "cell_type": "code",
   "execution_count": 2,
   "id": "de77a85c",
   "metadata": {
    "ExecuteTime": {
     "end_time": "2022-05-30T14:59:40.855644Z",
     "start_time": "2022-05-30T14:59:40.844979Z"
    }
   },
   "outputs": [],
   "source": [
    "with open(dtype_file, 'r') as jsonfile:\n",
    "        dtypes = json.load(jsonfile, cls=TypeDecoder)['papyrus']"
   ]
  },
  {
   "cell_type": "code",
   "execution_count": null,
   "id": "3c5b7969",
   "metadata": {
    "ExecuteTime": {
     "end_time": "2022-05-26T15:29:44.722093Z",
     "start_time": "2022-05-26T15:29:44.569082Z"
    }
   },
   "outputs": [],
   "source": [
    "protein_df = pd.read_csv(protein_data, sep='\\t', dtype=dtypes)"
   ]
  },
  {
   "cell_type": "code",
   "execution_count": null,
   "id": "ee2d3070",
   "metadata": {
    "ExecuteTime": {
     "end_time": "2022-05-26T15:29:45.571112Z",
     "start_time": "2022-05-26T15:29:45.561539Z"
    }
   },
   "outputs": [],
   "source": [
    "organisms = list(set(protein_df['Organism']))\n",
    "classifications = []\n",
    "for cstr in protein_df['Classification']:\n",
    "    classifications.extend(str(cstr).split('->'))\n",
    "\n",
    "classes = list(set(classifications))"
   ]
  },
  {
   "cell_type": "code",
   "execution_count": null,
   "id": "303809f0",
   "metadata": {
    "ExecuteTime": {
     "end_time": "2022-05-26T15:30:03.792239Z",
     "start_time": "2022-05-26T15:29:46.732740Z"
    }
   },
   "outputs": [],
   "source": [
    "db_session = get_db_session()\n",
    "\n",
    "rows = []\n",
    "\n",
    "for i, row in protein_df.iterrows():\n",
    "    organism = get_or_create(session=db_session, model=Organism, organism=row['Organism'])\n",
    "    classifications_list = str(row['Classification']).split('->')\n",
    "    classifications = [get_or_create(session=db_session, model=Classification, classification=c) for c in classifications_list]\n",
    "    \n",
    "    review_mapping = {'reviewed':1, 'Unreviewed':0, 'unreviewed':0}\n",
    "    \n",
    "    prot = Protein(\n",
    "        target_id = row['target_id'],\n",
    "        HGNC_symbol = str(row['HGNC_symbol']),\n",
    "        uniprot_id = row['UniProtID'],\n",
    "        reviewed = review_mapping[row['Status']],\n",
    "        organism = organism.id,\n",
    "        length = row['Length'],\n",
    "        sequence = row['Sequence'], \n",
    "        classifications = classifications\n",
    "    )\n",
    "    \n",
    "    rows.append(prot)\n",
    "    \n",
    "db_session.add_all(rows)\n",
    "db_session.commit()\n",
    "db_session.remove()\n",
    "    "
   ]
  },
  {
   "cell_type": "code",
   "execution_count": 10,
   "id": "c9ca3087",
   "metadata": {
    "ExecuteTime": {
     "end_time": "2022-05-30T14:59:43.893584Z",
     "start_time": "2022-05-30T14:59:43.877084Z"
    },
    "scrolled": true
   },
   "outputs": [],
   "source": [
    "def process_activity_frame(df):\n",
    "#     df_obj = df.select_dtypes(['object'])\n",
    "    db_session = get_db_session()\n",
    "    rows = []\n",
    "    \n",
    "    activity_type_map = {\n",
    "        '1000':'IC50',\n",
    "        '0100':'EC50',\n",
    "        '0010':'KD',\n",
    "        '0001':'Ki',\n",
    "        '0000':'other',\n",
    "    }\n",
    "\n",
    "    print('processing frame')\n",
    "    \n",
    "    # do this bit in parallel?\n",
    "    for row in tqdm(df.itertuples()):\n",
    "        sources_list = row.source.split(';')\n",
    "        cids_list = row.CID.split(';')\n",
    "        sources_cids_list = list(zip(sources_list, cids_list))\n",
    "        cids = [      \n",
    "            get_or_create(session=db_session, \n",
    "                          model=CID, \n",
    "                          cid=c[1], \n",
    "                          source=get_or_create(session=db_session, \n",
    "                                               model=Source, \n",
    "                                               source=c[0]).source) for c in sources_cids_list]\n",
    "        \n",
    "        rows.extend(cids)\n",
    "\n",
    "        mol = Chem.MolFromSmiles(row.SMILES)\n",
    "        fp = morganbv_fp(row.SMILES)\n",
    "\n",
    "        # change this to use InChI and/or SMILES\n",
    "        smiles = Chem.CanonSmiles(row.SMILES)\n",
    "        created, molecule = get_or_instance(session=db_session,model=Molecule,smiles=smiles,inchi=row.InChI)\n",
    "\n",
    "        for cid in cids:\n",
    "            if cid not in molecule.cids:\n",
    "                molecule.cids.append(cid)\n",
    "        \n",
    "        if created:\n",
    "            molecule.smiles=smiles\n",
    "            molecule.mol=mol\n",
    "            molecule.inchi_key=row.InChIKey\n",
    "            molecule.inchi=row.InChI\n",
    "            molecule.inchi_auxinfo=row.InChI_AuxInfo\n",
    "            molecule.fp=fp\n",
    "            molecule.connectivity=row.connectivity\n",
    "            db_session.add(molecule)\n",
    "            db_session.flush()\n",
    "            db_session.refresh(molecule)\n",
    "            rows.append(molecule)\n",
    "\n",
    "        qc,quality = get_or_instance(session=db_session, model=Quality, quality=row.Quality)\n",
    "        if qc: rows.append(quality)\n",
    "        qid = quality.id\n",
    "        tc,target_id = get_or_instance(session=db_session, model=Protein, target_id=row.target_id)\n",
    "        if tc: rows.append(target_id)\n",
    "        tid = target_id.target_id\n",
    "        molecule_id = molecule.id\n",
    "\n",
    "        slice_list = []\n",
    "        if ';' in str(row.pchembl_value):\n",
    "\n",
    "            pchembl_values = [v.rstrip() for v in row.pchembl_value.split(';')]\n",
    "            length = len(pchembl_values)\n",
    "\n",
    "            aids = sanitize_and_split(row=row.AID,length=length)        \n",
    "            doc_ids = sanitize_and_split(row=row.all_doc_ids,length=length)\n",
    "            years = sanitize_and_split(row=row.all_years,length=length)\n",
    "            type_IC50s = sanitize_and_split(row=row.type_IC50,length=length)         \n",
    "            type_EC50s = sanitize_and_split(row=row.type_EC50,length=length)\n",
    "            type_KDs = sanitize_and_split(row=row.type_KD,length=length)\n",
    "            type_Kis = sanitize_and_split(row=row.type_Ki,length=length)\n",
    "\n",
    "            for j in range(0, len(pchembl_values)):\n",
    "                update_dict = {\n",
    "                    'pchembl_value': pchembl_values[j],\n",
    "                    'AID': aids[j],\n",
    "                    'doc_id': doc_ids[j],\n",
    "                    'Year': years[j],\n",
    "                    'type_IC50': type_IC50s[j],\n",
    "                    'type_EC50': type_EC50s[j],\n",
    "                    'type_KD': type_KDs[j],\n",
    "                    'type_Ki': type_Kis[j]\n",
    "                }\n",
    "                row_copy = copy(row._asdict())\n",
    "\n",
    "                row_copy.update(update_dict)\n",
    "\n",
    "                slice_list.append(row_copy)\n",
    "\n",
    "        else:\n",
    "            slice_list.append(row._asdict())\n",
    "\n",
    "        for s in slice_list:\n",
    "\n",
    "            a = f\"{s['type_IC50']}{s['type_EC50']}{s['type_KD']}{s['type_Ki']}\"\n",
    "            activity_type_str = activity_type_map[a]\n",
    "\n",
    "            activity_type = get_or_create(session=db_session, model=ActivityType, type=activity_type_str).id\n",
    "\n",
    "            try:\n",
    "                y = int(s['Year'])\n",
    "            except:\n",
    "                y = None\n",
    "                \n",
    "            if str(s['doc_id']) in ['nan', 'NaN']:\n",
    "                doc_id = None\n",
    "            else:\n",
    "                doc_id = str(s['doc_id'])\n",
    "\n",
    "            activity = Activity(\n",
    "                papyrus_activity_id=s['Activity_ID'],\n",
    "                quality=qid,\n",
    "                target_id=tid,\n",
    "                molecule_id = molecule_id,\n",
    "                accession=s['accession'],\n",
    "                protein_type=s['Protein_Type'],\n",
    "                aid = s['AID'],\n",
    "                doc_id = doc_id,\n",
    "                year = y,\n",
    "                type = activity_type, \n",
    "                relation = s['relation'],\n",
    "                pchembl_value = s['pchembl_value'],\n",
    "                pchembl_value_mean = s['pchembl_value_Mean'],\n",
    "                pchembl_value_stdev = s['pchembl_value_StdDev'],\n",
    "                pchembl_value_SEM = s['pchembl_value_SEM'],\n",
    "                pchembl_value_n = s['pchembl_value_N'],\n",
    "                pchembl_value_median = s['pchembl_value_Median'],\n",
    "                pchembl_value_mad = s['pchembl_value_MAD'],   \n",
    "            )\n",
    "\n",
    "            rows.append(activity)\n",
    "            \n",
    "    print('processing complete')\n",
    "            \n",
    "    del(df)\n",
    "    db_session.add_all(rows)\n",
    "    print('committing data')\n",
    "    db_session.commit()\n",
    "    db_session.close()\n",
    "    db_session.remove()\n",
    "    gc.collect()\n",
    "            \n",
    "    return True\n"
   ]
  },
  {
   "cell_type": "code",
   "execution_count": 12,
   "id": "738fc5a6",
   "metadata": {
    "ExecuteTime": {
     "start_time": "2022-05-30T14:59:37.597Z"
    },
    "scrolled": true
   },
   "outputs": [
    {
     "name": "stderr",
     "output_type": "stream",
     "text": [
      "/tmp/ipykernel_14731/1521933140.py:27: SADeprecationWarning: The create_engine.convert_unicode parameter and corresponding dialect-level parameters are deprecated, and will be removed in a future release.  Modern DBAPIs support Python Unicode natively and this parameter is unnecessary.\n",
      "  engine = create_engine(\n"
     ]
    },
    {
     "name": "stdout",
     "output_type": "stream",
     "text": [
      "processing chunk 0\n",
      "processing frame\n"
     ]
    },
    {
     "name": "stderr",
     "output_type": "stream",
     "text": [
      "529165it [7:49:40, 18.78it/s]\n"
     ]
    },
    {
     "ename": "KeyboardInterrupt",
     "evalue": "",
     "output_type": "error",
     "traceback": [
      "\u001b[0;31m---------------------------------------------------------------------------\u001b[0m",
      "\u001b[0;31mKeyboardInterrupt\u001b[0m                         Traceback (most recent call last)",
      "Input \u001b[0;32mIn [12]\u001b[0m, in \u001b[0;36m<cell line: 3>\u001b[0;34m()\u001b[0m\n\u001b[1;32m      3\u001b[0m \u001b[38;5;28;01mfor\u001b[39;00m (i,df) \u001b[38;5;129;01min\u001b[39;00m \u001b[38;5;28menumerate\u001b[39m(reader):\n\u001b[1;32m      4\u001b[0m     \u001b[38;5;66;03m# process each data frame\u001b[39;00m\n\u001b[1;32m      5\u001b[0m     \u001b[38;5;28mprint\u001b[39m(\u001b[38;5;124mf\u001b[39m\u001b[38;5;124m'\u001b[39m\u001b[38;5;124mprocessing chunk \u001b[39m\u001b[38;5;132;01m{\u001b[39;00mi\u001b[38;5;132;01m}\u001b[39;00m\u001b[38;5;124m'\u001b[39m)\n\u001b[0;32m----> 6\u001b[0m     \u001b[43mprocess_activity_frame\u001b[49m\u001b[43m(\u001b[49m\u001b[43mdf\u001b[49m\u001b[43m)\u001b[49m\n\u001b[1;32m      7\u001b[0m     gc\u001b[38;5;241m.\u001b[39mcollect()\n",
      "Input \u001b[0;32mIn [10]\u001b[0m, in \u001b[0;36mprocess_activity_frame\u001b[0;34m(df)\u001b[0m\n\u001b[1;32m     19\u001b[0m cids_list \u001b[38;5;241m=\u001b[39m row\u001b[38;5;241m.\u001b[39mCID\u001b[38;5;241m.\u001b[39msplit(\u001b[38;5;124m'\u001b[39m\u001b[38;5;124m;\u001b[39m\u001b[38;5;124m'\u001b[39m)\n\u001b[1;32m     20\u001b[0m sources_cids_list \u001b[38;5;241m=\u001b[39m \u001b[38;5;28mlist\u001b[39m(\u001b[38;5;28mzip\u001b[39m(sources_list, cids_list))\n\u001b[0;32m---> 21\u001b[0m cids \u001b[38;5;241m=\u001b[39m [      \n\u001b[1;32m     22\u001b[0m     get_or_create(session\u001b[38;5;241m=\u001b[39mdb_session, \n\u001b[1;32m     23\u001b[0m                   model\u001b[38;5;241m=\u001b[39mCID, \n\u001b[1;32m     24\u001b[0m                   cid\u001b[38;5;241m=\u001b[39mc[\u001b[38;5;241m1\u001b[39m], \n\u001b[1;32m     25\u001b[0m                   source\u001b[38;5;241m=\u001b[39mget_or_create(session\u001b[38;5;241m=\u001b[39mdb_session, \n\u001b[1;32m     26\u001b[0m                                        model\u001b[38;5;241m=\u001b[39mSource, \n\u001b[1;32m     27\u001b[0m                                        source\u001b[38;5;241m=\u001b[39mc[\u001b[38;5;241m0\u001b[39m])\u001b[38;5;241m.\u001b[39msource) \u001b[38;5;28;01mfor\u001b[39;00m c \u001b[38;5;129;01min\u001b[39;00m sources_cids_list]\n\u001b[1;32m     29\u001b[0m rows\u001b[38;5;241m.\u001b[39mextend(cids)\n\u001b[1;32m     31\u001b[0m mol \u001b[38;5;241m=\u001b[39m Chem\u001b[38;5;241m.\u001b[39mMolFromSmiles(row\u001b[38;5;241m.\u001b[39mSMILES)\n",
      "Input \u001b[0;32mIn [10]\u001b[0m, in \u001b[0;36m<listcomp>\u001b[0;34m(.0)\u001b[0m\n\u001b[1;32m     19\u001b[0m cids_list \u001b[38;5;241m=\u001b[39m row\u001b[38;5;241m.\u001b[39mCID\u001b[38;5;241m.\u001b[39msplit(\u001b[38;5;124m'\u001b[39m\u001b[38;5;124m;\u001b[39m\u001b[38;5;124m'\u001b[39m)\n\u001b[1;32m     20\u001b[0m sources_cids_list \u001b[38;5;241m=\u001b[39m \u001b[38;5;28mlist\u001b[39m(\u001b[38;5;28mzip\u001b[39m(sources_list, cids_list))\n\u001b[1;32m     21\u001b[0m cids \u001b[38;5;241m=\u001b[39m [      \n\u001b[0;32m---> 22\u001b[0m     \u001b[43mget_or_create\u001b[49m\u001b[43m(\u001b[49m\u001b[43msession\u001b[49m\u001b[38;5;241;43m=\u001b[39;49m\u001b[43mdb_session\u001b[49m\u001b[43m,\u001b[49m\u001b[43m \u001b[49m\n\u001b[1;32m     23\u001b[0m \u001b[43m                  \u001b[49m\u001b[43mmodel\u001b[49m\u001b[38;5;241;43m=\u001b[39;49m\u001b[43mCID\u001b[49m\u001b[43m,\u001b[49m\u001b[43m \u001b[49m\n\u001b[1;32m     24\u001b[0m \u001b[43m                  \u001b[49m\u001b[43mcid\u001b[49m\u001b[38;5;241;43m=\u001b[39;49m\u001b[43mc\u001b[49m\u001b[43m[\u001b[49m\u001b[38;5;241;43m1\u001b[39;49m\u001b[43m]\u001b[49m\u001b[43m,\u001b[49m\u001b[43m \u001b[49m\n\u001b[1;32m     25\u001b[0m \u001b[43m                  \u001b[49m\u001b[43msource\u001b[49m\u001b[38;5;241;43m=\u001b[39;49m\u001b[43mget_or_create\u001b[49m\u001b[43m(\u001b[49m\u001b[43msession\u001b[49m\u001b[38;5;241;43m=\u001b[39;49m\u001b[43mdb_session\u001b[49m\u001b[43m,\u001b[49m\u001b[43m \u001b[49m\n\u001b[1;32m     26\u001b[0m \u001b[43m                                       \u001b[49m\u001b[43mmodel\u001b[49m\u001b[38;5;241;43m=\u001b[39;49m\u001b[43mSource\u001b[49m\u001b[43m,\u001b[49m\u001b[43m \u001b[49m\n\u001b[1;32m     27\u001b[0m \u001b[43m                                       \u001b[49m\u001b[43msource\u001b[49m\u001b[38;5;241;43m=\u001b[39;49m\u001b[43mc\u001b[49m\u001b[43m[\u001b[49m\u001b[38;5;241;43m0\u001b[39;49m\u001b[43m]\u001b[49m\u001b[43m)\u001b[49m\u001b[38;5;241;43m.\u001b[39;49m\u001b[43msource\u001b[49m\u001b[43m)\u001b[49m \u001b[38;5;28;01mfor\u001b[39;00m c \u001b[38;5;129;01min\u001b[39;00m sources_cids_list]\n\u001b[1;32m     29\u001b[0m rows\u001b[38;5;241m.\u001b[39mextend(cids)\n\u001b[1;32m     31\u001b[0m mol \u001b[38;5;241m=\u001b[39m Chem\u001b[38;5;241m.\u001b[39mMolFromSmiles(row\u001b[38;5;241m.\u001b[39mSMILES)\n",
      "Input \u001b[0;32mIn [7]\u001b[0m, in \u001b[0;36mget_or_create\u001b[0;34m(session, model, **kwargs)\u001b[0m\n\u001b[1;32m     36\u001b[0m \u001b[38;5;28;01mdef\u001b[39;00m \u001b[38;5;21mget_or_create\u001b[39m(session, model, \u001b[38;5;241m*\u001b[39m\u001b[38;5;241m*\u001b[39mkwargs):\n\u001b[0;32m---> 37\u001b[0m     instance \u001b[38;5;241m=\u001b[39m \u001b[43msession\u001b[49m\u001b[38;5;241;43m.\u001b[39;49m\u001b[43mquery\u001b[49m\u001b[43m(\u001b[49m\u001b[43mmodel\u001b[49m\u001b[43m)\u001b[49m\u001b[38;5;241;43m.\u001b[39;49m\u001b[43mfilter_by\u001b[49m\u001b[43m(\u001b[49m\u001b[38;5;241;43m*\u001b[39;49m\u001b[38;5;241;43m*\u001b[39;49m\u001b[43mkwargs\u001b[49m\u001b[43m)\u001b[49m\u001b[38;5;241;43m.\u001b[39;49m\u001b[43mfirst\u001b[49m\u001b[43m(\u001b[49m\u001b[43m)\u001b[49m\n\u001b[1;32m     38\u001b[0m     \u001b[38;5;28;01mif\u001b[39;00m instance:\n\u001b[1;32m     39\u001b[0m \u001b[38;5;66;03m#         created = False\u001b[39;00m\n\u001b[1;32m     40\u001b[0m         \u001b[38;5;28;01mreturn\u001b[39;00m instance\n",
      "File \u001b[0;32m/opt/conda/envs/papyrus/lib/python3.8/site-packages/sqlalchemy/orm/query.py:2819\u001b[0m, in \u001b[0;36mQuery.first\u001b[0;34m(self)\u001b[0m\n\u001b[1;32m   2817\u001b[0m     \u001b[38;5;28;01mreturn\u001b[39;00m \u001b[38;5;28mself\u001b[39m\u001b[38;5;241m.\u001b[39m_iter()\u001b[38;5;241m.\u001b[39mfirst()\n\u001b[1;32m   2818\u001b[0m \u001b[38;5;28;01melse\u001b[39;00m:\n\u001b[0;32m-> 2819\u001b[0m     \u001b[38;5;28;01mreturn\u001b[39;00m \u001b[38;5;28;43mself\u001b[39;49m\u001b[38;5;241;43m.\u001b[39;49m\u001b[43mlimit\u001b[49m\u001b[43m(\u001b[49m\u001b[38;5;241;43m1\u001b[39;49m\u001b[43m)\u001b[49m\u001b[38;5;241;43m.\u001b[39;49m\u001b[43m_iter\u001b[49m\u001b[43m(\u001b[49m\u001b[43m)\u001b[49m\u001b[38;5;241m.\u001b[39mfirst()\n",
      "File \u001b[0;32m/opt/conda/envs/papyrus/lib/python3.8/site-packages/sqlalchemy/orm/query.py:2903\u001b[0m, in \u001b[0;36mQuery._iter\u001b[0;34m(self)\u001b[0m\n\u001b[1;32m   2900\u001b[0m params \u001b[38;5;241m=\u001b[39m \u001b[38;5;28mself\u001b[39m\u001b[38;5;241m.\u001b[39m_params\n\u001b[1;32m   2902\u001b[0m statement \u001b[38;5;241m=\u001b[39m \u001b[38;5;28mself\u001b[39m\u001b[38;5;241m.\u001b[39m_statement_20()\n\u001b[0;32m-> 2903\u001b[0m result \u001b[38;5;241m=\u001b[39m \u001b[38;5;28;43mself\u001b[39;49m\u001b[38;5;241;43m.\u001b[39;49m\u001b[43msession\u001b[49m\u001b[38;5;241;43m.\u001b[39;49m\u001b[43mexecute\u001b[49m\u001b[43m(\u001b[49m\n\u001b[1;32m   2904\u001b[0m \u001b[43m    \u001b[49m\u001b[43mstatement\u001b[49m\u001b[43m,\u001b[49m\n\u001b[1;32m   2905\u001b[0m \u001b[43m    \u001b[49m\u001b[43mparams\u001b[49m\u001b[43m,\u001b[49m\n\u001b[1;32m   2906\u001b[0m \u001b[43m    \u001b[49m\u001b[43mexecution_options\u001b[49m\u001b[38;5;241;43m=\u001b[39;49m\u001b[43m{\u001b[49m\u001b[38;5;124;43m\"\u001b[39;49m\u001b[38;5;124;43m_sa_orm_load_options\u001b[39;49m\u001b[38;5;124;43m\"\u001b[39;49m\u001b[43m:\u001b[49m\u001b[43m \u001b[49m\u001b[38;5;28;43mself\u001b[39;49m\u001b[38;5;241;43m.\u001b[39;49m\u001b[43mload_options\u001b[49m\u001b[43m}\u001b[49m\u001b[43m,\u001b[49m\n\u001b[1;32m   2907\u001b[0m \u001b[43m\u001b[49m\u001b[43m)\u001b[49m\n\u001b[1;32m   2909\u001b[0m \u001b[38;5;66;03m# legacy: automatically set scalars, unique\u001b[39;00m\n\u001b[1;32m   2910\u001b[0m \u001b[38;5;28;01mif\u001b[39;00m result\u001b[38;5;241m.\u001b[39m_attributes\u001b[38;5;241m.\u001b[39mget(\u001b[38;5;124m\"\u001b[39m\u001b[38;5;124mis_single_entity\u001b[39m\u001b[38;5;124m\"\u001b[39m, \u001b[38;5;28;01mFalse\u001b[39;00m):\n",
      "File \u001b[0;32m/opt/conda/envs/papyrus/lib/python3.8/site-packages/sqlalchemy/orm/session.py:1696\u001b[0m, in \u001b[0;36mSession.execute\u001b[0;34m(self, statement, params, execution_options, bind_arguments, _parent_execute_state, _add_event, **kw)\u001b[0m\n\u001b[1;32m   1694\u001b[0m \u001b[38;5;28;01melse\u001b[39;00m:\n\u001b[1;32m   1695\u001b[0m     conn \u001b[38;5;241m=\u001b[39m \u001b[38;5;28mself\u001b[39m\u001b[38;5;241m.\u001b[39m_connection_for_bind(bind)\n\u001b[0;32m-> 1696\u001b[0m result \u001b[38;5;241m=\u001b[39m \u001b[43mconn\u001b[49m\u001b[38;5;241;43m.\u001b[39;49m\u001b[43m_execute_20\u001b[49m\u001b[43m(\u001b[49m\u001b[43mstatement\u001b[49m\u001b[43m,\u001b[49m\u001b[43m \u001b[49m\u001b[43mparams\u001b[49m\u001b[43m \u001b[49m\u001b[38;5;129;43;01mor\u001b[39;49;00m\u001b[43m \u001b[49m\u001b[43m{\u001b[49m\u001b[43m}\u001b[49m\u001b[43m,\u001b[49m\u001b[43m \u001b[49m\u001b[43mexecution_options\u001b[49m\u001b[43m)\u001b[49m\n\u001b[1;32m   1698\u001b[0m \u001b[38;5;28;01mif\u001b[39;00m compile_state_cls:\n\u001b[1;32m   1699\u001b[0m     result \u001b[38;5;241m=\u001b[39m compile_state_cls\u001b[38;5;241m.\u001b[39morm_setup_cursor_result(\n\u001b[1;32m   1700\u001b[0m         \u001b[38;5;28mself\u001b[39m,\n\u001b[1;32m   1701\u001b[0m         statement,\n\u001b[0;32m   (...)\u001b[0m\n\u001b[1;32m   1705\u001b[0m         result,\n\u001b[1;32m   1706\u001b[0m     )\n",
      "File \u001b[0;32m/opt/conda/envs/papyrus/lib/python3.8/site-packages/sqlalchemy/engine/base.py:1631\u001b[0m, in \u001b[0;36mConnection._execute_20\u001b[0;34m(self, statement, parameters, execution_options)\u001b[0m\n\u001b[1;32m   1627\u001b[0m     util\u001b[38;5;241m.\u001b[39mraise_(\n\u001b[1;32m   1628\u001b[0m         exc\u001b[38;5;241m.\u001b[39mObjectNotExecutableError(statement), replace_context\u001b[38;5;241m=\u001b[39merr\n\u001b[1;32m   1629\u001b[0m     )\n\u001b[1;32m   1630\u001b[0m \u001b[38;5;28;01melse\u001b[39;00m:\n\u001b[0;32m-> 1631\u001b[0m     \u001b[38;5;28;01mreturn\u001b[39;00m \u001b[43mmeth\u001b[49m\u001b[43m(\u001b[49m\u001b[38;5;28;43mself\u001b[39;49m\u001b[43m,\u001b[49m\u001b[43m \u001b[49m\u001b[43margs_10style\u001b[49m\u001b[43m,\u001b[49m\u001b[43m \u001b[49m\u001b[43mkwargs_10style\u001b[49m\u001b[43m,\u001b[49m\u001b[43m \u001b[49m\u001b[43mexecution_options\u001b[49m\u001b[43m)\u001b[49m\n",
      "File \u001b[0;32m/opt/conda/envs/papyrus/lib/python3.8/site-packages/sqlalchemy/sql/elements.py:325\u001b[0m, in \u001b[0;36mClauseElement._execute_on_connection\u001b[0;34m(self, connection, multiparams, params, execution_options, _force)\u001b[0m\n\u001b[1;32m    321\u001b[0m \u001b[38;5;28;01mdef\u001b[39;00m \u001b[38;5;21m_execute_on_connection\u001b[39m(\n\u001b[1;32m    322\u001b[0m     \u001b[38;5;28mself\u001b[39m, connection, multiparams, params, execution_options, _force\u001b[38;5;241m=\u001b[39m\u001b[38;5;28;01mFalse\u001b[39;00m\n\u001b[1;32m    323\u001b[0m ):\n\u001b[1;32m    324\u001b[0m     \u001b[38;5;28;01mif\u001b[39;00m _force \u001b[38;5;129;01mor\u001b[39;00m \u001b[38;5;28mself\u001b[39m\u001b[38;5;241m.\u001b[39msupports_execution:\n\u001b[0;32m--> 325\u001b[0m         \u001b[38;5;28;01mreturn\u001b[39;00m \u001b[43mconnection\u001b[49m\u001b[38;5;241;43m.\u001b[39;49m\u001b[43m_execute_clauseelement\u001b[49m\u001b[43m(\u001b[49m\n\u001b[1;32m    326\u001b[0m \u001b[43m            \u001b[49m\u001b[38;5;28;43mself\u001b[39;49m\u001b[43m,\u001b[49m\u001b[43m \u001b[49m\u001b[43mmultiparams\u001b[49m\u001b[43m,\u001b[49m\u001b[43m \u001b[49m\u001b[43mparams\u001b[49m\u001b[43m,\u001b[49m\u001b[43m \u001b[49m\u001b[43mexecution_options\u001b[49m\n\u001b[1;32m    327\u001b[0m \u001b[43m        \u001b[49m\u001b[43m)\u001b[49m\n\u001b[1;32m    328\u001b[0m     \u001b[38;5;28;01melse\u001b[39;00m:\n\u001b[1;32m    329\u001b[0m         \u001b[38;5;28;01mraise\u001b[39;00m exc\u001b[38;5;241m.\u001b[39mObjectNotExecutableError(\u001b[38;5;28mself\u001b[39m)\n",
      "File \u001b[0;32m/opt/conda/envs/papyrus/lib/python3.8/site-packages/sqlalchemy/engine/base.py:1498\u001b[0m, in \u001b[0;36mConnection._execute_clauseelement\u001b[0;34m(self, elem, multiparams, params, execution_options)\u001b[0m\n\u001b[1;32m   1486\u001b[0m compiled_cache \u001b[38;5;241m=\u001b[39m execution_options\u001b[38;5;241m.\u001b[39mget(\n\u001b[1;32m   1487\u001b[0m     \u001b[38;5;124m\"\u001b[39m\u001b[38;5;124mcompiled_cache\u001b[39m\u001b[38;5;124m\"\u001b[39m, \u001b[38;5;28mself\u001b[39m\u001b[38;5;241m.\u001b[39mengine\u001b[38;5;241m.\u001b[39m_compiled_cache\n\u001b[1;32m   1488\u001b[0m )\n\u001b[1;32m   1490\u001b[0m compiled_sql, extracted_params, cache_hit \u001b[38;5;241m=\u001b[39m elem\u001b[38;5;241m.\u001b[39m_compile_w_cache(\n\u001b[1;32m   1491\u001b[0m     dialect\u001b[38;5;241m=\u001b[39mdialect,\n\u001b[1;32m   1492\u001b[0m     compiled_cache\u001b[38;5;241m=\u001b[39mcompiled_cache,\n\u001b[0;32m   (...)\u001b[0m\n\u001b[1;32m   1496\u001b[0m     linting\u001b[38;5;241m=\u001b[39m\u001b[38;5;28mself\u001b[39m\u001b[38;5;241m.\u001b[39mdialect\u001b[38;5;241m.\u001b[39mcompiler_linting \u001b[38;5;241m|\u001b[39m compiler\u001b[38;5;241m.\u001b[39mWARN_LINTING,\n\u001b[1;32m   1497\u001b[0m )\n\u001b[0;32m-> 1498\u001b[0m ret \u001b[38;5;241m=\u001b[39m \u001b[38;5;28;43mself\u001b[39;49m\u001b[38;5;241;43m.\u001b[39;49m\u001b[43m_execute_context\u001b[49m\u001b[43m(\u001b[49m\n\u001b[1;32m   1499\u001b[0m \u001b[43m    \u001b[49m\u001b[43mdialect\u001b[49m\u001b[43m,\u001b[49m\n\u001b[1;32m   1500\u001b[0m \u001b[43m    \u001b[49m\u001b[43mdialect\u001b[49m\u001b[38;5;241;43m.\u001b[39;49m\u001b[43mexecution_ctx_cls\u001b[49m\u001b[38;5;241;43m.\u001b[39;49m\u001b[43m_init_compiled\u001b[49m\u001b[43m,\u001b[49m\n\u001b[1;32m   1501\u001b[0m \u001b[43m    \u001b[49m\u001b[43mcompiled_sql\u001b[49m\u001b[43m,\u001b[49m\n\u001b[1;32m   1502\u001b[0m \u001b[43m    \u001b[49m\u001b[43mdistilled_params\u001b[49m\u001b[43m,\u001b[49m\n\u001b[1;32m   1503\u001b[0m \u001b[43m    \u001b[49m\u001b[43mexecution_options\u001b[49m\u001b[43m,\u001b[49m\n\u001b[1;32m   1504\u001b[0m \u001b[43m    \u001b[49m\u001b[43mcompiled_sql\u001b[49m\u001b[43m,\u001b[49m\n\u001b[1;32m   1505\u001b[0m \u001b[43m    \u001b[49m\u001b[43mdistilled_params\u001b[49m\u001b[43m,\u001b[49m\n\u001b[1;32m   1506\u001b[0m \u001b[43m    \u001b[49m\u001b[43melem\u001b[49m\u001b[43m,\u001b[49m\n\u001b[1;32m   1507\u001b[0m \u001b[43m    \u001b[49m\u001b[43mextracted_params\u001b[49m\u001b[43m,\u001b[49m\n\u001b[1;32m   1508\u001b[0m \u001b[43m    \u001b[49m\u001b[43mcache_hit\u001b[49m\u001b[38;5;241;43m=\u001b[39;49m\u001b[43mcache_hit\u001b[49m\u001b[43m,\u001b[49m\n\u001b[1;32m   1509\u001b[0m \u001b[43m\u001b[49m\u001b[43m)\u001b[49m\n\u001b[1;32m   1510\u001b[0m \u001b[38;5;28;01mif\u001b[39;00m has_events:\n\u001b[1;32m   1511\u001b[0m     \u001b[38;5;28mself\u001b[39m\u001b[38;5;241m.\u001b[39mdispatch\u001b[38;5;241m.\u001b[39mafter_execute(\n\u001b[1;32m   1512\u001b[0m         \u001b[38;5;28mself\u001b[39m,\n\u001b[1;32m   1513\u001b[0m         elem,\n\u001b[0;32m   (...)\u001b[0m\n\u001b[1;32m   1517\u001b[0m         ret,\n\u001b[1;32m   1518\u001b[0m     )\n",
      "File \u001b[0;32m/opt/conda/envs/papyrus/lib/python3.8/site-packages/sqlalchemy/engine/base.py:1862\u001b[0m, in \u001b[0;36mConnection._execute_context\u001b[0;34m(self, dialect, constructor, statement, parameters, execution_options, *args, **kw)\u001b[0m\n\u001b[1;32m   1859\u001b[0m             branched\u001b[38;5;241m.\u001b[39mclose()\n\u001b[1;32m   1861\u001b[0m \u001b[38;5;28;01mexcept\u001b[39;00m \u001b[38;5;167;01mBaseException\u001b[39;00m \u001b[38;5;28;01mas\u001b[39;00m e:\n\u001b[0;32m-> 1862\u001b[0m     \u001b[38;5;28;43mself\u001b[39;49m\u001b[38;5;241;43m.\u001b[39;49m\u001b[43m_handle_dbapi_exception\u001b[49m\u001b[43m(\u001b[49m\n\u001b[1;32m   1863\u001b[0m \u001b[43m        \u001b[49m\u001b[43me\u001b[49m\u001b[43m,\u001b[49m\u001b[43m \u001b[49m\u001b[43mstatement\u001b[49m\u001b[43m,\u001b[49m\u001b[43m \u001b[49m\u001b[43mparameters\u001b[49m\u001b[43m,\u001b[49m\u001b[43m \u001b[49m\u001b[43mcursor\u001b[49m\u001b[43m,\u001b[49m\u001b[43m \u001b[49m\u001b[43mcontext\u001b[49m\n\u001b[1;32m   1864\u001b[0m \u001b[43m    \u001b[49m\u001b[43m)\u001b[49m\n\u001b[1;32m   1866\u001b[0m \u001b[38;5;28;01mreturn\u001b[39;00m result\n",
      "File \u001b[0;32m/opt/conda/envs/papyrus/lib/python3.8/site-packages/sqlalchemy/engine/base.py:2047\u001b[0m, in \u001b[0;36mConnection._handle_dbapi_exception\u001b[0;34m(self, e, statement, parameters, cursor, context)\u001b[0m\n\u001b[1;32m   2043\u001b[0m         util\u001b[38;5;241m.\u001b[39mraise_(\n\u001b[1;32m   2044\u001b[0m             sqlalchemy_exception, with_traceback\u001b[38;5;241m=\u001b[39mexc_info[\u001b[38;5;241m2\u001b[39m], from_\u001b[38;5;241m=\u001b[39me\n\u001b[1;32m   2045\u001b[0m         )\n\u001b[1;32m   2046\u001b[0m     \u001b[38;5;28;01melse\u001b[39;00m:\n\u001b[0;32m-> 2047\u001b[0m         \u001b[43mutil\u001b[49m\u001b[38;5;241;43m.\u001b[39;49m\u001b[43mraise_\u001b[49m\u001b[43m(\u001b[49m\u001b[43mexc_info\u001b[49m\u001b[43m[\u001b[49m\u001b[38;5;241;43m1\u001b[39;49m\u001b[43m]\u001b[49m\u001b[43m,\u001b[49m\u001b[43m \u001b[49m\u001b[43mwith_traceback\u001b[49m\u001b[38;5;241;43m=\u001b[39;49m\u001b[43mexc_info\u001b[49m\u001b[43m[\u001b[49m\u001b[38;5;241;43m2\u001b[39;49m\u001b[43m]\u001b[49m\u001b[43m)\u001b[49m\n\u001b[1;32m   2049\u001b[0m \u001b[38;5;28;01mfinally\u001b[39;00m:\n\u001b[1;32m   2050\u001b[0m     \u001b[38;5;28;01mdel\u001b[39;00m \u001b[38;5;28mself\u001b[39m\u001b[38;5;241m.\u001b[39m_reentrant_error\n",
      "File \u001b[0;32m/opt/conda/envs/papyrus/lib/python3.8/site-packages/sqlalchemy/util/compat.py:207\u001b[0m, in \u001b[0;36mraise_\u001b[0;34m(***failed resolving arguments***)\u001b[0m\n\u001b[1;32m    204\u001b[0m     exception\u001b[38;5;241m.\u001b[39m__cause__ \u001b[38;5;241m=\u001b[39m replace_context\n\u001b[1;32m    206\u001b[0m \u001b[38;5;28;01mtry\u001b[39;00m:\n\u001b[0;32m--> 207\u001b[0m     \u001b[38;5;28;01mraise\u001b[39;00m exception\n\u001b[1;32m    208\u001b[0m \u001b[38;5;28;01mfinally\u001b[39;00m:\n\u001b[1;32m    209\u001b[0m     \u001b[38;5;66;03m# credit to\u001b[39;00m\n\u001b[1;32m    210\u001b[0m     \u001b[38;5;66;03m# https://cosmicpercolator.com/2016/01/13/exception-leaks-in-python-2-and-3/\u001b[39;00m\n\u001b[1;32m    211\u001b[0m     \u001b[38;5;66;03m# as the __traceback__ object creates a cycle\u001b[39;00m\n\u001b[1;32m    212\u001b[0m     \u001b[38;5;28;01mdel\u001b[39;00m exception, replace_context, from_, with_traceback\n",
      "File \u001b[0;32m/opt/conda/envs/papyrus/lib/python3.8/site-packages/sqlalchemy/engine/base.py:1819\u001b[0m, in \u001b[0;36mConnection._execute_context\u001b[0;34m(self, dialect, constructor, statement, parameters, execution_options, *args, **kw)\u001b[0m\n\u001b[1;32m   1817\u001b[0m                 \u001b[38;5;28;01mbreak\u001b[39;00m\n\u001b[1;32m   1818\u001b[0m     \u001b[38;5;28;01mif\u001b[39;00m \u001b[38;5;129;01mnot\u001b[39;00m evt_handled:\n\u001b[0;32m-> 1819\u001b[0m         \u001b[38;5;28;43mself\u001b[39;49m\u001b[38;5;241;43m.\u001b[39;49m\u001b[43mdialect\u001b[49m\u001b[38;5;241;43m.\u001b[39;49m\u001b[43mdo_execute\u001b[49m\u001b[43m(\u001b[49m\n\u001b[1;32m   1820\u001b[0m \u001b[43m            \u001b[49m\u001b[43mcursor\u001b[49m\u001b[43m,\u001b[49m\u001b[43m \u001b[49m\u001b[43mstatement\u001b[49m\u001b[43m,\u001b[49m\u001b[43m \u001b[49m\u001b[43mparameters\u001b[49m\u001b[43m,\u001b[49m\u001b[43m \u001b[49m\u001b[43mcontext\u001b[49m\n\u001b[1;32m   1821\u001b[0m \u001b[43m        \u001b[49m\u001b[43m)\u001b[49m\n\u001b[1;32m   1823\u001b[0m \u001b[38;5;28;01mif\u001b[39;00m \u001b[38;5;28mself\u001b[39m\u001b[38;5;241m.\u001b[39m_has_events \u001b[38;5;129;01mor\u001b[39;00m \u001b[38;5;28mself\u001b[39m\u001b[38;5;241m.\u001b[39mengine\u001b[38;5;241m.\u001b[39m_has_events:\n\u001b[1;32m   1824\u001b[0m     \u001b[38;5;28mself\u001b[39m\u001b[38;5;241m.\u001b[39mdispatch\u001b[38;5;241m.\u001b[39mafter_cursor_execute(\n\u001b[1;32m   1825\u001b[0m         \u001b[38;5;28mself\u001b[39m,\n\u001b[1;32m   1826\u001b[0m         cursor,\n\u001b[0;32m   (...)\u001b[0m\n\u001b[1;32m   1830\u001b[0m         context\u001b[38;5;241m.\u001b[39mexecutemany,\n\u001b[1;32m   1831\u001b[0m     )\n",
      "File \u001b[0;32m/opt/conda/envs/papyrus/lib/python3.8/site-packages/sqlalchemy/engine/default.py:732\u001b[0m, in \u001b[0;36mDefaultDialect.do_execute\u001b[0;34m(self, cursor, statement, parameters, context)\u001b[0m\n\u001b[1;32m    731\u001b[0m \u001b[38;5;28;01mdef\u001b[39;00m \u001b[38;5;21mdo_execute\u001b[39m(\u001b[38;5;28mself\u001b[39m, cursor, statement, parameters, context\u001b[38;5;241m=\u001b[39m\u001b[38;5;28;01mNone\u001b[39;00m):\n\u001b[0;32m--> 732\u001b[0m     \u001b[43mcursor\u001b[49m\u001b[38;5;241;43m.\u001b[39;49m\u001b[43mexecute\u001b[49m\u001b[43m(\u001b[49m\u001b[43mstatement\u001b[49m\u001b[43m,\u001b[49m\u001b[43m \u001b[49m\u001b[43mparameters\u001b[49m\u001b[43m)\u001b[49m\n",
      "\u001b[0;31mKeyboardInterrupt\u001b[0m: "
     ]
    }
   ],
   "source": [
    "reader = pd.read_csv(activity_data, sep='\\t', compression='xz', chunksize = 1000000, iterator=True, dtype=dtypes)\n",
    "\n",
    "for (i,df) in enumerate(reader):\n",
    "    # process each data frame\n",
    "    print(f'processing chunk {i}')\n",
    "    process_activity_frame(df)\n",
    "    gc.collect()\n"
   ]
  },
  {
   "cell_type": "code",
   "execution_count": null,
   "id": "e6208dc3",
   "metadata": {},
   "outputs": [],
   "source": [
    "import dask.dataframe as dd\n",
    "\n",
    "ddata = dd.from_pandas(df)"
   ]
  },
  {
   "cell_type": "code",
   "execution_count": null,
   "id": "a240a9bf",
   "metadata": {},
   "outputs": [],
   "source": [
    "url = os.environ.get('SQLALCHEMY_URL')"
   ]
  },
  {
   "cell_type": "code",
   "execution_count": null,
   "id": "00ddbe89",
   "metadata": {},
   "outputs": [],
   "source": [
    "url"
   ]
  },
  {
   "cell_type": "code",
   "execution_count": null,
   "id": "f9d7c81b",
   "metadata": {},
   "outputs": [],
   "source": []
  }
 ],
 "metadata": {
  "kernelspec": {
   "display_name": "Python 3 (ipykernel)",
   "language": "python",
   "name": "python3"
  },
  "language_info": {
   "codemirror_mode": {
    "name": "ipython",
    "version": 3
   },
   "file_extension": ".py",
   "mimetype": "text/x-python",
   "name": "python",
   "nbconvert_exporter": "python",
   "pygments_lexer": "ipython3",
   "version": "3.8.13"
  }
 },
 "nbformat": 4,
 "nbformat_minor": 5
}
