{
 "cells": [
  {
   "cell_type": "code",
   "execution_count": 2,
   "id": "6ebba8d6",
   "metadata": {},
   "outputs": [
    {
     "name": "stderr",
     "output_type": "stream",
     "text": [
      "/tmp/ipykernel_19158/1042911802.py:10: SADeprecationWarning: The create_engine.convert_unicode parameter and corresponding dialect-level parameters are deprecated, and will be removed in a future release.  Modern DBAPIs support Python Unicode natively and this parameter is unnecessary.\n",
      "  engine = create_engine(\n",
      "/tmp/ipykernel_19158/1042911802.py:19: SAWarning: relationship 'Protein.classification' will copy column protein.target_id to column ProteinClassification.protein_id, which conflicts with relationship(s): 'Classification.protein' (copies protein.target_id to ProteinClassification.protein_id), 'Protein.classifications' (copies protein.target_id to ProteinClassification.protein_id). If this is not the intention, consider if these relationships should be linked with back_populates, or if viewonly=True should be applied to one or more if they are read-only. For the less common case that foreign key constraints are partially overlapping, the orm.foreign() annotation can be used to isolate the columns that should be written towards.   To silence this warning, add the parameter 'overlaps=\"classifications,protein\"' to the 'Protein.classification' relationship. (Background on this error at: https://sqlalche.me/e/14/qzyx)\n",
      "  mol_data = session.query(Molecule.id, Molecule.smiles, Molecule.inchi_auxinfo).all()\n",
      "/tmp/ipykernel_19158/1042911802.py:19: SAWarning: relationship 'Protein.classification' will copy column classification.id to column ProteinClassification.classification_id, which conflicts with relationship(s): 'Classification.protein' (copies classification.id to ProteinClassification.classification_id), 'Protein.classifications' (copies classification.id to ProteinClassification.classification_id). If this is not the intention, consider if these relationships should be linked with back_populates, or if viewonly=True should be applied to one or more if they are read-only. For the less common case that foreign key constraints are partially overlapping, the orm.foreign() annotation can be used to isolate the columns that should be written towards.   To silence this warning, add the parameter 'overlaps=\"classifications,protein\"' to the 'Protein.classification' relationship. (Background on this error at: https://sqlalche.me/e/14/qzyx)\n",
      "  mol_data = session.query(Molecule.id, Molecule.smiles, Molecule.inchi_auxinfo).all()\n",
      "/tmp/ipykernel_19158/1042911802.py:19: SAWarning: relationship 'Classification.proteins' will copy column classification.id to column ProteinClassification.classification_id, which conflicts with relationship(s): 'Classification.protein' (copies classification.id to ProteinClassification.classification_id), 'Protein.classifications' (copies classification.id to ProteinClassification.classification_id). If this is not the intention, consider if these relationships should be linked with back_populates, or if viewonly=True should be applied to one or more if they are read-only. For the less common case that foreign key constraints are partially overlapping, the orm.foreign() annotation can be used to isolate the columns that should be written towards.   To silence this warning, add the parameter 'overlaps=\"classifications,protein\"' to the 'Classification.proteins' relationship. (Background on this error at: https://sqlalche.me/e/14/qzyx)\n",
      "  mol_data = session.query(Molecule.id, Molecule.smiles, Molecule.inchi_auxinfo).all()\n",
      "/tmp/ipykernel_19158/1042911802.py:19: SAWarning: relationship 'Classification.proteins' will copy column protein.target_id to column ProteinClassification.protein_id, which conflicts with relationship(s): 'Classification.protein' (copies protein.target_id to ProteinClassification.protein_id), 'Protein.classifications' (copies protein.target_id to ProteinClassification.protein_id). If this is not the intention, consider if these relationships should be linked with back_populates, or if viewonly=True should be applied to one or more if they are read-only. For the less common case that foreign key constraints are partially overlapping, the orm.foreign() annotation can be used to isolate the columns that should be written towards.   To silence this warning, add the parameter 'overlaps=\"classifications,protein\"' to the 'Classification.proteins' relationship. (Background on this error at: https://sqlalche.me/e/14/qzyx)\n",
      "  mol_data = session.query(Molecule.id, Molecule.smiles, Molecule.inchi_auxinfo).all()\n"
     ]
    }
   ],
   "source": [
    "import sys\n",
    "sys.path.append('/code')\n",
    "from sqlalchemy import create_engine\n",
    "from sqlalchemy.orm import scoped_session\n",
    "from sqlalchemy.orm import sessionmaker\n",
    "import os\n",
    "from database.models import Molecule\n",
    "\n",
    "def get_db_session():\n",
    "    engine = create_engine(\n",
    "        os.environ.get('SQLALCHEMY_URL'), convert_unicode=True,\n",
    "        pool_recycle=3600, pool_size=10)\n",
    "    db_session = scoped_session(sessionmaker(\n",
    "        autocommit=False, autoflush=False, bind=engine))\n",
    "    \n",
    "    return db_session\n",
    "\n",
    "session = get_db_session()\n",
    "mol_data = session.query(Molecule.id, Molecule.smiles, Molecule.inchi_auxinfo).all()"
   ]
  },
  {
   "cell_type": "code",
   "execution_count": 4,
   "id": "2b3f993b",
   "metadata": {},
   "outputs": [
    {
     "data": {
      "text/plain": [
       "(1839826, 'CCCCC(=O)OCc1cn(-c2ccc(Cl)cc2)nn1', '\"AuxInfo=1/0/N:1,2,3,4,14,17,13,18,10,8,15,9,12,5,16,20,19,11,6,7/E:(5,6)(7,8)/rA:20CCCCCOOCCCNCCCCClCCNN/rB:s1;s2;s3;s4;d5;s5;s7;s8;d9;s10;s11;d12;s13;d14;s15;s15;s12d17;s11;s9d19;/rC:;;;;;;;;;;;;;;;;;;;;\"')"
      ]
     },
     "execution_count": 4,
     "metadata": {},
     "output_type": "execute_result"
    }
   ],
   "source": [
    "mol_data[0]"
   ]
  },
  {
   "cell_type": "code",
   "execution_count": 5,
   "id": "e89675c3",
   "metadata": {},
   "outputs": [
    {
     "data": {
      "text/plain": [
       "[1839826, 1080841]"
      ]
     },
     "execution_count": 5,
     "metadata": {},
     "output_type": "execute_result"
    }
   ],
   "source": [
    "[d[0] for d in mol_data if d[1]=='CCCCC(=O)OCc1cn(-c2ccc(Cl)cc2)nn1' and d[2]=='\"AuxInfo=1/0/N:1,2,3,4,14,17,13,18,10,8,15,9,12,5,16,20,19,11,6,7/E:(5,6)(7,8)/rA:20CCCCCOOCCCNCCCCClCCNN/rB:s1;s2;s3;s4;d5;s5;s7;s8;d9;s10;s11;d12;s13;d14;s15;s15;s12d17;s11;s9d19;/rC:;;;;;;;;;;;;;;;;;;;;\"']"
   ]
  },
  {
   "cell_type": "code",
   "execution_count": null,
   "id": "8f33da12",
   "metadata": {},
   "outputs": [],
   "source": []
  }
 ],
 "metadata": {
  "kernelspec": {
   "display_name": "Python 3 (ipykernel)",
   "language": "python",
   "name": "python3"
  },
  "language_info": {
   "codemirror_mode": {
    "name": "ipython",
    "version": 3
   },
   "file_extension": ".py",
   "mimetype": "text/x-python",
   "name": "python",
   "nbconvert_exporter": "python",
   "pygments_lexer": "ipython3",
   "version": "3.8.13"
  }
 },
 "nbformat": 4,
 "nbformat_minor": 5
}
