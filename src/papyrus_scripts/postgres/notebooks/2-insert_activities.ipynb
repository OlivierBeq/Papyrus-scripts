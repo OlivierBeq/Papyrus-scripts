{
 "cells": [
  {
   "cell_type": "markdown",
   "id": "3b15b187",
   "metadata": {},
   "source": [
    "# Add activity data"
   ]
  },
  {
   "cell_type": "code",
   "execution_count": 38,
   "id": "f9d7c81b",
   "metadata": {},
   "outputs": [
    {
     "name": "stderr",
     "output_type": "stream",
     "text": [
      "/tmp/ipykernel_364/3719342303.py:25: SADeprecationWarning: The create_engine.convert_unicode parameter and corresponding dialect-level parameters are deprecated, and will be removed in a future release.  Modern DBAPIs support Python Unicode natively and this parameter is unnecessary.\n",
      "  engine = create_engine(\n",
      "100%|███████████████████████████████████████████████████████████████████████████████████████████████████████████████████████████████████████████████████████████████████████████████████████████████████████████████████████████████████████| 1425005/1425005 [00:05<00:00, 251430.40it/s]\n"
     ]
    }
   ],
   "source": [
    "import sys\n",
    "sys.path.append('/code')\n",
    "\n",
    "from database.models import (Protein, Organism, Classification, Molecule, Activity, ActivityType, Source, Quality, CID)\n",
    "\n",
    "from sqlalchemy import create_engine\n",
    "from sqlalchemy.orm import scoped_session\n",
    "from sqlalchemy.orm import sessionmaker\n",
    "import os\n",
    "import glob\n",
    "\n",
    "import pandas as pd\n",
    "import numpy as np\n",
    "import json\n",
    "\n",
    "import multiprocessing\n",
    "import gc\n",
    "from tqdm import tqdm\n",
    "from copy import copy\n",
    "import numpy as np\n",
    "\n",
    "from rdkit import Chem\n",
    "\n",
    "def get_db_session():\n",
    "    engine = create_engine(\n",
    "        os.environ.get('SQLALCHEMY_URL'), convert_unicode=True,\n",
    "        pool_recycle=3600, pool_size=10)\n",
    "    db_session = scoped_session(sessionmaker(\n",
    "        autocommit=False, autoflush=False, bind=engine))\n",
    "    \n",
    "    return db_session\n",
    "\n",
    "\n",
    "class TypeDecoder(json.JSONDecoder):\n",
    "    \"\"\"Custom json decoder to support types as values.\"\"\"\n",
    "\n",
    "    def __init__(self, *args, **kwargs):\n",
    "        \"\"\"Simple json decoder handling types as values.\"\"\"\n",
    "        json.JSONDecoder.__init__(self, object_hook=self.object_hook, *args, **kwargs)\n",
    "\n",
    "    def object_hook(self, obj):\n",
    "        \"\"\"Handle types.\"\"\"\n",
    "        if '__type__' not in obj:\n",
    "            return obj\n",
    "        module = obj['__type__']['module']\n",
    "        type_ = obj['__type__']['type']\n",
    "        if module == 'builtins':\n",
    "            return getattr(__builtins__, type_)\n",
    "        loaded_module = importlib.import_module(module)\n",
    "        return getattr(loaded_module, type_)\n",
    "    \n",
    "\n",
    "# get neccessary molecule data as list of tuples\n",
    "session = get_db_session()\n",
    "mol_data = session.query(Molecule.id, Molecule.smiles, Molecule.inchi_auxinfo).all()\n",
    "mol_ids = {}\n",
    "for t in tqdm(mol_data):\n",
    "    combo = f'{t[1]}_{t[2]}'\n",
    "    if not combo in mol_ids.keys():\n",
    "        mol_ids[combo] = [t[0]]\n",
    "    else:\n",
    "        mol_ids[combo].append(t[0])\n",
    "\n",
    "# add activity types\n",
    "types = ['EC50', 'IC50', 'KD', 'Ki', 'other']\n",
    "atypes = [ActivityType(type=t) for t in types]\n",
    "session.add_all(atypes)\n",
    "session.commit()\n",
    "\n",
    "# return ids for activity types as dict\n",
    "types = dict(session.query(ActivityType.type, ActivityType.id).all())\n",
    "\n",
    "# add qualities\n",
    "qualities = [\"High\",\"Low\",\"Medium\",\"Medium;Low\",\"Low;Medium\"]\n",
    "qs = [Quality(quality=q) for q in qualities]\n",
    "session.add_all(qs)\n",
    "session.commit()\n",
    "\n",
    "# return ids for qualities as list of tuples\n",
    "qualities = dict(session.query(Quality.quality,Quality.id).all())\n",
    "\n",
    "# get all targets - probably don't need this \n",
    "targets = session.query(Protein.target_id).all()\n",
    "\n",
    "pchembl_val_list = lambda pchembl_values: ([v.rstrip() for v in pchembl_values.split(';')])\n",
    "smiles = lambda smi: (Chem.CanonSmiles(smi))\n",
    "\n",
    "converters = {\n",
    "    'SMILES':smiles,\n",
    "    'pchembl_value':pchembl_val_list\n",
    "}\n",
    "\n",
    "dtype_file = '../.data/papyrus/05.5/data_types.json'\n",
    "activity_data = '../.data/papyrus/05.5/05.5_combined_set_without_stereochemistry.tsv.xz'\n",
    "\n",
    "with open(dtype_file, 'r') as jsonfile:\n",
    "        dtypes = json.load(jsonfile, cls=TypeDecoder)['papyrus']\n",
    "\n",
    "# all columns needed to process activity data\n",
    "activity_columns = ['Activity_ID', 'SMILES', 'InChI_AuxInfo', 'accession', 'Protein_Type', 'AID', 'doc_id',\n",
    "                    'Year', 'type_IC50', 'type_EC50', 'type_KD', 'type_Ki', 'relation', 'pchembl_value',\n",
    "                    'pchembl_value_Mean', 'pchembl_value_StdDev', 'pchembl_value_SEM', 'pchembl_value_N', \n",
    "                    'pchembl_value_Median', 'pchembl_value_MAD','Quality'\n",
    "                   ]\n",
    "\n",
    "activity_reader = pd.read_csv(activity_data, \n",
    "                     sep='\\t', \n",
    "                     compression='xz', \n",
    "                     chunksize = 10000, \n",
    "                     iterator=True, \n",
    "                     dtype=dtypes,\n",
    "                     converters=converters,\n",
    "                     usecols=activity_columns\n",
    "                    )\n",
    "\n"
   ]
  },
  {
   "cell_type": "code",
   "execution_count": 42,
   "id": "4e706abe",
   "metadata": {},
   "outputs": [
    {
     "name": "stderr",
     "output_type": "stream",
     "text": [
      "/tmp/ipykernel_364/3853139118.py:94: ParserWarning: Both a converter and dtype were specified for column SMILES - only the converter will be used.\n",
      "  for i,df in enumerate(activity_reader):\n",
      "/tmp/ipykernel_364/3853139118.py:94: ParserWarning: Both a converter and dtype were specified for column pchembl_value - only the converter will be used.\n",
      "  for i,df in enumerate(activity_reader):\n",
      "/tmp/ipykernel_364/3853139118.py:94: ParserWarning: Both a converter and dtype were specified for column SMILES - only the converter will be used.\n",
      "  for i,df in enumerate(activity_reader):\n",
      "/tmp/ipykernel_364/3853139118.py:94: ParserWarning: Both a converter and dtype were specified for column pchembl_value - only the converter will be used.\n",
      "  for i,df in enumerate(activity_reader):\n",
      "/tmp/ipykernel_364/3853139118.py:94: ParserWarning: Both a converter and dtype were specified for column SMILES - only the converter will be used.\n",
      "  for i,df in enumerate(activity_reader):\n",
      "/tmp/ipykernel_364/3853139118.py:94: ParserWarning: Both a converter and dtype were specified for column pchembl_value - only the converter will be used.\n",
      "  for i,df in enumerate(activity_reader):\n",
      "/tmp/ipykernel_364/3853139118.py:94: ParserWarning: Both a converter and dtype were specified for column SMILES - only the converter will be used.\n",
      "  for i,df in enumerate(activity_reader):\n",
      "/tmp/ipykernel_364/3853139118.py:94: ParserWarning: Both a converter and dtype were specified for column pchembl_value - only the converter will be used.\n",
      "  for i,df in enumerate(activity_reader):\n",
      "/tmp/ipykernel_364/3853139118.py:94: ParserWarning: Both a converter and dtype were specified for column SMILES - only the converter will be used.\n",
      "  for i,df in enumerate(activity_reader):\n",
      "/tmp/ipykernel_364/3853139118.py:94: ParserWarning: Both a converter and dtype were specified for column pchembl_value - only the converter will be used.\n",
      "  for i,df in enumerate(activity_reader):\n",
      "/tmp/ipykernel_364/3853139118.py:94: ParserWarning: Both a converter and dtype were specified for column SMILES - only the converter will be used.\n",
      "  for i,df in enumerate(activity_reader):\n",
      "/tmp/ipykernel_364/3853139118.py:94: ParserWarning: Both a converter and dtype were specified for column pchembl_value - only the converter will be used.\n",
      "  for i,df in enumerate(activity_reader):\n",
      "/tmp/ipykernel_364/3853139118.py:94: ParserWarning: Both a converter and dtype were specified for column SMILES - only the converter will be used.\n",
      "  for i,df in enumerate(activity_reader):\n",
      "/tmp/ipykernel_364/3853139118.py:94: ParserWarning: Both a converter and dtype were specified for column pchembl_value - only the converter will be used.\n",
      "  for i,df in enumerate(activity_reader):\n",
      "/tmp/ipykernel_364/3853139118.py:94: ParserWarning: Both a converter and dtype were specified for column SMILES - only the converter will be used.\n",
      "  for i,df in enumerate(activity_reader):\n",
      "/tmp/ipykernel_364/3853139118.py:94: ParserWarning: Both a converter and dtype were specified for column pchembl_value - only the converter will be used.\n",
      "  for i,df in enumerate(activity_reader):\n",
      "/tmp/ipykernel_364/3853139118.py:94: ParserWarning: Both a converter and dtype were specified for column SMILES - only the converter will be used.\n",
      "  for i,df in enumerate(activity_reader):\n",
      "/tmp/ipykernel_364/3853139118.py:94: ParserWarning: Both a converter and dtype were specified for column pchembl_value - only the converter will be used.\n",
      "  for i,df in enumerate(activity_reader):\n",
      "/tmp/ipykernel_364/3853139118.py:94: ParserWarning: Both a converter and dtype were specified for column SMILES - only the converter will be used.\n",
      "  for i,df in enumerate(activity_reader):\n",
      "/tmp/ipykernel_364/3853139118.py:94: ParserWarning: Both a converter and dtype were specified for column pchembl_value - only the converter will be used.\n",
      "  for i,df in enumerate(activity_reader):\n",
      "/tmp/ipykernel_364/3853139118.py:94: ParserWarning: Both a converter and dtype were specified for column SMILES - only the converter will be used.\n",
      "  for i,df in enumerate(activity_reader):\n",
      "/tmp/ipykernel_364/3853139118.py:94: ParserWarning: Both a converter and dtype were specified for column pchembl_value - only the converter will be used.\n",
      "  for i,df in enumerate(activity_reader):\n",
      "/tmp/ipykernel_364/3853139118.py:94: ParserWarning: Both a converter and dtype were specified for column SMILES - only the converter will be used.\n",
      "  for i,df in enumerate(activity_reader):\n",
      "/tmp/ipykernel_364/3853139118.py:94: ParserWarning: Both a converter and dtype were specified for column pchembl_value - only the converter will be used.\n",
      "  for i,df in enumerate(activity_reader):\n",
      "/tmp/ipykernel_364/3853139118.py:94: ParserWarning: Both a converter and dtype were specified for column SMILES - only the converter will be used.\n",
      "  for i,df in enumerate(activity_reader):\n",
      "/tmp/ipykernel_364/3853139118.py:94: ParserWarning: Both a converter and dtype were specified for column pchembl_value - only the converter will be used.\n",
      "  for i,df in enumerate(activity_reader):\n",
      "/tmp/ipykernel_364/3853139118.py:94: ParserWarning: Both a converter and dtype were specified for column SMILES - only the converter will be used.\n",
      "  for i,df in enumerate(activity_reader):\n",
      "/tmp/ipykernel_364/3853139118.py:94: ParserWarning: Both a converter and dtype were specified for column pchembl_value - only the converter will be used.\n",
      "  for i,df in enumerate(activity_reader):\n",
      "/tmp/ipykernel_364/3853139118.py:94: ParserWarning: Both a converter and dtype were specified for column SMILES - only the converter will be used.\n",
      "  for i,df in enumerate(activity_reader):\n",
      "/tmp/ipykernel_364/3853139118.py:94: ParserWarning: Both a converter and dtype were specified for column pchembl_value - only the converter will be used.\n",
      "  for i,df in enumerate(activity_reader):\n",
      "/tmp/ipykernel_364/3853139118.py:94: ParserWarning: Both a converter and dtype were specified for column SMILES - only the converter will be used.\n",
      "  for i,df in enumerate(activity_reader):\n",
      "/tmp/ipykernel_364/3853139118.py:94: ParserWarning: Both a converter and dtype were specified for column pchembl_value - only the converter will be used.\n",
      "  for i,df in enumerate(activity_reader):\n",
      "/tmp/ipykernel_364/3853139118.py:94: ParserWarning: Both a converter and dtype were specified for column SMILES - only the converter will be used.\n",
      "  for i,df in enumerate(activity_reader):\n",
      "/tmp/ipykernel_364/3853139118.py:94: ParserWarning: Both a converter and dtype were specified for column pchembl_value - only the converter will be used.\n",
      "  for i,df in enumerate(activity_reader):\n",
      "/tmp/ipykernel_364/3853139118.py:94: ParserWarning: Both a converter and dtype were specified for column SMILES - only the converter will be used.\n",
      "  for i,df in enumerate(activity_reader):\n",
      "/tmp/ipykernel_364/3853139118.py:94: ParserWarning: Both a converter and dtype were specified for column pchembl_value - only the converter will be used.\n",
      "  for i,df in enumerate(activity_reader):\n",
      "/tmp/ipykernel_364/3853139118.py:94: ParserWarning: Both a converter and dtype were specified for column SMILES - only the converter will be used.\n",
      "  for i,df in enumerate(activity_reader):\n",
      "/tmp/ipykernel_364/3853139118.py:94: ParserWarning: Both a converter and dtype were specified for column pchembl_value - only the converter will be used.\n",
      "  for i,df in enumerate(activity_reader):\n",
      "/tmp/ipykernel_364/3853139118.py:94: ParserWarning: Both a converter and dtype were specified for column SMILES - only the converter will be used.\n",
      "  for i,df in enumerate(activity_reader):\n",
      "/tmp/ipykernel_364/3853139118.py:94: ParserWarning: Both a converter and dtype were specified for column pchembl_value - only the converter will be used.\n",
      "  for i,df in enumerate(activity_reader):\n",
      "/tmp/ipykernel_364/3853139118.py:94: ParserWarning: Both a converter and dtype were specified for column SMILES - only the converter will be used.\n",
      "  for i,df in enumerate(activity_reader):\n",
      "/tmp/ipykernel_364/3853139118.py:94: ParserWarning: Both a converter and dtype were specified for column pchembl_value - only the converter will be used.\n",
      "  for i,df in enumerate(activity_reader):\n",
      "/tmp/ipykernel_364/3853139118.py:94: ParserWarning: Both a converter and dtype were specified for column SMILES - only the converter will be used.\n",
      "  for i,df in enumerate(activity_reader):\n"
     ]
    },
    {
     "name": "stderr",
     "output_type": "stream",
     "text": [
      "/tmp/ipykernel_364/3853139118.py:94: ParserWarning: Both a converter and dtype were specified for column pchembl_value - only the converter will be used.\n",
      "  for i,df in enumerate(activity_reader):\n",
      "/tmp/ipykernel_364/3853139118.py:94: ParserWarning: Both a converter and dtype were specified for column SMILES - only the converter will be used.\n",
      "  for i,df in enumerate(activity_reader):\n",
      "/tmp/ipykernel_364/3853139118.py:94: ParserWarning: Both a converter and dtype were specified for column pchembl_value - only the converter will be used.\n",
      "  for i,df in enumerate(activity_reader):\n",
      "/tmp/ipykernel_364/3853139118.py:94: ParserWarning: Both a converter and dtype were specified for column SMILES - only the converter will be used.\n",
      "  for i,df in enumerate(activity_reader):\n",
      "/tmp/ipykernel_364/3853139118.py:94: ParserWarning: Both a converter and dtype were specified for column pchembl_value - only the converter will be used.\n",
      "  for i,df in enumerate(activity_reader):\n",
      "/tmp/ipykernel_364/3853139118.py:94: ParserWarning: Both a converter and dtype were specified for column SMILES - only the converter will be used.\n",
      "  for i,df in enumerate(activity_reader):\n",
      "/tmp/ipykernel_364/3853139118.py:94: ParserWarning: Both a converter and dtype were specified for column pchembl_value - only the converter will be used.\n",
      "  for i,df in enumerate(activity_reader):\n",
      "/tmp/ipykernel_364/3853139118.py:94: ParserWarning: Both a converter and dtype were specified for column SMILES - only the converter will be used.\n",
      "  for i,df in enumerate(activity_reader):\n",
      "/tmp/ipykernel_364/3853139118.py:94: ParserWarning: Both a converter and dtype were specified for column pchembl_value - only the converter will be used.\n",
      "  for i,df in enumerate(activity_reader):\n",
      "/tmp/ipykernel_364/3853139118.py:94: ParserWarning: Both a converter and dtype were specified for column SMILES - only the converter will be used.\n",
      "  for i,df in enumerate(activity_reader):\n",
      "/tmp/ipykernel_364/3853139118.py:94: ParserWarning: Both a converter and dtype were specified for column pchembl_value - only the converter will be used.\n",
      "  for i,df in enumerate(activity_reader):\n",
      "/tmp/ipykernel_364/3853139118.py:94: ParserWarning: Both a converter and dtype were specified for column SMILES - only the converter will be used.\n",
      "  for i,df in enumerate(activity_reader):\n",
      "/tmp/ipykernel_364/3853139118.py:94: ParserWarning: Both a converter and dtype were specified for column pchembl_value - only the converter will be used.\n",
      "  for i,df in enumerate(activity_reader):\n",
      "/tmp/ipykernel_364/3853139118.py:94: ParserWarning: Both a converter and dtype were specified for column SMILES - only the converter will be used.\n",
      "  for i,df in enumerate(activity_reader):\n",
      "/tmp/ipykernel_364/3853139118.py:94: ParserWarning: Both a converter and dtype were specified for column pchembl_value - only the converter will be used.\n",
      "  for i,df in enumerate(activity_reader):\n",
      "/tmp/ipykernel_364/3853139118.py:94: ParserWarning: Both a converter and dtype were specified for column SMILES - only the converter will be used.\n",
      "  for i,df in enumerate(activity_reader):\n",
      "/tmp/ipykernel_364/3853139118.py:94: ParserWarning: Both a converter and dtype were specified for column pchembl_value - only the converter will be used.\n",
      "  for i,df in enumerate(activity_reader):\n",
      "/tmp/ipykernel_364/3853139118.py:94: ParserWarning: Both a converter and dtype were specified for column SMILES - only the converter will be used.\n",
      "  for i,df in enumerate(activity_reader):\n",
      "/tmp/ipykernel_364/3853139118.py:94: ParserWarning: Both a converter and dtype were specified for column pchembl_value - only the converter will be used.\n",
      "  for i,df in enumerate(activity_reader):\n",
      "/tmp/ipykernel_364/3853139118.py:94: ParserWarning: Both a converter and dtype were specified for column SMILES - only the converter will be used.\n",
      "  for i,df in enumerate(activity_reader):\n",
      "/tmp/ipykernel_364/3853139118.py:94: ParserWarning: Both a converter and dtype were specified for column pchembl_value - only the converter will be used.\n",
      "  for i,df in enumerate(activity_reader):\n",
      "/tmp/ipykernel_364/3853139118.py:94: ParserWarning: Both a converter and dtype were specified for column SMILES - only the converter will be used.\n",
      "  for i,df in enumerate(activity_reader):\n",
      "/tmp/ipykernel_364/3853139118.py:94: ParserWarning: Both a converter and dtype were specified for column pchembl_value - only the converter will be used.\n",
      "  for i,df in enumerate(activity_reader):\n",
      "/tmp/ipykernel_364/3853139118.py:94: ParserWarning: Both a converter and dtype were specified for column SMILES - only the converter will be used.\n",
      "  for i,df in enumerate(activity_reader):\n",
      "/tmp/ipykernel_364/3853139118.py:94: ParserWarning: Both a converter and dtype were specified for column pchembl_value - only the converter will be used.\n",
      "  for i,df in enumerate(activity_reader):\n",
      "/tmp/ipykernel_364/3853139118.py:94: ParserWarning: Both a converter and dtype were specified for column SMILES - only the converter will be used.\n",
      "  for i,df in enumerate(activity_reader):\n",
      "/tmp/ipykernel_364/3853139118.py:94: ParserWarning: Both a converter and dtype were specified for column pchembl_value - only the converter will be used.\n",
      "  for i,df in enumerate(activity_reader):\n",
      "/tmp/ipykernel_364/3853139118.py:94: ParserWarning: Both a converter and dtype were specified for column SMILES - only the converter will be used.\n",
      "  for i,df in enumerate(activity_reader):\n",
      "/tmp/ipykernel_364/3853139118.py:94: ParserWarning: Both a converter and dtype were specified for column pchembl_value - only the converter will be used.\n",
      "  for i,df in enumerate(activity_reader):\n",
      "/tmp/ipykernel_364/3853139118.py:94: ParserWarning: Both a converter and dtype were specified for column SMILES - only the converter will be used.\n",
      "  for i,df in enumerate(activity_reader):\n",
      "/tmp/ipykernel_364/3853139118.py:94: ParserWarning: Both a converter and dtype were specified for column pchembl_value - only the converter will be used.\n",
      "  for i,df in enumerate(activity_reader):\n",
      "/tmp/ipykernel_364/3853139118.py:94: ParserWarning: Both a converter and dtype were specified for column SMILES - only the converter will be used.\n",
      "  for i,df in enumerate(activity_reader):\n",
      "/tmp/ipykernel_364/3853139118.py:94: ParserWarning: Both a converter and dtype were specified for column pchembl_value - only the converter will be used.\n",
      "  for i,df in enumerate(activity_reader):\n",
      "/tmp/ipykernel_364/3853139118.py:94: ParserWarning: Both a converter and dtype were specified for column SMILES - only the converter will be used.\n",
      "  for i,df in enumerate(activity_reader):\n",
      "/tmp/ipykernel_364/3853139118.py:94: ParserWarning: Both a converter and dtype were specified for column pchembl_value - only the converter will be used.\n",
      "  for i,df in enumerate(activity_reader):\n",
      "/tmp/ipykernel_364/3853139118.py:94: ParserWarning: Both a converter and dtype were specified for column SMILES - only the converter will be used.\n",
      "  for i,df in enumerate(activity_reader):\n",
      "/tmp/ipykernel_364/3853139118.py:94: ParserWarning: Both a converter and dtype were specified for column pchembl_value - only the converter will be used.\n",
      "  for i,df in enumerate(activity_reader):\n",
      "/tmp/ipykernel_364/3853139118.py:94: ParserWarning: Both a converter and dtype were specified for column SMILES - only the converter will be used.\n",
      "  for i,df in enumerate(activity_reader):\n",
      "/tmp/ipykernel_364/3853139118.py:94: ParserWarning: Both a converter and dtype were specified for column pchembl_value - only the converter will be used.\n",
      "  for i,df in enumerate(activity_reader):\n",
      "/tmp/ipykernel_364/3853139118.py:94: ParserWarning: Both a converter and dtype were specified for column SMILES - only the converter will be used.\n",
      "  for i,df in enumerate(activity_reader):\n",
      "/tmp/ipykernel_364/3853139118.py:94: ParserWarning: Both a converter and dtype were specified for column pchembl_value - only the converter will be used.\n",
      "  for i,df in enumerate(activity_reader):\n",
      "/tmp/ipykernel_364/3853139118.py:94: ParserWarning: Both a converter and dtype were specified for column SMILES - only the converter will be used.\n",
      "  for i,df in enumerate(activity_reader):\n",
      "/tmp/ipykernel_364/3853139118.py:94: ParserWarning: Both a converter and dtype were specified for column pchembl_value - only the converter will be used.\n",
      "  for i,df in enumerate(activity_reader):\n"
     ]
    },
    {
     "name": "stderr",
     "output_type": "stream",
     "text": [
      "/tmp/ipykernel_364/3853139118.py:94: ParserWarning: Both a converter and dtype were specified for column SMILES - only the converter will be used.\n",
      "  for i,df in enumerate(activity_reader):\n",
      "/tmp/ipykernel_364/3853139118.py:94: ParserWarning: Both a converter and dtype were specified for column pchembl_value - only the converter will be used.\n",
      "  for i,df in enumerate(activity_reader):\n",
      "/tmp/ipykernel_364/3853139118.py:94: ParserWarning: Both a converter and dtype were specified for column SMILES - only the converter will be used.\n",
      "  for i,df in enumerate(activity_reader):\n",
      "/tmp/ipykernel_364/3853139118.py:94: ParserWarning: Both a converter and dtype were specified for column pchembl_value - only the converter will be used.\n",
      "  for i,df in enumerate(activity_reader):\n"
     ]
    },
    {
     "name": "stdout",
     "output_type": "stream",
     "text": [
      "2200000\n",
      "Start Time = 12:39:37\n"
     ]
    },
    {
     "name": "stderr",
     "output_type": "stream",
     "text": [
      "/tmp/ipykernel_364/3853139118.py:109: SettingWithCopyWarning: \n",
      "A value is trying to be set on a copy of a slice from a DataFrame.\n",
      "Try using .loc[row_indexer,col_indexer] = value instead\n",
      "\n",
      "See the caveats in the documentation: https://pandas.pydata.org/pandas-docs/stable/user_guide/indexing.html#returning-a-view-versus-a-copy\n",
      "  singles['pchembl_value'] = singles['pchembl_value'].map(sval)\n"
     ]
    },
    {
     "name": "stdout",
     "output_type": "stream",
     "text": [
      "End Time = 12:40:01\n"
     ]
    },
    {
     "name": "stderr",
     "output_type": "stream",
     "text": [
      "/tmp/ipykernel_364/3853139118.py:94: ParserWarning: Both a converter and dtype were specified for column SMILES - only the converter will be used.\n",
      "  for i,df in enumerate(activity_reader):\n",
      "/tmp/ipykernel_364/3853139118.py:94: ParserWarning: Both a converter and dtype were specified for column pchembl_value - only the converter will be used.\n",
      "  for i,df in enumerate(activity_reader):\n"
     ]
    },
    {
     "name": "stdout",
     "output_type": "stream",
     "text": [
      "2250000\n",
      "Start Time = 12:40:19\n"
     ]
    },
    {
     "name": "stderr",
     "output_type": "stream",
     "text": [
      "/tmp/ipykernel_364/3853139118.py:109: SettingWithCopyWarning: \n",
      "A value is trying to be set on a copy of a slice from a DataFrame.\n",
      "Try using .loc[row_indexer,col_indexer] = value instead\n",
      "\n",
      "See the caveats in the documentation: https://pandas.pydata.org/pandas-docs/stable/user_guide/indexing.html#returning-a-view-versus-a-copy\n",
      "  singles['pchembl_value'] = singles['pchembl_value'].map(sval)\n"
     ]
    },
    {
     "name": "stdout",
     "output_type": "stream",
     "text": [
      "End Time = 12:40:42\n"
     ]
    },
    {
     "name": "stderr",
     "output_type": "stream",
     "text": [
      "/tmp/ipykernel_364/3853139118.py:94: ParserWarning: Both a converter and dtype were specified for column SMILES - only the converter will be used.\n",
      "  for i,df in enumerate(activity_reader):\n",
      "/tmp/ipykernel_364/3853139118.py:94: ParserWarning: Both a converter and dtype were specified for column pchembl_value - only the converter will be used.\n",
      "  for i,df in enumerate(activity_reader):\n"
     ]
    },
    {
     "name": "stdout",
     "output_type": "stream",
     "text": [
      "2300000\n",
      "Start Time = 12:40:59\n"
     ]
    },
    {
     "name": "stderr",
     "output_type": "stream",
     "text": [
      "/tmp/ipykernel_364/3853139118.py:109: SettingWithCopyWarning: \n",
      "A value is trying to be set on a copy of a slice from a DataFrame.\n",
      "Try using .loc[row_indexer,col_indexer] = value instead\n",
      "\n",
      "See the caveats in the documentation: https://pandas.pydata.org/pandas-docs/stable/user_guide/indexing.html#returning-a-view-versus-a-copy\n",
      "  singles['pchembl_value'] = singles['pchembl_value'].map(sval)\n"
     ]
    },
    {
     "name": "stdout",
     "output_type": "stream",
     "text": [
      "End Time = 12:41:23\n"
     ]
    },
    {
     "name": "stderr",
     "output_type": "stream",
     "text": [
      "/tmp/ipykernel_364/3853139118.py:94: ParserWarning: Both a converter and dtype were specified for column SMILES - only the converter will be used.\n",
      "  for i,df in enumerate(activity_reader):\n",
      "/tmp/ipykernel_364/3853139118.py:94: ParserWarning: Both a converter and dtype were specified for column pchembl_value - only the converter will be used.\n",
      "  for i,df in enumerate(activity_reader):\n"
     ]
    },
    {
     "name": "stdout",
     "output_type": "stream",
     "text": [
      "2350000\n",
      "Start Time = 12:41:40\n"
     ]
    },
    {
     "name": "stderr",
     "output_type": "stream",
     "text": [
      "/tmp/ipykernel_364/3853139118.py:109: SettingWithCopyWarning: \n",
      "A value is trying to be set on a copy of a slice from a DataFrame.\n",
      "Try using .loc[row_indexer,col_indexer] = value instead\n",
      "\n",
      "See the caveats in the documentation: https://pandas.pydata.org/pandas-docs/stable/user_guide/indexing.html#returning-a-view-versus-a-copy\n",
      "  singles['pchembl_value'] = singles['pchembl_value'].map(sval)\n"
     ]
    },
    {
     "name": "stdout",
     "output_type": "stream",
     "text": [
      "End Time = 12:42:03\n"
     ]
    },
    {
     "name": "stderr",
     "output_type": "stream",
     "text": [
      "/tmp/ipykernel_364/3853139118.py:94: ParserWarning: Both a converter and dtype were specified for column SMILES - only the converter will be used.\n",
      "  for i,df in enumerate(activity_reader):\n",
      "/tmp/ipykernel_364/3853139118.py:94: ParserWarning: Both a converter and dtype were specified for column pchembl_value - only the converter will be used.\n",
      "  for i,df in enumerate(activity_reader):\n"
     ]
    },
    {
     "name": "stdout",
     "output_type": "stream",
     "text": [
      "2400000\n",
      "Start Time = 12:42:21\n"
     ]
    },
    {
     "name": "stderr",
     "output_type": "stream",
     "text": [
      "/tmp/ipykernel_364/3853139118.py:109: SettingWithCopyWarning: \n",
      "A value is trying to be set on a copy of a slice from a DataFrame.\n",
      "Try using .loc[row_indexer,col_indexer] = value instead\n",
      "\n",
      "See the caveats in the documentation: https://pandas.pydata.org/pandas-docs/stable/user_guide/indexing.html#returning-a-view-versus-a-copy\n",
      "  singles['pchembl_value'] = singles['pchembl_value'].map(sval)\n"
     ]
    },
    {
     "name": "stdout",
     "output_type": "stream",
     "text": [
      "End Time = 12:42:45\n"
     ]
    },
    {
     "name": "stderr",
     "output_type": "stream",
     "text": [
      "/tmp/ipykernel_364/3853139118.py:94: ParserWarning: Both a converter and dtype were specified for column SMILES - only the converter will be used.\n",
      "  for i,df in enumerate(activity_reader):\n",
      "/tmp/ipykernel_364/3853139118.py:94: ParserWarning: Both a converter and dtype were specified for column pchembl_value - only the converter will be used.\n",
      "  for i,df in enumerate(activity_reader):\n"
     ]
    },
    {
     "name": "stdout",
     "output_type": "stream",
     "text": [
      "2450000\n",
      "Start Time = 12:43:02\n"
     ]
    },
    {
     "name": "stderr",
     "output_type": "stream",
     "text": [
      "/tmp/ipykernel_364/3853139118.py:109: SettingWithCopyWarning: \n",
      "A value is trying to be set on a copy of a slice from a DataFrame.\n",
      "Try using .loc[row_indexer,col_indexer] = value instead\n",
      "\n",
      "See the caveats in the documentation: https://pandas.pydata.org/pandas-docs/stable/user_guide/indexing.html#returning-a-view-versus-a-copy\n",
      "  singles['pchembl_value'] = singles['pchembl_value'].map(sval)\n"
     ]
    },
    {
     "name": "stdout",
     "output_type": "stream",
     "text": [
      "End Time = 12:43:26\n"
     ]
    },
    {
     "name": "stderr",
     "output_type": "stream",
     "text": [
      "/tmp/ipykernel_364/3853139118.py:94: ParserWarning: Both a converter and dtype were specified for column SMILES - only the converter will be used.\n",
      "  for i,df in enumerate(activity_reader):\n",
      "/tmp/ipykernel_364/3853139118.py:94: ParserWarning: Both a converter and dtype were specified for column pchembl_value - only the converter will be used.\n",
      "  for i,df in enumerate(activity_reader):\n"
     ]
    },
    {
     "name": "stdout",
     "output_type": "stream",
     "text": [
      "2500000\n",
      "Start Time = 12:43:44\n"
     ]
    },
    {
     "name": "stderr",
     "output_type": "stream",
     "text": [
      "/tmp/ipykernel_364/3853139118.py:109: SettingWithCopyWarning: \n",
      "A value is trying to be set on a copy of a slice from a DataFrame.\n",
      "Try using .loc[row_indexer,col_indexer] = value instead\n",
      "\n",
      "See the caveats in the documentation: https://pandas.pydata.org/pandas-docs/stable/user_guide/indexing.html#returning-a-view-versus-a-copy\n",
      "  singles['pchembl_value'] = singles['pchembl_value'].map(sval)\n"
     ]
    },
    {
     "name": "stdout",
     "output_type": "stream",
     "text": [
      "End Time = 12:44:05\n"
     ]
    },
    {
     "name": "stderr",
     "output_type": "stream",
     "text": [
      "/tmp/ipykernel_364/3853139118.py:94: ParserWarning: Both a converter and dtype were specified for column SMILES - only the converter will be used.\n",
      "  for i,df in enumerate(activity_reader):\n",
      "/tmp/ipykernel_364/3853139118.py:94: ParserWarning: Both a converter and dtype were specified for column pchembl_value - only the converter will be used.\n",
      "  for i,df in enumerate(activity_reader):\n"
     ]
    },
    {
     "name": "stdout",
     "output_type": "stream",
     "text": [
      "2550000\n",
      "Start Time = 12:44:24\n"
     ]
    },
    {
     "name": "stderr",
     "output_type": "stream",
     "text": [
      "/tmp/ipykernel_364/3853139118.py:109: SettingWithCopyWarning: \n",
      "A value is trying to be set on a copy of a slice from a DataFrame.\n",
      "Try using .loc[row_indexer,col_indexer] = value instead\n",
      "\n",
      "See the caveats in the documentation: https://pandas.pydata.org/pandas-docs/stable/user_guide/indexing.html#returning-a-view-versus-a-copy\n",
      "  singles['pchembl_value'] = singles['pchembl_value'].map(sval)\n"
     ]
    },
    {
     "name": "stdout",
     "output_type": "stream",
     "text": [
      "End Time = 12:44:49\n"
     ]
    },
    {
     "name": "stderr",
     "output_type": "stream",
     "text": [
      "/tmp/ipykernel_364/3853139118.py:94: ParserWarning: Both a converter and dtype were specified for column SMILES - only the converter will be used.\n",
      "  for i,df in enumerate(activity_reader):\n",
      "/tmp/ipykernel_364/3853139118.py:94: ParserWarning: Both a converter and dtype were specified for column pchembl_value - only the converter will be used.\n",
      "  for i,df in enumerate(activity_reader):\n"
     ]
    },
    {
     "name": "stdout",
     "output_type": "stream",
     "text": [
      "2600000\n",
      "Start Time = 12:45:06\n"
     ]
    },
    {
     "name": "stderr",
     "output_type": "stream",
     "text": [
      "/tmp/ipykernel_364/3853139118.py:109: SettingWithCopyWarning: \n",
      "A value is trying to be set on a copy of a slice from a DataFrame.\n",
      "Try using .loc[row_indexer,col_indexer] = value instead\n",
      "\n",
      "See the caveats in the documentation: https://pandas.pydata.org/pandas-docs/stable/user_guide/indexing.html#returning-a-view-versus-a-copy\n",
      "  singles['pchembl_value'] = singles['pchembl_value'].map(sval)\n"
     ]
    },
    {
     "name": "stdout",
     "output_type": "stream",
     "text": [
      "End Time = 12:45:30\n"
     ]
    },
    {
     "name": "stderr",
     "output_type": "stream",
     "text": [
      "/tmp/ipykernel_364/3853139118.py:94: ParserWarning: Both a converter and dtype were specified for column SMILES - only the converter will be used.\n",
      "  for i,df in enumerate(activity_reader):\n",
      "/tmp/ipykernel_364/3853139118.py:94: ParserWarning: Both a converter and dtype were specified for column pchembl_value - only the converter will be used.\n",
      "  for i,df in enumerate(activity_reader):\n"
     ]
    },
    {
     "name": "stdout",
     "output_type": "stream",
     "text": [
      "2650000\n",
      "Start Time = 12:45:48\n"
     ]
    },
    {
     "name": "stderr",
     "output_type": "stream",
     "text": [
      "/tmp/ipykernel_364/3853139118.py:109: SettingWithCopyWarning: \n",
      "A value is trying to be set on a copy of a slice from a DataFrame.\n",
      "Try using .loc[row_indexer,col_indexer] = value instead\n",
      "\n",
      "See the caveats in the documentation: https://pandas.pydata.org/pandas-docs/stable/user_guide/indexing.html#returning-a-view-versus-a-copy\n",
      "  singles['pchembl_value'] = singles['pchembl_value'].map(sval)\n"
     ]
    },
    {
     "name": "stdout",
     "output_type": "stream",
     "text": [
      "End Time = 12:46:11\n"
     ]
    },
    {
     "name": "stderr",
     "output_type": "stream",
     "text": [
      "/tmp/ipykernel_364/3853139118.py:94: ParserWarning: Both a converter and dtype were specified for column SMILES - only the converter will be used.\n",
      "  for i,df in enumerate(activity_reader):\n",
      "/tmp/ipykernel_364/3853139118.py:94: ParserWarning: Both a converter and dtype were specified for column pchembl_value - only the converter will be used.\n",
      "  for i,df in enumerate(activity_reader):\n"
     ]
    },
    {
     "name": "stdout",
     "output_type": "stream",
     "text": [
      "2700000\n",
      "Start Time = 12:46:28\n"
     ]
    },
    {
     "name": "stderr",
     "output_type": "stream",
     "text": [
      "/tmp/ipykernel_364/3853139118.py:109: SettingWithCopyWarning: \n",
      "A value is trying to be set on a copy of a slice from a DataFrame.\n",
      "Try using .loc[row_indexer,col_indexer] = value instead\n",
      "\n",
      "See the caveats in the documentation: https://pandas.pydata.org/pandas-docs/stable/user_guide/indexing.html#returning-a-view-versus-a-copy\n",
      "  singles['pchembl_value'] = singles['pchembl_value'].map(sval)\n"
     ]
    },
    {
     "name": "stdout",
     "output_type": "stream",
     "text": [
      "End Time = 12:46:52\n"
     ]
    },
    {
     "name": "stderr",
     "output_type": "stream",
     "text": [
      "/tmp/ipykernel_364/3853139118.py:94: ParserWarning: Both a converter and dtype were specified for column SMILES - only the converter will be used.\n",
      "  for i,df in enumerate(activity_reader):\n",
      "/tmp/ipykernel_364/3853139118.py:94: ParserWarning: Both a converter and dtype were specified for column pchembl_value - only the converter will be used.\n",
      "  for i,df in enumerate(activity_reader):\n"
     ]
    },
    {
     "name": "stdout",
     "output_type": "stream",
     "text": [
      "2750000\n",
      "Start Time = 12:47:10\n"
     ]
    },
    {
     "name": "stderr",
     "output_type": "stream",
     "text": [
      "/tmp/ipykernel_364/3853139118.py:109: SettingWithCopyWarning: \n",
      "A value is trying to be set on a copy of a slice from a DataFrame.\n",
      "Try using .loc[row_indexer,col_indexer] = value instead\n",
      "\n",
      "See the caveats in the documentation: https://pandas.pydata.org/pandas-docs/stable/user_guide/indexing.html#returning-a-view-versus-a-copy\n",
      "  singles['pchembl_value'] = singles['pchembl_value'].map(sval)\n"
     ]
    },
    {
     "name": "stdout",
     "output_type": "stream",
     "text": [
      "End Time = 12:47:34\n"
     ]
    },
    {
     "name": "stderr",
     "output_type": "stream",
     "text": [
      "/tmp/ipykernel_364/3853139118.py:94: ParserWarning: Both a converter and dtype were specified for column SMILES - only the converter will be used.\n",
      "  for i,df in enumerate(activity_reader):\n",
      "/tmp/ipykernel_364/3853139118.py:94: ParserWarning: Both a converter and dtype were specified for column pchembl_value - only the converter will be used.\n",
      "  for i,df in enumerate(activity_reader):\n"
     ]
    },
    {
     "name": "stdout",
     "output_type": "stream",
     "text": [
      "2800000\n",
      "Start Time = 12:47:52\n"
     ]
    },
    {
     "name": "stderr",
     "output_type": "stream",
     "text": [
      "/tmp/ipykernel_364/3853139118.py:109: SettingWithCopyWarning: \n",
      "A value is trying to be set on a copy of a slice from a DataFrame.\n",
      "Try using .loc[row_indexer,col_indexer] = value instead\n",
      "\n",
      "See the caveats in the documentation: https://pandas.pydata.org/pandas-docs/stable/user_guide/indexing.html#returning-a-view-versus-a-copy\n",
      "  singles['pchembl_value'] = singles['pchembl_value'].map(sval)\n"
     ]
    },
    {
     "name": "stdout",
     "output_type": "stream",
     "text": [
      "End Time = 12:48:15\n"
     ]
    },
    {
     "name": "stderr",
     "output_type": "stream",
     "text": [
      "/tmp/ipykernel_364/3853139118.py:94: ParserWarning: Both a converter and dtype were specified for column SMILES - only the converter will be used.\n",
      "  for i,df in enumerate(activity_reader):\n",
      "/tmp/ipykernel_364/3853139118.py:94: ParserWarning: Both a converter and dtype were specified for column pchembl_value - only the converter will be used.\n",
      "  for i,df in enumerate(activity_reader):\n"
     ]
    },
    {
     "name": "stdout",
     "output_type": "stream",
     "text": [
      "2850000\n",
      "Start Time = 12:48:35\n"
     ]
    },
    {
     "name": "stderr",
     "output_type": "stream",
     "text": [
      "/tmp/ipykernel_364/3853139118.py:109: SettingWithCopyWarning: \n",
      "A value is trying to be set on a copy of a slice from a DataFrame.\n",
      "Try using .loc[row_indexer,col_indexer] = value instead\n",
      "\n",
      "See the caveats in the documentation: https://pandas.pydata.org/pandas-docs/stable/user_guide/indexing.html#returning-a-view-versus-a-copy\n",
      "  singles['pchembl_value'] = singles['pchembl_value'].map(sval)\n"
     ]
    },
    {
     "name": "stdout",
     "output_type": "stream",
     "text": [
      "End Time = 12:48:58\n"
     ]
    },
    {
     "name": "stderr",
     "output_type": "stream",
     "text": [
      "/tmp/ipykernel_364/3853139118.py:94: ParserWarning: Both a converter and dtype were specified for column SMILES - only the converter will be used.\n",
      "  for i,df in enumerate(activity_reader):\n",
      "/tmp/ipykernel_364/3853139118.py:94: ParserWarning: Both a converter and dtype were specified for column pchembl_value - only the converter will be used.\n",
      "  for i,df in enumerate(activity_reader):\n"
     ]
    },
    {
     "name": "stdout",
     "output_type": "stream",
     "text": [
      "2900000\n",
      "Start Time = 12:49:16\n"
     ]
    },
    {
     "name": "stderr",
     "output_type": "stream",
     "text": [
      "/tmp/ipykernel_364/3853139118.py:109: SettingWithCopyWarning: \n",
      "A value is trying to be set on a copy of a slice from a DataFrame.\n",
      "Try using .loc[row_indexer,col_indexer] = value instead\n",
      "\n",
      "See the caveats in the documentation: https://pandas.pydata.org/pandas-docs/stable/user_guide/indexing.html#returning-a-view-versus-a-copy\n",
      "  singles['pchembl_value'] = singles['pchembl_value'].map(sval)\n"
     ]
    },
    {
     "name": "stdout",
     "output_type": "stream",
     "text": [
      "End Time = 12:49:40\n"
     ]
    },
    {
     "name": "stderr",
     "output_type": "stream",
     "text": [
      "/tmp/ipykernel_364/3853139118.py:94: ParserWarning: Both a converter and dtype were specified for column SMILES - only the converter will be used.\n",
      "  for i,df in enumerate(activity_reader):\n",
      "/tmp/ipykernel_364/3853139118.py:94: ParserWarning: Both a converter and dtype were specified for column pchembl_value - only the converter will be used.\n",
      "  for i,df in enumerate(activity_reader):\n"
     ]
    },
    {
     "name": "stdout",
     "output_type": "stream",
     "text": [
      "2950000\n",
      "Start Time = 12:49:54\n"
     ]
    },
    {
     "name": "stderr",
     "output_type": "stream",
     "text": [
      "/tmp/ipykernel_364/3853139118.py:109: SettingWithCopyWarning: \n",
      "A value is trying to be set on a copy of a slice from a DataFrame.\n",
      "Try using .loc[row_indexer,col_indexer] = value instead\n",
      "\n",
      "See the caveats in the documentation: https://pandas.pydata.org/pandas-docs/stable/user_guide/indexing.html#returning-a-view-versus-a-copy\n",
      "  singles['pchembl_value'] = singles['pchembl_value'].map(sval)\n"
     ]
    },
    {
     "name": "stdout",
     "output_type": "stream",
     "text": [
      "End Time = 12:50:11\n"
     ]
    },
    {
     "name": "stderr",
     "output_type": "stream",
     "text": [
      "/tmp/ipykernel_364/3853139118.py:94: ParserWarning: Both a converter and dtype were specified for column SMILES - only the converter will be used.\n",
      "  for i,df in enumerate(activity_reader):\n",
      "/tmp/ipykernel_364/3853139118.py:94: ParserWarning: Both a converter and dtype were specified for column pchembl_value - only the converter will be used.\n",
      "  for i,df in enumerate(activity_reader):\n"
     ]
    },
    {
     "name": "stdout",
     "output_type": "stream",
     "text": [
      "3000000\n",
      "Start Time = 12:50:26\n",
      "End Time = 12:50:43\n"
     ]
    },
    {
     "name": "stderr",
     "output_type": "stream",
     "text": [
      "/tmp/ipykernel_364/3853139118.py:94: ParserWarning: Both a converter and dtype were specified for column SMILES - only the converter will be used.\n",
      "  for i,df in enumerate(activity_reader):\n",
      "/tmp/ipykernel_364/3853139118.py:94: ParserWarning: Both a converter and dtype were specified for column pchembl_value - only the converter will be used.\n",
      "  for i,df in enumerate(activity_reader):\n"
     ]
    },
    {
     "name": "stdout",
     "output_type": "stream",
     "text": [
      "3050000\n",
      "Start Time = 12:50:58\n",
      "End Time = 12:51:12\n"
     ]
    },
    {
     "name": "stderr",
     "output_type": "stream",
     "text": [
      "/tmp/ipykernel_364/3853139118.py:94: ParserWarning: Both a converter and dtype were specified for column SMILES - only the converter will be used.\n",
      "  for i,df in enumerate(activity_reader):\n",
      "/tmp/ipykernel_364/3853139118.py:94: ParserWarning: Both a converter and dtype were specified for column pchembl_value - only the converter will be used.\n",
      "  for i,df in enumerate(activity_reader):\n"
     ]
    },
    {
     "name": "stdout",
     "output_type": "stream",
     "text": [
      "3100000\n",
      "Start Time = 12:51:27\n",
      "End Time = 12:51:44\n"
     ]
    },
    {
     "name": "stderr",
     "output_type": "stream",
     "text": [
      "/tmp/ipykernel_364/3853139118.py:94: ParserWarning: Both a converter and dtype were specified for column SMILES - only the converter will be used.\n",
      "  for i,df in enumerate(activity_reader):\n",
      "/tmp/ipykernel_364/3853139118.py:94: ParserWarning: Both a converter and dtype were specified for column pchembl_value - only the converter will be used.\n",
      "  for i,df in enumerate(activity_reader):\n"
     ]
    },
    {
     "name": "stdout",
     "output_type": "stream",
     "text": [
      "3150000\n",
      "Start Time = 12:51:59\n",
      "End Time = 12:52:15\n"
     ]
    },
    {
     "name": "stderr",
     "output_type": "stream",
     "text": [
      "/tmp/ipykernel_364/3853139118.py:94: ParserWarning: Both a converter and dtype were specified for column SMILES - only the converter will be used.\n",
      "  for i,df in enumerate(activity_reader):\n",
      "/tmp/ipykernel_364/3853139118.py:94: ParserWarning: Both a converter and dtype were specified for column pchembl_value - only the converter will be used.\n",
      "  for i,df in enumerate(activity_reader):\n"
     ]
    },
    {
     "name": "stdout",
     "output_type": "stream",
     "text": [
      "3200000\n",
      "Start Time = 12:52:30\n",
      "End Time = 12:52:45\n"
     ]
    },
    {
     "name": "stderr",
     "output_type": "stream",
     "text": [
      "/tmp/ipykernel_364/3853139118.py:94: ParserWarning: Both a converter and dtype were specified for column SMILES - only the converter will be used.\n",
      "  for i,df in enumerate(activity_reader):\n",
      "/tmp/ipykernel_364/3853139118.py:94: ParserWarning: Both a converter and dtype were specified for column pchembl_value - only the converter will be used.\n",
      "  for i,df in enumerate(activity_reader):\n"
     ]
    },
    {
     "name": "stdout",
     "output_type": "stream",
     "text": [
      "3250000\n",
      "Start Time = 12:53:00\n",
      "End Time = 12:53:17\n"
     ]
    },
    {
     "name": "stderr",
     "output_type": "stream",
     "text": [
      "/tmp/ipykernel_364/3853139118.py:94: ParserWarning: Both a converter and dtype were specified for column SMILES - only the converter will be used.\n",
      "  for i,df in enumerate(activity_reader):\n",
      "/tmp/ipykernel_364/3853139118.py:94: ParserWarning: Both a converter and dtype were specified for column pchembl_value - only the converter will be used.\n",
      "  for i,df in enumerate(activity_reader):\n"
     ]
    },
    {
     "name": "stdout",
     "output_type": "stream",
     "text": [
      "3300000\n",
      "Start Time = 12:53:32\n",
      "End Time = 12:53:49\n"
     ]
    },
    {
     "name": "stderr",
     "output_type": "stream",
     "text": [
      "/tmp/ipykernel_364/3853139118.py:94: ParserWarning: Both a converter and dtype were specified for column SMILES - only the converter will be used.\n",
      "  for i,df in enumerate(activity_reader):\n",
      "/tmp/ipykernel_364/3853139118.py:94: ParserWarning: Both a converter and dtype were specified for column pchembl_value - only the converter will be used.\n",
      "  for i,df in enumerate(activity_reader):\n"
     ]
    },
    {
     "name": "stdout",
     "output_type": "stream",
     "text": [
      "3350000\n",
      "Start Time = 12:54:04\n",
      "End Time = 12:54:18\n"
     ]
    },
    {
     "name": "stderr",
     "output_type": "stream",
     "text": [
      "/tmp/ipykernel_364/3853139118.py:94: ParserWarning: Both a converter and dtype were specified for column SMILES - only the converter will be used.\n",
      "  for i,df in enumerate(activity_reader):\n",
      "/tmp/ipykernel_364/3853139118.py:94: ParserWarning: Both a converter and dtype were specified for column pchembl_value - only the converter will be used.\n",
      "  for i,df in enumerate(activity_reader):\n"
     ]
    },
    {
     "name": "stdout",
     "output_type": "stream",
     "text": [
      "3400000\n",
      "Start Time = 12:54:33\n",
      "End Time = 12:54:50\n"
     ]
    },
    {
     "name": "stderr",
     "output_type": "stream",
     "text": [
      "/tmp/ipykernel_364/3853139118.py:94: ParserWarning: Both a converter and dtype were specified for column SMILES - only the converter will be used.\n",
      "  for i,df in enumerate(activity_reader):\n",
      "/tmp/ipykernel_364/3853139118.py:94: ParserWarning: Both a converter and dtype were specified for column pchembl_value - only the converter will be used.\n",
      "  for i,df in enumerate(activity_reader):\n"
     ]
    },
    {
     "name": "stdout",
     "output_type": "stream",
     "text": [
      "3450000\n",
      "Start Time = 12:55:04\n",
      "End Time = 12:55:18\n"
     ]
    },
    {
     "name": "stderr",
     "output_type": "stream",
     "text": [
      "/tmp/ipykernel_364/3853139118.py:94: ParserWarning: Both a converter and dtype were specified for column SMILES - only the converter will be used.\n",
      "  for i,df in enumerate(activity_reader):\n",
      "/tmp/ipykernel_364/3853139118.py:94: ParserWarning: Both a converter and dtype were specified for column pchembl_value - only the converter will be used.\n",
      "  for i,df in enumerate(activity_reader):\n"
     ]
    },
    {
     "name": "stdout",
     "output_type": "stream",
     "text": [
      "3500000\n",
      "Start Time = 12:55:35\n",
      "End Time = 12:55:49\n"
     ]
    },
    {
     "name": "stderr",
     "output_type": "stream",
     "text": [
      "/tmp/ipykernel_364/3853139118.py:94: ParserWarning: Both a converter and dtype were specified for column SMILES - only the converter will be used.\n",
      "  for i,df in enumerate(activity_reader):\n",
      "/tmp/ipykernel_364/3853139118.py:94: ParserWarning: Both a converter and dtype were specified for column pchembl_value - only the converter will be used.\n",
      "  for i,df in enumerate(activity_reader):\n"
     ]
    },
    {
     "name": "stdout",
     "output_type": "stream",
     "text": [
      "3550000\n",
      "Start Time = 12:56:04\n",
      "End Time = 12:56:20\n"
     ]
    },
    {
     "name": "stderr",
     "output_type": "stream",
     "text": [
      "/tmp/ipykernel_364/3853139118.py:94: ParserWarning: Both a converter and dtype were specified for column SMILES - only the converter will be used.\n",
      "  for i,df in enumerate(activity_reader):\n",
      "/tmp/ipykernel_364/3853139118.py:94: ParserWarning: Both a converter and dtype were specified for column pchembl_value - only the converter will be used.\n",
      "  for i,df in enumerate(activity_reader):\n"
     ]
    },
    {
     "name": "stdout",
     "output_type": "stream",
     "text": [
      "3600000\n",
      "Start Time = 12:56:35\n",
      "End Time = 12:56:49\n"
     ]
    },
    {
     "name": "stderr",
     "output_type": "stream",
     "text": [
      "/tmp/ipykernel_364/3853139118.py:94: ParserWarning: Both a converter and dtype were specified for column SMILES - only the converter will be used.\n",
      "  for i,df in enumerate(activity_reader):\n",
      "/tmp/ipykernel_364/3853139118.py:94: ParserWarning: Both a converter and dtype were specified for column pchembl_value - only the converter will be used.\n",
      "  for i,df in enumerate(activity_reader):\n"
     ]
    },
    {
     "name": "stdout",
     "output_type": "stream",
     "text": [
      "3650000\n",
      "Start Time = 12:57:04\n",
      "End Time = 12:57:20\n"
     ]
    },
    {
     "name": "stderr",
     "output_type": "stream",
     "text": [
      "/tmp/ipykernel_364/3853139118.py:94: ParserWarning: Both a converter and dtype were specified for column SMILES - only the converter will be used.\n",
      "  for i,df in enumerate(activity_reader):\n",
      "/tmp/ipykernel_364/3853139118.py:94: ParserWarning: Both a converter and dtype were specified for column pchembl_value - only the converter will be used.\n",
      "  for i,df in enumerate(activity_reader):\n"
     ]
    },
    {
     "name": "stdout",
     "output_type": "stream",
     "text": [
      "3700000\n",
      "Start Time = 12:57:34\n",
      "End Time = 12:57:50\n"
     ]
    },
    {
     "name": "stderr",
     "output_type": "stream",
     "text": [
      "/tmp/ipykernel_364/3853139118.py:94: ParserWarning: Both a converter and dtype were specified for column SMILES - only the converter will be used.\n",
      "  for i,df in enumerate(activity_reader):\n",
      "/tmp/ipykernel_364/3853139118.py:94: ParserWarning: Both a converter and dtype were specified for column pchembl_value - only the converter will be used.\n",
      "  for i,df in enumerate(activity_reader):\n"
     ]
    },
    {
     "name": "stdout",
     "output_type": "stream",
     "text": [
      "3750000\n",
      "Start Time = 12:58:05\n",
      "End Time = 12:58:20\n"
     ]
    },
    {
     "name": "stderr",
     "output_type": "stream",
     "text": [
      "/tmp/ipykernel_364/3853139118.py:94: ParserWarning: Both a converter and dtype were specified for column SMILES - only the converter will be used.\n",
      "  for i,df in enumerate(activity_reader):\n",
      "/tmp/ipykernel_364/3853139118.py:94: ParserWarning: Both a converter and dtype were specified for column pchembl_value - only the converter will be used.\n",
      "  for i,df in enumerate(activity_reader):\n"
     ]
    },
    {
     "name": "stdout",
     "output_type": "stream",
     "text": [
      "3800000\n",
      "Start Time = 12:58:35\n",
      "End Time = 12:58:52\n"
     ]
    },
    {
     "name": "stderr",
     "output_type": "stream",
     "text": [
      "/tmp/ipykernel_364/3853139118.py:94: ParserWarning: Both a converter and dtype were specified for column SMILES - only the converter will be used.\n",
      "  for i,df in enumerate(activity_reader):\n",
      "/tmp/ipykernel_364/3853139118.py:94: ParserWarning: Both a converter and dtype were specified for column pchembl_value - only the converter will be used.\n",
      "  for i,df in enumerate(activity_reader):\n"
     ]
    },
    {
     "name": "stdout",
     "output_type": "stream",
     "text": [
      "3850000\n",
      "Start Time = 12:59:07\n",
      "End Time = 12:59:25\n"
     ]
    },
    {
     "name": "stderr",
     "output_type": "stream",
     "text": [
      "/tmp/ipykernel_364/3853139118.py:94: ParserWarning: Both a converter and dtype were specified for column SMILES - only the converter will be used.\n",
      "  for i,df in enumerate(activity_reader):\n",
      "/tmp/ipykernel_364/3853139118.py:94: ParserWarning: Both a converter and dtype were specified for column pchembl_value - only the converter will be used.\n",
      "  for i,df in enumerate(activity_reader):\n"
     ]
    },
    {
     "name": "stdout",
     "output_type": "stream",
     "text": [
      "3900000\n",
      "Start Time = 12:59:40\n",
      "End Time = 12:59:55\n"
     ]
    },
    {
     "name": "stderr",
     "output_type": "stream",
     "text": [
      "/tmp/ipykernel_364/3853139118.py:94: ParserWarning: Both a converter and dtype were specified for column SMILES - only the converter will be used.\n",
      "  for i,df in enumerate(activity_reader):\n",
      "/tmp/ipykernel_364/3853139118.py:94: ParserWarning: Both a converter and dtype were specified for column pchembl_value - only the converter will be used.\n",
      "  for i,df in enumerate(activity_reader):\n"
     ]
    },
    {
     "name": "stdout",
     "output_type": "stream",
     "text": [
      "3950000\n",
      "Start Time = 13:00:10\n",
      "End Time = 13:00:29\n"
     ]
    },
    {
     "name": "stderr",
     "output_type": "stream",
     "text": [
      "/tmp/ipykernel_364/3853139118.py:94: ParserWarning: Both a converter and dtype were specified for column SMILES - only the converter will be used.\n",
      "  for i,df in enumerate(activity_reader):\n",
      "/tmp/ipykernel_364/3853139118.py:94: ParserWarning: Both a converter and dtype were specified for column pchembl_value - only the converter will be used.\n",
      "  for i,df in enumerate(activity_reader):\n"
     ]
    },
    {
     "name": "stdout",
     "output_type": "stream",
     "text": [
      "4000000\n",
      "Start Time = 13:00:45\n",
      "End Time = 13:01:02\n"
     ]
    },
    {
     "name": "stderr",
     "output_type": "stream",
     "text": [
      "/tmp/ipykernel_364/3853139118.py:94: ParserWarning: Both a converter and dtype were specified for column SMILES - only the converter will be used.\n",
      "  for i,df in enumerate(activity_reader):\n",
      "/tmp/ipykernel_364/3853139118.py:94: ParserWarning: Both a converter and dtype were specified for column pchembl_value - only the converter will be used.\n",
      "  for i,df in enumerate(activity_reader):\n"
     ]
    },
    {
     "name": "stdout",
     "output_type": "stream",
     "text": [
      "4050000\n",
      "Start Time = 13:01:18\n",
      "End Time = 13:01:33\n"
     ]
    },
    {
     "name": "stderr",
     "output_type": "stream",
     "text": [
      "/tmp/ipykernel_364/3853139118.py:94: ParserWarning: Both a converter and dtype were specified for column SMILES - only the converter will be used.\n",
      "  for i,df in enumerate(activity_reader):\n",
      "/tmp/ipykernel_364/3853139118.py:94: ParserWarning: Both a converter and dtype were specified for column pchembl_value - only the converter will be used.\n",
      "  for i,df in enumerate(activity_reader):\n"
     ]
    },
    {
     "name": "stdout",
     "output_type": "stream",
     "text": [
      "4100000\n",
      "Start Time = 13:01:48\n",
      "End Time = 13:02:07\n"
     ]
    },
    {
     "name": "stderr",
     "output_type": "stream",
     "text": [
      "/tmp/ipykernel_364/3853139118.py:94: ParserWarning: Both a converter and dtype were specified for column SMILES - only the converter will be used.\n",
      "  for i,df in enumerate(activity_reader):\n",
      "/tmp/ipykernel_364/3853139118.py:94: ParserWarning: Both a converter and dtype were specified for column pchembl_value - only the converter will be used.\n",
      "  for i,df in enumerate(activity_reader):\n"
     ]
    },
    {
     "name": "stdout",
     "output_type": "stream",
     "text": [
      "4150000\n",
      "Start Time = 13:02:22\n",
      "End Time = 13:02:40\n"
     ]
    },
    {
     "name": "stderr",
     "output_type": "stream",
     "text": [
      "/tmp/ipykernel_364/3853139118.py:94: ParserWarning: Both a converter and dtype were specified for column SMILES - only the converter will be used.\n",
      "  for i,df in enumerate(activity_reader):\n",
      "/tmp/ipykernel_364/3853139118.py:94: ParserWarning: Both a converter and dtype were specified for column pchembl_value - only the converter will be used.\n",
      "  for i,df in enumerate(activity_reader):\n"
     ]
    },
    {
     "name": "stdout",
     "output_type": "stream",
     "text": [
      "4200000\n",
      "Start Time = 13:02:55\n",
      "End Time = 13:03:11\n"
     ]
    },
    {
     "name": "stderr",
     "output_type": "stream",
     "text": [
      "/tmp/ipykernel_364/3853139118.py:94: ParserWarning: Both a converter and dtype were specified for column SMILES - only the converter will be used.\n",
      "  for i,df in enumerate(activity_reader):\n",
      "/tmp/ipykernel_364/3853139118.py:94: ParserWarning: Both a converter and dtype were specified for column pchembl_value - only the converter will be used.\n",
      "  for i,df in enumerate(activity_reader):\n"
     ]
    },
    {
     "name": "stdout",
     "output_type": "stream",
     "text": [
      "4250000\n",
      "Start Time = 13:03:26\n",
      "End Time = 13:03:45\n"
     ]
    },
    {
     "name": "stderr",
     "output_type": "stream",
     "text": [
      "/tmp/ipykernel_364/3853139118.py:94: ParserWarning: Both a converter and dtype were specified for column SMILES - only the converter will be used.\n",
      "  for i,df in enumerate(activity_reader):\n",
      "/tmp/ipykernel_364/3853139118.py:94: ParserWarning: Both a converter and dtype were specified for column pchembl_value - only the converter will be used.\n",
      "  for i,df in enumerate(activity_reader):\n"
     ]
    },
    {
     "name": "stdout",
     "output_type": "stream",
     "text": [
      "4300000\n",
      "Start Time = 13:04:01\n",
      "End Time = 13:04:19\n"
     ]
    },
    {
     "name": "stderr",
     "output_type": "stream",
     "text": [
      "/tmp/ipykernel_364/3853139118.py:94: ParserWarning: Both a converter and dtype were specified for column SMILES - only the converter will be used.\n",
      "  for i,df in enumerate(activity_reader):\n",
      "/tmp/ipykernel_364/3853139118.py:94: ParserWarning: Both a converter and dtype were specified for column pchembl_value - only the converter will be used.\n",
      "  for i,df in enumerate(activity_reader):\n"
     ]
    },
    {
     "name": "stdout",
     "output_type": "stream",
     "text": [
      "4350000\n",
      "Start Time = 13:04:35\n",
      "End Time = 13:04:52\n"
     ]
    },
    {
     "name": "stderr",
     "output_type": "stream",
     "text": [
      "/tmp/ipykernel_364/3853139118.py:94: ParserWarning: Both a converter and dtype were specified for column SMILES - only the converter will be used.\n",
      "  for i,df in enumerate(activity_reader):\n",
      "/tmp/ipykernel_364/3853139118.py:94: ParserWarning: Both a converter and dtype were specified for column pchembl_value - only the converter will be used.\n",
      "  for i,df in enumerate(activity_reader):\n"
     ]
    },
    {
     "name": "stdout",
     "output_type": "stream",
     "text": [
      "4400000\n",
      "Start Time = 13:05:07\n",
      "End Time = 13:05:25\n"
     ]
    },
    {
     "name": "stderr",
     "output_type": "stream",
     "text": [
      "/tmp/ipykernel_364/3853139118.py:94: ParserWarning: Both a converter and dtype were specified for column SMILES - only the converter will be used.\n",
      "  for i,df in enumerate(activity_reader):\n",
      "/tmp/ipykernel_364/3853139118.py:94: ParserWarning: Both a converter and dtype were specified for column pchembl_value - only the converter will be used.\n",
      "  for i,df in enumerate(activity_reader):\n"
     ]
    },
    {
     "name": "stdout",
     "output_type": "stream",
     "text": [
      "4450000\n",
      "Start Time = 13:05:40\n",
      "End Time = 13:05:57\n"
     ]
    },
    {
     "name": "stderr",
     "output_type": "stream",
     "text": [
      "/tmp/ipykernel_364/3853139118.py:94: ParserWarning: Both a converter and dtype were specified for column SMILES - only the converter will be used.\n",
      "  for i,df in enumerate(activity_reader):\n",
      "/tmp/ipykernel_364/3853139118.py:94: ParserWarning: Both a converter and dtype were specified for column pchembl_value - only the converter will be used.\n",
      "  for i,df in enumerate(activity_reader):\n"
     ]
    },
    {
     "name": "stdout",
     "output_type": "stream",
     "text": [
      "4500000\n",
      "Start Time = 13:06:13\n",
      "End Time = 13:06:28\n"
     ]
    },
    {
     "name": "stderr",
     "output_type": "stream",
     "text": [
      "/tmp/ipykernel_364/3853139118.py:94: ParserWarning: Both a converter and dtype were specified for column SMILES - only the converter will be used.\n",
      "  for i,df in enumerate(activity_reader):\n",
      "/tmp/ipykernel_364/3853139118.py:94: ParserWarning: Both a converter and dtype were specified for column pchembl_value - only the converter will be used.\n",
      "  for i,df in enumerate(activity_reader):\n"
     ]
    },
    {
     "name": "stdout",
     "output_type": "stream",
     "text": [
      "4550000\n",
      "Start Time = 13:06:43\n",
      "End Time = 13:07:00\n"
     ]
    },
    {
     "name": "stderr",
     "output_type": "stream",
     "text": [
      "/tmp/ipykernel_364/3853139118.py:94: ParserWarning: Both a converter and dtype were specified for column SMILES - only the converter will be used.\n",
      "  for i,df in enumerate(activity_reader):\n",
      "/tmp/ipykernel_364/3853139118.py:94: ParserWarning: Both a converter and dtype were specified for column pchembl_value - only the converter will be used.\n",
      "  for i,df in enumerate(activity_reader):\n"
     ]
    },
    {
     "name": "stdout",
     "output_type": "stream",
     "text": [
      "4600000\n",
      "Start Time = 13:07:15\n",
      "End Time = 13:07:33\n"
     ]
    },
    {
     "name": "stderr",
     "output_type": "stream",
     "text": [
      "/tmp/ipykernel_364/3853139118.py:94: ParserWarning: Both a converter and dtype were specified for column SMILES - only the converter will be used.\n",
      "  for i,df in enumerate(activity_reader):\n",
      "/tmp/ipykernel_364/3853139118.py:94: ParserWarning: Both a converter and dtype were specified for column pchembl_value - only the converter will be used.\n",
      "  for i,df in enumerate(activity_reader):\n"
     ]
    },
    {
     "name": "stdout",
     "output_type": "stream",
     "text": [
      "4650000\n",
      "Start Time = 13:07:48\n",
      "End Time = 13:08:02\n"
     ]
    },
    {
     "name": "stderr",
     "output_type": "stream",
     "text": [
      "/tmp/ipykernel_364/3853139118.py:94: ParserWarning: Both a converter and dtype were specified for column SMILES - only the converter will be used.\n",
      "  for i,df in enumerate(activity_reader):\n",
      "/tmp/ipykernel_364/3853139118.py:94: ParserWarning: Both a converter and dtype were specified for column pchembl_value - only the converter will be used.\n",
      "  for i,df in enumerate(activity_reader):\n"
     ]
    },
    {
     "name": "stdout",
     "output_type": "stream",
     "text": [
      "4700000\n",
      "Start Time = 13:08:17\n",
      "End Time = 13:08:34\n"
     ]
    },
    {
     "name": "stderr",
     "output_type": "stream",
     "text": [
      "/tmp/ipykernel_364/3853139118.py:94: ParserWarning: Both a converter and dtype were specified for column SMILES - only the converter will be used.\n",
      "  for i,df in enumerate(activity_reader):\n",
      "/tmp/ipykernel_364/3853139118.py:94: ParserWarning: Both a converter and dtype were specified for column pchembl_value - only the converter will be used.\n",
      "  for i,df in enumerate(activity_reader):\n"
     ]
    },
    {
     "name": "stdout",
     "output_type": "stream",
     "text": [
      "4750000\n",
      "Start Time = 13:08:49\n",
      "End Time = 13:09:07\n"
     ]
    },
    {
     "name": "stderr",
     "output_type": "stream",
     "text": [
      "/tmp/ipykernel_364/3853139118.py:94: ParserWarning: Both a converter and dtype were specified for column SMILES - only the converter will be used.\n",
      "  for i,df in enumerate(activity_reader):\n",
      "/tmp/ipykernel_364/3853139118.py:94: ParserWarning: Both a converter and dtype were specified for column pchembl_value - only the converter will be used.\n",
      "  for i,df in enumerate(activity_reader):\n"
     ]
    },
    {
     "name": "stdout",
     "output_type": "stream",
     "text": [
      "4800000\n",
      "Start Time = 13:09:21\n",
      "End Time = 13:09:37\n"
     ]
    },
    {
     "name": "stderr",
     "output_type": "stream",
     "text": [
      "/tmp/ipykernel_364/3853139118.py:94: ParserWarning: Both a converter and dtype were specified for column SMILES - only the converter will be used.\n",
      "  for i,df in enumerate(activity_reader):\n",
      "/tmp/ipykernel_364/3853139118.py:94: ParserWarning: Both a converter and dtype were specified for column pchembl_value - only the converter will be used.\n",
      "  for i,df in enumerate(activity_reader):\n"
     ]
    },
    {
     "name": "stdout",
     "output_type": "stream",
     "text": [
      "4850000\n",
      "Start Time = 13:09:52\n",
      "End Time = 13:10:09\n"
     ]
    },
    {
     "name": "stderr",
     "output_type": "stream",
     "text": [
      "/tmp/ipykernel_364/3853139118.py:94: ParserWarning: Both a converter and dtype were specified for column SMILES - only the converter will be used.\n",
      "  for i,df in enumerate(activity_reader):\n",
      "/tmp/ipykernel_364/3853139118.py:94: ParserWarning: Both a converter and dtype were specified for column pchembl_value - only the converter will be used.\n",
      "  for i,df in enumerate(activity_reader):\n"
     ]
    },
    {
     "name": "stdout",
     "output_type": "stream",
     "text": [
      "4900000\n",
      "Start Time = 13:10:24\n",
      "End Time = 13:10:41\n"
     ]
    },
    {
     "name": "stderr",
     "output_type": "stream",
     "text": [
      "/tmp/ipykernel_364/3853139118.py:94: ParserWarning: Both a converter and dtype were specified for column SMILES - only the converter will be used.\n",
      "  for i,df in enumerate(activity_reader):\n",
      "/tmp/ipykernel_364/3853139118.py:94: ParserWarning: Both a converter and dtype were specified for column pchembl_value - only the converter will be used.\n",
      "  for i,df in enumerate(activity_reader):\n"
     ]
    },
    {
     "name": "stdout",
     "output_type": "stream",
     "text": [
      "4950000\n",
      "Start Time = 13:10:55\n",
      "End Time = 13:11:10\n"
     ]
    },
    {
     "name": "stderr",
     "output_type": "stream",
     "text": [
      "/tmp/ipykernel_364/3853139118.py:94: ParserWarning: Both a converter and dtype were specified for column SMILES - only the converter will be used.\n",
      "  for i,df in enumerate(activity_reader):\n",
      "/tmp/ipykernel_364/3853139118.py:94: ParserWarning: Both a converter and dtype were specified for column pchembl_value - only the converter will be used.\n",
      "  for i,df in enumerate(activity_reader):\n"
     ]
    },
    {
     "name": "stdout",
     "output_type": "stream",
     "text": [
      "5000000\n",
      "Start Time = 13:11:25\n",
      "End Time = 13:11:41\n"
     ]
    },
    {
     "name": "stderr",
     "output_type": "stream",
     "text": [
      "/tmp/ipykernel_364/3853139118.py:94: ParserWarning: Both a converter and dtype were specified for column SMILES - only the converter will be used.\n",
      "  for i,df in enumerate(activity_reader):\n",
      "/tmp/ipykernel_364/3853139118.py:94: ParserWarning: Both a converter and dtype were specified for column pchembl_value - only the converter will be used.\n",
      "  for i,df in enumerate(activity_reader):\n"
     ]
    },
    {
     "name": "stdout",
     "output_type": "stream",
     "text": [
      "5050000\n",
      "Start Time = 13:11:56\n",
      "End Time = 13:12:14\n"
     ]
    },
    {
     "name": "stderr",
     "output_type": "stream",
     "text": [
      "/tmp/ipykernel_364/3853139118.py:94: ParserWarning: Both a converter and dtype were specified for column SMILES - only the converter will be used.\n",
      "  for i,df in enumerate(activity_reader):\n",
      "/tmp/ipykernel_364/3853139118.py:94: ParserWarning: Both a converter and dtype were specified for column pchembl_value - only the converter will be used.\n",
      "  for i,df in enumerate(activity_reader):\n"
     ]
    },
    {
     "name": "stdout",
     "output_type": "stream",
     "text": [
      "5100000\n",
      "Start Time = 13:12:28\n",
      "End Time = 13:12:43\n"
     ]
    },
    {
     "name": "stderr",
     "output_type": "stream",
     "text": [
      "/tmp/ipykernel_364/3853139118.py:94: ParserWarning: Both a converter and dtype were specified for column SMILES - only the converter will be used.\n",
      "  for i,df in enumerate(activity_reader):\n",
      "/tmp/ipykernel_364/3853139118.py:94: ParserWarning: Both a converter and dtype were specified for column pchembl_value - only the converter will be used.\n",
      "  for i,df in enumerate(activity_reader):\n"
     ]
    },
    {
     "name": "stdout",
     "output_type": "stream",
     "text": [
      "5150000\n",
      "Start Time = 13:12:58\n",
      "End Time = 13:13:15\n"
     ]
    },
    {
     "name": "stderr",
     "output_type": "stream",
     "text": [
      "/tmp/ipykernel_364/3853139118.py:94: ParserWarning: Both a converter and dtype were specified for column SMILES - only the converter will be used.\n",
      "  for i,df in enumerate(activity_reader):\n",
      "/tmp/ipykernel_364/3853139118.py:94: ParserWarning: Both a converter and dtype were specified for column pchembl_value - only the converter will be used.\n",
      "  for i,df in enumerate(activity_reader):\n"
     ]
    },
    {
     "name": "stdout",
     "output_type": "stream",
     "text": [
      "5200000\n",
      "Start Time = 13:13:30\n",
      "End Time = 13:13:47\n"
     ]
    },
    {
     "name": "stderr",
     "output_type": "stream",
     "text": [
      "/tmp/ipykernel_364/3853139118.py:94: ParserWarning: Both a converter and dtype were specified for column SMILES - only the converter will be used.\n",
      "  for i,df in enumerate(activity_reader):\n",
      "/tmp/ipykernel_364/3853139118.py:94: ParserWarning: Both a converter and dtype were specified for column pchembl_value - only the converter will be used.\n",
      "  for i,df in enumerate(activity_reader):\n"
     ]
    },
    {
     "name": "stdout",
     "output_type": "stream",
     "text": [
      "5250000\n",
      "Start Time = 13:14:02\n",
      "End Time = 13:14:16\n"
     ]
    },
    {
     "name": "stderr",
     "output_type": "stream",
     "text": [
      "/tmp/ipykernel_364/3853139118.py:94: ParserWarning: Both a converter and dtype were specified for column SMILES - only the converter will be used.\n",
      "  for i,df in enumerate(activity_reader):\n",
      "/tmp/ipykernel_364/3853139118.py:94: ParserWarning: Both a converter and dtype were specified for column pchembl_value - only the converter will be used.\n",
      "  for i,df in enumerate(activity_reader):\n"
     ]
    },
    {
     "name": "stdout",
     "output_type": "stream",
     "text": [
      "5300000\n",
      "Start Time = 13:14:31\n",
      "End Time = 13:14:48\n"
     ]
    },
    {
     "name": "stderr",
     "output_type": "stream",
     "text": [
      "/tmp/ipykernel_364/3853139118.py:94: ParserWarning: Both a converter and dtype were specified for column SMILES - only the converter will be used.\n",
      "  for i,df in enumerate(activity_reader):\n",
      "/tmp/ipykernel_364/3853139118.py:94: ParserWarning: Both a converter and dtype were specified for column pchembl_value - only the converter will be used.\n",
      "  for i,df in enumerate(activity_reader):\n"
     ]
    },
    {
     "name": "stdout",
     "output_type": "stream",
     "text": [
      "5350000\n",
      "Start Time = 13:15:03\n",
      "End Time = 13:15:20\n"
     ]
    },
    {
     "name": "stderr",
     "output_type": "stream",
     "text": [
      "/tmp/ipykernel_364/3853139118.py:94: ParserWarning: Both a converter and dtype were specified for column SMILES - only the converter will be used.\n",
      "  for i,df in enumerate(activity_reader):\n",
      "/tmp/ipykernel_364/3853139118.py:94: ParserWarning: Both a converter and dtype were specified for column pchembl_value - only the converter will be used.\n",
      "  for i,df in enumerate(activity_reader):\n"
     ]
    },
    {
     "name": "stdout",
     "output_type": "stream",
     "text": [
      "5400000\n",
      "Start Time = 13:15:35\n",
      "End Time = 13:15:50\n"
     ]
    },
    {
     "name": "stderr",
     "output_type": "stream",
     "text": [
      "/tmp/ipykernel_364/3853139118.py:94: ParserWarning: Both a converter and dtype were specified for column SMILES - only the converter will be used.\n",
      "  for i,df in enumerate(activity_reader):\n",
      "/tmp/ipykernel_364/3853139118.py:94: ParserWarning: Both a converter and dtype were specified for column pchembl_value - only the converter will be used.\n",
      "  for i,df in enumerate(activity_reader):\n"
     ]
    },
    {
     "name": "stdout",
     "output_type": "stream",
     "text": [
      "5450000\n",
      "Start Time = 13:16:05\n",
      "End Time = 13:16:21\n"
     ]
    },
    {
     "name": "stderr",
     "output_type": "stream",
     "text": [
      "/tmp/ipykernel_364/3853139118.py:94: ParserWarning: Both a converter and dtype were specified for column SMILES - only the converter will be used.\n",
      "  for i,df in enumerate(activity_reader):\n",
      "/tmp/ipykernel_364/3853139118.py:94: ParserWarning: Both a converter and dtype were specified for column pchembl_value - only the converter will be used.\n",
      "  for i,df in enumerate(activity_reader):\n"
     ]
    },
    {
     "name": "stdout",
     "output_type": "stream",
     "text": [
      "5500000\n",
      "Start Time = 13:16:35\n",
      "End Time = 13:16:51\n"
     ]
    },
    {
     "name": "stderr",
     "output_type": "stream",
     "text": [
      "/tmp/ipykernel_364/3853139118.py:94: ParserWarning: Both a converter and dtype were specified for column SMILES - only the converter will be used.\n",
      "  for i,df in enumerate(activity_reader):\n",
      "/tmp/ipykernel_364/3853139118.py:94: ParserWarning: Both a converter and dtype were specified for column pchembl_value - only the converter will be used.\n",
      "  for i,df in enumerate(activity_reader):\n"
     ]
    },
    {
     "name": "stdout",
     "output_type": "stream",
     "text": [
      "5550000\n",
      "Start Time = 13:17:06\n",
      "End Time = 13:17:21\n"
     ]
    },
    {
     "name": "stderr",
     "output_type": "stream",
     "text": [
      "/tmp/ipykernel_364/3853139118.py:94: ParserWarning: Both a converter and dtype were specified for column SMILES - only the converter will be used.\n",
      "  for i,df in enumerate(activity_reader):\n",
      "/tmp/ipykernel_364/3853139118.py:94: ParserWarning: Both a converter and dtype were specified for column pchembl_value - only the converter will be used.\n",
      "  for i,df in enumerate(activity_reader):\n"
     ]
    },
    {
     "name": "stdout",
     "output_type": "stream",
     "text": [
      "5600000\n",
      "Start Time = 13:17:35\n",
      "End Time = 13:17:51\n"
     ]
    },
    {
     "name": "stderr",
     "output_type": "stream",
     "text": [
      "/tmp/ipykernel_364/3853139118.py:94: ParserWarning: Both a converter and dtype were specified for column SMILES - only the converter will be used.\n",
      "  for i,df in enumerate(activity_reader):\n",
      "/tmp/ipykernel_364/3853139118.py:94: ParserWarning: Both a converter and dtype were specified for column pchembl_value - only the converter will be used.\n",
      "  for i,df in enumerate(activity_reader):\n"
     ]
    },
    {
     "name": "stdout",
     "output_type": "stream",
     "text": [
      "5650000\n",
      "Start Time = 13:18:06\n",
      "End Time = 13:18:22\n"
     ]
    },
    {
     "name": "stderr",
     "output_type": "stream",
     "text": [
      "/tmp/ipykernel_364/3853139118.py:94: ParserWarning: Both a converter and dtype were specified for column SMILES - only the converter will be used.\n",
      "  for i,df in enumerate(activity_reader):\n",
      "/tmp/ipykernel_364/3853139118.py:94: ParserWarning: Both a converter and dtype were specified for column pchembl_value - only the converter will be used.\n",
      "  for i,df in enumerate(activity_reader):\n"
     ]
    },
    {
     "name": "stdout",
     "output_type": "stream",
     "text": [
      "5700000\n",
      "Start Time = 13:18:36\n",
      "End Time = 13:18:52\n"
     ]
    },
    {
     "name": "stderr",
     "output_type": "stream",
     "text": [
      "/tmp/ipykernel_364/3853139118.py:94: ParserWarning: Both a converter and dtype were specified for column SMILES - only the converter will be used.\n",
      "  for i,df in enumerate(activity_reader):\n",
      "/tmp/ipykernel_364/3853139118.py:94: ParserWarning: Both a converter and dtype were specified for column pchembl_value - only the converter will be used.\n",
      "  for i,df in enumerate(activity_reader):\n"
     ]
    },
    {
     "name": "stdout",
     "output_type": "stream",
     "text": [
      "5750000\n",
      "Start Time = 13:19:06\n",
      "End Time = 13:19:23\n"
     ]
    },
    {
     "name": "stderr",
     "output_type": "stream",
     "text": [
      "/tmp/ipykernel_364/3853139118.py:94: ParserWarning: Both a converter and dtype were specified for column SMILES - only the converter will be used.\n",
      "  for i,df in enumerate(activity_reader):\n",
      "/tmp/ipykernel_364/3853139118.py:94: ParserWarning: Both a converter and dtype were specified for column pchembl_value - only the converter will be used.\n",
      "  for i,df in enumerate(activity_reader):\n"
     ]
    },
    {
     "name": "stdout",
     "output_type": "stream",
     "text": [
      "5800000\n",
      "Start Time = 13:19:38\n",
      "End Time = 13:19:54\n"
     ]
    },
    {
     "name": "stderr",
     "output_type": "stream",
     "text": [
      "/tmp/ipykernel_364/3853139118.py:94: ParserWarning: Both a converter and dtype were specified for column SMILES - only the converter will be used.\n",
      "  for i,df in enumerate(activity_reader):\n",
      "/tmp/ipykernel_364/3853139118.py:94: ParserWarning: Both a converter and dtype were specified for column pchembl_value - only the converter will be used.\n",
      "  for i,df in enumerate(activity_reader):\n"
     ]
    },
    {
     "name": "stdout",
     "output_type": "stream",
     "text": [
      "5850000\n",
      "Start Time = 13:20:09\n",
      "End Time = 13:20:23\n"
     ]
    },
    {
     "name": "stderr",
     "output_type": "stream",
     "text": [
      "/tmp/ipykernel_364/3853139118.py:94: ParserWarning: Both a converter and dtype were specified for column SMILES - only the converter will be used.\n",
      "  for i,df in enumerate(activity_reader):\n",
      "/tmp/ipykernel_364/3853139118.py:94: ParserWarning: Both a converter and dtype were specified for column pchembl_value - only the converter will be used.\n",
      "  for i,df in enumerate(activity_reader):\n"
     ]
    },
    {
     "name": "stdout",
     "output_type": "stream",
     "text": [
      "5900000\n",
      "Start Time = 13:20:38\n",
      "End Time = 13:20:54\n"
     ]
    },
    {
     "name": "stderr",
     "output_type": "stream",
     "text": [
      "/tmp/ipykernel_364/3853139118.py:94: ParserWarning: Both a converter and dtype were specified for column SMILES - only the converter will be used.\n",
      "  for i,df in enumerate(activity_reader):\n",
      "/tmp/ipykernel_364/3853139118.py:94: ParserWarning: Both a converter and dtype were specified for column pchembl_value - only the converter will be used.\n",
      "  for i,df in enumerate(activity_reader):\n"
     ]
    },
    {
     "name": "stdout",
     "output_type": "stream",
     "text": [
      "5950000\n",
      "Start Time = 13:21:09\n",
      "End Time = 13:21:26\n"
     ]
    },
    {
     "name": "stderr",
     "output_type": "stream",
     "text": [
      "/tmp/ipykernel_364/3853139118.py:94: ParserWarning: Both a converter and dtype were specified for column SMILES - only the converter will be used.\n",
      "  for i,df in enumerate(activity_reader):\n",
      "/tmp/ipykernel_364/3853139118.py:94: ParserWarning: Both a converter and dtype were specified for column pchembl_value - only the converter will be used.\n",
      "  for i,df in enumerate(activity_reader):\n"
     ]
    },
    {
     "name": "stdout",
     "output_type": "stream",
     "text": [
      "6000000\n",
      "Start Time = 13:21:40\n",
      "End Time = 13:21:54\n"
     ]
    },
    {
     "name": "stderr",
     "output_type": "stream",
     "text": [
      "/tmp/ipykernel_364/3853139118.py:94: ParserWarning: Both a converter and dtype were specified for column SMILES - only the converter will be used.\n",
      "  for i,df in enumerate(activity_reader):\n",
      "/tmp/ipykernel_364/3853139118.py:94: ParserWarning: Both a converter and dtype were specified for column pchembl_value - only the converter will be used.\n",
      "  for i,df in enumerate(activity_reader):\n"
     ]
    },
    {
     "name": "stdout",
     "output_type": "stream",
     "text": [
      "6050000\n",
      "Start Time = 13:22:09\n",
      "End Time = 13:22:25\n"
     ]
    },
    {
     "name": "stderr",
     "output_type": "stream",
     "text": [
      "/tmp/ipykernel_364/3853139118.py:94: ParserWarning: Both a converter and dtype were specified for column SMILES - only the converter will be used.\n",
      "  for i,df in enumerate(activity_reader):\n",
      "/tmp/ipykernel_364/3853139118.py:94: ParserWarning: Both a converter and dtype were specified for column pchembl_value - only the converter will be used.\n",
      "  for i,df in enumerate(activity_reader):\n"
     ]
    },
    {
     "name": "stdout",
     "output_type": "stream",
     "text": [
      "6100000\n",
      "Start Time = 13:22:39\n",
      "End Time = 13:22:55\n"
     ]
    },
    {
     "name": "stderr",
     "output_type": "stream",
     "text": [
      "/tmp/ipykernel_364/3853139118.py:94: ParserWarning: Both a converter and dtype were specified for column SMILES - only the converter will be used.\n",
      "  for i,df in enumerate(activity_reader):\n",
      "/tmp/ipykernel_364/3853139118.py:94: ParserWarning: Both a converter and dtype were specified for column pchembl_value - only the converter will be used.\n",
      "  for i,df in enumerate(activity_reader):\n"
     ]
    },
    {
     "name": "stdout",
     "output_type": "stream",
     "text": [
      "6150000\n",
      "Start Time = 13:23:10\n",
      "End Time = 13:23:24\n"
     ]
    },
    {
     "name": "stderr",
     "output_type": "stream",
     "text": [
      "/tmp/ipykernel_364/3853139118.py:94: ParserWarning: Both a converter and dtype were specified for column SMILES - only the converter will be used.\n",
      "  for i,df in enumerate(activity_reader):\n",
      "/tmp/ipykernel_364/3853139118.py:94: ParserWarning: Both a converter and dtype were specified for column pchembl_value - only the converter will be used.\n",
      "  for i,df in enumerate(activity_reader):\n"
     ]
    },
    {
     "name": "stdout",
     "output_type": "stream",
     "text": [
      "6200000\n",
      "Start Time = 13:23:39\n",
      "End Time = 13:23:56\n"
     ]
    },
    {
     "name": "stderr",
     "output_type": "stream",
     "text": [
      "/tmp/ipykernel_364/3853139118.py:94: ParserWarning: Both a converter and dtype were specified for column SMILES - only the converter will be used.\n",
      "  for i,df in enumerate(activity_reader):\n",
      "/tmp/ipykernel_364/3853139118.py:94: ParserWarning: Both a converter and dtype were specified for column pchembl_value - only the converter will be used.\n",
      "  for i,df in enumerate(activity_reader):\n"
     ]
    },
    {
     "name": "stdout",
     "output_type": "stream",
     "text": [
      "6250000\n",
      "Start Time = 13:24:11\n",
      "End Time = 13:24:28\n"
     ]
    },
    {
     "name": "stderr",
     "output_type": "stream",
     "text": [
      "/tmp/ipykernel_364/3853139118.py:94: ParserWarning: Both a converter and dtype were specified for column SMILES - only the converter will be used.\n",
      "  for i,df in enumerate(activity_reader):\n",
      "/tmp/ipykernel_364/3853139118.py:94: ParserWarning: Both a converter and dtype were specified for column pchembl_value - only the converter will be used.\n",
      "  for i,df in enumerate(activity_reader):\n"
     ]
    },
    {
     "name": "stdout",
     "output_type": "stream",
     "text": [
      "6300000\n",
      "Start Time = 13:24:43\n",
      "End Time = 13:24:57\n"
     ]
    },
    {
     "name": "stderr",
     "output_type": "stream",
     "text": [
      "/tmp/ipykernel_364/3853139118.py:94: ParserWarning: Both a converter and dtype were specified for column SMILES - only the converter will be used.\n",
      "  for i,df in enumerate(activity_reader):\n",
      "/tmp/ipykernel_364/3853139118.py:94: ParserWarning: Both a converter and dtype were specified for column pchembl_value - only the converter will be used.\n",
      "  for i,df in enumerate(activity_reader):\n"
     ]
    },
    {
     "name": "stdout",
     "output_type": "stream",
     "text": [
      "6350000\n",
      "Start Time = 13:25:12\n",
      "End Time = 13:25:29\n"
     ]
    },
    {
     "name": "stderr",
     "output_type": "stream",
     "text": [
      "/tmp/ipykernel_364/3853139118.py:94: ParserWarning: Both a converter and dtype were specified for column SMILES - only the converter will be used.\n",
      "  for i,df in enumerate(activity_reader):\n",
      "/tmp/ipykernel_364/3853139118.py:94: ParserWarning: Both a converter and dtype were specified for column pchembl_value - only the converter will be used.\n",
      "  for i,df in enumerate(activity_reader):\n"
     ]
    },
    {
     "name": "stdout",
     "output_type": "stream",
     "text": [
      "6400000\n",
      "Start Time = 13:25:44\n",
      "End Time = 13:26:02\n"
     ]
    },
    {
     "name": "stderr",
     "output_type": "stream",
     "text": [
      "/tmp/ipykernel_364/3853139118.py:94: ParserWarning: Both a converter and dtype were specified for column SMILES - only the converter will be used.\n",
      "  for i,df in enumerate(activity_reader):\n",
      "/tmp/ipykernel_364/3853139118.py:94: ParserWarning: Both a converter and dtype were specified for column pchembl_value - only the converter will be used.\n",
      "  for i,df in enumerate(activity_reader):\n"
     ]
    },
    {
     "name": "stdout",
     "output_type": "stream",
     "text": [
      "6450000\n",
      "Start Time = 13:26:17\n",
      "End Time = 13:26:31\n"
     ]
    },
    {
     "name": "stderr",
     "output_type": "stream",
     "text": [
      "/tmp/ipykernel_364/3853139118.py:94: ParserWarning: Both a converter and dtype were specified for column SMILES - only the converter will be used.\n",
      "  for i,df in enumerate(activity_reader):\n",
      "/tmp/ipykernel_364/3853139118.py:94: ParserWarning: Both a converter and dtype were specified for column pchembl_value - only the converter will be used.\n",
      "  for i,df in enumerate(activity_reader):\n"
     ]
    },
    {
     "name": "stdout",
     "output_type": "stream",
     "text": [
      "6500000\n",
      "Start Time = 13:26:45\n",
      "End Time = 13:27:02\n"
     ]
    },
    {
     "name": "stderr",
     "output_type": "stream",
     "text": [
      "/tmp/ipykernel_364/3853139118.py:94: ParserWarning: Both a converter and dtype were specified for column SMILES - only the converter will be used.\n",
      "  for i,df in enumerate(activity_reader):\n",
      "/tmp/ipykernel_364/3853139118.py:94: ParserWarning: Both a converter and dtype were specified for column pchembl_value - only the converter will be used.\n",
      "  for i,df in enumerate(activity_reader):\n"
     ]
    },
    {
     "name": "stdout",
     "output_type": "stream",
     "text": [
      "6550000\n",
      "Start Time = 13:27:16\n",
      "End Time = 13:27:32\n"
     ]
    },
    {
     "name": "stderr",
     "output_type": "stream",
     "text": [
      "/tmp/ipykernel_364/3853139118.py:94: ParserWarning: Both a converter and dtype were specified for column SMILES - only the converter will be used.\n",
      "  for i,df in enumerate(activity_reader):\n",
      "/tmp/ipykernel_364/3853139118.py:94: ParserWarning: Both a converter and dtype were specified for column pchembl_value - only the converter will be used.\n",
      "  for i,df in enumerate(activity_reader):\n"
     ]
    },
    {
     "name": "stdout",
     "output_type": "stream",
     "text": [
      "6600000\n",
      "Start Time = 13:27:46\n",
      "End Time = 13:28:01\n"
     ]
    },
    {
     "name": "stderr",
     "output_type": "stream",
     "text": [
      "/tmp/ipykernel_364/3853139118.py:94: ParserWarning: Both a converter and dtype were specified for column SMILES - only the converter will be used.\n",
      "  for i,df in enumerate(activity_reader):\n",
      "/tmp/ipykernel_364/3853139118.py:94: ParserWarning: Both a converter and dtype were specified for column pchembl_value - only the converter will be used.\n",
      "  for i,df in enumerate(activity_reader):\n"
     ]
    },
    {
     "name": "stdout",
     "output_type": "stream",
     "text": [
      "6650000\n",
      "Start Time = 13:28:16\n",
      "End Time = 13:28:32\n"
     ]
    },
    {
     "name": "stderr",
     "output_type": "stream",
     "text": [
      "/tmp/ipykernel_364/3853139118.py:94: ParserWarning: Both a converter and dtype were specified for column SMILES - only the converter will be used.\n",
      "  for i,df in enumerate(activity_reader):\n",
      "/tmp/ipykernel_364/3853139118.py:94: ParserWarning: Both a converter and dtype were specified for column pchembl_value - only the converter will be used.\n",
      "  for i,df in enumerate(activity_reader):\n"
     ]
    },
    {
     "name": "stdout",
     "output_type": "stream",
     "text": [
      "6700000\n",
      "Start Time = 13:28:47\n",
      "End Time = 13:29:04\n"
     ]
    },
    {
     "name": "stderr",
     "output_type": "stream",
     "text": [
      "/tmp/ipykernel_364/3853139118.py:94: ParserWarning: Both a converter and dtype were specified for column SMILES - only the converter will be used.\n",
      "  for i,df in enumerate(activity_reader):\n",
      "/tmp/ipykernel_364/3853139118.py:94: ParserWarning: Both a converter and dtype were specified for column pchembl_value - only the converter will be used.\n",
      "  for i,df in enumerate(activity_reader):\n"
     ]
    },
    {
     "name": "stdout",
     "output_type": "stream",
     "text": [
      "6750000\n",
      "Start Time = 13:29:19\n",
      "End Time = 13:29:34\n"
     ]
    },
    {
     "name": "stderr",
     "output_type": "stream",
     "text": [
      "/tmp/ipykernel_364/3853139118.py:94: ParserWarning: Both a converter and dtype were specified for column SMILES - only the converter will be used.\n",
      "  for i,df in enumerate(activity_reader):\n",
      "/tmp/ipykernel_364/3853139118.py:94: ParserWarning: Both a converter and dtype were specified for column pchembl_value - only the converter will be used.\n",
      "  for i,df in enumerate(activity_reader):\n"
     ]
    },
    {
     "name": "stdout",
     "output_type": "stream",
     "text": [
      "6800000\n",
      "Start Time = 13:29:48\n",
      "End Time = 13:30:05\n"
     ]
    },
    {
     "name": "stderr",
     "output_type": "stream",
     "text": [
      "/tmp/ipykernel_364/3853139118.py:94: ParserWarning: Both a converter and dtype were specified for column SMILES - only the converter will be used.\n",
      "  for i,df in enumerate(activity_reader):\n",
      "/tmp/ipykernel_364/3853139118.py:94: ParserWarning: Both a converter and dtype were specified for column pchembl_value - only the converter will be used.\n",
      "  for i,df in enumerate(activity_reader):\n"
     ]
    },
    {
     "name": "stdout",
     "output_type": "stream",
     "text": [
      "6850000\n",
      "Start Time = 13:30:20\n",
      "End Time = 13:30:36\n"
     ]
    },
    {
     "name": "stderr",
     "output_type": "stream",
     "text": [
      "/tmp/ipykernel_364/3853139118.py:94: ParserWarning: Both a converter and dtype were specified for column SMILES - only the converter will be used.\n",
      "  for i,df in enumerate(activity_reader):\n",
      "/tmp/ipykernel_364/3853139118.py:94: ParserWarning: Both a converter and dtype were specified for column pchembl_value - only the converter will be used.\n",
      "  for i,df in enumerate(activity_reader):\n"
     ]
    },
    {
     "name": "stdout",
     "output_type": "stream",
     "text": [
      "6900000\n",
      "Start Time = 13:30:51\n",
      "End Time = 13:31:05\n"
     ]
    },
    {
     "name": "stderr",
     "output_type": "stream",
     "text": [
      "/tmp/ipykernel_364/3853139118.py:94: ParserWarning: Both a converter and dtype were specified for column SMILES - only the converter will be used.\n",
      "  for i,df in enumerate(activity_reader):\n",
      "/tmp/ipykernel_364/3853139118.py:94: ParserWarning: Both a converter and dtype were specified for column pchembl_value - only the converter will be used.\n",
      "  for i,df in enumerate(activity_reader):\n"
     ]
    },
    {
     "name": "stdout",
     "output_type": "stream",
     "text": [
      "6950000\n",
      "Start Time = 13:31:19\n",
      "End Time = 13:31:35\n"
     ]
    },
    {
     "name": "stderr",
     "output_type": "stream",
     "text": [
      "/tmp/ipykernel_364/3853139118.py:94: ParserWarning: Both a converter and dtype were specified for column SMILES - only the converter will be used.\n",
      "  for i,df in enumerate(activity_reader):\n",
      "/tmp/ipykernel_364/3853139118.py:94: ParserWarning: Both a converter and dtype were specified for column pchembl_value - only the converter will be used.\n",
      "  for i,df in enumerate(activity_reader):\n"
     ]
    },
    {
     "name": "stdout",
     "output_type": "stream",
     "text": [
      "7000000\n",
      "Start Time = 13:31:49\n",
      "End Time = 13:32:06\n"
     ]
    },
    {
     "name": "stderr",
     "output_type": "stream",
     "text": [
      "/tmp/ipykernel_364/3853139118.py:94: ParserWarning: Both a converter and dtype were specified for column SMILES - only the converter will be used.\n",
      "  for i,df in enumerate(activity_reader):\n",
      "/tmp/ipykernel_364/3853139118.py:94: ParserWarning: Both a converter and dtype were specified for column pchembl_value - only the converter will be used.\n",
      "  for i,df in enumerate(activity_reader):\n"
     ]
    },
    {
     "name": "stdout",
     "output_type": "stream",
     "text": [
      "7050000\n",
      "Start Time = 13:32:20\n",
      "End Time = 13:32:35\n"
     ]
    },
    {
     "name": "stderr",
     "output_type": "stream",
     "text": [
      "/tmp/ipykernel_364/3853139118.py:94: ParserWarning: Both a converter and dtype were specified for column SMILES - only the converter will be used.\n",
      "  for i,df in enumerate(activity_reader):\n",
      "/tmp/ipykernel_364/3853139118.py:94: ParserWarning: Both a converter and dtype were specified for column pchembl_value - only the converter will be used.\n",
      "  for i,df in enumerate(activity_reader):\n"
     ]
    },
    {
     "name": "stdout",
     "output_type": "stream",
     "text": [
      "7100000\n",
      "Start Time = 13:32:50\n",
      "End Time = 13:33:06\n"
     ]
    },
    {
     "name": "stderr",
     "output_type": "stream",
     "text": [
      "/tmp/ipykernel_364/3853139118.py:94: ParserWarning: Both a converter and dtype were specified for column SMILES - only the converter will be used.\n",
      "  for i,df in enumerate(activity_reader):\n",
      "/tmp/ipykernel_364/3853139118.py:94: ParserWarning: Both a converter and dtype were specified for column pchembl_value - only the converter will be used.\n",
      "  for i,df in enumerate(activity_reader):\n"
     ]
    },
    {
     "name": "stdout",
     "output_type": "stream",
     "text": [
      "7150000\n",
      "Start Time = 13:33:20\n",
      "End Time = 13:33:37\n"
     ]
    },
    {
     "name": "stderr",
     "output_type": "stream",
     "text": [
      "/tmp/ipykernel_364/3853139118.py:94: ParserWarning: Both a converter and dtype were specified for column SMILES - only the converter will be used.\n",
      "  for i,df in enumerate(activity_reader):\n",
      "/tmp/ipykernel_364/3853139118.py:94: ParserWarning: Both a converter and dtype were specified for column pchembl_value - only the converter will be used.\n",
      "  for i,df in enumerate(activity_reader):\n"
     ]
    },
    {
     "name": "stdout",
     "output_type": "stream",
     "text": [
      "7200000\n",
      "Start Time = 13:33:51\n",
      "End Time = 13:34:06\n"
     ]
    },
    {
     "name": "stderr",
     "output_type": "stream",
     "text": [
      "/tmp/ipykernel_364/3853139118.py:94: ParserWarning: Both a converter and dtype were specified for column SMILES - only the converter will be used.\n",
      "  for i,df in enumerate(activity_reader):\n",
      "/tmp/ipykernel_364/3853139118.py:94: ParserWarning: Both a converter and dtype were specified for column pchembl_value - only the converter will be used.\n",
      "  for i,df in enumerate(activity_reader):\n"
     ]
    },
    {
     "name": "stdout",
     "output_type": "stream",
     "text": [
      "7250000\n",
      "Start Time = 13:34:20\n",
      "End Time = 13:34:38\n"
     ]
    },
    {
     "name": "stderr",
     "output_type": "stream",
     "text": [
      "/tmp/ipykernel_364/3853139118.py:94: ParserWarning: Both a converter and dtype were specified for column SMILES - only the converter will be used.\n",
      "  for i,df in enumerate(activity_reader):\n",
      "/tmp/ipykernel_364/3853139118.py:94: ParserWarning: Both a converter and dtype were specified for column pchembl_value - only the converter will be used.\n",
      "  for i,df in enumerate(activity_reader):\n"
     ]
    },
    {
     "name": "stdout",
     "output_type": "stream",
     "text": [
      "7300000\n",
      "Start Time = 13:34:53\n",
      "End Time = 13:35:10\n"
     ]
    },
    {
     "name": "stderr",
     "output_type": "stream",
     "text": [
      "/tmp/ipykernel_364/3853139118.py:94: ParserWarning: Both a converter and dtype were specified for column SMILES - only the converter will be used.\n",
      "  for i,df in enumerate(activity_reader):\n",
      "/tmp/ipykernel_364/3853139118.py:94: ParserWarning: Both a converter and dtype were specified for column pchembl_value - only the converter will be used.\n",
      "  for i,df in enumerate(activity_reader):\n"
     ]
    },
    {
     "name": "stdout",
     "output_type": "stream",
     "text": [
      "7350000\n",
      "Start Time = 13:35:25\n",
      "End Time = 13:35:40\n"
     ]
    },
    {
     "name": "stderr",
     "output_type": "stream",
     "text": [
      "/tmp/ipykernel_364/3853139118.py:94: ParserWarning: Both a converter and dtype were specified for column SMILES - only the converter will be used.\n",
      "  for i,df in enumerate(activity_reader):\n",
      "/tmp/ipykernel_364/3853139118.py:94: ParserWarning: Both a converter and dtype were specified for column pchembl_value - only the converter will be used.\n",
      "  for i,df in enumerate(activity_reader):\n"
     ]
    },
    {
     "name": "stdout",
     "output_type": "stream",
     "text": [
      "7400000\n",
      "Start Time = 13:35:55\n",
      "End Time = 13:36:12\n"
     ]
    },
    {
     "name": "stderr",
     "output_type": "stream",
     "text": [
      "/tmp/ipykernel_364/3853139118.py:94: ParserWarning: Both a converter and dtype were specified for column SMILES - only the converter will be used.\n",
      "  for i,df in enumerate(activity_reader):\n",
      "/tmp/ipykernel_364/3853139118.py:94: ParserWarning: Both a converter and dtype were specified for column pchembl_value - only the converter will be used.\n",
      "  for i,df in enumerate(activity_reader):\n"
     ]
    },
    {
     "name": "stdout",
     "output_type": "stream",
     "text": [
      "7450000\n",
      "Start Time = 13:36:26\n",
      "End Time = 13:36:43\n"
     ]
    },
    {
     "name": "stderr",
     "output_type": "stream",
     "text": [
      "/tmp/ipykernel_364/3853139118.py:94: ParserWarning: Both a converter and dtype were specified for column SMILES - only the converter will be used.\n",
      "  for i,df in enumerate(activity_reader):\n",
      "/tmp/ipykernel_364/3853139118.py:94: ParserWarning: Both a converter and dtype were specified for column pchembl_value - only the converter will be used.\n",
      "  for i,df in enumerate(activity_reader):\n"
     ]
    },
    {
     "name": "stdout",
     "output_type": "stream",
     "text": [
      "7500000\n",
      "Start Time = 13:36:57\n",
      "End Time = 13:37:12\n"
     ]
    },
    {
     "name": "stderr",
     "output_type": "stream",
     "text": [
      "/tmp/ipykernel_364/3853139118.py:94: ParserWarning: Both a converter and dtype were specified for column SMILES - only the converter will be used.\n",
      "  for i,df in enumerate(activity_reader):\n",
      "/tmp/ipykernel_364/3853139118.py:94: ParserWarning: Both a converter and dtype were specified for column pchembl_value - only the converter will be used.\n",
      "  for i,df in enumerate(activity_reader):\n"
     ]
    },
    {
     "name": "stdout",
     "output_type": "stream",
     "text": [
      "7550000\n",
      "Start Time = 13:37:26\n",
      "End Time = 13:37:43\n"
     ]
    },
    {
     "name": "stderr",
     "output_type": "stream",
     "text": [
      "/tmp/ipykernel_364/3853139118.py:94: ParserWarning: Both a converter and dtype were specified for column SMILES - only the converter will be used.\n",
      "  for i,df in enumerate(activity_reader):\n",
      "/tmp/ipykernel_364/3853139118.py:94: ParserWarning: Both a converter and dtype were specified for column pchembl_value - only the converter will be used.\n",
      "  for i,df in enumerate(activity_reader):\n"
     ]
    },
    {
     "name": "stdout",
     "output_type": "stream",
     "text": [
      "7600000\n",
      "Start Time = 13:37:57\n",
      "End Time = 13:38:13\n"
     ]
    },
    {
     "name": "stderr",
     "output_type": "stream",
     "text": [
      "/tmp/ipykernel_364/3853139118.py:94: ParserWarning: Both a converter and dtype were specified for column SMILES - only the converter will be used.\n",
      "  for i,df in enumerate(activity_reader):\n",
      "/tmp/ipykernel_364/3853139118.py:94: ParserWarning: Both a converter and dtype were specified for column pchembl_value - only the converter will be used.\n",
      "  for i,df in enumerate(activity_reader):\n"
     ]
    },
    {
     "name": "stdout",
     "output_type": "stream",
     "text": [
      "7650000\n",
      "Start Time = 13:38:28\n",
      "End Time = 13:38:42\n"
     ]
    },
    {
     "name": "stderr",
     "output_type": "stream",
     "text": [
      "/tmp/ipykernel_364/3853139118.py:94: ParserWarning: Both a converter and dtype were specified for column SMILES - only the converter will be used.\n",
      "  for i,df in enumerate(activity_reader):\n",
      "/tmp/ipykernel_364/3853139118.py:94: ParserWarning: Both a converter and dtype were specified for column pchembl_value - only the converter will be used.\n",
      "  for i,df in enumerate(activity_reader):\n"
     ]
    },
    {
     "name": "stdout",
     "output_type": "stream",
     "text": [
      "7700000\n",
      "Start Time = 13:38:57\n",
      "End Time = 13:39:14\n"
     ]
    },
    {
     "name": "stderr",
     "output_type": "stream",
     "text": [
      "/tmp/ipykernel_364/3853139118.py:94: ParserWarning: Both a converter and dtype were specified for column SMILES - only the converter will be used.\n",
      "  for i,df in enumerate(activity_reader):\n",
      "/tmp/ipykernel_364/3853139118.py:94: ParserWarning: Both a converter and dtype were specified for column pchembl_value - only the converter will be used.\n",
      "  for i,df in enumerate(activity_reader):\n"
     ]
    },
    {
     "name": "stdout",
     "output_type": "stream",
     "text": [
      "7750000\n",
      "Start Time = 13:39:28\n",
      "End Time = 13:39:45\n"
     ]
    },
    {
     "name": "stderr",
     "output_type": "stream",
     "text": [
      "/tmp/ipykernel_364/3853139118.py:94: ParserWarning: Both a converter and dtype were specified for column SMILES - only the converter will be used.\n",
      "  for i,df in enumerate(activity_reader):\n",
      "/tmp/ipykernel_364/3853139118.py:94: ParserWarning: Both a converter and dtype were specified for column pchembl_value - only the converter will be used.\n",
      "  for i,df in enumerate(activity_reader):\n"
     ]
    },
    {
     "name": "stdout",
     "output_type": "stream",
     "text": [
      "7800000\n",
      "Start Time = 13:39:59\n",
      "End Time = 13:40:14\n"
     ]
    },
    {
     "name": "stderr",
     "output_type": "stream",
     "text": [
      "/tmp/ipykernel_364/3853139118.py:94: ParserWarning: Both a converter and dtype were specified for column SMILES - only the converter will be used.\n",
      "  for i,df in enumerate(activity_reader):\n",
      "/tmp/ipykernel_364/3853139118.py:94: ParserWarning: Both a converter and dtype were specified for column pchembl_value - only the converter will be used.\n",
      "  for i,df in enumerate(activity_reader):\n"
     ]
    },
    {
     "name": "stdout",
     "output_type": "stream",
     "text": [
      "7850000\n",
      "Start Time = 13:40:28\n",
      "End Time = 13:40:45\n"
     ]
    },
    {
     "name": "stderr",
     "output_type": "stream",
     "text": [
      "/tmp/ipykernel_364/3853139118.py:94: ParserWarning: Both a converter and dtype were specified for column SMILES - only the converter will be used.\n",
      "  for i,df in enumerate(activity_reader):\n",
      "/tmp/ipykernel_364/3853139118.py:94: ParserWarning: Both a converter and dtype were specified for column pchembl_value - only the converter will be used.\n",
      "  for i,df in enumerate(activity_reader):\n"
     ]
    },
    {
     "name": "stdout",
     "output_type": "stream",
     "text": [
      "7900000\n",
      "Start Time = 13:40:59\n",
      "End Time = 13:41:15\n"
     ]
    },
    {
     "name": "stderr",
     "output_type": "stream",
     "text": [
      "/tmp/ipykernel_364/3853139118.py:94: ParserWarning: Both a converter and dtype were specified for column SMILES - only the converter will be used.\n",
      "  for i,df in enumerate(activity_reader):\n",
      "/tmp/ipykernel_364/3853139118.py:94: ParserWarning: Both a converter and dtype were specified for column pchembl_value - only the converter will be used.\n",
      "  for i,df in enumerate(activity_reader):\n"
     ]
    },
    {
     "name": "stdout",
     "output_type": "stream",
     "text": [
      "7950000\n",
      "Start Time = 13:41:30\n",
      "End Time = 13:41:44\n"
     ]
    },
    {
     "name": "stderr",
     "output_type": "stream",
     "text": [
      "/tmp/ipykernel_364/3853139118.py:94: ParserWarning: Both a converter and dtype were specified for column SMILES - only the converter will be used.\n",
      "  for i,df in enumerate(activity_reader):\n",
      "/tmp/ipykernel_364/3853139118.py:94: ParserWarning: Both a converter and dtype were specified for column pchembl_value - only the converter will be used.\n",
      "  for i,df in enumerate(activity_reader):\n"
     ]
    },
    {
     "name": "stdout",
     "output_type": "stream",
     "text": [
      "8000000\n",
      "Start Time = 13:41:59\n",
      "End Time = 13:42:16\n"
     ]
    },
    {
     "name": "stderr",
     "output_type": "stream",
     "text": [
      "/tmp/ipykernel_364/3853139118.py:94: ParserWarning: Both a converter and dtype were specified for column SMILES - only the converter will be used.\n",
      "  for i,df in enumerate(activity_reader):\n",
      "/tmp/ipykernel_364/3853139118.py:94: ParserWarning: Both a converter and dtype were specified for column pchembl_value - only the converter will be used.\n",
      "  for i,df in enumerate(activity_reader):\n"
     ]
    },
    {
     "name": "stdout",
     "output_type": "stream",
     "text": [
      "8050000\n",
      "Start Time = 13:42:30\n",
      "End Time = 13:42:47\n"
     ]
    },
    {
     "name": "stderr",
     "output_type": "stream",
     "text": [
      "/tmp/ipykernel_364/3853139118.py:94: ParserWarning: Both a converter and dtype were specified for column SMILES - only the converter will be used.\n",
      "  for i,df in enumerate(activity_reader):\n",
      "/tmp/ipykernel_364/3853139118.py:94: ParserWarning: Both a converter and dtype were specified for column pchembl_value - only the converter will be used.\n",
      "  for i,df in enumerate(activity_reader):\n"
     ]
    },
    {
     "name": "stdout",
     "output_type": "stream",
     "text": [
      "8100000\n",
      "Start Time = 13:43:02\n",
      "End Time = 13:43:17\n"
     ]
    },
    {
     "name": "stderr",
     "output_type": "stream",
     "text": [
      "/tmp/ipykernel_364/3853139118.py:94: ParserWarning: Both a converter and dtype were specified for column SMILES - only the converter will be used.\n",
      "  for i,df in enumerate(activity_reader):\n",
      "/tmp/ipykernel_364/3853139118.py:94: ParserWarning: Both a converter and dtype were specified for column pchembl_value - only the converter will be used.\n",
      "  for i,df in enumerate(activity_reader):\n"
     ]
    },
    {
     "name": "stdout",
     "output_type": "stream",
     "text": [
      "8150000\n",
      "Start Time = 13:43:31\n",
      "End Time = 13:43:48\n"
     ]
    },
    {
     "name": "stderr",
     "output_type": "stream",
     "text": [
      "/tmp/ipykernel_364/3853139118.py:94: ParserWarning: Both a converter and dtype were specified for column SMILES - only the converter will be used.\n",
      "  for i,df in enumerate(activity_reader):\n",
      "/tmp/ipykernel_364/3853139118.py:94: ParserWarning: Both a converter and dtype were specified for column pchembl_value - only the converter will be used.\n",
      "  for i,df in enumerate(activity_reader):\n"
     ]
    },
    {
     "name": "stdout",
     "output_type": "stream",
     "text": [
      "8200000\n",
      "Start Time = 13:44:01\n",
      "End Time = 13:44:18\n"
     ]
    },
    {
     "name": "stderr",
     "output_type": "stream",
     "text": [
      "/tmp/ipykernel_364/3853139118.py:94: ParserWarning: Both a converter and dtype were specified for column SMILES - only the converter will be used.\n",
      "  for i,df in enumerate(activity_reader):\n",
      "/tmp/ipykernel_364/3853139118.py:94: ParserWarning: Both a converter and dtype were specified for column pchembl_value - only the converter will be used.\n",
      "  for i,df in enumerate(activity_reader):\n"
     ]
    },
    {
     "name": "stdout",
     "output_type": "stream",
     "text": [
      "8250000\n",
      "Start Time = 13:44:33\n",
      "End Time = 13:44:48\n"
     ]
    },
    {
     "name": "stderr",
     "output_type": "stream",
     "text": [
      "/tmp/ipykernel_364/3853139118.py:94: ParserWarning: Both a converter and dtype were specified for column SMILES - only the converter will be used.\n",
      "  for i,df in enumerate(activity_reader):\n",
      "/tmp/ipykernel_364/3853139118.py:94: ParserWarning: Both a converter and dtype were specified for column pchembl_value - only the converter will be used.\n",
      "  for i,df in enumerate(activity_reader):\n"
     ]
    },
    {
     "name": "stdout",
     "output_type": "stream",
     "text": [
      "8300000\n",
      "Start Time = 13:45:03\n",
      "End Time = 13:45:20\n"
     ]
    },
    {
     "name": "stderr",
     "output_type": "stream",
     "text": [
      "/tmp/ipykernel_364/3853139118.py:94: ParserWarning: Both a converter and dtype were specified for column SMILES - only the converter will be used.\n",
      "  for i,df in enumerate(activity_reader):\n",
      "/tmp/ipykernel_364/3853139118.py:94: ParserWarning: Both a converter and dtype were specified for column pchembl_value - only the converter will be used.\n",
      "  for i,df in enumerate(activity_reader):\n"
     ]
    },
    {
     "name": "stdout",
     "output_type": "stream",
     "text": [
      "8350000\n",
      "Start Time = 13:45:34\n",
      "End Time = 13:45:51\n"
     ]
    },
    {
     "name": "stderr",
     "output_type": "stream",
     "text": [
      "/tmp/ipykernel_364/3853139118.py:94: ParserWarning: Both a converter and dtype were specified for column SMILES - only the converter will be used.\n",
      "  for i,df in enumerate(activity_reader):\n",
      "/tmp/ipykernel_364/3853139118.py:94: ParserWarning: Both a converter and dtype were specified for column pchembl_value - only the converter will be used.\n",
      "  for i,df in enumerate(activity_reader):\n"
     ]
    },
    {
     "name": "stdout",
     "output_type": "stream",
     "text": [
      "8400000\n",
      "Start Time = 13:46:05\n",
      "End Time = 13:46:20\n"
     ]
    },
    {
     "name": "stderr",
     "output_type": "stream",
     "text": [
      "/tmp/ipykernel_364/3853139118.py:94: ParserWarning: Both a converter and dtype were specified for column SMILES - only the converter will be used.\n",
      "  for i,df in enumerate(activity_reader):\n",
      "/tmp/ipykernel_364/3853139118.py:94: ParserWarning: Both a converter and dtype were specified for column pchembl_value - only the converter will be used.\n",
      "  for i,df in enumerate(activity_reader):\n"
     ]
    },
    {
     "name": "stdout",
     "output_type": "stream",
     "text": [
      "8450000\n",
      "Start Time = 13:46:35\n",
      "End Time = 13:46:52\n"
     ]
    },
    {
     "name": "stderr",
     "output_type": "stream",
     "text": [
      "/tmp/ipykernel_364/3853139118.py:94: ParserWarning: Both a converter and dtype were specified for column SMILES - only the converter will be used.\n",
      "  for i,df in enumerate(activity_reader):\n",
      "/tmp/ipykernel_364/3853139118.py:94: ParserWarning: Both a converter and dtype were specified for column pchembl_value - only the converter will be used.\n",
      "  for i,df in enumerate(activity_reader):\n"
     ]
    },
    {
     "name": "stdout",
     "output_type": "stream",
     "text": [
      "8500000\n",
      "Start Time = 13:47:07\n",
      "End Time = 13:47:23\n"
     ]
    },
    {
     "name": "stderr",
     "output_type": "stream",
     "text": [
      "/tmp/ipykernel_364/3853139118.py:94: ParserWarning: Both a converter and dtype were specified for column SMILES - only the converter will be used.\n",
      "  for i,df in enumerate(activity_reader):\n",
      "/tmp/ipykernel_364/3853139118.py:94: ParserWarning: Both a converter and dtype were specified for column pchembl_value - only the converter will be used.\n",
      "  for i,df in enumerate(activity_reader):\n"
     ]
    },
    {
     "name": "stdout",
     "output_type": "stream",
     "text": [
      "8550000\n",
      "Start Time = 13:47:38\n",
      "End Time = 13:47:53\n"
     ]
    },
    {
     "name": "stderr",
     "output_type": "stream",
     "text": [
      "/tmp/ipykernel_364/3853139118.py:94: ParserWarning: Both a converter and dtype were specified for column SMILES - only the converter will be used.\n",
      "  for i,df in enumerate(activity_reader):\n",
      "/tmp/ipykernel_364/3853139118.py:94: ParserWarning: Both a converter and dtype were specified for column pchembl_value - only the converter will be used.\n",
      "  for i,df in enumerate(activity_reader):\n"
     ]
    },
    {
     "name": "stdout",
     "output_type": "stream",
     "text": [
      "8600000\n",
      "Start Time = 13:48:07\n",
      "End Time = 13:48:23\n"
     ]
    },
    {
     "name": "stderr",
     "output_type": "stream",
     "text": [
      "/tmp/ipykernel_364/3853139118.py:94: ParserWarning: Both a converter and dtype were specified for column SMILES - only the converter will be used.\n",
      "  for i,df in enumerate(activity_reader):\n",
      "/tmp/ipykernel_364/3853139118.py:94: ParserWarning: Both a converter and dtype were specified for column pchembl_value - only the converter will be used.\n",
      "  for i,df in enumerate(activity_reader):\n"
     ]
    },
    {
     "name": "stdout",
     "output_type": "stream",
     "text": [
      "8650000\n",
      "Start Time = 13:48:37\n",
      "End Time = 13:48:54\n"
     ]
    },
    {
     "name": "stderr",
     "output_type": "stream",
     "text": [
      "/tmp/ipykernel_364/3853139118.py:94: ParserWarning: Both a converter and dtype were specified for column SMILES - only the converter will be used.\n",
      "  for i,df in enumerate(activity_reader):\n",
      "/tmp/ipykernel_364/3853139118.py:94: ParserWarning: Both a converter and dtype were specified for column pchembl_value - only the converter will be used.\n",
      "  for i,df in enumerate(activity_reader):\n"
     ]
    },
    {
     "name": "stdout",
     "output_type": "stream",
     "text": [
      "8700000\n",
      "Start Time = 13:49:08\n",
      "End Time = 13:49:24\n"
     ]
    },
    {
     "name": "stderr",
     "output_type": "stream",
     "text": [
      "/tmp/ipykernel_364/3853139118.py:94: ParserWarning: Both a converter and dtype were specified for column SMILES - only the converter will be used.\n",
      "  for i,df in enumerate(activity_reader):\n",
      "/tmp/ipykernel_364/3853139118.py:94: ParserWarning: Both a converter and dtype were specified for column pchembl_value - only the converter will be used.\n",
      "  for i,df in enumerate(activity_reader):\n"
     ]
    },
    {
     "name": "stdout",
     "output_type": "stream",
     "text": [
      "8750000\n",
      "Start Time = 13:49:38\n",
      "End Time = 13:49:56\n"
     ]
    },
    {
     "name": "stderr",
     "output_type": "stream",
     "text": [
      "/tmp/ipykernel_364/3853139118.py:94: ParserWarning: Both a converter and dtype were specified for column SMILES - only the converter will be used.\n",
      "  for i,df in enumerate(activity_reader):\n",
      "/tmp/ipykernel_364/3853139118.py:94: ParserWarning: Both a converter and dtype were specified for column pchembl_value - only the converter will be used.\n",
      "  for i,df in enumerate(activity_reader):\n"
     ]
    },
    {
     "name": "stdout",
     "output_type": "stream",
     "text": [
      "8800000\n",
      "Start Time = 13:50:10\n",
      "End Time = 13:50:28\n"
     ]
    },
    {
     "name": "stderr",
     "output_type": "stream",
     "text": [
      "/tmp/ipykernel_364/3853139118.py:94: ParserWarning: Both a converter and dtype were specified for column SMILES - only the converter will be used.\n",
      "  for i,df in enumerate(activity_reader):\n",
      "/tmp/ipykernel_364/3853139118.py:94: ParserWarning: Both a converter and dtype were specified for column pchembl_value - only the converter will be used.\n",
      "  for i,df in enumerate(activity_reader):\n"
     ]
    },
    {
     "name": "stdout",
     "output_type": "stream",
     "text": [
      "8850000\n",
      "Start Time = 13:50:43\n",
      "End Time = 13:50:59\n"
     ]
    },
    {
     "name": "stderr",
     "output_type": "stream",
     "text": [
      "/tmp/ipykernel_364/3853139118.py:94: ParserWarning: Both a converter and dtype were specified for column SMILES - only the converter will be used.\n",
      "  for i,df in enumerate(activity_reader):\n",
      "/tmp/ipykernel_364/3853139118.py:94: ParserWarning: Both a converter and dtype were specified for column pchembl_value - only the converter will be used.\n",
      "  for i,df in enumerate(activity_reader):\n"
     ]
    },
    {
     "name": "stdout",
     "output_type": "stream",
     "text": [
      "8900000\n",
      "Start Time = 13:51:13\n",
      "End Time = 13:51:30\n"
     ]
    },
    {
     "name": "stderr",
     "output_type": "stream",
     "text": [
      "/tmp/ipykernel_364/3853139118.py:94: ParserWarning: Both a converter and dtype were specified for column SMILES - only the converter will be used.\n",
      "  for i,df in enumerate(activity_reader):\n",
      "/tmp/ipykernel_364/3853139118.py:94: ParserWarning: Both a converter and dtype were specified for column pchembl_value - only the converter will be used.\n",
      "  for i,df in enumerate(activity_reader):\n"
     ]
    },
    {
     "name": "stdout",
     "output_type": "stream",
     "text": [
      "8950000\n",
      "Start Time = 13:51:44\n",
      "End Time = 13:52:01\n"
     ]
    },
    {
     "name": "stderr",
     "output_type": "stream",
     "text": [
      "/tmp/ipykernel_364/3853139118.py:94: ParserWarning: Both a converter and dtype were specified for column SMILES - only the converter will be used.\n",
      "  for i,df in enumerate(activity_reader):\n",
      "/tmp/ipykernel_364/3853139118.py:94: ParserWarning: Both a converter and dtype were specified for column pchembl_value - only the converter will be used.\n",
      "  for i,df in enumerate(activity_reader):\n"
     ]
    },
    {
     "name": "stdout",
     "output_type": "stream",
     "text": [
      "9000000\n",
      "Start Time = 13:52:16\n",
      "End Time = 13:52:30\n"
     ]
    },
    {
     "name": "stderr",
     "output_type": "stream",
     "text": [
      "/tmp/ipykernel_364/3853139118.py:94: ParserWarning: Both a converter and dtype were specified for column SMILES - only the converter will be used.\n",
      "  for i,df in enumerate(activity_reader):\n",
      "/tmp/ipykernel_364/3853139118.py:94: ParserWarning: Both a converter and dtype were specified for column pchembl_value - only the converter will be used.\n",
      "  for i,df in enumerate(activity_reader):\n"
     ]
    },
    {
     "name": "stdout",
     "output_type": "stream",
     "text": [
      "9050000\n",
      "Start Time = 13:52:44\n",
      "End Time = 13:53:01\n"
     ]
    },
    {
     "name": "stderr",
     "output_type": "stream",
     "text": [
      "/tmp/ipykernel_364/3853139118.py:94: ParserWarning: Both a converter and dtype were specified for column SMILES - only the converter will be used.\n",
      "  for i,df in enumerate(activity_reader):\n",
      "/tmp/ipykernel_364/3853139118.py:94: ParserWarning: Both a converter and dtype were specified for column pchembl_value - only the converter will be used.\n",
      "  for i,df in enumerate(activity_reader):\n"
     ]
    },
    {
     "name": "stdout",
     "output_type": "stream",
     "text": [
      "9100000\n",
      "Start Time = 13:53:15\n",
      "End Time = 13:53:32\n"
     ]
    },
    {
     "name": "stderr",
     "output_type": "stream",
     "text": [
      "/tmp/ipykernel_364/3853139118.py:94: ParserWarning: Both a converter and dtype were specified for column SMILES - only the converter will be used.\n",
      "  for i,df in enumerate(activity_reader):\n",
      "/tmp/ipykernel_364/3853139118.py:94: ParserWarning: Both a converter and dtype were specified for column pchembl_value - only the converter will be used.\n",
      "  for i,df in enumerate(activity_reader):\n"
     ]
    },
    {
     "name": "stdout",
     "output_type": "stream",
     "text": [
      "9150000\n",
      "Start Time = 13:53:46\n",
      "End Time = 13:54:01\n"
     ]
    },
    {
     "name": "stderr",
     "output_type": "stream",
     "text": [
      "/tmp/ipykernel_364/3853139118.py:94: ParserWarning: Both a converter and dtype were specified for column SMILES - only the converter will be used.\n",
      "  for i,df in enumerate(activity_reader):\n",
      "/tmp/ipykernel_364/3853139118.py:94: ParserWarning: Both a converter and dtype were specified for column pchembl_value - only the converter will be used.\n",
      "  for i,df in enumerate(activity_reader):\n"
     ]
    },
    {
     "name": "stdout",
     "output_type": "stream",
     "text": [
      "9200000\n",
      "Start Time = 13:54:16\n",
      "End Time = 13:54:33\n"
     ]
    },
    {
     "name": "stderr",
     "output_type": "stream",
     "text": [
      "/tmp/ipykernel_364/3853139118.py:94: ParserWarning: Both a converter and dtype were specified for column SMILES - only the converter will be used.\n",
      "  for i,df in enumerate(activity_reader):\n",
      "/tmp/ipykernel_364/3853139118.py:94: ParserWarning: Both a converter and dtype were specified for column pchembl_value - only the converter will be used.\n",
      "  for i,df in enumerate(activity_reader):\n"
     ]
    },
    {
     "name": "stdout",
     "output_type": "stream",
     "text": [
      "9250000\n",
      "Start Time = 13:54:47\n",
      "End Time = 13:55:03\n"
     ]
    },
    {
     "name": "stderr",
     "output_type": "stream",
     "text": [
      "/tmp/ipykernel_364/3853139118.py:94: ParserWarning: Both a converter and dtype were specified for column SMILES - only the converter will be used.\n",
      "  for i,df in enumerate(activity_reader):\n",
      "/tmp/ipykernel_364/3853139118.py:94: ParserWarning: Both a converter and dtype were specified for column pchembl_value - only the converter will be used.\n",
      "  for i,df in enumerate(activity_reader):\n"
     ]
    },
    {
     "name": "stdout",
     "output_type": "stream",
     "text": [
      "9300000\n",
      "Start Time = 13:55:18\n",
      "End Time = 13:55:34\n"
     ]
    },
    {
     "name": "stderr",
     "output_type": "stream",
     "text": [
      "/tmp/ipykernel_364/3853139118.py:94: ParserWarning: Both a converter and dtype were specified for column SMILES - only the converter will be used.\n",
      "  for i,df in enumerate(activity_reader):\n",
      "/tmp/ipykernel_364/3853139118.py:94: ParserWarning: Both a converter and dtype were specified for column pchembl_value - only the converter will be used.\n",
      "  for i,df in enumerate(activity_reader):\n"
     ]
    },
    {
     "name": "stdout",
     "output_type": "stream",
     "text": [
      "9350000\n",
      "Start Time = 13:55:48\n",
      "End Time = 13:56:07\n"
     ]
    },
    {
     "name": "stderr",
     "output_type": "stream",
     "text": [
      "/tmp/ipykernel_364/3853139118.py:94: ParserWarning: Both a converter and dtype were specified for column SMILES - only the converter will be used.\n",
      "  for i,df in enumerate(activity_reader):\n",
      "/tmp/ipykernel_364/3853139118.py:94: ParserWarning: Both a converter and dtype were specified for column pchembl_value - only the converter will be used.\n",
      "  for i,df in enumerate(activity_reader):\n"
     ]
    },
    {
     "name": "stdout",
     "output_type": "stream",
     "text": [
      "9400000\n",
      "Start Time = 13:56:22\n",
      "End Time = 13:56:39\n"
     ]
    },
    {
     "name": "stderr",
     "output_type": "stream",
     "text": [
      "/tmp/ipykernel_364/3853139118.py:94: ParserWarning: Both a converter and dtype were specified for column SMILES - only the converter will be used.\n",
      "  for i,df in enumerate(activity_reader):\n",
      "/tmp/ipykernel_364/3853139118.py:94: ParserWarning: Both a converter and dtype were specified for column pchembl_value - only the converter will be used.\n",
      "  for i,df in enumerate(activity_reader):\n"
     ]
    },
    {
     "name": "stdout",
     "output_type": "stream",
     "text": [
      "9450000\n",
      "Start Time = 13:56:53\n",
      "End Time = 13:57:08\n"
     ]
    },
    {
     "name": "stderr",
     "output_type": "stream",
     "text": [
      "/tmp/ipykernel_364/3853139118.py:94: ParserWarning: Both a converter and dtype were specified for column SMILES - only the converter will be used.\n",
      "  for i,df in enumerate(activity_reader):\n",
      "/tmp/ipykernel_364/3853139118.py:94: ParserWarning: Both a converter and dtype were specified for column pchembl_value - only the converter will be used.\n",
      "  for i,df in enumerate(activity_reader):\n"
     ]
    },
    {
     "name": "stdout",
     "output_type": "stream",
     "text": [
      "9500000\n",
      "Start Time = 13:57:23\n",
      "End Time = 13:57:40\n"
     ]
    },
    {
     "name": "stderr",
     "output_type": "stream",
     "text": [
      "/tmp/ipykernel_364/3853139118.py:94: ParserWarning: Both a converter and dtype were specified for column SMILES - only the converter will be used.\n",
      "  for i,df in enumerate(activity_reader):\n",
      "/tmp/ipykernel_364/3853139118.py:94: ParserWarning: Both a converter and dtype were specified for column pchembl_value - only the converter will be used.\n",
      "  for i,df in enumerate(activity_reader):\n"
     ]
    },
    {
     "name": "stdout",
     "output_type": "stream",
     "text": [
      "9550000\n",
      "Start Time = 13:57:54\n",
      "End Time = 13:58:11\n"
     ]
    },
    {
     "name": "stderr",
     "output_type": "stream",
     "text": [
      "/tmp/ipykernel_364/3853139118.py:94: ParserWarning: Both a converter and dtype were specified for column SMILES - only the converter will be used.\n",
      "  for i,df in enumerate(activity_reader):\n",
      "/tmp/ipykernel_364/3853139118.py:94: ParserWarning: Both a converter and dtype were specified for column pchembl_value - only the converter will be used.\n",
      "  for i,df in enumerate(activity_reader):\n"
     ]
    },
    {
     "name": "stdout",
     "output_type": "stream",
     "text": [
      "9600000\n",
      "Start Time = 13:58:25\n",
      "End Time = 13:58:40\n"
     ]
    },
    {
     "name": "stderr",
     "output_type": "stream",
     "text": [
      "/tmp/ipykernel_364/3853139118.py:94: ParserWarning: Both a converter and dtype were specified for column SMILES - only the converter will be used.\n",
      "  for i,df in enumerate(activity_reader):\n",
      "/tmp/ipykernel_364/3853139118.py:94: ParserWarning: Both a converter and dtype were specified for column pchembl_value - only the converter will be used.\n",
      "  for i,df in enumerate(activity_reader):\n"
     ]
    },
    {
     "name": "stdout",
     "output_type": "stream",
     "text": [
      "9650000\n",
      "Start Time = 13:58:55\n",
      "End Time = 13:59:12\n"
     ]
    },
    {
     "name": "stderr",
     "output_type": "stream",
     "text": [
      "/tmp/ipykernel_364/3853139118.py:94: ParserWarning: Both a converter and dtype were specified for column SMILES - only the converter will be used.\n",
      "  for i,df in enumerate(activity_reader):\n",
      "/tmp/ipykernel_364/3853139118.py:94: ParserWarning: Both a converter and dtype were specified for column pchembl_value - only the converter will be used.\n",
      "  for i,df in enumerate(activity_reader):\n"
     ]
    },
    {
     "name": "stdout",
     "output_type": "stream",
     "text": [
      "9700000\n",
      "Start Time = 13:59:26\n",
      "End Time = 13:59:43\n"
     ]
    },
    {
     "name": "stderr",
     "output_type": "stream",
     "text": [
      "/tmp/ipykernel_364/3853139118.py:94: ParserWarning: Both a converter and dtype were specified for column SMILES - only the converter will be used.\n",
      "  for i,df in enumerate(activity_reader):\n",
      "/tmp/ipykernel_364/3853139118.py:94: ParserWarning: Both a converter and dtype were specified for column pchembl_value - only the converter will be used.\n",
      "  for i,df in enumerate(activity_reader):\n"
     ]
    },
    {
     "name": "stdout",
     "output_type": "stream",
     "text": [
      "9750000\n",
      "Start Time = 13:59:59\n",
      "End Time = 14:00:15\n"
     ]
    },
    {
     "name": "stderr",
     "output_type": "stream",
     "text": [
      "/tmp/ipykernel_364/3853139118.py:94: ParserWarning: Both a converter and dtype were specified for column SMILES - only the converter will be used.\n",
      "  for i,df in enumerate(activity_reader):\n",
      "/tmp/ipykernel_364/3853139118.py:94: ParserWarning: Both a converter and dtype were specified for column pchembl_value - only the converter will be used.\n",
      "  for i,df in enumerate(activity_reader):\n"
     ]
    },
    {
     "name": "stdout",
     "output_type": "stream",
     "text": [
      "9800000\n",
      "Start Time = 14:00:30\n",
      "End Time = 14:00:47\n"
     ]
    },
    {
     "name": "stderr",
     "output_type": "stream",
     "text": [
      "/tmp/ipykernel_364/3853139118.py:94: ParserWarning: Both a converter and dtype were specified for column SMILES - only the converter will be used.\n",
      "  for i,df in enumerate(activity_reader):\n",
      "/tmp/ipykernel_364/3853139118.py:94: ParserWarning: Both a converter and dtype were specified for column pchembl_value - only the converter will be used.\n",
      "  for i,df in enumerate(activity_reader):\n"
     ]
    },
    {
     "name": "stdout",
     "output_type": "stream",
     "text": [
      "9850000\n",
      "Start Time = 14:01:02\n",
      "End Time = 14:01:18\n"
     ]
    },
    {
     "name": "stderr",
     "output_type": "stream",
     "text": [
      "/tmp/ipykernel_364/3853139118.py:94: ParserWarning: Both a converter and dtype were specified for column SMILES - only the converter will be used.\n",
      "  for i,df in enumerate(activity_reader):\n",
      "/tmp/ipykernel_364/3853139118.py:94: ParserWarning: Both a converter and dtype were specified for column pchembl_value - only the converter will be used.\n",
      "  for i,df in enumerate(activity_reader):\n"
     ]
    },
    {
     "name": "stdout",
     "output_type": "stream",
     "text": [
      "9900000\n",
      "Start Time = 14:01:33\n",
      "End Time = 14:01:48\n"
     ]
    },
    {
     "name": "stderr",
     "output_type": "stream",
     "text": [
      "/tmp/ipykernel_364/3853139118.py:94: ParserWarning: Both a converter and dtype were specified for column SMILES - only the converter will be used.\n",
      "  for i,df in enumerate(activity_reader):\n",
      "/tmp/ipykernel_364/3853139118.py:94: ParserWarning: Both a converter and dtype were specified for column pchembl_value - only the converter will be used.\n",
      "  for i,df in enumerate(activity_reader):\n"
     ]
    },
    {
     "name": "stdout",
     "output_type": "stream",
     "text": [
      "9950000\n",
      "Start Time = 14:02:02\n",
      "End Time = 14:02:19\n"
     ]
    },
    {
     "name": "stderr",
     "output_type": "stream",
     "text": [
      "/tmp/ipykernel_364/3853139118.py:94: ParserWarning: Both a converter and dtype were specified for column SMILES - only the converter will be used.\n",
      "  for i,df in enumerate(activity_reader):\n",
      "/tmp/ipykernel_364/3853139118.py:94: ParserWarning: Both a converter and dtype were specified for column pchembl_value - only the converter will be used.\n",
      "  for i,df in enumerate(activity_reader):\n"
     ]
    },
    {
     "name": "stdout",
     "output_type": "stream",
     "text": [
      "10000000\n",
      "Start Time = 14:02:34\n",
      "End Time = 14:02:51\n"
     ]
    },
    {
     "name": "stderr",
     "output_type": "stream",
     "text": [
      "/tmp/ipykernel_364/3853139118.py:94: ParserWarning: Both a converter and dtype were specified for column SMILES - only the converter will be used.\n",
      "  for i,df in enumerate(activity_reader):\n",
      "/tmp/ipykernel_364/3853139118.py:94: ParserWarning: Both a converter and dtype were specified for column pchembl_value - only the converter will be used.\n",
      "  for i,df in enumerate(activity_reader):\n"
     ]
    },
    {
     "name": "stdout",
     "output_type": "stream",
     "text": [
      "10050000\n",
      "Start Time = 14:03:06\n",
      "End Time = 14:03:21\n"
     ]
    },
    {
     "name": "stderr",
     "output_type": "stream",
     "text": [
      "/tmp/ipykernel_364/3853139118.py:94: ParserWarning: Both a converter and dtype were specified for column SMILES - only the converter will be used.\n",
      "  for i,df in enumerate(activity_reader):\n",
      "/tmp/ipykernel_364/3853139118.py:94: ParserWarning: Both a converter and dtype were specified for column pchembl_value - only the converter will be used.\n",
      "  for i,df in enumerate(activity_reader):\n"
     ]
    },
    {
     "name": "stdout",
     "output_type": "stream",
     "text": [
      "10100000\n",
      "Start Time = 14:03:36\n",
      "End Time = 14:03:54\n"
     ]
    },
    {
     "name": "stderr",
     "output_type": "stream",
     "text": [
      "/tmp/ipykernel_364/3853139118.py:94: ParserWarning: Both a converter and dtype were specified for column SMILES - only the converter will be used.\n",
      "  for i,df in enumerate(activity_reader):\n",
      "/tmp/ipykernel_364/3853139118.py:94: ParserWarning: Both a converter and dtype were specified for column pchembl_value - only the converter will be used.\n",
      "  for i,df in enumerate(activity_reader):\n"
     ]
    },
    {
     "name": "stdout",
     "output_type": "stream",
     "text": [
      "10150000\n",
      "Start Time = 14:04:09\n",
      "End Time = 14:04:27\n"
     ]
    },
    {
     "name": "stderr",
     "output_type": "stream",
     "text": [
      "/tmp/ipykernel_364/3853139118.py:94: ParserWarning: Both a converter and dtype were specified for column SMILES - only the converter will be used.\n",
      "  for i,df in enumerate(activity_reader):\n",
      "/tmp/ipykernel_364/3853139118.py:94: ParserWarning: Both a converter and dtype were specified for column pchembl_value - only the converter will be used.\n",
      "  for i,df in enumerate(activity_reader):\n"
     ]
    },
    {
     "name": "stdout",
     "output_type": "stream",
     "text": [
      "10200000\n",
      "Start Time = 14:04:41\n",
      "End Time = 14:04:56\n"
     ]
    },
    {
     "name": "stderr",
     "output_type": "stream",
     "text": [
      "/tmp/ipykernel_364/3853139118.py:94: ParserWarning: Both a converter and dtype were specified for column SMILES - only the converter will be used.\n",
      "  for i,df in enumerate(activity_reader):\n",
      "/tmp/ipykernel_364/3853139118.py:94: ParserWarning: Both a converter and dtype were specified for column pchembl_value - only the converter will be used.\n",
      "  for i,df in enumerate(activity_reader):\n"
     ]
    },
    {
     "name": "stdout",
     "output_type": "stream",
     "text": [
      "10250000\n",
      "Start Time = 14:05:11\n",
      "End Time = 14:05:27\n"
     ]
    },
    {
     "name": "stderr",
     "output_type": "stream",
     "text": [
      "/tmp/ipykernel_364/3853139118.py:94: ParserWarning: Both a converter and dtype were specified for column SMILES - only the converter will be used.\n",
      "  for i,df in enumerate(activity_reader):\n",
      "/tmp/ipykernel_364/3853139118.py:94: ParserWarning: Both a converter and dtype were specified for column pchembl_value - only the converter will be used.\n",
      "  for i,df in enumerate(activity_reader):\n"
     ]
    },
    {
     "name": "stdout",
     "output_type": "stream",
     "text": [
      "10300000\n",
      "Start Time = 14:05:41\n",
      "End Time = 14:05:59\n"
     ]
    },
    {
     "name": "stderr",
     "output_type": "stream",
     "text": [
      "/tmp/ipykernel_364/3853139118.py:94: ParserWarning: Both a converter and dtype were specified for column SMILES - only the converter will be used.\n",
      "  for i,df in enumerate(activity_reader):\n",
      "/tmp/ipykernel_364/3853139118.py:94: ParserWarning: Both a converter and dtype were specified for column pchembl_value - only the converter will be used.\n",
      "  for i,df in enumerate(activity_reader):\n"
     ]
    },
    {
     "name": "stdout",
     "output_type": "stream",
     "text": [
      "10350000\n",
      "Start Time = 14:06:13\n",
      "End Time = 14:06:28\n"
     ]
    },
    {
     "name": "stderr",
     "output_type": "stream",
     "text": [
      "/tmp/ipykernel_364/3853139118.py:94: ParserWarning: Both a converter and dtype were specified for column SMILES - only the converter will be used.\n",
      "  for i,df in enumerate(activity_reader):\n",
      "/tmp/ipykernel_364/3853139118.py:94: ParserWarning: Both a converter and dtype were specified for column pchembl_value - only the converter will be used.\n",
      "  for i,df in enumerate(activity_reader):\n"
     ]
    },
    {
     "name": "stdout",
     "output_type": "stream",
     "text": [
      "10400000\n",
      "Start Time = 14:06:43\n",
      "End Time = 14:07:00\n"
     ]
    },
    {
     "name": "stderr",
     "output_type": "stream",
     "text": [
      "/tmp/ipykernel_364/3853139118.py:94: ParserWarning: Both a converter and dtype were specified for column SMILES - only the converter will be used.\n",
      "  for i,df in enumerate(activity_reader):\n",
      "/tmp/ipykernel_364/3853139118.py:94: ParserWarning: Both a converter and dtype were specified for column pchembl_value - only the converter will be used.\n",
      "  for i,df in enumerate(activity_reader):\n"
     ]
    },
    {
     "name": "stdout",
     "output_type": "stream",
     "text": [
      "10450000\n",
      "Start Time = 14:07:14\n",
      "End Time = 14:07:31\n"
     ]
    },
    {
     "name": "stderr",
     "output_type": "stream",
     "text": [
      "/tmp/ipykernel_364/3853139118.py:94: ParserWarning: Both a converter and dtype were specified for column SMILES - only the converter will be used.\n",
      "  for i,df in enumerate(activity_reader):\n",
      "/tmp/ipykernel_364/3853139118.py:94: ParserWarning: Both a converter and dtype were specified for column pchembl_value - only the converter will be used.\n",
      "  for i,df in enumerate(activity_reader):\n"
     ]
    },
    {
     "name": "stdout",
     "output_type": "stream",
     "text": [
      "10500000\n",
      "Start Time = 14:07:46\n",
      "End Time = 14:08:01\n"
     ]
    },
    {
     "name": "stderr",
     "output_type": "stream",
     "text": [
      "/tmp/ipykernel_364/3853139118.py:94: ParserWarning: Both a converter and dtype were specified for column SMILES - only the converter will be used.\n",
      "  for i,df in enumerate(activity_reader):\n",
      "/tmp/ipykernel_364/3853139118.py:94: ParserWarning: Both a converter and dtype were specified for column pchembl_value - only the converter will be used.\n",
      "  for i,df in enumerate(activity_reader):\n"
     ]
    },
    {
     "name": "stdout",
     "output_type": "stream",
     "text": [
      "10550000\n",
      "Start Time = 14:08:16\n",
      "End Time = 14:08:33\n"
     ]
    },
    {
     "name": "stderr",
     "output_type": "stream",
     "text": [
      "/tmp/ipykernel_364/3853139118.py:94: ParserWarning: Both a converter and dtype were specified for column SMILES - only the converter will be used.\n",
      "  for i,df in enumerate(activity_reader):\n",
      "/tmp/ipykernel_364/3853139118.py:94: ParserWarning: Both a converter and dtype were specified for column pchembl_value - only the converter will be used.\n",
      "  for i,df in enumerate(activity_reader):\n"
     ]
    },
    {
     "name": "stdout",
     "output_type": "stream",
     "text": [
      "10600000\n",
      "Start Time = 14:08:47\n",
      "End Time = 14:09:04\n"
     ]
    },
    {
     "name": "stderr",
     "output_type": "stream",
     "text": [
      "/tmp/ipykernel_364/3853139118.py:94: ParserWarning: Both a converter and dtype were specified for column SMILES - only the converter will be used.\n",
      "  for i,df in enumerate(activity_reader):\n",
      "/tmp/ipykernel_364/3853139118.py:94: ParserWarning: Both a converter and dtype were specified for column pchembl_value - only the converter will be used.\n",
      "  for i,df in enumerate(activity_reader):\n"
     ]
    },
    {
     "name": "stdout",
     "output_type": "stream",
     "text": [
      "10650000\n",
      "Start Time = 14:09:19\n",
      "End Time = 14:09:33\n"
     ]
    },
    {
     "name": "stderr",
     "output_type": "stream",
     "text": [
      "/tmp/ipykernel_364/3853139118.py:94: ParserWarning: Both a converter and dtype were specified for column SMILES - only the converter will be used.\n",
      "  for i,df in enumerate(activity_reader):\n",
      "/tmp/ipykernel_364/3853139118.py:94: ParserWarning: Both a converter and dtype were specified for column pchembl_value - only the converter will be used.\n",
      "  for i,df in enumerate(activity_reader):\n"
     ]
    },
    {
     "name": "stdout",
     "output_type": "stream",
     "text": [
      "10700000\n",
      "Start Time = 14:09:48\n",
      "End Time = 14:10:04\n"
     ]
    },
    {
     "name": "stderr",
     "output_type": "stream",
     "text": [
      "/tmp/ipykernel_364/3853139118.py:94: ParserWarning: Both a converter and dtype were specified for column SMILES - only the converter will be used.\n",
      "  for i,df in enumerate(activity_reader):\n",
      "/tmp/ipykernel_364/3853139118.py:94: ParserWarning: Both a converter and dtype were specified for column pchembl_value - only the converter will be used.\n",
      "  for i,df in enumerate(activity_reader):\n"
     ]
    },
    {
     "name": "stdout",
     "output_type": "stream",
     "text": [
      "10750000\n",
      "Start Time = 14:10:18\n",
      "End Time = 14:10:34\n"
     ]
    },
    {
     "name": "stderr",
     "output_type": "stream",
     "text": [
      "/tmp/ipykernel_364/3853139118.py:94: ParserWarning: Both a converter and dtype were specified for column SMILES - only the converter will be used.\n",
      "  for i,df in enumerate(activity_reader):\n",
      "/tmp/ipykernel_364/3853139118.py:94: ParserWarning: Both a converter and dtype were specified for column pchembl_value - only the converter will be used.\n",
      "  for i,df in enumerate(activity_reader):\n"
     ]
    },
    {
     "name": "stdout",
     "output_type": "stream",
     "text": [
      "10800000\n",
      "Start Time = 14:10:49\n",
      "End Time = 14:11:04\n"
     ]
    },
    {
     "name": "stderr",
     "output_type": "stream",
     "text": [
      "/tmp/ipykernel_364/3853139118.py:94: ParserWarning: Both a converter and dtype were specified for column SMILES - only the converter will be used.\n",
      "  for i,df in enumerate(activity_reader):\n",
      "/tmp/ipykernel_364/3853139118.py:94: ParserWarning: Both a converter and dtype were specified for column pchembl_value - only the converter will be used.\n",
      "  for i,df in enumerate(activity_reader):\n"
     ]
    },
    {
     "name": "stdout",
     "output_type": "stream",
     "text": [
      "10850000\n",
      "Start Time = 14:11:19\n",
      "End Time = 14:11:36\n"
     ]
    },
    {
     "name": "stderr",
     "output_type": "stream",
     "text": [
      "/tmp/ipykernel_364/3853139118.py:94: ParserWarning: Both a converter and dtype were specified for column SMILES - only the converter will be used.\n",
      "  for i,df in enumerate(activity_reader):\n",
      "/tmp/ipykernel_364/3853139118.py:94: ParserWarning: Both a converter and dtype were specified for column pchembl_value - only the converter will be used.\n",
      "  for i,df in enumerate(activity_reader):\n"
     ]
    },
    {
     "name": "stdout",
     "output_type": "stream",
     "text": [
      "10900000\n",
      "Start Time = 14:11:50\n",
      "End Time = 14:12:07\n"
     ]
    },
    {
     "name": "stderr",
     "output_type": "stream",
     "text": [
      "/tmp/ipykernel_364/3853139118.py:94: ParserWarning: Both a converter and dtype were specified for column SMILES - only the converter will be used.\n",
      "  for i,df in enumerate(activity_reader):\n",
      "/tmp/ipykernel_364/3853139118.py:94: ParserWarning: Both a converter and dtype were specified for column pchembl_value - only the converter will be used.\n",
      "  for i,df in enumerate(activity_reader):\n"
     ]
    },
    {
     "name": "stdout",
     "output_type": "stream",
     "text": [
      "10950000\n",
      "Start Time = 14:12:21\n",
      "End Time = 14:12:36\n"
     ]
    },
    {
     "name": "stderr",
     "output_type": "stream",
     "text": [
      "/tmp/ipykernel_364/3853139118.py:94: ParserWarning: Both a converter and dtype were specified for column SMILES - only the converter will be used.\n",
      "  for i,df in enumerate(activity_reader):\n",
      "/tmp/ipykernel_364/3853139118.py:94: ParserWarning: Both a converter and dtype were specified for column pchembl_value - only the converter will be used.\n",
      "  for i,df in enumerate(activity_reader):\n"
     ]
    },
    {
     "name": "stdout",
     "output_type": "stream",
     "text": [
      "11000000\n",
      "Start Time = 14:12:50\n",
      "End Time = 14:13:06\n"
     ]
    },
    {
     "name": "stderr",
     "output_type": "stream",
     "text": [
      "/tmp/ipykernel_364/3853139118.py:94: ParserWarning: Both a converter and dtype were specified for column SMILES - only the converter will be used.\n",
      "  for i,df in enumerate(activity_reader):\n",
      "/tmp/ipykernel_364/3853139118.py:94: ParserWarning: Both a converter and dtype were specified for column pchembl_value - only the converter will be used.\n",
      "  for i,df in enumerate(activity_reader):\n"
     ]
    },
    {
     "name": "stdout",
     "output_type": "stream",
     "text": [
      "11050000\n",
      "Start Time = 14:13:20\n",
      "End Time = 14:13:37\n"
     ]
    },
    {
     "name": "stderr",
     "output_type": "stream",
     "text": [
      "/tmp/ipykernel_364/3853139118.py:94: ParserWarning: Both a converter and dtype were specified for column SMILES - only the converter will be used.\n",
      "  for i,df in enumerate(activity_reader):\n",
      "/tmp/ipykernel_364/3853139118.py:94: ParserWarning: Both a converter and dtype were specified for column pchembl_value - only the converter will be used.\n",
      "  for i,df in enumerate(activity_reader):\n"
     ]
    },
    {
     "name": "stdout",
     "output_type": "stream",
     "text": [
      "11100000\n",
      "Start Time = 14:13:52\n",
      "End Time = 14:14:07\n"
     ]
    },
    {
     "name": "stderr",
     "output_type": "stream",
     "text": [
      "/tmp/ipykernel_364/3853139118.py:94: ParserWarning: Both a converter and dtype were specified for column SMILES - only the converter will be used.\n",
      "  for i,df in enumerate(activity_reader):\n",
      "/tmp/ipykernel_364/3853139118.py:94: ParserWarning: Both a converter and dtype were specified for column pchembl_value - only the converter will be used.\n",
      "  for i,df in enumerate(activity_reader):\n"
     ]
    },
    {
     "name": "stdout",
     "output_type": "stream",
     "text": [
      "11150000\n",
      "Start Time = 14:14:22\n",
      "End Time = 14:14:39\n"
     ]
    },
    {
     "name": "stderr",
     "output_type": "stream",
     "text": [
      "/tmp/ipykernel_364/3853139118.py:94: ParserWarning: Both a converter and dtype were specified for column SMILES - only the converter will be used.\n",
      "  for i,df in enumerate(activity_reader):\n",
      "/tmp/ipykernel_364/3853139118.py:94: ParserWarning: Both a converter and dtype were specified for column pchembl_value - only the converter will be used.\n",
      "  for i,df in enumerate(activity_reader):\n"
     ]
    },
    {
     "name": "stdout",
     "output_type": "stream",
     "text": [
      "11200000\n",
      "Start Time = 14:14:54\n",
      "End Time = 14:15:11\n"
     ]
    },
    {
     "name": "stderr",
     "output_type": "stream",
     "text": [
      "/tmp/ipykernel_364/3853139118.py:94: ParserWarning: Both a converter and dtype were specified for column SMILES - only the converter will be used.\n",
      "  for i,df in enumerate(activity_reader):\n",
      "/tmp/ipykernel_364/3853139118.py:94: ParserWarning: Both a converter and dtype were specified for column pchembl_value - only the converter will be used.\n",
      "  for i,df in enumerate(activity_reader):\n"
     ]
    },
    {
     "name": "stdout",
     "output_type": "stream",
     "text": [
      "11250000\n",
      "Start Time = 14:15:26\n",
      "End Time = 14:15:40\n"
     ]
    },
    {
     "name": "stderr",
     "output_type": "stream",
     "text": [
      "/tmp/ipykernel_364/3853139118.py:94: ParserWarning: Both a converter and dtype were specified for column SMILES - only the converter will be used.\n",
      "  for i,df in enumerate(activity_reader):\n",
      "/tmp/ipykernel_364/3853139118.py:94: ParserWarning: Both a converter and dtype were specified for column pchembl_value - only the converter will be used.\n",
      "  for i,df in enumerate(activity_reader):\n"
     ]
    },
    {
     "name": "stdout",
     "output_type": "stream",
     "text": [
      "11300000\n",
      "Start Time = 14:15:55\n",
      "End Time = 14:16:11\n"
     ]
    },
    {
     "name": "stderr",
     "output_type": "stream",
     "text": [
      "/tmp/ipykernel_364/3853139118.py:94: ParserWarning: Both a converter and dtype were specified for column SMILES - only the converter will be used.\n",
      "  for i,df in enumerate(activity_reader):\n",
      "/tmp/ipykernel_364/3853139118.py:94: ParserWarning: Both a converter and dtype were specified for column pchembl_value - only the converter will be used.\n",
      "  for i,df in enumerate(activity_reader):\n"
     ]
    },
    {
     "name": "stdout",
     "output_type": "stream",
     "text": [
      "11350000\n",
      "Start Time = 14:16:26\n",
      "End Time = 14:16:43\n"
     ]
    },
    {
     "name": "stderr",
     "output_type": "stream",
     "text": [
      "/tmp/ipykernel_364/3853139118.py:94: ParserWarning: Both a converter and dtype were specified for column SMILES - only the converter will be used.\n",
      "  for i,df in enumerate(activity_reader):\n",
      "/tmp/ipykernel_364/3853139118.py:94: ParserWarning: Both a converter and dtype were specified for column pchembl_value - only the converter will be used.\n",
      "  for i,df in enumerate(activity_reader):\n"
     ]
    },
    {
     "name": "stdout",
     "output_type": "stream",
     "text": [
      "11400000\n",
      "Start Time = 14:16:57\n",
      "End Time = 14:17:12\n"
     ]
    },
    {
     "name": "stderr",
     "output_type": "stream",
     "text": [
      "/tmp/ipykernel_364/3853139118.py:94: ParserWarning: Both a converter and dtype were specified for column SMILES - only the converter will be used.\n",
      "  for i,df in enumerate(activity_reader):\n",
      "/tmp/ipykernel_364/3853139118.py:94: ParserWarning: Both a converter and dtype were specified for column pchembl_value - only the converter will be used.\n",
      "  for i,df in enumerate(activity_reader):\n"
     ]
    },
    {
     "name": "stdout",
     "output_type": "stream",
     "text": [
      "11450000\n",
      "Start Time = 14:17:26\n",
      "End Time = 14:17:43\n"
     ]
    },
    {
     "name": "stderr",
     "output_type": "stream",
     "text": [
      "/tmp/ipykernel_364/3853139118.py:94: ParserWarning: Both a converter and dtype were specified for column SMILES - only the converter will be used.\n",
      "  for i,df in enumerate(activity_reader):\n",
      "/tmp/ipykernel_364/3853139118.py:94: ParserWarning: Both a converter and dtype were specified for column pchembl_value - only the converter will be used.\n",
      "  for i,df in enumerate(activity_reader):\n"
     ]
    },
    {
     "name": "stdout",
     "output_type": "stream",
     "text": [
      "11500000\n",
      "Start Time = 14:17:57\n",
      "End Time = 14:18:13\n"
     ]
    },
    {
     "name": "stderr",
     "output_type": "stream",
     "text": [
      "/tmp/ipykernel_364/3853139118.py:94: ParserWarning: Both a converter and dtype were specified for column SMILES - only the converter will be used.\n",
      "  for i,df in enumerate(activity_reader):\n",
      "/tmp/ipykernel_364/3853139118.py:94: ParserWarning: Both a converter and dtype were specified for column pchembl_value - only the converter will be used.\n",
      "  for i,df in enumerate(activity_reader):\n"
     ]
    },
    {
     "name": "stdout",
     "output_type": "stream",
     "text": [
      "11550000\n",
      "Start Time = 14:18:28\n",
      "End Time = 14:18:43\n"
     ]
    },
    {
     "name": "stderr",
     "output_type": "stream",
     "text": [
      "/tmp/ipykernel_364/3853139118.py:94: ParserWarning: Both a converter and dtype were specified for column SMILES - only the converter will be used.\n",
      "  for i,df in enumerate(activity_reader):\n",
      "/tmp/ipykernel_364/3853139118.py:94: ParserWarning: Both a converter and dtype were specified for column pchembl_value - only the converter will be used.\n",
      "  for i,df in enumerate(activity_reader):\n"
     ]
    },
    {
     "name": "stdout",
     "output_type": "stream",
     "text": [
      "11600000\n",
      "Start Time = 14:18:57\n",
      "End Time = 14:19:14\n"
     ]
    },
    {
     "name": "stderr",
     "output_type": "stream",
     "text": [
      "/tmp/ipykernel_364/3853139118.py:94: ParserWarning: Both a converter and dtype were specified for column SMILES - only the converter will be used.\n",
      "  for i,df in enumerate(activity_reader):\n",
      "/tmp/ipykernel_364/3853139118.py:94: ParserWarning: Both a converter and dtype were specified for column pchembl_value - only the converter will be used.\n",
      "  for i,df in enumerate(activity_reader):\n"
     ]
    },
    {
     "name": "stdout",
     "output_type": "stream",
     "text": [
      "11650000\n",
      "Start Time = 14:19:28\n",
      "End Time = 14:19:45\n"
     ]
    },
    {
     "name": "stderr",
     "output_type": "stream",
     "text": [
      "/tmp/ipykernel_364/3853139118.py:94: ParserWarning: Both a converter and dtype were specified for column SMILES - only the converter will be used.\n",
      "  for i,df in enumerate(activity_reader):\n",
      "/tmp/ipykernel_364/3853139118.py:94: ParserWarning: Both a converter and dtype were specified for column pchembl_value - only the converter will be used.\n",
      "  for i,df in enumerate(activity_reader):\n"
     ]
    },
    {
     "name": "stdout",
     "output_type": "stream",
     "text": [
      "11700000\n",
      "Start Time = 14:20:00\n",
      "End Time = 14:20:15\n"
     ]
    },
    {
     "name": "stderr",
     "output_type": "stream",
     "text": [
      "/tmp/ipykernel_364/3853139118.py:94: ParserWarning: Both a converter and dtype were specified for column SMILES - only the converter will be used.\n",
      "  for i,df in enumerate(activity_reader):\n",
      "/tmp/ipykernel_364/3853139118.py:94: ParserWarning: Both a converter and dtype were specified for column pchembl_value - only the converter will be used.\n",
      "  for i,df in enumerate(activity_reader):\n"
     ]
    },
    {
     "name": "stdout",
     "output_type": "stream",
     "text": [
      "11750000\n",
      "Start Time = 14:20:30\n",
      "End Time = 14:20:47\n"
     ]
    },
    {
     "name": "stderr",
     "output_type": "stream",
     "text": [
      "/tmp/ipykernel_364/3853139118.py:94: ParserWarning: Both a converter and dtype were specified for column SMILES - only the converter will be used.\n",
      "  for i,df in enumerate(activity_reader):\n",
      "/tmp/ipykernel_364/3853139118.py:94: ParserWarning: Both a converter and dtype were specified for column pchembl_value - only the converter will be used.\n",
      "  for i,df in enumerate(activity_reader):\n"
     ]
    },
    {
     "name": "stdout",
     "output_type": "stream",
     "text": [
      "11800000\n",
      "Start Time = 14:21:02\n",
      "End Time = 14:21:19\n"
     ]
    },
    {
     "name": "stderr",
     "output_type": "stream",
     "text": [
      "/tmp/ipykernel_364/3853139118.py:94: ParserWarning: Both a converter and dtype were specified for column SMILES - only the converter will be used.\n",
      "  for i,df in enumerate(activity_reader):\n",
      "/tmp/ipykernel_364/3853139118.py:94: ParserWarning: Both a converter and dtype were specified for column pchembl_value - only the converter will be used.\n",
      "  for i,df in enumerate(activity_reader):\n"
     ]
    },
    {
     "name": "stdout",
     "output_type": "stream",
     "text": [
      "11850000\n",
      "Start Time = 14:21:33\n",
      "End Time = 14:21:48\n"
     ]
    },
    {
     "name": "stderr",
     "output_type": "stream",
     "text": [
      "/tmp/ipykernel_364/3853139118.py:94: ParserWarning: Both a converter and dtype were specified for column SMILES - only the converter will be used.\n",
      "  for i,df in enumerate(activity_reader):\n",
      "/tmp/ipykernel_364/3853139118.py:94: ParserWarning: Both a converter and dtype were specified for column pchembl_value - only the converter will be used.\n",
      "  for i,df in enumerate(activity_reader):\n"
     ]
    },
    {
     "name": "stdout",
     "output_type": "stream",
     "text": [
      "11900000\n",
      "Start Time = 14:22:03\n",
      "End Time = 14:22:19\n"
     ]
    },
    {
     "name": "stderr",
     "output_type": "stream",
     "text": [
      "/tmp/ipykernel_364/3853139118.py:94: ParserWarning: Both a converter and dtype were specified for column SMILES - only the converter will be used.\n",
      "  for i,df in enumerate(activity_reader):\n",
      "/tmp/ipykernel_364/3853139118.py:94: ParserWarning: Both a converter and dtype were specified for column pchembl_value - only the converter will be used.\n",
      "  for i,df in enumerate(activity_reader):\n"
     ]
    },
    {
     "name": "stdout",
     "output_type": "stream",
     "text": [
      "11950000\n",
      "Start Time = 14:22:34\n",
      "End Time = 14:22:51\n"
     ]
    },
    {
     "name": "stderr",
     "output_type": "stream",
     "text": [
      "/tmp/ipykernel_364/3853139118.py:94: ParserWarning: Both a converter and dtype were specified for column SMILES - only the converter will be used.\n",
      "  for i,df in enumerate(activity_reader):\n",
      "/tmp/ipykernel_364/3853139118.py:94: ParserWarning: Both a converter and dtype were specified for column pchembl_value - only the converter will be used.\n",
      "  for i,df in enumerate(activity_reader):\n"
     ]
    },
    {
     "name": "stdout",
     "output_type": "stream",
     "text": [
      "12000000\n",
      "Start Time = 14:23:05\n",
      "End Time = 14:23:20\n"
     ]
    },
    {
     "name": "stderr",
     "output_type": "stream",
     "text": [
      "/tmp/ipykernel_364/3853139118.py:94: ParserWarning: Both a converter and dtype were specified for column SMILES - only the converter will be used.\n",
      "  for i,df in enumerate(activity_reader):\n",
      "/tmp/ipykernel_364/3853139118.py:94: ParserWarning: Both a converter and dtype were specified for column pchembl_value - only the converter will be used.\n",
      "  for i,df in enumerate(activity_reader):\n"
     ]
    },
    {
     "name": "stdout",
     "output_type": "stream",
     "text": [
      "12050000\n",
      "Start Time = 14:23:34\n",
      "End Time = 14:23:51\n"
     ]
    },
    {
     "name": "stderr",
     "output_type": "stream",
     "text": [
      "/tmp/ipykernel_364/3853139118.py:94: ParserWarning: Both a converter and dtype were specified for column SMILES - only the converter will be used.\n",
      "  for i,df in enumerate(activity_reader):\n",
      "/tmp/ipykernel_364/3853139118.py:94: ParserWarning: Both a converter and dtype were specified for column pchembl_value - only the converter will be used.\n",
      "  for i,df in enumerate(activity_reader):\n"
     ]
    },
    {
     "name": "stdout",
     "output_type": "stream",
     "text": [
      "12100000\n",
      "Start Time = 14:24:06\n",
      "End Time = 14:24:23\n"
     ]
    },
    {
     "name": "stderr",
     "output_type": "stream",
     "text": [
      "/tmp/ipykernel_364/3853139118.py:94: ParserWarning: Both a converter and dtype were specified for column SMILES - only the converter will be used.\n",
      "  for i,df in enumerate(activity_reader):\n",
      "/tmp/ipykernel_364/3853139118.py:94: ParserWarning: Both a converter and dtype were specified for column pchembl_value - only the converter will be used.\n",
      "  for i,df in enumerate(activity_reader):\n"
     ]
    },
    {
     "name": "stdout",
     "output_type": "stream",
     "text": [
      "12150000\n",
      "Start Time = 14:24:38\n",
      "End Time = 14:24:53\n"
     ]
    },
    {
     "name": "stderr",
     "output_type": "stream",
     "text": [
      "/tmp/ipykernel_364/3853139118.py:94: ParserWarning: Both a converter and dtype were specified for column SMILES - only the converter will be used.\n",
      "  for i,df in enumerate(activity_reader):\n",
      "/tmp/ipykernel_364/3853139118.py:94: ParserWarning: Both a converter and dtype were specified for column pchembl_value - only the converter will be used.\n",
      "  for i,df in enumerate(activity_reader):\n"
     ]
    },
    {
     "name": "stdout",
     "output_type": "stream",
     "text": [
      "12200000\n",
      "Start Time = 14:25:07\n",
      "End Time = 14:25:25\n"
     ]
    },
    {
     "name": "stderr",
     "output_type": "stream",
     "text": [
      "/tmp/ipykernel_364/3853139118.py:94: ParserWarning: Both a converter and dtype were specified for column SMILES - only the converter will be used.\n",
      "  for i,df in enumerate(activity_reader):\n",
      "/tmp/ipykernel_364/3853139118.py:94: ParserWarning: Both a converter and dtype were specified for column pchembl_value - only the converter will be used.\n",
      "  for i,df in enumerate(activity_reader):\n"
     ]
    },
    {
     "name": "stdout",
     "output_type": "stream",
     "text": [
      "12250000\n",
      "Start Time = 14:25:40\n",
      "End Time = 14:25:57\n"
     ]
    },
    {
     "name": "stderr",
     "output_type": "stream",
     "text": [
      "/tmp/ipykernel_364/3853139118.py:94: ParserWarning: Both a converter and dtype were specified for column SMILES - only the converter will be used.\n",
      "  for i,df in enumerate(activity_reader):\n",
      "/tmp/ipykernel_364/3853139118.py:94: ParserWarning: Both a converter and dtype were specified for column pchembl_value - only the converter will be used.\n",
      "  for i,df in enumerate(activity_reader):\n"
     ]
    },
    {
     "name": "stdout",
     "output_type": "stream",
     "text": [
      "12300000\n",
      "Start Time = 14:26:12\n",
      "End Time = 14:26:27\n"
     ]
    },
    {
     "name": "stderr",
     "output_type": "stream",
     "text": [
      "/tmp/ipykernel_364/3853139118.py:94: ParserWarning: Both a converter and dtype were specified for column SMILES - only the converter will be used.\n",
      "  for i,df in enumerate(activity_reader):\n",
      "/tmp/ipykernel_364/3853139118.py:94: ParserWarning: Both a converter and dtype were specified for column pchembl_value - only the converter will be used.\n",
      "  for i,df in enumerate(activity_reader):\n"
     ]
    },
    {
     "name": "stdout",
     "output_type": "stream",
     "text": [
      "12350000\n",
      "Start Time = 14:26:42\n",
      "End Time = 14:26:59\n"
     ]
    },
    {
     "name": "stderr",
     "output_type": "stream",
     "text": [
      "/tmp/ipykernel_364/3853139118.py:94: ParserWarning: Both a converter and dtype were specified for column SMILES - only the converter will be used.\n",
      "  for i,df in enumerate(activity_reader):\n",
      "/tmp/ipykernel_364/3853139118.py:94: ParserWarning: Both a converter and dtype were specified for column pchembl_value - only the converter will be used.\n",
      "  for i,df in enumerate(activity_reader):\n"
     ]
    },
    {
     "name": "stdout",
     "output_type": "stream",
     "text": [
      "12400000\n",
      "Start Time = 14:27:13\n",
      "End Time = 14:27:30\n"
     ]
    },
    {
     "name": "stderr",
     "output_type": "stream",
     "text": [
      "/tmp/ipykernel_364/3853139118.py:94: ParserWarning: Both a converter and dtype were specified for column SMILES - only the converter will be used.\n",
      "  for i,df in enumerate(activity_reader):\n",
      "/tmp/ipykernel_364/3853139118.py:94: ParserWarning: Both a converter and dtype were specified for column pchembl_value - only the converter will be used.\n",
      "  for i,df in enumerate(activity_reader):\n"
     ]
    },
    {
     "name": "stdout",
     "output_type": "stream",
     "text": [
      "12450000\n",
      "Start Time = 14:27:44\n",
      "End Time = 14:27:58\n"
     ]
    },
    {
     "name": "stderr",
     "output_type": "stream",
     "text": [
      "/tmp/ipykernel_364/3853139118.py:94: ParserWarning: Both a converter and dtype were specified for column SMILES - only the converter will be used.\n",
      "  for i,df in enumerate(activity_reader):\n",
      "/tmp/ipykernel_364/3853139118.py:94: ParserWarning: Both a converter and dtype were specified for column pchembl_value - only the converter will be used.\n",
      "  for i,df in enumerate(activity_reader):\n"
     ]
    },
    {
     "name": "stdout",
     "output_type": "stream",
     "text": [
      "12500000\n",
      "Start Time = 14:28:13\n",
      "End Time = 14:28:30\n"
     ]
    },
    {
     "name": "stderr",
     "output_type": "stream",
     "text": [
      "/tmp/ipykernel_364/3853139118.py:94: ParserWarning: Both a converter and dtype were specified for column SMILES - only the converter will be used.\n",
      "  for i,df in enumerate(activity_reader):\n",
      "/tmp/ipykernel_364/3853139118.py:94: ParserWarning: Both a converter and dtype were specified for column pchembl_value - only the converter will be used.\n",
      "  for i,df in enumerate(activity_reader):\n"
     ]
    },
    {
     "name": "stdout",
     "output_type": "stream",
     "text": [
      "12550000\n",
      "Start Time = 14:28:44\n",
      "End Time = 14:29:01\n"
     ]
    },
    {
     "name": "stderr",
     "output_type": "stream",
     "text": [
      "/tmp/ipykernel_364/3853139118.py:94: ParserWarning: Both a converter and dtype were specified for column SMILES - only the converter will be used.\n",
      "  for i,df in enumerate(activity_reader):\n",
      "/tmp/ipykernel_364/3853139118.py:94: ParserWarning: Both a converter and dtype were specified for column pchembl_value - only the converter will be used.\n",
      "  for i,df in enumerate(activity_reader):\n"
     ]
    },
    {
     "name": "stdout",
     "output_type": "stream",
     "text": [
      "12600000\n",
      "Start Time = 14:29:15\n",
      "End Time = 14:29:30\n"
     ]
    },
    {
     "name": "stderr",
     "output_type": "stream",
     "text": [
      "/tmp/ipykernel_364/3853139118.py:94: ParserWarning: Both a converter and dtype were specified for column SMILES - only the converter will be used.\n",
      "  for i,df in enumerate(activity_reader):\n",
      "/tmp/ipykernel_364/3853139118.py:94: ParserWarning: Both a converter and dtype were specified for column pchembl_value - only the converter will be used.\n",
      "  for i,df in enumerate(activity_reader):\n"
     ]
    },
    {
     "name": "stdout",
     "output_type": "stream",
     "text": [
      "12650000\n",
      "Start Time = 14:29:45\n",
      "End Time = 14:30:01\n"
     ]
    },
    {
     "name": "stderr",
     "output_type": "stream",
     "text": [
      "/tmp/ipykernel_364/3853139118.py:94: ParserWarning: Both a converter and dtype were specified for column SMILES - only the converter will be used.\n",
      "  for i,df in enumerate(activity_reader):\n",
      "/tmp/ipykernel_364/3853139118.py:94: ParserWarning: Both a converter and dtype were specified for column pchembl_value - only the converter will be used.\n",
      "  for i,df in enumerate(activity_reader):\n"
     ]
    },
    {
     "name": "stdout",
     "output_type": "stream",
     "text": [
      "12700000\n",
      "Start Time = 14:30:16\n",
      "End Time = 14:30:34\n"
     ]
    },
    {
     "name": "stderr",
     "output_type": "stream",
     "text": [
      "/tmp/ipykernel_364/3853139118.py:94: ParserWarning: Both a converter and dtype were specified for column SMILES - only the converter will be used.\n",
      "  for i,df in enumerate(activity_reader):\n",
      "/tmp/ipykernel_364/3853139118.py:94: ParserWarning: Both a converter and dtype were specified for column pchembl_value - only the converter will be used.\n",
      "  for i,df in enumerate(activity_reader):\n"
     ]
    },
    {
     "name": "stdout",
     "output_type": "stream",
     "text": [
      "12750000\n",
      "Start Time = 14:30:49\n",
      "End Time = 14:31:04\n"
     ]
    },
    {
     "name": "stderr",
     "output_type": "stream",
     "text": [
      "/tmp/ipykernel_364/3853139118.py:94: ParserWarning: Both a converter and dtype were specified for column SMILES - only the converter will be used.\n",
      "  for i,df in enumerate(activity_reader):\n",
      "/tmp/ipykernel_364/3853139118.py:94: ParserWarning: Both a converter and dtype were specified for column pchembl_value - only the converter will be used.\n",
      "  for i,df in enumerate(activity_reader):\n"
     ]
    },
    {
     "name": "stdout",
     "output_type": "stream",
     "text": [
      "12800000\n",
      "Start Time = 14:31:19\n",
      "End Time = 14:31:36\n"
     ]
    },
    {
     "name": "stderr",
     "output_type": "stream",
     "text": [
      "/tmp/ipykernel_364/3853139118.py:94: ParserWarning: Both a converter and dtype were specified for column SMILES - only the converter will be used.\n",
      "  for i,df in enumerate(activity_reader):\n",
      "/tmp/ipykernel_364/3853139118.py:94: ParserWarning: Both a converter and dtype were specified for column pchembl_value - only the converter will be used.\n",
      "  for i,df in enumerate(activity_reader):\n"
     ]
    },
    {
     "name": "stdout",
     "output_type": "stream",
     "text": [
      "12850000\n",
      "Start Time = 14:31:51\n",
      "End Time = 14:32:07\n"
     ]
    },
    {
     "name": "stderr",
     "output_type": "stream",
     "text": [
      "/tmp/ipykernel_364/3853139118.py:94: ParserWarning: Both a converter and dtype were specified for column SMILES - only the converter will be used.\n",
      "  for i,df in enumerate(activity_reader):\n",
      "/tmp/ipykernel_364/3853139118.py:94: ParserWarning: Both a converter and dtype were specified for column pchembl_value - only the converter will be used.\n",
      "  for i,df in enumerate(activity_reader):\n"
     ]
    },
    {
     "name": "stdout",
     "output_type": "stream",
     "text": [
      "12900000\n",
      "Start Time = 14:32:21\n",
      "End Time = 14:32:37\n"
     ]
    },
    {
     "name": "stderr",
     "output_type": "stream",
     "text": [
      "/tmp/ipykernel_364/3853139118.py:94: ParserWarning: Both a converter and dtype were specified for column SMILES - only the converter will be used.\n",
      "  for i,df in enumerate(activity_reader):\n",
      "/tmp/ipykernel_364/3853139118.py:94: ParserWarning: Both a converter and dtype were specified for column pchembl_value - only the converter will be used.\n",
      "  for i,df in enumerate(activity_reader):\n"
     ]
    },
    {
     "name": "stdout",
     "output_type": "stream",
     "text": [
      "12950000\n",
      "Start Time = 14:32:51\n",
      "End Time = 14:33:08\n"
     ]
    },
    {
     "name": "stderr",
     "output_type": "stream",
     "text": [
      "/tmp/ipykernel_364/3853139118.py:94: ParserWarning: Both a converter and dtype were specified for column SMILES - only the converter will be used.\n",
      "  for i,df in enumerate(activity_reader):\n",
      "/tmp/ipykernel_364/3853139118.py:94: ParserWarning: Both a converter and dtype were specified for column pchembl_value - only the converter will be used.\n",
      "  for i,df in enumerate(activity_reader):\n"
     ]
    },
    {
     "name": "stdout",
     "output_type": "stream",
     "text": [
      "13000000\n",
      "Start Time = 14:33:23\n",
      "End Time = 14:33:39\n"
     ]
    },
    {
     "name": "stderr",
     "output_type": "stream",
     "text": [
      "/tmp/ipykernel_364/3853139118.py:94: ParserWarning: Both a converter and dtype were specified for column SMILES - only the converter will be used.\n",
      "  for i,df in enumerate(activity_reader):\n",
      "/tmp/ipykernel_364/3853139118.py:94: ParserWarning: Both a converter and dtype were specified for column pchembl_value - only the converter will be used.\n",
      "  for i,df in enumerate(activity_reader):\n"
     ]
    },
    {
     "name": "stdout",
     "output_type": "stream",
     "text": [
      "13050000\n",
      "Start Time = 14:33:53\n",
      "End Time = 14:34:08\n"
     ]
    },
    {
     "name": "stderr",
     "output_type": "stream",
     "text": [
      "/tmp/ipykernel_364/3853139118.py:94: ParserWarning: Both a converter and dtype were specified for column SMILES - only the converter will be used.\n",
      "  for i,df in enumerate(activity_reader):\n",
      "/tmp/ipykernel_364/3853139118.py:94: ParserWarning: Both a converter and dtype were specified for column pchembl_value - only the converter will be used.\n",
      "  for i,df in enumerate(activity_reader):\n"
     ]
    },
    {
     "name": "stdout",
     "output_type": "stream",
     "text": [
      "13100000\n",
      "Start Time = 14:34:23\n",
      "End Time = 14:34:41\n"
     ]
    },
    {
     "name": "stderr",
     "output_type": "stream",
     "text": [
      "/tmp/ipykernel_364/3853139118.py:94: ParserWarning: Both a converter and dtype were specified for column SMILES - only the converter will be used.\n",
      "  for i,df in enumerate(activity_reader):\n",
      "/tmp/ipykernel_364/3853139118.py:94: ParserWarning: Both a converter and dtype were specified for column pchembl_value - only the converter will be used.\n",
      "  for i,df in enumerate(activity_reader):\n"
     ]
    },
    {
     "name": "stdout",
     "output_type": "stream",
     "text": [
      "13150000\n",
      "Start Time = 14:34:56\n",
      "End Time = 14:35:13\n"
     ]
    },
    {
     "name": "stderr",
     "output_type": "stream",
     "text": [
      "/tmp/ipykernel_364/3853139118.py:94: ParserWarning: Both a converter and dtype were specified for column SMILES - only the converter will be used.\n",
      "  for i,df in enumerate(activity_reader):\n",
      "/tmp/ipykernel_364/3853139118.py:94: ParserWarning: Both a converter and dtype were specified for column pchembl_value - only the converter will be used.\n",
      "  for i,df in enumerate(activity_reader):\n"
     ]
    },
    {
     "name": "stdout",
     "output_type": "stream",
     "text": [
      "13200000\n",
      "Start Time = 14:35:28\n",
      "End Time = 14:35:43\n"
     ]
    },
    {
     "name": "stderr",
     "output_type": "stream",
     "text": [
      "/tmp/ipykernel_364/3853139118.py:94: ParserWarning: Both a converter and dtype were specified for column SMILES - only the converter will be used.\n",
      "  for i,df in enumerate(activity_reader):\n",
      "/tmp/ipykernel_364/3853139118.py:94: ParserWarning: Both a converter and dtype were specified for column pchembl_value - only the converter will be used.\n",
      "  for i,df in enumerate(activity_reader):\n"
     ]
    },
    {
     "name": "stdout",
     "output_type": "stream",
     "text": [
      "13250000\n",
      "Start Time = 14:35:58\n",
      "End Time = 14:36:15\n"
     ]
    },
    {
     "name": "stderr",
     "output_type": "stream",
     "text": [
      "/tmp/ipykernel_364/3853139118.py:94: ParserWarning: Both a converter and dtype were specified for column SMILES - only the converter will be used.\n",
      "  for i,df in enumerate(activity_reader):\n",
      "/tmp/ipykernel_364/3853139118.py:94: ParserWarning: Both a converter and dtype were specified for column pchembl_value - only the converter will be used.\n",
      "  for i,df in enumerate(activity_reader):\n"
     ]
    },
    {
     "name": "stdout",
     "output_type": "stream",
     "text": [
      "13300000\n",
      "Start Time = 14:36:30\n",
      "End Time = 14:36:47\n"
     ]
    },
    {
     "name": "stderr",
     "output_type": "stream",
     "text": [
      "/tmp/ipykernel_364/3853139118.py:94: ParserWarning: Both a converter and dtype were specified for column SMILES - only the converter will be used.\n",
      "  for i,df in enumerate(activity_reader):\n",
      "/tmp/ipykernel_364/3853139118.py:94: ParserWarning: Both a converter and dtype were specified for column pchembl_value - only the converter will be used.\n",
      "  for i,df in enumerate(activity_reader):\n"
     ]
    },
    {
     "name": "stdout",
     "output_type": "stream",
     "text": [
      "13350000\n",
      "Start Time = 14:37:02\n",
      "End Time = 14:37:17\n"
     ]
    },
    {
     "name": "stderr",
     "output_type": "stream",
     "text": [
      "/tmp/ipykernel_364/3853139118.py:94: ParserWarning: Both a converter and dtype were specified for column SMILES - only the converter will be used.\n",
      "  for i,df in enumerate(activity_reader):\n",
      "/tmp/ipykernel_364/3853139118.py:94: ParserWarning: Both a converter and dtype were specified for column pchembl_value - only the converter will be used.\n",
      "  for i,df in enumerate(activity_reader):\n"
     ]
    },
    {
     "name": "stdout",
     "output_type": "stream",
     "text": [
      "13400000\n",
      "Start Time = 14:37:31\n",
      "End Time = 14:37:48\n"
     ]
    },
    {
     "name": "stderr",
     "output_type": "stream",
     "text": [
      "/tmp/ipykernel_364/3853139118.py:94: ParserWarning: Both a converter and dtype were specified for column SMILES - only the converter will be used.\n",
      "  for i,df in enumerate(activity_reader):\n",
      "/tmp/ipykernel_364/3853139118.py:94: ParserWarning: Both a converter and dtype were specified for column pchembl_value - only the converter will be used.\n",
      "  for i,df in enumerate(activity_reader):\n"
     ]
    },
    {
     "name": "stdout",
     "output_type": "stream",
     "text": [
      "13450000\n",
      "Start Time = 14:38:02\n",
      "End Time = 14:38:19\n"
     ]
    },
    {
     "name": "stderr",
     "output_type": "stream",
     "text": [
      "/tmp/ipykernel_364/3853139118.py:94: ParserWarning: Both a converter and dtype were specified for column SMILES - only the converter will be used.\n",
      "  for i,df in enumerate(activity_reader):\n",
      "/tmp/ipykernel_364/3853139118.py:94: ParserWarning: Both a converter and dtype were specified for column pchembl_value - only the converter will be used.\n",
      "  for i,df in enumerate(activity_reader):\n"
     ]
    },
    {
     "name": "stdout",
     "output_type": "stream",
     "text": [
      "13500000\n",
      "Start Time = 14:38:33\n",
      "End Time = 14:38:48\n"
     ]
    },
    {
     "name": "stderr",
     "output_type": "stream",
     "text": [
      "/tmp/ipykernel_364/3853139118.py:94: ParserWarning: Both a converter and dtype were specified for column SMILES - only the converter will be used.\n",
      "  for i,df in enumerate(activity_reader):\n",
      "/tmp/ipykernel_364/3853139118.py:94: ParserWarning: Both a converter and dtype were specified for column pchembl_value - only the converter will be used.\n",
      "  for i,df in enumerate(activity_reader):\n"
     ]
    },
    {
     "name": "stdout",
     "output_type": "stream",
     "text": [
      "13550000\n",
      "Start Time = 14:39:03\n",
      "End Time = 14:39:21\n"
     ]
    },
    {
     "name": "stderr",
     "output_type": "stream",
     "text": [
      "/tmp/ipykernel_364/3853139118.py:94: ParserWarning: Both a converter and dtype were specified for column SMILES - only the converter will be used.\n",
      "  for i,df in enumerate(activity_reader):\n",
      "/tmp/ipykernel_364/3853139118.py:94: ParserWarning: Both a converter and dtype were specified for column pchembl_value - only the converter will be used.\n",
      "  for i,df in enumerate(activity_reader):\n"
     ]
    },
    {
     "name": "stdout",
     "output_type": "stream",
     "text": [
      "13600000\n",
      "Start Time = 14:39:36\n",
      "End Time = 14:39:53\n"
     ]
    },
    {
     "name": "stderr",
     "output_type": "stream",
     "text": [
      "/tmp/ipykernel_364/3853139118.py:94: ParserWarning: Both a converter and dtype were specified for column SMILES - only the converter will be used.\n",
      "  for i,df in enumerate(activity_reader):\n",
      "/tmp/ipykernel_364/3853139118.py:94: ParserWarning: Both a converter and dtype were specified for column pchembl_value - only the converter will be used.\n",
      "  for i,df in enumerate(activity_reader):\n"
     ]
    },
    {
     "name": "stdout",
     "output_type": "stream",
     "text": [
      "13650000\n",
      "Start Time = 14:40:07\n",
      "End Time = 14:40:23\n"
     ]
    },
    {
     "name": "stderr",
     "output_type": "stream",
     "text": [
      "/tmp/ipykernel_364/3853139118.py:94: ParserWarning: Both a converter and dtype were specified for column SMILES - only the converter will be used.\n",
      "  for i,df in enumerate(activity_reader):\n",
      "/tmp/ipykernel_364/3853139118.py:94: ParserWarning: Both a converter and dtype were specified for column pchembl_value - only the converter will be used.\n",
      "  for i,df in enumerate(activity_reader):\n"
     ]
    },
    {
     "name": "stdout",
     "output_type": "stream",
     "text": [
      "13700000\n",
      "Start Time = 14:40:37\n",
      "End Time = 14:40:54\n"
     ]
    },
    {
     "name": "stderr",
     "output_type": "stream",
     "text": [
      "/tmp/ipykernel_364/3853139118.py:94: ParserWarning: Both a converter and dtype were specified for column SMILES - only the converter will be used.\n",
      "  for i,df in enumerate(activity_reader):\n",
      "/tmp/ipykernel_364/3853139118.py:94: ParserWarning: Both a converter and dtype were specified for column pchembl_value - only the converter will be used.\n",
      "  for i,df in enumerate(activity_reader):\n"
     ]
    },
    {
     "name": "stdout",
     "output_type": "stream",
     "text": [
      "13750000\n",
      "Start Time = 14:41:09\n",
      "End Time = 14:41:25\n"
     ]
    },
    {
     "name": "stderr",
     "output_type": "stream",
     "text": [
      "/tmp/ipykernel_364/3853139118.py:94: ParserWarning: Both a converter and dtype were specified for column SMILES - only the converter will be used.\n",
      "  for i,df in enumerate(activity_reader):\n",
      "/tmp/ipykernel_364/3853139118.py:94: ParserWarning: Both a converter and dtype were specified for column pchembl_value - only the converter will be used.\n",
      "  for i,df in enumerate(activity_reader):\n"
     ]
    },
    {
     "name": "stdout",
     "output_type": "stream",
     "text": [
      "13800000\n",
      "Start Time = 14:41:40\n",
      "End Time = 14:41:54\n"
     ]
    },
    {
     "name": "stderr",
     "output_type": "stream",
     "text": [
      "/tmp/ipykernel_364/3853139118.py:94: ParserWarning: Both a converter and dtype were specified for column SMILES - only the converter will be used.\n",
      "  for i,df in enumerate(activity_reader):\n",
      "/tmp/ipykernel_364/3853139118.py:94: ParserWarning: Both a converter and dtype were specified for column pchembl_value - only the converter will be used.\n",
      "  for i,df in enumerate(activity_reader):\n"
     ]
    },
    {
     "name": "stdout",
     "output_type": "stream",
     "text": [
      "13850000\n",
      "Start Time = 14:42:09\n",
      "End Time = 14:42:25\n"
     ]
    },
    {
     "name": "stderr",
     "output_type": "stream",
     "text": [
      "/tmp/ipykernel_364/3853139118.py:94: ParserWarning: Both a converter and dtype were specified for column SMILES - only the converter will be used.\n",
      "  for i,df in enumerate(activity_reader):\n",
      "/tmp/ipykernel_364/3853139118.py:94: ParserWarning: Both a converter and dtype were specified for column pchembl_value - only the converter will be used.\n",
      "  for i,df in enumerate(activity_reader):\n"
     ]
    },
    {
     "name": "stdout",
     "output_type": "stream",
     "text": [
      "13900000\n",
      "Start Time = 14:42:39\n",
      "End Time = 14:42:56\n"
     ]
    },
    {
     "name": "stderr",
     "output_type": "stream",
     "text": [
      "/tmp/ipykernel_364/3853139118.py:94: ParserWarning: Both a converter and dtype were specified for column SMILES - only the converter will be used.\n",
      "  for i,df in enumerate(activity_reader):\n",
      "/tmp/ipykernel_364/3853139118.py:94: ParserWarning: Both a converter and dtype were specified for column pchembl_value - only the converter will be used.\n",
      "  for i,df in enumerate(activity_reader):\n"
     ]
    },
    {
     "name": "stdout",
     "output_type": "stream",
     "text": [
      "13950000\n",
      "Start Time = 14:43:10\n",
      "End Time = 14:43:25\n"
     ]
    },
    {
     "name": "stderr",
     "output_type": "stream",
     "text": [
      "/tmp/ipykernel_364/3853139118.py:94: ParserWarning: Both a converter and dtype were specified for column SMILES - only the converter will be used.\n",
      "  for i,df in enumerate(activity_reader):\n",
      "/tmp/ipykernel_364/3853139118.py:94: ParserWarning: Both a converter and dtype were specified for column pchembl_value - only the converter will be used.\n",
      "  for i,df in enumerate(activity_reader):\n"
     ]
    },
    {
     "name": "stdout",
     "output_type": "stream",
     "text": [
      "14000000\n",
      "Start Time = 14:43:39\n",
      "End Time = 14:43:56\n"
     ]
    },
    {
     "name": "stderr",
     "output_type": "stream",
     "text": [
      "/tmp/ipykernel_364/3853139118.py:94: ParserWarning: Both a converter and dtype were specified for column SMILES - only the converter will be used.\n",
      "  for i,df in enumerate(activity_reader):\n",
      "/tmp/ipykernel_364/3853139118.py:94: ParserWarning: Both a converter and dtype were specified for column pchembl_value - only the converter will be used.\n",
      "  for i,df in enumerate(activity_reader):\n"
     ]
    },
    {
     "name": "stdout",
     "output_type": "stream",
     "text": [
      "14050000\n",
      "Start Time = 14:44:11\n",
      "End Time = 14:44:28\n"
     ]
    },
    {
     "name": "stderr",
     "output_type": "stream",
     "text": [
      "/tmp/ipykernel_364/3853139118.py:94: ParserWarning: Both a converter and dtype were specified for column SMILES - only the converter will be used.\n",
      "  for i,df in enumerate(activity_reader):\n",
      "/tmp/ipykernel_364/3853139118.py:94: ParserWarning: Both a converter and dtype were specified for column pchembl_value - only the converter will be used.\n",
      "  for i,df in enumerate(activity_reader):\n"
     ]
    },
    {
     "name": "stdout",
     "output_type": "stream",
     "text": [
      "14100000\n",
      "Start Time = 14:44:42\n",
      "End Time = 14:44:57\n"
     ]
    },
    {
     "name": "stderr",
     "output_type": "stream",
     "text": [
      "/tmp/ipykernel_364/3853139118.py:94: ParserWarning: Both a converter and dtype were specified for column SMILES - only the converter will be used.\n",
      "  for i,df in enumerate(activity_reader):\n",
      "/tmp/ipykernel_364/3853139118.py:94: ParserWarning: Both a converter and dtype were specified for column pchembl_value - only the converter will be used.\n",
      "  for i,df in enumerate(activity_reader):\n"
     ]
    },
    {
     "name": "stdout",
     "output_type": "stream",
     "text": [
      "14150000\n",
      "Start Time = 14:45:12\n",
      "End Time = 14:45:28\n"
     ]
    },
    {
     "name": "stderr",
     "output_type": "stream",
     "text": [
      "/tmp/ipykernel_364/3853139118.py:94: ParserWarning: Both a converter and dtype were specified for column SMILES - only the converter will be used.\n",
      "  for i,df in enumerate(activity_reader):\n",
      "/tmp/ipykernel_364/3853139118.py:94: ParserWarning: Both a converter and dtype were specified for column pchembl_value - only the converter will be used.\n",
      "  for i,df in enumerate(activity_reader):\n"
     ]
    },
    {
     "name": "stdout",
     "output_type": "stream",
     "text": [
      "14200000\n",
      "Start Time = 14:45:42\n",
      "End Time = 14:45:59\n"
     ]
    },
    {
     "name": "stderr",
     "output_type": "stream",
     "text": [
      "/tmp/ipykernel_364/3853139118.py:94: ParserWarning: Both a converter and dtype were specified for column SMILES - only the converter will be used.\n",
      "  for i,df in enumerate(activity_reader):\n",
      "/tmp/ipykernel_364/3853139118.py:94: ParserWarning: Both a converter and dtype were specified for column pchembl_value - only the converter will be used.\n",
      "  for i,df in enumerate(activity_reader):\n"
     ]
    },
    {
     "name": "stdout",
     "output_type": "stream",
     "text": [
      "14250000\n",
      "Start Time = 14:46:13\n",
      "End Time = 14:46:28\n"
     ]
    },
    {
     "name": "stderr",
     "output_type": "stream",
     "text": [
      "/tmp/ipykernel_364/3853139118.py:94: ParserWarning: Both a converter and dtype were specified for column SMILES - only the converter will be used.\n",
      "  for i,df in enumerate(activity_reader):\n",
      "/tmp/ipykernel_364/3853139118.py:94: ParserWarning: Both a converter and dtype were specified for column pchembl_value - only the converter will be used.\n",
      "  for i,df in enumerate(activity_reader):\n"
     ]
    },
    {
     "name": "stdout",
     "output_type": "stream",
     "text": [
      "14300000\n",
      "Start Time = 14:46:43\n",
      "End Time = 14:46:59\n"
     ]
    },
    {
     "name": "stderr",
     "output_type": "stream",
     "text": [
      "/tmp/ipykernel_364/3853139118.py:94: ParserWarning: Both a converter and dtype were specified for column SMILES - only the converter will be used.\n",
      "  for i,df in enumerate(activity_reader):\n",
      "/tmp/ipykernel_364/3853139118.py:94: ParserWarning: Both a converter and dtype were specified for column pchembl_value - only the converter will be used.\n",
      "  for i,df in enumerate(activity_reader):\n"
     ]
    },
    {
     "name": "stdout",
     "output_type": "stream",
     "text": [
      "14350000\n",
      "Start Time = 14:47:13\n",
      "End Time = 14:47:30\n"
     ]
    },
    {
     "name": "stderr",
     "output_type": "stream",
     "text": [
      "/tmp/ipykernel_364/3853139118.py:94: ParserWarning: Both a converter and dtype were specified for column SMILES - only the converter will be used.\n",
      "  for i,df in enumerate(activity_reader):\n",
      "/tmp/ipykernel_364/3853139118.py:94: ParserWarning: Both a converter and dtype were specified for column pchembl_value - only the converter will be used.\n",
      "  for i,df in enumerate(activity_reader):\n"
     ]
    },
    {
     "name": "stdout",
     "output_type": "stream",
     "text": [
      "14400000\n",
      "Start Time = 14:47:44\n",
      "End Time = 14:47:59\n"
     ]
    },
    {
     "name": "stderr",
     "output_type": "stream",
     "text": [
      "/tmp/ipykernel_364/3853139118.py:94: ParserWarning: Both a converter and dtype were specified for column SMILES - only the converter will be used.\n",
      "  for i,df in enumerate(activity_reader):\n",
      "/tmp/ipykernel_364/3853139118.py:94: ParserWarning: Both a converter and dtype were specified for column pchembl_value - only the converter will be used.\n",
      "  for i,df in enumerate(activity_reader):\n"
     ]
    },
    {
     "name": "stdout",
     "output_type": "stream",
     "text": [
      "14450000\n",
      "Start Time = 14:48:13\n",
      "End Time = 14:48:29\n"
     ]
    },
    {
     "name": "stderr",
     "output_type": "stream",
     "text": [
      "/tmp/ipykernel_364/3853139118.py:94: ParserWarning: Both a converter and dtype were specified for column SMILES - only the converter will be used.\n",
      "  for i,df in enumerate(activity_reader):\n",
      "/tmp/ipykernel_364/3853139118.py:94: ParserWarning: Both a converter and dtype were specified for column pchembl_value - only the converter will be used.\n",
      "  for i,df in enumerate(activity_reader):\n"
     ]
    },
    {
     "name": "stdout",
     "output_type": "stream",
     "text": [
      "14500000\n",
      "Start Time = 14:48:44\n",
      "End Time = 14:49:01\n"
     ]
    },
    {
     "name": "stderr",
     "output_type": "stream",
     "text": [
      "/tmp/ipykernel_364/3853139118.py:94: ParserWarning: Both a converter and dtype were specified for column SMILES - only the converter will be used.\n",
      "  for i,df in enumerate(activity_reader):\n",
      "/tmp/ipykernel_364/3853139118.py:94: ParserWarning: Both a converter and dtype were specified for column pchembl_value - only the converter will be used.\n",
      "  for i,df in enumerate(activity_reader):\n"
     ]
    },
    {
     "name": "stdout",
     "output_type": "stream",
     "text": [
      "14550000\n",
      "Start Time = 14:49:15\n",
      "End Time = 14:49:29\n"
     ]
    },
    {
     "name": "stderr",
     "output_type": "stream",
     "text": [
      "/tmp/ipykernel_364/3853139118.py:94: ParserWarning: Both a converter and dtype were specified for column SMILES - only the converter will be used.\n",
      "  for i,df in enumerate(activity_reader):\n",
      "/tmp/ipykernel_364/3853139118.py:94: ParserWarning: Both a converter and dtype were specified for column pchembl_value - only the converter will be used.\n",
      "  for i,df in enumerate(activity_reader):\n"
     ]
    },
    {
     "name": "stdout",
     "output_type": "stream",
     "text": [
      "14600000\n",
      "Start Time = 14:49:43\n",
      "End Time = 14:50:00\n"
     ]
    },
    {
     "name": "stderr",
     "output_type": "stream",
     "text": [
      "/tmp/ipykernel_364/3853139118.py:94: ParserWarning: Both a converter and dtype were specified for column SMILES - only the converter will be used.\n",
      "  for i,df in enumerate(activity_reader):\n",
      "/tmp/ipykernel_364/3853139118.py:94: ParserWarning: Both a converter and dtype were specified for column pchembl_value - only the converter will be used.\n",
      "  for i,df in enumerate(activity_reader):\n"
     ]
    },
    {
     "name": "stdout",
     "output_type": "stream",
     "text": [
      "14650000\n",
      "Start Time = 14:50:15\n",
      "End Time = 14:50:32\n"
     ]
    },
    {
     "name": "stderr",
     "output_type": "stream",
     "text": [
      "/tmp/ipykernel_364/3853139118.py:94: ParserWarning: Both a converter and dtype were specified for column SMILES - only the converter will be used.\n",
      "  for i,df in enumerate(activity_reader):\n",
      "/tmp/ipykernel_364/3853139118.py:94: ParserWarning: Both a converter and dtype were specified for column pchembl_value - only the converter will be used.\n",
      "  for i,df in enumerate(activity_reader):\n"
     ]
    },
    {
     "name": "stdout",
     "output_type": "stream",
     "text": [
      "14700000\n",
      "Start Time = 14:50:46\n",
      "End Time = 14:51:03\n"
     ]
    },
    {
     "name": "stderr",
     "output_type": "stream",
     "text": [
      "/tmp/ipykernel_364/3853139118.py:94: ParserWarning: Both a converter and dtype were specified for column SMILES - only the converter will be used.\n",
      "  for i,df in enumerate(activity_reader):\n",
      "/tmp/ipykernel_364/3853139118.py:94: ParserWarning: Both a converter and dtype were specified for column pchembl_value - only the converter will be used.\n",
      "  for i,df in enumerate(activity_reader):\n"
     ]
    },
    {
     "name": "stdout",
     "output_type": "stream",
     "text": [
      "14750000\n",
      "Start Time = 14:51:18\n",
      "End Time = 14:51:35\n"
     ]
    },
    {
     "name": "stderr",
     "output_type": "stream",
     "text": [
      "/tmp/ipykernel_364/3853139118.py:94: ParserWarning: Both a converter and dtype were specified for column SMILES - only the converter will be used.\n",
      "  for i,df in enumerate(activity_reader):\n",
      "/tmp/ipykernel_364/3853139118.py:94: ParserWarning: Both a converter and dtype were specified for column pchembl_value - only the converter will be used.\n",
      "  for i,df in enumerate(activity_reader):\n"
     ]
    },
    {
     "name": "stdout",
     "output_type": "stream",
     "text": [
      "14800000\n",
      "Start Time = 14:51:50\n",
      "End Time = 14:52:06\n"
     ]
    },
    {
     "name": "stderr",
     "output_type": "stream",
     "text": [
      "/tmp/ipykernel_364/3853139118.py:94: ParserWarning: Both a converter and dtype were specified for column SMILES - only the converter will be used.\n",
      "  for i,df in enumerate(activity_reader):\n",
      "/tmp/ipykernel_364/3853139118.py:94: ParserWarning: Both a converter and dtype were specified for column pchembl_value - only the converter will be used.\n",
      "  for i,df in enumerate(activity_reader):\n"
     ]
    },
    {
     "name": "stdout",
     "output_type": "stream",
     "text": [
      "14850000\n",
      "Start Time = 14:52:20\n",
      "End Time = 14:52:35\n"
     ]
    },
    {
     "name": "stderr",
     "output_type": "stream",
     "text": [
      "/tmp/ipykernel_364/3853139118.py:94: ParserWarning: Both a converter and dtype were specified for column SMILES - only the converter will be used.\n",
      "  for i,df in enumerate(activity_reader):\n",
      "/tmp/ipykernel_364/3853139118.py:94: ParserWarning: Both a converter and dtype were specified for column pchembl_value - only the converter will be used.\n",
      "  for i,df in enumerate(activity_reader):\n"
     ]
    },
    {
     "name": "stdout",
     "output_type": "stream",
     "text": [
      "14900000\n",
      "Start Time = 14:52:50\n",
      "End Time = 14:53:06\n"
     ]
    },
    {
     "name": "stderr",
     "output_type": "stream",
     "text": [
      "/tmp/ipykernel_364/3853139118.py:94: ParserWarning: Both a converter and dtype were specified for column SMILES - only the converter will be used.\n",
      "  for i,df in enumerate(activity_reader):\n",
      "/tmp/ipykernel_364/3853139118.py:94: ParserWarning: Both a converter and dtype were specified for column pchembl_value - only the converter will be used.\n",
      "  for i,df in enumerate(activity_reader):\n"
     ]
    },
    {
     "name": "stdout",
     "output_type": "stream",
     "text": [
      "14950000\n",
      "Start Time = 14:53:21\n",
      "End Time = 14:53:37\n"
     ]
    },
    {
     "name": "stderr",
     "output_type": "stream",
     "text": [
      "/tmp/ipykernel_364/3853139118.py:94: ParserWarning: Both a converter and dtype were specified for column SMILES - only the converter will be used.\n",
      "  for i,df in enumerate(activity_reader):\n",
      "/tmp/ipykernel_364/3853139118.py:94: ParserWarning: Both a converter and dtype were specified for column pchembl_value - only the converter will be used.\n",
      "  for i,df in enumerate(activity_reader):\n"
     ]
    },
    {
     "name": "stdout",
     "output_type": "stream",
     "text": [
      "15000000\n",
      "Start Time = 14:53:52\n",
      "End Time = 14:54:07\n"
     ]
    },
    {
     "name": "stderr",
     "output_type": "stream",
     "text": [
      "/tmp/ipykernel_364/3853139118.py:94: ParserWarning: Both a converter and dtype were specified for column SMILES - only the converter will be used.\n",
      "  for i,df in enumerate(activity_reader):\n",
      "/tmp/ipykernel_364/3853139118.py:94: ParserWarning: Both a converter and dtype were specified for column pchembl_value - only the converter will be used.\n",
      "  for i,df in enumerate(activity_reader):\n"
     ]
    },
    {
     "name": "stdout",
     "output_type": "stream",
     "text": [
      "15050000\n",
      "Start Time = 14:54:22\n",
      "End Time = 14:54:39\n"
     ]
    },
    {
     "name": "stderr",
     "output_type": "stream",
     "text": [
      "/tmp/ipykernel_364/3853139118.py:94: ParserWarning: Both a converter and dtype were specified for column SMILES - only the converter will be used.\n",
      "  for i,df in enumerate(activity_reader):\n",
      "/tmp/ipykernel_364/3853139118.py:94: ParserWarning: Both a converter and dtype were specified for column pchembl_value - only the converter will be used.\n",
      "  for i,df in enumerate(activity_reader):\n"
     ]
    },
    {
     "name": "stdout",
     "output_type": "stream",
     "text": [
      "15100000\n",
      "Start Time = 14:54:53\n",
      "End Time = 14:55:11\n"
     ]
    },
    {
     "name": "stderr",
     "output_type": "stream",
     "text": [
      "/tmp/ipykernel_364/3853139118.py:94: ParserWarning: Both a converter and dtype were specified for column SMILES - only the converter will be used.\n",
      "  for i,df in enumerate(activity_reader):\n",
      "/tmp/ipykernel_364/3853139118.py:94: ParserWarning: Both a converter and dtype were specified for column pchembl_value - only the converter will be used.\n",
      "  for i,df in enumerate(activity_reader):\n"
     ]
    },
    {
     "name": "stdout",
     "output_type": "stream",
     "text": [
      "15150000\n",
      "Start Time = 14:55:25\n",
      "End Time = 14:55:40\n"
     ]
    },
    {
     "name": "stderr",
     "output_type": "stream",
     "text": [
      "/tmp/ipykernel_364/3853139118.py:94: ParserWarning: Both a converter and dtype were specified for column SMILES - only the converter will be used.\n",
      "  for i,df in enumerate(activity_reader):\n",
      "/tmp/ipykernel_364/3853139118.py:94: ParserWarning: Both a converter and dtype were specified for column pchembl_value - only the converter will be used.\n",
      "  for i,df in enumerate(activity_reader):\n"
     ]
    },
    {
     "name": "stdout",
     "output_type": "stream",
     "text": [
      "15200000\n",
      "Start Time = 14:55:55\n",
      "End Time = 14:56:13\n"
     ]
    },
    {
     "name": "stderr",
     "output_type": "stream",
     "text": [
      "/tmp/ipykernel_364/3853139118.py:94: ParserWarning: Both a converter and dtype were specified for column SMILES - only the converter will be used.\n",
      "  for i,df in enumerate(activity_reader):\n",
      "/tmp/ipykernel_364/3853139118.py:94: ParserWarning: Both a converter and dtype were specified for column pchembl_value - only the converter will be used.\n",
      "  for i,df in enumerate(activity_reader):\n"
     ]
    },
    {
     "name": "stdout",
     "output_type": "stream",
     "text": [
      "15250000\n",
      "Start Time = 14:56:27\n",
      "End Time = 14:56:44\n"
     ]
    },
    {
     "name": "stderr",
     "output_type": "stream",
     "text": [
      "/tmp/ipykernel_364/3853139118.py:94: ParserWarning: Both a converter and dtype were specified for column SMILES - only the converter will be used.\n",
      "  for i,df in enumerate(activity_reader):\n",
      "/tmp/ipykernel_364/3853139118.py:94: ParserWarning: Both a converter and dtype were specified for column pchembl_value - only the converter will be used.\n",
      "  for i,df in enumerate(activity_reader):\n"
     ]
    },
    {
     "name": "stdout",
     "output_type": "stream",
     "text": [
      "15300000\n",
      "Start Time = 14:56:59\n",
      "End Time = 14:57:15\n"
     ]
    },
    {
     "name": "stderr",
     "output_type": "stream",
     "text": [
      "/tmp/ipykernel_364/3853139118.py:94: ParserWarning: Both a converter and dtype were specified for column SMILES - only the converter will be used.\n",
      "  for i,df in enumerate(activity_reader):\n",
      "/tmp/ipykernel_364/3853139118.py:94: ParserWarning: Both a converter and dtype were specified for column pchembl_value - only the converter will be used.\n",
      "  for i,df in enumerate(activity_reader):\n"
     ]
    },
    {
     "name": "stdout",
     "output_type": "stream",
     "text": [
      "15350000\n",
      "Start Time = 14:57:30\n",
      "End Time = 14:57:47\n"
     ]
    },
    {
     "name": "stderr",
     "output_type": "stream",
     "text": [
      "/tmp/ipykernel_364/3853139118.py:94: ParserWarning: Both a converter and dtype were specified for column SMILES - only the converter will be used.\n",
      "  for i,df in enumerate(activity_reader):\n",
      "/tmp/ipykernel_364/3853139118.py:94: ParserWarning: Both a converter and dtype were specified for column pchembl_value - only the converter will be used.\n",
      "  for i,df in enumerate(activity_reader):\n"
     ]
    },
    {
     "name": "stdout",
     "output_type": "stream",
     "text": [
      "15400000\n",
      "Start Time = 14:58:01\n",
      "End Time = 14:58:18\n"
     ]
    },
    {
     "name": "stderr",
     "output_type": "stream",
     "text": [
      "/tmp/ipykernel_364/3853139118.py:94: ParserWarning: Both a converter and dtype were specified for column SMILES - only the converter will be used.\n",
      "  for i,df in enumerate(activity_reader):\n",
      "/tmp/ipykernel_364/3853139118.py:94: ParserWarning: Both a converter and dtype were specified for column pchembl_value - only the converter will be used.\n",
      "  for i,df in enumerate(activity_reader):\n"
     ]
    },
    {
     "name": "stdout",
     "output_type": "stream",
     "text": [
      "15450000\n",
      "Start Time = 14:58:32\n",
      "End Time = 14:58:47\n"
     ]
    },
    {
     "name": "stderr",
     "output_type": "stream",
     "text": [
      "/tmp/ipykernel_364/3853139118.py:94: ParserWarning: Both a converter and dtype were specified for column SMILES - only the converter will be used.\n",
      "  for i,df in enumerate(activity_reader):\n",
      "/tmp/ipykernel_364/3853139118.py:94: ParserWarning: Both a converter and dtype were specified for column pchembl_value - only the converter will be used.\n",
      "  for i,df in enumerate(activity_reader):\n"
     ]
    },
    {
     "name": "stdout",
     "output_type": "stream",
     "text": [
      "15500000\n",
      "Start Time = 14:59:02\n",
      "End Time = 14:59:20\n"
     ]
    },
    {
     "name": "stderr",
     "output_type": "stream",
     "text": [
      "/tmp/ipykernel_364/3853139118.py:94: ParserWarning: Both a converter and dtype were specified for column SMILES - only the converter will be used.\n",
      "  for i,df in enumerate(activity_reader):\n",
      "/tmp/ipykernel_364/3853139118.py:94: ParserWarning: Both a converter and dtype were specified for column pchembl_value - only the converter will be used.\n",
      "  for i,df in enumerate(activity_reader):\n"
     ]
    },
    {
     "name": "stdout",
     "output_type": "stream",
     "text": [
      "15550000\n",
      "Start Time = 14:59:34\n",
      "End Time = 14:59:51\n"
     ]
    },
    {
     "name": "stderr",
     "output_type": "stream",
     "text": [
      "/tmp/ipykernel_364/3853139118.py:94: ParserWarning: Both a converter and dtype were specified for column SMILES - only the converter will be used.\n",
      "  for i,df in enumerate(activity_reader):\n",
      "/tmp/ipykernel_364/3853139118.py:94: ParserWarning: Both a converter and dtype were specified for column pchembl_value - only the converter will be used.\n",
      "  for i,df in enumerate(activity_reader):\n"
     ]
    },
    {
     "name": "stdout",
     "output_type": "stream",
     "text": [
      "15600000\n",
      "Start Time = 15:00:05\n",
      "End Time = 15:00:20\n"
     ]
    },
    {
     "name": "stderr",
     "output_type": "stream",
     "text": [
      "/tmp/ipykernel_364/3853139118.py:94: ParserWarning: Both a converter and dtype were specified for column SMILES - only the converter will be used.\n",
      "  for i,df in enumerate(activity_reader):\n",
      "/tmp/ipykernel_364/3853139118.py:94: ParserWarning: Both a converter and dtype were specified for column pchembl_value - only the converter will be used.\n",
      "  for i,df in enumerate(activity_reader):\n"
     ]
    },
    {
     "name": "stdout",
     "output_type": "stream",
     "text": [
      "15650000\n",
      "Start Time = 15:00:35\n",
      "End Time = 15:00:53\n"
     ]
    },
    {
     "name": "stderr",
     "output_type": "stream",
     "text": [
      "/tmp/ipykernel_364/3853139118.py:94: ParserWarning: Both a converter and dtype were specified for column SMILES - only the converter will be used.\n",
      "  for i,df in enumerate(activity_reader):\n",
      "/tmp/ipykernel_364/3853139118.py:94: ParserWarning: Both a converter and dtype were specified for column pchembl_value - only the converter will be used.\n",
      "  for i,df in enumerate(activity_reader):\n"
     ]
    },
    {
     "name": "stdout",
     "output_type": "stream",
     "text": [
      "15700000\n",
      "Start Time = 15:01:08\n",
      "End Time = 15:01:25\n"
     ]
    },
    {
     "name": "stderr",
     "output_type": "stream",
     "text": [
      "/tmp/ipykernel_364/3853139118.py:94: ParserWarning: Both a converter and dtype were specified for column SMILES - only the converter will be used.\n",
      "  for i,df in enumerate(activity_reader):\n",
      "/tmp/ipykernel_364/3853139118.py:94: ParserWarning: Both a converter and dtype were specified for column pchembl_value - only the converter will be used.\n",
      "  for i,df in enumerate(activity_reader):\n"
     ]
    },
    {
     "name": "stdout",
     "output_type": "stream",
     "text": [
      "15750000\n",
      "Start Time = 15:01:40\n",
      "End Time = 15:01:55\n"
     ]
    },
    {
     "name": "stderr",
     "output_type": "stream",
     "text": [
      "/tmp/ipykernel_364/3853139118.py:94: ParserWarning: Both a converter and dtype were specified for column SMILES - only the converter will be used.\n",
      "  for i,df in enumerate(activity_reader):\n",
      "/tmp/ipykernel_364/3853139118.py:94: ParserWarning: Both a converter and dtype were specified for column pchembl_value - only the converter will be used.\n",
      "  for i,df in enumerate(activity_reader):\n"
     ]
    },
    {
     "name": "stdout",
     "output_type": "stream",
     "text": [
      "15800000\n",
      "Start Time = 15:02:09\n",
      "End Time = 15:02:25\n"
     ]
    },
    {
     "name": "stderr",
     "output_type": "stream",
     "text": [
      "/tmp/ipykernel_364/3853139118.py:94: ParserWarning: Both a converter and dtype were specified for column SMILES - only the converter will be used.\n",
      "  for i,df in enumerate(activity_reader):\n",
      "/tmp/ipykernel_364/3853139118.py:94: ParserWarning: Both a converter and dtype were specified for column pchembl_value - only the converter will be used.\n",
      "  for i,df in enumerate(activity_reader):\n"
     ]
    },
    {
     "name": "stdout",
     "output_type": "stream",
     "text": [
      "15850000\n",
      "Start Time = 15:02:40\n",
      "End Time = 15:02:56\n"
     ]
    },
    {
     "name": "stderr",
     "output_type": "stream",
     "text": [
      "/tmp/ipykernel_364/3853139118.py:94: ParserWarning: Both a converter and dtype were specified for column SMILES - only the converter will be used.\n",
      "  for i,df in enumerate(activity_reader):\n",
      "/tmp/ipykernel_364/3853139118.py:94: ParserWarning: Both a converter and dtype were specified for column pchembl_value - only the converter will be used.\n",
      "  for i,df in enumerate(activity_reader):\n"
     ]
    },
    {
     "name": "stdout",
     "output_type": "stream",
     "text": [
      "15900000\n",
      "Start Time = 15:03:11\n",
      "End Time = 15:03:26\n"
     ]
    },
    {
     "name": "stderr",
     "output_type": "stream",
     "text": [
      "/tmp/ipykernel_364/3853139118.py:94: ParserWarning: Both a converter and dtype were specified for column SMILES - only the converter will be used.\n",
      "  for i,df in enumerate(activity_reader):\n",
      "/tmp/ipykernel_364/3853139118.py:94: ParserWarning: Both a converter and dtype were specified for column pchembl_value - only the converter will be used.\n",
      "  for i,df in enumerate(activity_reader):\n"
     ]
    },
    {
     "name": "stdout",
     "output_type": "stream",
     "text": [
      "15950000\n",
      "Start Time = 15:03:41\n",
      "End Time = 15:03:58\n"
     ]
    },
    {
     "name": "stderr",
     "output_type": "stream",
     "text": [
      "/tmp/ipykernel_364/3853139118.py:94: ParserWarning: Both a converter and dtype were specified for column SMILES - only the converter will be used.\n",
      "  for i,df in enumerate(activity_reader):\n",
      "/tmp/ipykernel_364/3853139118.py:94: ParserWarning: Both a converter and dtype were specified for column pchembl_value - only the converter will be used.\n",
      "  for i,df in enumerate(activity_reader):\n"
     ]
    },
    {
     "name": "stdout",
     "output_type": "stream",
     "text": [
      "16000000\n",
      "Start Time = 15:04:12\n",
      "End Time = 15:04:28\n"
     ]
    },
    {
     "name": "stderr",
     "output_type": "stream",
     "text": [
      "/tmp/ipykernel_364/3853139118.py:94: ParserWarning: Both a converter and dtype were specified for column SMILES - only the converter will be used.\n",
      "  for i,df in enumerate(activity_reader):\n",
      "/tmp/ipykernel_364/3853139118.py:94: ParserWarning: Both a converter and dtype were specified for column pchembl_value - only the converter will be used.\n",
      "  for i,df in enumerate(activity_reader):\n"
     ]
    },
    {
     "name": "stdout",
     "output_type": "stream",
     "text": [
      "16050000\n",
      "Start Time = 15:04:43\n",
      "End Time = 15:04:58\n"
     ]
    },
    {
     "name": "stderr",
     "output_type": "stream",
     "text": [
      "/tmp/ipykernel_364/3853139118.py:94: ParserWarning: Both a converter and dtype were specified for column SMILES - only the converter will be used.\n",
      "  for i,df in enumerate(activity_reader):\n",
      "/tmp/ipykernel_364/3853139118.py:94: ParserWarning: Both a converter and dtype were specified for column pchembl_value - only the converter will be used.\n",
      "  for i,df in enumerate(activity_reader):\n"
     ]
    },
    {
     "name": "stdout",
     "output_type": "stream",
     "text": [
      "16100000\n",
      "Start Time = 15:05:13\n",
      "End Time = 15:05:31\n"
     ]
    },
    {
     "name": "stderr",
     "output_type": "stream",
     "text": [
      "/tmp/ipykernel_364/3853139118.py:94: ParserWarning: Both a converter and dtype were specified for column SMILES - only the converter will be used.\n",
      "  for i,df in enumerate(activity_reader):\n",
      "/tmp/ipykernel_364/3853139118.py:94: ParserWarning: Both a converter and dtype were specified for column pchembl_value - only the converter will be used.\n",
      "  for i,df in enumerate(activity_reader):\n"
     ]
    },
    {
     "name": "stdout",
     "output_type": "stream",
     "text": [
      "16150000\n",
      "Start Time = 15:05:45\n",
      "End Time = 15:06:02\n"
     ]
    },
    {
     "name": "stderr",
     "output_type": "stream",
     "text": [
      "/tmp/ipykernel_364/3853139118.py:94: ParserWarning: Both a converter and dtype were specified for column SMILES - only the converter will be used.\n",
      "  for i,df in enumerate(activity_reader):\n",
      "/tmp/ipykernel_364/3853139118.py:94: ParserWarning: Both a converter and dtype were specified for column pchembl_value - only the converter will be used.\n",
      "  for i,df in enumerate(activity_reader):\n"
     ]
    },
    {
     "name": "stdout",
     "output_type": "stream",
     "text": [
      "16200000\n",
      "Start Time = 15:06:17\n",
      "End Time = 15:06:32\n"
     ]
    },
    {
     "name": "stderr",
     "output_type": "stream",
     "text": [
      "/tmp/ipykernel_364/3853139118.py:94: ParserWarning: Both a converter and dtype were specified for column SMILES - only the converter will be used.\n",
      "  for i,df in enumerate(activity_reader):\n",
      "/tmp/ipykernel_364/3853139118.py:94: ParserWarning: Both a converter and dtype were specified for column pchembl_value - only the converter will be used.\n",
      "  for i,df in enumerate(activity_reader):\n"
     ]
    },
    {
     "name": "stdout",
     "output_type": "stream",
     "text": [
      "16250000\n",
      "Start Time = 15:06:46\n",
      "End Time = 15:07:02\n"
     ]
    },
    {
     "name": "stderr",
     "output_type": "stream",
     "text": [
      "/tmp/ipykernel_364/3853139118.py:94: ParserWarning: Both a converter and dtype were specified for column SMILES - only the converter will be used.\n",
      "  for i,df in enumerate(activity_reader):\n",
      "/tmp/ipykernel_364/3853139118.py:94: ParserWarning: Both a converter and dtype were specified for column pchembl_value - only the converter will be used.\n",
      "  for i,df in enumerate(activity_reader):\n"
     ]
    },
    {
     "name": "stdout",
     "output_type": "stream",
     "text": [
      "16300000\n",
      "Start Time = 15:07:17\n",
      "End Time = 15:07:33\n"
     ]
    },
    {
     "name": "stderr",
     "output_type": "stream",
     "text": [
      "/tmp/ipykernel_364/3853139118.py:94: ParserWarning: Both a converter and dtype were specified for column SMILES - only the converter will be used.\n",
      "  for i,df in enumerate(activity_reader):\n",
      "/tmp/ipykernel_364/3853139118.py:94: ParserWarning: Both a converter and dtype were specified for column pchembl_value - only the converter will be used.\n",
      "  for i,df in enumerate(activity_reader):\n"
     ]
    },
    {
     "name": "stdout",
     "output_type": "stream",
     "text": [
      "16350000\n",
      "Start Time = 15:07:48\n",
      "End Time = 15:08:03\n"
     ]
    },
    {
     "name": "stderr",
     "output_type": "stream",
     "text": [
      "/tmp/ipykernel_364/3853139118.py:94: ParserWarning: Both a converter and dtype were specified for column SMILES - only the converter will be used.\n",
      "  for i,df in enumerate(activity_reader):\n",
      "/tmp/ipykernel_364/3853139118.py:94: ParserWarning: Both a converter and dtype were specified for column pchembl_value - only the converter will be used.\n",
      "  for i,df in enumerate(activity_reader):\n"
     ]
    },
    {
     "name": "stdout",
     "output_type": "stream",
     "text": [
      "16400000\n",
      "Start Time = 15:08:17\n",
      "End Time = 15:08:33\n"
     ]
    },
    {
     "name": "stderr",
     "output_type": "stream",
     "text": [
      "/tmp/ipykernel_364/3853139118.py:94: ParserWarning: Both a converter and dtype were specified for column SMILES - only the converter will be used.\n",
      "  for i,df in enumerate(activity_reader):\n",
      "/tmp/ipykernel_364/3853139118.py:94: ParserWarning: Both a converter and dtype were specified for column pchembl_value - only the converter will be used.\n",
      "  for i,df in enumerate(activity_reader):\n"
     ]
    },
    {
     "name": "stdout",
     "output_type": "stream",
     "text": [
      "16450000\n",
      "Start Time = 15:08:48\n",
      "End Time = 15:09:08\n"
     ]
    },
    {
     "name": "stderr",
     "output_type": "stream",
     "text": [
      "/tmp/ipykernel_364/3853139118.py:94: ParserWarning: Both a converter and dtype were specified for column SMILES - only the converter will be used.\n",
      "  for i,df in enumerate(activity_reader):\n",
      "/tmp/ipykernel_364/3853139118.py:94: ParserWarning: Both a converter and dtype were specified for column pchembl_value - only the converter will be used.\n",
      "  for i,df in enumerate(activity_reader):\n"
     ]
    },
    {
     "name": "stdout",
     "output_type": "stream",
     "text": [
      "16500000\n",
      "Start Time = 15:09:22\n",
      "End Time = 15:09:37\n"
     ]
    },
    {
     "name": "stderr",
     "output_type": "stream",
     "text": [
      "/tmp/ipykernel_364/3853139118.py:94: ParserWarning: Both a converter and dtype were specified for column SMILES - only the converter will be used.\n",
      "  for i,df in enumerate(activity_reader):\n",
      "/tmp/ipykernel_364/3853139118.py:94: ParserWarning: Both a converter and dtype were specified for column pchembl_value - only the converter will be used.\n",
      "  for i,df in enumerate(activity_reader):\n"
     ]
    },
    {
     "name": "stdout",
     "output_type": "stream",
     "text": [
      "16550000\n",
      "Start Time = 15:09:52\n",
      "End Time = 15:10:10\n"
     ]
    },
    {
     "name": "stderr",
     "output_type": "stream",
     "text": [
      "/tmp/ipykernel_364/3853139118.py:94: ParserWarning: Both a converter and dtype were specified for column SMILES - only the converter will be used.\n",
      "  for i,df in enumerate(activity_reader):\n",
      "/tmp/ipykernel_364/3853139118.py:94: ParserWarning: Both a converter and dtype were specified for column pchembl_value - only the converter will be used.\n",
      "  for i,df in enumerate(activity_reader):\n"
     ]
    },
    {
     "name": "stdout",
     "output_type": "stream",
     "text": [
      "16600000\n",
      "Start Time = 15:10:24\n",
      "End Time = 15:10:41\n"
     ]
    },
    {
     "name": "stderr",
     "output_type": "stream",
     "text": [
      "/tmp/ipykernel_364/3853139118.py:94: ParserWarning: Both a converter and dtype were specified for column SMILES - only the converter will be used.\n",
      "  for i,df in enumerate(activity_reader):\n",
      "/tmp/ipykernel_364/3853139118.py:94: ParserWarning: Both a converter and dtype were specified for column pchembl_value - only the converter will be used.\n",
      "  for i,df in enumerate(activity_reader):\n"
     ]
    },
    {
     "name": "stdout",
     "output_type": "stream",
     "text": [
      "16650000\n",
      "Start Time = 15:10:56\n",
      "End Time = 15:11:11\n"
     ]
    },
    {
     "name": "stderr",
     "output_type": "stream",
     "text": [
      "/tmp/ipykernel_364/3853139118.py:94: ParserWarning: Both a converter and dtype were specified for column SMILES - only the converter will be used.\n",
      "  for i,df in enumerate(activity_reader):\n",
      "/tmp/ipykernel_364/3853139118.py:94: ParserWarning: Both a converter and dtype were specified for column pchembl_value - only the converter will be used.\n",
      "  for i,df in enumerate(activity_reader):\n"
     ]
    },
    {
     "name": "stdout",
     "output_type": "stream",
     "text": [
      "16700000\n",
      "Start Time = 15:11:25\n",
      "End Time = 15:11:41\n"
     ]
    },
    {
     "name": "stderr",
     "output_type": "stream",
     "text": [
      "/tmp/ipykernel_364/3853139118.py:94: ParserWarning: Both a converter and dtype were specified for column SMILES - only the converter will be used.\n",
      "  for i,df in enumerate(activity_reader):\n",
      "/tmp/ipykernel_364/3853139118.py:94: ParserWarning: Both a converter and dtype were specified for column pchembl_value - only the converter will be used.\n",
      "  for i,df in enumerate(activity_reader):\n"
     ]
    },
    {
     "name": "stdout",
     "output_type": "stream",
     "text": [
      "16750000\n",
      "Start Time = 15:11:56\n",
      "End Time = 15:12:12\n"
     ]
    },
    {
     "name": "stderr",
     "output_type": "stream",
     "text": [
      "/tmp/ipykernel_364/3853139118.py:94: ParserWarning: Both a converter and dtype were specified for column SMILES - only the converter will be used.\n",
      "  for i,df in enumerate(activity_reader):\n",
      "/tmp/ipykernel_364/3853139118.py:94: ParserWarning: Both a converter and dtype were specified for column pchembl_value - only the converter will be used.\n",
      "  for i,df in enumerate(activity_reader):\n"
     ]
    },
    {
     "name": "stdout",
     "output_type": "stream",
     "text": [
      "16800000\n",
      "Start Time = 15:12:26\n",
      "End Time = 15:12:41\n"
     ]
    },
    {
     "name": "stderr",
     "output_type": "stream",
     "text": [
      "/tmp/ipykernel_364/3853139118.py:94: ParserWarning: Both a converter and dtype were specified for column SMILES - only the converter will be used.\n",
      "  for i,df in enumerate(activity_reader):\n",
      "/tmp/ipykernel_364/3853139118.py:94: ParserWarning: Both a converter and dtype were specified for column pchembl_value - only the converter will be used.\n",
      "  for i,df in enumerate(activity_reader):\n"
     ]
    },
    {
     "name": "stdout",
     "output_type": "stream",
     "text": [
      "16850000\n",
      "Start Time = 15:12:55\n",
      "End Time = 15:13:11\n"
     ]
    },
    {
     "name": "stderr",
     "output_type": "stream",
     "text": [
      "/tmp/ipykernel_364/3853139118.py:94: ParserWarning: Both a converter and dtype were specified for column SMILES - only the converter will be used.\n",
      "  for i,df in enumerate(activity_reader):\n",
      "/tmp/ipykernel_364/3853139118.py:94: ParserWarning: Both a converter and dtype were specified for column pchembl_value - only the converter will be used.\n",
      "  for i,df in enumerate(activity_reader):\n"
     ]
    },
    {
     "name": "stdout",
     "output_type": "stream",
     "text": [
      "16900000\n",
      "Start Time = 15:13:25\n",
      "End Time = 15:13:42\n"
     ]
    },
    {
     "name": "stderr",
     "output_type": "stream",
     "text": [
      "/tmp/ipykernel_364/3853139118.py:94: ParserWarning: Both a converter and dtype were specified for column SMILES - only the converter will be used.\n",
      "  for i,df in enumerate(activity_reader):\n",
      "/tmp/ipykernel_364/3853139118.py:94: ParserWarning: Both a converter and dtype were specified for column pchembl_value - only the converter will be used.\n",
      "  for i,df in enumerate(activity_reader):\n"
     ]
    },
    {
     "name": "stdout",
     "output_type": "stream",
     "text": [
      "16950000\n",
      "Start Time = 15:13:57\n",
      "End Time = 15:14:11\n"
     ]
    },
    {
     "name": "stderr",
     "output_type": "stream",
     "text": [
      "/tmp/ipykernel_364/3853139118.py:94: ParserWarning: Both a converter and dtype were specified for column SMILES - only the converter will be used.\n",
      "  for i,df in enumerate(activity_reader):\n",
      "/tmp/ipykernel_364/3853139118.py:94: ParserWarning: Both a converter and dtype were specified for column pchembl_value - only the converter will be used.\n",
      "  for i,df in enumerate(activity_reader):\n"
     ]
    },
    {
     "name": "stdout",
     "output_type": "stream",
     "text": [
      "17000000\n",
      "Start Time = 15:14:27\n",
      "End Time = 15:14:43\n"
     ]
    },
    {
     "name": "stderr",
     "output_type": "stream",
     "text": [
      "/tmp/ipykernel_364/3853139118.py:94: ParserWarning: Both a converter and dtype were specified for column SMILES - only the converter will be used.\n",
      "  for i,df in enumerate(activity_reader):\n",
      "/tmp/ipykernel_364/3853139118.py:94: ParserWarning: Both a converter and dtype were specified for column pchembl_value - only the converter will be used.\n",
      "  for i,df in enumerate(activity_reader):\n"
     ]
    },
    {
     "name": "stdout",
     "output_type": "stream",
     "text": [
      "17050000\n",
      "Start Time = 15:14:57\n",
      "End Time = 15:15:14\n"
     ]
    },
    {
     "name": "stderr",
     "output_type": "stream",
     "text": [
      "/tmp/ipykernel_364/3853139118.py:94: ParserWarning: Both a converter and dtype were specified for column SMILES - only the converter will be used.\n",
      "  for i,df in enumerate(activity_reader):\n",
      "/tmp/ipykernel_364/3853139118.py:94: ParserWarning: Both a converter and dtype were specified for column pchembl_value - only the converter will be used.\n",
      "  for i,df in enumerate(activity_reader):\n"
     ]
    },
    {
     "name": "stdout",
     "output_type": "stream",
     "text": [
      "17100000\n",
      "Start Time = 15:15:28\n",
      "End Time = 15:15:43\n"
     ]
    },
    {
     "name": "stderr",
     "output_type": "stream",
     "text": [
      "/tmp/ipykernel_364/3853139118.py:94: ParserWarning: Both a converter and dtype were specified for column SMILES - only the converter will be used.\n",
      "  for i,df in enumerate(activity_reader):\n",
      "/tmp/ipykernel_364/3853139118.py:94: ParserWarning: Both a converter and dtype were specified for column pchembl_value - only the converter will be used.\n",
      "  for i,df in enumerate(activity_reader):\n"
     ]
    },
    {
     "name": "stdout",
     "output_type": "stream",
     "text": [
      "17150000\n",
      "Start Time = 15:15:58\n",
      "End Time = 15:16:14\n"
     ]
    },
    {
     "name": "stderr",
     "output_type": "stream",
     "text": [
      "/tmp/ipykernel_364/3853139118.py:94: ParserWarning: Both a converter and dtype were specified for column SMILES - only the converter will be used.\n",
      "  for i,df in enumerate(activity_reader):\n",
      "/tmp/ipykernel_364/3853139118.py:94: ParserWarning: Both a converter and dtype were specified for column pchembl_value - only the converter will be used.\n",
      "  for i,df in enumerate(activity_reader):\n"
     ]
    },
    {
     "name": "stdout",
     "output_type": "stream",
     "text": [
      "17200000\n",
      "Start Time = 15:16:29\n",
      "End Time = 15:16:45\n"
     ]
    },
    {
     "name": "stderr",
     "output_type": "stream",
     "text": [
      "/tmp/ipykernel_364/3853139118.py:94: ParserWarning: Both a converter and dtype were specified for column SMILES - only the converter will be used.\n",
      "  for i,df in enumerate(activity_reader):\n",
      "/tmp/ipykernel_364/3853139118.py:94: ParserWarning: Both a converter and dtype were specified for column pchembl_value - only the converter will be used.\n",
      "  for i,df in enumerate(activity_reader):\n"
     ]
    },
    {
     "name": "stdout",
     "output_type": "stream",
     "text": [
      "17250000\n",
      "Start Time = 15:17:00\n",
      "End Time = 15:17:15\n"
     ]
    },
    {
     "name": "stderr",
     "output_type": "stream",
     "text": [
      "/tmp/ipykernel_364/3853139118.py:94: ParserWarning: Both a converter and dtype were specified for column SMILES - only the converter will be used.\n",
      "  for i,df in enumerate(activity_reader):\n",
      "/tmp/ipykernel_364/3853139118.py:94: ParserWarning: Both a converter and dtype were specified for column pchembl_value - only the converter will be used.\n",
      "  for i,df in enumerate(activity_reader):\n"
     ]
    },
    {
     "name": "stdout",
     "output_type": "stream",
     "text": [
      "17300000\n",
      "Start Time = 15:17:29\n",
      "End Time = 15:17:45\n"
     ]
    },
    {
     "name": "stderr",
     "output_type": "stream",
     "text": [
      "/tmp/ipykernel_364/3853139118.py:94: ParserWarning: Both a converter and dtype were specified for column SMILES - only the converter will be used.\n",
      "  for i,df in enumerate(activity_reader):\n",
      "/tmp/ipykernel_364/3853139118.py:94: ParserWarning: Both a converter and dtype were specified for column pchembl_value - only the converter will be used.\n",
      "  for i,df in enumerate(activity_reader):\n"
     ]
    },
    {
     "name": "stdout",
     "output_type": "stream",
     "text": [
      "17350000\n",
      "Start Time = 15:18:00\n",
      "End Time = 15:18:15\n"
     ]
    },
    {
     "name": "stderr",
     "output_type": "stream",
     "text": [
      "/tmp/ipykernel_364/3853139118.py:94: ParserWarning: Both a converter and dtype were specified for column SMILES - only the converter will be used.\n",
      "  for i,df in enumerate(activity_reader):\n",
      "/tmp/ipykernel_364/3853139118.py:94: ParserWarning: Both a converter and dtype were specified for column pchembl_value - only the converter will be used.\n",
      "  for i,df in enumerate(activity_reader):\n"
     ]
    },
    {
     "name": "stdout",
     "output_type": "stream",
     "text": [
      "17400000\n",
      "Start Time = 15:18:29\n",
      "End Time = 15:18:44\n"
     ]
    },
    {
     "name": "stderr",
     "output_type": "stream",
     "text": [
      "/tmp/ipykernel_364/3853139118.py:94: ParserWarning: Both a converter and dtype were specified for column SMILES - only the converter will be used.\n",
      "  for i,df in enumerate(activity_reader):\n",
      "/tmp/ipykernel_364/3853139118.py:94: ParserWarning: Both a converter and dtype were specified for column pchembl_value - only the converter will be used.\n",
      "  for i,df in enumerate(activity_reader):\n"
     ]
    },
    {
     "name": "stdout",
     "output_type": "stream",
     "text": [
      "17450000\n",
      "Start Time = 15:18:59\n",
      "End Time = 15:19:15\n"
     ]
    },
    {
     "name": "stderr",
     "output_type": "stream",
     "text": [
      "/tmp/ipykernel_364/3853139118.py:94: ParserWarning: Both a converter and dtype were specified for column SMILES - only the converter will be used.\n",
      "  for i,df in enumerate(activity_reader):\n",
      "/tmp/ipykernel_364/3853139118.py:94: ParserWarning: Both a converter and dtype were specified for column pchembl_value - only the converter will be used.\n",
      "  for i,df in enumerate(activity_reader):\n"
     ]
    },
    {
     "name": "stdout",
     "output_type": "stream",
     "text": [
      "17500000\n",
      "Start Time = 15:19:30\n",
      "End Time = 15:19:46\n"
     ]
    },
    {
     "name": "stderr",
     "output_type": "stream",
     "text": [
      "/tmp/ipykernel_364/3853139118.py:94: ParserWarning: Both a converter and dtype were specified for column SMILES - only the converter will be used.\n",
      "  for i,df in enumerate(activity_reader):\n",
      "/tmp/ipykernel_364/3853139118.py:94: ParserWarning: Both a converter and dtype were specified for column pchembl_value - only the converter will be used.\n",
      "  for i,df in enumerate(activity_reader):\n"
     ]
    },
    {
     "name": "stdout",
     "output_type": "stream",
     "text": [
      "17550000\n",
      "Start Time = 15:20:01\n",
      "End Time = 15:20:16\n"
     ]
    },
    {
     "name": "stderr",
     "output_type": "stream",
     "text": [
      "/tmp/ipykernel_364/3853139118.py:94: ParserWarning: Both a converter and dtype were specified for column SMILES - only the converter will be used.\n",
      "  for i,df in enumerate(activity_reader):\n",
      "/tmp/ipykernel_364/3853139118.py:94: ParserWarning: Both a converter and dtype were specified for column pchembl_value - only the converter will be used.\n",
      "  for i,df in enumerate(activity_reader):\n"
     ]
    },
    {
     "name": "stdout",
     "output_type": "stream",
     "text": [
      "17600000\n",
      "Start Time = 15:20:31\n",
      "End Time = 15:20:48\n"
     ]
    },
    {
     "name": "stderr",
     "output_type": "stream",
     "text": [
      "/tmp/ipykernel_364/3853139118.py:94: ParserWarning: Both a converter and dtype were specified for column SMILES - only the converter will be used.\n",
      "  for i,df in enumerate(activity_reader):\n",
      "/tmp/ipykernel_364/3853139118.py:94: ParserWarning: Both a converter and dtype were specified for column pchembl_value - only the converter will be used.\n",
      "  for i,df in enumerate(activity_reader):\n"
     ]
    },
    {
     "name": "stdout",
     "output_type": "stream",
     "text": [
      "17650000\n",
      "Start Time = 15:21:03\n",
      "End Time = 15:21:20\n"
     ]
    },
    {
     "name": "stderr",
     "output_type": "stream",
     "text": [
      "/tmp/ipykernel_364/3853139118.py:94: ParserWarning: Both a converter and dtype were specified for column SMILES - only the converter will be used.\n",
      "  for i,df in enumerate(activity_reader):\n",
      "/tmp/ipykernel_364/3853139118.py:94: ParserWarning: Both a converter and dtype were specified for column pchembl_value - only the converter will be used.\n",
      "  for i,df in enumerate(activity_reader):\n"
     ]
    },
    {
     "name": "stdout",
     "output_type": "stream",
     "text": [
      "17700000\n",
      "Start Time = 15:21:34\n",
      "End Time = 15:21:49\n"
     ]
    },
    {
     "name": "stderr",
     "output_type": "stream",
     "text": [
      "/tmp/ipykernel_364/3853139118.py:94: ParserWarning: Both a converter and dtype were specified for column SMILES - only the converter will be used.\n",
      "  for i,df in enumerate(activity_reader):\n",
      "/tmp/ipykernel_364/3853139118.py:94: ParserWarning: Both a converter and dtype were specified for column pchembl_value - only the converter will be used.\n",
      "  for i,df in enumerate(activity_reader):\n"
     ]
    },
    {
     "name": "stdout",
     "output_type": "stream",
     "text": [
      "17750000\n",
      "Start Time = 15:22:03\n",
      "End Time = 15:22:20\n"
     ]
    },
    {
     "name": "stderr",
     "output_type": "stream",
     "text": [
      "/tmp/ipykernel_364/3853139118.py:94: ParserWarning: Both a converter and dtype were specified for column SMILES - only the converter will be used.\n",
      "  for i,df in enumerate(activity_reader):\n",
      "/tmp/ipykernel_364/3853139118.py:94: ParserWarning: Both a converter and dtype were specified for column pchembl_value - only the converter will be used.\n",
      "  for i,df in enumerate(activity_reader):\n"
     ]
    },
    {
     "name": "stdout",
     "output_type": "stream",
     "text": [
      "17800000\n",
      "Start Time = 15:22:35\n",
      "End Time = 15:22:52\n"
     ]
    },
    {
     "name": "stderr",
     "output_type": "stream",
     "text": [
      "/tmp/ipykernel_364/3853139118.py:94: ParserWarning: Both a converter and dtype were specified for column SMILES - only the converter will be used.\n",
      "  for i,df in enumerate(activity_reader):\n",
      "/tmp/ipykernel_364/3853139118.py:94: ParserWarning: Both a converter and dtype were specified for column pchembl_value - only the converter will be used.\n",
      "  for i,df in enumerate(activity_reader):\n"
     ]
    },
    {
     "name": "stdout",
     "output_type": "stream",
     "text": [
      "17850000\n",
      "Start Time = 15:23:06\n",
      "End Time = 15:23:21\n"
     ]
    },
    {
     "name": "stderr",
     "output_type": "stream",
     "text": [
      "/tmp/ipykernel_364/3853139118.py:94: ParserWarning: Both a converter and dtype were specified for column SMILES - only the converter will be used.\n",
      "  for i,df in enumerate(activity_reader):\n",
      "/tmp/ipykernel_364/3853139118.py:94: ParserWarning: Both a converter and dtype were specified for column pchembl_value - only the converter will be used.\n",
      "  for i,df in enumerate(activity_reader):\n"
     ]
    },
    {
     "name": "stdout",
     "output_type": "stream",
     "text": [
      "17900000\n",
      "Start Time = 15:23:35\n",
      "End Time = 15:23:52\n"
     ]
    },
    {
     "name": "stderr",
     "output_type": "stream",
     "text": [
      "/tmp/ipykernel_364/3853139118.py:94: ParserWarning: Both a converter and dtype were specified for column SMILES - only the converter will be used.\n",
      "  for i,df in enumerate(activity_reader):\n",
      "/tmp/ipykernel_364/3853139118.py:94: ParserWarning: Both a converter and dtype were specified for column pchembl_value - only the converter will be used.\n",
      "  for i,df in enumerate(activity_reader):\n"
     ]
    },
    {
     "name": "stdout",
     "output_type": "stream",
     "text": [
      "17950000\n",
      "Start Time = 15:24:06\n",
      "End Time = 15:24:23\n"
     ]
    },
    {
     "name": "stderr",
     "output_type": "stream",
     "text": [
      "/tmp/ipykernel_364/3853139118.py:94: ParserWarning: Both a converter and dtype were specified for column SMILES - only the converter will be used.\n",
      "  for i,df in enumerate(activity_reader):\n",
      "/tmp/ipykernel_364/3853139118.py:94: ParserWarning: Both a converter and dtype were specified for column pchembl_value - only the converter will be used.\n",
      "  for i,df in enumerate(activity_reader):\n"
     ]
    },
    {
     "name": "stdout",
     "output_type": "stream",
     "text": [
      "18000000\n",
      "Start Time = 15:24:38\n",
      "End Time = 15:24:53\n"
     ]
    },
    {
     "name": "stderr",
     "output_type": "stream",
     "text": [
      "/tmp/ipykernel_364/3853139118.py:94: ParserWarning: Both a converter and dtype were specified for column SMILES - only the converter will be used.\n",
      "  for i,df in enumerate(activity_reader):\n",
      "/tmp/ipykernel_364/3853139118.py:94: ParserWarning: Both a converter and dtype were specified for column pchembl_value - only the converter will be used.\n",
      "  for i,df in enumerate(activity_reader):\n"
     ]
    },
    {
     "name": "stdout",
     "output_type": "stream",
     "text": [
      "18050000\n",
      "Start Time = 15:25:07\n",
      "End Time = 15:25:24\n"
     ]
    },
    {
     "name": "stderr",
     "output_type": "stream",
     "text": [
      "/tmp/ipykernel_364/3853139118.py:94: ParserWarning: Both a converter and dtype were specified for column SMILES - only the converter will be used.\n",
      "  for i,df in enumerate(activity_reader):\n",
      "/tmp/ipykernel_364/3853139118.py:94: ParserWarning: Both a converter and dtype were specified for column pchembl_value - only the converter will be used.\n",
      "  for i,df in enumerate(activity_reader):\n"
     ]
    },
    {
     "name": "stdout",
     "output_type": "stream",
     "text": [
      "18100000\n",
      "Start Time = 15:25:38\n",
      "End Time = 15:25:55\n"
     ]
    },
    {
     "name": "stderr",
     "output_type": "stream",
     "text": [
      "/tmp/ipykernel_364/3853139118.py:94: ParserWarning: Both a converter and dtype were specified for column SMILES - only the converter will be used.\n",
      "  for i,df in enumerate(activity_reader):\n",
      "/tmp/ipykernel_364/3853139118.py:94: ParserWarning: Both a converter and dtype were specified for column pchembl_value - only the converter will be used.\n",
      "  for i,df in enumerate(activity_reader):\n"
     ]
    },
    {
     "name": "stdout",
     "output_type": "stream",
     "text": [
      "18150000\n",
      "Start Time = 15:26:09\n",
      "End Time = 15:26:24\n"
     ]
    },
    {
     "name": "stderr",
     "output_type": "stream",
     "text": [
      "/tmp/ipykernel_364/3853139118.py:94: ParserWarning: Both a converter and dtype were specified for column SMILES - only the converter will be used.\n",
      "  for i,df in enumerate(activity_reader):\n",
      "/tmp/ipykernel_364/3853139118.py:94: ParserWarning: Both a converter and dtype were specified for column pchembl_value - only the converter will be used.\n",
      "  for i,df in enumerate(activity_reader):\n"
     ]
    },
    {
     "name": "stdout",
     "output_type": "stream",
     "text": [
      "18200000\n",
      "Start Time = 15:26:39\n",
      "End Time = 15:26:55\n"
     ]
    },
    {
     "name": "stderr",
     "output_type": "stream",
     "text": [
      "/tmp/ipykernel_364/3853139118.py:94: ParserWarning: Both a converter and dtype were specified for column SMILES - only the converter will be used.\n",
      "  for i,df in enumerate(activity_reader):\n",
      "/tmp/ipykernel_364/3853139118.py:94: ParserWarning: Both a converter and dtype were specified for column pchembl_value - only the converter will be used.\n",
      "  for i,df in enumerate(activity_reader):\n"
     ]
    },
    {
     "name": "stdout",
     "output_type": "stream",
     "text": [
      "18250000\n",
      "Start Time = 15:27:10\n",
      "End Time = 15:27:27\n"
     ]
    },
    {
     "name": "stderr",
     "output_type": "stream",
     "text": [
      "/tmp/ipykernel_364/3853139118.py:94: ParserWarning: Both a converter and dtype were specified for column SMILES - only the converter will be used.\n",
      "  for i,df in enumerate(activity_reader):\n",
      "/tmp/ipykernel_364/3853139118.py:94: ParserWarning: Both a converter and dtype were specified for column pchembl_value - only the converter will be used.\n",
      "  for i,df in enumerate(activity_reader):\n"
     ]
    },
    {
     "name": "stdout",
     "output_type": "stream",
     "text": [
      "18300000\n",
      "Start Time = 15:27:41\n",
      "End Time = 15:27:56\n"
     ]
    },
    {
     "name": "stderr",
     "output_type": "stream",
     "text": [
      "/tmp/ipykernel_364/3853139118.py:94: ParserWarning: Both a converter and dtype were specified for column SMILES - only the converter will be used.\n",
      "  for i,df in enumerate(activity_reader):\n",
      "/tmp/ipykernel_364/3853139118.py:94: ParserWarning: Both a converter and dtype were specified for column pchembl_value - only the converter will be used.\n",
      "  for i,df in enumerate(activity_reader):\n"
     ]
    },
    {
     "name": "stdout",
     "output_type": "stream",
     "text": [
      "18350000\n",
      "Start Time = 15:28:10\n",
      "End Time = 15:28:29\n"
     ]
    },
    {
     "name": "stderr",
     "output_type": "stream",
     "text": [
      "/tmp/ipykernel_364/3853139118.py:94: ParserWarning: Both a converter and dtype were specified for column SMILES - only the converter will be used.\n",
      "  for i,df in enumerate(activity_reader):\n",
      "/tmp/ipykernel_364/3853139118.py:94: ParserWarning: Both a converter and dtype were specified for column pchembl_value - only the converter will be used.\n",
      "  for i,df in enumerate(activity_reader):\n"
     ]
    },
    {
     "name": "stdout",
     "output_type": "stream",
     "text": [
      "18400000\n",
      "Start Time = 15:28:44\n",
      "End Time = 15:29:02\n"
     ]
    },
    {
     "name": "stderr",
     "output_type": "stream",
     "text": [
      "/tmp/ipykernel_364/3853139118.py:94: ParserWarning: Both a converter and dtype were specified for column SMILES - only the converter will be used.\n",
      "  for i,df in enumerate(activity_reader):\n",
      "/tmp/ipykernel_364/3853139118.py:94: ParserWarning: Both a converter and dtype were specified for column pchembl_value - only the converter will be used.\n",
      "  for i,df in enumerate(activity_reader):\n"
     ]
    },
    {
     "name": "stdout",
     "output_type": "stream",
     "text": [
      "18450000\n",
      "Start Time = 15:29:16\n",
      "End Time = 15:29:31\n"
     ]
    },
    {
     "name": "stderr",
     "output_type": "stream",
     "text": [
      "/tmp/ipykernel_364/3853139118.py:94: ParserWarning: Both a converter and dtype were specified for column SMILES - only the converter will be used.\n",
      "  for i,df in enumerate(activity_reader):\n",
      "/tmp/ipykernel_364/3853139118.py:94: ParserWarning: Both a converter and dtype were specified for column pchembl_value - only the converter will be used.\n",
      "  for i,df in enumerate(activity_reader):\n"
     ]
    },
    {
     "name": "stdout",
     "output_type": "stream",
     "text": [
      "18500000\n",
      "Start Time = 15:29:46\n",
      "End Time = 15:30:03\n"
     ]
    },
    {
     "name": "stderr",
     "output_type": "stream",
     "text": [
      "/tmp/ipykernel_364/3853139118.py:94: ParserWarning: Both a converter and dtype were specified for column SMILES - only the converter will be used.\n",
      "  for i,df in enumerate(activity_reader):\n",
      "/tmp/ipykernel_364/3853139118.py:94: ParserWarning: Both a converter and dtype were specified for column pchembl_value - only the converter will be used.\n",
      "  for i,df in enumerate(activity_reader):\n"
     ]
    },
    {
     "name": "stdout",
     "output_type": "stream",
     "text": [
      "18550000\n",
      "Start Time = 15:30:18\n",
      "End Time = 15:30:36\n"
     ]
    },
    {
     "name": "stderr",
     "output_type": "stream",
     "text": [
      "/tmp/ipykernel_364/3853139118.py:94: ParserWarning: Both a converter and dtype were specified for column SMILES - only the converter will be used.\n",
      "  for i,df in enumerate(activity_reader):\n",
      "/tmp/ipykernel_364/3853139118.py:94: ParserWarning: Both a converter and dtype were specified for column pchembl_value - only the converter will be used.\n",
      "  for i,df in enumerate(activity_reader):\n"
     ]
    },
    {
     "name": "stdout",
     "output_type": "stream",
     "text": [
      "18600000\n",
      "Start Time = 15:30:51\n",
      "End Time = 15:31:06\n"
     ]
    },
    {
     "name": "stderr",
     "output_type": "stream",
     "text": [
      "/tmp/ipykernel_364/3853139118.py:94: ParserWarning: Both a converter and dtype were specified for column SMILES - only the converter will be used.\n",
      "  for i,df in enumerate(activity_reader):\n",
      "/tmp/ipykernel_364/3853139118.py:94: ParserWarning: Both a converter and dtype were specified for column pchembl_value - only the converter will be used.\n",
      "  for i,df in enumerate(activity_reader):\n"
     ]
    },
    {
     "name": "stdout",
     "output_type": "stream",
     "text": [
      "18650000\n",
      "Start Time = 15:31:20\n",
      "End Time = 15:31:37\n"
     ]
    },
    {
     "name": "stderr",
     "output_type": "stream",
     "text": [
      "/tmp/ipykernel_364/3853139118.py:94: ParserWarning: Both a converter and dtype were specified for column SMILES - only the converter will be used.\n",
      "  for i,df in enumerate(activity_reader):\n",
      "/tmp/ipykernel_364/3853139118.py:94: ParserWarning: Both a converter and dtype were specified for column pchembl_value - only the converter will be used.\n",
      "  for i,df in enumerate(activity_reader):\n"
     ]
    },
    {
     "name": "stdout",
     "output_type": "stream",
     "text": [
      "18700000\n",
      "Start Time = 15:31:51\n",
      "End Time = 15:32:07\n"
     ]
    },
    {
     "name": "stderr",
     "output_type": "stream",
     "text": [
      "/tmp/ipykernel_364/3853139118.py:94: ParserWarning: Both a converter and dtype were specified for column SMILES - only the converter will be used.\n",
      "  for i,df in enumerate(activity_reader):\n",
      "/tmp/ipykernel_364/3853139118.py:94: ParserWarning: Both a converter and dtype were specified for column pchembl_value - only the converter will be used.\n",
      "  for i,df in enumerate(activity_reader):\n"
     ]
    },
    {
     "name": "stdout",
     "output_type": "stream",
     "text": [
      "18750000\n",
      "Start Time = 15:32:22\n",
      "End Time = 15:32:36\n"
     ]
    },
    {
     "name": "stderr",
     "output_type": "stream",
     "text": [
      "/tmp/ipykernel_364/3853139118.py:94: ParserWarning: Both a converter and dtype were specified for column SMILES - only the converter will be used.\n",
      "  for i,df in enumerate(activity_reader):\n",
      "/tmp/ipykernel_364/3853139118.py:94: ParserWarning: Both a converter and dtype were specified for column pchembl_value - only the converter will be used.\n",
      "  for i,df in enumerate(activity_reader):\n"
     ]
    },
    {
     "name": "stdout",
     "output_type": "stream",
     "text": [
      "18800000\n",
      "Start Time = 15:32:51\n",
      "End Time = 15:33:07\n"
     ]
    },
    {
     "name": "stderr",
     "output_type": "stream",
     "text": [
      "/tmp/ipykernel_364/3853139118.py:94: ParserWarning: Both a converter and dtype were specified for column SMILES - only the converter will be used.\n",
      "  for i,df in enumerate(activity_reader):\n",
      "/tmp/ipykernel_364/3853139118.py:94: ParserWarning: Both a converter and dtype were specified for column pchembl_value - only the converter will be used.\n",
      "  for i,df in enumerate(activity_reader):\n"
     ]
    },
    {
     "name": "stdout",
     "output_type": "stream",
     "text": [
      "18850000\n",
      "Start Time = 15:33:22\n",
      "End Time = 15:33:39\n"
     ]
    },
    {
     "name": "stderr",
     "output_type": "stream",
     "text": [
      "/tmp/ipykernel_364/3853139118.py:94: ParserWarning: Both a converter and dtype were specified for column SMILES - only the converter will be used.\n",
      "  for i,df in enumerate(activity_reader):\n",
      "/tmp/ipykernel_364/3853139118.py:94: ParserWarning: Both a converter and dtype were specified for column pchembl_value - only the converter will be used.\n",
      "  for i,df in enumerate(activity_reader):\n"
     ]
    },
    {
     "name": "stdout",
     "output_type": "stream",
     "text": [
      "18900000\n",
      "Start Time = 15:33:53\n",
      "End Time = 15:34:09\n"
     ]
    },
    {
     "name": "stderr",
     "output_type": "stream",
     "text": [
      "/tmp/ipykernel_364/3853139118.py:94: ParserWarning: Both a converter and dtype were specified for column SMILES - only the converter will be used.\n",
      "  for i,df in enumerate(activity_reader):\n",
      "/tmp/ipykernel_364/3853139118.py:94: ParserWarning: Both a converter and dtype were specified for column pchembl_value - only the converter will be used.\n",
      "  for i,df in enumerate(activity_reader):\n"
     ]
    },
    {
     "name": "stdout",
     "output_type": "stream",
     "text": [
      "18950000\n",
      "Start Time = 15:34:24\n",
      "End Time = 15:34:41\n"
     ]
    },
    {
     "name": "stderr",
     "output_type": "stream",
     "text": [
      "/tmp/ipykernel_364/3853139118.py:94: ParserWarning: Both a converter and dtype were specified for column SMILES - only the converter will be used.\n",
      "  for i,df in enumerate(activity_reader):\n",
      "/tmp/ipykernel_364/3853139118.py:94: ParserWarning: Both a converter and dtype were specified for column pchembl_value - only the converter will be used.\n",
      "  for i,df in enumerate(activity_reader):\n"
     ]
    },
    {
     "name": "stdout",
     "output_type": "stream",
     "text": [
      "19000000\n",
      "Start Time = 15:34:57\n",
      "End Time = 15:35:14\n"
     ]
    },
    {
     "name": "stderr",
     "output_type": "stream",
     "text": [
      "/tmp/ipykernel_364/3853139118.py:94: ParserWarning: Both a converter and dtype were specified for column SMILES - only the converter will be used.\n",
      "  for i,df in enumerate(activity_reader):\n",
      "/tmp/ipykernel_364/3853139118.py:94: ParserWarning: Both a converter and dtype were specified for column pchembl_value - only the converter will be used.\n",
      "  for i,df in enumerate(activity_reader):\n"
     ]
    },
    {
     "name": "stdout",
     "output_type": "stream",
     "text": [
      "19050000\n",
      "Start Time = 15:35:29\n",
      "End Time = 15:35:44\n"
     ]
    },
    {
     "name": "stderr",
     "output_type": "stream",
     "text": [
      "/tmp/ipykernel_364/3853139118.py:94: ParserWarning: Both a converter and dtype were specified for column SMILES - only the converter will be used.\n",
      "  for i,df in enumerate(activity_reader):\n",
      "/tmp/ipykernel_364/3853139118.py:94: ParserWarning: Both a converter and dtype were specified for column pchembl_value - only the converter will be used.\n",
      "  for i,df in enumerate(activity_reader):\n"
     ]
    },
    {
     "name": "stdout",
     "output_type": "stream",
     "text": [
      "19100000\n",
      "Start Time = 15:35:58\n",
      "End Time = 15:36:15\n"
     ]
    },
    {
     "name": "stderr",
     "output_type": "stream",
     "text": [
      "/tmp/ipykernel_364/3853139118.py:94: ParserWarning: Both a converter and dtype were specified for column SMILES - only the converter will be used.\n",
      "  for i,df in enumerate(activity_reader):\n",
      "/tmp/ipykernel_364/3853139118.py:94: ParserWarning: Both a converter and dtype were specified for column pchembl_value - only the converter will be used.\n",
      "  for i,df in enumerate(activity_reader):\n"
     ]
    },
    {
     "name": "stdout",
     "output_type": "stream",
     "text": [
      "19150000\n",
      "Start Time = 15:36:29\n",
      "End Time = 15:36:45\n"
     ]
    },
    {
     "name": "stderr",
     "output_type": "stream",
     "text": [
      "/tmp/ipykernel_364/3853139118.py:94: ParserWarning: Both a converter and dtype were specified for column SMILES - only the converter will be used.\n",
      "  for i,df in enumerate(activity_reader):\n",
      "/tmp/ipykernel_364/3853139118.py:94: ParserWarning: Both a converter and dtype were specified for column pchembl_value - only the converter will be used.\n",
      "  for i,df in enumerate(activity_reader):\n"
     ]
    },
    {
     "name": "stdout",
     "output_type": "stream",
     "text": [
      "19200000\n",
      "Start Time = 15:37:00\n",
      "End Time = 15:37:14\n"
     ]
    },
    {
     "name": "stderr",
     "output_type": "stream",
     "text": [
      "/tmp/ipykernel_364/3853139118.py:94: ParserWarning: Both a converter and dtype were specified for column SMILES - only the converter will be used.\n",
      "  for i,df in enumerate(activity_reader):\n",
      "/tmp/ipykernel_364/3853139118.py:94: ParserWarning: Both a converter and dtype were specified for column pchembl_value - only the converter will be used.\n",
      "  for i,df in enumerate(activity_reader):\n"
     ]
    },
    {
     "name": "stdout",
     "output_type": "stream",
     "text": [
      "19250000\n",
      "Start Time = 15:37:29\n",
      "End Time = 15:37:46\n"
     ]
    },
    {
     "name": "stderr",
     "output_type": "stream",
     "text": [
      "/tmp/ipykernel_364/3853139118.py:94: ParserWarning: Both a converter and dtype were specified for column SMILES - only the converter will be used.\n",
      "  for i,df in enumerate(activity_reader):\n",
      "/tmp/ipykernel_364/3853139118.py:94: ParserWarning: Both a converter and dtype were specified for column pchembl_value - only the converter will be used.\n",
      "  for i,df in enumerate(activity_reader):\n"
     ]
    },
    {
     "name": "stdout",
     "output_type": "stream",
     "text": [
      "19300000\n",
      "Start Time = 15:38:00\n",
      "End Time = 15:38:16\n"
     ]
    },
    {
     "name": "stderr",
     "output_type": "stream",
     "text": [
      "/tmp/ipykernel_364/3853139118.py:94: ParserWarning: Both a converter and dtype were specified for column SMILES - only the converter will be used.\n",
      "  for i,df in enumerate(activity_reader):\n",
      "/tmp/ipykernel_364/3853139118.py:94: ParserWarning: Both a converter and dtype were specified for column pchembl_value - only the converter will be used.\n",
      "  for i,df in enumerate(activity_reader):\n"
     ]
    },
    {
     "name": "stdout",
     "output_type": "stream",
     "text": [
      "19350000\n",
      "Start Time = 15:38:30\n",
      "End Time = 15:38:45\n"
     ]
    },
    {
     "name": "stderr",
     "output_type": "stream",
     "text": [
      "/tmp/ipykernel_364/3853139118.py:94: ParserWarning: Both a converter and dtype were specified for column SMILES - only the converter will be used.\n",
      "  for i,df in enumerate(activity_reader):\n",
      "/tmp/ipykernel_364/3853139118.py:94: ParserWarning: Both a converter and dtype were specified for column pchembl_value - only the converter will be used.\n",
      "  for i,df in enumerate(activity_reader):\n"
     ]
    },
    {
     "name": "stdout",
     "output_type": "stream",
     "text": [
      "19400000\n",
      "Start Time = 15:38:59\n",
      "End Time = 15:39:16\n"
     ]
    },
    {
     "name": "stderr",
     "output_type": "stream",
     "text": [
      "/tmp/ipykernel_364/3853139118.py:94: ParserWarning: Both a converter and dtype were specified for column SMILES - only the converter will be used.\n",
      "  for i,df in enumerate(activity_reader):\n",
      "/tmp/ipykernel_364/3853139118.py:94: ParserWarning: Both a converter and dtype were specified for column pchembl_value - only the converter will be used.\n",
      "  for i,df in enumerate(activity_reader):\n"
     ]
    },
    {
     "name": "stdout",
     "output_type": "stream",
     "text": [
      "19450000\n",
      "Start Time = 15:39:31\n",
      "End Time = 15:39:48\n"
     ]
    },
    {
     "name": "stderr",
     "output_type": "stream",
     "text": [
      "/tmp/ipykernel_364/3853139118.py:94: ParserWarning: Both a converter and dtype were specified for column SMILES - only the converter will be used.\n",
      "  for i,df in enumerate(activity_reader):\n",
      "/tmp/ipykernel_364/3853139118.py:94: ParserWarning: Both a converter and dtype were specified for column pchembl_value - only the converter will be used.\n",
      "  for i,df in enumerate(activity_reader):\n"
     ]
    },
    {
     "name": "stdout",
     "output_type": "stream",
     "text": [
      "19500000\n",
      "Start Time = 15:40:02\n",
      "End Time = 15:40:17\n"
     ]
    },
    {
     "name": "stderr",
     "output_type": "stream",
     "text": [
      "/tmp/ipykernel_364/3853139118.py:94: ParserWarning: Both a converter and dtype were specified for column SMILES - only the converter will be used.\n",
      "  for i,df in enumerate(activity_reader):\n",
      "/tmp/ipykernel_364/3853139118.py:94: ParserWarning: Both a converter and dtype were specified for column pchembl_value - only the converter will be used.\n",
      "  for i,df in enumerate(activity_reader):\n"
     ]
    },
    {
     "name": "stdout",
     "output_type": "stream",
     "text": [
      "19550000\n",
      "Start Time = 15:40:31\n",
      "End Time = 15:40:48\n"
     ]
    },
    {
     "name": "stderr",
     "output_type": "stream",
     "text": [
      "/tmp/ipykernel_364/3853139118.py:94: ParserWarning: Both a converter and dtype were specified for column SMILES - only the converter will be used.\n",
      "  for i,df in enumerate(activity_reader):\n",
      "/tmp/ipykernel_364/3853139118.py:94: ParserWarning: Both a converter and dtype were specified for column pchembl_value - only the converter will be used.\n",
      "  for i,df in enumerate(activity_reader):\n"
     ]
    },
    {
     "name": "stdout",
     "output_type": "stream",
     "text": [
      "19600000\n",
      "Start Time = 15:41:02\n",
      "End Time = 15:41:18\n"
     ]
    },
    {
     "name": "stderr",
     "output_type": "stream",
     "text": [
      "/tmp/ipykernel_364/3853139118.py:94: ParserWarning: Both a converter and dtype were specified for column SMILES - only the converter will be used.\n",
      "  for i,df in enumerate(activity_reader):\n",
      "/tmp/ipykernel_364/3853139118.py:94: ParserWarning: Both a converter and dtype were specified for column pchembl_value - only the converter will be used.\n",
      "  for i,df in enumerate(activity_reader):\n"
     ]
    },
    {
     "name": "stdout",
     "output_type": "stream",
     "text": [
      "19650000\n",
      "Start Time = 15:41:33\n",
      "End Time = 15:41:48\n"
     ]
    },
    {
     "name": "stderr",
     "output_type": "stream",
     "text": [
      "/tmp/ipykernel_364/3853139118.py:94: ParserWarning: Both a converter and dtype were specified for column SMILES - only the converter will be used.\n",
      "  for i,df in enumerate(activity_reader):\n",
      "/tmp/ipykernel_364/3853139118.py:94: ParserWarning: Both a converter and dtype were specified for column pchembl_value - only the converter will be used.\n",
      "  for i,df in enumerate(activity_reader):\n"
     ]
    },
    {
     "name": "stdout",
     "output_type": "stream",
     "text": [
      "19700000\n",
      "Start Time = 15:42:02\n",
      "End Time = 15:42:18\n"
     ]
    },
    {
     "name": "stderr",
     "output_type": "stream",
     "text": [
      "/tmp/ipykernel_364/3853139118.py:94: ParserWarning: Both a converter and dtype were specified for column SMILES - only the converter will be used.\n",
      "  for i,df in enumerate(activity_reader):\n",
      "/tmp/ipykernel_364/3853139118.py:94: ParserWarning: Both a converter and dtype were specified for column pchembl_value - only the converter will be used.\n",
      "  for i,df in enumerate(activity_reader):\n"
     ]
    },
    {
     "name": "stdout",
     "output_type": "stream",
     "text": [
      "19750000\n",
      "Start Time = 15:42:32\n",
      "End Time = 15:42:48\n"
     ]
    },
    {
     "name": "stderr",
     "output_type": "stream",
     "text": [
      "/tmp/ipykernel_364/3853139118.py:94: ParserWarning: Both a converter and dtype were specified for column SMILES - only the converter will be used.\n",
      "  for i,df in enumerate(activity_reader):\n",
      "/tmp/ipykernel_364/3853139118.py:94: ParserWarning: Both a converter and dtype were specified for column pchembl_value - only the converter will be used.\n",
      "  for i,df in enumerate(activity_reader):\n"
     ]
    },
    {
     "name": "stdout",
     "output_type": "stream",
     "text": [
      "19800000\n",
      "Start Time = 15:43:03\n",
      "End Time = 15:43:18\n"
     ]
    },
    {
     "name": "stderr",
     "output_type": "stream",
     "text": [
      "/tmp/ipykernel_364/3853139118.py:94: ParserWarning: Both a converter and dtype were specified for column SMILES - only the converter will be used.\n",
      "  for i,df in enumerate(activity_reader):\n",
      "/tmp/ipykernel_364/3853139118.py:94: ParserWarning: Both a converter and dtype were specified for column pchembl_value - only the converter will be used.\n",
      "  for i,df in enumerate(activity_reader):\n"
     ]
    },
    {
     "name": "stdout",
     "output_type": "stream",
     "text": [
      "19850000\n",
      "Start Time = 15:43:32\n",
      "End Time = 15:43:50\n"
     ]
    },
    {
     "name": "stderr",
     "output_type": "stream",
     "text": [
      "/tmp/ipykernel_364/3853139118.py:94: ParserWarning: Both a converter and dtype were specified for column SMILES - only the converter will be used.\n",
      "  for i,df in enumerate(activity_reader):\n",
      "/tmp/ipykernel_364/3853139118.py:94: ParserWarning: Both a converter and dtype were specified for column pchembl_value - only the converter will be used.\n",
      "  for i,df in enumerate(activity_reader):\n"
     ]
    },
    {
     "name": "stdout",
     "output_type": "stream",
     "text": [
      "19900000\n",
      "Start Time = 15:44:06\n",
      "End Time = 15:44:23\n"
     ]
    },
    {
     "name": "stderr",
     "output_type": "stream",
     "text": [
      "/tmp/ipykernel_364/3853139118.py:94: ParserWarning: Both a converter and dtype were specified for column SMILES - only the converter will be used.\n",
      "  for i,df in enumerate(activity_reader):\n",
      "/tmp/ipykernel_364/3853139118.py:94: ParserWarning: Both a converter and dtype were specified for column pchembl_value - only the converter will be used.\n",
      "  for i,df in enumerate(activity_reader):\n"
     ]
    },
    {
     "name": "stdout",
     "output_type": "stream",
     "text": [
      "19950000\n",
      "Start Time = 15:44:37\n",
      "End Time = 15:44:52\n"
     ]
    },
    {
     "name": "stderr",
     "output_type": "stream",
     "text": [
      "/tmp/ipykernel_364/3853139118.py:94: ParserWarning: Both a converter and dtype were specified for column SMILES - only the converter will be used.\n",
      "  for i,df in enumerate(activity_reader):\n",
      "/tmp/ipykernel_364/3853139118.py:94: ParserWarning: Both a converter and dtype were specified for column pchembl_value - only the converter will be used.\n",
      "  for i,df in enumerate(activity_reader):\n"
     ]
    },
    {
     "name": "stdout",
     "output_type": "stream",
     "text": [
      "20000000\n",
      "Start Time = 15:45:06\n",
      "End Time = 15:45:23\n"
     ]
    },
    {
     "name": "stderr",
     "output_type": "stream",
     "text": [
      "/tmp/ipykernel_364/3853139118.py:94: ParserWarning: Both a converter and dtype were specified for column SMILES - only the converter will be used.\n",
      "  for i,df in enumerate(activity_reader):\n",
      "/tmp/ipykernel_364/3853139118.py:94: ParserWarning: Both a converter and dtype were specified for column pchembl_value - only the converter will be used.\n",
      "  for i,df in enumerate(activity_reader):\n"
     ]
    },
    {
     "name": "stdout",
     "output_type": "stream",
     "text": [
      "20050000\n",
      "Start Time = 15:45:37\n",
      "End Time = 15:45:55\n"
     ]
    },
    {
     "name": "stderr",
     "output_type": "stream",
     "text": [
      "/tmp/ipykernel_364/3853139118.py:94: ParserWarning: Both a converter and dtype were specified for column SMILES - only the converter will be used.\n",
      "  for i,df in enumerate(activity_reader):\n",
      "/tmp/ipykernel_364/3853139118.py:94: ParserWarning: Both a converter and dtype were specified for column pchembl_value - only the converter will be used.\n",
      "  for i,df in enumerate(activity_reader):\n"
     ]
    },
    {
     "name": "stdout",
     "output_type": "stream",
     "text": [
      "20100000\n",
      "Start Time = 15:46:09\n",
      "End Time = 15:46:24\n"
     ]
    },
    {
     "name": "stderr",
     "output_type": "stream",
     "text": [
      "/tmp/ipykernel_364/3853139118.py:94: ParserWarning: Both a converter and dtype were specified for column SMILES - only the converter will be used.\n",
      "  for i,df in enumerate(activity_reader):\n",
      "/tmp/ipykernel_364/3853139118.py:94: ParserWarning: Both a converter and dtype were specified for column pchembl_value - only the converter will be used.\n",
      "  for i,df in enumerate(activity_reader):\n"
     ]
    },
    {
     "name": "stdout",
     "output_type": "stream",
     "text": [
      "20150000\n",
      "Start Time = 15:46:39\n",
      "End Time = 15:46:56\n"
     ]
    },
    {
     "name": "stderr",
     "output_type": "stream",
     "text": [
      "/tmp/ipykernel_364/3853139118.py:94: ParserWarning: Both a converter and dtype were specified for column SMILES - only the converter will be used.\n",
      "  for i,df in enumerate(activity_reader):\n",
      "/tmp/ipykernel_364/3853139118.py:94: ParserWarning: Both a converter and dtype were specified for column pchembl_value - only the converter will be used.\n",
      "  for i,df in enumerate(activity_reader):\n"
     ]
    },
    {
     "name": "stdout",
     "output_type": "stream",
     "text": [
      "20200000\n",
      "Start Time = 15:47:10\n",
      "End Time = 15:47:27\n"
     ]
    },
    {
     "name": "stderr",
     "output_type": "stream",
     "text": [
      "/tmp/ipykernel_364/3853139118.py:94: ParserWarning: Both a converter and dtype were specified for column SMILES - only the converter will be used.\n",
      "  for i,df in enumerate(activity_reader):\n",
      "/tmp/ipykernel_364/3853139118.py:94: ParserWarning: Both a converter and dtype were specified for column pchembl_value - only the converter will be used.\n",
      "  for i,df in enumerate(activity_reader):\n"
     ]
    },
    {
     "name": "stdout",
     "output_type": "stream",
     "text": [
      "20250000\n",
      "Start Time = 15:47:41\n",
      "End Time = 15:47:56\n"
     ]
    },
    {
     "name": "stderr",
     "output_type": "stream",
     "text": [
      "/tmp/ipykernel_364/3853139118.py:94: ParserWarning: Both a converter and dtype were specified for column SMILES - only the converter will be used.\n",
      "  for i,df in enumerate(activity_reader):\n",
      "/tmp/ipykernel_364/3853139118.py:94: ParserWarning: Both a converter and dtype were specified for column pchembl_value - only the converter will be used.\n",
      "  for i,df in enumerate(activity_reader):\n"
     ]
    },
    {
     "name": "stdout",
     "output_type": "stream",
     "text": [
      "20300000\n",
      "Start Time = 15:48:11\n",
      "End Time = 15:48:28\n"
     ]
    },
    {
     "name": "stderr",
     "output_type": "stream",
     "text": [
      "/tmp/ipykernel_364/3853139118.py:94: ParserWarning: Both a converter and dtype were specified for column SMILES - only the converter will be used.\n",
      "  for i,df in enumerate(activity_reader):\n",
      "/tmp/ipykernel_364/3853139118.py:94: ParserWarning: Both a converter and dtype were specified for column pchembl_value - only the converter will be used.\n",
      "  for i,df in enumerate(activity_reader):\n"
     ]
    },
    {
     "name": "stdout",
     "output_type": "stream",
     "text": [
      "20350000\n",
      "Start Time = 15:48:43\n",
      "End Time = 15:49:02\n"
     ]
    },
    {
     "name": "stderr",
     "output_type": "stream",
     "text": [
      "/tmp/ipykernel_364/3853139118.py:94: ParserWarning: Both a converter and dtype were specified for column SMILES - only the converter will be used.\n",
      "  for i,df in enumerate(activity_reader):\n",
      "/tmp/ipykernel_364/3853139118.py:94: ParserWarning: Both a converter and dtype were specified for column pchembl_value - only the converter will be used.\n",
      "  for i,df in enumerate(activity_reader):\n"
     ]
    },
    {
     "name": "stdout",
     "output_type": "stream",
     "text": [
      "20400000\n",
      "Start Time = 15:49:17\n",
      "End Time = 15:49:32\n"
     ]
    },
    {
     "name": "stderr",
     "output_type": "stream",
     "text": [
      "/tmp/ipykernel_364/3853139118.py:94: ParserWarning: Both a converter and dtype were specified for column SMILES - only the converter will be used.\n",
      "  for i,df in enumerate(activity_reader):\n",
      "/tmp/ipykernel_364/3853139118.py:94: ParserWarning: Both a converter and dtype were specified for column pchembl_value - only the converter will be used.\n",
      "  for i,df in enumerate(activity_reader):\n"
     ]
    },
    {
     "name": "stdout",
     "output_type": "stream",
     "text": [
      "20450000\n",
      "Start Time = 15:49:46\n",
      "End Time = 15:50:03\n"
     ]
    },
    {
     "name": "stderr",
     "output_type": "stream",
     "text": [
      "/tmp/ipykernel_364/3853139118.py:94: ParserWarning: Both a converter and dtype were specified for column SMILES - only the converter will be used.\n",
      "  for i,df in enumerate(activity_reader):\n",
      "/tmp/ipykernel_364/3853139118.py:94: ParserWarning: Both a converter and dtype were specified for column pchembl_value - only the converter will be used.\n",
      "  for i,df in enumerate(activity_reader):\n"
     ]
    },
    {
     "name": "stdout",
     "output_type": "stream",
     "text": [
      "20500000\n",
      "Start Time = 15:50:17\n",
      "End Time = 15:50:34\n"
     ]
    },
    {
     "name": "stderr",
     "output_type": "stream",
     "text": [
      "/tmp/ipykernel_364/3853139118.py:94: ParserWarning: Both a converter and dtype were specified for column SMILES - only the converter will be used.\n",
      "  for i,df in enumerate(activity_reader):\n",
      "/tmp/ipykernel_364/3853139118.py:94: ParserWarning: Both a converter and dtype were specified for column pchembl_value - only the converter will be used.\n",
      "  for i,df in enumerate(activity_reader):\n"
     ]
    },
    {
     "name": "stdout",
     "output_type": "stream",
     "text": [
      "20550000\n",
      "Start Time = 15:50:48\n",
      "End Time = 15:51:03\n"
     ]
    },
    {
     "name": "stderr",
     "output_type": "stream",
     "text": [
      "/tmp/ipykernel_364/3853139118.py:94: ParserWarning: Both a converter and dtype were specified for column SMILES - only the converter will be used.\n",
      "  for i,df in enumerate(activity_reader):\n",
      "/tmp/ipykernel_364/3853139118.py:94: ParserWarning: Both a converter and dtype were specified for column pchembl_value - only the converter will be used.\n",
      "  for i,df in enumerate(activity_reader):\n"
     ]
    },
    {
     "name": "stdout",
     "output_type": "stream",
     "text": [
      "20600000\n",
      "Start Time = 15:51:18\n",
      "End Time = 15:51:34\n"
     ]
    },
    {
     "name": "stderr",
     "output_type": "stream",
     "text": [
      "/tmp/ipykernel_364/3853139118.py:94: ParserWarning: Both a converter and dtype were specified for column SMILES - only the converter will be used.\n",
      "  for i,df in enumerate(activity_reader):\n",
      "/tmp/ipykernel_364/3853139118.py:94: ParserWarning: Both a converter and dtype were specified for column pchembl_value - only the converter will be used.\n",
      "  for i,df in enumerate(activity_reader):\n"
     ]
    },
    {
     "name": "stdout",
     "output_type": "stream",
     "text": [
      "20650000\n",
      "Start Time = 15:51:49\n",
      "End Time = 15:52:05\n"
     ]
    },
    {
     "name": "stderr",
     "output_type": "stream",
     "text": [
      "/tmp/ipykernel_364/3853139118.py:94: ParserWarning: Both a converter and dtype were specified for column SMILES - only the converter will be used.\n",
      "  for i,df in enumerate(activity_reader):\n",
      "/tmp/ipykernel_364/3853139118.py:94: ParserWarning: Both a converter and dtype were specified for column pchembl_value - only the converter will be used.\n",
      "  for i,df in enumerate(activity_reader):\n"
     ]
    },
    {
     "name": "stdout",
     "output_type": "stream",
     "text": [
      "20700000\n",
      "Start Time = 15:52:19\n",
      "End Time = 15:52:34\n"
     ]
    },
    {
     "name": "stderr",
     "output_type": "stream",
     "text": [
      "/tmp/ipykernel_364/3853139118.py:94: ParserWarning: Both a converter and dtype were specified for column SMILES - only the converter will be used.\n",
      "  for i,df in enumerate(activity_reader):\n",
      "/tmp/ipykernel_364/3853139118.py:94: ParserWarning: Both a converter and dtype were specified for column pchembl_value - only the converter will be used.\n",
      "  for i,df in enumerate(activity_reader):\n"
     ]
    },
    {
     "name": "stdout",
     "output_type": "stream",
     "text": [
      "20750000\n",
      "Start Time = 15:52:49\n",
      "End Time = 15:53:06\n"
     ]
    },
    {
     "name": "stderr",
     "output_type": "stream",
     "text": [
      "/tmp/ipykernel_364/3853139118.py:94: ParserWarning: Both a converter and dtype were specified for column SMILES - only the converter will be used.\n",
      "  for i,df in enumerate(activity_reader):\n",
      "/tmp/ipykernel_364/3853139118.py:94: ParserWarning: Both a converter and dtype were specified for column pchembl_value - only the converter will be used.\n",
      "  for i,df in enumerate(activity_reader):\n"
     ]
    },
    {
     "name": "stdout",
     "output_type": "stream",
     "text": [
      "20800000\n",
      "Start Time = 15:53:21\n",
      "End Time = 15:53:38\n"
     ]
    },
    {
     "name": "stderr",
     "output_type": "stream",
     "text": [
      "/tmp/ipykernel_364/3853139118.py:94: ParserWarning: Both a converter and dtype were specified for column SMILES - only the converter will be used.\n",
      "  for i,df in enumerate(activity_reader):\n",
      "/tmp/ipykernel_364/3853139118.py:94: ParserWarning: Both a converter and dtype were specified for column pchembl_value - only the converter will be used.\n",
      "  for i,df in enumerate(activity_reader):\n"
     ]
    },
    {
     "name": "stdout",
     "output_type": "stream",
     "text": [
      "20850000\n",
      "Start Time = 15:53:52\n",
      "End Time = 15:54:08\n"
     ]
    },
    {
     "name": "stderr",
     "output_type": "stream",
     "text": [
      "/tmp/ipykernel_364/3853139118.py:94: ParserWarning: Both a converter and dtype were specified for column SMILES - only the converter will be used.\n",
      "  for i,df in enumerate(activity_reader):\n",
      "/tmp/ipykernel_364/3853139118.py:94: ParserWarning: Both a converter and dtype were specified for column pchembl_value - only the converter will be used.\n",
      "  for i,df in enumerate(activity_reader):\n"
     ]
    },
    {
     "name": "stdout",
     "output_type": "stream",
     "text": [
      "20900000\n",
      "Start Time = 15:54:22\n",
      "End Time = 15:54:40\n"
     ]
    },
    {
     "name": "stderr",
     "output_type": "stream",
     "text": [
      "/tmp/ipykernel_364/3853139118.py:94: ParserWarning: Both a converter and dtype were specified for column SMILES - only the converter will be used.\n",
      "  for i,df in enumerate(activity_reader):\n",
      "/tmp/ipykernel_364/3853139118.py:94: ParserWarning: Both a converter and dtype were specified for column pchembl_value - only the converter will be used.\n",
      "  for i,df in enumerate(activity_reader):\n"
     ]
    },
    {
     "name": "stdout",
     "output_type": "stream",
     "text": [
      "20950000\n",
      "Start Time = 15:54:54\n",
      "End Time = 15:55:12\n"
     ]
    },
    {
     "name": "stderr",
     "output_type": "stream",
     "text": [
      "/tmp/ipykernel_364/3853139118.py:94: ParserWarning: Both a converter and dtype were specified for column SMILES - only the converter will be used.\n",
      "  for i,df in enumerate(activity_reader):\n",
      "/tmp/ipykernel_364/3853139118.py:94: ParserWarning: Both a converter and dtype were specified for column pchembl_value - only the converter will be used.\n",
      "  for i,df in enumerate(activity_reader):\n"
     ]
    },
    {
     "name": "stdout",
     "output_type": "stream",
     "text": [
      "21000000\n",
      "Start Time = 15:55:26\n",
      "End Time = 15:55:41\n"
     ]
    },
    {
     "name": "stderr",
     "output_type": "stream",
     "text": [
      "/tmp/ipykernel_364/3853139118.py:94: ParserWarning: Both a converter and dtype were specified for column SMILES - only the converter will be used.\n",
      "  for i,df in enumerate(activity_reader):\n",
      "/tmp/ipykernel_364/3853139118.py:94: ParserWarning: Both a converter and dtype were specified for column pchembl_value - only the converter will be used.\n",
      "  for i,df in enumerate(activity_reader):\n"
     ]
    },
    {
     "name": "stdout",
     "output_type": "stream",
     "text": [
      "21050000\n",
      "Start Time = 15:55:55\n",
      "End Time = 15:56:12\n"
     ]
    },
    {
     "name": "stderr",
     "output_type": "stream",
     "text": [
      "/tmp/ipykernel_364/3853139118.py:94: ParserWarning: Both a converter and dtype were specified for column SMILES - only the converter will be used.\n",
      "  for i,df in enumerate(activity_reader):\n",
      "/tmp/ipykernel_364/3853139118.py:94: ParserWarning: Both a converter and dtype were specified for column pchembl_value - only the converter will be used.\n",
      "  for i,df in enumerate(activity_reader):\n"
     ]
    },
    {
     "name": "stdout",
     "output_type": "stream",
     "text": [
      "21100000\n",
      "Start Time = 15:56:27\n",
      "End Time = 15:56:44\n"
     ]
    },
    {
     "name": "stderr",
     "output_type": "stream",
     "text": [
      "/tmp/ipykernel_364/3853139118.py:94: ParserWarning: Both a converter and dtype were specified for column SMILES - only the converter will be used.\n",
      "  for i,df in enumerate(activity_reader):\n",
      "/tmp/ipykernel_364/3853139118.py:94: ParserWarning: Both a converter and dtype were specified for column pchembl_value - only the converter will be used.\n",
      "  for i,df in enumerate(activity_reader):\n"
     ]
    },
    {
     "name": "stdout",
     "output_type": "stream",
     "text": [
      "21150000\n",
      "Start Time = 15:56:58\n",
      "End Time = 15:57:12\n"
     ]
    },
    {
     "name": "stderr",
     "output_type": "stream",
     "text": [
      "/tmp/ipykernel_364/3853139118.py:94: ParserWarning: Both a converter and dtype were specified for column SMILES - only the converter will be used.\n",
      "  for i,df in enumerate(activity_reader):\n",
      "/tmp/ipykernel_364/3853139118.py:94: ParserWarning: Both a converter and dtype were specified for column pchembl_value - only the converter will be used.\n",
      "  for i,df in enumerate(activity_reader):\n"
     ]
    },
    {
     "name": "stdout",
     "output_type": "stream",
     "text": [
      "21200000\n",
      "Start Time = 15:57:27\n",
      "End Time = 15:57:43\n"
     ]
    },
    {
     "name": "stderr",
     "output_type": "stream",
     "text": [
      "/tmp/ipykernel_364/3853139118.py:94: ParserWarning: Both a converter and dtype were specified for column SMILES - only the converter will be used.\n",
      "  for i,df in enumerate(activity_reader):\n",
      "/tmp/ipykernel_364/3853139118.py:94: ParserWarning: Both a converter and dtype were specified for column pchembl_value - only the converter will be used.\n",
      "  for i,df in enumerate(activity_reader):\n"
     ]
    },
    {
     "name": "stdout",
     "output_type": "stream",
     "text": [
      "21250000\n",
      "Start Time = 15:57:58\n",
      "End Time = 15:58:15\n"
     ]
    },
    {
     "name": "stderr",
     "output_type": "stream",
     "text": [
      "/tmp/ipykernel_364/3853139118.py:94: ParserWarning: Both a converter and dtype were specified for column SMILES - only the converter will be used.\n",
      "  for i,df in enumerate(activity_reader):\n",
      "/tmp/ipykernel_364/3853139118.py:94: ParserWarning: Both a converter and dtype were specified for column pchembl_value - only the converter will be used.\n",
      "  for i,df in enumerate(activity_reader):\n"
     ]
    },
    {
     "name": "stdout",
     "output_type": "stream",
     "text": [
      "21300000\n",
      "Start Time = 15:58:29\n",
      "End Time = 15:58:45\n"
     ]
    },
    {
     "name": "stderr",
     "output_type": "stream",
     "text": [
      "/tmp/ipykernel_364/3853139118.py:94: ParserWarning: Both a converter and dtype were specified for column SMILES - only the converter will be used.\n",
      "  for i,df in enumerate(activity_reader):\n",
      "/tmp/ipykernel_364/3853139118.py:94: ParserWarning: Both a converter and dtype were specified for column pchembl_value - only the converter will be used.\n",
      "  for i,df in enumerate(activity_reader):\n"
     ]
    },
    {
     "name": "stdout",
     "output_type": "stream",
     "text": [
      "21350000\n",
      "Start Time = 15:58:59\n",
      "End Time = 15:59:15\n"
     ]
    },
    {
     "name": "stderr",
     "output_type": "stream",
     "text": [
      "/tmp/ipykernel_364/3853139118.py:94: ParserWarning: Both a converter and dtype were specified for column SMILES - only the converter will be used.\n",
      "  for i,df in enumerate(activity_reader):\n",
      "/tmp/ipykernel_364/3853139118.py:94: ParserWarning: Both a converter and dtype were specified for column pchembl_value - only the converter will be used.\n",
      "  for i,df in enumerate(activity_reader):\n"
     ]
    },
    {
     "name": "stdout",
     "output_type": "stream",
     "text": [
      "21400000\n",
      "Start Time = 15:59:30\n",
      "End Time = 15:59:47\n"
     ]
    },
    {
     "name": "stderr",
     "output_type": "stream",
     "text": [
      "/tmp/ipykernel_364/3853139118.py:94: ParserWarning: Both a converter and dtype were specified for column SMILES - only the converter will be used.\n",
      "  for i,df in enumerate(activity_reader):\n",
      "/tmp/ipykernel_364/3853139118.py:94: ParserWarning: Both a converter and dtype were specified for column pchembl_value - only the converter will be used.\n",
      "  for i,df in enumerate(activity_reader):\n"
     ]
    },
    {
     "name": "stdout",
     "output_type": "stream",
     "text": [
      "21450000\n",
      "Start Time = 16:00:02\n",
      "End Time = 16:00:17\n"
     ]
    },
    {
     "name": "stderr",
     "output_type": "stream",
     "text": [
      "/tmp/ipykernel_364/3853139118.py:94: ParserWarning: Both a converter and dtype were specified for column SMILES - only the converter will be used.\n",
      "  for i,df in enumerate(activity_reader):\n",
      "/tmp/ipykernel_364/3853139118.py:94: ParserWarning: Both a converter and dtype were specified for column pchembl_value - only the converter will be used.\n",
      "  for i,df in enumerate(activity_reader):\n"
     ]
    },
    {
     "name": "stdout",
     "output_type": "stream",
     "text": [
      "21500000\n",
      "Start Time = 16:00:31\n",
      "End Time = 16:00:48\n"
     ]
    },
    {
     "name": "stderr",
     "output_type": "stream",
     "text": [
      "/tmp/ipykernel_364/3853139118.py:94: ParserWarning: Both a converter and dtype were specified for column SMILES - only the converter will be used.\n",
      "  for i,df in enumerate(activity_reader):\n",
      "/tmp/ipykernel_364/3853139118.py:94: ParserWarning: Both a converter and dtype were specified for column pchembl_value - only the converter will be used.\n",
      "  for i,df in enumerate(activity_reader):\n"
     ]
    },
    {
     "name": "stdout",
     "output_type": "stream",
     "text": [
      "21550000\n",
      "Start Time = 16:01:02\n",
      "End Time = 16:01:19\n"
     ]
    },
    {
     "name": "stderr",
     "output_type": "stream",
     "text": [
      "/tmp/ipykernel_364/3853139118.py:94: ParserWarning: Both a converter and dtype were specified for column SMILES - only the converter will be used.\n",
      "  for i,df in enumerate(activity_reader):\n",
      "/tmp/ipykernel_364/3853139118.py:94: ParserWarning: Both a converter and dtype were specified for column pchembl_value - only the converter will be used.\n",
      "  for i,df in enumerate(activity_reader):\n"
     ]
    },
    {
     "name": "stdout",
     "output_type": "stream",
     "text": [
      "21600000\n",
      "Start Time = 16:01:33\n",
      "End Time = 16:01:48\n"
     ]
    },
    {
     "name": "stderr",
     "output_type": "stream",
     "text": [
      "/tmp/ipykernel_364/3853139118.py:94: ParserWarning: Both a converter and dtype were specified for column SMILES - only the converter will be used.\n",
      "  for i,df in enumerate(activity_reader):\n",
      "/tmp/ipykernel_364/3853139118.py:94: ParserWarning: Both a converter and dtype were specified for column pchembl_value - only the converter will be used.\n",
      "  for i,df in enumerate(activity_reader):\n"
     ]
    },
    {
     "name": "stdout",
     "output_type": "stream",
     "text": [
      "21650000\n",
      "Start Time = 16:02:02\n",
      "End Time = 16:02:19\n"
     ]
    },
    {
     "name": "stderr",
     "output_type": "stream",
     "text": [
      "/tmp/ipykernel_364/3853139118.py:94: ParserWarning: Both a converter and dtype were specified for column SMILES - only the converter will be used.\n",
      "  for i,df in enumerate(activity_reader):\n",
      "/tmp/ipykernel_364/3853139118.py:94: ParserWarning: Both a converter and dtype were specified for column pchembl_value - only the converter will be used.\n",
      "  for i,df in enumerate(activity_reader):\n"
     ]
    },
    {
     "name": "stdout",
     "output_type": "stream",
     "text": [
      "21700000\n",
      "Start Time = 16:02:33\n",
      "End Time = 16:02:49\n"
     ]
    },
    {
     "name": "stderr",
     "output_type": "stream",
     "text": [
      "/tmp/ipykernel_364/3853139118.py:94: ParserWarning: Both a converter and dtype were specified for column SMILES - only the converter will be used.\n",
      "  for i,df in enumerate(activity_reader):\n",
      "/tmp/ipykernel_364/3853139118.py:94: ParserWarning: Both a converter and dtype were specified for column pchembl_value - only the converter will be used.\n",
      "  for i,df in enumerate(activity_reader):\n"
     ]
    },
    {
     "name": "stdout",
     "output_type": "stream",
     "text": [
      "21750000\n",
      "Start Time = 16:03:03\n",
      "End Time = 16:03:18\n"
     ]
    },
    {
     "name": "stderr",
     "output_type": "stream",
     "text": [
      "/tmp/ipykernel_364/3853139118.py:94: ParserWarning: Both a converter and dtype were specified for column SMILES - only the converter will be used.\n",
      "  for i,df in enumerate(activity_reader):\n",
      "/tmp/ipykernel_364/3853139118.py:94: ParserWarning: Both a converter and dtype were specified for column pchembl_value - only the converter will be used.\n",
      "  for i,df in enumerate(activity_reader):\n"
     ]
    },
    {
     "name": "stdout",
     "output_type": "stream",
     "text": [
      "21800000\n",
      "Start Time = 16:03:32\n",
      "End Time = 16:03:49\n"
     ]
    },
    {
     "name": "stderr",
     "output_type": "stream",
     "text": [
      "/tmp/ipykernel_364/3853139118.py:94: ParserWarning: Both a converter and dtype were specified for column SMILES - only the converter will be used.\n",
      "  for i,df in enumerate(activity_reader):\n",
      "/tmp/ipykernel_364/3853139118.py:94: ParserWarning: Both a converter and dtype were specified for column pchembl_value - only the converter will be used.\n",
      "  for i,df in enumerate(activity_reader):\n"
     ]
    },
    {
     "name": "stdout",
     "output_type": "stream",
     "text": [
      "21850000\n",
      "Start Time = 16:04:04\n",
      "End Time = 16:04:21\n"
     ]
    },
    {
     "name": "stderr",
     "output_type": "stream",
     "text": [
      "/tmp/ipykernel_364/3853139118.py:94: ParserWarning: Both a converter and dtype were specified for column SMILES - only the converter will be used.\n",
      "  for i,df in enumerate(activity_reader):\n",
      "/tmp/ipykernel_364/3853139118.py:94: ParserWarning: Both a converter and dtype were specified for column pchembl_value - only the converter will be used.\n",
      "  for i,df in enumerate(activity_reader):\n"
     ]
    },
    {
     "name": "stdout",
     "output_type": "stream",
     "text": [
      "21900000\n",
      "Start Time = 16:04:36\n",
      "End Time = 16:04:51\n"
     ]
    },
    {
     "name": "stderr",
     "output_type": "stream",
     "text": [
      "/tmp/ipykernel_364/3853139118.py:94: ParserWarning: Both a converter and dtype were specified for column SMILES - only the converter will be used.\n",
      "  for i,df in enumerate(activity_reader):\n",
      "/tmp/ipykernel_364/3853139118.py:94: ParserWarning: Both a converter and dtype were specified for column pchembl_value - only the converter will be used.\n",
      "  for i,df in enumerate(activity_reader):\n"
     ]
    },
    {
     "name": "stdout",
     "output_type": "stream",
     "text": [
      "21950000\n",
      "Start Time = 16:05:06\n",
      "End Time = 16:05:22\n"
     ]
    },
    {
     "name": "stderr",
     "output_type": "stream",
     "text": [
      "/tmp/ipykernel_364/3853139118.py:94: ParserWarning: Both a converter and dtype were specified for column SMILES - only the converter will be used.\n",
      "  for i,df in enumerate(activity_reader):\n",
      "/tmp/ipykernel_364/3853139118.py:94: ParserWarning: Both a converter and dtype were specified for column pchembl_value - only the converter will be used.\n",
      "  for i,df in enumerate(activity_reader):\n"
     ]
    },
    {
     "name": "stdout",
     "output_type": "stream",
     "text": [
      "22000000\n",
      "Start Time = 16:05:37\n",
      "End Time = 16:05:54\n"
     ]
    },
    {
     "name": "stderr",
     "output_type": "stream",
     "text": [
      "/tmp/ipykernel_364/3853139118.py:94: ParserWarning: Both a converter and dtype were specified for column SMILES - only the converter will be used.\n",
      "  for i,df in enumerate(activity_reader):\n",
      "/tmp/ipykernel_364/3853139118.py:94: ParserWarning: Both a converter and dtype were specified for column pchembl_value - only the converter will be used.\n",
      "  for i,df in enumerate(activity_reader):\n"
     ]
    },
    {
     "name": "stdout",
     "output_type": "stream",
     "text": [
      "22050000\n",
      "Start Time = 16:06:08\n",
      "End Time = 16:06:23\n"
     ]
    },
    {
     "name": "stderr",
     "output_type": "stream",
     "text": [
      "/tmp/ipykernel_364/3853139118.py:94: ParserWarning: Both a converter and dtype were specified for column SMILES - only the converter will be used.\n",
      "  for i,df in enumerate(activity_reader):\n",
      "/tmp/ipykernel_364/3853139118.py:94: ParserWarning: Both a converter and dtype were specified for column pchembl_value - only the converter will be used.\n",
      "  for i,df in enumerate(activity_reader):\n"
     ]
    },
    {
     "name": "stdout",
     "output_type": "stream",
     "text": [
      "22100000\n",
      "Start Time = 16:06:38\n",
      "End Time = 16:06:54\n"
     ]
    },
    {
     "name": "stderr",
     "output_type": "stream",
     "text": [
      "/tmp/ipykernel_364/3853139118.py:94: ParserWarning: Both a converter and dtype were specified for column SMILES - only the converter will be used.\n",
      "  for i,df in enumerate(activity_reader):\n",
      "/tmp/ipykernel_364/3853139118.py:94: ParserWarning: Both a converter and dtype were specified for column pchembl_value - only the converter will be used.\n",
      "  for i,df in enumerate(activity_reader):\n"
     ]
    },
    {
     "name": "stdout",
     "output_type": "stream",
     "text": [
      "22150000\n",
      "Start Time = 16:07:09\n",
      "End Time = 16:07:25\n"
     ]
    },
    {
     "name": "stderr",
     "output_type": "stream",
     "text": [
      "/tmp/ipykernel_364/3853139118.py:94: ParserWarning: Both a converter and dtype were specified for column SMILES - only the converter will be used.\n",
      "  for i,df in enumerate(activity_reader):\n",
      "/tmp/ipykernel_364/3853139118.py:94: ParserWarning: Both a converter and dtype were specified for column pchembl_value - only the converter will be used.\n",
      "  for i,df in enumerate(activity_reader):\n"
     ]
    },
    {
     "name": "stdout",
     "output_type": "stream",
     "text": [
      "22200000\n",
      "Start Time = 16:07:40\n",
      "End Time = 16:07:54\n"
     ]
    },
    {
     "name": "stderr",
     "output_type": "stream",
     "text": [
      "/tmp/ipykernel_364/3853139118.py:94: ParserWarning: Both a converter and dtype were specified for column SMILES - only the converter will be used.\n",
      "  for i,df in enumerate(activity_reader):\n",
      "/tmp/ipykernel_364/3853139118.py:94: ParserWarning: Both a converter and dtype were specified for column pchembl_value - only the converter will be used.\n",
      "  for i,df in enumerate(activity_reader):\n"
     ]
    },
    {
     "name": "stdout",
     "output_type": "stream",
     "text": [
      "22250000\n",
      "Start Time = 16:08:09\n",
      "End Time = 16:08:25\n"
     ]
    },
    {
     "name": "stderr",
     "output_type": "stream",
     "text": [
      "/tmp/ipykernel_364/3853139118.py:94: ParserWarning: Both a converter and dtype were specified for column SMILES - only the converter will be used.\n",
      "  for i,df in enumerate(activity_reader):\n",
      "/tmp/ipykernel_364/3853139118.py:94: ParserWarning: Both a converter and dtype were specified for column pchembl_value - only the converter will be used.\n",
      "  for i,df in enumerate(activity_reader):\n"
     ]
    },
    {
     "name": "stdout",
     "output_type": "stream",
     "text": [
      "22300000\n",
      "Start Time = 16:08:40\n",
      "End Time = 16:08:56\n"
     ]
    },
    {
     "name": "stderr",
     "output_type": "stream",
     "text": [
      "/tmp/ipykernel_364/3853139118.py:94: ParserWarning: Both a converter and dtype were specified for column SMILES - only the converter will be used.\n",
      "  for i,df in enumerate(activity_reader):\n",
      "/tmp/ipykernel_364/3853139118.py:94: ParserWarning: Both a converter and dtype were specified for column pchembl_value - only the converter will be used.\n",
      "  for i,df in enumerate(activity_reader):\n"
     ]
    },
    {
     "name": "stdout",
     "output_type": "stream",
     "text": [
      "22350000\n",
      "Start Time = 16:09:11\n",
      "End Time = 16:09:26\n"
     ]
    },
    {
     "name": "stderr",
     "output_type": "stream",
     "text": [
      "/tmp/ipykernel_364/3853139118.py:94: ParserWarning: Both a converter and dtype were specified for column SMILES - only the converter will be used.\n",
      "  for i,df in enumerate(activity_reader):\n",
      "/tmp/ipykernel_364/3853139118.py:94: ParserWarning: Both a converter and dtype were specified for column pchembl_value - only the converter will be used.\n",
      "  for i,df in enumerate(activity_reader):\n"
     ]
    },
    {
     "name": "stdout",
     "output_type": "stream",
     "text": [
      "22400000\n",
      "Start Time = 16:09:41\n",
      "End Time = 16:09:58\n"
     ]
    },
    {
     "name": "stderr",
     "output_type": "stream",
     "text": [
      "/tmp/ipykernel_364/3853139118.py:94: ParserWarning: Both a converter and dtype were specified for column SMILES - only the converter will be used.\n",
      "  for i,df in enumerate(activity_reader):\n",
      "/tmp/ipykernel_364/3853139118.py:94: ParserWarning: Both a converter and dtype were specified for column pchembl_value - only the converter will be used.\n",
      "  for i,df in enumerate(activity_reader):\n"
     ]
    },
    {
     "name": "stdout",
     "output_type": "stream",
     "text": [
      "22450000\n",
      "Start Time = 16:10:12\n",
      "End Time = 16:10:29\n"
     ]
    },
    {
     "name": "stderr",
     "output_type": "stream",
     "text": [
      "/tmp/ipykernel_364/3853139118.py:94: ParserWarning: Both a converter and dtype were specified for column SMILES - only the converter will be used.\n",
      "  for i,df in enumerate(activity_reader):\n",
      "/tmp/ipykernel_364/3853139118.py:94: ParserWarning: Both a converter and dtype were specified for column pchembl_value - only the converter will be used.\n",
      "  for i,df in enumerate(activity_reader):\n"
     ]
    },
    {
     "name": "stdout",
     "output_type": "stream",
     "text": [
      "22500000\n",
      "Start Time = 16:10:43\n",
      "End Time = 16:10:58\n"
     ]
    },
    {
     "name": "stderr",
     "output_type": "stream",
     "text": [
      "/tmp/ipykernel_364/3853139118.py:94: ParserWarning: Both a converter and dtype were specified for column SMILES - only the converter will be used.\n",
      "  for i,df in enumerate(activity_reader):\n",
      "/tmp/ipykernel_364/3853139118.py:94: ParserWarning: Both a converter and dtype were specified for column pchembl_value - only the converter will be used.\n",
      "  for i,df in enumerate(activity_reader):\n"
     ]
    },
    {
     "name": "stdout",
     "output_type": "stream",
     "text": [
      "22550000\n",
      "Start Time = 16:11:13\n",
      "End Time = 16:11:30\n"
     ]
    },
    {
     "name": "stderr",
     "output_type": "stream",
     "text": [
      "/tmp/ipykernel_364/3853139118.py:94: ParserWarning: Both a converter and dtype were specified for column SMILES - only the converter will be used.\n",
      "  for i,df in enumerate(activity_reader):\n",
      "/tmp/ipykernel_364/3853139118.py:94: ParserWarning: Both a converter and dtype were specified for column pchembl_value - only the converter will be used.\n",
      "  for i,df in enumerate(activity_reader):\n"
     ]
    },
    {
     "name": "stdout",
     "output_type": "stream",
     "text": [
      "22600000\n",
      "Start Time = 16:11:45\n",
      "End Time = 16:12:03\n"
     ]
    },
    {
     "name": "stderr",
     "output_type": "stream",
     "text": [
      "/tmp/ipykernel_364/3853139118.py:94: ParserWarning: Both a converter and dtype were specified for column SMILES - only the converter will be used.\n",
      "  for i,df in enumerate(activity_reader):\n",
      "/tmp/ipykernel_364/3853139118.py:94: ParserWarning: Both a converter and dtype were specified for column pchembl_value - only the converter will be used.\n",
      "  for i,df in enumerate(activity_reader):\n"
     ]
    },
    {
     "name": "stdout",
     "output_type": "stream",
     "text": [
      "22650000\n",
      "Start Time = 16:12:17\n",
      "End Time = 16:12:32\n"
     ]
    },
    {
     "name": "stderr",
     "output_type": "stream",
     "text": [
      "/tmp/ipykernel_364/3853139118.py:94: ParserWarning: Both a converter and dtype were specified for column SMILES - only the converter will be used.\n",
      "  for i,df in enumerate(activity_reader):\n",
      "/tmp/ipykernel_364/3853139118.py:94: ParserWarning: Both a converter and dtype were specified for column pchembl_value - only the converter will be used.\n",
      "  for i,df in enumerate(activity_reader):\n"
     ]
    },
    {
     "name": "stdout",
     "output_type": "stream",
     "text": [
      "22700000\n",
      "Start Time = 16:12:46\n",
      "End Time = 16:13:03\n"
     ]
    },
    {
     "name": "stderr",
     "output_type": "stream",
     "text": [
      "/tmp/ipykernel_364/3853139118.py:94: ParserWarning: Both a converter and dtype were specified for column SMILES - only the converter will be used.\n",
      "  for i,df in enumerate(activity_reader):\n",
      "/tmp/ipykernel_364/3853139118.py:94: ParserWarning: Both a converter and dtype were specified for column pchembl_value - only the converter will be used.\n",
      "  for i,df in enumerate(activity_reader):\n"
     ]
    },
    {
     "name": "stdout",
     "output_type": "stream",
     "text": [
      "22750000\n",
      "Start Time = 16:13:17\n",
      "End Time = 16:13:34\n"
     ]
    },
    {
     "name": "stderr",
     "output_type": "stream",
     "text": [
      "/tmp/ipykernel_364/3853139118.py:94: ParserWarning: Both a converter and dtype were specified for column SMILES - only the converter will be used.\n",
      "  for i,df in enumerate(activity_reader):\n",
      "/tmp/ipykernel_364/3853139118.py:94: ParserWarning: Both a converter and dtype were specified for column pchembl_value - only the converter will be used.\n",
      "  for i,df in enumerate(activity_reader):\n"
     ]
    },
    {
     "name": "stdout",
     "output_type": "stream",
     "text": [
      "22800000\n",
      "Start Time = 16:13:49\n",
      "End Time = 16:14:04\n"
     ]
    },
    {
     "name": "stderr",
     "output_type": "stream",
     "text": [
      "/tmp/ipykernel_364/3853139118.py:94: ParserWarning: Both a converter and dtype were specified for column SMILES - only the converter will be used.\n",
      "  for i,df in enumerate(activity_reader):\n",
      "/tmp/ipykernel_364/3853139118.py:94: ParserWarning: Both a converter and dtype were specified for column pchembl_value - only the converter will be used.\n",
      "  for i,df in enumerate(activity_reader):\n"
     ]
    },
    {
     "name": "stdout",
     "output_type": "stream",
     "text": [
      "22850000\n",
      "Start Time = 16:14:18\n",
      "End Time = 16:14:36\n"
     ]
    },
    {
     "name": "stderr",
     "output_type": "stream",
     "text": [
      "/tmp/ipykernel_364/3853139118.py:94: ParserWarning: Both a converter and dtype were specified for column SMILES - only the converter will be used.\n",
      "  for i,df in enumerate(activity_reader):\n",
      "/tmp/ipykernel_364/3853139118.py:94: ParserWarning: Both a converter and dtype were specified for column pchembl_value - only the converter will be used.\n",
      "  for i,df in enumerate(activity_reader):\n"
     ]
    },
    {
     "name": "stdout",
     "output_type": "stream",
     "text": [
      "22900000\n",
      "Start Time = 16:14:51\n",
      "End Time = 16:15:09\n"
     ]
    },
    {
     "name": "stderr",
     "output_type": "stream",
     "text": [
      "/tmp/ipykernel_364/3853139118.py:94: ParserWarning: Both a converter and dtype were specified for column SMILES - only the converter will be used.\n",
      "  for i,df in enumerate(activity_reader):\n",
      "/tmp/ipykernel_364/3853139118.py:94: ParserWarning: Both a converter and dtype were specified for column pchembl_value - only the converter will be used.\n",
      "  for i,df in enumerate(activity_reader):\n"
     ]
    },
    {
     "name": "stdout",
     "output_type": "stream",
     "text": [
      "22950000\n",
      "Start Time = 16:15:24\n",
      "End Time = 16:15:40\n"
     ]
    },
    {
     "name": "stderr",
     "output_type": "stream",
     "text": [
      "/tmp/ipykernel_364/3853139118.py:94: ParserWarning: Both a converter and dtype were specified for column SMILES - only the converter will be used.\n",
      "  for i,df in enumerate(activity_reader):\n",
      "/tmp/ipykernel_364/3853139118.py:94: ParserWarning: Both a converter and dtype were specified for column pchembl_value - only the converter will be used.\n",
      "  for i,df in enumerate(activity_reader):\n"
     ]
    },
    {
     "name": "stdout",
     "output_type": "stream",
     "text": [
      "23000000\n",
      "Start Time = 16:15:55\n",
      "End Time = 16:16:12\n"
     ]
    },
    {
     "name": "stderr",
     "output_type": "stream",
     "text": [
      "/tmp/ipykernel_364/3853139118.py:94: ParserWarning: Both a converter and dtype were specified for column SMILES - only the converter will be used.\n",
      "  for i,df in enumerate(activity_reader):\n",
      "/tmp/ipykernel_364/3853139118.py:94: ParserWarning: Both a converter and dtype were specified for column pchembl_value - only the converter will be used.\n",
      "  for i,df in enumerate(activity_reader):\n"
     ]
    },
    {
     "name": "stdout",
     "output_type": "stream",
     "text": [
      "23050000\n",
      "Start Time = 16:16:27\n",
      "End Time = 16:16:44\n"
     ]
    },
    {
     "name": "stderr",
     "output_type": "stream",
     "text": [
      "/tmp/ipykernel_364/3853139118.py:94: ParserWarning: Both a converter and dtype were specified for column SMILES - only the converter will be used.\n",
      "  for i,df in enumerate(activity_reader):\n",
      "/tmp/ipykernel_364/3853139118.py:94: ParserWarning: Both a converter and dtype were specified for column pchembl_value - only the converter will be used.\n",
      "  for i,df in enumerate(activity_reader):\n"
     ]
    },
    {
     "name": "stdout",
     "output_type": "stream",
     "text": [
      "23100000\n",
      "Start Time = 16:16:58\n",
      "End Time = 16:17:12\n"
     ]
    },
    {
     "name": "stderr",
     "output_type": "stream",
     "text": [
      "/tmp/ipykernel_364/3853139118.py:94: ParserWarning: Both a converter and dtype were specified for column SMILES - only the converter will be used.\n",
      "  for i,df in enumerate(activity_reader):\n",
      "/tmp/ipykernel_364/3853139118.py:94: ParserWarning: Both a converter and dtype were specified for column pchembl_value - only the converter will be used.\n",
      "  for i,df in enumerate(activity_reader):\n"
     ]
    },
    {
     "name": "stdout",
     "output_type": "stream",
     "text": [
      "23150000\n",
      "Start Time = 16:17:27\n",
      "End Time = 16:17:43\n"
     ]
    },
    {
     "name": "stderr",
     "output_type": "stream",
     "text": [
      "/tmp/ipykernel_364/3853139118.py:94: ParserWarning: Both a converter and dtype were specified for column SMILES - only the converter will be used.\n",
      "  for i,df in enumerate(activity_reader):\n",
      "/tmp/ipykernel_364/3853139118.py:94: ParserWarning: Both a converter and dtype were specified for column pchembl_value - only the converter will be used.\n",
      "  for i,df in enumerate(activity_reader):\n"
     ]
    },
    {
     "name": "stdout",
     "output_type": "stream",
     "text": [
      "23200000\n",
      "Start Time = 16:17:58\n",
      "End Time = 16:18:16\n"
     ]
    },
    {
     "name": "stderr",
     "output_type": "stream",
     "text": [
      "/tmp/ipykernel_364/3853139118.py:94: ParserWarning: Both a converter and dtype were specified for column SMILES - only the converter will be used.\n",
      "  for i,df in enumerate(activity_reader):\n",
      "/tmp/ipykernel_364/3853139118.py:94: ParserWarning: Both a converter and dtype were specified for column pchembl_value - only the converter will be used.\n",
      "  for i,df in enumerate(activity_reader):\n"
     ]
    },
    {
     "name": "stdout",
     "output_type": "stream",
     "text": [
      "23250000\n",
      "Start Time = 16:18:30\n",
      "End Time = 16:18:45\n"
     ]
    },
    {
     "name": "stderr",
     "output_type": "stream",
     "text": [
      "/tmp/ipykernel_364/3853139118.py:94: ParserWarning: Both a converter and dtype were specified for column SMILES - only the converter will be used.\n",
      "  for i,df in enumerate(activity_reader):\n",
      "/tmp/ipykernel_364/3853139118.py:94: ParserWarning: Both a converter and dtype were specified for column pchembl_value - only the converter will be used.\n",
      "  for i,df in enumerate(activity_reader):\n"
     ]
    },
    {
     "name": "stdout",
     "output_type": "stream",
     "text": [
      "23300000\n",
      "Start Time = 16:19:00\n",
      "End Time = 16:19:17\n"
     ]
    },
    {
     "name": "stderr",
     "output_type": "stream",
     "text": [
      "/tmp/ipykernel_364/3853139118.py:94: ParserWarning: Both a converter and dtype were specified for column SMILES - only the converter will be used.\n",
      "  for i,df in enumerate(activity_reader):\n",
      "/tmp/ipykernel_364/3853139118.py:94: ParserWarning: Both a converter and dtype were specified for column pchembl_value - only the converter will be used.\n",
      "  for i,df in enumerate(activity_reader):\n"
     ]
    },
    {
     "name": "stdout",
     "output_type": "stream",
     "text": [
      "23350000\n",
      "Start Time = 16:19:32\n",
      "End Time = 16:19:50\n"
     ]
    },
    {
     "name": "stderr",
     "output_type": "stream",
     "text": [
      "/tmp/ipykernel_364/3853139118.py:94: ParserWarning: Both a converter and dtype were specified for column SMILES - only the converter will be used.\n",
      "  for i,df in enumerate(activity_reader):\n",
      "/tmp/ipykernel_364/3853139118.py:94: ParserWarning: Both a converter and dtype were specified for column pchembl_value - only the converter will be used.\n",
      "  for i,df in enumerate(activity_reader):\n"
     ]
    },
    {
     "name": "stdout",
     "output_type": "stream",
     "text": [
      "23400000\n",
      "Start Time = 16:20:04\n",
      "End Time = 16:20:19\n"
     ]
    },
    {
     "name": "stderr",
     "output_type": "stream",
     "text": [
      "/tmp/ipykernel_364/3853139118.py:94: ParserWarning: Both a converter and dtype were specified for column SMILES - only the converter will be used.\n",
      "  for i,df in enumerate(activity_reader):\n",
      "/tmp/ipykernel_364/3853139118.py:94: ParserWarning: Both a converter and dtype were specified for column pchembl_value - only the converter will be used.\n",
      "  for i,df in enumerate(activity_reader):\n"
     ]
    },
    {
     "name": "stdout",
     "output_type": "stream",
     "text": [
      "23450000\n",
      "Start Time = 16:20:33\n",
      "End Time = 16:20:49\n"
     ]
    },
    {
     "name": "stderr",
     "output_type": "stream",
     "text": [
      "/tmp/ipykernel_364/3853139118.py:94: ParserWarning: Both a converter and dtype were specified for column SMILES - only the converter will be used.\n",
      "  for i,df in enumerate(activity_reader):\n",
      "/tmp/ipykernel_364/3853139118.py:94: ParserWarning: Both a converter and dtype were specified for column pchembl_value - only the converter will be used.\n",
      "  for i,df in enumerate(activity_reader):\n"
     ]
    },
    {
     "name": "stdout",
     "output_type": "stream",
     "text": [
      "23500000\n",
      "Start Time = 16:21:03\n",
      "End Time = 16:21:20\n"
     ]
    },
    {
     "name": "stderr",
     "output_type": "stream",
     "text": [
      "/tmp/ipykernel_364/3853139118.py:94: ParserWarning: Both a converter and dtype were specified for column SMILES - only the converter will be used.\n",
      "  for i,df in enumerate(activity_reader):\n",
      "/tmp/ipykernel_364/3853139118.py:94: ParserWarning: Both a converter and dtype were specified for column pchembl_value - only the converter will be used.\n",
      "  for i,df in enumerate(activity_reader):\n"
     ]
    },
    {
     "name": "stdout",
     "output_type": "stream",
     "text": [
      "23550000\n",
      "Start Time = 16:21:34\n",
      "End Time = 16:21:48\n"
     ]
    },
    {
     "name": "stderr",
     "output_type": "stream",
     "text": [
      "/tmp/ipykernel_364/3853139118.py:94: ParserWarning: Both a converter and dtype were specified for column SMILES - only the converter will be used.\n",
      "  for i,df in enumerate(activity_reader):\n",
      "/tmp/ipykernel_364/3853139118.py:94: ParserWarning: Both a converter and dtype were specified for column pchembl_value - only the converter will be used.\n",
      "  for i,df in enumerate(activity_reader):\n"
     ]
    },
    {
     "name": "stdout",
     "output_type": "stream",
     "text": [
      "23600000\n",
      "Start Time = 16:22:02\n",
      "End Time = 16:22:19\n"
     ]
    },
    {
     "name": "stderr",
     "output_type": "stream",
     "text": [
      "/tmp/ipykernel_364/3853139118.py:94: ParserWarning: Both a converter and dtype were specified for column SMILES - only the converter will be used.\n",
      "  for i,df in enumerate(activity_reader):\n",
      "/tmp/ipykernel_364/3853139118.py:94: ParserWarning: Both a converter and dtype were specified for column pchembl_value - only the converter will be used.\n",
      "  for i,df in enumerate(activity_reader):\n"
     ]
    },
    {
     "name": "stdout",
     "output_type": "stream",
     "text": [
      "23650000\n",
      "Start Time = 16:22:33\n",
      "End Time = 16:22:50\n"
     ]
    },
    {
     "name": "stderr",
     "output_type": "stream",
     "text": [
      "/tmp/ipykernel_364/3853139118.py:94: ParserWarning: Both a converter and dtype were specified for column SMILES - only the converter will be used.\n",
      "  for i,df in enumerate(activity_reader):\n",
      "/tmp/ipykernel_364/3853139118.py:94: ParserWarning: Both a converter and dtype were specified for column pchembl_value - only the converter will be used.\n",
      "  for i,df in enumerate(activity_reader):\n"
     ]
    },
    {
     "name": "stdout",
     "output_type": "stream",
     "text": [
      "23700000\n",
      "Start Time = 16:23:04\n",
      "End Time = 16:23:19\n"
     ]
    },
    {
     "name": "stderr",
     "output_type": "stream",
     "text": [
      "/tmp/ipykernel_364/3853139118.py:94: ParserWarning: Both a converter and dtype were specified for column SMILES - only the converter will be used.\n",
      "  for i,df in enumerate(activity_reader):\n",
      "/tmp/ipykernel_364/3853139118.py:94: ParserWarning: Both a converter and dtype were specified for column pchembl_value - only the converter will be used.\n",
      "  for i,df in enumerate(activity_reader):\n"
     ]
    },
    {
     "name": "stdout",
     "output_type": "stream",
     "text": [
      "23750000\n",
      "Start Time = 16:23:34\n",
      "End Time = 16:23:51\n"
     ]
    },
    {
     "name": "stderr",
     "output_type": "stream",
     "text": [
      "/tmp/ipykernel_364/3853139118.py:94: ParserWarning: Both a converter and dtype were specified for column SMILES - only the converter will be used.\n",
      "  for i,df in enumerate(activity_reader):\n",
      "/tmp/ipykernel_364/3853139118.py:94: ParserWarning: Both a converter and dtype were specified for column pchembl_value - only the converter will be used.\n",
      "  for i,df in enumerate(activity_reader):\n"
     ]
    },
    {
     "name": "stdout",
     "output_type": "stream",
     "text": [
      "23800000\n",
      "Start Time = 16:24:05\n",
      "End Time = 16:24:22\n"
     ]
    },
    {
     "name": "stderr",
     "output_type": "stream",
     "text": [
      "/tmp/ipykernel_364/3853139118.py:94: ParserWarning: Both a converter and dtype were specified for column SMILES - only the converter will be used.\n",
      "  for i,df in enumerate(activity_reader):\n",
      "/tmp/ipykernel_364/3853139118.py:94: ParserWarning: Both a converter and dtype were specified for column pchembl_value - only the converter will be used.\n",
      "  for i,df in enumerate(activity_reader):\n"
     ]
    },
    {
     "name": "stdout",
     "output_type": "stream",
     "text": [
      "23850000\n",
      "Start Time = 16:24:36\n",
      "End Time = 16:24:51\n"
     ]
    },
    {
     "name": "stderr",
     "output_type": "stream",
     "text": [
      "/tmp/ipykernel_364/3853139118.py:94: ParserWarning: Both a converter and dtype were specified for column SMILES - only the converter will be used.\n",
      "  for i,df in enumerate(activity_reader):\n",
      "/tmp/ipykernel_364/3853139118.py:94: ParserWarning: Both a converter and dtype were specified for column pchembl_value - only the converter will be used.\n",
      "  for i,df in enumerate(activity_reader):\n"
     ]
    },
    {
     "name": "stdout",
     "output_type": "stream",
     "text": [
      "23900000\n",
      "Start Time = 16:25:06\n",
      "End Time = 16:25:23\n"
     ]
    },
    {
     "name": "stderr",
     "output_type": "stream",
     "text": [
      "/tmp/ipykernel_364/3853139118.py:94: ParserWarning: Both a converter and dtype were specified for column SMILES - only the converter will be used.\n",
      "  for i,df in enumerate(activity_reader):\n",
      "/tmp/ipykernel_364/3853139118.py:94: ParserWarning: Both a converter and dtype were specified for column pchembl_value - only the converter will be used.\n",
      "  for i,df in enumerate(activity_reader):\n"
     ]
    },
    {
     "name": "stdout",
     "output_type": "stream",
     "text": [
      "23950000\n",
      "Start Time = 16:25:37\n",
      "End Time = 16:25:54\n"
     ]
    },
    {
     "name": "stderr",
     "output_type": "stream",
     "text": [
      "/tmp/ipykernel_364/3853139118.py:94: ParserWarning: Both a converter and dtype were specified for column SMILES - only the converter will be used.\n",
      "  for i,df in enumerate(activity_reader):\n",
      "/tmp/ipykernel_364/3853139118.py:94: ParserWarning: Both a converter and dtype were specified for column pchembl_value - only the converter will be used.\n",
      "  for i,df in enumerate(activity_reader):\n"
     ]
    },
    {
     "name": "stdout",
     "output_type": "stream",
     "text": [
      "24000000\n",
      "Start Time = 16:26:08\n",
      "End Time = 16:26:23\n"
     ]
    },
    {
     "name": "stderr",
     "output_type": "stream",
     "text": [
      "/tmp/ipykernel_364/3853139118.py:94: ParserWarning: Both a converter and dtype were specified for column SMILES - only the converter will be used.\n",
      "  for i,df in enumerate(activity_reader):\n",
      "/tmp/ipykernel_364/3853139118.py:94: ParserWarning: Both a converter and dtype were specified for column pchembl_value - only the converter will be used.\n",
      "  for i,df in enumerate(activity_reader):\n"
     ]
    },
    {
     "name": "stdout",
     "output_type": "stream",
     "text": [
      "24050000\n",
      "Start Time = 16:26:37\n",
      "End Time = 16:26:54\n"
     ]
    },
    {
     "name": "stderr",
     "output_type": "stream",
     "text": [
      "/tmp/ipykernel_364/3853139118.py:94: ParserWarning: Both a converter and dtype were specified for column SMILES - only the converter will be used.\n",
      "  for i,df in enumerate(activity_reader):\n",
      "/tmp/ipykernel_364/3853139118.py:94: ParserWarning: Both a converter and dtype were specified for column pchembl_value - only the converter will be used.\n",
      "  for i,df in enumerate(activity_reader):\n"
     ]
    },
    {
     "name": "stdout",
     "output_type": "stream",
     "text": [
      "24100000\n",
      "Start Time = 16:27:09\n",
      "End Time = 16:27:25\n"
     ]
    },
    {
     "name": "stderr",
     "output_type": "stream",
     "text": [
      "/tmp/ipykernel_364/3853139118.py:94: ParserWarning: Both a converter and dtype were specified for column SMILES - only the converter will be used.\n",
      "  for i,df in enumerate(activity_reader):\n",
      "/tmp/ipykernel_364/3853139118.py:94: ParserWarning: Both a converter and dtype were specified for column pchembl_value - only the converter will be used.\n",
      "  for i,df in enumerate(activity_reader):\n"
     ]
    },
    {
     "name": "stdout",
     "output_type": "stream",
     "text": [
      "24150000\n",
      "Start Time = 16:27:39\n",
      "End Time = 16:27:54\n"
     ]
    },
    {
     "name": "stderr",
     "output_type": "stream",
     "text": [
      "/tmp/ipykernel_364/3853139118.py:94: ParserWarning: Both a converter and dtype were specified for column SMILES - only the converter will be used.\n",
      "  for i,df in enumerate(activity_reader):\n",
      "/tmp/ipykernel_364/3853139118.py:94: ParserWarning: Both a converter and dtype were specified for column pchembl_value - only the converter will be used.\n",
      "  for i,df in enumerate(activity_reader):\n"
     ]
    },
    {
     "name": "stdout",
     "output_type": "stream",
     "text": [
      "24200000\n",
      "Start Time = 16:28:08\n",
      "End Time = 16:28:24\n"
     ]
    },
    {
     "name": "stderr",
     "output_type": "stream",
     "text": [
      "/tmp/ipykernel_364/3853139118.py:94: ParserWarning: Both a converter and dtype were specified for column SMILES - only the converter will be used.\n",
      "  for i,df in enumerate(activity_reader):\n",
      "/tmp/ipykernel_364/3853139118.py:94: ParserWarning: Both a converter and dtype were specified for column pchembl_value - only the converter will be used.\n",
      "  for i,df in enumerate(activity_reader):\n"
     ]
    },
    {
     "name": "stdout",
     "output_type": "stream",
     "text": [
      "24250000\n",
      "Start Time = 16:28:39\n",
      "End Time = 16:28:56\n"
     ]
    },
    {
     "name": "stderr",
     "output_type": "stream",
     "text": [
      "/tmp/ipykernel_364/3853139118.py:94: ParserWarning: Both a converter and dtype were specified for column SMILES - only the converter will be used.\n",
      "  for i,df in enumerate(activity_reader):\n",
      "/tmp/ipykernel_364/3853139118.py:94: ParserWarning: Both a converter and dtype were specified for column pchembl_value - only the converter will be used.\n",
      "  for i,df in enumerate(activity_reader):\n"
     ]
    },
    {
     "name": "stdout",
     "output_type": "stream",
     "text": [
      "24300000\n",
      "Start Time = 16:29:11\n",
      "End Time = 16:29:26\n"
     ]
    },
    {
     "name": "stderr",
     "output_type": "stream",
     "text": [
      "/tmp/ipykernel_364/3853139118.py:94: ParserWarning: Both a converter and dtype were specified for column SMILES - only the converter will be used.\n",
      "  for i,df in enumerate(activity_reader):\n",
      "/tmp/ipykernel_364/3853139118.py:94: ParserWarning: Both a converter and dtype were specified for column pchembl_value - only the converter will be used.\n",
      "  for i,df in enumerate(activity_reader):\n"
     ]
    },
    {
     "name": "stdout",
     "output_type": "stream",
     "text": [
      "24350000\n",
      "Start Time = 16:29:40\n",
      "End Time = 16:29:58\n"
     ]
    },
    {
     "name": "stderr",
     "output_type": "stream",
     "text": [
      "/tmp/ipykernel_364/3853139118.py:94: ParserWarning: Both a converter and dtype were specified for column SMILES - only the converter will be used.\n",
      "  for i,df in enumerate(activity_reader):\n",
      "/tmp/ipykernel_364/3853139118.py:94: ParserWarning: Both a converter and dtype were specified for column pchembl_value - only the converter will be used.\n",
      "  for i,df in enumerate(activity_reader):\n"
     ]
    },
    {
     "name": "stdout",
     "output_type": "stream",
     "text": [
      "24400000\n",
      "Start Time = 16:30:13\n",
      "End Time = 16:30:30\n"
     ]
    },
    {
     "name": "stderr",
     "output_type": "stream",
     "text": [
      "/tmp/ipykernel_364/3853139118.py:94: ParserWarning: Both a converter and dtype were specified for column SMILES - only the converter will be used.\n",
      "  for i,df in enumerate(activity_reader):\n",
      "/tmp/ipykernel_364/3853139118.py:94: ParserWarning: Both a converter and dtype were specified for column pchembl_value - only the converter will be used.\n",
      "  for i,df in enumerate(activity_reader):\n"
     ]
    },
    {
     "name": "stdout",
     "output_type": "stream",
     "text": [
      "24450000\n",
      "Start Time = 16:30:44\n",
      "End Time = 16:30:59\n"
     ]
    },
    {
     "name": "stderr",
     "output_type": "stream",
     "text": [
      "/tmp/ipykernel_364/3853139118.py:94: ParserWarning: Both a converter and dtype were specified for column SMILES - only the converter will be used.\n",
      "  for i,df in enumerate(activity_reader):\n",
      "/tmp/ipykernel_364/3853139118.py:94: ParserWarning: Both a converter and dtype were specified for column pchembl_value - only the converter will be used.\n",
      "  for i,df in enumerate(activity_reader):\n"
     ]
    },
    {
     "name": "stdout",
     "output_type": "stream",
     "text": [
      "24500000\n",
      "Start Time = 16:31:14\n",
      "End Time = 16:31:30\n"
     ]
    },
    {
     "name": "stderr",
     "output_type": "stream",
     "text": [
      "/tmp/ipykernel_364/3853139118.py:94: ParserWarning: Both a converter and dtype were specified for column SMILES - only the converter will be used.\n",
      "  for i,df in enumerate(activity_reader):\n",
      "/tmp/ipykernel_364/3853139118.py:94: ParserWarning: Both a converter and dtype were specified for column pchembl_value - only the converter will be used.\n",
      "  for i,df in enumerate(activity_reader):\n"
     ]
    },
    {
     "name": "stdout",
     "output_type": "stream",
     "text": [
      "24550000\n",
      "Start Time = 16:31:45\n",
      "End Time = 16:32:01\n"
     ]
    },
    {
     "name": "stderr",
     "output_type": "stream",
     "text": [
      "/tmp/ipykernel_364/3853139118.py:94: ParserWarning: Both a converter and dtype were specified for column SMILES - only the converter will be used.\n",
      "  for i,df in enumerate(activity_reader):\n",
      "/tmp/ipykernel_364/3853139118.py:94: ParserWarning: Both a converter and dtype were specified for column pchembl_value - only the converter will be used.\n",
      "  for i,df in enumerate(activity_reader):\n"
     ]
    },
    {
     "name": "stdout",
     "output_type": "stream",
     "text": [
      "24600000\n",
      "Start Time = 16:32:15\n",
      "End Time = 16:32:30\n"
     ]
    },
    {
     "name": "stderr",
     "output_type": "stream",
     "text": [
      "/tmp/ipykernel_364/3853139118.py:94: ParserWarning: Both a converter and dtype were specified for column SMILES - only the converter will be used.\n",
      "  for i,df in enumerate(activity_reader):\n",
      "/tmp/ipykernel_364/3853139118.py:94: ParserWarning: Both a converter and dtype were specified for column pchembl_value - only the converter will be used.\n",
      "  for i,df in enumerate(activity_reader):\n"
     ]
    },
    {
     "name": "stdout",
     "output_type": "stream",
     "text": [
      "24650000\n",
      "Start Time = 16:32:45\n",
      "End Time = 16:33:02\n"
     ]
    },
    {
     "name": "stderr",
     "output_type": "stream",
     "text": [
      "/tmp/ipykernel_364/3853139118.py:94: ParserWarning: Both a converter and dtype were specified for column SMILES - only the converter will be used.\n",
      "  for i,df in enumerate(activity_reader):\n",
      "/tmp/ipykernel_364/3853139118.py:94: ParserWarning: Both a converter and dtype were specified for column pchembl_value - only the converter will be used.\n",
      "  for i,df in enumerate(activity_reader):\n"
     ]
    },
    {
     "name": "stdout",
     "output_type": "stream",
     "text": [
      "24700000\n",
      "Start Time = 16:33:15\n",
      "End Time = 16:33:32\n"
     ]
    },
    {
     "name": "stderr",
     "output_type": "stream",
     "text": [
      "/tmp/ipykernel_364/3853139118.py:94: ParserWarning: Both a converter and dtype were specified for column SMILES - only the converter will be used.\n",
      "  for i,df in enumerate(activity_reader):\n",
      "/tmp/ipykernel_364/3853139118.py:94: ParserWarning: Both a converter and dtype were specified for column pchembl_value - only the converter will be used.\n",
      "  for i,df in enumerate(activity_reader):\n"
     ]
    },
    {
     "name": "stdout",
     "output_type": "stream",
     "text": [
      "24750000\n",
      "Start Time = 16:33:46\n",
      "End Time = 16:34:02\n"
     ]
    },
    {
     "name": "stderr",
     "output_type": "stream",
     "text": [
      "/tmp/ipykernel_364/3853139118.py:94: ParserWarning: Both a converter and dtype were specified for column SMILES - only the converter will be used.\n",
      "  for i,df in enumerate(activity_reader):\n",
      "/tmp/ipykernel_364/3853139118.py:94: ParserWarning: Both a converter and dtype were specified for column pchembl_value - only the converter will be used.\n",
      "  for i,df in enumerate(activity_reader):\n"
     ]
    },
    {
     "name": "stdout",
     "output_type": "stream",
     "text": [
      "24800000\n",
      "Start Time = 16:34:16\n",
      "End Time = 16:34:32\n"
     ]
    },
    {
     "name": "stderr",
     "output_type": "stream",
     "text": [
      "/tmp/ipykernel_364/3853139118.py:94: ParserWarning: Both a converter and dtype were specified for column SMILES - only the converter will be used.\n",
      "  for i,df in enumerate(activity_reader):\n",
      "/tmp/ipykernel_364/3853139118.py:94: ParserWarning: Both a converter and dtype were specified for column pchembl_value - only the converter will be used.\n",
      "  for i,df in enumerate(activity_reader):\n"
     ]
    },
    {
     "name": "stdout",
     "output_type": "stream",
     "text": [
      "24850000\n",
      "Start Time = 16:34:47\n",
      "End Time = 16:35:04\n"
     ]
    },
    {
     "name": "stderr",
     "output_type": "stream",
     "text": [
      "/tmp/ipykernel_364/3853139118.py:94: ParserWarning: Both a converter and dtype were specified for column SMILES - only the converter will be used.\n",
      "  for i,df in enumerate(activity_reader):\n",
      "/tmp/ipykernel_364/3853139118.py:94: ParserWarning: Both a converter and dtype were specified for column pchembl_value - only the converter will be used.\n",
      "  for i,df in enumerate(activity_reader):\n"
     ]
    },
    {
     "name": "stdout",
     "output_type": "stream",
     "text": [
      "24900000\n",
      "Start Time = 16:35:18\n",
      "End Time = 16:35:34\n"
     ]
    },
    {
     "name": "stderr",
     "output_type": "stream",
     "text": [
      "/tmp/ipykernel_364/3853139118.py:94: ParserWarning: Both a converter and dtype were specified for column SMILES - only the converter will be used.\n",
      "  for i,df in enumerate(activity_reader):\n",
      "/tmp/ipykernel_364/3853139118.py:94: ParserWarning: Both a converter and dtype were specified for column pchembl_value - only the converter will be used.\n",
      "  for i,df in enumerate(activity_reader):\n"
     ]
    },
    {
     "name": "stdout",
     "output_type": "stream",
     "text": [
      "24950000\n",
      "Start Time = 16:35:48\n",
      "End Time = 16:36:05\n"
     ]
    },
    {
     "name": "stderr",
     "output_type": "stream",
     "text": [
      "/tmp/ipykernel_364/3853139118.py:94: ParserWarning: Both a converter and dtype were specified for column SMILES - only the converter will be used.\n",
      "  for i,df in enumerate(activity_reader):\n",
      "/tmp/ipykernel_364/3853139118.py:94: ParserWarning: Both a converter and dtype were specified for column pchembl_value - only the converter will be used.\n",
      "  for i,df in enumerate(activity_reader):\n"
     ]
    },
    {
     "name": "stdout",
     "output_type": "stream",
     "text": [
      "25000000\n",
      "Start Time = 16:36:19\n",
      "End Time = 16:36:35\n"
     ]
    },
    {
     "name": "stderr",
     "output_type": "stream",
     "text": [
      "/tmp/ipykernel_364/3853139118.py:94: ParserWarning: Both a converter and dtype were specified for column SMILES - only the converter will be used.\n",
      "  for i,df in enumerate(activity_reader):\n",
      "/tmp/ipykernel_364/3853139118.py:94: ParserWarning: Both a converter and dtype were specified for column pchembl_value - only the converter will be used.\n",
      "  for i,df in enumerate(activity_reader):\n"
     ]
    },
    {
     "name": "stdout",
     "output_type": "stream",
     "text": [
      "25050000\n",
      "Start Time = 16:36:49\n",
      "End Time = 16:37:04\n"
     ]
    },
    {
     "name": "stderr",
     "output_type": "stream",
     "text": [
      "/tmp/ipykernel_364/3853139118.py:94: ParserWarning: Both a converter and dtype were specified for column SMILES - only the converter will be used.\n",
      "  for i,df in enumerate(activity_reader):\n",
      "/tmp/ipykernel_364/3853139118.py:94: ParserWarning: Both a converter and dtype were specified for column pchembl_value - only the converter will be used.\n",
      "  for i,df in enumerate(activity_reader):\n"
     ]
    },
    {
     "name": "stdout",
     "output_type": "stream",
     "text": [
      "25100000\n",
      "Start Time = 16:37:18\n",
      "End Time = 16:37:35\n"
     ]
    },
    {
     "name": "stderr",
     "output_type": "stream",
     "text": [
      "/tmp/ipykernel_364/3853139118.py:94: ParserWarning: Both a converter and dtype were specified for column SMILES - only the converter will be used.\n",
      "  for i,df in enumerate(activity_reader):\n",
      "/tmp/ipykernel_364/3853139118.py:94: ParserWarning: Both a converter and dtype were specified for column pchembl_value - only the converter will be used.\n",
      "  for i,df in enumerate(activity_reader):\n"
     ]
    },
    {
     "name": "stdout",
     "output_type": "stream",
     "text": [
      "25150000\n",
      "Start Time = 16:37:49\n",
      "End Time = 16:38:06\n"
     ]
    },
    {
     "name": "stderr",
     "output_type": "stream",
     "text": [
      "/tmp/ipykernel_364/3853139118.py:94: ParserWarning: Both a converter and dtype were specified for column SMILES - only the converter will be used.\n",
      "  for i,df in enumerate(activity_reader):\n",
      "/tmp/ipykernel_364/3853139118.py:94: ParserWarning: Both a converter and dtype were specified for column pchembl_value - only the converter will be used.\n",
      "  for i,df in enumerate(activity_reader):\n"
     ]
    },
    {
     "name": "stdout",
     "output_type": "stream",
     "text": [
      "25200000\n",
      "Start Time = 16:38:20\n",
      "End Time = 16:38:35\n"
     ]
    },
    {
     "name": "stderr",
     "output_type": "stream",
     "text": [
      "/tmp/ipykernel_364/3853139118.py:94: ParserWarning: Both a converter and dtype were specified for column SMILES - only the converter will be used.\n",
      "  for i,df in enumerate(activity_reader):\n",
      "/tmp/ipykernel_364/3853139118.py:94: ParserWarning: Both a converter and dtype were specified for column pchembl_value - only the converter will be used.\n",
      "  for i,df in enumerate(activity_reader):\n"
     ]
    },
    {
     "name": "stdout",
     "output_type": "stream",
     "text": [
      "25250000\n",
      "Start Time = 16:38:50\n",
      "End Time = 16:39:06\n"
     ]
    },
    {
     "name": "stderr",
     "output_type": "stream",
     "text": [
      "/tmp/ipykernel_364/3853139118.py:94: ParserWarning: Both a converter and dtype were specified for column SMILES - only the converter will be used.\n",
      "  for i,df in enumerate(activity_reader):\n",
      "/tmp/ipykernel_364/3853139118.py:94: ParserWarning: Both a converter and dtype were specified for column pchembl_value - only the converter will be used.\n",
      "  for i,df in enumerate(activity_reader):\n"
     ]
    },
    {
     "name": "stdout",
     "output_type": "stream",
     "text": [
      "25300000\n",
      "Start Time = 16:39:20\n",
      "End Time = 16:39:37\n"
     ]
    },
    {
     "name": "stderr",
     "output_type": "stream",
     "text": [
      "/tmp/ipykernel_364/3853139118.py:94: ParserWarning: Both a converter and dtype were specified for column SMILES - only the converter will be used.\n",
      "  for i,df in enumerate(activity_reader):\n",
      "/tmp/ipykernel_364/3853139118.py:94: ParserWarning: Both a converter and dtype were specified for column pchembl_value - only the converter will be used.\n",
      "  for i,df in enumerate(activity_reader):\n"
     ]
    },
    {
     "name": "stdout",
     "output_type": "stream",
     "text": [
      "25350000\n",
      "Start Time = 16:39:52\n",
      "End Time = 16:40:06\n"
     ]
    },
    {
     "name": "stderr",
     "output_type": "stream",
     "text": [
      "/tmp/ipykernel_364/3853139118.py:94: ParserWarning: Both a converter and dtype were specified for column SMILES - only the converter will be used.\n",
      "  for i,df in enumerate(activity_reader):\n",
      "/tmp/ipykernel_364/3853139118.py:94: ParserWarning: Both a converter and dtype were specified for column pchembl_value - only the converter will be used.\n",
      "  for i,df in enumerate(activity_reader):\n"
     ]
    },
    {
     "name": "stdout",
     "output_type": "stream",
     "text": [
      "25400000\n",
      "Start Time = 16:40:21\n",
      "End Time = 16:40:39\n"
     ]
    },
    {
     "name": "stderr",
     "output_type": "stream",
     "text": [
      "/tmp/ipykernel_364/3853139118.py:94: ParserWarning: Both a converter and dtype were specified for column SMILES - only the converter will be used.\n",
      "  for i,df in enumerate(activity_reader):\n",
      "/tmp/ipykernel_364/3853139118.py:94: ParserWarning: Both a converter and dtype were specified for column pchembl_value - only the converter will be used.\n",
      "  for i,df in enumerate(activity_reader):\n"
     ]
    },
    {
     "name": "stdout",
     "output_type": "stream",
     "text": [
      "25450000\n",
      "Start Time = 16:40:53\n",
      "End Time = 16:41:11\n"
     ]
    },
    {
     "name": "stderr",
     "output_type": "stream",
     "text": [
      "/tmp/ipykernel_364/3853139118.py:94: ParserWarning: Both a converter and dtype were specified for column SMILES - only the converter will be used.\n",
      "  for i,df in enumerate(activity_reader):\n",
      "/tmp/ipykernel_364/3853139118.py:94: ParserWarning: Both a converter and dtype were specified for column pchembl_value - only the converter will be used.\n",
      "  for i,df in enumerate(activity_reader):\n"
     ]
    },
    {
     "name": "stdout",
     "output_type": "stream",
     "text": [
      "25500000\n",
      "Start Time = 16:41:25\n",
      "End Time = 16:41:39\n"
     ]
    },
    {
     "name": "stderr",
     "output_type": "stream",
     "text": [
      "/tmp/ipykernel_364/3853139118.py:94: ParserWarning: Both a converter and dtype were specified for column SMILES - only the converter will be used.\n",
      "  for i,df in enumerate(activity_reader):\n",
      "/tmp/ipykernel_364/3853139118.py:94: ParserWarning: Both a converter and dtype were specified for column pchembl_value - only the converter will be used.\n",
      "  for i,df in enumerate(activity_reader):\n"
     ]
    },
    {
     "name": "stdout",
     "output_type": "stream",
     "text": [
      "25550000\n",
      "Start Time = 16:41:54\n",
      "End Time = 16:42:10\n"
     ]
    },
    {
     "name": "stderr",
     "output_type": "stream",
     "text": [
      "/tmp/ipykernel_364/3853139118.py:94: ParserWarning: Both a converter and dtype were specified for column SMILES - only the converter will be used.\n",
      "  for i,df in enumerate(activity_reader):\n",
      "/tmp/ipykernel_364/3853139118.py:94: ParserWarning: Both a converter and dtype were specified for column pchembl_value - only the converter will be used.\n",
      "  for i,df in enumerate(activity_reader):\n"
     ]
    },
    {
     "name": "stdout",
     "output_type": "stream",
     "text": [
      "25600000\n",
      "Start Time = 16:42:24\n",
      "End Time = 16:42:41\n"
     ]
    },
    {
     "name": "stderr",
     "output_type": "stream",
     "text": [
      "/tmp/ipykernel_364/3853139118.py:94: ParserWarning: Both a converter and dtype were specified for column SMILES - only the converter will be used.\n",
      "  for i,df in enumerate(activity_reader):\n",
      "/tmp/ipykernel_364/3853139118.py:94: ParserWarning: Both a converter and dtype were specified for column pchembl_value - only the converter will be used.\n",
      "  for i,df in enumerate(activity_reader):\n"
     ]
    },
    {
     "name": "stdout",
     "output_type": "stream",
     "text": [
      "25650000\n",
      "Start Time = 16:42:54\n",
      "End Time = 16:43:09\n"
     ]
    },
    {
     "name": "stderr",
     "output_type": "stream",
     "text": [
      "/tmp/ipykernel_364/3853139118.py:94: ParserWarning: Both a converter and dtype were specified for column SMILES - only the converter will be used.\n",
      "  for i,df in enumerate(activity_reader):\n",
      "/tmp/ipykernel_364/3853139118.py:94: ParserWarning: Both a converter and dtype were specified for column pchembl_value - only the converter will be used.\n",
      "  for i,df in enumerate(activity_reader):\n"
     ]
    },
    {
     "name": "stdout",
     "output_type": "stream",
     "text": [
      "25700000\n",
      "Start Time = 16:43:23\n",
      "End Time = 16:43:40\n"
     ]
    },
    {
     "name": "stderr",
     "output_type": "stream",
     "text": [
      "/tmp/ipykernel_364/3853139118.py:94: ParserWarning: Both a converter and dtype were specified for column SMILES - only the converter will be used.\n",
      "  for i,df in enumerate(activity_reader):\n",
      "/tmp/ipykernel_364/3853139118.py:94: ParserWarning: Both a converter and dtype were specified for column pchembl_value - only the converter will be used.\n",
      "  for i,df in enumerate(activity_reader):\n"
     ]
    },
    {
     "name": "stdout",
     "output_type": "stream",
     "text": [
      "25750000\n",
      "Start Time = 16:43:55\n",
      "End Time = 16:44:11\n"
     ]
    },
    {
     "name": "stderr",
     "output_type": "stream",
     "text": [
      "/tmp/ipykernel_364/3853139118.py:94: ParserWarning: Both a converter and dtype were specified for column SMILES - only the converter will be used.\n",
      "  for i,df in enumerate(activity_reader):\n",
      "/tmp/ipykernel_364/3853139118.py:94: ParserWarning: Both a converter and dtype were specified for column pchembl_value - only the converter will be used.\n",
      "  for i,df in enumerate(activity_reader):\n"
     ]
    },
    {
     "name": "stdout",
     "output_type": "stream",
     "text": [
      "25800000\n",
      "Start Time = 16:44:26\n",
      "End Time = 16:44:41\n"
     ]
    },
    {
     "name": "stderr",
     "output_type": "stream",
     "text": [
      "/tmp/ipykernel_364/3853139118.py:94: ParserWarning: Both a converter and dtype were specified for column SMILES - only the converter will be used.\n",
      "  for i,df in enumerate(activity_reader):\n",
      "/tmp/ipykernel_364/3853139118.py:94: ParserWarning: Both a converter and dtype were specified for column pchembl_value - only the converter will be used.\n",
      "  for i,df in enumerate(activity_reader):\n"
     ]
    },
    {
     "name": "stdout",
     "output_type": "stream",
     "text": [
      "25850000\n",
      "Start Time = 16:44:56\n",
      "End Time = 16:45:12\n"
     ]
    },
    {
     "name": "stderr",
     "output_type": "stream",
     "text": [
      "/tmp/ipykernel_364/3853139118.py:94: ParserWarning: Both a converter and dtype were specified for column SMILES - only the converter will be used.\n",
      "  for i,df in enumerate(activity_reader):\n",
      "/tmp/ipykernel_364/3853139118.py:94: ParserWarning: Both a converter and dtype were specified for column pchembl_value - only the converter will be used.\n",
      "  for i,df in enumerate(activity_reader):\n"
     ]
    },
    {
     "name": "stdout",
     "output_type": "stream",
     "text": [
      "25900000\n",
      "Start Time = 16:45:27\n",
      "End Time = 16:45:43\n"
     ]
    },
    {
     "name": "stderr",
     "output_type": "stream",
     "text": [
      "/tmp/ipykernel_364/3853139118.py:94: ParserWarning: Both a converter and dtype were specified for column SMILES - only the converter will be used.\n",
      "  for i,df in enumerate(activity_reader):\n",
      "/tmp/ipykernel_364/3853139118.py:94: ParserWarning: Both a converter and dtype were specified for column pchembl_value - only the converter will be used.\n",
      "  for i,df in enumerate(activity_reader):\n"
     ]
    },
    {
     "name": "stdout",
     "output_type": "stream",
     "text": [
      "25950000\n",
      "Start Time = 16:45:58\n",
      "End Time = 16:46:12\n"
     ]
    },
    {
     "name": "stderr",
     "output_type": "stream",
     "text": [
      "/tmp/ipykernel_364/3853139118.py:94: ParserWarning: Both a converter and dtype were specified for column SMILES - only the converter will be used.\n",
      "  for i,df in enumerate(activity_reader):\n",
      "/tmp/ipykernel_364/3853139118.py:94: ParserWarning: Both a converter and dtype were specified for column pchembl_value - only the converter will be used.\n",
      "  for i,df in enumerate(activity_reader):\n"
     ]
    },
    {
     "name": "stdout",
     "output_type": "stream",
     "text": [
      "26000000\n",
      "Start Time = 16:46:26\n",
      "End Time = 16:46:43\n"
     ]
    },
    {
     "name": "stderr",
     "output_type": "stream",
     "text": [
      "/tmp/ipykernel_364/3853139118.py:94: ParserWarning: Both a converter and dtype were specified for column SMILES - only the converter will be used.\n",
      "  for i,df in enumerate(activity_reader):\n",
      "/tmp/ipykernel_364/3853139118.py:94: ParserWarning: Both a converter and dtype were specified for column pchembl_value - only the converter will be used.\n",
      "  for i,df in enumerate(activity_reader):\n"
     ]
    },
    {
     "name": "stdout",
     "output_type": "stream",
     "text": [
      "26050000\n",
      "Start Time = 16:46:57\n",
      "End Time = 16:47:14\n"
     ]
    },
    {
     "name": "stderr",
     "output_type": "stream",
     "text": [
      "/tmp/ipykernel_364/3853139118.py:94: ParserWarning: Both a converter and dtype were specified for column SMILES - only the converter will be used.\n",
      "  for i,df in enumerate(activity_reader):\n",
      "/tmp/ipykernel_364/3853139118.py:94: ParserWarning: Both a converter and dtype were specified for column pchembl_value - only the converter will be used.\n",
      "  for i,df in enumerate(activity_reader):\n"
     ]
    },
    {
     "name": "stdout",
     "output_type": "stream",
     "text": [
      "26100000\n",
      "Start Time = 16:47:28\n",
      "End Time = 16:47:43\n"
     ]
    },
    {
     "name": "stderr",
     "output_type": "stream",
     "text": [
      "/tmp/ipykernel_364/3853139118.py:94: ParserWarning: Both a converter and dtype were specified for column SMILES - only the converter will be used.\n",
      "  for i,df in enumerate(activity_reader):\n",
      "/tmp/ipykernel_364/3853139118.py:94: ParserWarning: Both a converter and dtype were specified for column pchembl_value - only the converter will be used.\n",
      "  for i,df in enumerate(activity_reader):\n"
     ]
    },
    {
     "name": "stdout",
     "output_type": "stream",
     "text": [
      "26150000\n",
      "Start Time = 16:47:57\n",
      "End Time = 16:48:13\n"
     ]
    },
    {
     "name": "stderr",
     "output_type": "stream",
     "text": [
      "/tmp/ipykernel_364/3853139118.py:94: ParserWarning: Both a converter and dtype were specified for column SMILES - only the converter will be used.\n",
      "  for i,df in enumerate(activity_reader):\n",
      "/tmp/ipykernel_364/3853139118.py:94: ParserWarning: Both a converter and dtype were specified for column pchembl_value - only the converter will be used.\n",
      "  for i,df in enumerate(activity_reader):\n"
     ]
    },
    {
     "name": "stdout",
     "output_type": "stream",
     "text": [
      "26200000\n",
      "Start Time = 16:48:27\n",
      "End Time = 16:48:44\n"
     ]
    },
    {
     "name": "stderr",
     "output_type": "stream",
     "text": [
      "/tmp/ipykernel_364/3853139118.py:94: ParserWarning: Both a converter and dtype were specified for column SMILES - only the converter will be used.\n",
      "  for i,df in enumerate(activity_reader):\n",
      "/tmp/ipykernel_364/3853139118.py:94: ParserWarning: Both a converter and dtype were specified for column pchembl_value - only the converter will be used.\n",
      "  for i,df in enumerate(activity_reader):\n"
     ]
    },
    {
     "name": "stdout",
     "output_type": "stream",
     "text": [
      "26250000\n",
      "Start Time = 16:48:58\n",
      "End Time = 16:49:13\n"
     ]
    },
    {
     "name": "stderr",
     "output_type": "stream",
     "text": [
      "/tmp/ipykernel_364/3853139118.py:94: ParserWarning: Both a converter and dtype were specified for column SMILES - only the converter will be used.\n",
      "  for i,df in enumerate(activity_reader):\n",
      "/tmp/ipykernel_364/3853139118.py:94: ParserWarning: Both a converter and dtype were specified for column pchembl_value - only the converter will be used.\n",
      "  for i,df in enumerate(activity_reader):\n"
     ]
    },
    {
     "name": "stdout",
     "output_type": "stream",
     "text": [
      "26300000\n",
      "Start Time = 16:49:28\n",
      "End Time = 16:49:44\n"
     ]
    },
    {
     "name": "stderr",
     "output_type": "stream",
     "text": [
      "/tmp/ipykernel_364/3853139118.py:94: ParserWarning: Both a converter and dtype were specified for column SMILES - only the converter will be used.\n",
      "  for i,df in enumerate(activity_reader):\n",
      "/tmp/ipykernel_364/3853139118.py:94: ParserWarning: Both a converter and dtype were specified for column pchembl_value - only the converter will be used.\n",
      "  for i,df in enumerate(activity_reader):\n"
     ]
    },
    {
     "name": "stdout",
     "output_type": "stream",
     "text": [
      "26350000\n",
      "Start Time = 16:49:59\n",
      "End Time = 16:50:16\n"
     ]
    },
    {
     "name": "stderr",
     "output_type": "stream",
     "text": [
      "/tmp/ipykernel_364/3853139118.py:94: ParserWarning: Both a converter and dtype were specified for column SMILES - only the converter will be used.\n",
      "  for i,df in enumerate(activity_reader):\n",
      "/tmp/ipykernel_364/3853139118.py:94: ParserWarning: Both a converter and dtype were specified for column pchembl_value - only the converter will be used.\n",
      "  for i,df in enumerate(activity_reader):\n"
     ]
    },
    {
     "name": "stdout",
     "output_type": "stream",
     "text": [
      "26400000\n",
      "Start Time = 16:50:31\n",
      "End Time = 16:50:45\n"
     ]
    },
    {
     "name": "stderr",
     "output_type": "stream",
     "text": [
      "/tmp/ipykernel_364/3853139118.py:94: ParserWarning: Both a converter and dtype were specified for column SMILES - only the converter will be used.\n",
      "  for i,df in enumerate(activity_reader):\n",
      "/tmp/ipykernel_364/3853139118.py:94: ParserWarning: Both a converter and dtype were specified for column pchembl_value - only the converter will be used.\n",
      "  for i,df in enumerate(activity_reader):\n"
     ]
    },
    {
     "name": "stdout",
     "output_type": "stream",
     "text": [
      "26450000\n",
      "Start Time = 16:51:00\n",
      "End Time = 16:51:16\n"
     ]
    },
    {
     "name": "stderr",
     "output_type": "stream",
     "text": [
      "/tmp/ipykernel_364/3853139118.py:94: ParserWarning: Both a converter and dtype were specified for column SMILES - only the converter will be used.\n",
      "  for i,df in enumerate(activity_reader):\n",
      "/tmp/ipykernel_364/3853139118.py:94: ParserWarning: Both a converter and dtype were specified for column pchembl_value - only the converter will be used.\n",
      "  for i,df in enumerate(activity_reader):\n"
     ]
    },
    {
     "name": "stdout",
     "output_type": "stream",
     "text": [
      "26500000\n",
      "Start Time = 16:51:31\n",
      "End Time = 16:51:48\n"
     ]
    },
    {
     "name": "stderr",
     "output_type": "stream",
     "text": [
      "/tmp/ipykernel_364/3853139118.py:94: ParserWarning: Both a converter and dtype were specified for column SMILES - only the converter will be used.\n",
      "  for i,df in enumerate(activity_reader):\n",
      "/tmp/ipykernel_364/3853139118.py:94: ParserWarning: Both a converter and dtype were specified for column pchembl_value - only the converter will be used.\n",
      "  for i,df in enumerate(activity_reader):\n"
     ]
    },
    {
     "name": "stdout",
     "output_type": "stream",
     "text": [
      "26550000\n",
      "Start Time = 16:52:03\n",
      "End Time = 16:52:18\n"
     ]
    },
    {
     "name": "stderr",
     "output_type": "stream",
     "text": [
      "/tmp/ipykernel_364/3853139118.py:94: ParserWarning: Both a converter and dtype were specified for column SMILES - only the converter will be used.\n",
      "  for i,df in enumerate(activity_reader):\n",
      "/tmp/ipykernel_364/3853139118.py:94: ParserWarning: Both a converter and dtype were specified for column pchembl_value - only the converter will be used.\n",
      "  for i,df in enumerate(activity_reader):\n"
     ]
    },
    {
     "name": "stdout",
     "output_type": "stream",
     "text": [
      "26600000\n",
      "Start Time = 16:52:32\n",
      "End Time = 16:52:49\n"
     ]
    },
    {
     "name": "stderr",
     "output_type": "stream",
     "text": [
      "/tmp/ipykernel_364/3853139118.py:94: ParserWarning: Both a converter and dtype were specified for column SMILES - only the converter will be used.\n",
      "  for i,df in enumerate(activity_reader):\n",
      "/tmp/ipykernel_364/3853139118.py:94: ParserWarning: Both a converter and dtype were specified for column pchembl_value - only the converter will be used.\n",
      "  for i,df in enumerate(activity_reader):\n"
     ]
    },
    {
     "name": "stdout",
     "output_type": "stream",
     "text": [
      "26650000\n",
      "Start Time = 16:53:03\n",
      "End Time = 16:53:20\n"
     ]
    },
    {
     "name": "stderr",
     "output_type": "stream",
     "text": [
      "/tmp/ipykernel_364/3853139118.py:94: ParserWarning: Both a converter and dtype were specified for column SMILES - only the converter will be used.\n",
      "  for i,df in enumerate(activity_reader):\n",
      "/tmp/ipykernel_364/3853139118.py:94: ParserWarning: Both a converter and dtype were specified for column pchembl_value - only the converter will be used.\n",
      "  for i,df in enumerate(activity_reader):\n"
     ]
    },
    {
     "name": "stdout",
     "output_type": "stream",
     "text": [
      "26700000\n",
      "Start Time = 16:53:35\n",
      "End Time = 16:53:50\n"
     ]
    },
    {
     "name": "stderr",
     "output_type": "stream",
     "text": [
      "/tmp/ipykernel_364/3853139118.py:94: ParserWarning: Both a converter and dtype were specified for column SMILES - only the converter will be used.\n",
      "  for i,df in enumerate(activity_reader):\n",
      "/tmp/ipykernel_364/3853139118.py:94: ParserWarning: Both a converter and dtype were specified for column pchembl_value - only the converter will be used.\n",
      "  for i,df in enumerate(activity_reader):\n"
     ]
    },
    {
     "name": "stdout",
     "output_type": "stream",
     "text": [
      "26750000\n",
      "Start Time = 16:54:04\n",
      "End Time = 16:54:22\n"
     ]
    },
    {
     "name": "stderr",
     "output_type": "stream",
     "text": [
      "/tmp/ipykernel_364/3853139118.py:94: ParserWarning: Both a converter and dtype were specified for column SMILES - only the converter will be used.\n",
      "  for i,df in enumerate(activity_reader):\n",
      "/tmp/ipykernel_364/3853139118.py:94: ParserWarning: Both a converter and dtype were specified for column pchembl_value - only the converter will be used.\n",
      "  for i,df in enumerate(activity_reader):\n"
     ]
    },
    {
     "name": "stdout",
     "output_type": "stream",
     "text": [
      "26800000\n",
      "Start Time = 16:54:37\n",
      "End Time = 16:54:55\n"
     ]
    },
    {
     "name": "stderr",
     "output_type": "stream",
     "text": [
      "/tmp/ipykernel_364/3853139118.py:94: ParserWarning: Both a converter and dtype were specified for column SMILES - only the converter will be used.\n",
      "  for i,df in enumerate(activity_reader):\n",
      "/tmp/ipykernel_364/3853139118.py:94: ParserWarning: Both a converter and dtype were specified for column pchembl_value - only the converter will be used.\n",
      "  for i,df in enumerate(activity_reader):\n"
     ]
    },
    {
     "name": "stdout",
     "output_type": "stream",
     "text": [
      "26850000\n",
      "Start Time = 16:55:09\n",
      "End Time = 16:55:24\n"
     ]
    },
    {
     "name": "stderr",
     "output_type": "stream",
     "text": [
      "/tmp/ipykernel_364/3853139118.py:94: ParserWarning: Both a converter and dtype were specified for column SMILES - only the converter will be used.\n",
      "  for i,df in enumerate(activity_reader):\n",
      "/tmp/ipykernel_364/3853139118.py:94: ParserWarning: Both a converter and dtype were specified for column pchembl_value - only the converter will be used.\n",
      "  for i,df in enumerate(activity_reader):\n"
     ]
    },
    {
     "name": "stdout",
     "output_type": "stream",
     "text": [
      "26900000\n",
      "Start Time = 16:55:40\n",
      "End Time = 16:55:57\n"
     ]
    },
    {
     "name": "stderr",
     "output_type": "stream",
     "text": [
      "/tmp/ipykernel_364/3853139118.py:94: ParserWarning: Both a converter and dtype were specified for column SMILES - only the converter will be used.\n",
      "  for i,df in enumerate(activity_reader):\n",
      "/tmp/ipykernel_364/3853139118.py:94: ParserWarning: Both a converter and dtype were specified for column pchembl_value - only the converter will be used.\n",
      "  for i,df in enumerate(activity_reader):\n"
     ]
    },
    {
     "name": "stdout",
     "output_type": "stream",
     "text": [
      "26950000\n",
      "Start Time = 16:56:11\n",
      "End Time = 16:56:27\n"
     ]
    },
    {
     "name": "stderr",
     "output_type": "stream",
     "text": [
      "/tmp/ipykernel_364/3853139118.py:94: ParserWarning: Both a converter and dtype were specified for column SMILES - only the converter will be used.\n",
      "  for i,df in enumerate(activity_reader):\n",
      "/tmp/ipykernel_364/3853139118.py:94: ParserWarning: Both a converter and dtype were specified for column pchembl_value - only the converter will be used.\n",
      "  for i,df in enumerate(activity_reader):\n"
     ]
    },
    {
     "name": "stdout",
     "output_type": "stream",
     "text": [
      "27000000\n",
      "Start Time = 16:56:42\n",
      "End Time = 16:56:56\n"
     ]
    },
    {
     "name": "stderr",
     "output_type": "stream",
     "text": [
      "/tmp/ipykernel_364/3853139118.py:94: ParserWarning: Both a converter and dtype were specified for column SMILES - only the converter will be used.\n",
      "  for i,df in enumerate(activity_reader):\n",
      "/tmp/ipykernel_364/3853139118.py:94: ParserWarning: Both a converter and dtype were specified for column pchembl_value - only the converter will be used.\n",
      "  for i,df in enumerate(activity_reader):\n"
     ]
    },
    {
     "name": "stdout",
     "output_type": "stream",
     "text": [
      "27050000\n",
      "Start Time = 16:57:11\n",
      "End Time = 16:57:27\n"
     ]
    },
    {
     "name": "stderr",
     "output_type": "stream",
     "text": [
      "/tmp/ipykernel_364/3853139118.py:94: ParserWarning: Both a converter and dtype were specified for column SMILES - only the converter will be used.\n",
      "  for i,df in enumerate(activity_reader):\n",
      "/tmp/ipykernel_364/3853139118.py:94: ParserWarning: Both a converter and dtype were specified for column pchembl_value - only the converter will be used.\n",
      "  for i,df in enumerate(activity_reader):\n"
     ]
    },
    {
     "name": "stdout",
     "output_type": "stream",
     "text": [
      "27100000\n",
      "Start Time = 16:57:42\n",
      "End Time = 16:57:58\n"
     ]
    },
    {
     "name": "stderr",
     "output_type": "stream",
     "text": [
      "/tmp/ipykernel_364/3853139118.py:94: ParserWarning: Both a converter and dtype were specified for column SMILES - only the converter will be used.\n",
      "  for i,df in enumerate(activity_reader):\n",
      "/tmp/ipykernel_364/3853139118.py:94: ParserWarning: Both a converter and dtype were specified for column pchembl_value - only the converter will be used.\n",
      "  for i,df in enumerate(activity_reader):\n"
     ]
    },
    {
     "name": "stdout",
     "output_type": "stream",
     "text": [
      "27150000\n",
      "Start Time = 16:58:13\n",
      "End Time = 16:58:28\n"
     ]
    },
    {
     "name": "stderr",
     "output_type": "stream",
     "text": [
      "/tmp/ipykernel_364/3853139118.py:94: ParserWarning: Both a converter and dtype were specified for column SMILES - only the converter will be used.\n",
      "  for i,df in enumerate(activity_reader):\n",
      "/tmp/ipykernel_364/3853139118.py:94: ParserWarning: Both a converter and dtype were specified for column pchembl_value - only the converter will be used.\n",
      "  for i,df in enumerate(activity_reader):\n"
     ]
    },
    {
     "name": "stdout",
     "output_type": "stream",
     "text": [
      "27200000\n",
      "Start Time = 16:58:42\n",
      "End Time = 16:58:59\n"
     ]
    },
    {
     "name": "stderr",
     "output_type": "stream",
     "text": [
      "/tmp/ipykernel_364/3853139118.py:94: ParserWarning: Both a converter and dtype were specified for column SMILES - only the converter will be used.\n",
      "  for i,df in enumerate(activity_reader):\n",
      "/tmp/ipykernel_364/3853139118.py:94: ParserWarning: Both a converter and dtype were specified for column pchembl_value - only the converter will be used.\n",
      "  for i,df in enumerate(activity_reader):\n"
     ]
    },
    {
     "name": "stdout",
     "output_type": "stream",
     "text": [
      "27250000\n",
      "Start Time = 16:59:14\n",
      "End Time = 16:59:31\n"
     ]
    },
    {
     "name": "stderr",
     "output_type": "stream",
     "text": [
      "/tmp/ipykernel_364/3853139118.py:94: ParserWarning: Both a converter and dtype were specified for column SMILES - only the converter will be used.\n",
      "  for i,df in enumerate(activity_reader):\n",
      "/tmp/ipykernel_364/3853139118.py:94: ParserWarning: Both a converter and dtype were specified for column pchembl_value - only the converter will be used.\n",
      "  for i,df in enumerate(activity_reader):\n"
     ]
    },
    {
     "name": "stdout",
     "output_type": "stream",
     "text": [
      "27300000\n",
      "Start Time = 16:59:46\n",
      "End Time = 17:00:02\n"
     ]
    },
    {
     "name": "stderr",
     "output_type": "stream",
     "text": [
      "/tmp/ipykernel_364/3853139118.py:94: ParserWarning: Both a converter and dtype were specified for column SMILES - only the converter will be used.\n",
      "  for i,df in enumerate(activity_reader):\n",
      "/tmp/ipykernel_364/3853139118.py:94: ParserWarning: Both a converter and dtype were specified for column pchembl_value - only the converter will be used.\n",
      "  for i,df in enumerate(activity_reader):\n"
     ]
    },
    {
     "name": "stdout",
     "output_type": "stream",
     "text": [
      "27350000\n",
      "Start Time = 17:00:16\n",
      "End Time = 17:00:33\n"
     ]
    },
    {
     "name": "stderr",
     "output_type": "stream",
     "text": [
      "/tmp/ipykernel_364/3853139118.py:94: ParserWarning: Both a converter and dtype were specified for column SMILES - only the converter will be used.\n",
      "  for i,df in enumerate(activity_reader):\n",
      "/tmp/ipykernel_364/3853139118.py:94: ParserWarning: Both a converter and dtype were specified for column pchembl_value - only the converter will be used.\n",
      "  for i,df in enumerate(activity_reader):\n"
     ]
    },
    {
     "name": "stdout",
     "output_type": "stream",
     "text": [
      "27400000\n",
      "Start Time = 17:00:48\n",
      "End Time = 17:01:03\n"
     ]
    },
    {
     "name": "stderr",
     "output_type": "stream",
     "text": [
      "/tmp/ipykernel_364/3853139118.py:94: ParserWarning: Both a converter and dtype were specified for column SMILES - only the converter will be used.\n",
      "  for i,df in enumerate(activity_reader):\n",
      "/tmp/ipykernel_364/3853139118.py:94: ParserWarning: Both a converter and dtype were specified for column pchembl_value - only the converter will be used.\n",
      "  for i,df in enumerate(activity_reader):\n"
     ]
    },
    {
     "name": "stdout",
     "output_type": "stream",
     "text": [
      "27450000\n",
      "Start Time = 17:01:18\n",
      "End Time = 17:01:33\n"
     ]
    },
    {
     "name": "stderr",
     "output_type": "stream",
     "text": [
      "/tmp/ipykernel_364/3853139118.py:94: ParserWarning: Both a converter and dtype were specified for column SMILES - only the converter will be used.\n",
      "  for i,df in enumerate(activity_reader):\n",
      "/tmp/ipykernel_364/3853139118.py:94: ParserWarning: Both a converter and dtype were specified for column pchembl_value - only the converter will be used.\n",
      "  for i,df in enumerate(activity_reader):\n"
     ]
    },
    {
     "name": "stdout",
     "output_type": "stream",
     "text": [
      "27500000\n",
      "Start Time = 17:01:48\n",
      "End Time = 17:02:05\n"
     ]
    },
    {
     "name": "stderr",
     "output_type": "stream",
     "text": [
      "/tmp/ipykernel_364/3853139118.py:94: ParserWarning: Both a converter and dtype were specified for column SMILES - only the converter will be used.\n",
      "  for i,df in enumerate(activity_reader):\n",
      "/tmp/ipykernel_364/3853139118.py:94: ParserWarning: Both a converter and dtype were specified for column pchembl_value - only the converter will be used.\n",
      "  for i,df in enumerate(activity_reader):\n"
     ]
    },
    {
     "name": "stdout",
     "output_type": "stream",
     "text": [
      "27550000\n",
      "Start Time = 17:02:19\n",
      "End Time = 17:02:35\n"
     ]
    },
    {
     "name": "stderr",
     "output_type": "stream",
     "text": [
      "/tmp/ipykernel_364/3853139118.py:94: ParserWarning: Both a converter and dtype were specified for column SMILES - only the converter will be used.\n",
      "  for i,df in enumerate(activity_reader):\n",
      "/tmp/ipykernel_364/3853139118.py:94: ParserWarning: Both a converter and dtype were specified for column pchembl_value - only the converter will be used.\n",
      "  for i,df in enumerate(activity_reader):\n"
     ]
    },
    {
     "name": "stdout",
     "output_type": "stream",
     "text": [
      "27600000\n",
      "Start Time = 17:02:49\n",
      "End Time = 17:03:04\n"
     ]
    },
    {
     "name": "stderr",
     "output_type": "stream",
     "text": [
      "/tmp/ipykernel_364/3853139118.py:94: ParserWarning: Both a converter and dtype were specified for column SMILES - only the converter will be used.\n",
      "  for i,df in enumerate(activity_reader):\n",
      "/tmp/ipykernel_364/3853139118.py:94: ParserWarning: Both a converter and dtype were specified for column pchembl_value - only the converter will be used.\n",
      "  for i,df in enumerate(activity_reader):\n"
     ]
    },
    {
     "name": "stdout",
     "output_type": "stream",
     "text": [
      "27650000\n",
      "Start Time = 17:03:18\n",
      "End Time = 17:03:34\n"
     ]
    },
    {
     "name": "stderr",
     "output_type": "stream",
     "text": [
      "/tmp/ipykernel_364/3853139118.py:94: ParserWarning: Both a converter and dtype were specified for column SMILES - only the converter will be used.\n",
      "  for i,df in enumerate(activity_reader):\n",
      "/tmp/ipykernel_364/3853139118.py:94: ParserWarning: Both a converter and dtype were specified for column pchembl_value - only the converter will be used.\n",
      "  for i,df in enumerate(activity_reader):\n"
     ]
    },
    {
     "name": "stdout",
     "output_type": "stream",
     "text": [
      "27700000\n",
      "Start Time = 17:03:49\n",
      "End Time = 17:04:06\n"
     ]
    },
    {
     "name": "stderr",
     "output_type": "stream",
     "text": [
      "/tmp/ipykernel_364/3853139118.py:94: ParserWarning: Both a converter and dtype were specified for column SMILES - only the converter will be used.\n",
      "  for i,df in enumerate(activity_reader):\n",
      "/tmp/ipykernel_364/3853139118.py:94: ParserWarning: Both a converter and dtype were specified for column pchembl_value - only the converter will be used.\n",
      "  for i,df in enumerate(activity_reader):\n"
     ]
    },
    {
     "name": "stdout",
     "output_type": "stream",
     "text": [
      "27750000\n",
      "Start Time = 17:04:21\n",
      "End Time = 17:04:36\n"
     ]
    },
    {
     "name": "stderr",
     "output_type": "stream",
     "text": [
      "/tmp/ipykernel_364/3853139118.py:94: ParserWarning: Both a converter and dtype were specified for column SMILES - only the converter will be used.\n",
      "  for i,df in enumerate(activity_reader):\n",
      "/tmp/ipykernel_364/3853139118.py:94: ParserWarning: Both a converter and dtype were specified for column pchembl_value - only the converter will be used.\n",
      "  for i,df in enumerate(activity_reader):\n"
     ]
    },
    {
     "name": "stdout",
     "output_type": "stream",
     "text": [
      "27800000\n",
      "Start Time = 17:04:51\n",
      "End Time = 17:05:08\n"
     ]
    },
    {
     "name": "stderr",
     "output_type": "stream",
     "text": [
      "/tmp/ipykernel_364/3853139118.py:94: ParserWarning: Both a converter and dtype were specified for column SMILES - only the converter will be used.\n",
      "  for i,df in enumerate(activity_reader):\n",
      "/tmp/ipykernel_364/3853139118.py:94: ParserWarning: Both a converter and dtype were specified for column pchembl_value - only the converter will be used.\n",
      "  for i,df in enumerate(activity_reader):\n"
     ]
    },
    {
     "name": "stdout",
     "output_type": "stream",
     "text": [
      "27850000\n",
      "Start Time = 17:05:23\n",
      "End Time = 17:05:41\n"
     ]
    },
    {
     "name": "stderr",
     "output_type": "stream",
     "text": [
      "/tmp/ipykernel_364/3853139118.py:94: ParserWarning: Both a converter and dtype were specified for column SMILES - only the converter will be used.\n",
      "  for i,df in enumerate(activity_reader):\n",
      "/tmp/ipykernel_364/3853139118.py:94: ParserWarning: Both a converter and dtype were specified for column pchembl_value - only the converter will be used.\n",
      "  for i,df in enumerate(activity_reader):\n"
     ]
    },
    {
     "name": "stdout",
     "output_type": "stream",
     "text": [
      "27900000\n",
      "Start Time = 17:05:56\n",
      "End Time = 17:06:15\n"
     ]
    },
    {
     "name": "stderr",
     "output_type": "stream",
     "text": [
      "/tmp/ipykernel_364/3853139118.py:94: ParserWarning: Both a converter and dtype were specified for column SMILES - only the converter will be used.\n",
      "  for i,df in enumerate(activity_reader):\n",
      "/tmp/ipykernel_364/3853139118.py:94: ParserWarning: Both a converter and dtype were specified for column pchembl_value - only the converter will be used.\n",
      "  for i,df in enumerate(activity_reader):\n"
     ]
    },
    {
     "name": "stdout",
     "output_type": "stream",
     "text": [
      "27950000\n",
      "Start Time = 17:06:30\n",
      "End Time = 17:06:46\n"
     ]
    },
    {
     "name": "stderr",
     "output_type": "stream",
     "text": [
      "/tmp/ipykernel_364/3853139118.py:94: ParserWarning: Both a converter and dtype were specified for column SMILES - only the converter will be used.\n",
      "  for i,df in enumerate(activity_reader):\n",
      "/tmp/ipykernel_364/3853139118.py:94: ParserWarning: Both a converter and dtype were specified for column pchembl_value - only the converter will be used.\n",
      "  for i,df in enumerate(activity_reader):\n"
     ]
    },
    {
     "name": "stdout",
     "output_type": "stream",
     "text": [
      "28000000\n",
      "Start Time = 17:07:01\n",
      "End Time = 17:07:18\n"
     ]
    },
    {
     "name": "stderr",
     "output_type": "stream",
     "text": [
      "/tmp/ipykernel_364/3853139118.py:94: ParserWarning: Both a converter and dtype were specified for column SMILES - only the converter will be used.\n",
      "  for i,df in enumerate(activity_reader):\n",
      "/tmp/ipykernel_364/3853139118.py:94: ParserWarning: Both a converter and dtype were specified for column pchembl_value - only the converter will be used.\n",
      "  for i,df in enumerate(activity_reader):\n"
     ]
    },
    {
     "name": "stdout",
     "output_type": "stream",
     "text": [
      "28050000\n",
      "Start Time = 17:07:32\n",
      "End Time = 17:07:47\n"
     ]
    },
    {
     "name": "stderr",
     "output_type": "stream",
     "text": [
      "/tmp/ipykernel_364/3853139118.py:94: ParserWarning: Both a converter and dtype were specified for column SMILES - only the converter will be used.\n",
      "  for i,df in enumerate(activity_reader):\n",
      "/tmp/ipykernel_364/3853139118.py:94: ParserWarning: Both a converter and dtype were specified for column pchembl_value - only the converter will be used.\n",
      "  for i,df in enumerate(activity_reader):\n"
     ]
    },
    {
     "name": "stdout",
     "output_type": "stream",
     "text": [
      "28100000\n",
      "Start Time = 17:08:01\n",
      "End Time = 17:08:17\n"
     ]
    },
    {
     "name": "stderr",
     "output_type": "stream",
     "text": [
      "/tmp/ipykernel_364/3853139118.py:94: ParserWarning: Both a converter and dtype were specified for column SMILES - only the converter will be used.\n",
      "  for i,df in enumerate(activity_reader):\n",
      "/tmp/ipykernel_364/3853139118.py:94: ParserWarning: Both a converter and dtype were specified for column pchembl_value - only the converter will be used.\n",
      "  for i,df in enumerate(activity_reader):\n"
     ]
    },
    {
     "name": "stdout",
     "output_type": "stream",
     "text": [
      "28150000\n",
      "Start Time = 17:08:31\n",
      "End Time = 17:08:47\n"
     ]
    },
    {
     "name": "stderr",
     "output_type": "stream",
     "text": [
      "/tmp/ipykernel_364/3853139118.py:94: ParserWarning: Both a converter and dtype were specified for column SMILES - only the converter will be used.\n",
      "  for i,df in enumerate(activity_reader):\n",
      "/tmp/ipykernel_364/3853139118.py:94: ParserWarning: Both a converter and dtype were specified for column pchembl_value - only the converter will be used.\n",
      "  for i,df in enumerate(activity_reader):\n"
     ]
    },
    {
     "name": "stdout",
     "output_type": "stream",
     "text": [
      "28200000\n",
      "Start Time = 17:09:01\n",
      "End Time = 17:09:16\n"
     ]
    },
    {
     "name": "stderr",
     "output_type": "stream",
     "text": [
      "/tmp/ipykernel_364/3853139118.py:94: ParserWarning: Both a converter and dtype were specified for column SMILES - only the converter will be used.\n",
      "  for i,df in enumerate(activity_reader):\n",
      "/tmp/ipykernel_364/3853139118.py:94: ParserWarning: Both a converter and dtype were specified for column pchembl_value - only the converter will be used.\n",
      "  for i,df in enumerate(activity_reader):\n"
     ]
    },
    {
     "name": "stdout",
     "output_type": "stream",
     "text": [
      "28250000\n",
      "Start Time = 17:09:31\n",
      "End Time = 17:09:49\n"
     ]
    },
    {
     "name": "stderr",
     "output_type": "stream",
     "text": [
      "/tmp/ipykernel_364/3853139118.py:94: ParserWarning: Both a converter and dtype were specified for column SMILES - only the converter will be used.\n",
      "  for i,df in enumerate(activity_reader):\n",
      "/tmp/ipykernel_364/3853139118.py:94: ParserWarning: Both a converter and dtype were specified for column pchembl_value - only the converter will be used.\n",
      "  for i,df in enumerate(activity_reader):\n"
     ]
    },
    {
     "name": "stdout",
     "output_type": "stream",
     "text": [
      "28300000\n",
      "Start Time = 17:10:03\n",
      "End Time = 17:10:21\n"
     ]
    },
    {
     "name": "stderr",
     "output_type": "stream",
     "text": [
      "/tmp/ipykernel_364/3853139118.py:94: ParserWarning: Both a converter and dtype were specified for column SMILES - only the converter will be used.\n",
      "  for i,df in enumerate(activity_reader):\n",
      "/tmp/ipykernel_364/3853139118.py:94: ParserWarning: Both a converter and dtype were specified for column pchembl_value - only the converter will be used.\n",
      "  for i,df in enumerate(activity_reader):\n"
     ]
    },
    {
     "name": "stdout",
     "output_type": "stream",
     "text": [
      "28350000\n",
      "Start Time = 17:10:35\n",
      "End Time = 17:10:50\n"
     ]
    },
    {
     "name": "stderr",
     "output_type": "stream",
     "text": [
      "/tmp/ipykernel_364/3853139118.py:94: ParserWarning: Both a converter and dtype were specified for column SMILES - only the converter will be used.\n",
      "  for i,df in enumerate(activity_reader):\n",
      "/tmp/ipykernel_364/3853139118.py:94: ParserWarning: Both a converter and dtype were specified for column pchembl_value - only the converter will be used.\n",
      "  for i,df in enumerate(activity_reader):\n"
     ]
    },
    {
     "name": "stdout",
     "output_type": "stream",
     "text": [
      "28400000\n",
      "Start Time = 17:11:05\n",
      "End Time = 17:11:22\n"
     ]
    },
    {
     "name": "stderr",
     "output_type": "stream",
     "text": [
      "/tmp/ipykernel_364/3853139118.py:94: ParserWarning: Both a converter and dtype were specified for column SMILES - only the converter will be used.\n",
      "  for i,df in enumerate(activity_reader):\n",
      "/tmp/ipykernel_364/3853139118.py:94: ParserWarning: Both a converter and dtype were specified for column pchembl_value - only the converter will be used.\n",
      "  for i,df in enumerate(activity_reader):\n"
     ]
    },
    {
     "name": "stdout",
     "output_type": "stream",
     "text": [
      "28450000\n",
      "Start Time = 17:11:36\n",
      "End Time = 17:11:53\n"
     ]
    },
    {
     "name": "stderr",
     "output_type": "stream",
     "text": [
      "/tmp/ipykernel_364/3853139118.py:94: ParserWarning: Both a converter and dtype were specified for column SMILES - only the converter will be used.\n",
      "  for i,df in enumerate(activity_reader):\n",
      "/tmp/ipykernel_364/3853139118.py:94: ParserWarning: Both a converter and dtype were specified for column pchembl_value - only the converter will be used.\n",
      "  for i,df in enumerate(activity_reader):\n"
     ]
    },
    {
     "name": "stdout",
     "output_type": "stream",
     "text": [
      "28500000\n",
      "Start Time = 17:12:07\n",
      "End Time = 17:12:22\n"
     ]
    },
    {
     "name": "stderr",
     "output_type": "stream",
     "text": [
      "/tmp/ipykernel_364/3853139118.py:94: ParserWarning: Both a converter and dtype were specified for column SMILES - only the converter will be used.\n",
      "  for i,df in enumerate(activity_reader):\n",
      "/tmp/ipykernel_364/3853139118.py:94: ParserWarning: Both a converter and dtype were specified for column pchembl_value - only the converter will be used.\n",
      "  for i,df in enumerate(activity_reader):\n"
     ]
    },
    {
     "name": "stdout",
     "output_type": "stream",
     "text": [
      "28550000\n",
      "Start Time = 17:12:36\n",
      "End Time = 17:12:53\n"
     ]
    },
    {
     "name": "stderr",
     "output_type": "stream",
     "text": [
      "/tmp/ipykernel_364/3853139118.py:94: ParserWarning: Both a converter and dtype were specified for column SMILES - only the converter will be used.\n",
      "  for i,df in enumerate(activity_reader):\n",
      "/tmp/ipykernel_364/3853139118.py:94: ParserWarning: Both a converter and dtype were specified for column pchembl_value - only the converter will be used.\n",
      "  for i,df in enumerate(activity_reader):\n"
     ]
    },
    {
     "name": "stdout",
     "output_type": "stream",
     "text": [
      "28600000\n",
      "Start Time = 17:13:08\n",
      "End Time = 17:13:25\n"
     ]
    },
    {
     "name": "stderr",
     "output_type": "stream",
     "text": [
      "/tmp/ipykernel_364/3853139118.py:94: ParserWarning: Both a converter and dtype were specified for column SMILES - only the converter will be used.\n",
      "  for i,df in enumerate(activity_reader):\n",
      "/tmp/ipykernel_364/3853139118.py:94: ParserWarning: Both a converter and dtype were specified for column pchembl_value - only the converter will be used.\n",
      "  for i,df in enumerate(activity_reader):\n"
     ]
    },
    {
     "name": "stdout",
     "output_type": "stream",
     "text": [
      "28650000\n",
      "Start Time = 17:13:39\n",
      "End Time = 17:13:55\n"
     ]
    },
    {
     "name": "stderr",
     "output_type": "stream",
     "text": [
      "/tmp/ipykernel_364/3853139118.py:94: ParserWarning: Both a converter and dtype were specified for column SMILES - only the converter will be used.\n",
      "  for i,df in enumerate(activity_reader):\n",
      "/tmp/ipykernel_364/3853139118.py:94: ParserWarning: Both a converter and dtype were specified for column pchembl_value - only the converter will be used.\n",
      "  for i,df in enumerate(activity_reader):\n"
     ]
    },
    {
     "name": "stdout",
     "output_type": "stream",
     "text": [
      "28700000\n",
      "Start Time = 17:14:10\n",
      "End Time = 17:14:27\n"
     ]
    },
    {
     "name": "stderr",
     "output_type": "stream",
     "text": [
      "/tmp/ipykernel_364/3853139118.py:94: ParserWarning: Both a converter and dtype were specified for column SMILES - only the converter will be used.\n",
      "  for i,df in enumerate(activity_reader):\n",
      "/tmp/ipykernel_364/3853139118.py:94: ParserWarning: Both a converter and dtype were specified for column pchembl_value - only the converter will be used.\n",
      "  for i,df in enumerate(activity_reader):\n"
     ]
    },
    {
     "name": "stdout",
     "output_type": "stream",
     "text": [
      "28750000\n",
      "Start Time = 17:14:42\n",
      "End Time = 17:14:59\n"
     ]
    },
    {
     "name": "stderr",
     "output_type": "stream",
     "text": [
      "/tmp/ipykernel_364/3853139118.py:94: ParserWarning: Both a converter and dtype were specified for column SMILES - only the converter will be used.\n",
      "  for i,df in enumerate(activity_reader):\n",
      "/tmp/ipykernel_364/3853139118.py:94: ParserWarning: Both a converter and dtype were specified for column pchembl_value - only the converter will be used.\n",
      "  for i,df in enumerate(activity_reader):\n"
     ]
    },
    {
     "name": "stdout",
     "output_type": "stream",
     "text": [
      "28800000\n",
      "Start Time = 17:15:13\n",
      "End Time = 17:15:28\n"
     ]
    },
    {
     "name": "stderr",
     "output_type": "stream",
     "text": [
      "/tmp/ipykernel_364/3853139118.py:94: ParserWarning: Both a converter and dtype were specified for column SMILES - only the converter will be used.\n",
      "  for i,df in enumerate(activity_reader):\n",
      "/tmp/ipykernel_364/3853139118.py:94: ParserWarning: Both a converter and dtype were specified for column pchembl_value - only the converter will be used.\n",
      "  for i,df in enumerate(activity_reader):\n"
     ]
    },
    {
     "name": "stdout",
     "output_type": "stream",
     "text": [
      "28850000\n",
      "Start Time = 17:15:42\n",
      "End Time = 17:15:59\n"
     ]
    },
    {
     "name": "stderr",
     "output_type": "stream",
     "text": [
      "/tmp/ipykernel_364/3853139118.py:94: ParserWarning: Both a converter and dtype were specified for column SMILES - only the converter will be used.\n",
      "  for i,df in enumerate(activity_reader):\n",
      "/tmp/ipykernel_364/3853139118.py:94: ParserWarning: Both a converter and dtype were specified for column pchembl_value - only the converter will be used.\n",
      "  for i,df in enumerate(activity_reader):\n"
     ]
    },
    {
     "name": "stdout",
     "output_type": "stream",
     "text": [
      "28900000\n",
      "Start Time = 17:16:14\n",
      "End Time = 17:16:31\n"
     ]
    },
    {
     "name": "stderr",
     "output_type": "stream",
     "text": [
      "/tmp/ipykernel_364/3853139118.py:94: ParserWarning: Both a converter and dtype were specified for column SMILES - only the converter will be used.\n",
      "  for i,df in enumerate(activity_reader):\n",
      "/tmp/ipykernel_364/3853139118.py:94: ParserWarning: Both a converter and dtype were specified for column pchembl_value - only the converter will be used.\n",
      "  for i,df in enumerate(activity_reader):\n"
     ]
    },
    {
     "name": "stdout",
     "output_type": "stream",
     "text": [
      "28950000\n",
      "Start Time = 17:16:46\n",
      "End Time = 17:17:00\n"
     ]
    },
    {
     "name": "stderr",
     "output_type": "stream",
     "text": [
      "/tmp/ipykernel_364/3853139118.py:94: ParserWarning: Both a converter and dtype were specified for column SMILES - only the converter will be used.\n",
      "  for i,df in enumerate(activity_reader):\n",
      "/tmp/ipykernel_364/3853139118.py:94: ParserWarning: Both a converter and dtype were specified for column pchembl_value - only the converter will be used.\n",
      "  for i,df in enumerate(activity_reader):\n"
     ]
    },
    {
     "name": "stdout",
     "output_type": "stream",
     "text": [
      "29000000\n",
      "Start Time = 17:17:15\n",
      "End Time = 17:17:31\n"
     ]
    },
    {
     "name": "stderr",
     "output_type": "stream",
     "text": [
      "/tmp/ipykernel_364/3853139118.py:94: ParserWarning: Both a converter and dtype were specified for column SMILES - only the converter will be used.\n",
      "  for i,df in enumerate(activity_reader):\n",
      "/tmp/ipykernel_364/3853139118.py:94: ParserWarning: Both a converter and dtype were specified for column pchembl_value - only the converter will be used.\n",
      "  for i,df in enumerate(activity_reader):\n"
     ]
    },
    {
     "name": "stdout",
     "output_type": "stream",
     "text": [
      "29050000\n",
      "Start Time = 17:17:46\n",
      "End Time = 17:18:02\n"
     ]
    },
    {
     "name": "stderr",
     "output_type": "stream",
     "text": [
      "/tmp/ipykernel_364/3853139118.py:94: ParserWarning: Both a converter and dtype were specified for column SMILES - only the converter will be used.\n",
      "  for i,df in enumerate(activity_reader):\n",
      "/tmp/ipykernel_364/3853139118.py:94: ParserWarning: Both a converter and dtype were specified for column pchembl_value - only the converter will be used.\n",
      "  for i,df in enumerate(activity_reader):\n"
     ]
    },
    {
     "name": "stdout",
     "output_type": "stream",
     "text": [
      "29100000\n",
      "Start Time = 17:18:16\n",
      "End Time = 17:18:31\n"
     ]
    },
    {
     "name": "stderr",
     "output_type": "stream",
     "text": [
      "/tmp/ipykernel_364/3853139118.py:94: ParserWarning: Both a converter and dtype were specified for column SMILES - only the converter will be used.\n",
      "  for i,df in enumerate(activity_reader):\n",
      "/tmp/ipykernel_364/3853139118.py:94: ParserWarning: Both a converter and dtype were specified for column pchembl_value - only the converter will be used.\n",
      "  for i,df in enumerate(activity_reader):\n"
     ]
    },
    {
     "name": "stdout",
     "output_type": "stream",
     "text": [
      "29150000\n",
      "Start Time = 17:18:46\n",
      "End Time = 17:19:03\n"
     ]
    },
    {
     "name": "stderr",
     "output_type": "stream",
     "text": [
      "/tmp/ipykernel_364/3853139118.py:94: ParserWarning: Both a converter and dtype were specified for column SMILES - only the converter will be used.\n",
      "  for i,df in enumerate(activity_reader):\n",
      "/tmp/ipykernel_364/3853139118.py:94: ParserWarning: Both a converter and dtype were specified for column pchembl_value - only the converter will be used.\n",
      "  for i,df in enumerate(activity_reader):\n"
     ]
    },
    {
     "name": "stdout",
     "output_type": "stream",
     "text": [
      "29200000\n",
      "Start Time = 17:19:18\n",
      "End Time = 17:19:34\n"
     ]
    },
    {
     "name": "stderr",
     "output_type": "stream",
     "text": [
      "/tmp/ipykernel_364/3853139118.py:94: ParserWarning: Both a converter and dtype were specified for column SMILES - only the converter will be used.\n",
      "  for i,df in enumerate(activity_reader):\n",
      "/tmp/ipykernel_364/3853139118.py:94: ParserWarning: Both a converter and dtype were specified for column pchembl_value - only the converter will be used.\n",
      "  for i,df in enumerate(activity_reader):\n"
     ]
    },
    {
     "name": "stdout",
     "output_type": "stream",
     "text": [
      "29250000\n",
      "Start Time = 17:19:49\n",
      "End Time = 17:20:04\n"
     ]
    },
    {
     "name": "stderr",
     "output_type": "stream",
     "text": [
      "/tmp/ipykernel_364/3853139118.py:94: ParserWarning: Both a converter and dtype were specified for column SMILES - only the converter will be used.\n",
      "  for i,df in enumerate(activity_reader):\n",
      "/tmp/ipykernel_364/3853139118.py:94: ParserWarning: Both a converter and dtype were specified for column pchembl_value - only the converter will be used.\n",
      "  for i,df in enumerate(activity_reader):\n"
     ]
    },
    {
     "name": "stdout",
     "output_type": "stream",
     "text": [
      "29300000\n",
      "Start Time = 17:20:19\n",
      "End Time = 17:20:36\n"
     ]
    },
    {
     "name": "stderr",
     "output_type": "stream",
     "text": [
      "/tmp/ipykernel_364/3853139118.py:94: ParserWarning: Both a converter and dtype were specified for column SMILES - only the converter will be used.\n",
      "  for i,df in enumerate(activity_reader):\n",
      "/tmp/ipykernel_364/3853139118.py:94: ParserWarning: Both a converter and dtype were specified for column pchembl_value - only the converter will be used.\n",
      "  for i,df in enumerate(activity_reader):\n"
     ]
    },
    {
     "name": "stdout",
     "output_type": "stream",
     "text": [
      "29350000\n",
      "Start Time = 17:20:51\n",
      "End Time = 17:21:09\n"
     ]
    },
    {
     "name": "stderr",
     "output_type": "stream",
     "text": [
      "/tmp/ipykernel_364/3853139118.py:94: ParserWarning: Both a converter and dtype were specified for column SMILES - only the converter will be used.\n",
      "  for i,df in enumerate(activity_reader):\n",
      "/tmp/ipykernel_364/3853139118.py:94: ParserWarning: Both a converter and dtype were specified for column pchembl_value - only the converter will be used.\n",
      "  for i,df in enumerate(activity_reader):\n"
     ]
    },
    {
     "name": "stdout",
     "output_type": "stream",
     "text": [
      "29400000\n",
      "Start Time = 17:21:23\n",
      "End Time = 17:21:38\n"
     ]
    },
    {
     "name": "stderr",
     "output_type": "stream",
     "text": [
      "/tmp/ipykernel_364/3853139118.py:94: ParserWarning: Both a converter and dtype were specified for column SMILES - only the converter will be used.\n",
      "  for i,df in enumerate(activity_reader):\n",
      "/tmp/ipykernel_364/3853139118.py:94: ParserWarning: Both a converter and dtype were specified for column pchembl_value - only the converter will be used.\n",
      "  for i,df in enumerate(activity_reader):\n"
     ]
    },
    {
     "name": "stdout",
     "output_type": "stream",
     "text": [
      "29450000\n",
      "Start Time = 17:21:53\n",
      "End Time = 17:22:09\n"
     ]
    },
    {
     "name": "stderr",
     "output_type": "stream",
     "text": [
      "/tmp/ipykernel_364/3853139118.py:94: ParserWarning: Both a converter and dtype were specified for column SMILES - only the converter will be used.\n",
      "  for i,df in enumerate(activity_reader):\n",
      "/tmp/ipykernel_364/3853139118.py:94: ParserWarning: Both a converter and dtype were specified for column pchembl_value - only the converter will be used.\n",
      "  for i,df in enumerate(activity_reader):\n"
     ]
    },
    {
     "name": "stdout",
     "output_type": "stream",
     "text": [
      "29500000\n",
      "Start Time = 17:22:24\n",
      "End Time = 17:22:40\n"
     ]
    },
    {
     "name": "stderr",
     "output_type": "stream",
     "text": [
      "/tmp/ipykernel_364/3853139118.py:94: ParserWarning: Both a converter and dtype were specified for column SMILES - only the converter will be used.\n",
      "  for i,df in enumerate(activity_reader):\n",
      "/tmp/ipykernel_364/3853139118.py:94: ParserWarning: Both a converter and dtype were specified for column pchembl_value - only the converter will be used.\n",
      "  for i,df in enumerate(activity_reader):\n"
     ]
    },
    {
     "name": "stdout",
     "output_type": "stream",
     "text": [
      "29550000\n",
      "Start Time = 17:22:54\n",
      "End Time = 17:23:09\n"
     ]
    },
    {
     "name": "stderr",
     "output_type": "stream",
     "text": [
      "/tmp/ipykernel_364/3853139118.py:94: ParserWarning: Both a converter and dtype were specified for column SMILES - only the converter will be used.\n",
      "  for i,df in enumerate(activity_reader):\n",
      "/tmp/ipykernel_364/3853139118.py:94: ParserWarning: Both a converter and dtype were specified for column pchembl_value - only the converter will be used.\n",
      "  for i,df in enumerate(activity_reader):\n"
     ]
    },
    {
     "name": "stdout",
     "output_type": "stream",
     "text": [
      "29600000\n",
      "Start Time = 17:23:23\n",
      "End Time = 17:23:40\n"
     ]
    },
    {
     "name": "stderr",
     "output_type": "stream",
     "text": [
      "/tmp/ipykernel_364/3853139118.py:94: ParserWarning: Both a converter and dtype were specified for column SMILES - only the converter will be used.\n",
      "  for i,df in enumerate(activity_reader):\n",
      "/tmp/ipykernel_364/3853139118.py:94: ParserWarning: Both a converter and dtype were specified for column pchembl_value - only the converter will be used.\n",
      "  for i,df in enumerate(activity_reader):\n"
     ]
    },
    {
     "name": "stdout",
     "output_type": "stream",
     "text": [
      "29650000\n",
      "Start Time = 17:23:55\n",
      "End Time = 17:24:12\n"
     ]
    },
    {
     "name": "stderr",
     "output_type": "stream",
     "text": [
      "/tmp/ipykernel_364/3853139118.py:94: ParserWarning: Both a converter and dtype were specified for column SMILES - only the converter will be used.\n",
      "  for i,df in enumerate(activity_reader):\n",
      "/tmp/ipykernel_364/3853139118.py:94: ParserWarning: Both a converter and dtype were specified for column pchembl_value - only the converter will be used.\n",
      "  for i,df in enumerate(activity_reader):\n"
     ]
    },
    {
     "name": "stdout",
     "output_type": "stream",
     "text": [
      "29700000\n",
      "Start Time = 17:24:26\n",
      "End Time = 17:24:41\n"
     ]
    },
    {
     "name": "stderr",
     "output_type": "stream",
     "text": [
      "/tmp/ipykernel_364/3853139118.py:94: ParserWarning: Both a converter and dtype were specified for column SMILES - only the converter will be used.\n",
      "  for i,df in enumerate(activity_reader):\n",
      "/tmp/ipykernel_364/3853139118.py:94: ParserWarning: Both a converter and dtype were specified for column pchembl_value - only the converter will be used.\n",
      "  for i,df in enumerate(activity_reader):\n"
     ]
    },
    {
     "name": "stdout",
     "output_type": "stream",
     "text": [
      "29750000\n",
      "Start Time = 17:24:56\n",
      "End Time = 17:25:13\n"
     ]
    },
    {
     "name": "stderr",
     "output_type": "stream",
     "text": [
      "/tmp/ipykernel_364/3853139118.py:94: ParserWarning: Both a converter and dtype were specified for column SMILES - only the converter will be used.\n",
      "  for i,df in enumerate(activity_reader):\n",
      "/tmp/ipykernel_364/3853139118.py:94: ParserWarning: Both a converter and dtype were specified for column pchembl_value - only the converter will be used.\n",
      "  for i,df in enumerate(activity_reader):\n"
     ]
    },
    {
     "name": "stdout",
     "output_type": "stream",
     "text": [
      "29800000\n",
      "Start Time = 17:25:27\n",
      "End Time = 17:25:43\n"
     ]
    },
    {
     "name": "stderr",
     "output_type": "stream",
     "text": [
      "/tmp/ipykernel_364/3853139118.py:94: ParserWarning: Both a converter and dtype were specified for column SMILES - only the converter will be used.\n",
      "  for i,df in enumerate(activity_reader):\n",
      "/tmp/ipykernel_364/3853139118.py:94: ParserWarning: Both a converter and dtype were specified for column pchembl_value - only the converter will be used.\n",
      "  for i,df in enumerate(activity_reader):\n"
     ]
    },
    {
     "name": "stdout",
     "output_type": "stream",
     "text": [
      "29850000\n",
      "Start Time = 17:25:58\n",
      "End Time = 17:26:13\n"
     ]
    },
    {
     "name": "stderr",
     "output_type": "stream",
     "text": [
      "/tmp/ipykernel_364/3853139118.py:94: ParserWarning: Both a converter and dtype were specified for column SMILES - only the converter will be used.\n",
      "  for i,df in enumerate(activity_reader):\n",
      "/tmp/ipykernel_364/3853139118.py:94: ParserWarning: Both a converter and dtype were specified for column pchembl_value - only the converter will be used.\n",
      "  for i,df in enumerate(activity_reader):\n"
     ]
    },
    {
     "name": "stdout",
     "output_type": "stream",
     "text": [
      "29900000\n",
      "Start Time = 17:26:27\n",
      "End Time = 17:26:43\n"
     ]
    },
    {
     "name": "stderr",
     "output_type": "stream",
     "text": [
      "/tmp/ipykernel_364/3853139118.py:94: ParserWarning: Both a converter and dtype were specified for column SMILES - only the converter will be used.\n",
      "  for i,df in enumerate(activity_reader):\n",
      "/tmp/ipykernel_364/3853139118.py:94: ParserWarning: Both a converter and dtype were specified for column pchembl_value - only the converter will be used.\n",
      "  for i,df in enumerate(activity_reader):\n"
     ]
    },
    {
     "name": "stdout",
     "output_type": "stream",
     "text": [
      "29950000\n",
      "Start Time = 17:26:57\n",
      "End Time = 17:27:14\n"
     ]
    },
    {
     "name": "stderr",
     "output_type": "stream",
     "text": [
      "/tmp/ipykernel_364/3853139118.py:94: ParserWarning: Both a converter and dtype were specified for column SMILES - only the converter will be used.\n",
      "  for i,df in enumerate(activity_reader):\n",
      "/tmp/ipykernel_364/3853139118.py:94: ParserWarning: Both a converter and dtype were specified for column pchembl_value - only the converter will be used.\n",
      "  for i,df in enumerate(activity_reader):\n"
     ]
    },
    {
     "name": "stdout",
     "output_type": "stream",
     "text": [
      "30000000\n",
      "Start Time = 17:27:28\n",
      "End Time = 17:27:43\n"
     ]
    },
    {
     "name": "stderr",
     "output_type": "stream",
     "text": [
      "/tmp/ipykernel_364/3853139118.py:94: ParserWarning: Both a converter and dtype were specified for column SMILES - only the converter will be used.\n",
      "  for i,df in enumerate(activity_reader):\n",
      "/tmp/ipykernel_364/3853139118.py:94: ParserWarning: Both a converter and dtype were specified for column pchembl_value - only the converter will be used.\n",
      "  for i,df in enumerate(activity_reader):\n"
     ]
    },
    {
     "name": "stdout",
     "output_type": "stream",
     "text": [
      "30050000\n",
      "Start Time = 17:27:57\n",
      "End Time = 17:28:14\n"
     ]
    },
    {
     "name": "stderr",
     "output_type": "stream",
     "text": [
      "/tmp/ipykernel_364/3853139118.py:94: ParserWarning: Both a converter and dtype were specified for column SMILES - only the converter will be used.\n",
      "  for i,df in enumerate(activity_reader):\n",
      "/tmp/ipykernel_364/3853139118.py:94: ParserWarning: Both a converter and dtype were specified for column pchembl_value - only the converter will be used.\n",
      "  for i,df in enumerate(activity_reader):\n"
     ]
    },
    {
     "name": "stdout",
     "output_type": "stream",
     "text": [
      "30100000\n",
      "Start Time = 17:28:28\n",
      "End Time = 17:28:45\n"
     ]
    },
    {
     "name": "stderr",
     "output_type": "stream",
     "text": [
      "/tmp/ipykernel_364/3853139118.py:94: ParserWarning: Both a converter and dtype were specified for column SMILES - only the converter will be used.\n",
      "  for i,df in enumerate(activity_reader):\n",
      "/tmp/ipykernel_364/3853139118.py:94: ParserWarning: Both a converter and dtype were specified for column pchembl_value - only the converter will be used.\n",
      "  for i,df in enumerate(activity_reader):\n"
     ]
    },
    {
     "name": "stdout",
     "output_type": "stream",
     "text": [
      "30150000\n",
      "Start Time = 17:29:00\n",
      "End Time = 17:29:15\n"
     ]
    },
    {
     "name": "stderr",
     "output_type": "stream",
     "text": [
      "/tmp/ipykernel_364/3853139118.py:94: ParserWarning: Both a converter and dtype were specified for column SMILES - only the converter will be used.\n",
      "  for i,df in enumerate(activity_reader):\n",
      "/tmp/ipykernel_364/3853139118.py:94: ParserWarning: Both a converter and dtype were specified for column pchembl_value - only the converter will be used.\n",
      "  for i,df in enumerate(activity_reader):\n"
     ]
    },
    {
     "name": "stdout",
     "output_type": "stream",
     "text": [
      "30200000\n",
      "Start Time = 17:29:30\n",
      "End Time = 17:29:46\n"
     ]
    },
    {
     "name": "stderr",
     "output_type": "stream",
     "text": [
      "/tmp/ipykernel_364/3853139118.py:94: ParserWarning: Both a converter and dtype were specified for column SMILES - only the converter will be used.\n",
      "  for i,df in enumerate(activity_reader):\n",
      "/tmp/ipykernel_364/3853139118.py:94: ParserWarning: Both a converter and dtype were specified for column pchembl_value - only the converter will be used.\n",
      "  for i,df in enumerate(activity_reader):\n"
     ]
    },
    {
     "name": "stdout",
     "output_type": "stream",
     "text": [
      "30250000\n",
      "Start Time = 17:30:01\n",
      "End Time = 17:30:17\n"
     ]
    },
    {
     "name": "stderr",
     "output_type": "stream",
     "text": [
      "/tmp/ipykernel_364/3853139118.py:94: ParserWarning: Both a converter and dtype were specified for column SMILES - only the converter will be used.\n",
      "  for i,df in enumerate(activity_reader):\n",
      "/tmp/ipykernel_364/3853139118.py:94: ParserWarning: Both a converter and dtype were specified for column pchembl_value - only the converter will be used.\n",
      "  for i,df in enumerate(activity_reader):\n"
     ]
    },
    {
     "name": "stdout",
     "output_type": "stream",
     "text": [
      "30300000\n",
      "Start Time = 17:30:32\n",
      "End Time = 17:30:47\n"
     ]
    },
    {
     "name": "stderr",
     "output_type": "stream",
     "text": [
      "/tmp/ipykernel_364/3853139118.py:94: ParserWarning: Both a converter and dtype were specified for column SMILES - only the converter will be used.\n",
      "  for i,df in enumerate(activity_reader):\n",
      "/tmp/ipykernel_364/3853139118.py:94: ParserWarning: Both a converter and dtype were specified for column pchembl_value - only the converter will be used.\n",
      "  for i,df in enumerate(activity_reader):\n"
     ]
    },
    {
     "name": "stdout",
     "output_type": "stream",
     "text": [
      "30350000\n",
      "Start Time = 17:31:02\n",
      "End Time = 17:31:19\n"
     ]
    },
    {
     "name": "stderr",
     "output_type": "stream",
     "text": [
      "/tmp/ipykernel_364/3853139118.py:94: ParserWarning: Both a converter and dtype were specified for column SMILES - only the converter will be used.\n",
      "  for i,df in enumerate(activity_reader):\n",
      "/tmp/ipykernel_364/3853139118.py:94: ParserWarning: Both a converter and dtype were specified for column pchembl_value - only the converter will be used.\n",
      "  for i,df in enumerate(activity_reader):\n"
     ]
    },
    {
     "name": "stdout",
     "output_type": "stream",
     "text": [
      "30400000\n",
      "Start Time = 17:31:33\n",
      "End Time = 17:31:49\n"
     ]
    },
    {
     "name": "stderr",
     "output_type": "stream",
     "text": [
      "/tmp/ipykernel_364/3853139118.py:94: ParserWarning: Both a converter and dtype were specified for column SMILES - only the converter will be used.\n",
      "  for i,df in enumerate(activity_reader):\n",
      "/tmp/ipykernel_364/3853139118.py:94: ParserWarning: Both a converter and dtype were specified for column pchembl_value - only the converter will be used.\n",
      "  for i,df in enumerate(activity_reader):\n"
     ]
    },
    {
     "name": "stdout",
     "output_type": "stream",
     "text": [
      "30450000\n",
      "Start Time = 17:32:04\n",
      "End Time = 17:32:18\n"
     ]
    },
    {
     "name": "stderr",
     "output_type": "stream",
     "text": [
      "/tmp/ipykernel_364/3853139118.py:94: ParserWarning: Both a converter and dtype were specified for column SMILES - only the converter will be used.\n",
      "  for i,df in enumerate(activity_reader):\n",
      "/tmp/ipykernel_364/3853139118.py:94: ParserWarning: Both a converter and dtype were specified for column pchembl_value - only the converter will be used.\n",
      "  for i,df in enumerate(activity_reader):\n"
     ]
    },
    {
     "name": "stdout",
     "output_type": "stream",
     "text": [
      "30500000\n",
      "Start Time = 17:32:32\n",
      "End Time = 17:32:49\n"
     ]
    },
    {
     "name": "stderr",
     "output_type": "stream",
     "text": [
      "/tmp/ipykernel_364/3853139118.py:94: ParserWarning: Both a converter and dtype were specified for column SMILES - only the converter will be used.\n",
      "  for i,df in enumerate(activity_reader):\n",
      "/tmp/ipykernel_364/3853139118.py:94: ParserWarning: Both a converter and dtype were specified for column pchembl_value - only the converter will be used.\n",
      "  for i,df in enumerate(activity_reader):\n"
     ]
    },
    {
     "name": "stdout",
     "output_type": "stream",
     "text": [
      "30550000\n",
      "Start Time = 17:33:03\n",
      "End Time = 17:33:19\n"
     ]
    },
    {
     "name": "stderr",
     "output_type": "stream",
     "text": [
      "/tmp/ipykernel_364/3853139118.py:94: ParserWarning: Both a converter and dtype were specified for column SMILES - only the converter will be used.\n",
      "  for i,df in enumerate(activity_reader):\n",
      "/tmp/ipykernel_364/3853139118.py:94: ParserWarning: Both a converter and dtype were specified for column pchembl_value - only the converter will be used.\n",
      "  for i,df in enumerate(activity_reader):\n"
     ]
    },
    {
     "name": "stdout",
     "output_type": "stream",
     "text": [
      "30600000\n",
      "Start Time = 17:33:34\n",
      "End Time = 17:33:49\n"
     ]
    },
    {
     "name": "stderr",
     "output_type": "stream",
     "text": [
      "/tmp/ipykernel_364/3853139118.py:94: ParserWarning: Both a converter and dtype were specified for column SMILES - only the converter will be used.\n",
      "  for i,df in enumerate(activity_reader):\n",
      "/tmp/ipykernel_364/3853139118.py:94: ParserWarning: Both a converter and dtype were specified for column pchembl_value - only the converter will be used.\n",
      "  for i,df in enumerate(activity_reader):\n"
     ]
    },
    {
     "name": "stdout",
     "output_type": "stream",
     "text": [
      "30650000\n",
      "Start Time = 17:34:04\n",
      "End Time = 17:34:22\n"
     ]
    },
    {
     "name": "stderr",
     "output_type": "stream",
     "text": [
      "/tmp/ipykernel_364/3853139118.py:94: ParserWarning: Both a converter and dtype were specified for column SMILES - only the converter will be used.\n",
      "  for i,df in enumerate(activity_reader):\n",
      "/tmp/ipykernel_364/3853139118.py:94: ParserWarning: Both a converter and dtype were specified for column pchembl_value - only the converter will be used.\n",
      "  for i,df in enumerate(activity_reader):\n"
     ]
    },
    {
     "name": "stdout",
     "output_type": "stream",
     "text": [
      "30700000\n",
      "Start Time = 17:34:36\n",
      "End Time = 17:34:54\n"
     ]
    },
    {
     "name": "stderr",
     "output_type": "stream",
     "text": [
      "/tmp/ipykernel_364/3853139118.py:94: ParserWarning: Both a converter and dtype were specified for column SMILES - only the converter will be used.\n",
      "  for i,df in enumerate(activity_reader):\n",
      "/tmp/ipykernel_364/3853139118.py:94: ParserWarning: Both a converter and dtype were specified for column pchembl_value - only the converter will be used.\n",
      "  for i,df in enumerate(activity_reader):\n"
     ]
    },
    {
     "name": "stdout",
     "output_type": "stream",
     "text": [
      "30750000\n",
      "Start Time = 17:35:08\n",
      "End Time = 17:35:23\n"
     ]
    },
    {
     "name": "stderr",
     "output_type": "stream",
     "text": [
      "/tmp/ipykernel_364/3853139118.py:94: ParserWarning: Both a converter and dtype were specified for column SMILES - only the converter will be used.\n",
      "  for i,df in enumerate(activity_reader):\n",
      "/tmp/ipykernel_364/3853139118.py:94: ParserWarning: Both a converter and dtype were specified for column pchembl_value - only the converter will be used.\n",
      "  for i,df in enumerate(activity_reader):\n"
     ]
    },
    {
     "name": "stdout",
     "output_type": "stream",
     "text": [
      "30800000\n",
      "Start Time = 17:35:38\n",
      "End Time = 17:35:54\n"
     ]
    },
    {
     "name": "stderr",
     "output_type": "stream",
     "text": [
      "/tmp/ipykernel_364/3853139118.py:94: ParserWarning: Both a converter and dtype were specified for column SMILES - only the converter will be used.\n",
      "  for i,df in enumerate(activity_reader):\n",
      "/tmp/ipykernel_364/3853139118.py:94: ParserWarning: Both a converter and dtype were specified for column pchembl_value - only the converter will be used.\n",
      "  for i,df in enumerate(activity_reader):\n"
     ]
    },
    {
     "name": "stdout",
     "output_type": "stream",
     "text": [
      "30850000\n",
      "Start Time = 17:36:09\n",
      "End Time = 17:36:26\n"
     ]
    },
    {
     "name": "stderr",
     "output_type": "stream",
     "text": [
      "/tmp/ipykernel_364/3853139118.py:94: ParserWarning: Both a converter and dtype were specified for column SMILES - only the converter will be used.\n",
      "  for i,df in enumerate(activity_reader):\n",
      "/tmp/ipykernel_364/3853139118.py:94: ParserWarning: Both a converter and dtype were specified for column pchembl_value - only the converter will be used.\n",
      "  for i,df in enumerate(activity_reader):\n"
     ]
    },
    {
     "name": "stdout",
     "output_type": "stream",
     "text": [
      "30900000\n",
      "Start Time = 17:36:41\n",
      "End Time = 17:36:58\n"
     ]
    },
    {
     "name": "stderr",
     "output_type": "stream",
     "text": [
      "/tmp/ipykernel_364/3853139118.py:94: ParserWarning: Both a converter and dtype were specified for column SMILES - only the converter will be used.\n",
      "  for i,df in enumerate(activity_reader):\n",
      "/tmp/ipykernel_364/3853139118.py:94: ParserWarning: Both a converter and dtype were specified for column pchembl_value - only the converter will be used.\n",
      "  for i,df in enumerate(activity_reader):\n"
     ]
    },
    {
     "name": "stdout",
     "output_type": "stream",
     "text": [
      "30950000\n",
      "Start Time = 17:37:12\n",
      "End Time = 17:37:32\n"
     ]
    },
    {
     "name": "stderr",
     "output_type": "stream",
     "text": [
      "/tmp/ipykernel_364/3853139118.py:94: ParserWarning: Both a converter and dtype were specified for column SMILES - only the converter will be used.\n",
      "  for i,df in enumerate(activity_reader):\n",
      "/tmp/ipykernel_364/3853139118.py:94: ParserWarning: Both a converter and dtype were specified for column pchembl_value - only the converter will be used.\n",
      "  for i,df in enumerate(activity_reader):\n"
     ]
    },
    {
     "name": "stdout",
     "output_type": "stream",
     "text": [
      "31000000\n",
      "Start Time = 17:37:47\n",
      "End Time = 17:38:03\n"
     ]
    },
    {
     "name": "stderr",
     "output_type": "stream",
     "text": [
      "/tmp/ipykernel_364/3853139118.py:94: ParserWarning: Both a converter and dtype were specified for column SMILES - only the converter will be used.\n",
      "  for i,df in enumerate(activity_reader):\n",
      "/tmp/ipykernel_364/3853139118.py:94: ParserWarning: Both a converter and dtype were specified for column pchembl_value - only the converter will be used.\n",
      "  for i,df in enumerate(activity_reader):\n"
     ]
    },
    {
     "name": "stdout",
     "output_type": "stream",
     "text": [
      "31050000\n",
      "Start Time = 17:38:17\n",
      "End Time = 17:38:32\n"
     ]
    },
    {
     "name": "stderr",
     "output_type": "stream",
     "text": [
      "/tmp/ipykernel_364/3853139118.py:94: ParserWarning: Both a converter and dtype were specified for column SMILES - only the converter will be used.\n",
      "  for i,df in enumerate(activity_reader):\n",
      "/tmp/ipykernel_364/3853139118.py:94: ParserWarning: Both a converter and dtype were specified for column pchembl_value - only the converter will be used.\n",
      "  for i,df in enumerate(activity_reader):\n"
     ]
    },
    {
     "name": "stdout",
     "output_type": "stream",
     "text": [
      "31100000\n",
      "Start Time = 17:38:46\n",
      "End Time = 17:39:03\n"
     ]
    },
    {
     "name": "stderr",
     "output_type": "stream",
     "text": [
      "/tmp/ipykernel_364/3853139118.py:94: ParserWarning: Both a converter and dtype were specified for column SMILES - only the converter will be used.\n",
      "  for i,df in enumerate(activity_reader):\n",
      "/tmp/ipykernel_364/3853139118.py:94: ParserWarning: Both a converter and dtype were specified for column pchembl_value - only the converter will be used.\n",
      "  for i,df in enumerate(activity_reader):\n"
     ]
    },
    {
     "name": "stdout",
     "output_type": "stream",
     "text": [
      "31150000\n",
      "Start Time = 17:39:17\n",
      "End Time = 17:39:35\n"
     ]
    },
    {
     "name": "stderr",
     "output_type": "stream",
     "text": [
      "/tmp/ipykernel_364/3853139118.py:94: ParserWarning: Both a converter and dtype were specified for column SMILES - only the converter will be used.\n",
      "  for i,df in enumerate(activity_reader):\n",
      "/tmp/ipykernel_364/3853139118.py:94: ParserWarning: Both a converter and dtype were specified for column pchembl_value - only the converter will be used.\n",
      "  for i,df in enumerate(activity_reader):\n"
     ]
    },
    {
     "name": "stdout",
     "output_type": "stream",
     "text": [
      "31200000\n",
      "Start Time = 17:39:49\n",
      "End Time = 17:40:04\n"
     ]
    },
    {
     "name": "stderr",
     "output_type": "stream",
     "text": [
      "/tmp/ipykernel_364/3853139118.py:94: ParserWarning: Both a converter and dtype were specified for column SMILES - only the converter will be used.\n",
      "  for i,df in enumerate(activity_reader):\n",
      "/tmp/ipykernel_364/3853139118.py:94: ParserWarning: Both a converter and dtype were specified for column pchembl_value - only the converter will be used.\n",
      "  for i,df in enumerate(activity_reader):\n"
     ]
    },
    {
     "name": "stdout",
     "output_type": "stream",
     "text": [
      "31250000\n",
      "Start Time = 17:40:18\n",
      "End Time = 17:40:35\n"
     ]
    },
    {
     "name": "stderr",
     "output_type": "stream",
     "text": [
      "/tmp/ipykernel_364/3853139118.py:94: ParserWarning: Both a converter and dtype were specified for column SMILES - only the converter will be used.\n",
      "  for i,df in enumerate(activity_reader):\n",
      "/tmp/ipykernel_364/3853139118.py:94: ParserWarning: Both a converter and dtype were specified for column pchembl_value - only the converter will be used.\n",
      "  for i,df in enumerate(activity_reader):\n"
     ]
    },
    {
     "name": "stdout",
     "output_type": "stream",
     "text": [
      "31300000\n",
      "Start Time = 17:40:50\n",
      "End Time = 17:41:07\n"
     ]
    },
    {
     "name": "stderr",
     "output_type": "stream",
     "text": [
      "/tmp/ipykernel_364/3853139118.py:94: ParserWarning: Both a converter and dtype were specified for column SMILES - only the converter will be used.\n",
      "  for i,df in enumerate(activity_reader):\n",
      "/tmp/ipykernel_364/3853139118.py:94: ParserWarning: Both a converter and dtype were specified for column pchembl_value - only the converter will be used.\n",
      "  for i,df in enumerate(activity_reader):\n"
     ]
    },
    {
     "name": "stdout",
     "output_type": "stream",
     "text": [
      "31350000\n",
      "Start Time = 17:41:21\n",
      "End Time = 17:41:36\n"
     ]
    },
    {
     "name": "stderr",
     "output_type": "stream",
     "text": [
      "/tmp/ipykernel_364/3853139118.py:94: ParserWarning: Both a converter and dtype were specified for column SMILES - only the converter will be used.\n",
      "  for i,df in enumerate(activity_reader):\n",
      "/tmp/ipykernel_364/3853139118.py:94: ParserWarning: Both a converter and dtype were specified for column pchembl_value - only the converter will be used.\n",
      "  for i,df in enumerate(activity_reader):\n"
     ]
    },
    {
     "name": "stdout",
     "output_type": "stream",
     "text": [
      "31400000\n",
      "Start Time = 17:41:50\n",
      "End Time = 17:42:07\n"
     ]
    },
    {
     "name": "stderr",
     "output_type": "stream",
     "text": [
      "/tmp/ipykernel_364/3853139118.py:94: ParserWarning: Both a converter and dtype were specified for column SMILES - only the converter will be used.\n",
      "  for i,df in enumerate(activity_reader):\n",
      "/tmp/ipykernel_364/3853139118.py:94: ParserWarning: Both a converter and dtype were specified for column pchembl_value - only the converter will be used.\n",
      "  for i,df in enumerate(activity_reader):\n"
     ]
    },
    {
     "name": "stdout",
     "output_type": "stream",
     "text": [
      "31450000\n",
      "Start Time = 17:42:21\n",
      "End Time = 17:42:37\n"
     ]
    },
    {
     "name": "stderr",
     "output_type": "stream",
     "text": [
      "/tmp/ipykernel_364/3853139118.py:94: ParserWarning: Both a converter and dtype were specified for column SMILES - only the converter will be used.\n",
      "  for i,df in enumerate(activity_reader):\n",
      "/tmp/ipykernel_364/3853139118.py:94: ParserWarning: Both a converter and dtype were specified for column pchembl_value - only the converter will be used.\n",
      "  for i,df in enumerate(activity_reader):\n"
     ]
    },
    {
     "name": "stdout",
     "output_type": "stream",
     "text": [
      "31500000\n",
      "Start Time = 17:42:51\n",
      "End Time = 17:43:06\n"
     ]
    },
    {
     "name": "stderr",
     "output_type": "stream",
     "text": [
      "/tmp/ipykernel_364/3853139118.py:94: ParserWarning: Both a converter and dtype were specified for column SMILES - only the converter will be used.\n",
      "  for i,df in enumerate(activity_reader):\n",
      "/tmp/ipykernel_364/3853139118.py:94: ParserWarning: Both a converter and dtype were specified for column pchembl_value - only the converter will be used.\n",
      "  for i,df in enumerate(activity_reader):\n"
     ]
    },
    {
     "name": "stdout",
     "output_type": "stream",
     "text": [
      "31550000\n",
      "Start Time = 17:43:20\n",
      "End Time = 17:43:37\n"
     ]
    },
    {
     "name": "stderr",
     "output_type": "stream",
     "text": [
      "/tmp/ipykernel_364/3853139118.py:94: ParserWarning: Both a converter and dtype were specified for column SMILES - only the converter will be used.\n",
      "  for i,df in enumerate(activity_reader):\n",
      "/tmp/ipykernel_364/3853139118.py:94: ParserWarning: Both a converter and dtype were specified for column pchembl_value - only the converter will be used.\n",
      "  for i,df in enumerate(activity_reader):\n"
     ]
    },
    {
     "name": "stdout",
     "output_type": "stream",
     "text": [
      "31600000\n",
      "Start Time = 17:43:51\n",
      "End Time = 17:44:08\n"
     ]
    },
    {
     "name": "stderr",
     "output_type": "stream",
     "text": [
      "/tmp/ipykernel_364/3853139118.py:94: ParserWarning: Both a converter and dtype were specified for column SMILES - only the converter will be used.\n",
      "  for i,df in enumerate(activity_reader):\n",
      "/tmp/ipykernel_364/3853139118.py:94: ParserWarning: Both a converter and dtype were specified for column pchembl_value - only the converter will be used.\n",
      "  for i,df in enumerate(activity_reader):\n"
     ]
    },
    {
     "name": "stdout",
     "output_type": "stream",
     "text": [
      "31650000\n",
      "Start Time = 17:44:22\n",
      "End Time = 17:44:36\n"
     ]
    },
    {
     "name": "stderr",
     "output_type": "stream",
     "text": [
      "/tmp/ipykernel_364/3853139118.py:94: ParserWarning: Both a converter and dtype were specified for column SMILES - only the converter will be used.\n",
      "  for i,df in enumerate(activity_reader):\n",
      "/tmp/ipykernel_364/3853139118.py:94: ParserWarning: Both a converter and dtype were specified for column pchembl_value - only the converter will be used.\n",
      "  for i,df in enumerate(activity_reader):\n"
     ]
    },
    {
     "name": "stdout",
     "output_type": "stream",
     "text": [
      "31700000\n",
      "Start Time = 17:44:51\n",
      "End Time = 17:45:09\n"
     ]
    },
    {
     "name": "stderr",
     "output_type": "stream",
     "text": [
      "/tmp/ipykernel_364/3853139118.py:94: ParserWarning: Both a converter and dtype were specified for column SMILES - only the converter will be used.\n",
      "  for i,df in enumerate(activity_reader):\n",
      "/tmp/ipykernel_364/3853139118.py:94: ParserWarning: Both a converter and dtype were specified for column pchembl_value - only the converter will be used.\n",
      "  for i,df in enumerate(activity_reader):\n"
     ]
    },
    {
     "name": "stdout",
     "output_type": "stream",
     "text": [
      "31750000\n",
      "Start Time = 17:45:24\n",
      "End Time = 17:45:41\n"
     ]
    },
    {
     "name": "stderr",
     "output_type": "stream",
     "text": [
      "/tmp/ipykernel_364/3853139118.py:94: ParserWarning: Both a converter and dtype were specified for column SMILES - only the converter will be used.\n",
      "  for i,df in enumerate(activity_reader):\n",
      "/tmp/ipykernel_364/3853139118.py:94: ParserWarning: Both a converter and dtype were specified for column pchembl_value - only the converter will be used.\n",
      "  for i,df in enumerate(activity_reader):\n"
     ]
    },
    {
     "name": "stdout",
     "output_type": "stream",
     "text": [
      "31800000\n",
      "Start Time = 17:45:55\n",
      "End Time = 17:46:10\n"
     ]
    },
    {
     "name": "stderr",
     "output_type": "stream",
     "text": [
      "/tmp/ipykernel_364/3853139118.py:94: ParserWarning: Both a converter and dtype were specified for column SMILES - only the converter will be used.\n",
      "  for i,df in enumerate(activity_reader):\n",
      "/tmp/ipykernel_364/3853139118.py:94: ParserWarning: Both a converter and dtype were specified for column pchembl_value - only the converter will be used.\n",
      "  for i,df in enumerate(activity_reader):\n"
     ]
    },
    {
     "name": "stdout",
     "output_type": "stream",
     "text": [
      "31850000\n",
      "Start Time = 17:46:24\n",
      "End Time = 17:46:41\n"
     ]
    },
    {
     "name": "stderr",
     "output_type": "stream",
     "text": [
      "/tmp/ipykernel_364/3853139118.py:94: ParserWarning: Both a converter and dtype were specified for column SMILES - only the converter will be used.\n",
      "  for i,df in enumerate(activity_reader):\n",
      "/tmp/ipykernel_364/3853139118.py:94: ParserWarning: Both a converter and dtype were specified for column pchembl_value - only the converter will be used.\n",
      "  for i,df in enumerate(activity_reader):\n"
     ]
    },
    {
     "name": "stdout",
     "output_type": "stream",
     "text": [
      "31900000\n",
      "Start Time = 17:46:56\n",
      "End Time = 17:47:12\n"
     ]
    },
    {
     "name": "stderr",
     "output_type": "stream",
     "text": [
      "/tmp/ipykernel_364/3853139118.py:94: ParserWarning: Both a converter and dtype were specified for column SMILES - only the converter will be used.\n",
      "  for i,df in enumerate(activity_reader):\n",
      "/tmp/ipykernel_364/3853139118.py:94: ParserWarning: Both a converter and dtype were specified for column pchembl_value - only the converter will be used.\n",
      "  for i,df in enumerate(activity_reader):\n"
     ]
    },
    {
     "name": "stdout",
     "output_type": "stream",
     "text": [
      "31950000\n",
      "Start Time = 17:47:26\n",
      "End Time = 17:47:40\n"
     ]
    },
    {
     "name": "stderr",
     "output_type": "stream",
     "text": [
      "/tmp/ipykernel_364/3853139118.py:94: ParserWarning: Both a converter and dtype were specified for column SMILES - only the converter will be used.\n",
      "  for i,df in enumerate(activity_reader):\n",
      "/tmp/ipykernel_364/3853139118.py:94: ParserWarning: Both a converter and dtype were specified for column pchembl_value - only the converter will be used.\n",
      "  for i,df in enumerate(activity_reader):\n"
     ]
    },
    {
     "name": "stdout",
     "output_type": "stream",
     "text": [
      "32000000\n",
      "Start Time = 17:47:55\n",
      "End Time = 17:48:11\n"
     ]
    },
    {
     "name": "stderr",
     "output_type": "stream",
     "text": [
      "/tmp/ipykernel_364/3853139118.py:94: ParserWarning: Both a converter and dtype were specified for column SMILES - only the converter will be used.\n",
      "  for i,df in enumerate(activity_reader):\n",
      "/tmp/ipykernel_364/3853139118.py:94: ParserWarning: Both a converter and dtype were specified for column pchembl_value - only the converter will be used.\n",
      "  for i,df in enumerate(activity_reader):\n"
     ]
    },
    {
     "name": "stdout",
     "output_type": "stream",
     "text": [
      "32050000\n",
      "Start Time = 17:48:26\n",
      "End Time = 17:48:42\n"
     ]
    },
    {
     "name": "stderr",
     "output_type": "stream",
     "text": [
      "/tmp/ipykernel_364/3853139118.py:94: ParserWarning: Both a converter and dtype were specified for column SMILES - only the converter will be used.\n",
      "  for i,df in enumerate(activity_reader):\n",
      "/tmp/ipykernel_364/3853139118.py:94: ParserWarning: Both a converter and dtype were specified for column pchembl_value - only the converter will be used.\n",
      "  for i,df in enumerate(activity_reader):\n"
     ]
    },
    {
     "name": "stdout",
     "output_type": "stream",
     "text": [
      "32100000\n",
      "Start Time = 17:48:57\n",
      "End Time = 17:49:12\n"
     ]
    },
    {
     "name": "stderr",
     "output_type": "stream",
     "text": [
      "/tmp/ipykernel_364/3853139118.py:94: ParserWarning: Both a converter and dtype were specified for column SMILES - only the converter will be used.\n",
      "  for i,df in enumerate(activity_reader):\n",
      "/tmp/ipykernel_364/3853139118.py:94: ParserWarning: Both a converter and dtype were specified for column pchembl_value - only the converter will be used.\n",
      "  for i,df in enumerate(activity_reader):\n"
     ]
    },
    {
     "name": "stdout",
     "output_type": "stream",
     "text": [
      "32150000\n",
      "Start Time = 17:49:26\n",
      "End Time = 17:49:42\n"
     ]
    },
    {
     "name": "stderr",
     "output_type": "stream",
     "text": [
      "/tmp/ipykernel_364/3853139118.py:94: ParserWarning: Both a converter and dtype were specified for column SMILES - only the converter will be used.\n",
      "  for i,df in enumerate(activity_reader):\n",
      "/tmp/ipykernel_364/3853139118.py:94: ParserWarning: Both a converter and dtype were specified for column pchembl_value - only the converter will be used.\n",
      "  for i,df in enumerate(activity_reader):\n"
     ]
    },
    {
     "name": "stdout",
     "output_type": "stream",
     "text": [
      "32200000\n",
      "Start Time = 17:49:57\n",
      "End Time = 17:50:14\n"
     ]
    },
    {
     "name": "stderr",
     "output_type": "stream",
     "text": [
      "/tmp/ipykernel_364/3853139118.py:94: ParserWarning: Both a converter and dtype were specified for column SMILES - only the converter will be used.\n",
      "  for i,df in enumerate(activity_reader):\n",
      "/tmp/ipykernel_364/3853139118.py:94: ParserWarning: Both a converter and dtype were specified for column pchembl_value - only the converter will be used.\n",
      "  for i,df in enumerate(activity_reader):\n"
     ]
    },
    {
     "name": "stdout",
     "output_type": "stream",
     "text": [
      "32250000\n",
      "Start Time = 17:50:28\n",
      "End Time = 17:50:43\n"
     ]
    },
    {
     "name": "stderr",
     "output_type": "stream",
     "text": [
      "/tmp/ipykernel_364/3853139118.py:94: ParserWarning: Both a converter and dtype were specified for column SMILES - only the converter will be used.\n",
      "  for i,df in enumerate(activity_reader):\n",
      "/tmp/ipykernel_364/3853139118.py:94: ParserWarning: Both a converter and dtype were specified for column pchembl_value - only the converter will be used.\n",
      "  for i,df in enumerate(activity_reader):\n"
     ]
    },
    {
     "name": "stdout",
     "output_type": "stream",
     "text": [
      "32300000\n",
      "Start Time = 17:50:57\n",
      "End Time = 17:51:14\n"
     ]
    },
    {
     "name": "stderr",
     "output_type": "stream",
     "text": [
      "/tmp/ipykernel_364/3853139118.py:94: ParserWarning: Both a converter and dtype were specified for column SMILES - only the converter will be used.\n",
      "  for i,df in enumerate(activity_reader):\n",
      "/tmp/ipykernel_364/3853139118.py:94: ParserWarning: Both a converter and dtype were specified for column pchembl_value - only the converter will be used.\n",
      "  for i,df in enumerate(activity_reader):\n"
     ]
    },
    {
     "name": "stdout",
     "output_type": "stream",
     "text": [
      "32350000\n",
      "Start Time = 17:51:28\n",
      "End Time = 17:51:44\n"
     ]
    },
    {
     "name": "stderr",
     "output_type": "stream",
     "text": [
      "/tmp/ipykernel_364/3853139118.py:94: ParserWarning: Both a converter and dtype were specified for column SMILES - only the converter will be used.\n",
      "  for i,df in enumerate(activity_reader):\n",
      "/tmp/ipykernel_364/3853139118.py:94: ParserWarning: Both a converter and dtype were specified for column pchembl_value - only the converter will be used.\n",
      "  for i,df in enumerate(activity_reader):\n"
     ]
    },
    {
     "name": "stdout",
     "output_type": "stream",
     "text": [
      "32400000\n",
      "Start Time = 17:51:58\n",
      "End Time = 17:52:13\n"
     ]
    },
    {
     "name": "stderr",
     "output_type": "stream",
     "text": [
      "/tmp/ipykernel_364/3853139118.py:94: ParserWarning: Both a converter and dtype were specified for column SMILES - only the converter will be used.\n",
      "  for i,df in enumerate(activity_reader):\n",
      "/tmp/ipykernel_364/3853139118.py:94: ParserWarning: Both a converter and dtype were specified for column pchembl_value - only the converter will be used.\n",
      "  for i,df in enumerate(activity_reader):\n"
     ]
    },
    {
     "name": "stdout",
     "output_type": "stream",
     "text": [
      "32450000\n",
      "Start Time = 17:52:27\n",
      "End Time = 17:52:44\n"
     ]
    },
    {
     "name": "stderr",
     "output_type": "stream",
     "text": [
      "/tmp/ipykernel_364/3853139118.py:94: ParserWarning: Both a converter and dtype were specified for column SMILES - only the converter will be used.\n",
      "  for i,df in enumerate(activity_reader):\n",
      "/tmp/ipykernel_364/3853139118.py:94: ParserWarning: Both a converter and dtype were specified for column pchembl_value - only the converter will be used.\n",
      "  for i,df in enumerate(activity_reader):\n"
     ]
    },
    {
     "name": "stdout",
     "output_type": "stream",
     "text": [
      "32500000\n",
      "Start Time = 17:52:58\n",
      "End Time = 17:53:15\n"
     ]
    },
    {
     "name": "stderr",
     "output_type": "stream",
     "text": [
      "/tmp/ipykernel_364/3853139118.py:94: ParserWarning: Both a converter and dtype were specified for column SMILES - only the converter will be used.\n",
      "  for i,df in enumerate(activity_reader):\n",
      "/tmp/ipykernel_364/3853139118.py:94: ParserWarning: Both a converter and dtype were specified for column pchembl_value - only the converter will be used.\n",
      "  for i,df in enumerate(activity_reader):\n"
     ]
    },
    {
     "name": "stdout",
     "output_type": "stream",
     "text": [
      "32550000\n",
      "Start Time = 17:53:30\n",
      "End Time = 17:53:45\n"
     ]
    },
    {
     "name": "stderr",
     "output_type": "stream",
     "text": [
      "/tmp/ipykernel_364/3853139118.py:94: ParserWarning: Both a converter and dtype were specified for column SMILES - only the converter will be used.\n",
      "  for i,df in enumerate(activity_reader):\n",
      "/tmp/ipykernel_364/3853139118.py:94: ParserWarning: Both a converter and dtype were specified for column pchembl_value - only the converter will be used.\n",
      "  for i,df in enumerate(activity_reader):\n"
     ]
    },
    {
     "name": "stdout",
     "output_type": "stream",
     "text": [
      "32600000\n",
      "Start Time = 17:53:59\n",
      "End Time = 17:54:16\n"
     ]
    },
    {
     "name": "stderr",
     "output_type": "stream",
     "text": [
      "/tmp/ipykernel_364/3853139118.py:94: ParserWarning: Both a converter and dtype were specified for column SMILES - only the converter will be used.\n",
      "  for i,df in enumerate(activity_reader):\n",
      "/tmp/ipykernel_364/3853139118.py:94: ParserWarning: Both a converter and dtype were specified for column pchembl_value - only the converter will be used.\n",
      "  for i,df in enumerate(activity_reader):\n"
     ]
    },
    {
     "name": "stdout",
     "output_type": "stream",
     "text": [
      "32650000\n",
      "Start Time = 17:54:31\n",
      "End Time = 17:54:48\n"
     ]
    },
    {
     "name": "stderr",
     "output_type": "stream",
     "text": [
      "/tmp/ipykernel_364/3853139118.py:94: ParserWarning: Both a converter and dtype were specified for column SMILES - only the converter will be used.\n",
      "  for i,df in enumerate(activity_reader):\n",
      "/tmp/ipykernel_364/3853139118.py:94: ParserWarning: Both a converter and dtype were specified for column pchembl_value - only the converter will be used.\n",
      "  for i,df in enumerate(activity_reader):\n"
     ]
    },
    {
     "name": "stdout",
     "output_type": "stream",
     "text": [
      "32700000\n",
      "Start Time = 17:55:03\n",
      "End Time = 17:55:19\n"
     ]
    },
    {
     "name": "stderr",
     "output_type": "stream",
     "text": [
      "/tmp/ipykernel_364/3853139118.py:94: ParserWarning: Both a converter and dtype were specified for column SMILES - only the converter will be used.\n",
      "  for i,df in enumerate(activity_reader):\n",
      "/tmp/ipykernel_364/3853139118.py:94: ParserWarning: Both a converter and dtype were specified for column pchembl_value - only the converter will be used.\n",
      "  for i,df in enumerate(activity_reader):\n"
     ]
    },
    {
     "name": "stdout",
     "output_type": "stream",
     "text": [
      "32750000\n",
      "Start Time = 17:55:34\n",
      "End Time = 17:55:51\n"
     ]
    },
    {
     "name": "stderr",
     "output_type": "stream",
     "text": [
      "/tmp/ipykernel_364/3853139118.py:94: ParserWarning: Both a converter and dtype were specified for column SMILES - only the converter will be used.\n",
      "  for i,df in enumerate(activity_reader):\n",
      "/tmp/ipykernel_364/3853139118.py:94: ParserWarning: Both a converter and dtype were specified for column pchembl_value - only the converter will be used.\n",
      "  for i,df in enumerate(activity_reader):\n"
     ]
    },
    {
     "name": "stdout",
     "output_type": "stream",
     "text": [
      "32800000\n",
      "Start Time = 17:56:06\n",
      "End Time = 17:56:23\n"
     ]
    },
    {
     "name": "stderr",
     "output_type": "stream",
     "text": [
      "/tmp/ipykernel_364/3853139118.py:94: ParserWarning: Both a converter and dtype were specified for column SMILES - only the converter will be used.\n",
      "  for i,df in enumerate(activity_reader):\n",
      "/tmp/ipykernel_364/3853139118.py:94: ParserWarning: Both a converter and dtype were specified for column pchembl_value - only the converter will be used.\n",
      "  for i,df in enumerate(activity_reader):\n"
     ]
    },
    {
     "name": "stdout",
     "output_type": "stream",
     "text": [
      "32850000\n",
      "Start Time = 17:56:37\n",
      "End Time = 17:56:52\n"
     ]
    },
    {
     "name": "stderr",
     "output_type": "stream",
     "text": [
      "/tmp/ipykernel_364/3853139118.py:94: ParserWarning: Both a converter and dtype were specified for column SMILES - only the converter will be used.\n",
      "  for i,df in enumerate(activity_reader):\n",
      "/tmp/ipykernel_364/3853139118.py:94: ParserWarning: Both a converter and dtype were specified for column pchembl_value - only the converter will be used.\n",
      "  for i,df in enumerate(activity_reader):\n"
     ]
    },
    {
     "name": "stdout",
     "output_type": "stream",
     "text": [
      "32900000\n",
      "Start Time = 17:57:06\n",
      "End Time = 17:57:23\n"
     ]
    },
    {
     "name": "stderr",
     "output_type": "stream",
     "text": [
      "/tmp/ipykernel_364/3853139118.py:94: ParserWarning: Both a converter and dtype were specified for column SMILES - only the converter will be used.\n",
      "  for i,df in enumerate(activity_reader):\n",
      "/tmp/ipykernel_364/3853139118.py:94: ParserWarning: Both a converter and dtype were specified for column pchembl_value - only the converter will be used.\n",
      "  for i,df in enumerate(activity_reader):\n"
     ]
    },
    {
     "name": "stdout",
     "output_type": "stream",
     "text": [
      "32950000\n",
      "Start Time = 17:57:38\n",
      "End Time = 17:57:54\n"
     ]
    },
    {
     "name": "stderr",
     "output_type": "stream",
     "text": [
      "/tmp/ipykernel_364/3853139118.py:94: ParserWarning: Both a converter and dtype were specified for column SMILES - only the converter will be used.\n",
      "  for i,df in enumerate(activity_reader):\n",
      "/tmp/ipykernel_364/3853139118.py:94: ParserWarning: Both a converter and dtype were specified for column pchembl_value - only the converter will be used.\n",
      "  for i,df in enumerate(activity_reader):\n"
     ]
    },
    {
     "name": "stdout",
     "output_type": "stream",
     "text": [
      "33000000\n",
      "Start Time = 17:58:09\n",
      "End Time = 17:58:23\n"
     ]
    },
    {
     "name": "stderr",
     "output_type": "stream",
     "text": [
      "/tmp/ipykernel_364/3853139118.py:94: ParserWarning: Both a converter and dtype were specified for column SMILES - only the converter will be used.\n",
      "  for i,df in enumerate(activity_reader):\n",
      "/tmp/ipykernel_364/3853139118.py:94: ParserWarning: Both a converter and dtype were specified for column pchembl_value - only the converter will be used.\n",
      "  for i,df in enumerate(activity_reader):\n"
     ]
    },
    {
     "name": "stdout",
     "output_type": "stream",
     "text": [
      "33050000\n",
      "Start Time = 17:58:38\n",
      "End Time = 17:58:55\n"
     ]
    },
    {
     "name": "stderr",
     "output_type": "stream",
     "text": [
      "/tmp/ipykernel_364/3853139118.py:94: ParserWarning: Both a converter and dtype were specified for column SMILES - only the converter will be used.\n",
      "  for i,df in enumerate(activity_reader):\n",
      "/tmp/ipykernel_364/3853139118.py:94: ParserWarning: Both a converter and dtype were specified for column pchembl_value - only the converter will be used.\n",
      "  for i,df in enumerate(activity_reader):\n"
     ]
    },
    {
     "name": "stdout",
     "output_type": "stream",
     "text": [
      "33100000\n",
      "Start Time = 17:59:10\n",
      "End Time = 17:59:28\n"
     ]
    },
    {
     "name": "stderr",
     "output_type": "stream",
     "text": [
      "/tmp/ipykernel_364/3853139118.py:94: ParserWarning: Both a converter and dtype were specified for column SMILES - only the converter will be used.\n",
      "  for i,df in enumerate(activity_reader):\n",
      "/tmp/ipykernel_364/3853139118.py:94: ParserWarning: Both a converter and dtype were specified for column pchembl_value - only the converter will be used.\n",
      "  for i,df in enumerate(activity_reader):\n"
     ]
    },
    {
     "name": "stdout",
     "output_type": "stream",
     "text": [
      "33150000\n",
      "Start Time = 17:59:42\n",
      "End Time = 17:59:57\n"
     ]
    },
    {
     "name": "stderr",
     "output_type": "stream",
     "text": [
      "/tmp/ipykernel_364/3853139118.py:94: ParserWarning: Both a converter and dtype were specified for column SMILES - only the converter will be used.\n",
      "  for i,df in enumerate(activity_reader):\n",
      "/tmp/ipykernel_364/3853139118.py:94: ParserWarning: Both a converter and dtype were specified for column pchembl_value - only the converter will be used.\n",
      "  for i,df in enumerate(activity_reader):\n"
     ]
    },
    {
     "name": "stdout",
     "output_type": "stream",
     "text": [
      "33200000\n",
      "Start Time = 18:00:12\n",
      "End Time = 18:00:30\n"
     ]
    },
    {
     "name": "stderr",
     "output_type": "stream",
     "text": [
      "/tmp/ipykernel_364/3853139118.py:94: ParserWarning: Both a converter and dtype were specified for column SMILES - only the converter will be used.\n",
      "  for i,df in enumerate(activity_reader):\n",
      "/tmp/ipykernel_364/3853139118.py:94: ParserWarning: Both a converter and dtype were specified for column pchembl_value - only the converter will be used.\n",
      "  for i,df in enumerate(activity_reader):\n"
     ]
    },
    {
     "name": "stdout",
     "output_type": "stream",
     "text": [
      "33250000\n",
      "Start Time = 18:00:45\n",
      "End Time = 18:01:02\n"
     ]
    },
    {
     "name": "stderr",
     "output_type": "stream",
     "text": [
      "/tmp/ipykernel_364/3853139118.py:94: ParserWarning: Both a converter and dtype were specified for column SMILES - only the converter will be used.\n",
      "  for i,df in enumerate(activity_reader):\n",
      "/tmp/ipykernel_364/3853139118.py:94: ParserWarning: Both a converter and dtype were specified for column pchembl_value - only the converter will be used.\n",
      "  for i,df in enumerate(activity_reader):\n"
     ]
    },
    {
     "name": "stdout",
     "output_type": "stream",
     "text": [
      "33300000\n",
      "Start Time = 18:01:17\n",
      "End Time = 18:01:32\n"
     ]
    },
    {
     "name": "stderr",
     "output_type": "stream",
     "text": [
      "/tmp/ipykernel_364/3853139118.py:94: ParserWarning: Both a converter and dtype were specified for column SMILES - only the converter will be used.\n",
      "  for i,df in enumerate(activity_reader):\n",
      "/tmp/ipykernel_364/3853139118.py:94: ParserWarning: Both a converter and dtype were specified for column pchembl_value - only the converter will be used.\n",
      "  for i,df in enumerate(activity_reader):\n"
     ]
    },
    {
     "name": "stdout",
     "output_type": "stream",
     "text": [
      "33350000\n",
      "Start Time = 18:01:46\n",
      "End Time = 18:02:04\n"
     ]
    },
    {
     "name": "stderr",
     "output_type": "stream",
     "text": [
      "/tmp/ipykernel_364/3853139118.py:94: ParserWarning: Both a converter and dtype were specified for column SMILES - only the converter will be used.\n",
      "  for i,df in enumerate(activity_reader):\n",
      "/tmp/ipykernel_364/3853139118.py:94: ParserWarning: Both a converter and dtype were specified for column pchembl_value - only the converter will be used.\n",
      "  for i,df in enumerate(activity_reader):\n"
     ]
    },
    {
     "name": "stdout",
     "output_type": "stream",
     "text": [
      "33400000\n",
      "Start Time = 18:02:18\n",
      "End Time = 18:02:34\n"
     ]
    },
    {
     "name": "stderr",
     "output_type": "stream",
     "text": [
      "/tmp/ipykernel_364/3853139118.py:94: ParserWarning: Both a converter and dtype were specified for column SMILES - only the converter will be used.\n",
      "  for i,df in enumerate(activity_reader):\n",
      "/tmp/ipykernel_364/3853139118.py:94: ParserWarning: Both a converter and dtype were specified for column pchembl_value - only the converter will be used.\n",
      "  for i,df in enumerate(activity_reader):\n"
     ]
    },
    {
     "name": "stdout",
     "output_type": "stream",
     "text": [
      "33450000\n",
      "Start Time = 18:02:48\n",
      "End Time = 18:03:03\n"
     ]
    },
    {
     "name": "stderr",
     "output_type": "stream",
     "text": [
      "/tmp/ipykernel_364/3853139118.py:94: ParserWarning: Both a converter and dtype were specified for column SMILES - only the converter will be used.\n",
      "  for i,df in enumerate(activity_reader):\n",
      "/tmp/ipykernel_364/3853139118.py:94: ParserWarning: Both a converter and dtype were specified for column pchembl_value - only the converter will be used.\n",
      "  for i,df in enumerate(activity_reader):\n"
     ]
    },
    {
     "name": "stdout",
     "output_type": "stream",
     "text": [
      "33500000\n",
      "Start Time = 18:03:18\n",
      "End Time = 18:03:34\n"
     ]
    },
    {
     "name": "stderr",
     "output_type": "stream",
     "text": [
      "/tmp/ipykernel_364/3853139118.py:94: ParserWarning: Both a converter and dtype were specified for column SMILES - only the converter will be used.\n",
      "  for i,df in enumerate(activity_reader):\n",
      "/tmp/ipykernel_364/3853139118.py:94: ParserWarning: Both a converter and dtype were specified for column pchembl_value - only the converter will be used.\n",
      "  for i,df in enumerate(activity_reader):\n"
     ]
    },
    {
     "name": "stdout",
     "output_type": "stream",
     "text": [
      "33550000\n",
      "Start Time = 18:03:49\n",
      "End Time = 18:04:05\n"
     ]
    },
    {
     "name": "stderr",
     "output_type": "stream",
     "text": [
      "/tmp/ipykernel_364/3853139118.py:94: ParserWarning: Both a converter and dtype were specified for column SMILES - only the converter will be used.\n",
      "  for i,df in enumerate(activity_reader):\n",
      "/tmp/ipykernel_364/3853139118.py:94: ParserWarning: Both a converter and dtype were specified for column pchembl_value - only the converter will be used.\n",
      "  for i,df in enumerate(activity_reader):\n"
     ]
    },
    {
     "name": "stdout",
     "output_type": "stream",
     "text": [
      "33600000\n",
      "Start Time = 18:04:19\n",
      "End Time = 18:04:34\n"
     ]
    },
    {
     "name": "stderr",
     "output_type": "stream",
     "text": [
      "/tmp/ipykernel_364/3853139118.py:94: ParserWarning: Both a converter and dtype were specified for column SMILES - only the converter will be used.\n",
      "  for i,df in enumerate(activity_reader):\n",
      "/tmp/ipykernel_364/3853139118.py:94: ParserWarning: Both a converter and dtype were specified for column pchembl_value - only the converter will be used.\n",
      "  for i,df in enumerate(activity_reader):\n"
     ]
    },
    {
     "name": "stdout",
     "output_type": "stream",
     "text": [
      "33650000\n",
      "Start Time = 18:04:48\n",
      "End Time = 18:05:05\n"
     ]
    },
    {
     "name": "stderr",
     "output_type": "stream",
     "text": [
      "/tmp/ipykernel_364/3853139118.py:94: ParserWarning: Both a converter and dtype were specified for column SMILES - only the converter will be used.\n",
      "  for i,df in enumerate(activity_reader):\n",
      "/tmp/ipykernel_364/3853139118.py:94: ParserWarning: Both a converter and dtype were specified for column pchembl_value - only the converter will be used.\n",
      "  for i,df in enumerate(activity_reader):\n"
     ]
    },
    {
     "name": "stdout",
     "output_type": "stream",
     "text": [
      "33700000\n",
      "Start Time = 18:05:19\n",
      "End Time = 18:05:36\n"
     ]
    },
    {
     "name": "stderr",
     "output_type": "stream",
     "text": [
      "/tmp/ipykernel_364/3853139118.py:94: ParserWarning: Both a converter and dtype were specified for column SMILES - only the converter will be used.\n",
      "  for i,df in enumerate(activity_reader):\n",
      "/tmp/ipykernel_364/3853139118.py:94: ParserWarning: Both a converter and dtype were specified for column pchembl_value - only the converter will be used.\n",
      "  for i,df in enumerate(activity_reader):\n"
     ]
    },
    {
     "name": "stdout",
     "output_type": "stream",
     "text": [
      "33750000\n",
      "Start Time = 18:05:50\n",
      "End Time = 18:06:05\n"
     ]
    },
    {
     "name": "stderr",
     "output_type": "stream",
     "text": [
      "/tmp/ipykernel_364/3853139118.py:94: ParserWarning: Both a converter and dtype were specified for column SMILES - only the converter will be used.\n",
      "  for i,df in enumerate(activity_reader):\n",
      "/tmp/ipykernel_364/3853139118.py:94: ParserWarning: Both a converter and dtype were specified for column pchembl_value - only the converter will be used.\n",
      "  for i,df in enumerate(activity_reader):\n"
     ]
    },
    {
     "name": "stdout",
     "output_type": "stream",
     "text": [
      "33800000\n",
      "Start Time = 18:06:19\n",
      "End Time = 18:06:36\n"
     ]
    },
    {
     "name": "stderr",
     "output_type": "stream",
     "text": [
      "/tmp/ipykernel_364/3853139118.py:94: ParserWarning: Both a converter and dtype were specified for column SMILES - only the converter will be used.\n",
      "  for i,df in enumerate(activity_reader):\n",
      "/tmp/ipykernel_364/3853139118.py:94: ParserWarning: Both a converter and dtype were specified for column pchembl_value - only the converter will be used.\n",
      "  for i,df in enumerate(activity_reader):\n"
     ]
    },
    {
     "name": "stdout",
     "output_type": "stream",
     "text": [
      "33850000\n",
      "Start Time = 18:06:51\n",
      "End Time = 18:07:07\n"
     ]
    },
    {
     "name": "stderr",
     "output_type": "stream",
     "text": [
      "/tmp/ipykernel_364/3853139118.py:94: ParserWarning: Both a converter and dtype were specified for column SMILES - only the converter will be used.\n",
      "  for i,df in enumerate(activity_reader):\n",
      "/tmp/ipykernel_364/3853139118.py:94: ParserWarning: Both a converter and dtype were specified for column pchembl_value - only the converter will be used.\n",
      "  for i,df in enumerate(activity_reader):\n"
     ]
    },
    {
     "name": "stdout",
     "output_type": "stream",
     "text": [
      "33900000\n",
      "Start Time = 18:07:21\n",
      "End Time = 18:07:37\n"
     ]
    },
    {
     "name": "stderr",
     "output_type": "stream",
     "text": [
      "/tmp/ipykernel_364/3853139118.py:94: ParserWarning: Both a converter and dtype were specified for column SMILES - only the converter will be used.\n",
      "  for i,df in enumerate(activity_reader):\n",
      "/tmp/ipykernel_364/3853139118.py:94: ParserWarning: Both a converter and dtype were specified for column pchembl_value - only the converter will be used.\n",
      "  for i,df in enumerate(activity_reader):\n"
     ]
    },
    {
     "name": "stdout",
     "output_type": "stream",
     "text": [
      "33950000\n",
      "Start Time = 18:07:51\n",
      "End Time = 18:08:07\n"
     ]
    },
    {
     "name": "stderr",
     "output_type": "stream",
     "text": [
      "/tmp/ipykernel_364/3853139118.py:94: ParserWarning: Both a converter and dtype were specified for column SMILES - only the converter will be used.\n",
      "  for i,df in enumerate(activity_reader):\n",
      "/tmp/ipykernel_364/3853139118.py:94: ParserWarning: Both a converter and dtype were specified for column pchembl_value - only the converter will be used.\n",
      "  for i,df in enumerate(activity_reader):\n"
     ]
    },
    {
     "name": "stdout",
     "output_type": "stream",
     "text": [
      "34000000\n",
      "Start Time = 18:08:21\n",
      "End Time = 18:08:38\n"
     ]
    },
    {
     "name": "stderr",
     "output_type": "stream",
     "text": [
      "/tmp/ipykernel_364/3853139118.py:94: ParserWarning: Both a converter and dtype were specified for column SMILES - only the converter will be used.\n",
      "  for i,df in enumerate(activity_reader):\n",
      "/tmp/ipykernel_364/3853139118.py:94: ParserWarning: Both a converter and dtype were specified for column pchembl_value - only the converter will be used.\n",
      "  for i,df in enumerate(activity_reader):\n"
     ]
    },
    {
     "name": "stdout",
     "output_type": "stream",
     "text": [
      "34050000\n",
      "Start Time = 18:08:52\n",
      "End Time = 18:09:07\n"
     ]
    },
    {
     "name": "stderr",
     "output_type": "stream",
     "text": [
      "/tmp/ipykernel_364/3853139118.py:94: ParserWarning: Both a converter and dtype were specified for column SMILES - only the converter will be used.\n",
      "  for i,df in enumerate(activity_reader):\n",
      "/tmp/ipykernel_364/3853139118.py:94: ParserWarning: Both a converter and dtype were specified for column pchembl_value - only the converter will be used.\n",
      "  for i,df in enumerate(activity_reader):\n"
     ]
    },
    {
     "name": "stdout",
     "output_type": "stream",
     "text": [
      "34100000\n",
      "Start Time = 18:09:22\n",
      "End Time = 18:09:39\n"
     ]
    },
    {
     "name": "stderr",
     "output_type": "stream",
     "text": [
      "/tmp/ipykernel_364/3853139118.py:94: ParserWarning: Both a converter and dtype were specified for column SMILES - only the converter will be used.\n",
      "  for i,df in enumerate(activity_reader):\n",
      "/tmp/ipykernel_364/3853139118.py:94: ParserWarning: Both a converter and dtype were specified for column pchembl_value - only the converter will be used.\n",
      "  for i,df in enumerate(activity_reader):\n"
     ]
    },
    {
     "name": "stdout",
     "output_type": "stream",
     "text": [
      "34150000\n",
      "Start Time = 18:09:53\n",
      "End Time = 18:10:11\n"
     ]
    },
    {
     "name": "stderr",
     "output_type": "stream",
     "text": [
      "/tmp/ipykernel_364/3853139118.py:94: ParserWarning: Both a converter and dtype were specified for column SMILES - only the converter will be used.\n",
      "  for i,df in enumerate(activity_reader):\n",
      "/tmp/ipykernel_364/3853139118.py:94: ParserWarning: Both a converter and dtype were specified for column pchembl_value - only the converter will be used.\n",
      "  for i,df in enumerate(activity_reader):\n"
     ]
    },
    {
     "name": "stdout",
     "output_type": "stream",
     "text": [
      "34200000\n",
      "Start Time = 18:10:26\n",
      "End Time = 18:10:42\n"
     ]
    },
    {
     "name": "stderr",
     "output_type": "stream",
     "text": [
      "/tmp/ipykernel_364/3853139118.py:94: ParserWarning: Both a converter and dtype were specified for column SMILES - only the converter will be used.\n",
      "  for i,df in enumerate(activity_reader):\n",
      "/tmp/ipykernel_364/3853139118.py:94: ParserWarning: Both a converter and dtype were specified for column pchembl_value - only the converter will be used.\n",
      "  for i,df in enumerate(activity_reader):\n"
     ]
    },
    {
     "name": "stdout",
     "output_type": "stream",
     "text": [
      "34250000\n",
      "Start Time = 18:10:56\n",
      "End Time = 18:11:15\n"
     ]
    },
    {
     "name": "stderr",
     "output_type": "stream",
     "text": [
      "/tmp/ipykernel_364/3853139118.py:94: ParserWarning: Both a converter and dtype were specified for column SMILES - only the converter will be used.\n",
      "  for i,df in enumerate(activity_reader):\n",
      "/tmp/ipykernel_364/3853139118.py:94: ParserWarning: Both a converter and dtype were specified for column pchembl_value - only the converter will be used.\n",
      "  for i,df in enumerate(activity_reader):\n"
     ]
    },
    {
     "name": "stdout",
     "output_type": "stream",
     "text": [
      "34300000\n",
      "Start Time = 18:11:29\n",
      "End Time = 18:11:48\n"
     ]
    },
    {
     "name": "stderr",
     "output_type": "stream",
     "text": [
      "/tmp/ipykernel_364/3853139118.py:94: ParserWarning: Both a converter and dtype were specified for column SMILES - only the converter will be used.\n",
      "  for i,df in enumerate(activity_reader):\n",
      "/tmp/ipykernel_364/3853139118.py:94: ParserWarning: Both a converter and dtype were specified for column pchembl_value - only the converter will be used.\n",
      "  for i,df in enumerate(activity_reader):\n"
     ]
    },
    {
     "name": "stdout",
     "output_type": "stream",
     "text": [
      "34350000\n",
      "Start Time = 18:12:03\n",
      "End Time = 18:12:18\n"
     ]
    },
    {
     "name": "stderr",
     "output_type": "stream",
     "text": [
      "/tmp/ipykernel_364/3853139118.py:94: ParserWarning: Both a converter and dtype were specified for column SMILES - only the converter will be used.\n",
      "  for i,df in enumerate(activity_reader):\n",
      "/tmp/ipykernel_364/3853139118.py:94: ParserWarning: Both a converter and dtype were specified for column pchembl_value - only the converter will be used.\n",
      "  for i,df in enumerate(activity_reader):\n"
     ]
    },
    {
     "name": "stdout",
     "output_type": "stream",
     "text": [
      "34400000\n",
      "Start Time = 18:12:32\n",
      "End Time = 18:12:49\n"
     ]
    },
    {
     "name": "stderr",
     "output_type": "stream",
     "text": [
      "/tmp/ipykernel_364/3853139118.py:94: ParserWarning: Both a converter and dtype were specified for column SMILES - only the converter will be used.\n",
      "  for i,df in enumerate(activity_reader):\n",
      "/tmp/ipykernel_364/3853139118.py:94: ParserWarning: Both a converter and dtype were specified for column pchembl_value - only the converter will be used.\n",
      "  for i,df in enumerate(activity_reader):\n"
     ]
    },
    {
     "name": "stdout",
     "output_type": "stream",
     "text": [
      "34450000\n",
      "Start Time = 18:13:03\n",
      "End Time = 18:13:20\n"
     ]
    },
    {
     "name": "stderr",
     "output_type": "stream",
     "text": [
      "/tmp/ipykernel_364/3853139118.py:94: ParserWarning: Both a converter and dtype were specified for column SMILES - only the converter will be used.\n",
      "  for i,df in enumerate(activity_reader):\n",
      "/tmp/ipykernel_364/3853139118.py:94: ParserWarning: Both a converter and dtype were specified for column pchembl_value - only the converter will be used.\n",
      "  for i,df in enumerate(activity_reader):\n"
     ]
    },
    {
     "name": "stdout",
     "output_type": "stream",
     "text": [
      "34500000\n",
      "Start Time = 18:13:35\n",
      "End Time = 18:13:50\n"
     ]
    },
    {
     "name": "stderr",
     "output_type": "stream",
     "text": [
      "/tmp/ipykernel_364/3853139118.py:94: ParserWarning: Both a converter and dtype were specified for column SMILES - only the converter will be used.\n",
      "  for i,df in enumerate(activity_reader):\n",
      "/tmp/ipykernel_364/3853139118.py:94: ParserWarning: Both a converter and dtype were specified for column pchembl_value - only the converter will be used.\n",
      "  for i,df in enumerate(activity_reader):\n"
     ]
    },
    {
     "name": "stdout",
     "output_type": "stream",
     "text": [
      "34550000\n",
      "Start Time = 18:14:05\n",
      "End Time = 18:14:22\n"
     ]
    },
    {
     "name": "stderr",
     "output_type": "stream",
     "text": [
      "/tmp/ipykernel_364/3853139118.py:94: ParserWarning: Both a converter and dtype were specified for column SMILES - only the converter will be used.\n",
      "  for i,df in enumerate(activity_reader):\n",
      "/tmp/ipykernel_364/3853139118.py:94: ParserWarning: Both a converter and dtype were specified for column pchembl_value - only the converter will be used.\n",
      "  for i,df in enumerate(activity_reader):\n"
     ]
    },
    {
     "name": "stdout",
     "output_type": "stream",
     "text": [
      "34600000\n",
      "Start Time = 18:14:37\n",
      "End Time = 18:14:54\n"
     ]
    },
    {
     "name": "stderr",
     "output_type": "stream",
     "text": [
      "/tmp/ipykernel_364/3853139118.py:94: ParserWarning: Both a converter and dtype were specified for column SMILES - only the converter will be used.\n",
      "  for i,df in enumerate(activity_reader):\n",
      "/tmp/ipykernel_364/3853139118.py:94: ParserWarning: Both a converter and dtype were specified for column pchembl_value - only the converter will be used.\n",
      "  for i,df in enumerate(activity_reader):\n"
     ]
    },
    {
     "name": "stdout",
     "output_type": "stream",
     "text": [
      "34650000\n",
      "Start Time = 18:15:08\n",
      "End Time = 18:15:23\n"
     ]
    },
    {
     "name": "stderr",
     "output_type": "stream",
     "text": [
      "/tmp/ipykernel_364/3853139118.py:94: ParserWarning: Both a converter and dtype were specified for column SMILES - only the converter will be used.\n",
      "  for i,df in enumerate(activity_reader):\n",
      "/tmp/ipykernel_364/3853139118.py:94: ParserWarning: Both a converter and dtype were specified for column pchembl_value - only the converter will be used.\n",
      "  for i,df in enumerate(activity_reader):\n"
     ]
    },
    {
     "name": "stdout",
     "output_type": "stream",
     "text": [
      "34700000\n",
      "Start Time = 18:15:38\n",
      "End Time = 18:15:55\n"
     ]
    },
    {
     "name": "stderr",
     "output_type": "stream",
     "text": [
      "/tmp/ipykernel_364/3853139118.py:94: ParserWarning: Both a converter and dtype were specified for column SMILES - only the converter will be used.\n",
      "  for i,df in enumerate(activity_reader):\n",
      "/tmp/ipykernel_364/3853139118.py:94: ParserWarning: Both a converter and dtype were specified for column pchembl_value - only the converter will be used.\n",
      "  for i,df in enumerate(activity_reader):\n"
     ]
    },
    {
     "name": "stdout",
     "output_type": "stream",
     "text": [
      "34750000\n",
      "Start Time = 18:16:09\n",
      "End Time = 18:16:26\n"
     ]
    },
    {
     "name": "stderr",
     "output_type": "stream",
     "text": [
      "/tmp/ipykernel_364/3853139118.py:94: ParserWarning: Both a converter and dtype were specified for column SMILES - only the converter will be used.\n",
      "  for i,df in enumerate(activity_reader):\n",
      "/tmp/ipykernel_364/3853139118.py:94: ParserWarning: Both a converter and dtype were specified for column pchembl_value - only the converter will be used.\n",
      "  for i,df in enumerate(activity_reader):\n"
     ]
    },
    {
     "name": "stdout",
     "output_type": "stream",
     "text": [
      "34800000\n",
      "Start Time = 18:16:40\n",
      "End Time = 18:16:55\n"
     ]
    },
    {
     "name": "stderr",
     "output_type": "stream",
     "text": [
      "/tmp/ipykernel_364/3853139118.py:94: ParserWarning: Both a converter and dtype were specified for column SMILES - only the converter will be used.\n",
      "  for i,df in enumerate(activity_reader):\n",
      "/tmp/ipykernel_364/3853139118.py:94: ParserWarning: Both a converter and dtype were specified for column pchembl_value - only the converter will be used.\n",
      "  for i,df in enumerate(activity_reader):\n"
     ]
    },
    {
     "name": "stdout",
     "output_type": "stream",
     "text": [
      "34850000\n",
      "Start Time = 18:17:09\n",
      "End Time = 18:17:25\n"
     ]
    },
    {
     "name": "stderr",
     "output_type": "stream",
     "text": [
      "/tmp/ipykernel_364/3853139118.py:94: ParserWarning: Both a converter and dtype were specified for column SMILES - only the converter will be used.\n",
      "  for i,df in enumerate(activity_reader):\n",
      "/tmp/ipykernel_364/3853139118.py:94: ParserWarning: Both a converter and dtype were specified for column pchembl_value - only the converter will be used.\n",
      "  for i,df in enumerate(activity_reader):\n"
     ]
    },
    {
     "name": "stdout",
     "output_type": "stream",
     "text": [
      "34900000\n",
      "Start Time = 18:17:40\n",
      "End Time = 18:17:56\n"
     ]
    },
    {
     "name": "stderr",
     "output_type": "stream",
     "text": [
      "/tmp/ipykernel_364/3853139118.py:94: ParserWarning: Both a converter and dtype were specified for column SMILES - only the converter will be used.\n",
      "  for i,df in enumerate(activity_reader):\n",
      "/tmp/ipykernel_364/3853139118.py:94: ParserWarning: Both a converter and dtype were specified for column pchembl_value - only the converter will be used.\n",
      "  for i,df in enumerate(activity_reader):\n"
     ]
    },
    {
     "name": "stdout",
     "output_type": "stream",
     "text": [
      "34950000\n",
      "Start Time = 18:18:10\n",
      "End Time = 18:18:24\n"
     ]
    },
    {
     "name": "stderr",
     "output_type": "stream",
     "text": [
      "/tmp/ipykernel_364/3853139118.py:94: ParserWarning: Both a converter and dtype were specified for column SMILES - only the converter will be used.\n",
      "  for i,df in enumerate(activity_reader):\n",
      "/tmp/ipykernel_364/3853139118.py:94: ParserWarning: Both a converter and dtype were specified for column pchembl_value - only the converter will be used.\n",
      "  for i,df in enumerate(activity_reader):\n"
     ]
    },
    {
     "name": "stdout",
     "output_type": "stream",
     "text": [
      "35000000\n",
      "Start Time = 18:18:39\n",
      "End Time = 18:18:56\n"
     ]
    },
    {
     "name": "stderr",
     "output_type": "stream",
     "text": [
      "/tmp/ipykernel_364/3853139118.py:94: ParserWarning: Both a converter and dtype were specified for column SMILES - only the converter will be used.\n",
      "  for i,df in enumerate(activity_reader):\n",
      "/tmp/ipykernel_364/3853139118.py:94: ParserWarning: Both a converter and dtype were specified for column pchembl_value - only the converter will be used.\n",
      "  for i,df in enumerate(activity_reader):\n"
     ]
    },
    {
     "name": "stdout",
     "output_type": "stream",
     "text": [
      "35050000\n",
      "Start Time = 18:19:11\n",
      "End Time = 18:19:28\n"
     ]
    },
    {
     "name": "stderr",
     "output_type": "stream",
     "text": [
      "/tmp/ipykernel_364/3853139118.py:94: ParserWarning: Both a converter and dtype were specified for column SMILES - only the converter will be used.\n",
      "  for i,df in enumerate(activity_reader):\n",
      "/tmp/ipykernel_364/3853139118.py:94: ParserWarning: Both a converter and dtype were specified for column pchembl_value - only the converter will be used.\n",
      "  for i,df in enumerate(activity_reader):\n"
     ]
    },
    {
     "name": "stdout",
     "output_type": "stream",
     "text": [
      "35100000\n",
      "Start Time = 18:19:42\n",
      "End Time = 18:19:57\n"
     ]
    },
    {
     "name": "stderr",
     "output_type": "stream",
     "text": [
      "/tmp/ipykernel_364/3853139118.py:94: ParserWarning: Both a converter and dtype were specified for column SMILES - only the converter will be used.\n",
      "  for i,df in enumerate(activity_reader):\n",
      "/tmp/ipykernel_364/3853139118.py:94: ParserWarning: Both a converter and dtype were specified for column pchembl_value - only the converter will be used.\n",
      "  for i,df in enumerate(activity_reader):\n"
     ]
    },
    {
     "name": "stdout",
     "output_type": "stream",
     "text": [
      "35150000\n",
      "Start Time = 18:20:12\n",
      "End Time = 18:20:29\n"
     ]
    },
    {
     "name": "stderr",
     "output_type": "stream",
     "text": [
      "/tmp/ipykernel_364/3853139118.py:94: ParserWarning: Both a converter and dtype were specified for column SMILES - only the converter will be used.\n",
      "  for i,df in enumerate(activity_reader):\n",
      "/tmp/ipykernel_364/3853139118.py:94: ParserWarning: Both a converter and dtype were specified for column pchembl_value - only the converter will be used.\n",
      "  for i,df in enumerate(activity_reader):\n"
     ]
    },
    {
     "name": "stdout",
     "output_type": "stream",
     "text": [
      "35200000\n",
      "Start Time = 18:20:43\n",
      "End Time = 18:21:00\n"
     ]
    },
    {
     "name": "stderr",
     "output_type": "stream",
     "text": [
      "/tmp/ipykernel_364/3853139118.py:94: ParserWarning: Both a converter and dtype were specified for column SMILES - only the converter will be used.\n",
      "  for i,df in enumerate(activity_reader):\n",
      "/tmp/ipykernel_364/3853139118.py:94: ParserWarning: Both a converter and dtype were specified for column pchembl_value - only the converter will be used.\n",
      "  for i,df in enumerate(activity_reader):\n"
     ]
    },
    {
     "name": "stdout",
     "output_type": "stream",
     "text": [
      "35250000\n",
      "Start Time = 18:21:14\n",
      "End Time = 18:21:29\n"
     ]
    },
    {
     "name": "stderr",
     "output_type": "stream",
     "text": [
      "/tmp/ipykernel_364/3853139118.py:94: ParserWarning: Both a converter and dtype were specified for column SMILES - only the converter will be used.\n",
      "  for i,df in enumerate(activity_reader):\n",
      "/tmp/ipykernel_364/3853139118.py:94: ParserWarning: Both a converter and dtype were specified for column pchembl_value - only the converter will be used.\n",
      "  for i,df in enumerate(activity_reader):\n"
     ]
    },
    {
     "name": "stdout",
     "output_type": "stream",
     "text": [
      "35300000\n",
      "Start Time = 18:21:44\n",
      "End Time = 18:22:00\n"
     ]
    },
    {
     "name": "stderr",
     "output_type": "stream",
     "text": [
      "/tmp/ipykernel_364/3853139118.py:94: ParserWarning: Both a converter and dtype were specified for column SMILES - only the converter will be used.\n",
      "  for i,df in enumerate(activity_reader):\n",
      "/tmp/ipykernel_364/3853139118.py:94: ParserWarning: Both a converter and dtype were specified for column pchembl_value - only the converter will be used.\n",
      "  for i,df in enumerate(activity_reader):\n"
     ]
    },
    {
     "name": "stdout",
     "output_type": "stream",
     "text": [
      "35350000\n",
      "Start Time = 18:22:15\n",
      "End Time = 18:22:31\n"
     ]
    },
    {
     "name": "stderr",
     "output_type": "stream",
     "text": [
      "/tmp/ipykernel_364/3853139118.py:94: ParserWarning: Both a converter and dtype were specified for column SMILES - only the converter will be used.\n",
      "  for i,df in enumerate(activity_reader):\n",
      "/tmp/ipykernel_364/3853139118.py:94: ParserWarning: Both a converter and dtype were specified for column pchembl_value - only the converter will be used.\n",
      "  for i,df in enumerate(activity_reader):\n"
     ]
    },
    {
     "name": "stdout",
     "output_type": "stream",
     "text": [
      "35400000\n",
      "Start Time = 18:22:45\n",
      "End Time = 18:23:00\n"
     ]
    },
    {
     "name": "stderr",
     "output_type": "stream",
     "text": [
      "/tmp/ipykernel_364/3853139118.py:94: ParserWarning: Both a converter and dtype were specified for column SMILES - only the converter will be used.\n",
      "  for i,df in enumerate(activity_reader):\n",
      "/tmp/ipykernel_364/3853139118.py:94: ParserWarning: Both a converter and dtype were specified for column pchembl_value - only the converter will be used.\n",
      "  for i,df in enumerate(activity_reader):\n"
     ]
    },
    {
     "name": "stdout",
     "output_type": "stream",
     "text": [
      "35450000\n",
      "Start Time = 18:23:15\n",
      "End Time = 18:23:31\n"
     ]
    },
    {
     "name": "stderr",
     "output_type": "stream",
     "text": [
      "/tmp/ipykernel_364/3853139118.py:94: ParserWarning: Both a converter and dtype were specified for column SMILES - only the converter will be used.\n",
      "  for i,df in enumerate(activity_reader):\n",
      "/tmp/ipykernel_364/3853139118.py:94: ParserWarning: Both a converter and dtype were specified for column pchembl_value - only the converter will be used.\n",
      "  for i,df in enumerate(activity_reader):\n"
     ]
    },
    {
     "name": "stdout",
     "output_type": "stream",
     "text": [
      "35500000\n",
      "Start Time = 18:23:45\n",
      "End Time = 18:24:02\n"
     ]
    },
    {
     "name": "stderr",
     "output_type": "stream",
     "text": [
      "/tmp/ipykernel_364/3853139118.py:94: ParserWarning: Both a converter and dtype were specified for column SMILES - only the converter will be used.\n",
      "  for i,df in enumerate(activity_reader):\n",
      "/tmp/ipykernel_364/3853139118.py:94: ParserWarning: Both a converter and dtype were specified for column pchembl_value - only the converter will be used.\n",
      "  for i,df in enumerate(activity_reader):\n"
     ]
    },
    {
     "name": "stdout",
     "output_type": "stream",
     "text": [
      "35550000\n",
      "Start Time = 18:24:16\n",
      "End Time = 18:24:31\n"
     ]
    },
    {
     "name": "stderr",
     "output_type": "stream",
     "text": [
      "/tmp/ipykernel_364/3853139118.py:94: ParserWarning: Both a converter and dtype were specified for column SMILES - only the converter will be used.\n",
      "  for i,df in enumerate(activity_reader):\n",
      "/tmp/ipykernel_364/3853139118.py:94: ParserWarning: Both a converter and dtype were specified for column pchembl_value - only the converter will be used.\n",
      "  for i,df in enumerate(activity_reader):\n"
     ]
    },
    {
     "name": "stdout",
     "output_type": "stream",
     "text": [
      "35600000\n",
      "Start Time = 18:24:46\n",
      "End Time = 18:25:04\n"
     ]
    },
    {
     "name": "stderr",
     "output_type": "stream",
     "text": [
      "/tmp/ipykernel_364/3853139118.py:94: ParserWarning: Both a converter and dtype were specified for column SMILES - only the converter will be used.\n",
      "  for i,df in enumerate(activity_reader):\n",
      "/tmp/ipykernel_364/3853139118.py:94: ParserWarning: Both a converter and dtype were specified for column pchembl_value - only the converter will be used.\n",
      "  for i,df in enumerate(activity_reader):\n"
     ]
    },
    {
     "name": "stdout",
     "output_type": "stream",
     "text": [
      "35650000\n",
      "Start Time = 18:25:18\n",
      "End Time = 18:25:35\n"
     ]
    },
    {
     "name": "stderr",
     "output_type": "stream",
     "text": [
      "/tmp/ipykernel_364/3853139118.py:94: ParserWarning: Both a converter and dtype were specified for column SMILES - only the converter will be used.\n",
      "  for i,df in enumerate(activity_reader):\n",
      "/tmp/ipykernel_364/3853139118.py:94: ParserWarning: Both a converter and dtype were specified for column pchembl_value - only the converter will be used.\n",
      "  for i,df in enumerate(activity_reader):\n"
     ]
    },
    {
     "name": "stdout",
     "output_type": "stream",
     "text": [
      "35700000\n",
      "Start Time = 18:25:50\n",
      "End Time = 18:26:05\n"
     ]
    },
    {
     "name": "stderr",
     "output_type": "stream",
     "text": [
      "/tmp/ipykernel_364/3853139118.py:94: ParserWarning: Both a converter and dtype were specified for column SMILES - only the converter will be used.\n",
      "  for i,df in enumerate(activity_reader):\n",
      "/tmp/ipykernel_364/3853139118.py:94: ParserWarning: Both a converter and dtype were specified for column pchembl_value - only the converter will be used.\n",
      "  for i,df in enumerate(activity_reader):\n"
     ]
    },
    {
     "name": "stdout",
     "output_type": "stream",
     "text": [
      "35750000\n",
      "Start Time = 18:26:20\n",
      "End Time = 18:26:37\n"
     ]
    },
    {
     "name": "stderr",
     "output_type": "stream",
     "text": [
      "/tmp/ipykernel_364/3853139118.py:94: ParserWarning: Both a converter and dtype were specified for column SMILES - only the converter will be used.\n",
      "  for i,df in enumerate(activity_reader):\n",
      "/tmp/ipykernel_364/3853139118.py:94: ParserWarning: Both a converter and dtype were specified for column pchembl_value - only the converter will be used.\n",
      "  for i,df in enumerate(activity_reader):\n"
     ]
    },
    {
     "name": "stdout",
     "output_type": "stream",
     "text": [
      "35800000\n",
      "Start Time = 18:26:51\n",
      "End Time = 18:27:08\n"
     ]
    },
    {
     "name": "stderr",
     "output_type": "stream",
     "text": [
      "/tmp/ipykernel_364/3853139118.py:94: ParserWarning: Both a converter and dtype were specified for column SMILES - only the converter will be used.\n",
      "  for i,df in enumerate(activity_reader):\n",
      "/tmp/ipykernel_364/3853139118.py:94: ParserWarning: Both a converter and dtype were specified for column pchembl_value - only the converter will be used.\n",
      "  for i,df in enumerate(activity_reader):\n"
     ]
    },
    {
     "name": "stdout",
     "output_type": "stream",
     "text": [
      "35850000\n",
      "Start Time = 18:27:23\n",
      "End Time = 18:27:37\n"
     ]
    },
    {
     "name": "stderr",
     "output_type": "stream",
     "text": [
      "/tmp/ipykernel_364/3853139118.py:94: ParserWarning: Both a converter and dtype were specified for column SMILES - only the converter will be used.\n",
      "  for i,df in enumerate(activity_reader):\n",
      "/tmp/ipykernel_364/3853139118.py:94: ParserWarning: Both a converter and dtype were specified for column pchembl_value - only the converter will be used.\n",
      "  for i,df in enumerate(activity_reader):\n"
     ]
    },
    {
     "name": "stdout",
     "output_type": "stream",
     "text": [
      "35900000\n",
      "Start Time = 18:27:51\n",
      "End Time = 18:28:07\n"
     ]
    },
    {
     "name": "stderr",
     "output_type": "stream",
     "text": [
      "/tmp/ipykernel_364/3853139118.py:94: ParserWarning: Both a converter and dtype were specified for column SMILES - only the converter will be used.\n",
      "  for i,df in enumerate(activity_reader):\n",
      "/tmp/ipykernel_364/3853139118.py:94: ParserWarning: Both a converter and dtype were specified for column pchembl_value - only the converter will be used.\n",
      "  for i,df in enumerate(activity_reader):\n"
     ]
    },
    {
     "name": "stdout",
     "output_type": "stream",
     "text": [
      "35950000\n",
      "Start Time = 18:28:22\n",
      "End Time = 18:28:38\n"
     ]
    },
    {
     "name": "stderr",
     "output_type": "stream",
     "text": [
      "/tmp/ipykernel_364/3853139118.py:94: ParserWarning: Both a converter and dtype were specified for column SMILES - only the converter will be used.\n",
      "  for i,df in enumerate(activity_reader):\n",
      "/tmp/ipykernel_364/3853139118.py:94: ParserWarning: Both a converter and dtype were specified for column pchembl_value - only the converter will be used.\n",
      "  for i,df in enumerate(activity_reader):\n"
     ]
    },
    {
     "name": "stdout",
     "output_type": "stream",
     "text": [
      "36000000\n",
      "Start Time = 18:28:52\n",
      "End Time = 18:29:07\n"
     ]
    },
    {
     "name": "stderr",
     "output_type": "stream",
     "text": [
      "/tmp/ipykernel_364/3853139118.py:94: ParserWarning: Both a converter and dtype were specified for column SMILES - only the converter will be used.\n",
      "  for i,df in enumerate(activity_reader):\n",
      "/tmp/ipykernel_364/3853139118.py:94: ParserWarning: Both a converter and dtype were specified for column pchembl_value - only the converter will be used.\n",
      "  for i,df in enumerate(activity_reader):\n"
     ]
    },
    {
     "name": "stdout",
     "output_type": "stream",
     "text": [
      "36050000\n",
      "Start Time = 18:29:22\n",
      "End Time = 18:29:39\n"
     ]
    },
    {
     "name": "stderr",
     "output_type": "stream",
     "text": [
      "/tmp/ipykernel_364/3853139118.py:94: ParserWarning: Both a converter and dtype were specified for column SMILES - only the converter will be used.\n",
      "  for i,df in enumerate(activity_reader):\n",
      "/tmp/ipykernel_364/3853139118.py:94: ParserWarning: Both a converter and dtype were specified for column pchembl_value - only the converter will be used.\n",
      "  for i,df in enumerate(activity_reader):\n"
     ]
    },
    {
     "name": "stdout",
     "output_type": "stream",
     "text": [
      "36100000\n",
      "Start Time = 18:29:54\n",
      "End Time = 18:30:11\n"
     ]
    },
    {
     "name": "stderr",
     "output_type": "stream",
     "text": [
      "/tmp/ipykernel_364/3853139118.py:94: ParserWarning: Both a converter and dtype were specified for column SMILES - only the converter will be used.\n",
      "  for i,df in enumerate(activity_reader):\n",
      "/tmp/ipykernel_364/3853139118.py:94: ParserWarning: Both a converter and dtype were specified for column pchembl_value - only the converter will be used.\n",
      "  for i,df in enumerate(activity_reader):\n"
     ]
    },
    {
     "name": "stdout",
     "output_type": "stream",
     "text": [
      "36150000\n",
      "Start Time = 18:30:26\n",
      "End Time = 18:30:42\n"
     ]
    },
    {
     "name": "stderr",
     "output_type": "stream",
     "text": [
      "/tmp/ipykernel_364/3853139118.py:94: ParserWarning: Both a converter and dtype were specified for column SMILES - only the converter will be used.\n",
      "  for i,df in enumerate(activity_reader):\n",
      "/tmp/ipykernel_364/3853139118.py:94: ParserWarning: Both a converter and dtype were specified for column pchembl_value - only the converter will be used.\n",
      "  for i,df in enumerate(activity_reader):\n"
     ]
    },
    {
     "name": "stdout",
     "output_type": "stream",
     "text": [
      "36200000\n",
      "Start Time = 18:30:56\n",
      "End Time = 18:31:14\n"
     ]
    },
    {
     "name": "stderr",
     "output_type": "stream",
     "text": [
      "/tmp/ipykernel_364/3853139118.py:94: ParserWarning: Both a converter and dtype were specified for column SMILES - only the converter will be used.\n",
      "  for i,df in enumerate(activity_reader):\n",
      "/tmp/ipykernel_364/3853139118.py:94: ParserWarning: Both a converter and dtype were specified for column pchembl_value - only the converter will be used.\n",
      "  for i,df in enumerate(activity_reader):\n"
     ]
    },
    {
     "name": "stdout",
     "output_type": "stream",
     "text": [
      "36250000\n",
      "Start Time = 18:31:28\n",
      "End Time = 18:31:46\n"
     ]
    },
    {
     "name": "stderr",
     "output_type": "stream",
     "text": [
      "/tmp/ipykernel_364/3853139118.py:94: ParserWarning: Both a converter and dtype were specified for column SMILES - only the converter will be used.\n",
      "  for i,df in enumerate(activity_reader):\n",
      "/tmp/ipykernel_364/3853139118.py:94: ParserWarning: Both a converter and dtype were specified for column pchembl_value - only the converter will be used.\n",
      "  for i,df in enumerate(activity_reader):\n"
     ]
    },
    {
     "name": "stdout",
     "output_type": "stream",
     "text": [
      "36300000\n",
      "Start Time = 18:32:00\n",
      "End Time = 18:32:14\n"
     ]
    },
    {
     "name": "stderr",
     "output_type": "stream",
     "text": [
      "/tmp/ipykernel_364/3853139118.py:94: ParserWarning: Both a converter and dtype were specified for column SMILES - only the converter will be used.\n",
      "  for i,df in enumerate(activity_reader):\n",
      "/tmp/ipykernel_364/3853139118.py:94: ParserWarning: Both a converter and dtype were specified for column pchembl_value - only the converter will be used.\n",
      "  for i,df in enumerate(activity_reader):\n"
     ]
    },
    {
     "name": "stdout",
     "output_type": "stream",
     "text": [
      "36350000\n",
      "Start Time = 18:32:29\n",
      "End Time = 18:32:46\n"
     ]
    },
    {
     "name": "stderr",
     "output_type": "stream",
     "text": [
      "/tmp/ipykernel_364/3853139118.py:94: ParserWarning: Both a converter and dtype were specified for column SMILES - only the converter will be used.\n",
      "  for i,df in enumerate(activity_reader):\n",
      "/tmp/ipykernel_364/3853139118.py:94: ParserWarning: Both a converter and dtype were specified for column pchembl_value - only the converter will be used.\n",
      "  for i,df in enumerate(activity_reader):\n"
     ]
    },
    {
     "name": "stdout",
     "output_type": "stream",
     "text": [
      "36400000\n",
      "Start Time = 18:33:00\n",
      "End Time = 18:33:17\n"
     ]
    },
    {
     "name": "stderr",
     "output_type": "stream",
     "text": [
      "/tmp/ipykernel_364/3853139118.py:94: ParserWarning: Both a converter and dtype were specified for column SMILES - only the converter will be used.\n",
      "  for i,df in enumerate(activity_reader):\n",
      "/tmp/ipykernel_364/3853139118.py:94: ParserWarning: Both a converter and dtype were specified for column pchembl_value - only the converter will be used.\n",
      "  for i,df in enumerate(activity_reader):\n"
     ]
    },
    {
     "name": "stdout",
     "output_type": "stream",
     "text": [
      "36450000\n",
      "Start Time = 18:33:32\n",
      "End Time = 18:33:46\n"
     ]
    },
    {
     "name": "stderr",
     "output_type": "stream",
     "text": [
      "/tmp/ipykernel_364/3853139118.py:94: ParserWarning: Both a converter and dtype were specified for column SMILES - only the converter will be used.\n",
      "  for i,df in enumerate(activity_reader):\n",
      "/tmp/ipykernel_364/3853139118.py:94: ParserWarning: Both a converter and dtype were specified for column pchembl_value - only the converter will be used.\n",
      "  for i,df in enumerate(activity_reader):\n"
     ]
    },
    {
     "name": "stdout",
     "output_type": "stream",
     "text": [
      "36500000\n",
      "Start Time = 18:34:01\n",
      "End Time = 18:34:18\n"
     ]
    },
    {
     "name": "stderr",
     "output_type": "stream",
     "text": [
      "/tmp/ipykernel_364/3853139118.py:94: ParserWarning: Both a converter and dtype were specified for column SMILES - only the converter will be used.\n",
      "  for i,df in enumerate(activity_reader):\n",
      "/tmp/ipykernel_364/3853139118.py:94: ParserWarning: Both a converter and dtype were specified for column pchembl_value - only the converter will be used.\n",
      "  for i,df in enumerate(activity_reader):\n"
     ]
    },
    {
     "name": "stdout",
     "output_type": "stream",
     "text": [
      "36550000\n",
      "Start Time = 18:34:32\n",
      "End Time = 18:34:48\n"
     ]
    },
    {
     "name": "stderr",
     "output_type": "stream",
     "text": [
      "/tmp/ipykernel_364/3853139118.py:94: ParserWarning: Both a converter and dtype were specified for column SMILES - only the converter will be used.\n",
      "  for i,df in enumerate(activity_reader):\n",
      "/tmp/ipykernel_364/3853139118.py:94: ParserWarning: Both a converter and dtype were specified for column pchembl_value - only the converter will be used.\n",
      "  for i,df in enumerate(activity_reader):\n"
     ]
    },
    {
     "name": "stdout",
     "output_type": "stream",
     "text": [
      "36600000\n",
      "Start Time = 18:35:03\n",
      "End Time = 18:35:18\n"
     ]
    },
    {
     "name": "stderr",
     "output_type": "stream",
     "text": [
      "/tmp/ipykernel_364/3853139118.py:94: ParserWarning: Both a converter and dtype were specified for column SMILES - only the converter will be used.\n",
      "  for i,df in enumerate(activity_reader):\n",
      "/tmp/ipykernel_364/3853139118.py:94: ParserWarning: Both a converter and dtype were specified for column pchembl_value - only the converter will be used.\n",
      "  for i,df in enumerate(activity_reader):\n"
     ]
    },
    {
     "name": "stdout",
     "output_type": "stream",
     "text": [
      "36650000\n",
      "Start Time = 18:35:32\n",
      "End Time = 18:35:48\n"
     ]
    },
    {
     "name": "stderr",
     "output_type": "stream",
     "text": [
      "/tmp/ipykernel_364/3853139118.py:94: ParserWarning: Both a converter and dtype were specified for column SMILES - only the converter will be used.\n",
      "  for i,df in enumerate(activity_reader):\n",
      "/tmp/ipykernel_364/3853139118.py:94: ParserWarning: Both a converter and dtype were specified for column pchembl_value - only the converter will be used.\n",
      "  for i,df in enumerate(activity_reader):\n"
     ]
    },
    {
     "name": "stdout",
     "output_type": "stream",
     "text": [
      "36700000\n",
      "Start Time = 18:36:03\n",
      "End Time = 18:36:20\n"
     ]
    },
    {
     "name": "stderr",
     "output_type": "stream",
     "text": [
      "/tmp/ipykernel_364/3853139118.py:94: ParserWarning: Both a converter and dtype were specified for column SMILES - only the converter will be used.\n",
      "  for i,df in enumerate(activity_reader):\n",
      "/tmp/ipykernel_364/3853139118.py:94: ParserWarning: Both a converter and dtype were specified for column pchembl_value - only the converter will be used.\n",
      "  for i,df in enumerate(activity_reader):\n"
     ]
    },
    {
     "name": "stdout",
     "output_type": "stream",
     "text": [
      "36750000\n",
      "Start Time = 18:36:35\n",
      "End Time = 18:36:49\n"
     ]
    },
    {
     "name": "stderr",
     "output_type": "stream",
     "text": [
      "/tmp/ipykernel_364/3853139118.py:94: ParserWarning: Both a converter and dtype were specified for column SMILES - only the converter will be used.\n",
      "  for i,df in enumerate(activity_reader):\n",
      "/tmp/ipykernel_364/3853139118.py:94: ParserWarning: Both a converter and dtype were specified for column pchembl_value - only the converter will be used.\n",
      "  for i,df in enumerate(activity_reader):\n"
     ]
    },
    {
     "name": "stdout",
     "output_type": "stream",
     "text": [
      "36800000\n",
      "Start Time = 18:37:03\n",
      "End Time = 18:37:20\n"
     ]
    },
    {
     "name": "stderr",
     "output_type": "stream",
     "text": [
      "/tmp/ipykernel_364/3853139118.py:94: ParserWarning: Both a converter and dtype were specified for column SMILES - only the converter will be used.\n",
      "  for i,df in enumerate(activity_reader):\n",
      "/tmp/ipykernel_364/3853139118.py:94: ParserWarning: Both a converter and dtype were specified for column pchembl_value - only the converter will be used.\n",
      "  for i,df in enumerate(activity_reader):\n"
     ]
    },
    {
     "name": "stdout",
     "output_type": "stream",
     "text": [
      "36850000\n",
      "Start Time = 18:37:34\n",
      "End Time = 18:37:51\n"
     ]
    },
    {
     "name": "stderr",
     "output_type": "stream",
     "text": [
      "/tmp/ipykernel_364/3853139118.py:94: ParserWarning: Both a converter and dtype were specified for column SMILES - only the converter will be used.\n",
      "  for i,df in enumerate(activity_reader):\n",
      "/tmp/ipykernel_364/3853139118.py:94: ParserWarning: Both a converter and dtype were specified for column pchembl_value - only the converter will be used.\n",
      "  for i,df in enumerate(activity_reader):\n"
     ]
    },
    {
     "name": "stdout",
     "output_type": "stream",
     "text": [
      "36900000\n",
      "Start Time = 18:38:06\n",
      "End Time = 18:38:21\n"
     ]
    },
    {
     "name": "stderr",
     "output_type": "stream",
     "text": [
      "/tmp/ipykernel_364/3853139118.py:94: ParserWarning: Both a converter and dtype were specified for column SMILES - only the converter will be used.\n",
      "  for i,df in enumerate(activity_reader):\n",
      "/tmp/ipykernel_364/3853139118.py:94: ParserWarning: Both a converter and dtype were specified for column pchembl_value - only the converter will be used.\n",
      "  for i,df in enumerate(activity_reader):\n"
     ]
    },
    {
     "name": "stdout",
     "output_type": "stream",
     "text": [
      "36950000\n",
      "Start Time = 18:38:34\n",
      "End Time = 18:38:52\n"
     ]
    },
    {
     "name": "stderr",
     "output_type": "stream",
     "text": [
      "/tmp/ipykernel_364/3853139118.py:94: ParserWarning: Both a converter and dtype were specified for column SMILES - only the converter will be used.\n",
      "  for i,df in enumerate(activity_reader):\n",
      "/tmp/ipykernel_364/3853139118.py:94: ParserWarning: Both a converter and dtype were specified for column pchembl_value - only the converter will be used.\n",
      "  for i,df in enumerate(activity_reader):\n"
     ]
    },
    {
     "name": "stdout",
     "output_type": "stream",
     "text": [
      "37000000\n",
      "Start Time = 18:39:07\n",
      "End Time = 18:39:24\n"
     ]
    },
    {
     "name": "stderr",
     "output_type": "stream",
     "text": [
      "/tmp/ipykernel_364/3853139118.py:94: ParserWarning: Both a converter and dtype were specified for column SMILES - only the converter will be used.\n",
      "  for i,df in enumerate(activity_reader):\n",
      "/tmp/ipykernel_364/3853139118.py:94: ParserWarning: Both a converter and dtype were specified for column pchembl_value - only the converter will be used.\n",
      "  for i,df in enumerate(activity_reader):\n"
     ]
    },
    {
     "name": "stdout",
     "output_type": "stream",
     "text": [
      "37050000\n",
      "Start Time = 18:39:39\n",
      "End Time = 18:39:54\n"
     ]
    },
    {
     "name": "stderr",
     "output_type": "stream",
     "text": [
      "/tmp/ipykernel_364/3853139118.py:94: ParserWarning: Both a converter and dtype were specified for column SMILES - only the converter will be used.\n",
      "  for i,df in enumerate(activity_reader):\n",
      "/tmp/ipykernel_364/3853139118.py:94: ParserWarning: Both a converter and dtype were specified for column pchembl_value - only the converter will be used.\n",
      "  for i,df in enumerate(activity_reader):\n"
     ]
    },
    {
     "name": "stdout",
     "output_type": "stream",
     "text": [
      "37100000\n",
      "Start Time = 18:40:08\n",
      "End Time = 18:40:25\n"
     ]
    },
    {
     "name": "stderr",
     "output_type": "stream",
     "text": [
      "/tmp/ipykernel_364/3853139118.py:94: ParserWarning: Both a converter and dtype were specified for column SMILES - only the converter will be used.\n",
      "  for i,df in enumerate(activity_reader):\n",
      "/tmp/ipykernel_364/3853139118.py:94: ParserWarning: Both a converter and dtype were specified for column pchembl_value - only the converter will be used.\n",
      "  for i,df in enumerate(activity_reader):\n"
     ]
    },
    {
     "name": "stdout",
     "output_type": "stream",
     "text": [
      "37150000\n",
      "Start Time = 18:40:39\n",
      "End Time = 18:40:56\n"
     ]
    },
    {
     "name": "stderr",
     "output_type": "stream",
     "text": [
      "/tmp/ipykernel_364/3853139118.py:94: ParserWarning: Both a converter and dtype were specified for column SMILES - only the converter will be used.\n",
      "  for i,df in enumerate(activity_reader):\n",
      "/tmp/ipykernel_364/3853139118.py:94: ParserWarning: Both a converter and dtype were specified for column pchembl_value - only the converter will be used.\n",
      "  for i,df in enumerate(activity_reader):\n"
     ]
    },
    {
     "name": "stdout",
     "output_type": "stream",
     "text": [
      "37200000\n",
      "Start Time = 18:41:10\n",
      "End Time = 18:41:25\n"
     ]
    },
    {
     "name": "stderr",
     "output_type": "stream",
     "text": [
      "/tmp/ipykernel_364/3853139118.py:94: ParserWarning: Both a converter and dtype were specified for column SMILES - only the converter will be used.\n",
      "  for i,df in enumerate(activity_reader):\n",
      "/tmp/ipykernel_364/3853139118.py:94: ParserWarning: Both a converter and dtype were specified for column pchembl_value - only the converter will be used.\n",
      "  for i,df in enumerate(activity_reader):\n"
     ]
    },
    {
     "name": "stdout",
     "output_type": "stream",
     "text": [
      "37250000\n",
      "Start Time = 18:41:39\n",
      "End Time = 18:41:55\n"
     ]
    },
    {
     "name": "stderr",
     "output_type": "stream",
     "text": [
      "/tmp/ipykernel_364/3853139118.py:94: ParserWarning: Both a converter and dtype were specified for column SMILES - only the converter will be used.\n",
      "  for i,df in enumerate(activity_reader):\n",
      "/tmp/ipykernel_364/3853139118.py:94: ParserWarning: Both a converter and dtype were specified for column pchembl_value - only the converter will be used.\n",
      "  for i,df in enumerate(activity_reader):\n"
     ]
    },
    {
     "name": "stdout",
     "output_type": "stream",
     "text": [
      "37300000\n",
      "Start Time = 18:42:10\n",
      "End Time = 18:42:26\n"
     ]
    },
    {
     "name": "stderr",
     "output_type": "stream",
     "text": [
      "/tmp/ipykernel_364/3853139118.py:94: ParserWarning: Both a converter and dtype were specified for column SMILES - only the converter will be used.\n",
      "  for i,df in enumerate(activity_reader):\n",
      "/tmp/ipykernel_364/3853139118.py:94: ParserWarning: Both a converter and dtype were specified for column pchembl_value - only the converter will be used.\n",
      "  for i,df in enumerate(activity_reader):\n"
     ]
    },
    {
     "name": "stdout",
     "output_type": "stream",
     "text": [
      "37350000\n",
      "Start Time = 18:42:40\n",
      "End Time = 18:42:55\n"
     ]
    },
    {
     "name": "stderr",
     "output_type": "stream",
     "text": [
      "/tmp/ipykernel_364/3853139118.py:94: ParserWarning: Both a converter and dtype were specified for column SMILES - only the converter will be used.\n",
      "  for i,df in enumerate(activity_reader):\n",
      "/tmp/ipykernel_364/3853139118.py:94: ParserWarning: Both a converter and dtype were specified for column pchembl_value - only the converter will be used.\n",
      "  for i,df in enumerate(activity_reader):\n"
     ]
    },
    {
     "name": "stdout",
     "output_type": "stream",
     "text": [
      "37400000\n",
      "Start Time = 18:43:09\n",
      "End Time = 18:43:25\n"
     ]
    },
    {
     "name": "stderr",
     "output_type": "stream",
     "text": [
      "/tmp/ipykernel_364/3853139118.py:94: ParserWarning: Both a converter and dtype were specified for column SMILES - only the converter will be used.\n",
      "  for i,df in enumerate(activity_reader):\n",
      "/tmp/ipykernel_364/3853139118.py:94: ParserWarning: Both a converter and dtype were specified for column pchembl_value - only the converter will be used.\n",
      "  for i,df in enumerate(activity_reader):\n"
     ]
    },
    {
     "name": "stdout",
     "output_type": "stream",
     "text": [
      "37450000\n",
      "Start Time = 18:43:40\n",
      "End Time = 18:43:58\n"
     ]
    },
    {
     "name": "stderr",
     "output_type": "stream",
     "text": [
      "/tmp/ipykernel_364/3853139118.py:94: ParserWarning: Both a converter and dtype were specified for column SMILES - only the converter will be used.\n",
      "  for i,df in enumerate(activity_reader):\n",
      "/tmp/ipykernel_364/3853139118.py:94: ParserWarning: Both a converter and dtype were specified for column pchembl_value - only the converter will be used.\n",
      "  for i,df in enumerate(activity_reader):\n"
     ]
    },
    {
     "name": "stdout",
     "output_type": "stream",
     "text": [
      "37500000\n",
      "Start Time = 18:44:13\n",
      "End Time = 18:44:28\n"
     ]
    },
    {
     "name": "stderr",
     "output_type": "stream",
     "text": [
      "/tmp/ipykernel_364/3853139118.py:94: ParserWarning: Both a converter and dtype were specified for column SMILES - only the converter will be used.\n",
      "  for i,df in enumerate(activity_reader):\n",
      "/tmp/ipykernel_364/3853139118.py:94: ParserWarning: Both a converter and dtype were specified for column pchembl_value - only the converter will be used.\n",
      "  for i,df in enumerate(activity_reader):\n"
     ]
    },
    {
     "name": "stdout",
     "output_type": "stream",
     "text": [
      "37550000\n",
      "Start Time = 18:44:42\n",
      "End Time = 18:45:00\n"
     ]
    },
    {
     "name": "stderr",
     "output_type": "stream",
     "text": [
      "/tmp/ipykernel_364/3853139118.py:94: ParserWarning: Both a converter and dtype were specified for column SMILES - only the converter will be used.\n",
      "  for i,df in enumerate(activity_reader):\n",
      "/tmp/ipykernel_364/3853139118.py:94: ParserWarning: Both a converter and dtype were specified for column pchembl_value - only the converter will be used.\n",
      "  for i,df in enumerate(activity_reader):\n"
     ]
    },
    {
     "name": "stdout",
     "output_type": "stream",
     "text": [
      "37600000\n",
      "Start Time = 18:45:14\n",
      "End Time = 18:45:31\n"
     ]
    },
    {
     "name": "stderr",
     "output_type": "stream",
     "text": [
      "/tmp/ipykernel_364/3853139118.py:94: ParserWarning: Both a converter and dtype were specified for column SMILES - only the converter will be used.\n",
      "  for i,df in enumerate(activity_reader):\n",
      "/tmp/ipykernel_364/3853139118.py:94: ParserWarning: Both a converter and dtype were specified for column pchembl_value - only the converter will be used.\n",
      "  for i,df in enumerate(activity_reader):\n"
     ]
    },
    {
     "name": "stdout",
     "output_type": "stream",
     "text": [
      "37650000\n",
      "Start Time = 18:45:46\n",
      "End Time = 18:46:01\n"
     ]
    },
    {
     "name": "stderr",
     "output_type": "stream",
     "text": [
      "/tmp/ipykernel_364/3853139118.py:94: ParserWarning: Both a converter and dtype were specified for column SMILES - only the converter will be used.\n",
      "  for i,df in enumerate(activity_reader):\n",
      "/tmp/ipykernel_364/3853139118.py:94: ParserWarning: Both a converter and dtype were specified for column pchembl_value - only the converter will be used.\n",
      "  for i,df in enumerate(activity_reader):\n"
     ]
    },
    {
     "name": "stdout",
     "output_type": "stream",
     "text": [
      "37700000\n",
      "Start Time = 18:46:15\n",
      "End Time = 18:46:32\n"
     ]
    },
    {
     "name": "stderr",
     "output_type": "stream",
     "text": [
      "/tmp/ipykernel_364/3853139118.py:94: ParserWarning: Both a converter and dtype were specified for column SMILES - only the converter will be used.\n",
      "  for i,df in enumerate(activity_reader):\n",
      "/tmp/ipykernel_364/3853139118.py:94: ParserWarning: Both a converter and dtype were specified for column pchembl_value - only the converter will be used.\n",
      "  for i,df in enumerate(activity_reader):\n"
     ]
    },
    {
     "name": "stdout",
     "output_type": "stream",
     "text": [
      "37750000\n",
      "Start Time = 18:46:46\n",
      "End Time = 18:47:02\n"
     ]
    },
    {
     "name": "stderr",
     "output_type": "stream",
     "text": [
      "/tmp/ipykernel_364/3853139118.py:94: ParserWarning: Both a converter and dtype were specified for column SMILES - only the converter will be used.\n",
      "  for i,df in enumerate(activity_reader):\n",
      "/tmp/ipykernel_364/3853139118.py:94: ParserWarning: Both a converter and dtype were specified for column pchembl_value - only the converter will be used.\n",
      "  for i,df in enumerate(activity_reader):\n"
     ]
    },
    {
     "name": "stdout",
     "output_type": "stream",
     "text": [
      "37800000\n",
      "Start Time = 18:47:17\n",
      "End Time = 18:47:32\n"
     ]
    },
    {
     "name": "stderr",
     "output_type": "stream",
     "text": [
      "/tmp/ipykernel_364/3853139118.py:94: ParserWarning: Both a converter and dtype were specified for column SMILES - only the converter will be used.\n",
      "  for i,df in enumerate(activity_reader):\n",
      "/tmp/ipykernel_364/3853139118.py:94: ParserWarning: Both a converter and dtype were specified for column pchembl_value - only the converter will be used.\n",
      "  for i,df in enumerate(activity_reader):\n"
     ]
    },
    {
     "name": "stdout",
     "output_type": "stream",
     "text": [
      "37850000\n",
      "Start Time = 18:47:47\n",
      "End Time = 18:48:04\n"
     ]
    },
    {
     "name": "stderr",
     "output_type": "stream",
     "text": [
      "/tmp/ipykernel_364/3853139118.py:94: ParserWarning: Both a converter and dtype were specified for column SMILES - only the converter will be used.\n",
      "  for i,df in enumerate(activity_reader):\n",
      "/tmp/ipykernel_364/3853139118.py:94: ParserWarning: Both a converter and dtype were specified for column pchembl_value - only the converter will be used.\n",
      "  for i,df in enumerate(activity_reader):\n"
     ]
    },
    {
     "name": "stdout",
     "output_type": "stream",
     "text": [
      "37900000\n",
      "Start Time = 18:48:18\n",
      "End Time = 18:48:36\n"
     ]
    },
    {
     "name": "stderr",
     "output_type": "stream",
     "text": [
      "/tmp/ipykernel_364/3853139118.py:94: ParserWarning: Both a converter and dtype were specified for column SMILES - only the converter will be used.\n",
      "  for i,df in enumerate(activity_reader):\n",
      "/tmp/ipykernel_364/3853139118.py:94: ParserWarning: Both a converter and dtype were specified for column pchembl_value - only the converter will be used.\n",
      "  for i,df in enumerate(activity_reader):\n"
     ]
    },
    {
     "name": "stdout",
     "output_type": "stream",
     "text": [
      "37950000\n",
      "Start Time = 18:48:50\n",
      "End Time = 18:49:05\n"
     ]
    },
    {
     "name": "stderr",
     "output_type": "stream",
     "text": [
      "/tmp/ipykernel_364/3853139118.py:94: ParserWarning: Both a converter and dtype were specified for column SMILES - only the converter will be used.\n",
      "  for i,df in enumerate(activity_reader):\n",
      "/tmp/ipykernel_364/3853139118.py:94: ParserWarning: Both a converter and dtype were specified for column pchembl_value - only the converter will be used.\n",
      "  for i,df in enumerate(activity_reader):\n"
     ]
    },
    {
     "name": "stdout",
     "output_type": "stream",
     "text": [
      "38000000\n",
      "Start Time = 18:49:21\n",
      "End Time = 18:49:38\n"
     ]
    },
    {
     "name": "stderr",
     "output_type": "stream",
     "text": [
      "/tmp/ipykernel_364/3853139118.py:94: ParserWarning: Both a converter and dtype were specified for column SMILES - only the converter will be used.\n",
      "  for i,df in enumerate(activity_reader):\n",
      "/tmp/ipykernel_364/3853139118.py:94: ParserWarning: Both a converter and dtype were specified for column pchembl_value - only the converter will be used.\n",
      "  for i,df in enumerate(activity_reader):\n"
     ]
    },
    {
     "name": "stdout",
     "output_type": "stream",
     "text": [
      "38050000\n",
      "Start Time = 18:49:53\n",
      "End Time = 18:50:10\n"
     ]
    },
    {
     "name": "stderr",
     "output_type": "stream",
     "text": [
      "/tmp/ipykernel_364/3853139118.py:94: ParserWarning: Both a converter and dtype were specified for column SMILES - only the converter will be used.\n",
      "  for i,df in enumerate(activity_reader):\n",
      "/tmp/ipykernel_364/3853139118.py:94: ParserWarning: Both a converter and dtype were specified for column pchembl_value - only the converter will be used.\n",
      "  for i,df in enumerate(activity_reader):\n"
     ]
    },
    {
     "name": "stdout",
     "output_type": "stream",
     "text": [
      "38100000\n",
      "Start Time = 18:50:24\n",
      "End Time = 18:50:39\n"
     ]
    },
    {
     "name": "stderr",
     "output_type": "stream",
     "text": [
      "/tmp/ipykernel_364/3853139118.py:94: ParserWarning: Both a converter and dtype were specified for column SMILES - only the converter will be used.\n",
      "  for i,df in enumerate(activity_reader):\n",
      "/tmp/ipykernel_364/3853139118.py:94: ParserWarning: Both a converter and dtype were specified for column pchembl_value - only the converter will be used.\n",
      "  for i,df in enumerate(activity_reader):\n"
     ]
    },
    {
     "name": "stdout",
     "output_type": "stream",
     "text": [
      "38150000\n",
      "Start Time = 18:50:53\n",
      "End Time = 18:51:10\n"
     ]
    },
    {
     "name": "stderr",
     "output_type": "stream",
     "text": [
      "/tmp/ipykernel_364/3853139118.py:94: ParserWarning: Both a converter and dtype were specified for column SMILES - only the converter will be used.\n",
      "  for i,df in enumerate(activity_reader):\n",
      "/tmp/ipykernel_364/3853139118.py:94: ParserWarning: Both a converter and dtype were specified for column pchembl_value - only the converter will be used.\n",
      "  for i,df in enumerate(activity_reader):\n"
     ]
    },
    {
     "name": "stdout",
     "output_type": "stream",
     "text": [
      "38200000\n",
      "Start Time = 18:51:24\n",
      "End Time = 18:51:40\n"
     ]
    },
    {
     "name": "stderr",
     "output_type": "stream",
     "text": [
      "/tmp/ipykernel_364/3853139118.py:94: ParserWarning: Both a converter and dtype were specified for column SMILES - only the converter will be used.\n",
      "  for i,df in enumerate(activity_reader):\n",
      "/tmp/ipykernel_364/3853139118.py:94: ParserWarning: Both a converter and dtype were specified for column pchembl_value - only the converter will be used.\n",
      "  for i,df in enumerate(activity_reader):\n"
     ]
    },
    {
     "name": "stdout",
     "output_type": "stream",
     "text": [
      "38250000\n",
      "Start Time = 18:51:55\n",
      "End Time = 18:52:09\n"
     ]
    },
    {
     "name": "stderr",
     "output_type": "stream",
     "text": [
      "/tmp/ipykernel_364/3853139118.py:94: ParserWarning: Both a converter and dtype were specified for column SMILES - only the converter will be used.\n",
      "  for i,df in enumerate(activity_reader):\n",
      "/tmp/ipykernel_364/3853139118.py:94: ParserWarning: Both a converter and dtype were specified for column pchembl_value - only the converter will be used.\n",
      "  for i,df in enumerate(activity_reader):\n"
     ]
    },
    {
     "name": "stdout",
     "output_type": "stream",
     "text": [
      "38300000\n",
      "Start Time = 18:52:23\n",
      "End Time = 18:52:40\n"
     ]
    },
    {
     "name": "stderr",
     "output_type": "stream",
     "text": [
      "/tmp/ipykernel_364/3853139118.py:94: ParserWarning: Both a converter and dtype were specified for column SMILES - only the converter will be used.\n",
      "  for i,df in enumerate(activity_reader):\n",
      "/tmp/ipykernel_364/3853139118.py:94: ParserWarning: Both a converter and dtype were specified for column pchembl_value - only the converter will be used.\n",
      "  for i,df in enumerate(activity_reader):\n"
     ]
    },
    {
     "name": "stdout",
     "output_type": "stream",
     "text": [
      "38350000\n",
      "Start Time = 18:52:54\n",
      "End Time = 18:53:11\n"
     ]
    },
    {
     "name": "stderr",
     "output_type": "stream",
     "text": [
      "/tmp/ipykernel_364/3853139118.py:94: ParserWarning: Both a converter and dtype were specified for column SMILES - only the converter will be used.\n",
      "  for i,df in enumerate(activity_reader):\n",
      "/tmp/ipykernel_364/3853139118.py:94: ParserWarning: Both a converter and dtype were specified for column pchembl_value - only the converter will be used.\n",
      "  for i,df in enumerate(activity_reader):\n"
     ]
    },
    {
     "name": "stdout",
     "output_type": "stream",
     "text": [
      "38400000\n",
      "Start Time = 18:53:26\n",
      "End Time = 18:53:41\n"
     ]
    },
    {
     "name": "stderr",
     "output_type": "stream",
     "text": [
      "/tmp/ipykernel_364/3853139118.py:94: ParserWarning: Both a converter and dtype were specified for column SMILES - only the converter will be used.\n",
      "  for i,df in enumerate(activity_reader):\n",
      "/tmp/ipykernel_364/3853139118.py:94: ParserWarning: Both a converter and dtype were specified for column pchembl_value - only the converter will be used.\n",
      "  for i,df in enumerate(activity_reader):\n"
     ]
    },
    {
     "name": "stdout",
     "output_type": "stream",
     "text": [
      "38450000\n",
      "Start Time = 18:53:55\n",
      "End Time = 18:54:12\n"
     ]
    },
    {
     "name": "stderr",
     "output_type": "stream",
     "text": [
      "/tmp/ipykernel_364/3853139118.py:94: ParserWarning: Both a converter and dtype were specified for column SMILES - only the converter will be used.\n",
      "  for i,df in enumerate(activity_reader):\n",
      "/tmp/ipykernel_364/3853139118.py:94: ParserWarning: Both a converter and dtype were specified for column pchembl_value - only the converter will be used.\n",
      "  for i,df in enumerate(activity_reader):\n"
     ]
    },
    {
     "name": "stdout",
     "output_type": "stream",
     "text": [
      "38500000\n",
      "Start Time = 18:54:27\n",
      "End Time = 18:54:43\n"
     ]
    },
    {
     "name": "stderr",
     "output_type": "stream",
     "text": [
      "/tmp/ipykernel_364/3853139118.py:94: ParserWarning: Both a converter and dtype were specified for column SMILES - only the converter will be used.\n",
      "  for i,df in enumerate(activity_reader):\n",
      "/tmp/ipykernel_364/3853139118.py:94: ParserWarning: Both a converter and dtype were specified for column pchembl_value - only the converter will be used.\n",
      "  for i,df in enumerate(activity_reader):\n"
     ]
    },
    {
     "name": "stdout",
     "output_type": "stream",
     "text": [
      "38550000\n",
      "Start Time = 18:54:57\n",
      "End Time = 18:55:12\n"
     ]
    },
    {
     "name": "stderr",
     "output_type": "stream",
     "text": [
      "/tmp/ipykernel_364/3853139118.py:94: ParserWarning: Both a converter and dtype were specified for column SMILES - only the converter will be used.\n",
      "  for i,df in enumerate(activity_reader):\n",
      "/tmp/ipykernel_364/3853139118.py:94: ParserWarning: Both a converter and dtype were specified for column pchembl_value - only the converter will be used.\n",
      "  for i,df in enumerate(activity_reader):\n"
     ]
    },
    {
     "name": "stdout",
     "output_type": "stream",
     "text": [
      "38600000\n",
      "Start Time = 18:55:27\n",
      "End Time = 18:55:43\n"
     ]
    },
    {
     "name": "stderr",
     "output_type": "stream",
     "text": [
      "/tmp/ipykernel_364/3853139118.py:94: ParserWarning: Both a converter and dtype were specified for column SMILES - only the converter will be used.\n",
      "  for i,df in enumerate(activity_reader):\n",
      "/tmp/ipykernel_364/3853139118.py:94: ParserWarning: Both a converter and dtype were specified for column pchembl_value - only the converter will be used.\n",
      "  for i,df in enumerate(activity_reader):\n"
     ]
    },
    {
     "name": "stdout",
     "output_type": "stream",
     "text": [
      "38650000\n",
      "Start Time = 18:55:58\n",
      "End Time = 18:56:14\n"
     ]
    },
    {
     "name": "stderr",
     "output_type": "stream",
     "text": [
      "/tmp/ipykernel_364/3853139118.py:94: ParserWarning: Both a converter and dtype were specified for column SMILES - only the converter will be used.\n",
      "  for i,df in enumerate(activity_reader):\n",
      "/tmp/ipykernel_364/3853139118.py:94: ParserWarning: Both a converter and dtype were specified for column pchembl_value - only the converter will be used.\n",
      "  for i,df in enumerate(activity_reader):\n"
     ]
    },
    {
     "name": "stdout",
     "output_type": "stream",
     "text": [
      "38700000\n",
      "Start Time = 18:56:29\n",
      "End Time = 18:56:44\n"
     ]
    },
    {
     "name": "stderr",
     "output_type": "stream",
     "text": [
      "/tmp/ipykernel_364/3853139118.py:94: ParserWarning: Both a converter and dtype were specified for column SMILES - only the converter will be used.\n",
      "  for i,df in enumerate(activity_reader):\n",
      "/tmp/ipykernel_364/3853139118.py:94: ParserWarning: Both a converter and dtype were specified for column pchembl_value - only the converter will be used.\n",
      "  for i,df in enumerate(activity_reader):\n"
     ]
    },
    {
     "name": "stdout",
     "output_type": "stream",
     "text": [
      "38750000\n",
      "Start Time = 18:56:58\n",
      "End Time = 18:57:15\n"
     ]
    },
    {
     "name": "stderr",
     "output_type": "stream",
     "text": [
      "/tmp/ipykernel_364/3853139118.py:94: ParserWarning: Both a converter and dtype were specified for column SMILES - only the converter will be used.\n",
      "  for i,df in enumerate(activity_reader):\n",
      "/tmp/ipykernel_364/3853139118.py:94: ParserWarning: Both a converter and dtype were specified for column pchembl_value - only the converter will be used.\n",
      "  for i,df in enumerate(activity_reader):\n"
     ]
    },
    {
     "name": "stdout",
     "output_type": "stream",
     "text": [
      "38800000\n",
      "Start Time = 18:57:30\n",
      "End Time = 18:57:47\n"
     ]
    },
    {
     "name": "stderr",
     "output_type": "stream",
     "text": [
      "/tmp/ipykernel_364/3853139118.py:94: ParserWarning: Both a converter and dtype were specified for column SMILES - only the converter will be used.\n",
      "  for i,df in enumerate(activity_reader):\n",
      "/tmp/ipykernel_364/3853139118.py:94: ParserWarning: Both a converter and dtype were specified for column pchembl_value - only the converter will be used.\n",
      "  for i,df in enumerate(activity_reader):\n"
     ]
    },
    {
     "name": "stdout",
     "output_type": "stream",
     "text": [
      "38850000\n",
      "Start Time = 18:58:01\n",
      "End Time = 18:58:16\n"
     ]
    },
    {
     "name": "stderr",
     "output_type": "stream",
     "text": [
      "/tmp/ipykernel_364/3853139118.py:94: ParserWarning: Both a converter and dtype were specified for column SMILES - only the converter will be used.\n",
      "  for i,df in enumerate(activity_reader):\n",
      "/tmp/ipykernel_364/3853139118.py:94: ParserWarning: Both a converter and dtype were specified for column pchembl_value - only the converter will be used.\n",
      "  for i,df in enumerate(activity_reader):\n"
     ]
    },
    {
     "name": "stdout",
     "output_type": "stream",
     "text": [
      "38900000\n",
      "Start Time = 18:58:31\n",
      "End Time = 18:58:47\n"
     ]
    },
    {
     "name": "stderr",
     "output_type": "stream",
     "text": [
      "/tmp/ipykernel_364/3853139118.py:94: ParserWarning: Both a converter and dtype were specified for column SMILES - only the converter will be used.\n",
      "  for i,df in enumerate(activity_reader):\n",
      "/tmp/ipykernel_364/3853139118.py:94: ParserWarning: Both a converter and dtype were specified for column pchembl_value - only the converter will be used.\n",
      "  for i,df in enumerate(activity_reader):\n"
     ]
    },
    {
     "name": "stdout",
     "output_type": "stream",
     "text": [
      "38950000\n",
      "Start Time = 18:59:02\n",
      "End Time = 18:59:20\n"
     ]
    },
    {
     "name": "stderr",
     "output_type": "stream",
     "text": [
      "/tmp/ipykernel_364/3853139118.py:94: ParserWarning: Both a converter and dtype were specified for column SMILES - only the converter will be used.\n",
      "  for i,df in enumerate(activity_reader):\n",
      "/tmp/ipykernel_364/3853139118.py:94: ParserWarning: Both a converter and dtype were specified for column pchembl_value - only the converter will be used.\n",
      "  for i,df in enumerate(activity_reader):\n"
     ]
    },
    {
     "name": "stdout",
     "output_type": "stream",
     "text": [
      "39000000\n",
      "Start Time = 18:59:35\n",
      "End Time = 18:59:50\n"
     ]
    },
    {
     "name": "stderr",
     "output_type": "stream",
     "text": [
      "/tmp/ipykernel_364/3853139118.py:94: ParserWarning: Both a converter and dtype were specified for column SMILES - only the converter will be used.\n",
      "  for i,df in enumerate(activity_reader):\n",
      "/tmp/ipykernel_364/3853139118.py:94: ParserWarning: Both a converter and dtype were specified for column pchembl_value - only the converter will be used.\n",
      "  for i,df in enumerate(activity_reader):\n"
     ]
    },
    {
     "name": "stdout",
     "output_type": "stream",
     "text": [
      "39050000\n",
      "Start Time = 19:00:04\n",
      "End Time = 19:00:22\n"
     ]
    },
    {
     "name": "stderr",
     "output_type": "stream",
     "text": [
      "/tmp/ipykernel_364/3853139118.py:94: ParserWarning: Both a converter and dtype were specified for column SMILES - only the converter will be used.\n",
      "  for i,df in enumerate(activity_reader):\n",
      "/tmp/ipykernel_364/3853139118.py:94: ParserWarning: Both a converter and dtype were specified for column pchembl_value - only the converter will be used.\n",
      "  for i,df in enumerate(activity_reader):\n"
     ]
    },
    {
     "name": "stdout",
     "output_type": "stream",
     "text": [
      "39100000\n",
      "Start Time = 19:00:37\n",
      "End Time = 19:00:54\n"
     ]
    },
    {
     "name": "stderr",
     "output_type": "stream",
     "text": [
      "/tmp/ipykernel_364/3853139118.py:94: ParserWarning: Both a converter and dtype were specified for column SMILES - only the converter will be used.\n",
      "  for i,df in enumerate(activity_reader):\n",
      "/tmp/ipykernel_364/3853139118.py:94: ParserWarning: Both a converter and dtype were specified for column pchembl_value - only the converter will be used.\n",
      "  for i,df in enumerate(activity_reader):\n"
     ]
    },
    {
     "name": "stdout",
     "output_type": "stream",
     "text": [
      "39150000\n",
      "Start Time = 19:01:09\n",
      "End Time = 19:01:24\n"
     ]
    },
    {
     "name": "stderr",
     "output_type": "stream",
     "text": [
      "/tmp/ipykernel_364/3853139118.py:94: ParserWarning: Both a converter and dtype were specified for column SMILES - only the converter will be used.\n",
      "  for i,df in enumerate(activity_reader):\n",
      "/tmp/ipykernel_364/3853139118.py:94: ParserWarning: Both a converter and dtype were specified for column pchembl_value - only the converter will be used.\n",
      "  for i,df in enumerate(activity_reader):\n"
     ]
    },
    {
     "name": "stdout",
     "output_type": "stream",
     "text": [
      "39200000\n",
      "Start Time = 19:01:39\n",
      "End Time = 19:01:55\n"
     ]
    },
    {
     "name": "stderr",
     "output_type": "stream",
     "text": [
      "/tmp/ipykernel_364/3853139118.py:94: ParserWarning: Both a converter and dtype were specified for column SMILES - only the converter will be used.\n",
      "  for i,df in enumerate(activity_reader):\n",
      "/tmp/ipykernel_364/3853139118.py:94: ParserWarning: Both a converter and dtype were specified for column pchembl_value - only the converter will be used.\n",
      "  for i,df in enumerate(activity_reader):\n"
     ]
    },
    {
     "name": "stdout",
     "output_type": "stream",
     "text": [
      "39250000\n",
      "Start Time = 19:02:10\n",
      "End Time = 19:02:27\n"
     ]
    },
    {
     "name": "stderr",
     "output_type": "stream",
     "text": [
      "/tmp/ipykernel_364/3853139118.py:94: ParserWarning: Both a converter and dtype were specified for column SMILES - only the converter will be used.\n",
      "  for i,df in enumerate(activity_reader):\n",
      "/tmp/ipykernel_364/3853139118.py:94: ParserWarning: Both a converter and dtype were specified for column pchembl_value - only the converter will be used.\n",
      "  for i,df in enumerate(activity_reader):\n"
     ]
    },
    {
     "name": "stdout",
     "output_type": "stream",
     "text": [
      "39300000\n",
      "Start Time = 19:02:41\n",
      "End Time = 19:02:56\n"
     ]
    },
    {
     "name": "stderr",
     "output_type": "stream",
     "text": [
      "/tmp/ipykernel_364/3853139118.py:94: ParserWarning: Both a converter and dtype were specified for column SMILES - only the converter will be used.\n",
      "  for i,df in enumerate(activity_reader):\n",
      "/tmp/ipykernel_364/3853139118.py:94: ParserWarning: Both a converter and dtype were specified for column pchembl_value - only the converter will be used.\n",
      "  for i,df in enumerate(activity_reader):\n"
     ]
    },
    {
     "name": "stdout",
     "output_type": "stream",
     "text": [
      "39350000\n",
      "Start Time = 19:03:10\n",
      "End Time = 19:03:27\n"
     ]
    },
    {
     "name": "stderr",
     "output_type": "stream",
     "text": [
      "/tmp/ipykernel_364/3853139118.py:94: ParserWarning: Both a converter and dtype were specified for column SMILES - only the converter will be used.\n",
      "  for i,df in enumerate(activity_reader):\n",
      "/tmp/ipykernel_364/3853139118.py:94: ParserWarning: Both a converter and dtype were specified for column pchembl_value - only the converter will be used.\n",
      "  for i,df in enumerate(activity_reader):\n"
     ]
    },
    {
     "name": "stdout",
     "output_type": "stream",
     "text": [
      "39400000\n",
      "Start Time = 19:03:41\n",
      "End Time = 19:03:59\n"
     ]
    },
    {
     "name": "stderr",
     "output_type": "stream",
     "text": [
      "/tmp/ipykernel_364/3853139118.py:94: ParserWarning: Both a converter and dtype were specified for column SMILES - only the converter will be used.\n",
      "  for i,df in enumerate(activity_reader):\n",
      "/tmp/ipykernel_364/3853139118.py:94: ParserWarning: Both a converter and dtype were specified for column pchembl_value - only the converter will be used.\n",
      "  for i,df in enumerate(activity_reader):\n"
     ]
    },
    {
     "name": "stdout",
     "output_type": "stream",
     "text": [
      "39450000\n",
      "Start Time = 19:04:13\n",
      "End Time = 19:04:28\n"
     ]
    },
    {
     "name": "stderr",
     "output_type": "stream",
     "text": [
      "/tmp/ipykernel_364/3853139118.py:94: ParserWarning: Both a converter and dtype were specified for column SMILES - only the converter will be used.\n",
      "  for i,df in enumerate(activity_reader):\n",
      "/tmp/ipykernel_364/3853139118.py:94: ParserWarning: Both a converter and dtype were specified for column pchembl_value - only the converter will be used.\n",
      "  for i,df in enumerate(activity_reader):\n"
     ]
    },
    {
     "name": "stdout",
     "output_type": "stream",
     "text": [
      "39500000\n",
      "Start Time = 19:04:43\n",
      "End Time = 19:05:00\n"
     ]
    },
    {
     "name": "stderr",
     "output_type": "stream",
     "text": [
      "/tmp/ipykernel_364/3853139118.py:94: ParserWarning: Both a converter and dtype were specified for column SMILES - only the converter will be used.\n",
      "  for i,df in enumerate(activity_reader):\n",
      "/tmp/ipykernel_364/3853139118.py:94: ParserWarning: Both a converter and dtype were specified for column pchembl_value - only the converter will be used.\n",
      "  for i,df in enumerate(activity_reader):\n"
     ]
    },
    {
     "name": "stdout",
     "output_type": "stream",
     "text": [
      "39550000\n",
      "Start Time = 19:05:15\n",
      "End Time = 19:05:33\n"
     ]
    },
    {
     "name": "stderr",
     "output_type": "stream",
     "text": [
      "/tmp/ipykernel_364/3853139118.py:94: ParserWarning: Both a converter and dtype were specified for column SMILES - only the converter will be used.\n",
      "  for i,df in enumerate(activity_reader):\n",
      "/tmp/ipykernel_364/3853139118.py:94: ParserWarning: Both a converter and dtype were specified for column pchembl_value - only the converter will be used.\n",
      "  for i,df in enumerate(activity_reader):\n"
     ]
    },
    {
     "name": "stdout",
     "output_type": "stream",
     "text": [
      "39600000\n",
      "Start Time = 19:05:47\n",
      "End Time = 19:06:02\n"
     ]
    },
    {
     "name": "stderr",
     "output_type": "stream",
     "text": [
      "/tmp/ipykernel_364/3853139118.py:94: ParserWarning: Both a converter and dtype were specified for column SMILES - only the converter will be used.\n",
      "  for i,df in enumerate(activity_reader):\n",
      "/tmp/ipykernel_364/3853139118.py:94: ParserWarning: Both a converter and dtype were specified for column pchembl_value - only the converter will be used.\n",
      "  for i,df in enumerate(activity_reader):\n"
     ]
    },
    {
     "name": "stdout",
     "output_type": "stream",
     "text": [
      "39650000\n",
      "Start Time = 19:06:17\n",
      "End Time = 19:06:33\n"
     ]
    },
    {
     "name": "stderr",
     "output_type": "stream",
     "text": [
      "/tmp/ipykernel_364/3853139118.py:94: ParserWarning: Both a converter and dtype were specified for column SMILES - only the converter will be used.\n",
      "  for i,df in enumerate(activity_reader):\n",
      "/tmp/ipykernel_364/3853139118.py:94: ParserWarning: Both a converter and dtype were specified for column pchembl_value - only the converter will be used.\n",
      "  for i,df in enumerate(activity_reader):\n"
     ]
    },
    {
     "name": "stdout",
     "output_type": "stream",
     "text": [
      "39700000\n",
      "Start Time = 19:06:48\n",
      "End Time = 19:07:05\n"
     ]
    },
    {
     "name": "stderr",
     "output_type": "stream",
     "text": [
      "/tmp/ipykernel_364/3853139118.py:94: ParserWarning: Both a converter and dtype were specified for column SMILES - only the converter will be used.\n",
      "  for i,df in enumerate(activity_reader):\n",
      "/tmp/ipykernel_364/3853139118.py:94: ParserWarning: Both a converter and dtype were specified for column pchembl_value - only the converter will be used.\n",
      "  for i,df in enumerate(activity_reader):\n"
     ]
    },
    {
     "name": "stdout",
     "output_type": "stream",
     "text": [
      "39750000\n",
      "Start Time = 19:07:19\n",
      "End Time = 19:07:34\n"
     ]
    },
    {
     "name": "stderr",
     "output_type": "stream",
     "text": [
      "/tmp/ipykernel_364/3853139118.py:94: ParserWarning: Both a converter and dtype were specified for column SMILES - only the converter will be used.\n",
      "  for i,df in enumerate(activity_reader):\n",
      "/tmp/ipykernel_364/3853139118.py:94: ParserWarning: Both a converter and dtype were specified for column pchembl_value - only the converter will be used.\n",
      "  for i,df in enumerate(activity_reader):\n"
     ]
    },
    {
     "name": "stdout",
     "output_type": "stream",
     "text": [
      "39800000\n",
      "Start Time = 19:07:48\n",
      "End Time = 19:08:05\n"
     ]
    },
    {
     "name": "stderr",
     "output_type": "stream",
     "text": [
      "/tmp/ipykernel_364/3853139118.py:94: ParserWarning: Both a converter and dtype were specified for column SMILES - only the converter will be used.\n",
      "  for i,df in enumerate(activity_reader):\n",
      "/tmp/ipykernel_364/3853139118.py:94: ParserWarning: Both a converter and dtype were specified for column pchembl_value - only the converter will be used.\n",
      "  for i,df in enumerate(activity_reader):\n"
     ]
    },
    {
     "name": "stdout",
     "output_type": "stream",
     "text": [
      "39850000\n",
      "Start Time = 19:08:19\n",
      "End Time = 19:08:36\n"
     ]
    },
    {
     "name": "stderr",
     "output_type": "stream",
     "text": [
      "/tmp/ipykernel_364/3853139118.py:94: ParserWarning: Both a converter and dtype were specified for column SMILES - only the converter will be used.\n",
      "  for i,df in enumerate(activity_reader):\n",
      "/tmp/ipykernel_364/3853139118.py:94: ParserWarning: Both a converter and dtype were specified for column pchembl_value - only the converter will be used.\n",
      "  for i,df in enumerate(activity_reader):\n"
     ]
    },
    {
     "name": "stdout",
     "output_type": "stream",
     "text": [
      "39900000\n",
      "Start Time = 19:08:50\n",
      "End Time = 19:09:06\n"
     ]
    },
    {
     "name": "stderr",
     "output_type": "stream",
     "text": [
      "/tmp/ipykernel_364/3853139118.py:94: ParserWarning: Both a converter and dtype were specified for column SMILES - only the converter will be used.\n",
      "  for i,df in enumerate(activity_reader):\n",
      "/tmp/ipykernel_364/3853139118.py:94: ParserWarning: Both a converter and dtype were specified for column pchembl_value - only the converter will be used.\n",
      "  for i,df in enumerate(activity_reader):\n"
     ]
    },
    {
     "name": "stdout",
     "output_type": "stream",
     "text": [
      "39950000\n",
      "Start Time = 19:09:20\n",
      "End Time = 19:09:38\n"
     ]
    },
    {
     "name": "stderr",
     "output_type": "stream",
     "text": [
      "/tmp/ipykernel_364/3853139118.py:94: ParserWarning: Both a converter and dtype were specified for column SMILES - only the converter will be used.\n",
      "  for i,df in enumerate(activity_reader):\n",
      "/tmp/ipykernel_364/3853139118.py:94: ParserWarning: Both a converter and dtype were specified for column pchembl_value - only the converter will be used.\n",
      "  for i,df in enumerate(activity_reader):\n"
     ]
    },
    {
     "name": "stdout",
     "output_type": "stream",
     "text": [
      "40000000\n",
      "Start Time = 19:09:52\n",
      "End Time = 19:10:09\n"
     ]
    },
    {
     "name": "stderr",
     "output_type": "stream",
     "text": [
      "/tmp/ipykernel_364/3853139118.py:94: ParserWarning: Both a converter and dtype were specified for column SMILES - only the converter will be used.\n",
      "  for i,df in enumerate(activity_reader):\n",
      "/tmp/ipykernel_364/3853139118.py:94: ParserWarning: Both a converter and dtype were specified for column pchembl_value - only the converter will be used.\n",
      "  for i,df in enumerate(activity_reader):\n"
     ]
    },
    {
     "name": "stdout",
     "output_type": "stream",
     "text": [
      "40050000\n",
      "Start Time = 19:10:24\n",
      "End Time = 19:10:39\n"
     ]
    },
    {
     "name": "stderr",
     "output_type": "stream",
     "text": [
      "/tmp/ipykernel_364/3853139118.py:94: ParserWarning: Both a converter and dtype were specified for column SMILES - only the converter will be used.\n",
      "  for i,df in enumerate(activity_reader):\n",
      "/tmp/ipykernel_364/3853139118.py:94: ParserWarning: Both a converter and dtype were specified for column pchembl_value - only the converter will be used.\n",
      "  for i,df in enumerate(activity_reader):\n"
     ]
    },
    {
     "name": "stdout",
     "output_type": "stream",
     "text": [
      "40100000\n",
      "Start Time = 19:10:54\n",
      "End Time = 19:11:11\n"
     ]
    },
    {
     "name": "stderr",
     "output_type": "stream",
     "text": [
      "/tmp/ipykernel_364/3853139118.py:94: ParserWarning: Both a converter and dtype were specified for column SMILES - only the converter will be used.\n",
      "  for i,df in enumerate(activity_reader):\n",
      "/tmp/ipykernel_364/3853139118.py:94: ParserWarning: Both a converter and dtype were specified for column pchembl_value - only the converter will be used.\n",
      "  for i,df in enumerate(activity_reader):\n"
     ]
    },
    {
     "name": "stdout",
     "output_type": "stream",
     "text": [
      "40150000\n",
      "Start Time = 19:11:26\n",
      "End Time = 19:11:42\n"
     ]
    },
    {
     "name": "stderr",
     "output_type": "stream",
     "text": [
      "/tmp/ipykernel_364/3853139118.py:94: ParserWarning: Both a converter and dtype were specified for column SMILES - only the converter will be used.\n",
      "  for i,df in enumerate(activity_reader):\n",
      "/tmp/ipykernel_364/3853139118.py:94: ParserWarning: Both a converter and dtype were specified for column pchembl_value - only the converter will be used.\n",
      "  for i,df in enumerate(activity_reader):\n"
     ]
    },
    {
     "name": "stdout",
     "output_type": "stream",
     "text": [
      "40200000\n",
      "Start Time = 19:11:57\n",
      "End Time = 19:12:12\n"
     ]
    },
    {
     "name": "stderr",
     "output_type": "stream",
     "text": [
      "/tmp/ipykernel_364/3853139118.py:94: ParserWarning: Both a converter and dtype were specified for column SMILES - only the converter will be used.\n",
      "  for i,df in enumerate(activity_reader):\n",
      "/tmp/ipykernel_364/3853139118.py:94: ParserWarning: Both a converter and dtype were specified for column pchembl_value - only the converter will be used.\n",
      "  for i,df in enumerate(activity_reader):\n"
     ]
    },
    {
     "name": "stdout",
     "output_type": "stream",
     "text": [
      "40250000\n",
      "Start Time = 19:12:26\n",
      "End Time = 19:12:43\n"
     ]
    },
    {
     "name": "stderr",
     "output_type": "stream",
     "text": [
      "/tmp/ipykernel_364/3853139118.py:94: ParserWarning: Both a converter and dtype were specified for column SMILES - only the converter will be used.\n",
      "  for i,df in enumerate(activity_reader):\n",
      "/tmp/ipykernel_364/3853139118.py:94: ParserWarning: Both a converter and dtype were specified for column pchembl_value - only the converter will be used.\n",
      "  for i,df in enumerate(activity_reader):\n"
     ]
    },
    {
     "name": "stdout",
     "output_type": "stream",
     "text": [
      "40300000\n",
      "Start Time = 19:12:57\n",
      "End Time = 19:13:14\n"
     ]
    },
    {
     "name": "stderr",
     "output_type": "stream",
     "text": [
      "/tmp/ipykernel_364/3853139118.py:94: ParserWarning: Both a converter and dtype were specified for column SMILES - only the converter will be used.\n",
      "  for i,df in enumerate(activity_reader):\n",
      "/tmp/ipykernel_364/3853139118.py:94: ParserWarning: Both a converter and dtype were specified for column pchembl_value - only the converter will be used.\n",
      "  for i,df in enumerate(activity_reader):\n"
     ]
    },
    {
     "name": "stdout",
     "output_type": "stream",
     "text": [
      "40350000\n",
      "Start Time = 19:13:28\n",
      "End Time = 19:13:44\n"
     ]
    },
    {
     "name": "stderr",
     "output_type": "stream",
     "text": [
      "/tmp/ipykernel_364/3853139118.py:94: ParserWarning: Both a converter and dtype were specified for column SMILES - only the converter will be used.\n",
      "  for i,df in enumerate(activity_reader):\n",
      "/tmp/ipykernel_364/3853139118.py:94: ParserWarning: Both a converter and dtype were specified for column pchembl_value - only the converter will be used.\n",
      "  for i,df in enumerate(activity_reader):\n"
     ]
    },
    {
     "name": "stdout",
     "output_type": "stream",
     "text": [
      "40400000\n",
      "Start Time = 19:13:59\n",
      "End Time = 19:14:15\n"
     ]
    },
    {
     "name": "stderr",
     "output_type": "stream",
     "text": [
      "/tmp/ipykernel_364/3853139118.py:94: ParserWarning: Both a converter and dtype were specified for column SMILES - only the converter will be used.\n",
      "  for i,df in enumerate(activity_reader):\n",
      "/tmp/ipykernel_364/3853139118.py:94: ParserWarning: Both a converter and dtype were specified for column pchembl_value - only the converter will be used.\n",
      "  for i,df in enumerate(activity_reader):\n"
     ]
    },
    {
     "name": "stdout",
     "output_type": "stream",
     "text": [
      "40450000\n",
      "Start Time = 19:14:30\n",
      "End Time = 19:14:48\n"
     ]
    },
    {
     "name": "stderr",
     "output_type": "stream",
     "text": [
      "/tmp/ipykernel_364/3853139118.py:94: ParserWarning: Both a converter and dtype were specified for column SMILES - only the converter will be used.\n",
      "  for i,df in enumerate(activity_reader):\n",
      "/tmp/ipykernel_364/3853139118.py:94: ParserWarning: Both a converter and dtype were specified for column pchembl_value - only the converter will be used.\n",
      "  for i,df in enumerate(activity_reader):\n"
     ]
    },
    {
     "name": "stdout",
     "output_type": "stream",
     "text": [
      "40500000\n",
      "Start Time = 19:15:03\n",
      "End Time = 19:15:18\n"
     ]
    },
    {
     "name": "stderr",
     "output_type": "stream",
     "text": [
      "/tmp/ipykernel_364/3853139118.py:94: ParserWarning: Both a converter and dtype were specified for column SMILES - only the converter will be used.\n",
      "  for i,df in enumerate(activity_reader):\n",
      "/tmp/ipykernel_364/3853139118.py:94: ParserWarning: Both a converter and dtype were specified for column pchembl_value - only the converter will be used.\n",
      "  for i,df in enumerate(activity_reader):\n"
     ]
    },
    {
     "name": "stdout",
     "output_type": "stream",
     "text": [
      "40550000\n",
      "Start Time = 19:15:33\n",
      "End Time = 19:15:50\n"
     ]
    },
    {
     "name": "stderr",
     "output_type": "stream",
     "text": [
      "/tmp/ipykernel_364/3853139118.py:94: ParserWarning: Both a converter and dtype were specified for column SMILES - only the converter will be used.\n",
      "  for i,df in enumerate(activity_reader):\n",
      "/tmp/ipykernel_364/3853139118.py:94: ParserWarning: Both a converter and dtype were specified for column pchembl_value - only the converter will be used.\n",
      "  for i,df in enumerate(activity_reader):\n"
     ]
    },
    {
     "name": "stdout",
     "output_type": "stream",
     "text": [
      "40600000\n",
      "Start Time = 19:16:05\n",
      "End Time = 19:16:21\n"
     ]
    },
    {
     "name": "stderr",
     "output_type": "stream",
     "text": [
      "/tmp/ipykernel_364/3853139118.py:94: ParserWarning: Both a converter and dtype were specified for column SMILES - only the converter will be used.\n",
      "  for i,df in enumerate(activity_reader):\n",
      "/tmp/ipykernel_364/3853139118.py:94: ParserWarning: Both a converter and dtype were specified for column pchembl_value - only the converter will be used.\n",
      "  for i,df in enumerate(activity_reader):\n"
     ]
    },
    {
     "name": "stdout",
     "output_type": "stream",
     "text": [
      "40650000\n",
      "Start Time = 19:16:35\n",
      "End Time = 19:16:50\n"
     ]
    },
    {
     "name": "stderr",
     "output_type": "stream",
     "text": [
      "/tmp/ipykernel_364/3853139118.py:94: ParserWarning: Both a converter and dtype were specified for column SMILES - only the converter will be used.\n",
      "  for i,df in enumerate(activity_reader):\n",
      "/tmp/ipykernel_364/3853139118.py:94: ParserWarning: Both a converter and dtype were specified for column pchembl_value - only the converter will be used.\n",
      "  for i,df in enumerate(activity_reader):\n"
     ]
    },
    {
     "name": "stdout",
     "output_type": "stream",
     "text": [
      "40700000\n",
      "Start Time = 19:17:04\n",
      "End Time = 19:17:20\n"
     ]
    },
    {
     "name": "stderr",
     "output_type": "stream",
     "text": [
      "/tmp/ipykernel_364/3853139118.py:94: ParserWarning: Both a converter and dtype were specified for column SMILES - only the converter will be used.\n",
      "  for i,df in enumerate(activity_reader):\n",
      "/tmp/ipykernel_364/3853139118.py:94: ParserWarning: Both a converter and dtype were specified for column pchembl_value - only the converter will be used.\n",
      "  for i,df in enumerate(activity_reader):\n"
     ]
    },
    {
     "name": "stdout",
     "output_type": "stream",
     "text": [
      "40750000\n",
      "Start Time = 19:17:35\n",
      "End Time = 19:17:51\n"
     ]
    },
    {
     "name": "stderr",
     "output_type": "stream",
     "text": [
      "/tmp/ipykernel_364/3853139118.py:94: ParserWarning: Both a converter and dtype were specified for column SMILES - only the converter will be used.\n",
      "  for i,df in enumerate(activity_reader):\n",
      "/tmp/ipykernel_364/3853139118.py:94: ParserWarning: Both a converter and dtype were specified for column pchembl_value - only the converter will be used.\n",
      "  for i,df in enumerate(activity_reader):\n"
     ]
    },
    {
     "name": "stdout",
     "output_type": "stream",
     "text": [
      "40800000\n",
      "Start Time = 19:18:05\n",
      "End Time = 19:18:20\n"
     ]
    },
    {
     "name": "stderr",
     "output_type": "stream",
     "text": [
      "/tmp/ipykernel_364/3853139118.py:94: ParserWarning: Both a converter and dtype were specified for column SMILES - only the converter will be used.\n",
      "  for i,df in enumerate(activity_reader):\n",
      "/tmp/ipykernel_364/3853139118.py:94: ParserWarning: Both a converter and dtype were specified for column pchembl_value - only the converter will be used.\n",
      "  for i,df in enumerate(activity_reader):\n"
     ]
    },
    {
     "name": "stdout",
     "output_type": "stream",
     "text": [
      "40850000\n",
      "Start Time = 19:18:34\n",
      "End Time = 19:18:51\n"
     ]
    },
    {
     "name": "stderr",
     "output_type": "stream",
     "text": [
      "/tmp/ipykernel_364/3853139118.py:94: ParserWarning: Both a converter and dtype were specified for column SMILES - only the converter will be used.\n",
      "  for i,df in enumerate(activity_reader):\n",
      "/tmp/ipykernel_364/3853139118.py:94: ParserWarning: Both a converter and dtype were specified for column pchembl_value - only the converter will be used.\n",
      "  for i,df in enumerate(activity_reader):\n"
     ]
    },
    {
     "name": "stdout",
     "output_type": "stream",
     "text": [
      "40900000\n",
      "Start Time = 19:19:06\n",
      "End Time = 19:19:22\n"
     ]
    },
    {
     "name": "stderr",
     "output_type": "stream",
     "text": [
      "/tmp/ipykernel_364/3853139118.py:94: ParserWarning: Both a converter and dtype were specified for column SMILES - only the converter will be used.\n",
      "  for i,df in enumerate(activity_reader):\n",
      "/tmp/ipykernel_364/3853139118.py:94: ParserWarning: Both a converter and dtype were specified for column pchembl_value - only the converter will be used.\n",
      "  for i,df in enumerate(activity_reader):\n"
     ]
    },
    {
     "name": "stdout",
     "output_type": "stream",
     "text": [
      "40950000\n",
      "Start Time = 19:19:37\n",
      "End Time = 19:19:53\n"
     ]
    },
    {
     "name": "stderr",
     "output_type": "stream",
     "text": [
      "/tmp/ipykernel_364/3853139118.py:94: ParserWarning: Both a converter and dtype were specified for column SMILES - only the converter will be used.\n",
      "  for i,df in enumerate(activity_reader):\n",
      "/tmp/ipykernel_364/3853139118.py:94: ParserWarning: Both a converter and dtype were specified for column pchembl_value - only the converter will be used.\n",
      "  for i,df in enumerate(activity_reader):\n"
     ]
    },
    {
     "name": "stdout",
     "output_type": "stream",
     "text": [
      "41000000\n",
      "Start Time = 19:20:07\n",
      "End Time = 19:20:25\n"
     ]
    },
    {
     "name": "stderr",
     "output_type": "stream",
     "text": [
      "/tmp/ipykernel_364/3853139118.py:94: ParserWarning: Both a converter and dtype were specified for column SMILES - only the converter will be used.\n",
      "  for i,df in enumerate(activity_reader):\n",
      "/tmp/ipykernel_364/3853139118.py:94: ParserWarning: Both a converter and dtype were specified for column pchembl_value - only the converter will be used.\n",
      "  for i,df in enumerate(activity_reader):\n"
     ]
    },
    {
     "name": "stdout",
     "output_type": "stream",
     "text": [
      "41050000\n",
      "Start Time = 19:20:40\n",
      "End Time = 19:20:57\n"
     ]
    },
    {
     "name": "stderr",
     "output_type": "stream",
     "text": [
      "/tmp/ipykernel_364/3853139118.py:94: ParserWarning: Both a converter and dtype were specified for column SMILES - only the converter will be used.\n",
      "  for i,df in enumerate(activity_reader):\n",
      "/tmp/ipykernel_364/3853139118.py:94: ParserWarning: Both a converter and dtype were specified for column pchembl_value - only the converter will be used.\n",
      "  for i,df in enumerate(activity_reader):\n"
     ]
    },
    {
     "name": "stdout",
     "output_type": "stream",
     "text": [
      "41100000\n",
      "Start Time = 19:21:12\n",
      "End Time = 19:21:26\n"
     ]
    },
    {
     "name": "stderr",
     "output_type": "stream",
     "text": [
      "/tmp/ipykernel_364/3853139118.py:94: ParserWarning: Both a converter and dtype were specified for column SMILES - only the converter will be used.\n",
      "  for i,df in enumerate(activity_reader):\n",
      "/tmp/ipykernel_364/3853139118.py:94: ParserWarning: Both a converter and dtype were specified for column pchembl_value - only the converter will be used.\n",
      "  for i,df in enumerate(activity_reader):\n"
     ]
    },
    {
     "name": "stdout",
     "output_type": "stream",
     "text": [
      "41150000\n",
      "Start Time = 19:21:41\n",
      "End Time = 19:21:57\n"
     ]
    },
    {
     "name": "stderr",
     "output_type": "stream",
     "text": [
      "/tmp/ipykernel_364/3853139118.py:94: ParserWarning: Both a converter and dtype were specified for column SMILES - only the converter will be used.\n",
      "  for i,df in enumerate(activity_reader):\n",
      "/tmp/ipykernel_364/3853139118.py:94: ParserWarning: Both a converter and dtype were specified for column pchembl_value - only the converter will be used.\n",
      "  for i,df in enumerate(activity_reader):\n"
     ]
    },
    {
     "name": "stdout",
     "output_type": "stream",
     "text": [
      "41200000\n",
      "Start Time = 19:22:12\n",
      "End Time = 19:22:28\n"
     ]
    },
    {
     "name": "stderr",
     "output_type": "stream",
     "text": [
      "/tmp/ipykernel_364/3853139118.py:94: ParserWarning: Both a converter and dtype were specified for column SMILES - only the converter will be used.\n",
      "  for i,df in enumerate(activity_reader):\n",
      "/tmp/ipykernel_364/3853139118.py:94: ParserWarning: Both a converter and dtype were specified for column pchembl_value - only the converter will be used.\n",
      "  for i,df in enumerate(activity_reader):\n"
     ]
    },
    {
     "name": "stdout",
     "output_type": "stream",
     "text": [
      "41250000\n",
      "Start Time = 19:22:43\n",
      "End Time = 19:22:57\n"
     ]
    },
    {
     "name": "stderr",
     "output_type": "stream",
     "text": [
      "/tmp/ipykernel_364/3853139118.py:94: ParserWarning: Both a converter and dtype were specified for column SMILES - only the converter will be used.\n",
      "  for i,df in enumerate(activity_reader):\n",
      "/tmp/ipykernel_364/3853139118.py:94: ParserWarning: Both a converter and dtype were specified for column pchembl_value - only the converter will be used.\n",
      "  for i,df in enumerate(activity_reader):\n"
     ]
    },
    {
     "name": "stdout",
     "output_type": "stream",
     "text": [
      "41300000\n",
      "Start Time = 19:23:12\n",
      "End Time = 19:23:28\n"
     ]
    },
    {
     "name": "stderr",
     "output_type": "stream",
     "text": [
      "/tmp/ipykernel_364/3853139118.py:94: ParserWarning: Both a converter and dtype were specified for column SMILES - only the converter will be used.\n",
      "  for i,df in enumerate(activity_reader):\n",
      "/tmp/ipykernel_364/3853139118.py:94: ParserWarning: Both a converter and dtype were specified for column pchembl_value - only the converter will be used.\n",
      "  for i,df in enumerate(activity_reader):\n"
     ]
    },
    {
     "name": "stdout",
     "output_type": "stream",
     "text": [
      "41350000\n",
      "Start Time = 19:23:43\n",
      "End Time = 19:24:00\n"
     ]
    },
    {
     "name": "stderr",
     "output_type": "stream",
     "text": [
      "/tmp/ipykernel_364/3853139118.py:94: ParserWarning: Both a converter and dtype were specified for column SMILES - only the converter will be used.\n",
      "  for i,df in enumerate(activity_reader):\n",
      "/tmp/ipykernel_364/3853139118.py:94: ParserWarning: Both a converter and dtype were specified for column pchembl_value - only the converter will be used.\n",
      "  for i,df in enumerate(activity_reader):\n"
     ]
    },
    {
     "name": "stdout",
     "output_type": "stream",
     "text": [
      "41400000\n",
      "Start Time = 19:24:14\n",
      "End Time = 19:24:29\n"
     ]
    },
    {
     "name": "stderr",
     "output_type": "stream",
     "text": [
      "/tmp/ipykernel_364/3853139118.py:94: ParserWarning: Both a converter and dtype were specified for column SMILES - only the converter will be used.\n",
      "  for i,df in enumerate(activity_reader):\n",
      "/tmp/ipykernel_364/3853139118.py:94: ParserWarning: Both a converter and dtype were specified for column pchembl_value - only the converter will be used.\n",
      "  for i,df in enumerate(activity_reader):\n"
     ]
    },
    {
     "name": "stdout",
     "output_type": "stream",
     "text": [
      "41450000\n",
      "Start Time = 19:24:43\n",
      "End Time = 19:25:00\n"
     ]
    },
    {
     "name": "stderr",
     "output_type": "stream",
     "text": [
      "/tmp/ipykernel_364/3853139118.py:94: ParserWarning: Both a converter and dtype were specified for column SMILES - only the converter will be used.\n",
      "  for i,df in enumerate(activity_reader):\n",
      "/tmp/ipykernel_364/3853139118.py:94: ParserWarning: Both a converter and dtype were specified for column pchembl_value - only the converter will be used.\n",
      "  for i,df in enumerate(activity_reader):\n"
     ]
    },
    {
     "name": "stdout",
     "output_type": "stream",
     "text": [
      "41500000\n",
      "Start Time = 19:25:15\n",
      "End Time = 19:25:31\n"
     ]
    },
    {
     "name": "stderr",
     "output_type": "stream",
     "text": [
      "/tmp/ipykernel_364/3853139118.py:94: ParserWarning: Both a converter and dtype were specified for column SMILES - only the converter will be used.\n",
      "  for i,df in enumerate(activity_reader):\n",
      "/tmp/ipykernel_364/3853139118.py:94: ParserWarning: Both a converter and dtype were specified for column pchembl_value - only the converter will be used.\n",
      "  for i,df in enumerate(activity_reader):\n"
     ]
    },
    {
     "name": "stdout",
     "output_type": "stream",
     "text": [
      "41550000\n",
      "Start Time = 19:25:46\n",
      "End Time = 19:26:00\n"
     ]
    },
    {
     "name": "stderr",
     "output_type": "stream",
     "text": [
      "/tmp/ipykernel_364/3853139118.py:94: ParserWarning: Both a converter and dtype were specified for column SMILES - only the converter will be used.\n",
      "  for i,df in enumerate(activity_reader):\n",
      "/tmp/ipykernel_364/3853139118.py:94: ParserWarning: Both a converter and dtype were specified for column pchembl_value - only the converter will be used.\n",
      "  for i,df in enumerate(activity_reader):\n"
     ]
    },
    {
     "name": "stdout",
     "output_type": "stream",
     "text": [
      "41600000\n",
      "Start Time = 19:26:15\n",
      "End Time = 19:26:32\n"
     ]
    },
    {
     "name": "stderr",
     "output_type": "stream",
     "text": [
      "/tmp/ipykernel_364/3853139118.py:94: ParserWarning: Both a converter and dtype were specified for column SMILES - only the converter will be used.\n",
      "  for i,df in enumerate(activity_reader):\n",
      "/tmp/ipykernel_364/3853139118.py:94: ParserWarning: Both a converter and dtype were specified for column pchembl_value - only the converter will be used.\n",
      "  for i,df in enumerate(activity_reader):\n"
     ]
    },
    {
     "name": "stdout",
     "output_type": "stream",
     "text": [
      "41650000\n",
      "Start Time = 19:26:46\n",
      "End Time = 19:27:02\n"
     ]
    },
    {
     "name": "stderr",
     "output_type": "stream",
     "text": [
      "/tmp/ipykernel_364/3853139118.py:94: ParserWarning: Both a converter and dtype were specified for column SMILES - only the converter will be used.\n",
      "  for i,df in enumerate(activity_reader):\n",
      "/tmp/ipykernel_364/3853139118.py:94: ParserWarning: Both a converter and dtype were specified for column pchembl_value - only the converter will be used.\n",
      "  for i,df in enumerate(activity_reader):\n"
     ]
    },
    {
     "name": "stdout",
     "output_type": "stream",
     "text": [
      "41700000\n",
      "Start Time = 19:27:16\n",
      "End Time = 19:27:31\n"
     ]
    },
    {
     "name": "stderr",
     "output_type": "stream",
     "text": [
      "/tmp/ipykernel_364/3853139118.py:94: ParserWarning: Both a converter and dtype were specified for column SMILES - only the converter will be used.\n",
      "  for i,df in enumerate(activity_reader):\n",
      "/tmp/ipykernel_364/3853139118.py:94: ParserWarning: Both a converter and dtype were specified for column pchembl_value - only the converter will be used.\n",
      "  for i,df in enumerate(activity_reader):\n"
     ]
    },
    {
     "name": "stdout",
     "output_type": "stream",
     "text": [
      "41750000\n",
      "Start Time = 19:27:45\n",
      "End Time = 19:28:02\n"
     ]
    },
    {
     "name": "stderr",
     "output_type": "stream",
     "text": [
      "/tmp/ipykernel_364/3853139118.py:94: ParserWarning: Both a converter and dtype were specified for column SMILES - only the converter will be used.\n",
      "  for i,df in enumerate(activity_reader):\n",
      "/tmp/ipykernel_364/3853139118.py:94: ParserWarning: Both a converter and dtype were specified for column pchembl_value - only the converter will be used.\n",
      "  for i,df in enumerate(activity_reader):\n"
     ]
    },
    {
     "name": "stdout",
     "output_type": "stream",
     "text": [
      "41800000\n",
      "Start Time = 19:28:16\n",
      "End Time = 19:28:33\n"
     ]
    },
    {
     "name": "stderr",
     "output_type": "stream",
     "text": [
      "/tmp/ipykernel_364/3853139118.py:94: ParserWarning: Both a converter and dtype were specified for column SMILES - only the converter will be used.\n",
      "  for i,df in enumerate(activity_reader):\n",
      "/tmp/ipykernel_364/3853139118.py:94: ParserWarning: Both a converter and dtype were specified for column pchembl_value - only the converter will be used.\n",
      "  for i,df in enumerate(activity_reader):\n"
     ]
    },
    {
     "name": "stdout",
     "output_type": "stream",
     "text": [
      "41850000\n",
      "Start Time = 19:28:47\n",
      "End Time = 19:29:03\n"
     ]
    },
    {
     "name": "stderr",
     "output_type": "stream",
     "text": [
      "/tmp/ipykernel_364/3853139118.py:94: ParserWarning: Both a converter and dtype were specified for column SMILES - only the converter will be used.\n",
      "  for i,df in enumerate(activity_reader):\n",
      "/tmp/ipykernel_364/3853139118.py:94: ParserWarning: Both a converter and dtype were specified for column pchembl_value - only the converter will be used.\n",
      "  for i,df in enumerate(activity_reader):\n"
     ]
    },
    {
     "name": "stdout",
     "output_type": "stream",
     "text": [
      "41900000\n",
      "Start Time = 19:29:18\n",
      "End Time = 19:29:36\n"
     ]
    },
    {
     "name": "stderr",
     "output_type": "stream",
     "text": [
      "/tmp/ipykernel_364/3853139118.py:94: ParserWarning: Both a converter and dtype were specified for column SMILES - only the converter will be used.\n",
      "  for i,df in enumerate(activity_reader):\n",
      "/tmp/ipykernel_364/3853139118.py:94: ParserWarning: Both a converter and dtype were specified for column pchembl_value - only the converter will be used.\n",
      "  for i,df in enumerate(activity_reader):\n"
     ]
    },
    {
     "name": "stdout",
     "output_type": "stream",
     "text": [
      "41950000\n",
      "Start Time = 19:29:51\n",
      "End Time = 19:30:11\n"
     ]
    },
    {
     "name": "stderr",
     "output_type": "stream",
     "text": [
      "/tmp/ipykernel_364/3853139118.py:94: ParserWarning: Both a converter and dtype were specified for column SMILES - only the converter will be used.\n",
      "  for i,df in enumerate(activity_reader):\n",
      "/tmp/ipykernel_364/3853139118.py:94: ParserWarning: Both a converter and dtype were specified for column pchembl_value - only the converter will be used.\n",
      "  for i,df in enumerate(activity_reader):\n"
     ]
    },
    {
     "name": "stdout",
     "output_type": "stream",
     "text": [
      "42000000\n",
      "Start Time = 19:30:26\n",
      "End Time = 19:30:43\n"
     ]
    },
    {
     "name": "stderr",
     "output_type": "stream",
     "text": [
      "/tmp/ipykernel_364/3853139118.py:94: ParserWarning: Both a converter and dtype were specified for column SMILES - only the converter will be used.\n",
      "  for i,df in enumerate(activity_reader):\n",
      "/tmp/ipykernel_364/3853139118.py:94: ParserWarning: Both a converter and dtype were specified for column pchembl_value - only the converter will be used.\n",
      "  for i,df in enumerate(activity_reader):\n"
     ]
    },
    {
     "name": "stdout",
     "output_type": "stream",
     "text": [
      "42050000\n",
      "Start Time = 19:30:58\n",
      "End Time = 19:31:15\n"
     ]
    },
    {
     "name": "stderr",
     "output_type": "stream",
     "text": [
      "/tmp/ipykernel_364/3853139118.py:94: ParserWarning: Both a converter and dtype were specified for column SMILES - only the converter will be used.\n",
      "  for i,df in enumerate(activity_reader):\n",
      "/tmp/ipykernel_364/3853139118.py:94: ParserWarning: Both a converter and dtype were specified for column pchembl_value - only the converter will be used.\n",
      "  for i,df in enumerate(activity_reader):\n"
     ]
    },
    {
     "name": "stdout",
     "output_type": "stream",
     "text": [
      "42100000\n",
      "Start Time = 19:31:30\n",
      "End Time = 19:31:47\n"
     ]
    },
    {
     "name": "stderr",
     "output_type": "stream",
     "text": [
      "/tmp/ipykernel_364/3853139118.py:94: ParserWarning: Both a converter and dtype were specified for column SMILES - only the converter will be used.\n",
      "  for i,df in enumerate(activity_reader):\n",
      "/tmp/ipykernel_364/3853139118.py:94: ParserWarning: Both a converter and dtype were specified for column pchembl_value - only the converter will be used.\n",
      "  for i,df in enumerate(activity_reader):\n"
     ]
    },
    {
     "name": "stdout",
     "output_type": "stream",
     "text": [
      "42150000\n",
      "Start Time = 19:32:02\n",
      "End Time = 19:32:17\n"
     ]
    },
    {
     "name": "stderr",
     "output_type": "stream",
     "text": [
      "/tmp/ipykernel_364/3853139118.py:94: ParserWarning: Both a converter and dtype were specified for column SMILES - only the converter will be used.\n",
      "  for i,df in enumerate(activity_reader):\n",
      "/tmp/ipykernel_364/3853139118.py:94: ParserWarning: Both a converter and dtype were specified for column pchembl_value - only the converter will be used.\n",
      "  for i,df in enumerate(activity_reader):\n"
     ]
    },
    {
     "name": "stdout",
     "output_type": "stream",
     "text": [
      "42200000\n",
      "Start Time = 19:32:31\n",
      "End Time = 19:32:47\n"
     ]
    },
    {
     "name": "stderr",
     "output_type": "stream",
     "text": [
      "/tmp/ipykernel_364/3853139118.py:94: ParserWarning: Both a converter and dtype were specified for column SMILES - only the converter will be used.\n",
      "  for i,df in enumerate(activity_reader):\n",
      "/tmp/ipykernel_364/3853139118.py:94: ParserWarning: Both a converter and dtype were specified for column pchembl_value - only the converter will be used.\n",
      "  for i,df in enumerate(activity_reader):\n"
     ]
    },
    {
     "name": "stdout",
     "output_type": "stream",
     "text": [
      "42250000\n",
      "Start Time = 19:33:01\n",
      "End Time = 19:33:17\n"
     ]
    },
    {
     "name": "stderr",
     "output_type": "stream",
     "text": [
      "/tmp/ipykernel_364/3853139118.py:94: ParserWarning: Both a converter and dtype were specified for column SMILES - only the converter will be used.\n",
      "  for i,df in enumerate(activity_reader):\n",
      "/tmp/ipykernel_364/3853139118.py:94: ParserWarning: Both a converter and dtype were specified for column pchembl_value - only the converter will be used.\n",
      "  for i,df in enumerate(activity_reader):\n"
     ]
    },
    {
     "name": "stdout",
     "output_type": "stream",
     "text": [
      "42300000\n",
      "Start Time = 19:33:32\n",
      "End Time = 19:33:47\n"
     ]
    },
    {
     "name": "stderr",
     "output_type": "stream",
     "text": [
      "/tmp/ipykernel_364/3853139118.py:94: ParserWarning: Both a converter and dtype were specified for column SMILES - only the converter will be used.\n",
      "  for i,df in enumerate(activity_reader):\n",
      "/tmp/ipykernel_364/3853139118.py:94: ParserWarning: Both a converter and dtype were specified for column pchembl_value - only the converter will be used.\n",
      "  for i,df in enumerate(activity_reader):\n"
     ]
    },
    {
     "name": "stdout",
     "output_type": "stream",
     "text": [
      "42350000\n",
      "Start Time = 19:34:01\n",
      "End Time = 19:34:17\n"
     ]
    },
    {
     "name": "stderr",
     "output_type": "stream",
     "text": [
      "/tmp/ipykernel_364/3853139118.py:94: ParserWarning: Both a converter and dtype were specified for column SMILES - only the converter will be used.\n",
      "  for i,df in enumerate(activity_reader):\n",
      "/tmp/ipykernel_364/3853139118.py:94: ParserWarning: Both a converter and dtype were specified for column pchembl_value - only the converter will be used.\n",
      "  for i,df in enumerate(activity_reader):\n"
     ]
    },
    {
     "name": "stdout",
     "output_type": "stream",
     "text": [
      "42400000\n",
      "Start Time = 19:34:32\n",
      "End Time = 19:34:49\n"
     ]
    },
    {
     "name": "stderr",
     "output_type": "stream",
     "text": [
      "/tmp/ipykernel_364/3853139118.py:94: ParserWarning: Both a converter and dtype were specified for column SMILES - only the converter will be used.\n",
      "  for i,df in enumerate(activity_reader):\n",
      "/tmp/ipykernel_364/3853139118.py:94: ParserWarning: Both a converter and dtype were specified for column pchembl_value - only the converter will be used.\n",
      "  for i,df in enumerate(activity_reader):\n"
     ]
    },
    {
     "name": "stdout",
     "output_type": "stream",
     "text": [
      "42450000\n",
      "Start Time = 19:35:04\n",
      "End Time = 19:35:19\n"
     ]
    },
    {
     "name": "stderr",
     "output_type": "stream",
     "text": [
      "/tmp/ipykernel_364/3853139118.py:94: ParserWarning: Both a converter and dtype were specified for column SMILES - only the converter will be used.\n",
      "  for i,df in enumerate(activity_reader):\n",
      "/tmp/ipykernel_364/3853139118.py:94: ParserWarning: Both a converter and dtype were specified for column pchembl_value - only the converter will be used.\n",
      "  for i,df in enumerate(activity_reader):\n"
     ]
    },
    {
     "name": "stdout",
     "output_type": "stream",
     "text": [
      "42500000\n",
      "Start Time = 19:35:34\n",
      "End Time = 19:35:51\n"
     ]
    },
    {
     "name": "stderr",
     "output_type": "stream",
     "text": [
      "/tmp/ipykernel_364/3853139118.py:94: ParserWarning: Both a converter and dtype were specified for column SMILES - only the converter will be used.\n",
      "  for i,df in enumerate(activity_reader):\n",
      "/tmp/ipykernel_364/3853139118.py:94: ParserWarning: Both a converter and dtype were specified for column pchembl_value - only the converter will be used.\n",
      "  for i,df in enumerate(activity_reader):\n"
     ]
    },
    {
     "name": "stdout",
     "output_type": "stream",
     "text": [
      "42550000\n",
      "Start Time = 19:36:05\n",
      "End Time = 19:36:21\n"
     ]
    },
    {
     "name": "stderr",
     "output_type": "stream",
     "text": [
      "/tmp/ipykernel_364/3853139118.py:94: ParserWarning: Both a converter and dtype were specified for column SMILES - only the converter will be used.\n",
      "  for i,df in enumerate(activity_reader):\n",
      "/tmp/ipykernel_364/3853139118.py:94: ParserWarning: Both a converter and dtype were specified for column pchembl_value - only the converter will be used.\n",
      "  for i,df in enumerate(activity_reader):\n"
     ]
    },
    {
     "name": "stdout",
     "output_type": "stream",
     "text": [
      "42600000\n",
      "Start Time = 19:36:35\n",
      "End Time = 19:36:50\n"
     ]
    },
    {
     "name": "stderr",
     "output_type": "stream",
     "text": [
      "/tmp/ipykernel_364/3853139118.py:94: ParserWarning: Both a converter and dtype were specified for column SMILES - only the converter will be used.\n",
      "  for i,df in enumerate(activity_reader):\n",
      "/tmp/ipykernel_364/3853139118.py:94: ParserWarning: Both a converter and dtype were specified for column pchembl_value - only the converter will be used.\n",
      "  for i,df in enumerate(activity_reader):\n"
     ]
    },
    {
     "name": "stdout",
     "output_type": "stream",
     "text": [
      "42650000\n",
      "Start Time = 19:37:04\n",
      "End Time = 19:37:20\n"
     ]
    },
    {
     "name": "stderr",
     "output_type": "stream",
     "text": [
      "/tmp/ipykernel_364/3853139118.py:94: ParserWarning: Both a converter and dtype were specified for column SMILES - only the converter will be used.\n",
      "  for i,df in enumerate(activity_reader):\n",
      "/tmp/ipykernel_364/3853139118.py:94: ParserWarning: Both a converter and dtype were specified for column pchembl_value - only the converter will be used.\n",
      "  for i,df in enumerate(activity_reader):\n"
     ]
    },
    {
     "name": "stdout",
     "output_type": "stream",
     "text": [
      "42700000\n",
      "Start Time = 19:37:34\n",
      "End Time = 19:37:50\n"
     ]
    },
    {
     "name": "stderr",
     "output_type": "stream",
     "text": [
      "/tmp/ipykernel_364/3853139118.py:94: ParserWarning: Both a converter and dtype were specified for column SMILES - only the converter will be used.\n",
      "  for i,df in enumerate(activity_reader):\n",
      "/tmp/ipykernel_364/3853139118.py:94: ParserWarning: Both a converter and dtype were specified for column pchembl_value - only the converter will be used.\n",
      "  for i,df in enumerate(activity_reader):\n"
     ]
    },
    {
     "name": "stdout",
     "output_type": "stream",
     "text": [
      "42750000\n",
      "Start Time = 19:38:05\n",
      "End Time = 19:38:20\n"
     ]
    },
    {
     "name": "stderr",
     "output_type": "stream",
     "text": [
      "/tmp/ipykernel_364/3853139118.py:94: ParserWarning: Both a converter and dtype were specified for column SMILES - only the converter will be used.\n",
      "  for i,df in enumerate(activity_reader):\n",
      "/tmp/ipykernel_364/3853139118.py:94: ParserWarning: Both a converter and dtype were specified for column pchembl_value - only the converter will be used.\n",
      "  for i,df in enumerate(activity_reader):\n"
     ]
    },
    {
     "name": "stdout",
     "output_type": "stream",
     "text": [
      "42800000\n",
      "Start Time = 19:38:34\n",
      "End Time = 19:38:51\n"
     ]
    },
    {
     "name": "stderr",
     "output_type": "stream",
     "text": [
      "/tmp/ipykernel_364/3853139118.py:94: ParserWarning: Both a converter and dtype were specified for column SMILES - only the converter will be used.\n",
      "  for i,df in enumerate(activity_reader):\n",
      "/tmp/ipykernel_364/3853139118.py:94: ParserWarning: Both a converter and dtype were specified for column pchembl_value - only the converter will be used.\n",
      "  for i,df in enumerate(activity_reader):\n"
     ]
    },
    {
     "name": "stdout",
     "output_type": "stream",
     "text": [
      "42850000\n",
      "Start Time = 19:39:05\n",
      "End Time = 19:39:22\n"
     ]
    },
    {
     "name": "stderr",
     "output_type": "stream",
     "text": [
      "/tmp/ipykernel_364/3853139118.py:94: ParserWarning: Both a converter and dtype were specified for column SMILES - only the converter will be used.\n",
      "  for i,df in enumerate(activity_reader):\n",
      "/tmp/ipykernel_364/3853139118.py:94: ParserWarning: Both a converter and dtype were specified for column pchembl_value - only the converter will be used.\n",
      "  for i,df in enumerate(activity_reader):\n"
     ]
    },
    {
     "name": "stdout",
     "output_type": "stream",
     "text": [
      "42900000\n",
      "Start Time = 19:39:37\n",
      "End Time = 19:39:52\n"
     ]
    },
    {
     "name": "stderr",
     "output_type": "stream",
     "text": [
      "/tmp/ipykernel_364/3853139118.py:94: ParserWarning: Both a converter and dtype were specified for column SMILES - only the converter will be used.\n",
      "  for i,df in enumerate(activity_reader):\n",
      "/tmp/ipykernel_364/3853139118.py:94: ParserWarning: Both a converter and dtype were specified for column pchembl_value - only the converter will be used.\n",
      "  for i,df in enumerate(activity_reader):\n"
     ]
    },
    {
     "name": "stdout",
     "output_type": "stream",
     "text": [
      "42950000\n",
      "Start Time = 19:40:07\n",
      "End Time = 19:40:25\n"
     ]
    },
    {
     "name": "stderr",
     "output_type": "stream",
     "text": [
      "/tmp/ipykernel_364/3853139118.py:94: ParserWarning: Both a converter and dtype were specified for column SMILES - only the converter will be used.\n",
      "  for i,df in enumerate(activity_reader):\n",
      "/tmp/ipykernel_364/3853139118.py:94: ParserWarning: Both a converter and dtype were specified for column pchembl_value - only the converter will be used.\n",
      "  for i,df in enumerate(activity_reader):\n"
     ]
    },
    {
     "name": "stdout",
     "output_type": "stream",
     "text": [
      "43000000\n",
      "Start Time = 19:40:40\n",
      "End Time = 19:40:57\n"
     ]
    },
    {
     "name": "stderr",
     "output_type": "stream",
     "text": [
      "/tmp/ipykernel_364/3853139118.py:94: ParserWarning: Both a converter and dtype were specified for column SMILES - only the converter will be used.\n",
      "  for i,df in enumerate(activity_reader):\n",
      "/tmp/ipykernel_364/3853139118.py:94: ParserWarning: Both a converter and dtype were specified for column pchembl_value - only the converter will be used.\n",
      "  for i,df in enumerate(activity_reader):\n"
     ]
    },
    {
     "name": "stdout",
     "output_type": "stream",
     "text": [
      "43050000\n",
      "Start Time = 19:41:12\n",
      "End Time = 19:41:27\n"
     ]
    },
    {
     "name": "stderr",
     "output_type": "stream",
     "text": [
      "/tmp/ipykernel_364/3853139118.py:94: ParserWarning: Both a converter and dtype were specified for column SMILES - only the converter will be used.\n",
      "  for i,df in enumerate(activity_reader):\n",
      "/tmp/ipykernel_364/3853139118.py:94: ParserWarning: Both a converter and dtype were specified for column pchembl_value - only the converter will be used.\n",
      "  for i,df in enumerate(activity_reader):\n"
     ]
    },
    {
     "name": "stdout",
     "output_type": "stream",
     "text": [
      "43100000\n",
      "Start Time = 19:41:42\n",
      "End Time = 19:41:59\n"
     ]
    },
    {
     "name": "stderr",
     "output_type": "stream",
     "text": [
      "/tmp/ipykernel_364/3853139118.py:94: ParserWarning: Both a converter and dtype were specified for column SMILES - only the converter will be used.\n",
      "  for i,df in enumerate(activity_reader):\n",
      "/tmp/ipykernel_364/3853139118.py:94: ParserWarning: Both a converter and dtype were specified for column pchembl_value - only the converter will be used.\n",
      "  for i,df in enumerate(activity_reader):\n"
     ]
    },
    {
     "name": "stdout",
     "output_type": "stream",
     "text": [
      "43150000\n",
      "Start Time = 19:42:13\n",
      "End Time = 19:42:30\n"
     ]
    },
    {
     "name": "stderr",
     "output_type": "stream",
     "text": [
      "/tmp/ipykernel_364/3853139118.py:94: ParserWarning: Both a converter and dtype were specified for column SMILES - only the converter will be used.\n",
      "  for i,df in enumerate(activity_reader):\n",
      "/tmp/ipykernel_364/3853139118.py:94: ParserWarning: Both a converter and dtype were specified for column pchembl_value - only the converter will be used.\n",
      "  for i,df in enumerate(activity_reader):\n"
     ]
    },
    {
     "name": "stdout",
     "output_type": "stream",
     "text": [
      "43200000\n",
      "Start Time = 19:42:44\n",
      "End Time = 19:42:59\n"
     ]
    },
    {
     "name": "stderr",
     "output_type": "stream",
     "text": [
      "/tmp/ipykernel_364/3853139118.py:94: ParserWarning: Both a converter and dtype were specified for column SMILES - only the converter will be used.\n",
      "  for i,df in enumerate(activity_reader):\n",
      "/tmp/ipykernel_364/3853139118.py:94: ParserWarning: Both a converter and dtype were specified for column pchembl_value - only the converter will be used.\n",
      "  for i,df in enumerate(activity_reader):\n"
     ]
    },
    {
     "name": "stdout",
     "output_type": "stream",
     "text": [
      "43250000\n",
      "Start Time = 19:43:13\n",
      "End Time = 19:43:31\n"
     ]
    },
    {
     "name": "stderr",
     "output_type": "stream",
     "text": [
      "/tmp/ipykernel_364/3853139118.py:94: ParserWarning: Both a converter and dtype were specified for column SMILES - only the converter will be used.\n",
      "  for i,df in enumerate(activity_reader):\n",
      "/tmp/ipykernel_364/3853139118.py:94: ParserWarning: Both a converter and dtype were specified for column pchembl_value - only the converter will be used.\n",
      "  for i,df in enumerate(activity_reader):\n"
     ]
    },
    {
     "name": "stdout",
     "output_type": "stream",
     "text": [
      "43300000\n",
      "Start Time = 19:43:45\n",
      "End Time = 19:44:02\n"
     ]
    },
    {
     "name": "stderr",
     "output_type": "stream",
     "text": [
      "/tmp/ipykernel_364/3853139118.py:94: ParserWarning: Both a converter and dtype were specified for column SMILES - only the converter will be used.\n",
      "  for i,df in enumerate(activity_reader):\n",
      "/tmp/ipykernel_364/3853139118.py:94: ParserWarning: Both a converter and dtype were specified for column pchembl_value - only the converter will be used.\n",
      "  for i,df in enumerate(activity_reader):\n"
     ]
    },
    {
     "name": "stdout",
     "output_type": "stream",
     "text": [
      "43350000\n",
      "Start Time = 19:44:17\n",
      "End Time = 19:44:31\n"
     ]
    },
    {
     "name": "stderr",
     "output_type": "stream",
     "text": [
      "/tmp/ipykernel_364/3853139118.py:94: ParserWarning: Both a converter and dtype were specified for column SMILES - only the converter will be used.\n",
      "  for i,df in enumerate(activity_reader):\n",
      "/tmp/ipykernel_364/3853139118.py:94: ParserWarning: Both a converter and dtype were specified for column pchembl_value - only the converter will be used.\n",
      "  for i,df in enumerate(activity_reader):\n"
     ]
    },
    {
     "name": "stdout",
     "output_type": "stream",
     "text": [
      "43400000\n",
      "Start Time = 19:44:47\n",
      "End Time = 19:45:04\n"
     ]
    },
    {
     "name": "stderr",
     "output_type": "stream",
     "text": [
      "/tmp/ipykernel_364/3853139118.py:94: ParserWarning: Both a converter and dtype were specified for column SMILES - only the converter will be used.\n",
      "  for i,df in enumerate(activity_reader):\n",
      "/tmp/ipykernel_364/3853139118.py:94: ParserWarning: Both a converter and dtype were specified for column pchembl_value - only the converter will be used.\n",
      "  for i,df in enumerate(activity_reader):\n"
     ]
    },
    {
     "name": "stdout",
     "output_type": "stream",
     "text": [
      "43450000\n",
      "Start Time = 19:45:18\n",
      "End Time = 19:45:35\n"
     ]
    },
    {
     "name": "stderr",
     "output_type": "stream",
     "text": [
      "/tmp/ipykernel_364/3853139118.py:94: ParserWarning: Both a converter and dtype were specified for column SMILES - only the converter will be used.\n",
      "  for i,df in enumerate(activity_reader):\n",
      "/tmp/ipykernel_364/3853139118.py:94: ParserWarning: Both a converter and dtype were specified for column pchembl_value - only the converter will be used.\n",
      "  for i,df in enumerate(activity_reader):\n"
     ]
    },
    {
     "name": "stdout",
     "output_type": "stream",
     "text": [
      "43500000\n",
      "Start Time = 19:45:50\n",
      "End Time = 19:46:05\n"
     ]
    },
    {
     "name": "stderr",
     "output_type": "stream",
     "text": [
      "/tmp/ipykernel_364/3853139118.py:94: ParserWarning: Both a converter and dtype were specified for column SMILES - only the converter will be used.\n",
      "  for i,df in enumerate(activity_reader):\n",
      "/tmp/ipykernel_364/3853139118.py:94: ParserWarning: Both a converter and dtype were specified for column pchembl_value - only the converter will be used.\n",
      "  for i,df in enumerate(activity_reader):\n"
     ]
    },
    {
     "name": "stdout",
     "output_type": "stream",
     "text": [
      "43550000\n",
      "Start Time = 19:46:19\n",
      "End Time = 19:46:36\n"
     ]
    },
    {
     "name": "stderr",
     "output_type": "stream",
     "text": [
      "/tmp/ipykernel_364/3853139118.py:94: ParserWarning: Both a converter and dtype were specified for column SMILES - only the converter will be used.\n",
      "  for i,df in enumerate(activity_reader):\n",
      "/tmp/ipykernel_364/3853139118.py:94: ParserWarning: Both a converter and dtype were specified for column pchembl_value - only the converter will be used.\n",
      "  for i,df in enumerate(activity_reader):\n"
     ]
    },
    {
     "name": "stdout",
     "output_type": "stream",
     "text": [
      "43600000\n",
      "Start Time = 19:46:50\n",
      "End Time = 19:47:06\n"
     ]
    },
    {
     "name": "stderr",
     "output_type": "stream",
     "text": [
      "/tmp/ipykernel_364/3853139118.py:94: ParserWarning: Both a converter and dtype were specified for column SMILES - only the converter will be used.\n",
      "  for i,df in enumerate(activity_reader):\n",
      "/tmp/ipykernel_364/3853139118.py:94: ParserWarning: Both a converter and dtype were specified for column pchembl_value - only the converter will be used.\n",
      "  for i,df in enumerate(activity_reader):\n"
     ]
    },
    {
     "name": "stdout",
     "output_type": "stream",
     "text": [
      "43650000\n",
      "Start Time = 19:47:21\n",
      "End Time = 19:47:36\n"
     ]
    },
    {
     "name": "stderr",
     "output_type": "stream",
     "text": [
      "/tmp/ipykernel_364/3853139118.py:94: ParserWarning: Both a converter and dtype were specified for column SMILES - only the converter will be used.\n",
      "  for i,df in enumerate(activity_reader):\n",
      "/tmp/ipykernel_364/3853139118.py:94: ParserWarning: Both a converter and dtype were specified for column pchembl_value - only the converter will be used.\n",
      "  for i,df in enumerate(activity_reader):\n"
     ]
    },
    {
     "name": "stdout",
     "output_type": "stream",
     "text": [
      "43700000\n",
      "Start Time = 19:47:51\n",
      "End Time = 19:48:07\n"
     ]
    },
    {
     "name": "stderr",
     "output_type": "stream",
     "text": [
      "/tmp/ipykernel_364/3853139118.py:94: ParserWarning: Both a converter and dtype were specified for column SMILES - only the converter will be used.\n",
      "  for i,df in enumerate(activity_reader):\n",
      "/tmp/ipykernel_364/3853139118.py:94: ParserWarning: Both a converter and dtype were specified for column pchembl_value - only the converter will be used.\n",
      "  for i,df in enumerate(activity_reader):\n"
     ]
    },
    {
     "name": "stdout",
     "output_type": "stream",
     "text": [
      "43750000\n",
      "Start Time = 19:48:22\n",
      "End Time = 19:48:38\n"
     ]
    },
    {
     "name": "stderr",
     "output_type": "stream",
     "text": [
      "/tmp/ipykernel_364/3853139118.py:94: ParserWarning: Both a converter and dtype were specified for column SMILES - only the converter will be used.\n",
      "  for i,df in enumerate(activity_reader):\n",
      "/tmp/ipykernel_364/3853139118.py:94: ParserWarning: Both a converter and dtype were specified for column pchembl_value - only the converter will be used.\n",
      "  for i,df in enumerate(activity_reader):\n"
     ]
    },
    {
     "name": "stdout",
     "output_type": "stream",
     "text": [
      "43800000\n",
      "Start Time = 19:48:52\n",
      "End Time = 19:49:07\n"
     ]
    },
    {
     "name": "stderr",
     "output_type": "stream",
     "text": [
      "/tmp/ipykernel_364/3853139118.py:94: ParserWarning: Both a converter and dtype were specified for column SMILES - only the converter will be used.\n",
      "  for i,df in enumerate(activity_reader):\n",
      "/tmp/ipykernel_364/3853139118.py:94: ParserWarning: Both a converter and dtype were specified for column pchembl_value - only the converter will be used.\n",
      "  for i,df in enumerate(activity_reader):\n"
     ]
    },
    {
     "name": "stdout",
     "output_type": "stream",
     "text": [
      "43850000\n",
      "Start Time = 19:49:21\n",
      "End Time = 19:49:38\n"
     ]
    },
    {
     "name": "stderr",
     "output_type": "stream",
     "text": [
      "/tmp/ipykernel_364/3853139118.py:94: ParserWarning: Both a converter and dtype were specified for column SMILES - only the converter will be used.\n",
      "  for i,df in enumerate(activity_reader):\n",
      "/tmp/ipykernel_364/3853139118.py:94: ParserWarning: Both a converter and dtype were specified for column pchembl_value - only the converter will be used.\n",
      "  for i,df in enumerate(activity_reader):\n"
     ]
    },
    {
     "name": "stdout",
     "output_type": "stream",
     "text": [
      "43900000\n",
      "Start Time = 19:49:53\n",
      "End Time = 19:50:10\n"
     ]
    },
    {
     "name": "stderr",
     "output_type": "stream",
     "text": [
      "/tmp/ipykernel_364/3853139118.py:94: ParserWarning: Both a converter and dtype were specified for column SMILES - only the converter will be used.\n",
      "  for i,df in enumerate(activity_reader):\n",
      "/tmp/ipykernel_364/3853139118.py:94: ParserWarning: Both a converter and dtype were specified for column pchembl_value - only the converter will be used.\n",
      "  for i,df in enumerate(activity_reader):\n"
     ]
    },
    {
     "name": "stdout",
     "output_type": "stream",
     "text": [
      "43950000\n",
      "Start Time = 19:50:25\n",
      "End Time = 19:50:41\n"
     ]
    },
    {
     "name": "stderr",
     "output_type": "stream",
     "text": [
      "/tmp/ipykernel_364/3853139118.py:94: ParserWarning: Both a converter and dtype were specified for column SMILES - only the converter will be used.\n",
      "  for i,df in enumerate(activity_reader):\n",
      "/tmp/ipykernel_364/3853139118.py:94: ParserWarning: Both a converter and dtype were specified for column pchembl_value - only the converter will be used.\n",
      "  for i,df in enumerate(activity_reader):\n"
     ]
    },
    {
     "name": "stdout",
     "output_type": "stream",
     "text": [
      "44000000\n",
      "Start Time = 19:50:55\n",
      "End Time = 19:51:12\n"
     ]
    },
    {
     "name": "stderr",
     "output_type": "stream",
     "text": [
      "/tmp/ipykernel_364/3853139118.py:94: ParserWarning: Both a converter and dtype were specified for column SMILES - only the converter will be used.\n",
      "  for i,df in enumerate(activity_reader):\n",
      "/tmp/ipykernel_364/3853139118.py:94: ParserWarning: Both a converter and dtype were specified for column pchembl_value - only the converter will be used.\n",
      "  for i,df in enumerate(activity_reader):\n"
     ]
    },
    {
     "name": "stdout",
     "output_type": "stream",
     "text": [
      "44050000\n",
      "Start Time = 19:51:27\n",
      "End Time = 19:51:43\n"
     ]
    },
    {
     "name": "stderr",
     "output_type": "stream",
     "text": [
      "/tmp/ipykernel_364/3853139118.py:94: ParserWarning: Both a converter and dtype were specified for column SMILES - only the converter will be used.\n",
      "  for i,df in enumerate(activity_reader):\n",
      "/tmp/ipykernel_364/3853139118.py:94: ParserWarning: Both a converter and dtype were specified for column pchembl_value - only the converter will be used.\n",
      "  for i,df in enumerate(activity_reader):\n"
     ]
    },
    {
     "name": "stdout",
     "output_type": "stream",
     "text": [
      "44100000\n",
      "Start Time = 19:51:57\n",
      "End Time = 19:52:12\n"
     ]
    },
    {
     "name": "stderr",
     "output_type": "stream",
     "text": [
      "/tmp/ipykernel_364/3853139118.py:94: ParserWarning: Both a converter and dtype were specified for column SMILES - only the converter will be used.\n",
      "  for i,df in enumerate(activity_reader):\n",
      "/tmp/ipykernel_364/3853139118.py:94: ParserWarning: Both a converter and dtype were specified for column pchembl_value - only the converter will be used.\n",
      "  for i,df in enumerate(activity_reader):\n"
     ]
    },
    {
     "name": "stdout",
     "output_type": "stream",
     "text": [
      "44150000\n",
      "Start Time = 19:52:26\n",
      "End Time = 19:52:42\n"
     ]
    },
    {
     "name": "stderr",
     "output_type": "stream",
     "text": [
      "/tmp/ipykernel_364/3853139118.py:94: ParserWarning: Both a converter and dtype were specified for column SMILES - only the converter will be used.\n",
      "  for i,df in enumerate(activity_reader):\n",
      "/tmp/ipykernel_364/3853139118.py:94: ParserWarning: Both a converter and dtype were specified for column pchembl_value - only the converter will be used.\n",
      "  for i,df in enumerate(activity_reader):\n"
     ]
    },
    {
     "name": "stdout",
     "output_type": "stream",
     "text": [
      "44200000\n",
      "Start Time = 19:52:56\n",
      "End Time = 19:53:13\n"
     ]
    },
    {
     "name": "stderr",
     "output_type": "stream",
     "text": [
      "/tmp/ipykernel_364/3853139118.py:94: ParserWarning: Both a converter and dtype were specified for column SMILES - only the converter will be used.\n",
      "  for i,df in enumerate(activity_reader):\n",
      "/tmp/ipykernel_364/3853139118.py:94: ParserWarning: Both a converter and dtype were specified for column pchembl_value - only the converter will be used.\n",
      "  for i,df in enumerate(activity_reader):\n"
     ]
    },
    {
     "name": "stdout",
     "output_type": "stream",
     "text": [
      "44250000\n",
      "Start Time = 19:53:27\n",
      "End Time = 19:53:42\n"
     ]
    },
    {
     "name": "stderr",
     "output_type": "stream",
     "text": [
      "/tmp/ipykernel_364/3853139118.py:94: ParserWarning: Both a converter and dtype were specified for column SMILES - only the converter will be used.\n",
      "  for i,df in enumerate(activity_reader):\n",
      "/tmp/ipykernel_364/3853139118.py:94: ParserWarning: Both a converter and dtype were specified for column pchembl_value - only the converter will be used.\n",
      "  for i,df in enumerate(activity_reader):\n"
     ]
    },
    {
     "name": "stdout",
     "output_type": "stream",
     "text": [
      "44300000\n",
      "Start Time = 19:53:57\n",
      "End Time = 19:54:14\n"
     ]
    },
    {
     "name": "stderr",
     "output_type": "stream",
     "text": [
      "/tmp/ipykernel_364/3853139118.py:94: ParserWarning: Both a converter and dtype were specified for column SMILES - only the converter will be used.\n",
      "  for i,df in enumerate(activity_reader):\n",
      "/tmp/ipykernel_364/3853139118.py:94: ParserWarning: Both a converter and dtype were specified for column pchembl_value - only the converter will be used.\n",
      "  for i,df in enumerate(activity_reader):\n"
     ]
    },
    {
     "name": "stdout",
     "output_type": "stream",
     "text": [
      "44350000\n",
      "Start Time = 19:54:29\n",
      "End Time = 19:54:46\n"
     ]
    },
    {
     "name": "stderr",
     "output_type": "stream",
     "text": [
      "/tmp/ipykernel_364/3853139118.py:94: ParserWarning: Both a converter and dtype were specified for column SMILES - only the converter will be used.\n",
      "  for i,df in enumerate(activity_reader):\n",
      "/tmp/ipykernel_364/3853139118.py:94: ParserWarning: Both a converter and dtype were specified for column pchembl_value - only the converter will be used.\n",
      "  for i,df in enumerate(activity_reader):\n"
     ]
    },
    {
     "name": "stdout",
     "output_type": "stream",
     "text": [
      "44400000\n",
      "Start Time = 19:55:00\n",
      "End Time = 19:55:15\n"
     ]
    },
    {
     "name": "stderr",
     "output_type": "stream",
     "text": [
      "/tmp/ipykernel_364/3853139118.py:94: ParserWarning: Both a converter and dtype were specified for column SMILES - only the converter will be used.\n",
      "  for i,df in enumerate(activity_reader):\n",
      "/tmp/ipykernel_364/3853139118.py:94: ParserWarning: Both a converter and dtype were specified for column pchembl_value - only the converter will be used.\n",
      "  for i,df in enumerate(activity_reader):\n"
     ]
    },
    {
     "name": "stdout",
     "output_type": "stream",
     "text": [
      "44450000\n",
      "Start Time = 19:55:30\n",
      "End Time = 19:55:47\n"
     ]
    },
    {
     "name": "stderr",
     "output_type": "stream",
     "text": [
      "/tmp/ipykernel_364/3853139118.py:94: ParserWarning: Both a converter and dtype were specified for column SMILES - only the converter will be used.\n",
      "  for i,df in enumerate(activity_reader):\n",
      "/tmp/ipykernel_364/3853139118.py:94: ParserWarning: Both a converter and dtype were specified for column pchembl_value - only the converter will be used.\n",
      "  for i,df in enumerate(activity_reader):\n"
     ]
    },
    {
     "name": "stdout",
     "output_type": "stream",
     "text": [
      "44500000\n",
      "Start Time = 19:56:02\n",
      "End Time = 19:56:19\n"
     ]
    },
    {
     "name": "stderr",
     "output_type": "stream",
     "text": [
      "/tmp/ipykernel_364/3853139118.py:94: ParserWarning: Both a converter and dtype were specified for column SMILES - only the converter will be used.\n",
      "  for i,df in enumerate(activity_reader):\n",
      "/tmp/ipykernel_364/3853139118.py:94: ParserWarning: Both a converter and dtype were specified for column pchembl_value - only the converter will be used.\n",
      "  for i,df in enumerate(activity_reader):\n"
     ]
    },
    {
     "name": "stdout",
     "output_type": "stream",
     "text": [
      "44550000\n",
      "Start Time = 19:56:34\n",
      "End Time = 19:56:49\n"
     ]
    },
    {
     "name": "stderr",
     "output_type": "stream",
     "text": [
      "/tmp/ipykernel_364/3853139118.py:94: ParserWarning: Both a converter and dtype were specified for column SMILES - only the converter will be used.\n",
      "  for i,df in enumerate(activity_reader):\n",
      "/tmp/ipykernel_364/3853139118.py:94: ParserWarning: Both a converter and dtype were specified for column pchembl_value - only the converter will be used.\n",
      "  for i,df in enumerate(activity_reader):\n"
     ]
    },
    {
     "name": "stdout",
     "output_type": "stream",
     "text": [
      "44600000\n",
      "Start Time = 19:57:04\n",
      "End Time = 19:57:20\n"
     ]
    },
    {
     "name": "stderr",
     "output_type": "stream",
     "text": [
      "/tmp/ipykernel_364/3853139118.py:94: ParserWarning: Both a converter and dtype were specified for column SMILES - only the converter will be used.\n",
      "  for i,df in enumerate(activity_reader):\n",
      "/tmp/ipykernel_364/3853139118.py:94: ParserWarning: Both a converter and dtype were specified for column pchembl_value - only the converter will be used.\n",
      "  for i,df in enumerate(activity_reader):\n"
     ]
    },
    {
     "name": "stdout",
     "output_type": "stream",
     "text": [
      "44650000\n",
      "Start Time = 19:57:35\n",
      "End Time = 19:57:51\n"
     ]
    },
    {
     "name": "stderr",
     "output_type": "stream",
     "text": [
      "/tmp/ipykernel_364/3853139118.py:94: ParserWarning: Both a converter and dtype were specified for column SMILES - only the converter will be used.\n",
      "  for i,df in enumerate(activity_reader):\n",
      "/tmp/ipykernel_364/3853139118.py:94: ParserWarning: Both a converter and dtype were specified for column pchembl_value - only the converter will be used.\n",
      "  for i,df in enumerate(activity_reader):\n"
     ]
    },
    {
     "name": "stdout",
     "output_type": "stream",
     "text": [
      "44700000\n",
      "Start Time = 19:58:06\n",
      "End Time = 19:58:21\n"
     ]
    },
    {
     "name": "stderr",
     "output_type": "stream",
     "text": [
      "/tmp/ipykernel_364/3853139118.py:94: ParserWarning: Both a converter and dtype were specified for column SMILES - only the converter will be used.\n",
      "  for i,df in enumerate(activity_reader):\n",
      "/tmp/ipykernel_364/3853139118.py:94: ParserWarning: Both a converter and dtype were specified for column pchembl_value - only the converter will be used.\n",
      "  for i,df in enumerate(activity_reader):\n"
     ]
    },
    {
     "name": "stdout",
     "output_type": "stream",
     "text": [
      "44750000\n",
      "Start Time = 19:58:35\n",
      "End Time = 19:58:52\n"
     ]
    },
    {
     "name": "stderr",
     "output_type": "stream",
     "text": [
      "/tmp/ipykernel_364/3853139118.py:94: ParserWarning: Both a converter and dtype were specified for column SMILES - only the converter will be used.\n",
      "  for i,df in enumerate(activity_reader):\n",
      "/tmp/ipykernel_364/3853139118.py:94: ParserWarning: Both a converter and dtype were specified for column pchembl_value - only the converter will be used.\n",
      "  for i,df in enumerate(activity_reader):\n"
     ]
    },
    {
     "name": "stdout",
     "output_type": "stream",
     "text": [
      "44800000\n",
      "Start Time = 19:59:06\n",
      "End Time = 19:59:23\n"
     ]
    },
    {
     "name": "stderr",
     "output_type": "stream",
     "text": [
      "/tmp/ipykernel_364/3853139118.py:94: ParserWarning: Both a converter and dtype were specified for column SMILES - only the converter will be used.\n",
      "  for i,df in enumerate(activity_reader):\n",
      "/tmp/ipykernel_364/3853139118.py:94: ParserWarning: Both a converter and dtype were specified for column pchembl_value - only the converter will be used.\n",
      "  for i,df in enumerate(activity_reader):\n"
     ]
    },
    {
     "name": "stdout",
     "output_type": "stream",
     "text": [
      "44850000\n",
      "Start Time = 19:59:37\n",
      "End Time = 19:59:52\n"
     ]
    },
    {
     "name": "stderr",
     "output_type": "stream",
     "text": [
      "/tmp/ipykernel_364/3853139118.py:94: ParserWarning: Both a converter and dtype were specified for column SMILES - only the converter will be used.\n",
      "  for i,df in enumerate(activity_reader):\n",
      "/tmp/ipykernel_364/3853139118.py:94: ParserWarning: Both a converter and dtype were specified for column pchembl_value - only the converter will be used.\n",
      "  for i,df in enumerate(activity_reader):\n"
     ]
    },
    {
     "name": "stdout",
     "output_type": "stream",
     "text": [
      "44900000\n",
      "Start Time = 20:00:07\n",
      "End Time = 20:00:24\n"
     ]
    },
    {
     "name": "stderr",
     "output_type": "stream",
     "text": [
      "/tmp/ipykernel_364/3853139118.py:94: ParserWarning: Both a converter and dtype were specified for column SMILES - only the converter will be used.\n",
      "  for i,df in enumerate(activity_reader):\n",
      "/tmp/ipykernel_364/3853139118.py:94: ParserWarning: Both a converter and dtype were specified for column pchembl_value - only the converter will be used.\n",
      "  for i,df in enumerate(activity_reader):\n"
     ]
    },
    {
     "name": "stdout",
     "output_type": "stream",
     "text": [
      "44950000\n",
      "Start Time = 20:00:40\n",
      "End Time = 20:00:57\n"
     ]
    },
    {
     "name": "stderr",
     "output_type": "stream",
     "text": [
      "/tmp/ipykernel_364/3853139118.py:94: ParserWarning: Both a converter and dtype were specified for column SMILES - only the converter will be used.\n",
      "  for i,df in enumerate(activity_reader):\n",
      "/tmp/ipykernel_364/3853139118.py:94: ParserWarning: Both a converter and dtype were specified for column pchembl_value - only the converter will be used.\n",
      "  for i,df in enumerate(activity_reader):\n"
     ]
    },
    {
     "name": "stdout",
     "output_type": "stream",
     "text": [
      "45000000\n",
      "Start Time = 20:01:12\n",
      "End Time = 20:01:27\n"
     ]
    },
    {
     "name": "stderr",
     "output_type": "stream",
     "text": [
      "/tmp/ipykernel_364/3853139118.py:94: ParserWarning: Both a converter and dtype were specified for column SMILES - only the converter will be used.\n",
      "  for i,df in enumerate(activity_reader):\n",
      "/tmp/ipykernel_364/3853139118.py:94: ParserWarning: Both a converter and dtype were specified for column pchembl_value - only the converter will be used.\n",
      "  for i,df in enumerate(activity_reader):\n"
     ]
    },
    {
     "name": "stdout",
     "output_type": "stream",
     "text": [
      "45050000\n",
      "Start Time = 20:01:41\n",
      "End Time = 20:01:58\n"
     ]
    },
    {
     "name": "stderr",
     "output_type": "stream",
     "text": [
      "/tmp/ipykernel_364/3853139118.py:94: ParserWarning: Both a converter and dtype were specified for column SMILES - only the converter will be used.\n",
      "  for i,df in enumerate(activity_reader):\n",
      "/tmp/ipykernel_364/3853139118.py:94: ParserWarning: Both a converter and dtype were specified for column pchembl_value - only the converter will be used.\n",
      "  for i,df in enumerate(activity_reader):\n"
     ]
    },
    {
     "name": "stdout",
     "output_type": "stream",
     "text": [
      "45100000\n",
      "Start Time = 20:02:12\n",
      "End Time = 20:02:29\n"
     ]
    },
    {
     "name": "stderr",
     "output_type": "stream",
     "text": [
      "/tmp/ipykernel_364/3853139118.py:94: ParserWarning: Both a converter and dtype were specified for column SMILES - only the converter will be used.\n",
      "  for i,df in enumerate(activity_reader):\n",
      "/tmp/ipykernel_364/3853139118.py:94: ParserWarning: Both a converter and dtype were specified for column pchembl_value - only the converter will be used.\n",
      "  for i,df in enumerate(activity_reader):\n"
     ]
    },
    {
     "name": "stdout",
     "output_type": "stream",
     "text": [
      "45150000\n",
      "Start Time = 20:02:44\n",
      "End Time = 20:02:58\n"
     ]
    },
    {
     "name": "stderr",
     "output_type": "stream",
     "text": [
      "/tmp/ipykernel_364/3853139118.py:94: ParserWarning: Both a converter and dtype were specified for column SMILES - only the converter will be used.\n",
      "  for i,df in enumerate(activity_reader):\n",
      "/tmp/ipykernel_364/3853139118.py:94: ParserWarning: Both a converter and dtype were specified for column pchembl_value - only the converter will be used.\n",
      "  for i,df in enumerate(activity_reader):\n"
     ]
    },
    {
     "name": "stdout",
     "output_type": "stream",
     "text": [
      "45200000\n",
      "Start Time = 20:03:12\n",
      "End Time = 20:03:29\n"
     ]
    },
    {
     "name": "stderr",
     "output_type": "stream",
     "text": [
      "/tmp/ipykernel_364/3853139118.py:94: ParserWarning: Both a converter and dtype were specified for column SMILES - only the converter will be used.\n",
      "  for i,df in enumerate(activity_reader):\n",
      "/tmp/ipykernel_364/3853139118.py:94: ParserWarning: Both a converter and dtype were specified for column pchembl_value - only the converter will be used.\n",
      "  for i,df in enumerate(activity_reader):\n"
     ]
    },
    {
     "name": "stdout",
     "output_type": "stream",
     "text": [
      "45250000\n",
      "Start Time = 20:03:44\n",
      "End Time = 20:04:00\n"
     ]
    },
    {
     "name": "stderr",
     "output_type": "stream",
     "text": [
      "/tmp/ipykernel_364/3853139118.py:94: ParserWarning: Both a converter and dtype were specified for column SMILES - only the converter will be used.\n",
      "  for i,df in enumerate(activity_reader):\n",
      "/tmp/ipykernel_364/3853139118.py:94: ParserWarning: Both a converter and dtype were specified for column pchembl_value - only the converter will be used.\n",
      "  for i,df in enumerate(activity_reader):\n"
     ]
    },
    {
     "name": "stdout",
     "output_type": "stream",
     "text": [
      "45300000\n",
      "Start Time = 20:04:14\n",
      "End Time = 20:04:29\n"
     ]
    },
    {
     "name": "stderr",
     "output_type": "stream",
     "text": [
      "/tmp/ipykernel_364/3853139118.py:94: ParserWarning: Both a converter and dtype were specified for column SMILES - only the converter will be used.\n",
      "  for i,df in enumerate(activity_reader):\n",
      "/tmp/ipykernel_364/3853139118.py:94: ParserWarning: Both a converter and dtype were specified for column pchembl_value - only the converter will be used.\n",
      "  for i,df in enumerate(activity_reader):\n"
     ]
    },
    {
     "name": "stdout",
     "output_type": "stream",
     "text": [
      "45350000\n",
      "Start Time = 20:04:44\n",
      "End Time = 20:05:00\n"
     ]
    },
    {
     "name": "stderr",
     "output_type": "stream",
     "text": [
      "/tmp/ipykernel_364/3853139118.py:94: ParserWarning: Both a converter and dtype were specified for column SMILES - only the converter will be used.\n",
      "  for i,df in enumerate(activity_reader):\n",
      "/tmp/ipykernel_364/3853139118.py:94: ParserWarning: Both a converter and dtype were specified for column pchembl_value - only the converter will be used.\n",
      "  for i,df in enumerate(activity_reader):\n"
     ]
    },
    {
     "name": "stdout",
     "output_type": "stream",
     "text": [
      "45400000\n",
      "Start Time = 20:05:14\n",
      "End Time = 20:05:31\n"
     ]
    },
    {
     "name": "stderr",
     "output_type": "stream",
     "text": [
      "/tmp/ipykernel_364/3853139118.py:94: ParserWarning: Both a converter and dtype were specified for column SMILES - only the converter will be used.\n",
      "  for i,df in enumerate(activity_reader):\n",
      "/tmp/ipykernel_364/3853139118.py:94: ParserWarning: Both a converter and dtype were specified for column pchembl_value - only the converter will be used.\n",
      "  for i,df in enumerate(activity_reader):\n"
     ]
    },
    {
     "name": "stdout",
     "output_type": "stream",
     "text": [
      "45450000\n",
      "Start Time = 20:05:46\n",
      "End Time = 20:06:01\n"
     ]
    },
    {
     "name": "stderr",
     "output_type": "stream",
     "text": [
      "/tmp/ipykernel_364/3853139118.py:94: ParserWarning: Both a converter and dtype were specified for column SMILES - only the converter will be used.\n",
      "  for i,df in enumerate(activity_reader):\n",
      "/tmp/ipykernel_364/3853139118.py:94: ParserWarning: Both a converter and dtype were specified for column pchembl_value - only the converter will be used.\n",
      "  for i,df in enumerate(activity_reader):\n"
     ]
    },
    {
     "name": "stdout",
     "output_type": "stream",
     "text": [
      "45500000\n",
      "Start Time = 20:06:16\n",
      "End Time = 20:06:32\n"
     ]
    },
    {
     "name": "stderr",
     "output_type": "stream",
     "text": [
      "/tmp/ipykernel_364/3853139118.py:94: ParserWarning: Both a converter and dtype were specified for column SMILES - only the converter will be used.\n",
      "  for i,df in enumerate(activity_reader):\n",
      "/tmp/ipykernel_364/3853139118.py:94: ParserWarning: Both a converter and dtype were specified for column pchembl_value - only the converter will be used.\n",
      "  for i,df in enumerate(activity_reader):\n"
     ]
    },
    {
     "name": "stdout",
     "output_type": "stream",
     "text": [
      "45550000\n",
      "Start Time = 20:06:47\n",
      "End Time = 20:07:03\n"
     ]
    },
    {
     "name": "stderr",
     "output_type": "stream",
     "text": [
      "/tmp/ipykernel_364/3853139118.py:94: ParserWarning: Both a converter and dtype were specified for column SMILES - only the converter will be used.\n",
      "  for i,df in enumerate(activity_reader):\n",
      "/tmp/ipykernel_364/3853139118.py:94: ParserWarning: Both a converter and dtype were specified for column pchembl_value - only the converter will be used.\n",
      "  for i,df in enumerate(activity_reader):\n"
     ]
    },
    {
     "name": "stdout",
     "output_type": "stream",
     "text": [
      "45600000\n",
      "Start Time = 20:07:17\n",
      "End Time = 20:07:33\n"
     ]
    },
    {
     "name": "stderr",
     "output_type": "stream",
     "text": [
      "/tmp/ipykernel_364/3853139118.py:94: ParserWarning: Both a converter and dtype were specified for column SMILES - only the converter will be used.\n",
      "  for i,df in enumerate(activity_reader):\n",
      "/tmp/ipykernel_364/3853139118.py:94: ParserWarning: Both a converter and dtype were specified for column pchembl_value - only the converter will be used.\n",
      "  for i,df in enumerate(activity_reader):\n"
     ]
    },
    {
     "name": "stdout",
     "output_type": "stream",
     "text": [
      "45650000\n",
      "Start Time = 20:07:47\n",
      "End Time = 20:08:04\n"
     ]
    },
    {
     "name": "stderr",
     "output_type": "stream",
     "text": [
      "/tmp/ipykernel_364/3853139118.py:94: ParserWarning: Both a converter and dtype were specified for column SMILES - only the converter will be used.\n",
      "  for i,df in enumerate(activity_reader):\n",
      "/tmp/ipykernel_364/3853139118.py:94: ParserWarning: Both a converter and dtype were specified for column pchembl_value - only the converter will be used.\n",
      "  for i,df in enumerate(activity_reader):\n"
     ]
    },
    {
     "name": "stdout",
     "output_type": "stream",
     "text": [
      "45700000\n",
      "Start Time = 20:08:18\n",
      "End Time = 20:08:34\n"
     ]
    },
    {
     "name": "stderr",
     "output_type": "stream",
     "text": [
      "/tmp/ipykernel_364/3853139118.py:94: ParserWarning: Both a converter and dtype were specified for column SMILES - only the converter will be used.\n",
      "  for i,df in enumerate(activity_reader):\n",
      "/tmp/ipykernel_364/3853139118.py:94: ParserWarning: Both a converter and dtype were specified for column pchembl_value - only the converter will be used.\n",
      "  for i,df in enumerate(activity_reader):\n"
     ]
    },
    {
     "name": "stdout",
     "output_type": "stream",
     "text": [
      "45750000\n",
      "Start Time = 20:08:49\n",
      "End Time = 20:09:04\n"
     ]
    },
    {
     "name": "stderr",
     "output_type": "stream",
     "text": [
      "/tmp/ipykernel_364/3853139118.py:94: ParserWarning: Both a converter and dtype were specified for column SMILES - only the converter will be used.\n",
      "  for i,df in enumerate(activity_reader):\n",
      "/tmp/ipykernel_364/3853139118.py:94: ParserWarning: Both a converter and dtype were specified for column pchembl_value - only the converter will be used.\n",
      "  for i,df in enumerate(activity_reader):\n"
     ]
    },
    {
     "name": "stdout",
     "output_type": "stream",
     "text": [
      "45800000\n",
      "Start Time = 20:09:18\n",
      "End Time = 20:09:34\n"
     ]
    },
    {
     "name": "stderr",
     "output_type": "stream",
     "text": [
      "/tmp/ipykernel_364/3853139118.py:94: ParserWarning: Both a converter and dtype were specified for column SMILES - only the converter will be used.\n",
      "  for i,df in enumerate(activity_reader):\n",
      "/tmp/ipykernel_364/3853139118.py:94: ParserWarning: Both a converter and dtype were specified for column pchembl_value - only the converter will be used.\n",
      "  for i,df in enumerate(activity_reader):\n"
     ]
    },
    {
     "name": "stdout",
     "output_type": "stream",
     "text": [
      "45850000\n",
      "Start Time = 20:09:49\n",
      "End Time = 20:10:06\n"
     ]
    },
    {
     "name": "stderr",
     "output_type": "stream",
     "text": [
      "/tmp/ipykernel_364/3853139118.py:94: ParserWarning: Both a converter and dtype were specified for column SMILES - only the converter will be used.\n",
      "  for i,df in enumerate(activity_reader):\n",
      "/tmp/ipykernel_364/3853139118.py:94: ParserWarning: Both a converter and dtype were specified for column pchembl_value - only the converter will be used.\n",
      "  for i,df in enumerate(activity_reader):\n"
     ]
    },
    {
     "name": "stdout",
     "output_type": "stream",
     "text": [
      "45900000\n",
      "Start Time = 20:10:21\n",
      "End Time = 20:10:37\n"
     ]
    },
    {
     "name": "stderr",
     "output_type": "stream",
     "text": [
      "/tmp/ipykernel_364/3853139118.py:94: ParserWarning: Both a converter and dtype were specified for column SMILES - only the converter will be used.\n",
      "  for i,df in enumerate(activity_reader):\n",
      "/tmp/ipykernel_364/3853139118.py:94: ParserWarning: Both a converter and dtype were specified for column pchembl_value - only the converter will be used.\n",
      "  for i,df in enumerate(activity_reader):\n"
     ]
    },
    {
     "name": "stdout",
     "output_type": "stream",
     "text": [
      "45950000\n",
      "Start Time = 20:10:51\n",
      "End Time = 20:11:08\n"
     ]
    },
    {
     "name": "stderr",
     "output_type": "stream",
     "text": [
      "/tmp/ipykernel_364/3853139118.py:94: ParserWarning: Both a converter and dtype were specified for column SMILES - only the converter will be used.\n",
      "  for i,df in enumerate(activity_reader):\n",
      "/tmp/ipykernel_364/3853139118.py:94: ParserWarning: Both a converter and dtype were specified for column pchembl_value - only the converter will be used.\n",
      "  for i,df in enumerate(activity_reader):\n"
     ]
    },
    {
     "name": "stdout",
     "output_type": "stream",
     "text": [
      "46000000\n",
      "Start Time = 20:11:21\n",
      "End Time = 20:11:37\n"
     ]
    },
    {
     "name": "stderr",
     "output_type": "stream",
     "text": [
      "/tmp/ipykernel_364/3853139118.py:94: ParserWarning: Both a converter and dtype were specified for column SMILES - only the converter will be used.\n",
      "  for i,df in enumerate(activity_reader):\n",
      "/tmp/ipykernel_364/3853139118.py:94: ParserWarning: Both a converter and dtype were specified for column pchembl_value - only the converter will be used.\n",
      "  for i,df in enumerate(activity_reader):\n"
     ]
    },
    {
     "name": "stdout",
     "output_type": "stream",
     "text": [
      "46050000\n",
      "Start Time = 20:11:52\n",
      "End Time = 20:12:06\n"
     ]
    },
    {
     "name": "stderr",
     "output_type": "stream",
     "text": [
      "/tmp/ipykernel_364/3853139118.py:94: ParserWarning: Both a converter and dtype were specified for column SMILES - only the converter will be used.\n",
      "  for i,df in enumerate(activity_reader):\n",
      "/tmp/ipykernel_364/3853139118.py:94: ParserWarning: Both a converter and dtype were specified for column pchembl_value - only the converter will be used.\n",
      "  for i,df in enumerate(activity_reader):\n"
     ]
    },
    {
     "name": "stdout",
     "output_type": "stream",
     "text": [
      "46100000\n",
      "Start Time = 20:12:21\n",
      "End Time = 20:12:37\n"
     ]
    },
    {
     "name": "stderr",
     "output_type": "stream",
     "text": [
      "/tmp/ipykernel_364/3853139118.py:94: ParserWarning: Both a converter and dtype were specified for column SMILES - only the converter will be used.\n",
      "  for i,df in enumerate(activity_reader):\n",
      "/tmp/ipykernel_364/3853139118.py:94: ParserWarning: Both a converter and dtype were specified for column pchembl_value - only the converter will be used.\n",
      "  for i,df in enumerate(activity_reader):\n"
     ]
    },
    {
     "name": "stdout",
     "output_type": "stream",
     "text": [
      "46150000\n",
      "Start Time = 20:12:52\n",
      "End Time = 20:13:09\n"
     ]
    },
    {
     "name": "stderr",
     "output_type": "stream",
     "text": [
      "/tmp/ipykernel_364/3853139118.py:94: ParserWarning: Both a converter and dtype were specified for column SMILES - only the converter will be used.\n",
      "  for i,df in enumerate(activity_reader):\n",
      "/tmp/ipykernel_364/3853139118.py:94: ParserWarning: Both a converter and dtype were specified for column pchembl_value - only the converter will be used.\n",
      "  for i,df in enumerate(activity_reader):\n"
     ]
    },
    {
     "name": "stdout",
     "output_type": "stream",
     "text": [
      "46200000\n",
      "Start Time = 20:13:23\n",
      "End Time = 20:13:38\n"
     ]
    },
    {
     "name": "stderr",
     "output_type": "stream",
     "text": [
      "/tmp/ipykernel_364/3853139118.py:94: ParserWarning: Both a converter and dtype were specified for column SMILES - only the converter will be used.\n",
      "  for i,df in enumerate(activity_reader):\n",
      "/tmp/ipykernel_364/3853139118.py:94: ParserWarning: Both a converter and dtype were specified for column pchembl_value - only the converter will be used.\n",
      "  for i,df in enumerate(activity_reader):\n"
     ]
    },
    {
     "name": "stdout",
     "output_type": "stream",
     "text": [
      "46250000\n",
      "Start Time = 20:13:52\n",
      "End Time = 20:14:08\n"
     ]
    },
    {
     "name": "stderr",
     "output_type": "stream",
     "text": [
      "/tmp/ipykernel_364/3853139118.py:94: ParserWarning: Both a converter and dtype were specified for column SMILES - only the converter will be used.\n",
      "  for i,df in enumerate(activity_reader):\n",
      "/tmp/ipykernel_364/3853139118.py:94: ParserWarning: Both a converter and dtype were specified for column pchembl_value - only the converter will be used.\n",
      "  for i,df in enumerate(activity_reader):\n"
     ]
    },
    {
     "name": "stdout",
     "output_type": "stream",
     "text": [
      "46300000\n",
      "Start Time = 20:14:23\n",
      "End Time = 20:14:41\n"
     ]
    },
    {
     "name": "stderr",
     "output_type": "stream",
     "text": [
      "/tmp/ipykernel_364/3853139118.py:94: ParserWarning: Both a converter and dtype were specified for column SMILES - only the converter will be used.\n",
      "  for i,df in enumerate(activity_reader):\n",
      "/tmp/ipykernel_364/3853139118.py:94: ParserWarning: Both a converter and dtype were specified for column pchembl_value - only the converter will be used.\n",
      "  for i,df in enumerate(activity_reader):\n"
     ]
    },
    {
     "name": "stdout",
     "output_type": "stream",
     "text": [
      "46350000\n",
      "Start Time = 20:14:56\n",
      "End Time = 20:15:12\n"
     ]
    },
    {
     "name": "stderr",
     "output_type": "stream",
     "text": [
      "/tmp/ipykernel_364/3853139118.py:94: ParserWarning: Both a converter and dtype were specified for column SMILES - only the converter will be used.\n",
      "  for i,df in enumerate(activity_reader):\n",
      "/tmp/ipykernel_364/3853139118.py:94: ParserWarning: Both a converter and dtype were specified for column pchembl_value - only the converter will be used.\n",
      "  for i,df in enumerate(activity_reader):\n"
     ]
    },
    {
     "name": "stdout",
     "output_type": "stream",
     "text": [
      "46400000\n",
      "Start Time = 20:15:27\n",
      "End Time = 20:15:44\n"
     ]
    },
    {
     "name": "stderr",
     "output_type": "stream",
     "text": [
      "/tmp/ipykernel_364/3853139118.py:94: ParserWarning: Both a converter and dtype were specified for column SMILES - only the converter will be used.\n",
      "  for i,df in enumerate(activity_reader):\n",
      "/tmp/ipykernel_364/3853139118.py:94: ParserWarning: Both a converter and dtype were specified for column pchembl_value - only the converter will be used.\n",
      "  for i,df in enumerate(activity_reader):\n"
     ]
    },
    {
     "name": "stdout",
     "output_type": "stream",
     "text": [
      "46450000\n",
      "Start Time = 20:15:59\n",
      "End Time = 20:16:17\n"
     ]
    },
    {
     "name": "stderr",
     "output_type": "stream",
     "text": [
      "/tmp/ipykernel_364/3853139118.py:94: ParserWarning: Both a converter and dtype were specified for column SMILES - only the converter will be used.\n",
      "  for i,df in enumerate(activity_reader):\n",
      "/tmp/ipykernel_364/3853139118.py:94: ParserWarning: Both a converter and dtype were specified for column pchembl_value - only the converter will be used.\n",
      "  for i,df in enumerate(activity_reader):\n"
     ]
    },
    {
     "name": "stdout",
     "output_type": "stream",
     "text": [
      "46500000\n",
      "Start Time = 20:16:32\n",
      "End Time = 20:16:46\n"
     ]
    },
    {
     "name": "stderr",
     "output_type": "stream",
     "text": [
      "/tmp/ipykernel_364/3853139118.py:94: ParserWarning: Both a converter and dtype were specified for column SMILES - only the converter will be used.\n",
      "  for i,df in enumerate(activity_reader):\n",
      "/tmp/ipykernel_364/3853139118.py:94: ParserWarning: Both a converter and dtype were specified for column pchembl_value - only the converter will be used.\n",
      "  for i,df in enumerate(activity_reader):\n"
     ]
    },
    {
     "name": "stdout",
     "output_type": "stream",
     "text": [
      "46550000\n",
      "Start Time = 20:17:00\n",
      "End Time = 20:17:17\n"
     ]
    },
    {
     "name": "stderr",
     "output_type": "stream",
     "text": [
      "/tmp/ipykernel_364/3853139118.py:94: ParserWarning: Both a converter and dtype were specified for column SMILES - only the converter will be used.\n",
      "  for i,df in enumerate(activity_reader):\n",
      "/tmp/ipykernel_364/3853139118.py:94: ParserWarning: Both a converter and dtype were specified for column pchembl_value - only the converter will be used.\n",
      "  for i,df in enumerate(activity_reader):\n"
     ]
    },
    {
     "name": "stdout",
     "output_type": "stream",
     "text": [
      "46600000\n",
      "Start Time = 20:17:31\n",
      "End Time = 20:17:48\n"
     ]
    },
    {
     "name": "stderr",
     "output_type": "stream",
     "text": [
      "/tmp/ipykernel_364/3853139118.py:94: ParserWarning: Both a converter and dtype were specified for column SMILES - only the converter will be used.\n",
      "  for i,df in enumerate(activity_reader):\n",
      "/tmp/ipykernel_364/3853139118.py:94: ParserWarning: Both a converter and dtype were specified for column pchembl_value - only the converter will be used.\n",
      "  for i,df in enumerate(activity_reader):\n"
     ]
    },
    {
     "name": "stdout",
     "output_type": "stream",
     "text": [
      "46650000\n",
      "Start Time = 20:18:02\n",
      "End Time = 20:18:17\n"
     ]
    },
    {
     "name": "stderr",
     "output_type": "stream",
     "text": [
      "/tmp/ipykernel_364/3853139118.py:94: ParserWarning: Both a converter and dtype were specified for column SMILES - only the converter will be used.\n",
      "  for i,df in enumerate(activity_reader):\n",
      "/tmp/ipykernel_364/3853139118.py:94: ParserWarning: Both a converter and dtype were specified for column pchembl_value - only the converter will be used.\n",
      "  for i,df in enumerate(activity_reader):\n"
     ]
    },
    {
     "name": "stdout",
     "output_type": "stream",
     "text": [
      "46700000\n",
      "Start Time = 20:18:32\n",
      "End Time = 20:18:48\n"
     ]
    },
    {
     "name": "stderr",
     "output_type": "stream",
     "text": [
      "/tmp/ipykernel_364/3853139118.py:94: ParserWarning: Both a converter and dtype were specified for column SMILES - only the converter will be used.\n",
      "  for i,df in enumerate(activity_reader):\n",
      "/tmp/ipykernel_364/3853139118.py:94: ParserWarning: Both a converter and dtype were specified for column pchembl_value - only the converter will be used.\n",
      "  for i,df in enumerate(activity_reader):\n"
     ]
    },
    {
     "name": "stdout",
     "output_type": "stream",
     "text": [
      "46750000\n",
      "Start Time = 20:19:02\n",
      "End Time = 20:19:19\n"
     ]
    },
    {
     "name": "stderr",
     "output_type": "stream",
     "text": [
      "/tmp/ipykernel_364/3853139118.py:94: ParserWarning: Both a converter and dtype were specified for column SMILES - only the converter will be used.\n",
      "  for i,df in enumerate(activity_reader):\n",
      "/tmp/ipykernel_364/3853139118.py:94: ParserWarning: Both a converter and dtype were specified for column pchembl_value - only the converter will be used.\n",
      "  for i,df in enumerate(activity_reader):\n"
     ]
    },
    {
     "name": "stdout",
     "output_type": "stream",
     "text": [
      "46800000\n",
      "Start Time = 20:19:33\n",
      "End Time = 20:19:48\n"
     ]
    },
    {
     "name": "stderr",
     "output_type": "stream",
     "text": [
      "/tmp/ipykernel_364/3853139118.py:94: ParserWarning: Both a converter and dtype were specified for column SMILES - only the converter will be used.\n",
      "  for i,df in enumerate(activity_reader):\n",
      "/tmp/ipykernel_364/3853139118.py:94: ParserWarning: Both a converter and dtype were specified for column pchembl_value - only the converter will be used.\n",
      "  for i,df in enumerate(activity_reader):\n"
     ]
    },
    {
     "name": "stdout",
     "output_type": "stream",
     "text": [
      "46850000\n",
      "Start Time = 20:20:03\n",
      "End Time = 20:20:21\n"
     ]
    },
    {
     "name": "stderr",
     "output_type": "stream",
     "text": [
      "/tmp/ipykernel_364/3853139118.py:94: ParserWarning: Both a converter and dtype were specified for column SMILES - only the converter will be used.\n",
      "  for i,df in enumerate(activity_reader):\n",
      "/tmp/ipykernel_364/3853139118.py:94: ParserWarning: Both a converter and dtype were specified for column pchembl_value - only the converter will be used.\n",
      "  for i,df in enumerate(activity_reader):\n"
     ]
    },
    {
     "name": "stdout",
     "output_type": "stream",
     "text": [
      "46900000\n",
      "Start Time = 20:20:35\n",
      "End Time = 20:20:52\n"
     ]
    },
    {
     "name": "stderr",
     "output_type": "stream",
     "text": [
      "/tmp/ipykernel_364/3853139118.py:94: ParserWarning: Both a converter and dtype were specified for column SMILES - only the converter will be used.\n",
      "  for i,df in enumerate(activity_reader):\n",
      "/tmp/ipykernel_364/3853139118.py:94: ParserWarning: Both a converter and dtype were specified for column pchembl_value - only the converter will be used.\n",
      "  for i,df in enumerate(activity_reader):\n"
     ]
    },
    {
     "name": "stdout",
     "output_type": "stream",
     "text": [
      "46950000\n",
      "Start Time = 20:21:07\n",
      "End Time = 20:21:22\n"
     ]
    },
    {
     "name": "stderr",
     "output_type": "stream",
     "text": [
      "/tmp/ipykernel_364/3853139118.py:94: ParserWarning: Both a converter and dtype were specified for column SMILES - only the converter will be used.\n",
      "  for i,df in enumerate(activity_reader):\n",
      "/tmp/ipykernel_364/3853139118.py:94: ParserWarning: Both a converter and dtype were specified for column pchembl_value - only the converter will be used.\n",
      "  for i,df in enumerate(activity_reader):\n"
     ]
    },
    {
     "name": "stdout",
     "output_type": "stream",
     "text": [
      "47000000\n",
      "Start Time = 20:21:37\n",
      "End Time = 20:21:53\n"
     ]
    },
    {
     "name": "stderr",
     "output_type": "stream",
     "text": [
      "/tmp/ipykernel_364/3853139118.py:94: ParserWarning: Both a converter and dtype were specified for column SMILES - only the converter will be used.\n",
      "  for i,df in enumerate(activity_reader):\n",
      "/tmp/ipykernel_364/3853139118.py:94: ParserWarning: Both a converter and dtype were specified for column pchembl_value - only the converter will be used.\n",
      "  for i,df in enumerate(activity_reader):\n"
     ]
    },
    {
     "name": "stdout",
     "output_type": "stream",
     "text": [
      "47050000\n",
      "Start Time = 20:22:08\n",
      "End Time = 20:22:25\n"
     ]
    },
    {
     "name": "stderr",
     "output_type": "stream",
     "text": [
      "/tmp/ipykernel_364/3853139118.py:94: ParserWarning: Both a converter and dtype were specified for column SMILES - only the converter will be used.\n",
      "  for i,df in enumerate(activity_reader):\n",
      "/tmp/ipykernel_364/3853139118.py:94: ParserWarning: Both a converter and dtype were specified for column pchembl_value - only the converter will be used.\n",
      "  for i,df in enumerate(activity_reader):\n"
     ]
    },
    {
     "name": "stdout",
     "output_type": "stream",
     "text": [
      "47100000\n",
      "Start Time = 20:22:39\n",
      "End Time = 20:22:54\n"
     ]
    },
    {
     "name": "stderr",
     "output_type": "stream",
     "text": [
      "/tmp/ipykernel_364/3853139118.py:94: ParserWarning: Both a converter and dtype were specified for column SMILES - only the converter will be used.\n",
      "  for i,df in enumerate(activity_reader):\n",
      "/tmp/ipykernel_364/3853139118.py:94: ParserWarning: Both a converter and dtype were specified for column pchembl_value - only the converter will be used.\n",
      "  for i,df in enumerate(activity_reader):\n"
     ]
    },
    {
     "name": "stdout",
     "output_type": "stream",
     "text": [
      "47150000\n",
      "Start Time = 20:23:09\n",
      "End Time = 20:23:26\n"
     ]
    },
    {
     "name": "stderr",
     "output_type": "stream",
     "text": [
      "/tmp/ipykernel_364/3853139118.py:94: ParserWarning: Both a converter and dtype were specified for column SMILES - only the converter will be used.\n",
      "  for i,df in enumerate(activity_reader):\n",
      "/tmp/ipykernel_364/3853139118.py:94: ParserWarning: Both a converter and dtype were specified for column pchembl_value - only the converter will be used.\n",
      "  for i,df in enumerate(activity_reader):\n"
     ]
    },
    {
     "name": "stdout",
     "output_type": "stream",
     "text": [
      "47200000\n",
      "Start Time = 20:23:41\n",
      "End Time = 20:23:58\n"
     ]
    },
    {
     "name": "stderr",
     "output_type": "stream",
     "text": [
      "/tmp/ipykernel_364/3853139118.py:94: ParserWarning: Both a converter and dtype were specified for column SMILES - only the converter will be used.\n",
      "  for i,df in enumerate(activity_reader):\n",
      "/tmp/ipykernel_364/3853139118.py:94: ParserWarning: Both a converter and dtype were specified for column pchembl_value - only the converter will be used.\n",
      "  for i,df in enumerate(activity_reader):\n"
     ]
    },
    {
     "name": "stdout",
     "output_type": "stream",
     "text": [
      "47250000\n",
      "Start Time = 20:24:12\n",
      "End Time = 20:24:27\n"
     ]
    },
    {
     "name": "stderr",
     "output_type": "stream",
     "text": [
      "/tmp/ipykernel_364/3853139118.py:94: ParserWarning: Both a converter and dtype were specified for column SMILES - only the converter will be used.\n",
      "  for i,df in enumerate(activity_reader):\n",
      "/tmp/ipykernel_364/3853139118.py:94: ParserWarning: Both a converter and dtype were specified for column pchembl_value - only the converter will be used.\n",
      "  for i,df in enumerate(activity_reader):\n"
     ]
    },
    {
     "name": "stdout",
     "output_type": "stream",
     "text": [
      "47300000\n",
      "Start Time = 20:24:42\n",
      "End Time = 20:24:59\n"
     ]
    },
    {
     "name": "stderr",
     "output_type": "stream",
     "text": [
      "/tmp/ipykernel_364/3853139118.py:94: ParserWarning: Both a converter and dtype were specified for column SMILES - only the converter will be used.\n",
      "  for i,df in enumerate(activity_reader):\n",
      "/tmp/ipykernel_364/3853139118.py:94: ParserWarning: Both a converter and dtype were specified for column pchembl_value - only the converter will be used.\n",
      "  for i,df in enumerate(activity_reader):\n"
     ]
    },
    {
     "name": "stdout",
     "output_type": "stream",
     "text": [
      "47350000\n",
      "Start Time = 20:25:14\n",
      "End Time = 20:25:31\n"
     ]
    },
    {
     "name": "stderr",
     "output_type": "stream",
     "text": [
      "/tmp/ipykernel_364/3853139118.py:94: ParserWarning: Both a converter and dtype were specified for column SMILES - only the converter will be used.\n",
      "  for i,df in enumerate(activity_reader):\n",
      "/tmp/ipykernel_364/3853139118.py:94: ParserWarning: Both a converter and dtype were specified for column pchembl_value - only the converter will be used.\n",
      "  for i,df in enumerate(activity_reader):\n"
     ]
    },
    {
     "name": "stdout",
     "output_type": "stream",
     "text": [
      "47400000\n",
      "Start Time = 20:25:46\n",
      "End Time = 20:26:01\n"
     ]
    },
    {
     "name": "stderr",
     "output_type": "stream",
     "text": [
      "/tmp/ipykernel_364/3853139118.py:94: ParserWarning: Both a converter and dtype were specified for column SMILES - only the converter will be used.\n",
      "  for i,df in enumerate(activity_reader):\n",
      "/tmp/ipykernel_364/3853139118.py:94: ParserWarning: Both a converter and dtype were specified for column pchembl_value - only the converter will be used.\n",
      "  for i,df in enumerate(activity_reader):\n"
     ]
    },
    {
     "name": "stdout",
     "output_type": "stream",
     "text": [
      "47450000\n",
      "Start Time = 20:26:15\n",
      "End Time = 20:26:31\n"
     ]
    },
    {
     "name": "stderr",
     "output_type": "stream",
     "text": [
      "/tmp/ipykernel_364/3853139118.py:94: ParserWarning: Both a converter and dtype were specified for column SMILES - only the converter will be used.\n",
      "  for i,df in enumerate(activity_reader):\n",
      "/tmp/ipykernel_364/3853139118.py:94: ParserWarning: Both a converter and dtype were specified for column pchembl_value - only the converter will be used.\n",
      "  for i,df in enumerate(activity_reader):\n"
     ]
    },
    {
     "name": "stdout",
     "output_type": "stream",
     "text": [
      "47500000\n",
      "Start Time = 20:26:46\n",
      "End Time = 20:27:02\n"
     ]
    },
    {
     "name": "stderr",
     "output_type": "stream",
     "text": [
      "/tmp/ipykernel_364/3853139118.py:94: ParserWarning: Both a converter and dtype were specified for column SMILES - only the converter will be used.\n",
      "  for i,df in enumerate(activity_reader):\n",
      "/tmp/ipykernel_364/3853139118.py:94: ParserWarning: Both a converter and dtype were specified for column pchembl_value - only the converter will be used.\n",
      "  for i,df in enumerate(activity_reader):\n"
     ]
    },
    {
     "name": "stdout",
     "output_type": "stream",
     "text": [
      "47550000\n",
      "Start Time = 20:27:16\n",
      "End Time = 20:27:31\n"
     ]
    },
    {
     "name": "stderr",
     "output_type": "stream",
     "text": [
      "/tmp/ipykernel_364/3853139118.py:94: ParserWarning: Both a converter and dtype were specified for column SMILES - only the converter will be used.\n",
      "  for i,df in enumerate(activity_reader):\n",
      "/tmp/ipykernel_364/3853139118.py:94: ParserWarning: Both a converter and dtype were specified for column pchembl_value - only the converter will be used.\n",
      "  for i,df in enumerate(activity_reader):\n"
     ]
    },
    {
     "name": "stdout",
     "output_type": "stream",
     "text": [
      "47600000\n",
      "Start Time = 20:27:46\n",
      "End Time = 20:28:03\n"
     ]
    },
    {
     "name": "stderr",
     "output_type": "stream",
     "text": [
      "/tmp/ipykernel_364/3853139118.py:94: ParserWarning: Both a converter and dtype were specified for column SMILES - only the converter will be used.\n",
      "  for i,df in enumerate(activity_reader):\n",
      "/tmp/ipykernel_364/3853139118.py:94: ParserWarning: Both a converter and dtype were specified for column pchembl_value - only the converter will be used.\n",
      "  for i,df in enumerate(activity_reader):\n"
     ]
    },
    {
     "name": "stdout",
     "output_type": "stream",
     "text": [
      "47650000\n",
      "Start Time = 20:28:17\n",
      "End Time = 20:28:33\n"
     ]
    },
    {
     "name": "stderr",
     "output_type": "stream",
     "text": [
      "/tmp/ipykernel_364/3853139118.py:94: ParserWarning: Both a converter and dtype were specified for column SMILES - only the converter will be used.\n",
      "  for i,df in enumerate(activity_reader):\n",
      "/tmp/ipykernel_364/3853139118.py:94: ParserWarning: Both a converter and dtype were specified for column pchembl_value - only the converter will be used.\n",
      "  for i,df in enumerate(activity_reader):\n"
     ]
    },
    {
     "name": "stdout",
     "output_type": "stream",
     "text": [
      "47700000\n",
      "Start Time = 20:28:48\n",
      "End Time = 20:29:03\n"
     ]
    },
    {
     "name": "stderr",
     "output_type": "stream",
     "text": [
      "/tmp/ipykernel_364/3853139118.py:94: ParserWarning: Both a converter and dtype were specified for column SMILES - only the converter will be used.\n",
      "  for i,df in enumerate(activity_reader):\n",
      "/tmp/ipykernel_364/3853139118.py:94: ParserWarning: Both a converter and dtype were specified for column pchembl_value - only the converter will be used.\n",
      "  for i,df in enumerate(activity_reader):\n"
     ]
    },
    {
     "name": "stdout",
     "output_type": "stream",
     "text": [
      "47750000\n",
      "Start Time = 20:29:17\n",
      "End Time = 20:29:33\n"
     ]
    },
    {
     "name": "stderr",
     "output_type": "stream",
     "text": [
      "/tmp/ipykernel_364/3853139118.py:94: ParserWarning: Both a converter and dtype were specified for column SMILES - only the converter will be used.\n",
      "  for i,df in enumerate(activity_reader):\n",
      "/tmp/ipykernel_364/3853139118.py:94: ParserWarning: Both a converter and dtype were specified for column pchembl_value - only the converter will be used.\n",
      "  for i,df in enumerate(activity_reader):\n"
     ]
    },
    {
     "name": "stdout",
     "output_type": "stream",
     "text": [
      "47800000\n",
      "Start Time = 20:29:49\n",
      "End Time = 20:30:07\n"
     ]
    },
    {
     "name": "stderr",
     "output_type": "stream",
     "text": [
      "/tmp/ipykernel_364/3853139118.py:94: ParserWarning: Both a converter and dtype were specified for column SMILES - only the converter will be used.\n",
      "  for i,df in enumerate(activity_reader):\n",
      "/tmp/ipykernel_364/3853139118.py:94: ParserWarning: Both a converter and dtype were specified for column pchembl_value - only the converter will be used.\n",
      "  for i,df in enumerate(activity_reader):\n"
     ]
    },
    {
     "name": "stdout",
     "output_type": "stream",
     "text": [
      "47850000\n",
      "Start Time = 20:30:22\n",
      "End Time = 20:30:37\n"
     ]
    },
    {
     "name": "stderr",
     "output_type": "stream",
     "text": [
      "/tmp/ipykernel_364/3853139118.py:94: ParserWarning: Both a converter and dtype were specified for column SMILES - only the converter will be used.\n",
      "  for i,df in enumerate(activity_reader):\n",
      "/tmp/ipykernel_364/3853139118.py:94: ParserWarning: Both a converter and dtype were specified for column pchembl_value - only the converter will be used.\n",
      "  for i,df in enumerate(activity_reader):\n"
     ]
    },
    {
     "name": "stdout",
     "output_type": "stream",
     "text": [
      "47900000\n",
      "Start Time = 20:30:51\n",
      "End Time = 20:31:08\n"
     ]
    },
    {
     "name": "stderr",
     "output_type": "stream",
     "text": [
      "/tmp/ipykernel_364/3853139118.py:94: ParserWarning: Both a converter and dtype were specified for column SMILES - only the converter will be used.\n",
      "  for i,df in enumerate(activity_reader):\n",
      "/tmp/ipykernel_364/3853139118.py:94: ParserWarning: Both a converter and dtype were specified for column pchembl_value - only the converter will be used.\n",
      "  for i,df in enumerate(activity_reader):\n"
     ]
    },
    {
     "name": "stdout",
     "output_type": "stream",
     "text": [
      "47950000\n",
      "Start Time = 20:31:23\n",
      "End Time = 20:31:39\n"
     ]
    },
    {
     "name": "stderr",
     "output_type": "stream",
     "text": [
      "/tmp/ipykernel_364/3853139118.py:94: ParserWarning: Both a converter and dtype were specified for column SMILES - only the converter will be used.\n",
      "  for i,df in enumerate(activity_reader):\n",
      "/tmp/ipykernel_364/3853139118.py:94: ParserWarning: Both a converter and dtype were specified for column pchembl_value - only the converter will be used.\n",
      "  for i,df in enumerate(activity_reader):\n"
     ]
    },
    {
     "name": "stdout",
     "output_type": "stream",
     "text": [
      "48000000\n",
      "Start Time = 20:31:53\n",
      "End Time = 20:32:08\n"
     ]
    },
    {
     "name": "stderr",
     "output_type": "stream",
     "text": [
      "/tmp/ipykernel_364/3853139118.py:94: ParserWarning: Both a converter and dtype were specified for column SMILES - only the converter will be used.\n",
      "  for i,df in enumerate(activity_reader):\n",
      "/tmp/ipykernel_364/3853139118.py:94: ParserWarning: Both a converter and dtype were specified for column pchembl_value - only the converter will be used.\n",
      "  for i,df in enumerate(activity_reader):\n"
     ]
    },
    {
     "name": "stdout",
     "output_type": "stream",
     "text": [
      "48050000\n",
      "Start Time = 20:32:23\n",
      "End Time = 20:32:39\n"
     ]
    },
    {
     "name": "stderr",
     "output_type": "stream",
     "text": [
      "/tmp/ipykernel_364/3853139118.py:94: ParserWarning: Both a converter and dtype were specified for column SMILES - only the converter will be used.\n",
      "  for i,df in enumerate(activity_reader):\n",
      "/tmp/ipykernel_364/3853139118.py:94: ParserWarning: Both a converter and dtype were specified for column pchembl_value - only the converter will be used.\n",
      "  for i,df in enumerate(activity_reader):\n"
     ]
    },
    {
     "name": "stdout",
     "output_type": "stream",
     "text": [
      "48100000\n",
      "Start Time = 20:32:54\n",
      "End Time = 20:33:10\n"
     ]
    },
    {
     "name": "stderr",
     "output_type": "stream",
     "text": [
      "/tmp/ipykernel_364/3853139118.py:94: ParserWarning: Both a converter and dtype were specified for column SMILES - only the converter will be used.\n",
      "  for i,df in enumerate(activity_reader):\n",
      "/tmp/ipykernel_364/3853139118.py:94: ParserWarning: Both a converter and dtype were specified for column pchembl_value - only the converter will be used.\n",
      "  for i,df in enumerate(activity_reader):\n"
     ]
    },
    {
     "name": "stdout",
     "output_type": "stream",
     "text": [
      "48150000\n",
      "Start Time = 20:33:25\n",
      "End Time = 20:33:40\n"
     ]
    },
    {
     "name": "stderr",
     "output_type": "stream",
     "text": [
      "/tmp/ipykernel_364/3853139118.py:94: ParserWarning: Both a converter and dtype were specified for column SMILES - only the converter will be used.\n",
      "  for i,df in enumerate(activity_reader):\n",
      "/tmp/ipykernel_364/3853139118.py:94: ParserWarning: Both a converter and dtype were specified for column pchembl_value - only the converter will be used.\n",
      "  for i,df in enumerate(activity_reader):\n"
     ]
    },
    {
     "name": "stdout",
     "output_type": "stream",
     "text": [
      "48200000\n",
      "Start Time = 20:33:55\n",
      "End Time = 20:34:12\n"
     ]
    },
    {
     "name": "stderr",
     "output_type": "stream",
     "text": [
      "/tmp/ipykernel_364/3853139118.py:94: ParserWarning: Both a converter and dtype were specified for column SMILES - only the converter will be used.\n",
      "  for i,df in enumerate(activity_reader):\n",
      "/tmp/ipykernel_364/3853139118.py:94: ParserWarning: Both a converter and dtype were specified for column pchembl_value - only the converter will be used.\n",
      "  for i,df in enumerate(activity_reader):\n"
     ]
    },
    {
     "name": "stdout",
     "output_type": "stream",
     "text": [
      "48250000\n",
      "Start Time = 20:34:27\n",
      "End Time = 20:34:43\n"
     ]
    },
    {
     "name": "stderr",
     "output_type": "stream",
     "text": [
      "/tmp/ipykernel_364/3853139118.py:94: ParserWarning: Both a converter and dtype were specified for column SMILES - only the converter will be used.\n",
      "  for i,df in enumerate(activity_reader):\n",
      "/tmp/ipykernel_364/3853139118.py:94: ParserWarning: Both a converter and dtype were specified for column pchembl_value - only the converter will be used.\n",
      "  for i,df in enumerate(activity_reader):\n"
     ]
    },
    {
     "name": "stdout",
     "output_type": "stream",
     "text": [
      "48300000\n",
      "Start Time = 20:34:58\n",
      "End Time = 20:35:13\n"
     ]
    },
    {
     "name": "stderr",
     "output_type": "stream",
     "text": [
      "/tmp/ipykernel_364/3853139118.py:94: ParserWarning: Both a converter and dtype were specified for column SMILES - only the converter will be used.\n",
      "  for i,df in enumerate(activity_reader):\n",
      "/tmp/ipykernel_364/3853139118.py:94: ParserWarning: Both a converter and dtype were specified for column pchembl_value - only the converter will be used.\n",
      "  for i,df in enumerate(activity_reader):\n"
     ]
    },
    {
     "name": "stdout",
     "output_type": "stream",
     "text": [
      "48350000\n",
      "Start Time = 20:35:28\n",
      "End Time = 20:35:45\n"
     ]
    },
    {
     "name": "stderr",
     "output_type": "stream",
     "text": [
      "/tmp/ipykernel_364/3853139118.py:94: ParserWarning: Both a converter and dtype were specified for column SMILES - only the converter will be used.\n",
      "  for i,df in enumerate(activity_reader):\n",
      "/tmp/ipykernel_364/3853139118.py:94: ParserWarning: Both a converter and dtype were specified for column pchembl_value - only the converter will be used.\n",
      "  for i,df in enumerate(activity_reader):\n"
     ]
    },
    {
     "name": "stdout",
     "output_type": "stream",
     "text": [
      "48400000\n",
      "Start Time = 20:35:59\n",
      "End Time = 20:36:15\n"
     ]
    },
    {
     "name": "stderr",
     "output_type": "stream",
     "text": [
      "/tmp/ipykernel_364/3853139118.py:94: ParserWarning: Both a converter and dtype were specified for column SMILES - only the converter will be used.\n",
      "  for i,df in enumerate(activity_reader):\n",
      "/tmp/ipykernel_364/3853139118.py:94: ParserWarning: Both a converter and dtype were specified for column pchembl_value - only the converter will be used.\n",
      "  for i,df in enumerate(activity_reader):\n"
     ]
    },
    {
     "name": "stdout",
     "output_type": "stream",
     "text": [
      "48450000\n",
      "Start Time = 20:36:29\n",
      "End Time = 20:36:44\n"
     ]
    },
    {
     "name": "stderr",
     "output_type": "stream",
     "text": [
      "/tmp/ipykernel_364/3853139118.py:94: ParserWarning: Both a converter and dtype were specified for column SMILES - only the converter will be used.\n",
      "  for i,df in enumerate(activity_reader):\n",
      "/tmp/ipykernel_364/3853139118.py:94: ParserWarning: Both a converter and dtype were specified for column pchembl_value - only the converter will be used.\n",
      "  for i,df in enumerate(activity_reader):\n"
     ]
    },
    {
     "name": "stdout",
     "output_type": "stream",
     "text": [
      "48500000\n",
      "Start Time = 20:36:59\n",
      "End Time = 20:37:16\n"
     ]
    },
    {
     "name": "stderr",
     "output_type": "stream",
     "text": [
      "/tmp/ipykernel_364/3853139118.py:94: ParserWarning: Both a converter and dtype were specified for column SMILES - only the converter will be used.\n",
      "  for i,df in enumerate(activity_reader):\n",
      "/tmp/ipykernel_364/3853139118.py:94: ParserWarning: Both a converter and dtype were specified for column pchembl_value - only the converter will be used.\n",
      "  for i,df in enumerate(activity_reader):\n"
     ]
    },
    {
     "name": "stdout",
     "output_type": "stream",
     "text": [
      "48550000\n",
      "Start Time = 20:37:30\n",
      "End Time = 20:37:47\n"
     ]
    },
    {
     "name": "stderr",
     "output_type": "stream",
     "text": [
      "/tmp/ipykernel_364/3853139118.py:94: ParserWarning: Both a converter and dtype were specified for column SMILES - only the converter will be used.\n",
      "  for i,df in enumerate(activity_reader):\n",
      "/tmp/ipykernel_364/3853139118.py:94: ParserWarning: Both a converter and dtype were specified for column pchembl_value - only the converter will be used.\n",
      "  for i,df in enumerate(activity_reader):\n"
     ]
    },
    {
     "name": "stdout",
     "output_type": "stream",
     "text": [
      "48600000\n",
      "Start Time = 20:38:02\n",
      "End Time = 20:38:16\n"
     ]
    },
    {
     "name": "stderr",
     "output_type": "stream",
     "text": [
      "/tmp/ipykernel_364/3853139118.py:94: ParserWarning: Both a converter and dtype were specified for column SMILES - only the converter will be used.\n",
      "  for i,df in enumerate(activity_reader):\n",
      "/tmp/ipykernel_364/3853139118.py:94: ParserWarning: Both a converter and dtype were specified for column pchembl_value - only the converter will be used.\n",
      "  for i,df in enumerate(activity_reader):\n"
     ]
    },
    {
     "name": "stdout",
     "output_type": "stream",
     "text": [
      "48650000\n",
      "Start Time = 20:38:31\n",
      "End Time = 20:38:48\n"
     ]
    },
    {
     "name": "stderr",
     "output_type": "stream",
     "text": [
      "/tmp/ipykernel_364/3853139118.py:94: ParserWarning: Both a converter and dtype were specified for column SMILES - only the converter will be used.\n",
      "  for i,df in enumerate(activity_reader):\n",
      "/tmp/ipykernel_364/3853139118.py:94: ParserWarning: Both a converter and dtype were specified for column pchembl_value - only the converter will be used.\n",
      "  for i,df in enumerate(activity_reader):\n"
     ]
    },
    {
     "name": "stdout",
     "output_type": "stream",
     "text": [
      "48700000\n",
      "Start Time = 20:39:02\n",
      "End Time = 20:39:21\n"
     ]
    },
    {
     "name": "stderr",
     "output_type": "stream",
     "text": [
      "/tmp/ipykernel_364/3853139118.py:94: ParserWarning: Both a converter and dtype were specified for column SMILES - only the converter will be used.\n",
      "  for i,df in enumerate(activity_reader):\n",
      "/tmp/ipykernel_364/3853139118.py:94: ParserWarning: Both a converter and dtype were specified for column pchembl_value - only the converter will be used.\n",
      "  for i,df in enumerate(activity_reader):\n"
     ]
    },
    {
     "name": "stdout",
     "output_type": "stream",
     "text": [
      "48750000\n",
      "Start Time = 20:39:36\n",
      "End Time = 20:39:50\n"
     ]
    },
    {
     "name": "stderr",
     "output_type": "stream",
     "text": [
      "/tmp/ipykernel_364/3853139118.py:94: ParserWarning: Both a converter and dtype were specified for column SMILES - only the converter will be used.\n",
      "  for i,df in enumerate(activity_reader):\n",
      "/tmp/ipykernel_364/3853139118.py:94: ParserWarning: Both a converter and dtype were specified for column pchembl_value - only the converter will be used.\n",
      "  for i,df in enumerate(activity_reader):\n"
     ]
    },
    {
     "name": "stdout",
     "output_type": "stream",
     "text": [
      "48800000\n",
      "Start Time = 20:40:05\n",
      "End Time = 20:40:22\n"
     ]
    },
    {
     "name": "stderr",
     "output_type": "stream",
     "text": [
      "/tmp/ipykernel_364/3853139118.py:94: ParserWarning: Both a converter and dtype were specified for column SMILES - only the converter will be used.\n",
      "  for i,df in enumerate(activity_reader):\n",
      "/tmp/ipykernel_364/3853139118.py:94: ParserWarning: Both a converter and dtype were specified for column pchembl_value - only the converter will be used.\n",
      "  for i,df in enumerate(activity_reader):\n"
     ]
    },
    {
     "name": "stdout",
     "output_type": "stream",
     "text": [
      "48850000\n",
      "Start Time = 20:40:36\n",
      "End Time = 20:40:53\n"
     ]
    },
    {
     "name": "stderr",
     "output_type": "stream",
     "text": [
      "/tmp/ipykernel_364/3853139118.py:94: ParserWarning: Both a converter and dtype were specified for column SMILES - only the converter will be used.\n",
      "  for i,df in enumerate(activity_reader):\n",
      "/tmp/ipykernel_364/3853139118.py:94: ParserWarning: Both a converter and dtype were specified for column pchembl_value - only the converter will be used.\n",
      "  for i,df in enumerate(activity_reader):\n"
     ]
    },
    {
     "name": "stdout",
     "output_type": "stream",
     "text": [
      "48900000\n",
      "Start Time = 20:41:07\n",
      "End Time = 20:41:22\n"
     ]
    },
    {
     "name": "stderr",
     "output_type": "stream",
     "text": [
      "/tmp/ipykernel_364/3853139118.py:94: ParserWarning: Both a converter and dtype were specified for column SMILES - only the converter will be used.\n",
      "  for i,df in enumerate(activity_reader):\n",
      "/tmp/ipykernel_364/3853139118.py:94: ParserWarning: Both a converter and dtype were specified for column pchembl_value - only the converter will be used.\n",
      "  for i,df in enumerate(activity_reader):\n"
     ]
    },
    {
     "name": "stdout",
     "output_type": "stream",
     "text": [
      "48950000\n",
      "Start Time = 20:41:36\n",
      "End Time = 20:41:53\n"
     ]
    },
    {
     "name": "stderr",
     "output_type": "stream",
     "text": [
      "/tmp/ipykernel_364/3853139118.py:94: ParserWarning: Both a converter and dtype were specified for column SMILES - only the converter will be used.\n",
      "  for i,df in enumerate(activity_reader):\n",
      "/tmp/ipykernel_364/3853139118.py:94: ParserWarning: Both a converter and dtype were specified for column pchembl_value - only the converter will be used.\n",
      "  for i,df in enumerate(activity_reader):\n"
     ]
    },
    {
     "name": "stdout",
     "output_type": "stream",
     "text": [
      "49000000\n",
      "Start Time = 20:42:07\n",
      "End Time = 20:42:24\n"
     ]
    },
    {
     "name": "stderr",
     "output_type": "stream",
     "text": [
      "/tmp/ipykernel_364/3853139118.py:94: ParserWarning: Both a converter and dtype were specified for column SMILES - only the converter will be used.\n",
      "  for i,df in enumerate(activity_reader):\n",
      "/tmp/ipykernel_364/3853139118.py:94: ParserWarning: Both a converter and dtype were specified for column pchembl_value - only the converter will be used.\n",
      "  for i,df in enumerate(activity_reader):\n"
     ]
    },
    {
     "name": "stdout",
     "output_type": "stream",
     "text": [
      "49050000\n",
      "Start Time = 20:42:38\n",
      "End Time = 20:42:53\n"
     ]
    },
    {
     "name": "stderr",
     "output_type": "stream",
     "text": [
      "/tmp/ipykernel_364/3853139118.py:94: ParserWarning: Both a converter and dtype were specified for column SMILES - only the converter will be used.\n",
      "  for i,df in enumerate(activity_reader):\n",
      "/tmp/ipykernel_364/3853139118.py:94: ParserWarning: Both a converter and dtype were specified for column pchembl_value - only the converter will be used.\n",
      "  for i,df in enumerate(activity_reader):\n"
     ]
    },
    {
     "name": "stdout",
     "output_type": "stream",
     "text": [
      "49100000\n",
      "Start Time = 20:43:07\n",
      "End Time = 20:43:24\n"
     ]
    },
    {
     "name": "stderr",
     "output_type": "stream",
     "text": [
      "/tmp/ipykernel_364/3853139118.py:94: ParserWarning: Both a converter and dtype were specified for column SMILES - only the converter will be used.\n",
      "  for i,df in enumerate(activity_reader):\n",
      "/tmp/ipykernel_364/3853139118.py:94: ParserWarning: Both a converter and dtype were specified for column pchembl_value - only the converter will be used.\n",
      "  for i,df in enumerate(activity_reader):\n"
     ]
    },
    {
     "name": "stdout",
     "output_type": "stream",
     "text": [
      "49150000\n",
      "Start Time = 20:43:39\n",
      "End Time = 20:43:56\n"
     ]
    },
    {
     "name": "stderr",
     "output_type": "stream",
     "text": [
      "/tmp/ipykernel_364/3853139118.py:94: ParserWarning: Both a converter and dtype were specified for column SMILES - only the converter will be used.\n",
      "  for i,df in enumerate(activity_reader):\n",
      "/tmp/ipykernel_364/3853139118.py:94: ParserWarning: Both a converter and dtype were specified for column pchembl_value - only the converter will be used.\n",
      "  for i,df in enumerate(activity_reader):\n"
     ]
    },
    {
     "name": "stdout",
     "output_type": "stream",
     "text": [
      "49200000\n",
      "Start Time = 20:44:10\n",
      "End Time = 20:44:25\n"
     ]
    },
    {
     "name": "stderr",
     "output_type": "stream",
     "text": [
      "/tmp/ipykernel_364/3853139118.py:94: ParserWarning: Both a converter and dtype were specified for column SMILES - only the converter will be used.\n",
      "  for i,df in enumerate(activity_reader):\n",
      "/tmp/ipykernel_364/3853139118.py:94: ParserWarning: Both a converter and dtype were specified for column pchembl_value - only the converter will be used.\n",
      "  for i,df in enumerate(activity_reader):\n"
     ]
    },
    {
     "name": "stdout",
     "output_type": "stream",
     "text": [
      "49250000\n",
      "Start Time = 20:44:40\n",
      "End Time = 20:44:58\n"
     ]
    },
    {
     "name": "stderr",
     "output_type": "stream",
     "text": [
      "/tmp/ipykernel_364/3853139118.py:94: ParserWarning: Both a converter and dtype were specified for column SMILES - only the converter will be used.\n",
      "  for i,df in enumerate(activity_reader):\n",
      "/tmp/ipykernel_364/3853139118.py:94: ParserWarning: Both a converter and dtype were specified for column pchembl_value - only the converter will be used.\n",
      "  for i,df in enumerate(activity_reader):\n"
     ]
    },
    {
     "name": "stdout",
     "output_type": "stream",
     "text": [
      "49300000\n",
      "Start Time = 20:45:13\n",
      "End Time = 20:45:29\n"
     ]
    },
    {
     "name": "stderr",
     "output_type": "stream",
     "text": [
      "/tmp/ipykernel_364/3853139118.py:94: ParserWarning: Both a converter and dtype were specified for column SMILES - only the converter will be used.\n",
      "  for i,df in enumerate(activity_reader):\n",
      "/tmp/ipykernel_364/3853139118.py:94: ParserWarning: Both a converter and dtype were specified for column pchembl_value - only the converter will be used.\n",
      "  for i,df in enumerate(activity_reader):\n"
     ]
    },
    {
     "name": "stdout",
     "output_type": "stream",
     "text": [
      "49350000\n",
      "Start Time = 20:45:44\n",
      "End Time = 20:45:58\n"
     ]
    },
    {
     "name": "stderr",
     "output_type": "stream",
     "text": [
      "/tmp/ipykernel_364/3853139118.py:94: ParserWarning: Both a converter and dtype were specified for column SMILES - only the converter will be used.\n",
      "  for i,df in enumerate(activity_reader):\n",
      "/tmp/ipykernel_364/3853139118.py:94: ParserWarning: Both a converter and dtype were specified for column pchembl_value - only the converter will be used.\n",
      "  for i,df in enumerate(activity_reader):\n"
     ]
    },
    {
     "name": "stdout",
     "output_type": "stream",
     "text": [
      "49400000\n",
      "Start Time = 20:46:14\n",
      "End Time = 20:46:29\n"
     ]
    },
    {
     "name": "stderr",
     "output_type": "stream",
     "text": [
      "/tmp/ipykernel_364/3853139118.py:94: ParserWarning: Both a converter and dtype were specified for column SMILES - only the converter will be used.\n",
      "  for i,df in enumerate(activity_reader):\n",
      "/tmp/ipykernel_364/3853139118.py:94: ParserWarning: Both a converter and dtype were specified for column pchembl_value - only the converter will be used.\n",
      "  for i,df in enumerate(activity_reader):\n"
     ]
    },
    {
     "name": "stdout",
     "output_type": "stream",
     "text": [
      "49450000\n",
      "Start Time = 20:46:44\n",
      "End Time = 20:47:00\n"
     ]
    },
    {
     "name": "stderr",
     "output_type": "stream",
     "text": [
      "/tmp/ipykernel_364/3853139118.py:94: ParserWarning: Both a converter and dtype were specified for column SMILES - only the converter will be used.\n",
      "  for i,df in enumerate(activity_reader):\n",
      "/tmp/ipykernel_364/3853139118.py:94: ParserWarning: Both a converter and dtype were specified for column pchembl_value - only the converter will be used.\n",
      "  for i,df in enumerate(activity_reader):\n"
     ]
    },
    {
     "name": "stdout",
     "output_type": "stream",
     "text": [
      "49500000\n",
      "Start Time = 20:47:14\n",
      "End Time = 20:47:29\n"
     ]
    },
    {
     "name": "stderr",
     "output_type": "stream",
     "text": [
      "/tmp/ipykernel_364/3853139118.py:94: ParserWarning: Both a converter and dtype were specified for column SMILES - only the converter will be used.\n",
      "  for i,df in enumerate(activity_reader):\n",
      "/tmp/ipykernel_364/3853139118.py:94: ParserWarning: Both a converter and dtype were specified for column pchembl_value - only the converter will be used.\n",
      "  for i,df in enumerate(activity_reader):\n"
     ]
    },
    {
     "name": "stdout",
     "output_type": "stream",
     "text": [
      "49550000\n",
      "Start Time = 20:47:43\n",
      "End Time = 20:48:00\n"
     ]
    },
    {
     "name": "stderr",
     "output_type": "stream",
     "text": [
      "/tmp/ipykernel_364/3853139118.py:94: ParserWarning: Both a converter and dtype were specified for column SMILES - only the converter will be used.\n",
      "  for i,df in enumerate(activity_reader):\n",
      "/tmp/ipykernel_364/3853139118.py:94: ParserWarning: Both a converter and dtype were specified for column pchembl_value - only the converter will be used.\n",
      "  for i,df in enumerate(activity_reader):\n"
     ]
    },
    {
     "name": "stdout",
     "output_type": "stream",
     "text": [
      "49600000\n",
      "Start Time = 20:48:13\n",
      "End Time = 20:48:30\n"
     ]
    },
    {
     "name": "stderr",
     "output_type": "stream",
     "text": [
      "/tmp/ipykernel_364/3853139118.py:94: ParserWarning: Both a converter and dtype were specified for column SMILES - only the converter will be used.\n",
      "  for i,df in enumerate(activity_reader):\n",
      "/tmp/ipykernel_364/3853139118.py:94: ParserWarning: Both a converter and dtype were specified for column pchembl_value - only the converter will be used.\n",
      "  for i,df in enumerate(activity_reader):\n"
     ]
    },
    {
     "name": "stdout",
     "output_type": "stream",
     "text": [
      "49650000\n",
      "Start Time = 20:48:44\n",
      "End Time = 20:48:59\n"
     ]
    },
    {
     "name": "stderr",
     "output_type": "stream",
     "text": [
      "/tmp/ipykernel_364/3853139118.py:94: ParserWarning: Both a converter and dtype were specified for column SMILES - only the converter will be used.\n",
      "  for i,df in enumerate(activity_reader):\n",
      "/tmp/ipykernel_364/3853139118.py:94: ParserWarning: Both a converter and dtype were specified for column pchembl_value - only the converter will be used.\n",
      "  for i,df in enumerate(activity_reader):\n"
     ]
    },
    {
     "name": "stdout",
     "output_type": "stream",
     "text": [
      "49700000\n",
      "Start Time = 20:49:13\n",
      "End Time = 20:49:30\n"
     ]
    },
    {
     "name": "stderr",
     "output_type": "stream",
     "text": [
      "/tmp/ipykernel_364/3853139118.py:94: ParserWarning: Both a converter and dtype were specified for column SMILES - only the converter will be used.\n",
      "  for i,df in enumerate(activity_reader):\n",
      "/tmp/ipykernel_364/3853139118.py:94: ParserWarning: Both a converter and dtype were specified for column pchembl_value - only the converter will be used.\n",
      "  for i,df in enumerate(activity_reader):\n"
     ]
    },
    {
     "name": "stdout",
     "output_type": "stream",
     "text": [
      "49750000\n",
      "Start Time = 20:49:45\n",
      "End Time = 20:50:01\n"
     ]
    },
    {
     "name": "stderr",
     "output_type": "stream",
     "text": [
      "/tmp/ipykernel_364/3853139118.py:94: ParserWarning: Both a converter and dtype were specified for column SMILES - only the converter will be used.\n",
      "  for i,df in enumerate(activity_reader):\n",
      "/tmp/ipykernel_364/3853139118.py:94: ParserWarning: Both a converter and dtype were specified for column pchembl_value - only the converter will be used.\n",
      "  for i,df in enumerate(activity_reader):\n"
     ]
    },
    {
     "name": "stdout",
     "output_type": "stream",
     "text": [
      "49800000\n",
      "Start Time = 20:50:15\n",
      "End Time = 20:50:30\n"
     ]
    },
    {
     "name": "stderr",
     "output_type": "stream",
     "text": [
      "/tmp/ipykernel_364/3853139118.py:94: ParserWarning: Both a converter and dtype were specified for column SMILES - only the converter will be used.\n",
      "  for i,df in enumerate(activity_reader):\n",
      "/tmp/ipykernel_364/3853139118.py:94: ParserWarning: Both a converter and dtype were specified for column pchembl_value - only the converter will be used.\n",
      "  for i,df in enumerate(activity_reader):\n"
     ]
    },
    {
     "name": "stdout",
     "output_type": "stream",
     "text": [
      "49850000\n",
      "Start Time = 20:50:44\n",
      "End Time = 20:51:01\n"
     ]
    },
    {
     "name": "stderr",
     "output_type": "stream",
     "text": [
      "/tmp/ipykernel_364/3853139118.py:94: ParserWarning: Both a converter and dtype were specified for column SMILES - only the converter will be used.\n",
      "  for i,df in enumerate(activity_reader):\n",
      "/tmp/ipykernel_364/3853139118.py:94: ParserWarning: Both a converter and dtype were specified for column pchembl_value - only the converter will be used.\n",
      "  for i,df in enumerate(activity_reader):\n"
     ]
    },
    {
     "name": "stdout",
     "output_type": "stream",
     "text": [
      "49900000\n",
      "Start Time = 20:51:15\n",
      "End Time = 20:51:32\n"
     ]
    },
    {
     "name": "stderr",
     "output_type": "stream",
     "text": [
      "/tmp/ipykernel_364/3853139118.py:94: ParserWarning: Both a converter and dtype were specified for column SMILES - only the converter will be used.\n",
      "  for i,df in enumerate(activity_reader):\n",
      "/tmp/ipykernel_364/3853139118.py:94: ParserWarning: Both a converter and dtype were specified for column pchembl_value - only the converter will be used.\n",
      "  for i,df in enumerate(activity_reader):\n"
     ]
    },
    {
     "name": "stdout",
     "output_type": "stream",
     "text": [
      "49950000\n",
      "Start Time = 20:51:46\n",
      "End Time = 20:52:01\n"
     ]
    },
    {
     "name": "stderr",
     "output_type": "stream",
     "text": [
      "/tmp/ipykernel_364/3853139118.py:94: ParserWarning: Both a converter and dtype were specified for column SMILES - only the converter will be used.\n",
      "  for i,df in enumerate(activity_reader):\n",
      "/tmp/ipykernel_364/3853139118.py:94: ParserWarning: Both a converter and dtype were specified for column pchembl_value - only the converter will be used.\n",
      "  for i,df in enumerate(activity_reader):\n"
     ]
    },
    {
     "name": "stdout",
     "output_type": "stream",
     "text": [
      "50000000\n",
      "Start Time = 20:52:14\n",
      "End Time = 20:52:31\n"
     ]
    },
    {
     "name": "stderr",
     "output_type": "stream",
     "text": [
      "/tmp/ipykernel_364/3853139118.py:94: ParserWarning: Both a converter and dtype were specified for column SMILES - only the converter will be used.\n",
      "  for i,df in enumerate(activity_reader):\n",
      "/tmp/ipykernel_364/3853139118.py:94: ParserWarning: Both a converter and dtype were specified for column pchembl_value - only the converter will be used.\n",
      "  for i,df in enumerate(activity_reader):\n"
     ]
    },
    {
     "name": "stdout",
     "output_type": "stream",
     "text": [
      "50050000\n",
      "Start Time = 20:52:45\n",
      "End Time = 20:53:02\n"
     ]
    },
    {
     "name": "stderr",
     "output_type": "stream",
     "text": [
      "/tmp/ipykernel_364/3853139118.py:94: ParserWarning: Both a converter and dtype were specified for column SMILES - only the converter will be used.\n",
      "  for i,df in enumerate(activity_reader):\n",
      "/tmp/ipykernel_364/3853139118.py:94: ParserWarning: Both a converter and dtype were specified for column pchembl_value - only the converter will be used.\n",
      "  for i,df in enumerate(activity_reader):\n"
     ]
    },
    {
     "name": "stdout",
     "output_type": "stream",
     "text": [
      "50100000\n",
      "Start Time = 20:53:17\n",
      "End Time = 20:53:32\n"
     ]
    },
    {
     "name": "stderr",
     "output_type": "stream",
     "text": [
      "/tmp/ipykernel_364/3853139118.py:94: ParserWarning: Both a converter and dtype were specified for column SMILES - only the converter will be used.\n",
      "  for i,df in enumerate(activity_reader):\n",
      "/tmp/ipykernel_364/3853139118.py:94: ParserWarning: Both a converter and dtype were specified for column pchembl_value - only the converter will be used.\n",
      "  for i,df in enumerate(activity_reader):\n"
     ]
    },
    {
     "name": "stdout",
     "output_type": "stream",
     "text": [
      "50150000\n",
      "Start Time = 20:53:47\n",
      "End Time = 20:54:04\n"
     ]
    },
    {
     "name": "stderr",
     "output_type": "stream",
     "text": [
      "/tmp/ipykernel_364/3853139118.py:94: ParserWarning: Both a converter and dtype were specified for column SMILES - only the converter will be used.\n",
      "  for i,df in enumerate(activity_reader):\n",
      "/tmp/ipykernel_364/3853139118.py:94: ParserWarning: Both a converter and dtype were specified for column pchembl_value - only the converter will be used.\n",
      "  for i,df in enumerate(activity_reader):\n"
     ]
    },
    {
     "name": "stdout",
     "output_type": "stream",
     "text": [
      "50200000\n",
      "Start Time = 20:54:18\n",
      "End Time = 20:54:36\n"
     ]
    },
    {
     "name": "stderr",
     "output_type": "stream",
     "text": [
      "/tmp/ipykernel_364/3853139118.py:94: ParserWarning: Both a converter and dtype were specified for column SMILES - only the converter will be used.\n",
      "  for i,df in enumerate(activity_reader):\n",
      "/tmp/ipykernel_364/3853139118.py:94: ParserWarning: Both a converter and dtype were specified for column pchembl_value - only the converter will be used.\n",
      "  for i,df in enumerate(activity_reader):\n"
     ]
    },
    {
     "name": "stdout",
     "output_type": "stream",
     "text": [
      "50250000\n",
      "Start Time = 20:54:51\n",
      "End Time = 20:55:07\n"
     ]
    },
    {
     "name": "stderr",
     "output_type": "stream",
     "text": [
      "/tmp/ipykernel_364/3853139118.py:94: ParserWarning: Both a converter and dtype were specified for column SMILES - only the converter will be used.\n",
      "  for i,df in enumerate(activity_reader):\n",
      "/tmp/ipykernel_364/3853139118.py:94: ParserWarning: Both a converter and dtype were specified for column pchembl_value - only the converter will be used.\n",
      "  for i,df in enumerate(activity_reader):\n"
     ]
    },
    {
     "name": "stdout",
     "output_type": "stream",
     "text": [
      "50300000\n",
      "Start Time = 20:55:21\n",
      "End Time = 20:55:38\n"
     ]
    },
    {
     "name": "stderr",
     "output_type": "stream",
     "text": [
      "/tmp/ipykernel_364/3853139118.py:94: ParserWarning: Both a converter and dtype were specified for column SMILES - only the converter will be used.\n",
      "  for i,df in enumerate(activity_reader):\n",
      "/tmp/ipykernel_364/3853139118.py:94: ParserWarning: Both a converter and dtype were specified for column pchembl_value - only the converter will be used.\n",
      "  for i,df in enumerate(activity_reader):\n"
     ]
    },
    {
     "name": "stdout",
     "output_type": "stream",
     "text": [
      "50350000\n",
      "Start Time = 20:55:53\n",
      "End Time = 20:56:10\n"
     ]
    },
    {
     "name": "stderr",
     "output_type": "stream",
     "text": [
      "/tmp/ipykernel_364/3853139118.py:94: ParserWarning: Both a converter and dtype were specified for column SMILES - only the converter will be used.\n",
      "  for i,df in enumerate(activity_reader):\n",
      "/tmp/ipykernel_364/3853139118.py:94: ParserWarning: Both a converter and dtype were specified for column pchembl_value - only the converter will be used.\n",
      "  for i,df in enumerate(activity_reader):\n"
     ]
    },
    {
     "name": "stdout",
     "output_type": "stream",
     "text": [
      "50400000\n",
      "Start Time = 20:56:24\n",
      "End Time = 20:56:40\n"
     ]
    },
    {
     "name": "stderr",
     "output_type": "stream",
     "text": [
      "/tmp/ipykernel_364/3853139118.py:94: ParserWarning: Both a converter and dtype were specified for column SMILES - only the converter will be used.\n",
      "  for i,df in enumerate(activity_reader):\n",
      "/tmp/ipykernel_364/3853139118.py:94: ParserWarning: Both a converter and dtype were specified for column pchembl_value - only the converter will be used.\n",
      "  for i,df in enumerate(activity_reader):\n"
     ]
    },
    {
     "name": "stdout",
     "output_type": "stream",
     "text": [
      "50450000\n",
      "Start Time = 20:56:54\n",
      "End Time = 20:57:10\n"
     ]
    },
    {
     "name": "stderr",
     "output_type": "stream",
     "text": [
      "/tmp/ipykernel_364/3853139118.py:94: ParserWarning: Both a converter and dtype were specified for column SMILES - only the converter will be used.\n",
      "  for i,df in enumerate(activity_reader):\n",
      "/tmp/ipykernel_364/3853139118.py:94: ParserWarning: Both a converter and dtype were specified for column pchembl_value - only the converter will be used.\n",
      "  for i,df in enumerate(activity_reader):\n"
     ]
    },
    {
     "name": "stdout",
     "output_type": "stream",
     "text": [
      "50500000\n",
      "Start Time = 20:57:25\n",
      "End Time = 20:57:42\n"
     ]
    },
    {
     "name": "stderr",
     "output_type": "stream",
     "text": [
      "/tmp/ipykernel_364/3853139118.py:94: ParserWarning: Both a converter and dtype were specified for column SMILES - only the converter will be used.\n",
      "  for i,df in enumerate(activity_reader):\n",
      "/tmp/ipykernel_364/3853139118.py:94: ParserWarning: Both a converter and dtype were specified for column pchembl_value - only the converter will be used.\n",
      "  for i,df in enumerate(activity_reader):\n"
     ]
    },
    {
     "name": "stdout",
     "output_type": "stream",
     "text": [
      "50550000\n",
      "Start Time = 20:57:56\n",
      "End Time = 20:58:11\n"
     ]
    },
    {
     "name": "stderr",
     "output_type": "stream",
     "text": [
      "/tmp/ipykernel_364/3853139118.py:94: ParserWarning: Both a converter and dtype were specified for column SMILES - only the converter will be used.\n",
      "  for i,df in enumerate(activity_reader):\n",
      "/tmp/ipykernel_364/3853139118.py:94: ParserWarning: Both a converter and dtype were specified for column pchembl_value - only the converter will be used.\n",
      "  for i,df in enumerate(activity_reader):\n"
     ]
    },
    {
     "name": "stdout",
     "output_type": "stream",
     "text": [
      "50600000\n",
      "Start Time = 20:58:26\n",
      "End Time = 20:58:43\n"
     ]
    },
    {
     "name": "stderr",
     "output_type": "stream",
     "text": [
      "/tmp/ipykernel_364/3853139118.py:94: ParserWarning: Both a converter and dtype were specified for column SMILES - only the converter will be used.\n",
      "  for i,df in enumerate(activity_reader):\n",
      "/tmp/ipykernel_364/3853139118.py:94: ParserWarning: Both a converter and dtype were specified for column pchembl_value - only the converter will be used.\n",
      "  for i,df in enumerate(activity_reader):\n"
     ]
    },
    {
     "name": "stdout",
     "output_type": "stream",
     "text": [
      "50650000\n",
      "Start Time = 20:58:57\n",
      "End Time = 20:59:14\n"
     ]
    },
    {
     "name": "stderr",
     "output_type": "stream",
     "text": [
      "/tmp/ipykernel_364/3853139118.py:94: ParserWarning: Both a converter and dtype were specified for column SMILES - only the converter will be used.\n",
      "  for i,df in enumerate(activity_reader):\n",
      "/tmp/ipykernel_364/3853139118.py:94: ParserWarning: Both a converter and dtype were specified for column pchembl_value - only the converter will be used.\n",
      "  for i,df in enumerate(activity_reader):\n"
     ]
    },
    {
     "name": "stdout",
     "output_type": "stream",
     "text": [
      "50700000\n",
      "Start Time = 20:59:29\n",
      "End Time = 20:59:45\n"
     ]
    },
    {
     "name": "stderr",
     "output_type": "stream",
     "text": [
      "/tmp/ipykernel_364/3853139118.py:94: ParserWarning: Both a converter and dtype were specified for column SMILES - only the converter will be used.\n",
      "  for i,df in enumerate(activity_reader):\n",
      "/tmp/ipykernel_364/3853139118.py:94: ParserWarning: Both a converter and dtype were specified for column pchembl_value - only the converter will be used.\n",
      "  for i,df in enumerate(activity_reader):\n"
     ]
    },
    {
     "name": "stdout",
     "output_type": "stream",
     "text": [
      "50750000\n",
      "Start Time = 20:59:59\n",
      "End Time = 21:00:17\n"
     ]
    },
    {
     "name": "stderr",
     "output_type": "stream",
     "text": [
      "/tmp/ipykernel_364/3853139118.py:94: ParserWarning: Both a converter and dtype were specified for column SMILES - only the converter will be used.\n",
      "  for i,df in enumerate(activity_reader):\n",
      "/tmp/ipykernel_364/3853139118.py:94: ParserWarning: Both a converter and dtype were specified for column pchembl_value - only the converter will be used.\n",
      "  for i,df in enumerate(activity_reader):\n"
     ]
    },
    {
     "name": "stdout",
     "output_type": "stream",
     "text": [
      "50800000\n",
      "Start Time = 21:00:31\n",
      "End Time = 21:00:48\n"
     ]
    },
    {
     "name": "stderr",
     "output_type": "stream",
     "text": [
      "/tmp/ipykernel_364/3853139118.py:94: ParserWarning: Both a converter and dtype were specified for column SMILES - only the converter will be used.\n",
      "  for i,df in enumerate(activity_reader):\n",
      "/tmp/ipykernel_364/3853139118.py:94: ParserWarning: Both a converter and dtype were specified for column pchembl_value - only the converter will be used.\n",
      "  for i,df in enumerate(activity_reader):\n"
     ]
    },
    {
     "name": "stdout",
     "output_type": "stream",
     "text": [
      "50850000\n",
      "Start Time = 21:01:03\n",
      "End Time = 21:01:18\n"
     ]
    },
    {
     "name": "stderr",
     "output_type": "stream",
     "text": [
      "/tmp/ipykernel_364/3853139118.py:94: ParserWarning: Both a converter and dtype were specified for column SMILES - only the converter will be used.\n",
      "  for i,df in enumerate(activity_reader):\n",
      "/tmp/ipykernel_364/3853139118.py:94: ParserWarning: Both a converter and dtype were specified for column pchembl_value - only the converter will be used.\n",
      "  for i,df in enumerate(activity_reader):\n"
     ]
    },
    {
     "name": "stdout",
     "output_type": "stream",
     "text": [
      "50900000\n",
      "Start Time = 21:01:32\n",
      "End Time = 21:01:48\n"
     ]
    },
    {
     "name": "stderr",
     "output_type": "stream",
     "text": [
      "/tmp/ipykernel_364/3853139118.py:94: ParserWarning: Both a converter and dtype were specified for column SMILES - only the converter will be used.\n",
      "  for i,df in enumerate(activity_reader):\n",
      "/tmp/ipykernel_364/3853139118.py:94: ParserWarning: Both a converter and dtype were specified for column pchembl_value - only the converter will be used.\n",
      "  for i,df in enumerate(activity_reader):\n"
     ]
    },
    {
     "name": "stdout",
     "output_type": "stream",
     "text": [
      "50950000\n",
      "Start Time = 21:02:03\n",
      "End Time = 21:02:20\n"
     ]
    },
    {
     "name": "stderr",
     "output_type": "stream",
     "text": [
      "/tmp/ipykernel_364/3853139118.py:94: ParserWarning: Both a converter and dtype were specified for column SMILES - only the converter will be used.\n",
      "  for i,df in enumerate(activity_reader):\n",
      "/tmp/ipykernel_364/3853139118.py:94: ParserWarning: Both a converter and dtype were specified for column pchembl_value - only the converter will be used.\n",
      "  for i,df in enumerate(activity_reader):\n"
     ]
    },
    {
     "name": "stdout",
     "output_type": "stream",
     "text": [
      "51000000\n",
      "Start Time = 21:02:34\n",
      "End Time = 21:02:49\n"
     ]
    },
    {
     "name": "stderr",
     "output_type": "stream",
     "text": [
      "/tmp/ipykernel_364/3853139118.py:94: ParserWarning: Both a converter and dtype were specified for column SMILES - only the converter will be used.\n",
      "  for i,df in enumerate(activity_reader):\n",
      "/tmp/ipykernel_364/3853139118.py:94: ParserWarning: Both a converter and dtype were specified for column pchembl_value - only the converter will be used.\n",
      "  for i,df in enumerate(activity_reader):\n"
     ]
    },
    {
     "name": "stdout",
     "output_type": "stream",
     "text": [
      "51050000\n",
      "Start Time = 21:03:03\n",
      "End Time = 21:03:19\n"
     ]
    },
    {
     "name": "stderr",
     "output_type": "stream",
     "text": [
      "/tmp/ipykernel_364/3853139118.py:94: ParserWarning: Both a converter and dtype were specified for column SMILES - only the converter will be used.\n",
      "  for i,df in enumerate(activity_reader):\n",
      "/tmp/ipykernel_364/3853139118.py:94: ParserWarning: Both a converter and dtype were specified for column pchembl_value - only the converter will be used.\n",
      "  for i,df in enumerate(activity_reader):\n"
     ]
    },
    {
     "name": "stdout",
     "output_type": "stream",
     "text": [
      "51100000\n",
      "Start Time = 21:03:34\n",
      "End Time = 21:03:50\n"
     ]
    },
    {
     "name": "stderr",
     "output_type": "stream",
     "text": [
      "/tmp/ipykernel_364/3853139118.py:94: ParserWarning: Both a converter and dtype were specified for column SMILES - only the converter will be used.\n",
      "  for i,df in enumerate(activity_reader):\n",
      "/tmp/ipykernel_364/3853139118.py:94: ParserWarning: Both a converter and dtype were specified for column pchembl_value - only the converter will be used.\n",
      "  for i,df in enumerate(activity_reader):\n"
     ]
    },
    {
     "name": "stdout",
     "output_type": "stream",
     "text": [
      "51150000\n",
      "Start Time = 21:04:05\n",
      "End Time = 21:04:20\n"
     ]
    },
    {
     "name": "stderr",
     "output_type": "stream",
     "text": [
      "/tmp/ipykernel_364/3853139118.py:94: ParserWarning: Both a converter and dtype were specified for column SMILES - only the converter will be used.\n",
      "  for i,df in enumerate(activity_reader):\n",
      "/tmp/ipykernel_364/3853139118.py:94: ParserWarning: Both a converter and dtype were specified for column pchembl_value - only the converter will be used.\n",
      "  for i,df in enumerate(activity_reader):\n"
     ]
    },
    {
     "name": "stdout",
     "output_type": "stream",
     "text": [
      "51200000\n",
      "Start Time = 21:04:35\n",
      "End Time = 21:04:54\n"
     ]
    },
    {
     "name": "stderr",
     "output_type": "stream",
     "text": [
      "/tmp/ipykernel_364/3853139118.py:94: ParserWarning: Both a converter and dtype were specified for column SMILES - only the converter will be used.\n",
      "  for i,df in enumerate(activity_reader):\n",
      "/tmp/ipykernel_364/3853139118.py:94: ParserWarning: Both a converter and dtype were specified for column pchembl_value - only the converter will be used.\n",
      "  for i,df in enumerate(activity_reader):\n"
     ]
    },
    {
     "name": "stdout",
     "output_type": "stream",
     "text": [
      "51250000\n",
      "Start Time = 21:05:08\n",
      "End Time = 21:05:26\n"
     ]
    },
    {
     "name": "stderr",
     "output_type": "stream",
     "text": [
      "/tmp/ipykernel_364/3853139118.py:94: ParserWarning: Both a converter and dtype were specified for column SMILES - only the converter will be used.\n",
      "  for i,df in enumerate(activity_reader):\n",
      "/tmp/ipykernel_364/3853139118.py:94: ParserWarning: Both a converter and dtype were specified for column pchembl_value - only the converter will be used.\n",
      "  for i,df in enumerate(activity_reader):\n"
     ]
    },
    {
     "name": "stdout",
     "output_type": "stream",
     "text": [
      "51300000\n",
      "Start Time = 21:05:41\n",
      "End Time = 21:05:57\n"
     ]
    },
    {
     "name": "stderr",
     "output_type": "stream",
     "text": [
      "/tmp/ipykernel_364/3853139118.py:94: ParserWarning: Both a converter and dtype were specified for column SMILES - only the converter will be used.\n",
      "  for i,df in enumerate(activity_reader):\n",
      "/tmp/ipykernel_364/3853139118.py:94: ParserWarning: Both a converter and dtype were specified for column pchembl_value - only the converter will be used.\n",
      "  for i,df in enumerate(activity_reader):\n"
     ]
    },
    {
     "name": "stdout",
     "output_type": "stream",
     "text": [
      "51350000\n",
      "Start Time = 21:06:13\n",
      "End Time = 21:06:29\n"
     ]
    },
    {
     "name": "stderr",
     "output_type": "stream",
     "text": [
      "/tmp/ipykernel_364/3853139118.py:94: ParserWarning: Both a converter and dtype were specified for column SMILES - only the converter will be used.\n",
      "  for i,df in enumerate(activity_reader):\n",
      "/tmp/ipykernel_364/3853139118.py:94: ParserWarning: Both a converter and dtype were specified for column pchembl_value - only the converter will be used.\n",
      "  for i,df in enumerate(activity_reader):\n"
     ]
    },
    {
     "name": "stdout",
     "output_type": "stream",
     "text": [
      "51400000\n",
      "Start Time = 21:06:44\n",
      "End Time = 21:07:00\n"
     ]
    },
    {
     "name": "stderr",
     "output_type": "stream",
     "text": [
      "/tmp/ipykernel_364/3853139118.py:94: ParserWarning: Both a converter and dtype were specified for column SMILES - only the converter will be used.\n",
      "  for i,df in enumerate(activity_reader):\n",
      "/tmp/ipykernel_364/3853139118.py:94: ParserWarning: Both a converter and dtype were specified for column pchembl_value - only the converter will be used.\n",
      "  for i,df in enumerate(activity_reader):\n"
     ]
    },
    {
     "name": "stdout",
     "output_type": "stream",
     "text": [
      "51450000\n",
      "Start Time = 21:07:14\n",
      "End Time = 21:07:29\n"
     ]
    },
    {
     "name": "stderr",
     "output_type": "stream",
     "text": [
      "/tmp/ipykernel_364/3853139118.py:94: ParserWarning: Both a converter and dtype were specified for column SMILES - only the converter will be used.\n",
      "  for i,df in enumerate(activity_reader):\n",
      "/tmp/ipykernel_364/3853139118.py:94: ParserWarning: Both a converter and dtype were specified for column pchembl_value - only the converter will be used.\n",
      "  for i,df in enumerate(activity_reader):\n"
     ]
    },
    {
     "name": "stdout",
     "output_type": "stream",
     "text": [
      "51500000\n",
      "Start Time = 21:07:43\n",
      "End Time = 21:08:01\n"
     ]
    },
    {
     "name": "stderr",
     "output_type": "stream",
     "text": [
      "/tmp/ipykernel_364/3853139118.py:94: ParserWarning: Both a converter and dtype were specified for column SMILES - only the converter will be used.\n",
      "  for i,df in enumerate(activity_reader):\n",
      "/tmp/ipykernel_364/3853139118.py:94: ParserWarning: Both a converter and dtype were specified for column pchembl_value - only the converter will be used.\n",
      "  for i,df in enumerate(activity_reader):\n"
     ]
    },
    {
     "name": "stdout",
     "output_type": "stream",
     "text": [
      "51550000\n",
      "Start Time = 21:08:15\n",
      "End Time = 21:08:31\n"
     ]
    },
    {
     "name": "stderr",
     "output_type": "stream",
     "text": [
      "/tmp/ipykernel_364/3853139118.py:94: ParserWarning: Both a converter and dtype were specified for column SMILES - only the converter will be used.\n",
      "  for i,df in enumerate(activity_reader):\n",
      "/tmp/ipykernel_364/3853139118.py:94: ParserWarning: Both a converter and dtype were specified for column pchembl_value - only the converter will be used.\n",
      "  for i,df in enumerate(activity_reader):\n"
     ]
    },
    {
     "name": "stdout",
     "output_type": "stream",
     "text": [
      "51600000\n",
      "Start Time = 21:08:46\n",
      "End Time = 21:09:01\n"
     ]
    },
    {
     "name": "stderr",
     "output_type": "stream",
     "text": [
      "/tmp/ipykernel_364/3853139118.py:94: ParserWarning: Both a converter and dtype were specified for column SMILES - only the converter will be used.\n",
      "  for i,df in enumerate(activity_reader):\n",
      "/tmp/ipykernel_364/3853139118.py:94: ParserWarning: Both a converter and dtype were specified for column pchembl_value - only the converter will be used.\n",
      "  for i,df in enumerate(activity_reader):\n"
     ]
    },
    {
     "name": "stdout",
     "output_type": "stream",
     "text": [
      "51650000\n",
      "Start Time = 21:09:16\n",
      "End Time = 21:09:33\n"
     ]
    },
    {
     "name": "stderr",
     "output_type": "stream",
     "text": [
      "/tmp/ipykernel_364/3853139118.py:94: ParserWarning: Both a converter and dtype were specified for column SMILES - only the converter will be used.\n",
      "  for i,df in enumerate(activity_reader):\n",
      "/tmp/ipykernel_364/3853139118.py:94: ParserWarning: Both a converter and dtype were specified for column pchembl_value - only the converter will be used.\n",
      "  for i,df in enumerate(activity_reader):\n"
     ]
    },
    {
     "name": "stdout",
     "output_type": "stream",
     "text": [
      "51700000\n",
      "Start Time = 21:09:47\n",
      "End Time = 21:10:04\n"
     ]
    },
    {
     "name": "stderr",
     "output_type": "stream",
     "text": [
      "/tmp/ipykernel_364/3853139118.py:94: ParserWarning: Both a converter and dtype were specified for column SMILES - only the converter will be used.\n",
      "  for i,df in enumerate(activity_reader):\n",
      "/tmp/ipykernel_364/3853139118.py:94: ParserWarning: Both a converter and dtype were specified for column pchembl_value - only the converter will be used.\n",
      "  for i,df in enumerate(activity_reader):\n"
     ]
    },
    {
     "name": "stdout",
     "output_type": "stream",
     "text": [
      "51750000\n",
      "Start Time = 21:10:19\n",
      "End Time = 21:10:33\n"
     ]
    },
    {
     "name": "stderr",
     "output_type": "stream",
     "text": [
      "/tmp/ipykernel_364/3853139118.py:94: ParserWarning: Both a converter and dtype were specified for column SMILES - only the converter will be used.\n",
      "  for i,df in enumerate(activity_reader):\n",
      "/tmp/ipykernel_364/3853139118.py:94: ParserWarning: Both a converter and dtype were specified for column pchembl_value - only the converter will be used.\n",
      "  for i,df in enumerate(activity_reader):\n"
     ]
    },
    {
     "name": "stdout",
     "output_type": "stream",
     "text": [
      "51800000\n",
      "Start Time = 21:10:48\n",
      "End Time = 21:11:05\n"
     ]
    },
    {
     "name": "stderr",
     "output_type": "stream",
     "text": [
      "/tmp/ipykernel_364/3853139118.py:94: ParserWarning: Both a converter and dtype were specified for column SMILES - only the converter will be used.\n",
      "  for i,df in enumerate(activity_reader):\n",
      "/tmp/ipykernel_364/3853139118.py:94: ParserWarning: Both a converter and dtype were specified for column pchembl_value - only the converter will be used.\n",
      "  for i,df in enumerate(activity_reader):\n"
     ]
    },
    {
     "name": "stdout",
     "output_type": "stream",
     "text": [
      "51850000\n",
      "Start Time = 21:11:20\n",
      "End Time = 21:11:37\n"
     ]
    },
    {
     "name": "stderr",
     "output_type": "stream",
     "text": [
      "/tmp/ipykernel_364/3853139118.py:94: ParserWarning: Both a converter and dtype were specified for column SMILES - only the converter will be used.\n",
      "  for i,df in enumerate(activity_reader):\n",
      "/tmp/ipykernel_364/3853139118.py:94: ParserWarning: Both a converter and dtype were specified for column pchembl_value - only the converter will be used.\n",
      "  for i,df in enumerate(activity_reader):\n"
     ]
    },
    {
     "name": "stdout",
     "output_type": "stream",
     "text": [
      "51900000\n",
      "Start Time = 21:11:51\n",
      "End Time = 21:12:06\n"
     ]
    },
    {
     "name": "stderr",
     "output_type": "stream",
     "text": [
      "/tmp/ipykernel_364/3853139118.py:94: ParserWarning: Both a converter and dtype were specified for column SMILES - only the converter will be used.\n",
      "  for i,df in enumerate(activity_reader):\n",
      "/tmp/ipykernel_364/3853139118.py:94: ParserWarning: Both a converter and dtype were specified for column pchembl_value - only the converter will be used.\n",
      "  for i,df in enumerate(activity_reader):\n"
     ]
    },
    {
     "name": "stdout",
     "output_type": "stream",
     "text": [
      "51950000\n",
      "Start Time = 21:12:20\n",
      "End Time = 21:12:37\n"
     ]
    },
    {
     "name": "stderr",
     "output_type": "stream",
     "text": [
      "/tmp/ipykernel_364/3853139118.py:94: ParserWarning: Both a converter and dtype were specified for column SMILES - only the converter will be used.\n",
      "  for i,df in enumerate(activity_reader):\n",
      "/tmp/ipykernel_364/3853139118.py:94: ParserWarning: Both a converter and dtype were specified for column pchembl_value - only the converter will be used.\n",
      "  for i,df in enumerate(activity_reader):\n"
     ]
    },
    {
     "name": "stdout",
     "output_type": "stream",
     "text": [
      "52000000\n",
      "Start Time = 21:12:51\n",
      "End Time = 21:13:08\n"
     ]
    },
    {
     "name": "stderr",
     "output_type": "stream",
     "text": [
      "/tmp/ipykernel_364/3853139118.py:94: ParserWarning: Both a converter and dtype were specified for column SMILES - only the converter will be used.\n",
      "  for i,df in enumerate(activity_reader):\n",
      "/tmp/ipykernel_364/3853139118.py:94: ParserWarning: Both a converter and dtype were specified for column pchembl_value - only the converter will be used.\n",
      "  for i,df in enumerate(activity_reader):\n"
     ]
    },
    {
     "name": "stdout",
     "output_type": "stream",
     "text": [
      "52050000\n",
      "Start Time = 21:13:22\n",
      "End Time = 21:13:37\n"
     ]
    },
    {
     "name": "stderr",
     "output_type": "stream",
     "text": [
      "/tmp/ipykernel_364/3853139118.py:94: ParserWarning: Both a converter and dtype were specified for column SMILES - only the converter will be used.\n",
      "  for i,df in enumerate(activity_reader):\n",
      "/tmp/ipykernel_364/3853139118.py:94: ParserWarning: Both a converter and dtype were specified for column pchembl_value - only the converter will be used.\n",
      "  for i,df in enumerate(activity_reader):\n"
     ]
    },
    {
     "name": "stdout",
     "output_type": "stream",
     "text": [
      "52100000\n",
      "Start Time = 21:13:53\n",
      "End Time = 21:14:11\n"
     ]
    },
    {
     "name": "stderr",
     "output_type": "stream",
     "text": [
      "/tmp/ipykernel_364/3853139118.py:94: ParserWarning: Both a converter and dtype were specified for column SMILES - only the converter will be used.\n",
      "  for i,df in enumerate(activity_reader):\n",
      "/tmp/ipykernel_364/3853139118.py:94: ParserWarning: Both a converter and dtype were specified for column pchembl_value - only the converter will be used.\n",
      "  for i,df in enumerate(activity_reader):\n"
     ]
    },
    {
     "name": "stdout",
     "output_type": "stream",
     "text": [
      "52150000\n",
      "Start Time = 21:14:26\n",
      "End Time = 21:14:44\n"
     ]
    },
    {
     "name": "stderr",
     "output_type": "stream",
     "text": [
      "/tmp/ipykernel_364/3853139118.py:94: ParserWarning: Both a converter and dtype were specified for column SMILES - only the converter will be used.\n",
      "  for i,df in enumerate(activity_reader):\n",
      "/tmp/ipykernel_364/3853139118.py:94: ParserWarning: Both a converter and dtype were specified for column pchembl_value - only the converter will be used.\n",
      "  for i,df in enumerate(activity_reader):\n"
     ]
    },
    {
     "name": "stdout",
     "output_type": "stream",
     "text": [
      "52200000\n",
      "Start Time = 21:14:58\n",
      "End Time = 21:15:13\n"
     ]
    },
    {
     "name": "stderr",
     "output_type": "stream",
     "text": [
      "/tmp/ipykernel_364/3853139118.py:94: ParserWarning: Both a converter and dtype were specified for column SMILES - only the converter will be used.\n",
      "  for i,df in enumerate(activity_reader):\n",
      "/tmp/ipykernel_364/3853139118.py:94: ParserWarning: Both a converter and dtype were specified for column pchembl_value - only the converter will be used.\n",
      "  for i,df in enumerate(activity_reader):\n"
     ]
    },
    {
     "name": "stdout",
     "output_type": "stream",
     "text": [
      "52250000\n",
      "Start Time = 21:15:28\n",
      "End Time = 21:15:46\n"
     ]
    },
    {
     "name": "stderr",
     "output_type": "stream",
     "text": [
      "/tmp/ipykernel_364/3853139118.py:94: ParserWarning: Both a converter and dtype were specified for column SMILES - only the converter will be used.\n",
      "  for i,df in enumerate(activity_reader):\n",
      "/tmp/ipykernel_364/3853139118.py:94: ParserWarning: Both a converter and dtype were specified for column pchembl_value - only the converter will be used.\n",
      "  for i,df in enumerate(activity_reader):\n"
     ]
    },
    {
     "name": "stdout",
     "output_type": "stream",
     "text": [
      "52300000\n",
      "Start Time = 21:16:00\n",
      "End Time = 21:16:17\n"
     ]
    },
    {
     "name": "stderr",
     "output_type": "stream",
     "text": [
      "/tmp/ipykernel_364/3853139118.py:94: ParserWarning: Both a converter and dtype were specified for column SMILES - only the converter will be used.\n",
      "  for i,df in enumerate(activity_reader):\n",
      "/tmp/ipykernel_364/3853139118.py:94: ParserWarning: Both a converter and dtype were specified for column pchembl_value - only the converter will be used.\n",
      "  for i,df in enumerate(activity_reader):\n"
     ]
    },
    {
     "name": "stdout",
     "output_type": "stream",
     "text": [
      "52350000\n",
      "Start Time = 21:16:31\n",
      "End Time = 21:16:46\n"
     ]
    },
    {
     "name": "stderr",
     "output_type": "stream",
     "text": [
      "/tmp/ipykernel_364/3853139118.py:94: ParserWarning: Both a converter and dtype were specified for column SMILES - only the converter will be used.\n",
      "  for i,df in enumerate(activity_reader):\n",
      "/tmp/ipykernel_364/3853139118.py:94: ParserWarning: Both a converter and dtype were specified for column pchembl_value - only the converter will be used.\n",
      "  for i,df in enumerate(activity_reader):\n"
     ]
    },
    {
     "name": "stdout",
     "output_type": "stream",
     "text": [
      "52400000\n",
      "Start Time = 21:17:01\n",
      "End Time = 21:17:18\n"
     ]
    },
    {
     "name": "stderr",
     "output_type": "stream",
     "text": [
      "/tmp/ipykernel_364/3853139118.py:94: ParserWarning: Both a converter and dtype were specified for column SMILES - only the converter will be used.\n",
      "  for i,df in enumerate(activity_reader):\n",
      "/tmp/ipykernel_364/3853139118.py:94: ParserWarning: Both a converter and dtype were specified for column pchembl_value - only the converter will be used.\n",
      "  for i,df in enumerate(activity_reader):\n"
     ]
    },
    {
     "name": "stdout",
     "output_type": "stream",
     "text": [
      "52450000\n",
      "Start Time = 21:17:33\n",
      "End Time = 21:17:49\n"
     ]
    },
    {
     "name": "stderr",
     "output_type": "stream",
     "text": [
      "/tmp/ipykernel_364/3853139118.py:94: ParserWarning: Both a converter and dtype were specified for column SMILES - only the converter will be used.\n",
      "  for i,df in enumerate(activity_reader):\n",
      "/tmp/ipykernel_364/3853139118.py:94: ParserWarning: Both a converter and dtype were specified for column pchembl_value - only the converter will be used.\n",
      "  for i,df in enumerate(activity_reader):\n"
     ]
    },
    {
     "name": "stdout",
     "output_type": "stream",
     "text": [
      "52500000\n",
      "Start Time = 21:18:04\n",
      "End Time = 21:18:17\n"
     ]
    },
    {
     "name": "stderr",
     "output_type": "stream",
     "text": [
      "/tmp/ipykernel_364/3853139118.py:94: ParserWarning: Both a converter and dtype were specified for column SMILES - only the converter will be used.\n",
      "  for i,df in enumerate(activity_reader):\n",
      "/tmp/ipykernel_364/3853139118.py:94: ParserWarning: Both a converter and dtype were specified for column pchembl_value - only the converter will be used.\n",
      "  for i,df in enumerate(activity_reader):\n"
     ]
    },
    {
     "name": "stdout",
     "output_type": "stream",
     "text": [
      "52550000\n",
      "Start Time = 21:18:32\n",
      "End Time = 21:18:48\n"
     ]
    },
    {
     "name": "stderr",
     "output_type": "stream",
     "text": [
      "/tmp/ipykernel_364/3853139118.py:94: ParserWarning: Both a converter and dtype were specified for column SMILES - only the converter will be used.\n",
      "  for i,df in enumerate(activity_reader):\n",
      "/tmp/ipykernel_364/3853139118.py:94: ParserWarning: Both a converter and dtype were specified for column pchembl_value - only the converter will be used.\n",
      "  for i,df in enumerate(activity_reader):\n"
     ]
    },
    {
     "name": "stdout",
     "output_type": "stream",
     "text": [
      "52600000\n",
      "Start Time = 21:19:03\n",
      "End Time = 21:19:20\n"
     ]
    },
    {
     "name": "stderr",
     "output_type": "stream",
     "text": [
      "/tmp/ipykernel_364/3853139118.py:94: ParserWarning: Both a converter and dtype were specified for column SMILES - only the converter will be used.\n",
      "  for i,df in enumerate(activity_reader):\n",
      "/tmp/ipykernel_364/3853139118.py:94: ParserWarning: Both a converter and dtype were specified for column pchembl_value - only the converter will be used.\n",
      "  for i,df in enumerate(activity_reader):\n"
     ]
    },
    {
     "name": "stdout",
     "output_type": "stream",
     "text": [
      "52650000\n",
      "Start Time = 21:19:35\n",
      "End Time = 21:19:51\n"
     ]
    },
    {
     "name": "stderr",
     "output_type": "stream",
     "text": [
      "/tmp/ipykernel_364/3853139118.py:94: ParserWarning: Both a converter and dtype were specified for column SMILES - only the converter will be used.\n",
      "  for i,df in enumerate(activity_reader):\n",
      "/tmp/ipykernel_364/3853139118.py:94: ParserWarning: Both a converter and dtype were specified for column pchembl_value - only the converter will be used.\n",
      "  for i,df in enumerate(activity_reader):\n"
     ]
    },
    {
     "name": "stdout",
     "output_type": "stream",
     "text": [
      "52700000\n",
      "Start Time = 21:20:05\n",
      "End Time = 21:20:22\n"
     ]
    },
    {
     "name": "stderr",
     "output_type": "stream",
     "text": [
      "/tmp/ipykernel_364/3853139118.py:94: ParserWarning: Both a converter and dtype were specified for column SMILES - only the converter will be used.\n",
      "  for i,df in enumerate(activity_reader):\n",
      "/tmp/ipykernel_364/3853139118.py:94: ParserWarning: Both a converter and dtype were specified for column pchembl_value - only the converter will be used.\n",
      "  for i,df in enumerate(activity_reader):\n"
     ]
    },
    {
     "name": "stdout",
     "output_type": "stream",
     "text": [
      "52750000\n",
      "Start Time = 21:20:36\n",
      "End Time = 21:20:53\n"
     ]
    },
    {
     "name": "stderr",
     "output_type": "stream",
     "text": [
      "/tmp/ipykernel_364/3853139118.py:94: ParserWarning: Both a converter and dtype were specified for column SMILES - only the converter will be used.\n",
      "  for i,df in enumerate(activity_reader):\n",
      "/tmp/ipykernel_364/3853139118.py:94: ParserWarning: Both a converter and dtype were specified for column pchembl_value - only the converter will be used.\n",
      "  for i,df in enumerate(activity_reader):\n"
     ]
    },
    {
     "name": "stdout",
     "output_type": "stream",
     "text": [
      "52800000\n",
      "Start Time = 21:21:07\n",
      "End Time = 21:21:22\n"
     ]
    },
    {
     "name": "stderr",
     "output_type": "stream",
     "text": [
      "/tmp/ipykernel_364/3853139118.py:94: ParserWarning: Both a converter and dtype were specified for column SMILES - only the converter will be used.\n",
      "  for i,df in enumerate(activity_reader):\n",
      "/tmp/ipykernel_364/3853139118.py:94: ParserWarning: Both a converter and dtype were specified for column pchembl_value - only the converter will be used.\n",
      "  for i,df in enumerate(activity_reader):\n"
     ]
    },
    {
     "name": "stdout",
     "output_type": "stream",
     "text": [
      "52850000\n",
      "Start Time = 21:21:36\n",
      "End Time = 21:21:52\n"
     ]
    },
    {
     "name": "stderr",
     "output_type": "stream",
     "text": [
      "/tmp/ipykernel_364/3853139118.py:94: ParserWarning: Both a converter and dtype were specified for column SMILES - only the converter will be used.\n",
      "  for i,df in enumerate(activity_reader):\n",
      "/tmp/ipykernel_364/3853139118.py:94: ParserWarning: Both a converter and dtype were specified for column pchembl_value - only the converter will be used.\n",
      "  for i,df in enumerate(activity_reader):\n"
     ]
    },
    {
     "name": "stdout",
     "output_type": "stream",
     "text": [
      "52900000\n",
      "Start Time = 21:22:06\n",
      "End Time = 21:22:22\n"
     ]
    },
    {
     "name": "stderr",
     "output_type": "stream",
     "text": [
      "/tmp/ipykernel_364/3853139118.py:94: ParserWarning: Both a converter and dtype were specified for column SMILES - only the converter will be used.\n",
      "  for i,df in enumerate(activity_reader):\n",
      "/tmp/ipykernel_364/3853139118.py:94: ParserWarning: Both a converter and dtype were specified for column pchembl_value - only the converter will be used.\n",
      "  for i,df in enumerate(activity_reader):\n"
     ]
    },
    {
     "name": "stdout",
     "output_type": "stream",
     "text": [
      "52950000\n",
      "Start Time = 21:22:37\n",
      "End Time = 21:22:52\n"
     ]
    },
    {
     "name": "stderr",
     "output_type": "stream",
     "text": [
      "/tmp/ipykernel_364/3853139118.py:94: ParserWarning: Both a converter and dtype were specified for column SMILES - only the converter will be used.\n",
      "  for i,df in enumerate(activity_reader):\n",
      "/tmp/ipykernel_364/3853139118.py:94: ParserWarning: Both a converter and dtype were specified for column pchembl_value - only the converter will be used.\n",
      "  for i,df in enumerate(activity_reader):\n"
     ]
    },
    {
     "name": "stdout",
     "output_type": "stream",
     "text": [
      "53000000\n",
      "Start Time = 21:23:06\n",
      "End Time = 21:23:22\n"
     ]
    },
    {
     "name": "stderr",
     "output_type": "stream",
     "text": [
      "/tmp/ipykernel_364/3853139118.py:94: ParserWarning: Both a converter and dtype were specified for column SMILES - only the converter will be used.\n",
      "  for i,df in enumerate(activity_reader):\n",
      "/tmp/ipykernel_364/3853139118.py:94: ParserWarning: Both a converter and dtype were specified for column pchembl_value - only the converter will be used.\n",
      "  for i,df in enumerate(activity_reader):\n"
     ]
    },
    {
     "name": "stdout",
     "output_type": "stream",
     "text": [
      "53050000\n",
      "Start Time = 21:23:36\n",
      "End Time = 21:23:54\n"
     ]
    },
    {
     "name": "stderr",
     "output_type": "stream",
     "text": [
      "/tmp/ipykernel_364/3853139118.py:94: ParserWarning: Both a converter and dtype were specified for column SMILES - only the converter will be used.\n",
      "  for i,df in enumerate(activity_reader):\n",
      "/tmp/ipykernel_364/3853139118.py:94: ParserWarning: Both a converter and dtype were specified for column pchembl_value - only the converter will be used.\n",
      "  for i,df in enumerate(activity_reader):\n"
     ]
    },
    {
     "name": "stdout",
     "output_type": "stream",
     "text": [
      "53100000\n",
      "Start Time = 21:24:08\n",
      "End Time = 21:24:23\n"
     ]
    },
    {
     "name": "stderr",
     "output_type": "stream",
     "text": [
      "/tmp/ipykernel_364/3853139118.py:94: ParserWarning: Both a converter and dtype were specified for column SMILES - only the converter will be used.\n",
      "  for i,df in enumerate(activity_reader):\n",
      "/tmp/ipykernel_364/3853139118.py:94: ParserWarning: Both a converter and dtype were specified for column pchembl_value - only the converter will be used.\n",
      "  for i,df in enumerate(activity_reader):\n"
     ]
    },
    {
     "name": "stdout",
     "output_type": "stream",
     "text": [
      "53150000\n",
      "Start Time = 21:24:38\n",
      "End Time = 21:24:54\n"
     ]
    },
    {
     "name": "stderr",
     "output_type": "stream",
     "text": [
      "/tmp/ipykernel_364/3853139118.py:94: ParserWarning: Both a converter and dtype were specified for column SMILES - only the converter will be used.\n",
      "  for i,df in enumerate(activity_reader):\n",
      "/tmp/ipykernel_364/3853139118.py:94: ParserWarning: Both a converter and dtype were specified for column pchembl_value - only the converter will be used.\n",
      "  for i,df in enumerate(activity_reader):\n"
     ]
    },
    {
     "name": "stdout",
     "output_type": "stream",
     "text": [
      "53200000\n",
      "Start Time = 21:25:09\n",
      "End Time = 21:25:25\n"
     ]
    },
    {
     "name": "stderr",
     "output_type": "stream",
     "text": [
      "/tmp/ipykernel_364/3853139118.py:94: ParserWarning: Both a converter and dtype were specified for column SMILES - only the converter will be used.\n",
      "  for i,df in enumerate(activity_reader):\n",
      "/tmp/ipykernel_364/3853139118.py:94: ParserWarning: Both a converter and dtype were specified for column pchembl_value - only the converter will be used.\n",
      "  for i,df in enumerate(activity_reader):\n"
     ]
    },
    {
     "name": "stdout",
     "output_type": "stream",
     "text": [
      "53250000\n",
      "Start Time = 21:25:40\n",
      "End Time = 21:25:54\n"
     ]
    },
    {
     "name": "stderr",
     "output_type": "stream",
     "text": [
      "/tmp/ipykernel_364/3853139118.py:94: ParserWarning: Both a converter and dtype were specified for column SMILES - only the converter will be used.\n",
      "  for i,df in enumerate(activity_reader):\n",
      "/tmp/ipykernel_364/3853139118.py:94: ParserWarning: Both a converter and dtype were specified for column pchembl_value - only the converter will be used.\n",
      "  for i,df in enumerate(activity_reader):\n"
     ]
    },
    {
     "name": "stdout",
     "output_type": "stream",
     "text": [
      "53300000\n",
      "Start Time = 21:26:09\n",
      "End Time = 21:26:25\n"
     ]
    },
    {
     "name": "stderr",
     "output_type": "stream",
     "text": [
      "/tmp/ipykernel_364/3853139118.py:94: ParserWarning: Both a converter and dtype were specified for column SMILES - only the converter will be used.\n",
      "  for i,df in enumerate(activity_reader):\n",
      "/tmp/ipykernel_364/3853139118.py:94: ParserWarning: Both a converter and dtype were specified for column pchembl_value - only the converter will be used.\n",
      "  for i,df in enumerate(activity_reader):\n"
     ]
    },
    {
     "name": "stdout",
     "output_type": "stream",
     "text": [
      "53350000\n",
      "Start Time = 21:26:39\n",
      "End Time = 21:26:56\n"
     ]
    },
    {
     "name": "stderr",
     "output_type": "stream",
     "text": [
      "/tmp/ipykernel_364/3853139118.py:94: ParserWarning: Both a converter and dtype were specified for column SMILES - only the converter will be used.\n",
      "  for i,df in enumerate(activity_reader):\n",
      "/tmp/ipykernel_364/3853139118.py:94: ParserWarning: Both a converter and dtype were specified for column pchembl_value - only the converter will be used.\n",
      "  for i,df in enumerate(activity_reader):\n"
     ]
    },
    {
     "name": "stdout",
     "output_type": "stream",
     "text": [
      "53400000\n",
      "Start Time = 21:27:12\n",
      "End Time = 21:27:26\n"
     ]
    },
    {
     "name": "stderr",
     "output_type": "stream",
     "text": [
      "/tmp/ipykernel_364/3853139118.py:94: ParserWarning: Both a converter and dtype were specified for column SMILES - only the converter will be used.\n",
      "  for i,df in enumerate(activity_reader):\n",
      "/tmp/ipykernel_364/3853139118.py:94: ParserWarning: Both a converter and dtype were specified for column pchembl_value - only the converter will be used.\n",
      "  for i,df in enumerate(activity_reader):\n"
     ]
    },
    {
     "name": "stdout",
     "output_type": "stream",
     "text": [
      "53450000\n",
      "Start Time = 21:27:41\n",
      "End Time = 21:27:57\n"
     ]
    },
    {
     "name": "stderr",
     "output_type": "stream",
     "text": [
      "/tmp/ipykernel_364/3853139118.py:94: ParserWarning: Both a converter and dtype were specified for column SMILES - only the converter will be used.\n",
      "  for i,df in enumerate(activity_reader):\n",
      "/tmp/ipykernel_364/3853139118.py:94: ParserWarning: Both a converter and dtype were specified for column pchembl_value - only the converter will be used.\n",
      "  for i,df in enumerate(activity_reader):\n"
     ]
    },
    {
     "name": "stdout",
     "output_type": "stream",
     "text": [
      "53500000\n",
      "Start Time = 21:28:12\n",
      "End Time = 21:28:28\n"
     ]
    },
    {
     "name": "stderr",
     "output_type": "stream",
     "text": [
      "/tmp/ipykernel_364/3853139118.py:94: ParserWarning: Both a converter and dtype were specified for column SMILES - only the converter will be used.\n",
      "  for i,df in enumerate(activity_reader):\n",
      "/tmp/ipykernel_364/3853139118.py:94: ParserWarning: Both a converter and dtype were specified for column pchembl_value - only the converter will be used.\n",
      "  for i,df in enumerate(activity_reader):\n"
     ]
    },
    {
     "name": "stdout",
     "output_type": "stream",
     "text": [
      "53550000\n",
      "Start Time = 21:28:43\n",
      "End Time = 21:28:58\n"
     ]
    },
    {
     "name": "stderr",
     "output_type": "stream",
     "text": [
      "/tmp/ipykernel_364/3853139118.py:94: ParserWarning: Both a converter and dtype were specified for column SMILES - only the converter will be used.\n",
      "  for i,df in enumerate(activity_reader):\n",
      "/tmp/ipykernel_364/3853139118.py:94: ParserWarning: Both a converter and dtype were specified for column pchembl_value - only the converter will be used.\n",
      "  for i,df in enumerate(activity_reader):\n"
     ]
    },
    {
     "name": "stdout",
     "output_type": "stream",
     "text": [
      "53600000\n",
      "Start Time = 21:29:12\n",
      "End Time = 21:29:29\n"
     ]
    },
    {
     "name": "stderr",
     "output_type": "stream",
     "text": [
      "/tmp/ipykernel_364/3853139118.py:94: ParserWarning: Both a converter and dtype were specified for column SMILES - only the converter will be used.\n",
      "  for i,df in enumerate(activity_reader):\n",
      "/tmp/ipykernel_364/3853139118.py:94: ParserWarning: Both a converter and dtype were specified for column pchembl_value - only the converter will be used.\n",
      "  for i,df in enumerate(activity_reader):\n"
     ]
    },
    {
     "name": "stdout",
     "output_type": "stream",
     "text": [
      "53650000\n",
      "Start Time = 21:29:44\n",
      "End Time = 21:30:00\n"
     ]
    },
    {
     "name": "stderr",
     "output_type": "stream",
     "text": [
      "/tmp/ipykernel_364/3853139118.py:94: ParserWarning: Both a converter and dtype were specified for column SMILES - only the converter will be used.\n",
      "  for i,df in enumerate(activity_reader):\n",
      "/tmp/ipykernel_364/3853139118.py:94: ParserWarning: Both a converter and dtype were specified for column pchembl_value - only the converter will be used.\n",
      "  for i,df in enumerate(activity_reader):\n"
     ]
    },
    {
     "name": "stdout",
     "output_type": "stream",
     "text": [
      "53700000\n",
      "Start Time = 21:30:15\n",
      "End Time = 21:30:30\n"
     ]
    },
    {
     "name": "stderr",
     "output_type": "stream",
     "text": [
      "/tmp/ipykernel_364/3853139118.py:94: ParserWarning: Both a converter and dtype were specified for column SMILES - only the converter will be used.\n",
      "  for i,df in enumerate(activity_reader):\n",
      "/tmp/ipykernel_364/3853139118.py:94: ParserWarning: Both a converter and dtype were specified for column pchembl_value - only the converter will be used.\n",
      "  for i,df in enumerate(activity_reader):\n"
     ]
    },
    {
     "name": "stdout",
     "output_type": "stream",
     "text": [
      "53750000\n",
      "Start Time = 21:30:45\n",
      "End Time = 21:31:03\n"
     ]
    },
    {
     "name": "stderr",
     "output_type": "stream",
     "text": [
      "/tmp/ipykernel_364/3853139118.py:94: ParserWarning: Both a converter and dtype were specified for column SMILES - only the converter will be used.\n",
      "  for i,df in enumerate(activity_reader):\n",
      "/tmp/ipykernel_364/3853139118.py:94: ParserWarning: Both a converter and dtype were specified for column pchembl_value - only the converter will be used.\n",
      "  for i,df in enumerate(activity_reader):\n"
     ]
    },
    {
     "name": "stdout",
     "output_type": "stream",
     "text": [
      "53800000\n",
      "Start Time = 21:31:17\n",
      "End Time = 21:31:34\n"
     ]
    },
    {
     "name": "stderr",
     "output_type": "stream",
     "text": [
      "/tmp/ipykernel_364/3853139118.py:94: ParserWarning: Both a converter and dtype were specified for column SMILES - only the converter will be used.\n",
      "  for i,df in enumerate(activity_reader):\n",
      "/tmp/ipykernel_364/3853139118.py:94: ParserWarning: Both a converter and dtype were specified for column pchembl_value - only the converter will be used.\n",
      "  for i,df in enumerate(activity_reader):\n"
     ]
    },
    {
     "name": "stdout",
     "output_type": "stream",
     "text": [
      "53850000\n",
      "Start Time = 21:31:49\n",
      "End Time = 21:32:04\n"
     ]
    },
    {
     "name": "stderr",
     "output_type": "stream",
     "text": [
      "/tmp/ipykernel_364/3853139118.py:94: ParserWarning: Both a converter and dtype were specified for column SMILES - only the converter will be used.\n",
      "  for i,df in enumerate(activity_reader):\n",
      "/tmp/ipykernel_364/3853139118.py:94: ParserWarning: Both a converter and dtype were specified for column pchembl_value - only the converter will be used.\n",
      "  for i,df in enumerate(activity_reader):\n"
     ]
    },
    {
     "name": "stdout",
     "output_type": "stream",
     "text": [
      "53900000\n",
      "Start Time = 21:32:18\n",
      "End Time = 21:32:34\n"
     ]
    },
    {
     "name": "stderr",
     "output_type": "stream",
     "text": [
      "/tmp/ipykernel_364/3853139118.py:94: ParserWarning: Both a converter and dtype were specified for column SMILES - only the converter will be used.\n",
      "  for i,df in enumerate(activity_reader):\n",
      "/tmp/ipykernel_364/3853139118.py:94: ParserWarning: Both a converter and dtype were specified for column pchembl_value - only the converter will be used.\n",
      "  for i,df in enumerate(activity_reader):\n"
     ]
    },
    {
     "name": "stdout",
     "output_type": "stream",
     "text": [
      "53950000\n",
      "Start Time = 21:32:49\n",
      "End Time = 21:33:05\n"
     ]
    },
    {
     "name": "stderr",
     "output_type": "stream",
     "text": [
      "/tmp/ipykernel_364/3853139118.py:94: ParserWarning: Both a converter and dtype were specified for column SMILES - only the converter will be used.\n",
      "  for i,df in enumerate(activity_reader):\n",
      "/tmp/ipykernel_364/3853139118.py:94: ParserWarning: Both a converter and dtype were specified for column pchembl_value - only the converter will be used.\n",
      "  for i,df in enumerate(activity_reader):\n"
     ]
    },
    {
     "name": "stdout",
     "output_type": "stream",
     "text": [
      "54000000\n",
      "Start Time = 21:33:20\n",
      "End Time = 21:33:34\n"
     ]
    },
    {
     "name": "stderr",
     "output_type": "stream",
     "text": [
      "/tmp/ipykernel_364/3853139118.py:94: ParserWarning: Both a converter and dtype were specified for column SMILES - only the converter will be used.\n",
      "  for i,df in enumerate(activity_reader):\n",
      "/tmp/ipykernel_364/3853139118.py:94: ParserWarning: Both a converter and dtype were specified for column pchembl_value - only the converter will be used.\n",
      "  for i,df in enumerate(activity_reader):\n"
     ]
    },
    {
     "name": "stdout",
     "output_type": "stream",
     "text": [
      "54050000\n",
      "Start Time = 21:33:49\n",
      "End Time = 21:34:06\n"
     ]
    },
    {
     "name": "stderr",
     "output_type": "stream",
     "text": [
      "/tmp/ipykernel_364/3853139118.py:94: ParserWarning: Both a converter and dtype were specified for column SMILES - only the converter will be used.\n",
      "  for i,df in enumerate(activity_reader):\n",
      "/tmp/ipykernel_364/3853139118.py:94: ParserWarning: Both a converter and dtype were specified for column pchembl_value - only the converter will be used.\n",
      "  for i,df in enumerate(activity_reader):\n"
     ]
    },
    {
     "name": "stdout",
     "output_type": "stream",
     "text": [
      "54100000\n",
      "Start Time = 21:34:21\n",
      "End Time = 21:34:38\n"
     ]
    },
    {
     "name": "stderr",
     "output_type": "stream",
     "text": [
      "/tmp/ipykernel_364/3853139118.py:94: ParserWarning: Both a converter and dtype were specified for column SMILES - only the converter will be used.\n",
      "  for i,df in enumerate(activity_reader):\n",
      "/tmp/ipykernel_364/3853139118.py:94: ParserWarning: Both a converter and dtype were specified for column pchembl_value - only the converter will be used.\n",
      "  for i,df in enumerate(activity_reader):\n"
     ]
    },
    {
     "name": "stdout",
     "output_type": "stream",
     "text": [
      "54150000\n",
      "Start Time = 21:34:52\n",
      "End Time = 21:35:07\n"
     ]
    },
    {
     "name": "stderr",
     "output_type": "stream",
     "text": [
      "/tmp/ipykernel_364/3853139118.py:94: ParserWarning: Both a converter and dtype were specified for column SMILES - only the converter will be used.\n",
      "  for i,df in enumerate(activity_reader):\n",
      "/tmp/ipykernel_364/3853139118.py:94: ParserWarning: Both a converter and dtype were specified for column pchembl_value - only the converter will be used.\n",
      "  for i,df in enumerate(activity_reader):\n"
     ]
    },
    {
     "name": "stdout",
     "output_type": "stream",
     "text": [
      "54200000\n",
      "Start Time = 21:35:22\n",
      "End Time = 21:35:41\n"
     ]
    },
    {
     "name": "stderr",
     "output_type": "stream",
     "text": [
      "/tmp/ipykernel_364/3853139118.py:94: ParserWarning: Both a converter and dtype were specified for column SMILES - only the converter will be used.\n",
      "  for i,df in enumerate(activity_reader):\n",
      "/tmp/ipykernel_364/3853139118.py:94: ParserWarning: Both a converter and dtype were specified for column pchembl_value - only the converter will be used.\n",
      "  for i,df in enumerate(activity_reader):\n"
     ]
    },
    {
     "name": "stdout",
     "output_type": "stream",
     "text": [
      "54250000\n",
      "Start Time = 21:35:55\n",
      "End Time = 21:36:12\n"
     ]
    },
    {
     "name": "stderr",
     "output_type": "stream",
     "text": [
      "/tmp/ipykernel_364/3853139118.py:94: ParserWarning: Both a converter and dtype were specified for column SMILES - only the converter will be used.\n",
      "  for i,df in enumerate(activity_reader):\n",
      "/tmp/ipykernel_364/3853139118.py:94: ParserWarning: Both a converter and dtype were specified for column pchembl_value - only the converter will be used.\n",
      "  for i,df in enumerate(activity_reader):\n"
     ]
    },
    {
     "name": "stdout",
     "output_type": "stream",
     "text": [
      "54300000\n",
      "Start Time = 21:36:26\n",
      "End Time = 21:36:40\n"
     ]
    },
    {
     "name": "stderr",
     "output_type": "stream",
     "text": [
      "/tmp/ipykernel_364/3853139118.py:94: ParserWarning: Both a converter and dtype were specified for column SMILES - only the converter will be used.\n",
      "  for i,df in enumerate(activity_reader):\n",
      "/tmp/ipykernel_364/3853139118.py:94: ParserWarning: Both a converter and dtype were specified for column pchembl_value - only the converter will be used.\n",
      "  for i,df in enumerate(activity_reader):\n"
     ]
    },
    {
     "name": "stdout",
     "output_type": "stream",
     "text": [
      "54350000\n",
      "Start Time = 21:36:55\n",
      "End Time = 21:37:11\n"
     ]
    },
    {
     "name": "stderr",
     "output_type": "stream",
     "text": [
      "/tmp/ipykernel_364/3853139118.py:94: ParserWarning: Both a converter and dtype were specified for column SMILES - only the converter will be used.\n",
      "  for i,df in enumerate(activity_reader):\n",
      "/tmp/ipykernel_364/3853139118.py:94: ParserWarning: Both a converter and dtype were specified for column pchembl_value - only the converter will be used.\n",
      "  for i,df in enumerate(activity_reader):\n"
     ]
    },
    {
     "name": "stdout",
     "output_type": "stream",
     "text": [
      "54400000\n",
      "Start Time = 21:37:26\n",
      "End Time = 21:37:43\n"
     ]
    },
    {
     "name": "stderr",
     "output_type": "stream",
     "text": [
      "/tmp/ipykernel_364/3853139118.py:94: ParserWarning: Both a converter and dtype were specified for column SMILES - only the converter will be used.\n",
      "  for i,df in enumerate(activity_reader):\n",
      "/tmp/ipykernel_364/3853139118.py:94: ParserWarning: Both a converter and dtype were specified for column pchembl_value - only the converter will be used.\n",
      "  for i,df in enumerate(activity_reader):\n"
     ]
    },
    {
     "name": "stdout",
     "output_type": "stream",
     "text": [
      "54450000\n",
      "Start Time = 21:37:57\n",
      "End Time = 21:38:12\n"
     ]
    },
    {
     "name": "stderr",
     "output_type": "stream",
     "text": [
      "/tmp/ipykernel_364/3853139118.py:94: ParserWarning: Both a converter and dtype were specified for column SMILES - only the converter will be used.\n",
      "  for i,df in enumerate(activity_reader):\n",
      "/tmp/ipykernel_364/3853139118.py:94: ParserWarning: Both a converter and dtype were specified for column pchembl_value - only the converter will be used.\n",
      "  for i,df in enumerate(activity_reader):\n"
     ]
    },
    {
     "name": "stdout",
     "output_type": "stream",
     "text": [
      "54500000\n",
      "Start Time = 21:38:25\n",
      "End Time = 21:38:42\n"
     ]
    },
    {
     "name": "stderr",
     "output_type": "stream",
     "text": [
      "/tmp/ipykernel_364/3853139118.py:94: ParserWarning: Both a converter and dtype were specified for column SMILES - only the converter will be used.\n",
      "  for i,df in enumerate(activity_reader):\n",
      "/tmp/ipykernel_364/3853139118.py:94: ParserWarning: Both a converter and dtype were specified for column pchembl_value - only the converter will be used.\n",
      "  for i,df in enumerate(activity_reader):\n"
     ]
    },
    {
     "name": "stdout",
     "output_type": "stream",
     "text": [
      "54550000\n",
      "Start Time = 21:38:57\n",
      "End Time = 21:39:15\n"
     ]
    },
    {
     "name": "stderr",
     "output_type": "stream",
     "text": [
      "/tmp/ipykernel_364/3853139118.py:94: ParserWarning: Both a converter and dtype were specified for column SMILES - only the converter will be used.\n",
      "  for i,df in enumerate(activity_reader):\n",
      "/tmp/ipykernel_364/3853139118.py:94: ParserWarning: Both a converter and dtype were specified for column pchembl_value - only the converter will be used.\n",
      "  for i,df in enumerate(activity_reader):\n"
     ]
    },
    {
     "name": "stdout",
     "output_type": "stream",
     "text": [
      "54600000\n",
      "Start Time = 21:39:30\n",
      "End Time = 21:39:46\n"
     ]
    },
    {
     "name": "stderr",
     "output_type": "stream",
     "text": [
      "/tmp/ipykernel_364/3853139118.py:94: ParserWarning: Both a converter and dtype were specified for column SMILES - only the converter will be used.\n",
      "  for i,df in enumerate(activity_reader):\n",
      "/tmp/ipykernel_364/3853139118.py:94: ParserWarning: Both a converter and dtype were specified for column pchembl_value - only the converter will be used.\n",
      "  for i,df in enumerate(activity_reader):\n"
     ]
    },
    {
     "name": "stdout",
     "output_type": "stream",
     "text": [
      "54650000\n",
      "Start Time = 21:40:00\n",
      "End Time = 21:40:17\n"
     ]
    },
    {
     "name": "stderr",
     "output_type": "stream",
     "text": [
      "/tmp/ipykernel_364/3853139118.py:94: ParserWarning: Both a converter and dtype were specified for column SMILES - only the converter will be used.\n",
      "  for i,df in enumerate(activity_reader):\n",
      "/tmp/ipykernel_364/3853139118.py:94: ParserWarning: Both a converter and dtype were specified for column pchembl_value - only the converter will be used.\n",
      "  for i,df in enumerate(activity_reader):\n"
     ]
    },
    {
     "name": "stdout",
     "output_type": "stream",
     "text": [
      "54700000\n",
      "Start Time = 21:40:32\n",
      "End Time = 21:40:49\n"
     ]
    },
    {
     "name": "stderr",
     "output_type": "stream",
     "text": [
      "/tmp/ipykernel_364/3853139118.py:94: ParserWarning: Both a converter and dtype were specified for column SMILES - only the converter will be used.\n",
      "  for i,df in enumerate(activity_reader):\n",
      "/tmp/ipykernel_364/3853139118.py:94: ParserWarning: Both a converter and dtype were specified for column pchembl_value - only the converter will be used.\n",
      "  for i,df in enumerate(activity_reader):\n"
     ]
    },
    {
     "name": "stdout",
     "output_type": "stream",
     "text": [
      "54750000\n",
      "Start Time = 21:41:03\n",
      "End Time = 21:41:18\n"
     ]
    },
    {
     "name": "stderr",
     "output_type": "stream",
     "text": [
      "/tmp/ipykernel_364/3853139118.py:94: ParserWarning: Both a converter and dtype were specified for column SMILES - only the converter will be used.\n",
      "  for i,df in enumerate(activity_reader):\n",
      "/tmp/ipykernel_364/3853139118.py:94: ParserWarning: Both a converter and dtype were specified for column pchembl_value - only the converter will be used.\n",
      "  for i,df in enumerate(activity_reader):\n"
     ]
    },
    {
     "name": "stdout",
     "output_type": "stream",
     "text": [
      "54800000\n",
      "Start Time = 21:41:32\n",
      "End Time = 21:41:48\n"
     ]
    },
    {
     "name": "stderr",
     "output_type": "stream",
     "text": [
      "/tmp/ipykernel_364/3853139118.py:94: ParserWarning: Both a converter and dtype were specified for column SMILES - only the converter will be used.\n",
      "  for i,df in enumerate(activity_reader):\n",
      "/tmp/ipykernel_364/3853139118.py:94: ParserWarning: Both a converter and dtype were specified for column pchembl_value - only the converter will be used.\n",
      "  for i,df in enumerate(activity_reader):\n"
     ]
    },
    {
     "name": "stdout",
     "output_type": "stream",
     "text": [
      "54850000\n",
      "Start Time = 21:42:02\n",
      "End Time = 21:42:19\n"
     ]
    },
    {
     "name": "stderr",
     "output_type": "stream",
     "text": [
      "/tmp/ipykernel_364/3853139118.py:94: ParserWarning: Both a converter and dtype were specified for column SMILES - only the converter will be used.\n",
      "  for i,df in enumerate(activity_reader):\n",
      "/tmp/ipykernel_364/3853139118.py:94: ParserWarning: Both a converter and dtype were specified for column pchembl_value - only the converter will be used.\n",
      "  for i,df in enumerate(activity_reader):\n"
     ]
    },
    {
     "name": "stdout",
     "output_type": "stream",
     "text": [
      "54900000\n",
      "Start Time = 21:42:33\n",
      "End Time = 21:42:48\n"
     ]
    },
    {
     "name": "stderr",
     "output_type": "stream",
     "text": [
      "/tmp/ipykernel_364/3853139118.py:94: ParserWarning: Both a converter and dtype were specified for column SMILES - only the converter will be used.\n",
      "  for i,df in enumerate(activity_reader):\n",
      "/tmp/ipykernel_364/3853139118.py:94: ParserWarning: Both a converter and dtype were specified for column pchembl_value - only the converter will be used.\n",
      "  for i,df in enumerate(activity_reader):\n"
     ]
    },
    {
     "name": "stdout",
     "output_type": "stream",
     "text": [
      "54950000\n",
      "Start Time = 21:43:03\n",
      "End Time = 21:43:19\n"
     ]
    },
    {
     "name": "stderr",
     "output_type": "stream",
     "text": [
      "/tmp/ipykernel_364/3853139118.py:94: ParserWarning: Both a converter and dtype were specified for column SMILES - only the converter will be used.\n",
      "  for i,df in enumerate(activity_reader):\n",
      "/tmp/ipykernel_364/3853139118.py:94: ParserWarning: Both a converter and dtype were specified for column pchembl_value - only the converter will be used.\n",
      "  for i,df in enumerate(activity_reader):\n"
     ]
    },
    {
     "name": "stdout",
     "output_type": "stream",
     "text": [
      "55000000\n",
      "Start Time = 21:43:33\n",
      "End Time = 21:43:50\n"
     ]
    },
    {
     "name": "stderr",
     "output_type": "stream",
     "text": [
      "/tmp/ipykernel_364/3853139118.py:94: ParserWarning: Both a converter and dtype were specified for column SMILES - only the converter will be used.\n",
      "  for i,df in enumerate(activity_reader):\n",
      "/tmp/ipykernel_364/3853139118.py:94: ParserWarning: Both a converter and dtype were specified for column pchembl_value - only the converter will be used.\n",
      "  for i,df in enumerate(activity_reader):\n"
     ]
    },
    {
     "name": "stdout",
     "output_type": "stream",
     "text": [
      "55050000\n",
      "Start Time = 21:44:05\n",
      "End Time = 21:44:19\n"
     ]
    },
    {
     "name": "stderr",
     "output_type": "stream",
     "text": [
      "/tmp/ipykernel_364/3853139118.py:94: ParserWarning: Both a converter and dtype were specified for column SMILES - only the converter will be used.\n",
      "  for i,df in enumerate(activity_reader):\n",
      "/tmp/ipykernel_364/3853139118.py:94: ParserWarning: Both a converter and dtype were specified for column pchembl_value - only the converter will be used.\n",
      "  for i,df in enumerate(activity_reader):\n"
     ]
    },
    {
     "name": "stdout",
     "output_type": "stream",
     "text": [
      "55100000\n",
      "Start Time = 21:44:34\n",
      "End Time = 21:44:50\n"
     ]
    },
    {
     "name": "stderr",
     "output_type": "stream",
     "text": [
      "/tmp/ipykernel_364/3853139118.py:94: ParserWarning: Both a converter and dtype were specified for column SMILES - only the converter will be used.\n",
      "  for i,df in enumerate(activity_reader):\n",
      "/tmp/ipykernel_364/3853139118.py:94: ParserWarning: Both a converter and dtype were specified for column pchembl_value - only the converter will be used.\n",
      "  for i,df in enumerate(activity_reader):\n"
     ]
    },
    {
     "name": "stdout",
     "output_type": "stream",
     "text": [
      "55150000\n",
      "Start Time = 21:45:05\n",
      "End Time = 21:45:22\n"
     ]
    },
    {
     "name": "stderr",
     "output_type": "stream",
     "text": [
      "/tmp/ipykernel_364/3853139118.py:94: ParserWarning: Both a converter and dtype were specified for column SMILES - only the converter will be used.\n",
      "  for i,df in enumerate(activity_reader):\n",
      "/tmp/ipykernel_364/3853139118.py:94: ParserWarning: Both a converter and dtype were specified for column pchembl_value - only the converter will be used.\n",
      "  for i,df in enumerate(activity_reader):\n"
     ]
    },
    {
     "name": "stdout",
     "output_type": "stream",
     "text": [
      "55200000\n",
      "Start Time = 21:45:36\n",
      "End Time = 21:45:51\n"
     ]
    },
    {
     "name": "stderr",
     "output_type": "stream",
     "text": [
      "/tmp/ipykernel_364/3853139118.py:94: ParserWarning: Both a converter and dtype were specified for column SMILES - only the converter will be used.\n",
      "  for i,df in enumerate(activity_reader):\n",
      "/tmp/ipykernel_364/3853139118.py:94: ParserWarning: Both a converter and dtype were specified for column pchembl_value - only the converter will be used.\n",
      "  for i,df in enumerate(activity_reader):\n"
     ]
    },
    {
     "name": "stdout",
     "output_type": "stream",
     "text": [
      "55250000\n",
      "Start Time = 21:46:06\n",
      "End Time = 21:46:22\n"
     ]
    },
    {
     "name": "stderr",
     "output_type": "stream",
     "text": [
      "/tmp/ipykernel_364/3853139118.py:94: ParserWarning: Both a converter and dtype were specified for column SMILES - only the converter will be used.\n",
      "  for i,df in enumerate(activity_reader):\n",
      "/tmp/ipykernel_364/3853139118.py:94: ParserWarning: Both a converter and dtype were specified for column pchembl_value - only the converter will be used.\n",
      "  for i,df in enumerate(activity_reader):\n"
     ]
    },
    {
     "name": "stdout",
     "output_type": "stream",
     "text": [
      "55300000\n",
      "Start Time = 21:46:36\n",
      "End Time = 21:46:53\n"
     ]
    },
    {
     "name": "stderr",
     "output_type": "stream",
     "text": [
      "/tmp/ipykernel_364/3853139118.py:94: ParserWarning: Both a converter and dtype were specified for column SMILES - only the converter will be used.\n",
      "  for i,df in enumerate(activity_reader):\n",
      "/tmp/ipykernel_364/3853139118.py:94: ParserWarning: Both a converter and dtype were specified for column pchembl_value - only the converter will be used.\n",
      "  for i,df in enumerate(activity_reader):\n"
     ]
    },
    {
     "name": "stdout",
     "output_type": "stream",
     "text": [
      "55350000\n",
      "Start Time = 21:47:08\n",
      "End Time = 21:47:22\n"
     ]
    },
    {
     "name": "stderr",
     "output_type": "stream",
     "text": [
      "/tmp/ipykernel_364/3853139118.py:94: ParserWarning: Both a converter and dtype were specified for column SMILES - only the converter will be used.\n",
      "  for i,df in enumerate(activity_reader):\n",
      "/tmp/ipykernel_364/3853139118.py:94: ParserWarning: Both a converter and dtype were specified for column pchembl_value - only the converter will be used.\n",
      "  for i,df in enumerate(activity_reader):\n"
     ]
    },
    {
     "name": "stdout",
     "output_type": "stream",
     "text": [
      "55400000\n",
      "Start Time = 21:47:37\n",
      "End Time = 21:47:53\n"
     ]
    },
    {
     "name": "stderr",
     "output_type": "stream",
     "text": [
      "/tmp/ipykernel_364/3853139118.py:94: ParserWarning: Both a converter and dtype were specified for column SMILES - only the converter will be used.\n",
      "  for i,df in enumerate(activity_reader):\n",
      "/tmp/ipykernel_364/3853139118.py:94: ParserWarning: Both a converter and dtype were specified for column pchembl_value - only the converter will be used.\n",
      "  for i,df in enumerate(activity_reader):\n"
     ]
    },
    {
     "name": "stdout",
     "output_type": "stream",
     "text": [
      "55450000\n",
      "Start Time = 21:48:07\n",
      "End Time = 21:48:23\n"
     ]
    },
    {
     "name": "stderr",
     "output_type": "stream",
     "text": [
      "/tmp/ipykernel_364/3853139118.py:94: ParserWarning: Both a converter and dtype were specified for column SMILES - only the converter will be used.\n",
      "  for i,df in enumerate(activity_reader):\n",
      "/tmp/ipykernel_364/3853139118.py:94: ParserWarning: Both a converter and dtype were specified for column pchembl_value - only the converter will be used.\n",
      "  for i,df in enumerate(activity_reader):\n"
     ]
    },
    {
     "name": "stdout",
     "output_type": "stream",
     "text": [
      "55500000\n",
      "Start Time = 21:48:38\n",
      "End Time = 21:48:53\n"
     ]
    },
    {
     "name": "stderr",
     "output_type": "stream",
     "text": [
      "/tmp/ipykernel_364/3853139118.py:94: ParserWarning: Both a converter and dtype were specified for column SMILES - only the converter will be used.\n",
      "  for i,df in enumerate(activity_reader):\n",
      "/tmp/ipykernel_364/3853139118.py:94: ParserWarning: Both a converter and dtype were specified for column pchembl_value - only the converter will be used.\n",
      "  for i,df in enumerate(activity_reader):\n"
     ]
    },
    {
     "name": "stdout",
     "output_type": "stream",
     "text": [
      "55550000\n",
      "Start Time = 21:49:07\n",
      "End Time = 21:49:24\n"
     ]
    },
    {
     "name": "stderr",
     "output_type": "stream",
     "text": [
      "/tmp/ipykernel_364/3853139118.py:94: ParserWarning: Both a converter and dtype were specified for column SMILES - only the converter will be used.\n",
      "  for i,df in enumerate(activity_reader):\n",
      "/tmp/ipykernel_364/3853139118.py:94: ParserWarning: Both a converter and dtype were specified for column pchembl_value - only the converter will be used.\n",
      "  for i,df in enumerate(activity_reader):\n"
     ]
    },
    {
     "name": "stdout",
     "output_type": "stream",
     "text": [
      "55600000\n",
      "Start Time = 21:49:39\n",
      "End Time = 21:49:56\n"
     ]
    },
    {
     "name": "stderr",
     "output_type": "stream",
     "text": [
      "/tmp/ipykernel_364/3853139118.py:94: ParserWarning: Both a converter and dtype were specified for column SMILES - only the converter will be used.\n",
      "  for i,df in enumerate(activity_reader):\n",
      "/tmp/ipykernel_364/3853139118.py:94: ParserWarning: Both a converter and dtype were specified for column pchembl_value - only the converter will be used.\n",
      "  for i,df in enumerate(activity_reader):\n"
     ]
    },
    {
     "name": "stdout",
     "output_type": "stream",
     "text": [
      "55650000\n",
      "Start Time = 21:50:11\n",
      "End Time = 21:50:26\n"
     ]
    },
    {
     "name": "stderr",
     "output_type": "stream",
     "text": [
      "/tmp/ipykernel_364/3853139118.py:94: ParserWarning: Both a converter and dtype were specified for column SMILES - only the converter will be used.\n",
      "  for i,df in enumerate(activity_reader):\n",
      "/tmp/ipykernel_364/3853139118.py:94: ParserWarning: Both a converter and dtype were specified for column pchembl_value - only the converter will be used.\n",
      "  for i,df in enumerate(activity_reader):\n"
     ]
    },
    {
     "name": "stdout",
     "output_type": "stream",
     "text": [
      "55700000\n",
      "Start Time = 21:50:40\n",
      "End Time = 21:50:57\n"
     ]
    },
    {
     "name": "stderr",
     "output_type": "stream",
     "text": [
      "/tmp/ipykernel_364/3853139118.py:94: ParserWarning: Both a converter and dtype were specified for column SMILES - only the converter will be used.\n",
      "  for i,df in enumerate(activity_reader):\n",
      "/tmp/ipykernel_364/3853139118.py:94: ParserWarning: Both a converter and dtype were specified for column pchembl_value - only the converter will be used.\n",
      "  for i,df in enumerate(activity_reader):\n"
     ]
    },
    {
     "name": "stdout",
     "output_type": "stream",
     "text": [
      "55750000\n",
      "Start Time = 21:51:12\n",
      "End Time = 21:51:29\n"
     ]
    },
    {
     "name": "stderr",
     "output_type": "stream",
     "text": [
      "/tmp/ipykernel_364/3853139118.py:94: ParserWarning: Both a converter and dtype were specified for column SMILES - only the converter will be used.\n",
      "  for i,df in enumerate(activity_reader):\n",
      "/tmp/ipykernel_364/3853139118.py:94: ParserWarning: Both a converter and dtype were specified for column pchembl_value - only the converter will be used.\n",
      "  for i,df in enumerate(activity_reader):\n"
     ]
    },
    {
     "name": "stdout",
     "output_type": "stream",
     "text": [
      "55800000\n",
      "Start Time = 21:51:44\n",
      "End Time = 21:51:59\n"
     ]
    },
    {
     "name": "stderr",
     "output_type": "stream",
     "text": [
      "/tmp/ipykernel_364/3853139118.py:94: ParserWarning: Both a converter and dtype were specified for column SMILES - only the converter will be used.\n",
      "  for i,df in enumerate(activity_reader):\n",
      "/tmp/ipykernel_364/3853139118.py:94: ParserWarning: Both a converter and dtype were specified for column pchembl_value - only the converter will be used.\n",
      "  for i,df in enumerate(activity_reader):\n"
     ]
    },
    {
     "name": "stdout",
     "output_type": "stream",
     "text": [
      "55850000\n",
      "Start Time = 21:52:13\n",
      "End Time = 21:52:30\n"
     ]
    },
    {
     "name": "stderr",
     "output_type": "stream",
     "text": [
      "/tmp/ipykernel_364/3853139118.py:94: ParserWarning: Both a converter and dtype were specified for column SMILES - only the converter will be used.\n",
      "  for i,df in enumerate(activity_reader):\n",
      "/tmp/ipykernel_364/3853139118.py:94: ParserWarning: Both a converter and dtype were specified for column pchembl_value - only the converter will be used.\n",
      "  for i,df in enumerate(activity_reader):\n"
     ]
    },
    {
     "name": "stdout",
     "output_type": "stream",
     "text": [
      "55900000\n",
      "Start Time = 21:52:44\n",
      "End Time = 21:53:00\n"
     ]
    },
    {
     "name": "stderr",
     "output_type": "stream",
     "text": [
      "/tmp/ipykernel_364/3853139118.py:94: ParserWarning: Both a converter and dtype were specified for column SMILES - only the converter will be used.\n",
      "  for i,df in enumerate(activity_reader):\n",
      "/tmp/ipykernel_364/3853139118.py:94: ParserWarning: Both a converter and dtype were specified for column pchembl_value - only the converter will be used.\n",
      "  for i,df in enumerate(activity_reader):\n"
     ]
    },
    {
     "name": "stdout",
     "output_type": "stream",
     "text": [
      "55950000\n",
      "Start Time = 21:53:15\n",
      "End Time = 21:53:29\n"
     ]
    },
    {
     "name": "stderr",
     "output_type": "stream",
     "text": [
      "/tmp/ipykernel_364/3853139118.py:94: ParserWarning: Both a converter and dtype were specified for column SMILES - only the converter will be used.\n",
      "  for i,df in enumerate(activity_reader):\n",
      "/tmp/ipykernel_364/3853139118.py:94: ParserWarning: Both a converter and dtype were specified for column pchembl_value - only the converter will be used.\n",
      "  for i,df in enumerate(activity_reader):\n"
     ]
    },
    {
     "name": "stdout",
     "output_type": "stream",
     "text": [
      "56000000\n",
      "Start Time = 21:53:44\n",
      "End Time = 21:54:01\n"
     ]
    },
    {
     "name": "stderr",
     "output_type": "stream",
     "text": [
      "/tmp/ipykernel_364/3853139118.py:94: ParserWarning: Both a converter and dtype were specified for column SMILES - only the converter will be used.\n",
      "  for i,df in enumerate(activity_reader):\n",
      "/tmp/ipykernel_364/3853139118.py:94: ParserWarning: Both a converter and dtype were specified for column pchembl_value - only the converter will be used.\n",
      "  for i,df in enumerate(activity_reader):\n"
     ]
    },
    {
     "name": "stdout",
     "output_type": "stream",
     "text": [
      "56050000\n",
      "Start Time = 21:54:15\n",
      "End Time = 21:54:32\n"
     ]
    },
    {
     "name": "stderr",
     "output_type": "stream",
     "text": [
      "/tmp/ipykernel_364/3853139118.py:94: ParserWarning: Both a converter and dtype were specified for column SMILES - only the converter will be used.\n",
      "  for i,df in enumerate(activity_reader):\n",
      "/tmp/ipykernel_364/3853139118.py:94: ParserWarning: Both a converter and dtype were specified for column pchembl_value - only the converter will be used.\n",
      "  for i,df in enumerate(activity_reader):\n"
     ]
    },
    {
     "name": "stdout",
     "output_type": "stream",
     "text": [
      "56100000\n",
      "Start Time = 21:54:48\n",
      "End Time = 21:55:03\n"
     ]
    },
    {
     "name": "stderr",
     "output_type": "stream",
     "text": [
      "/tmp/ipykernel_364/3853139118.py:94: ParserWarning: Both a converter and dtype were specified for column SMILES - only the converter will be used.\n",
      "  for i,df in enumerate(activity_reader):\n",
      "/tmp/ipykernel_364/3853139118.py:94: ParserWarning: Both a converter and dtype were specified for column pchembl_value - only the converter will be used.\n",
      "  for i,df in enumerate(activity_reader):\n"
     ]
    },
    {
     "name": "stdout",
     "output_type": "stream",
     "text": [
      "56150000\n",
      "Start Time = 21:55:17\n",
      "End Time = 21:55:35\n"
     ]
    },
    {
     "name": "stderr",
     "output_type": "stream",
     "text": [
      "/tmp/ipykernel_364/3853139118.py:94: ParserWarning: Both a converter and dtype were specified for column SMILES - only the converter will be used.\n",
      "  for i,df in enumerate(activity_reader):\n",
      "/tmp/ipykernel_364/3853139118.py:94: ParserWarning: Both a converter and dtype were specified for column pchembl_value - only the converter will be used.\n",
      "  for i,df in enumerate(activity_reader):\n"
     ]
    },
    {
     "name": "stdout",
     "output_type": "stream",
     "text": [
      "56200000\n",
      "Start Time = 21:55:49\n",
      "End Time = 21:56:06\n"
     ]
    },
    {
     "name": "stderr",
     "output_type": "stream",
     "text": [
      "/tmp/ipykernel_364/3853139118.py:94: ParserWarning: Both a converter and dtype were specified for column SMILES - only the converter will be used.\n",
      "  for i,df in enumerate(activity_reader):\n",
      "/tmp/ipykernel_364/3853139118.py:94: ParserWarning: Both a converter and dtype were specified for column pchembl_value - only the converter will be used.\n",
      "  for i,df in enumerate(activity_reader):\n"
     ]
    },
    {
     "name": "stdout",
     "output_type": "stream",
     "text": [
      "56250000\n",
      "Start Time = 21:56:20\n",
      "End Time = 21:56:35\n"
     ]
    },
    {
     "name": "stderr",
     "output_type": "stream",
     "text": [
      "/tmp/ipykernel_364/3853139118.py:94: ParserWarning: Both a converter and dtype were specified for column SMILES - only the converter will be used.\n",
      "  for i,df in enumerate(activity_reader):\n",
      "/tmp/ipykernel_364/3853139118.py:94: ParserWarning: Both a converter and dtype were specified for column pchembl_value - only the converter will be used.\n",
      "  for i,df in enumerate(activity_reader):\n"
     ]
    },
    {
     "name": "stdout",
     "output_type": "stream",
     "text": [
      "56300000\n",
      "Start Time = 21:56:49\n",
      "End Time = 21:57:06\n"
     ]
    },
    {
     "name": "stderr",
     "output_type": "stream",
     "text": [
      "/tmp/ipykernel_364/3853139118.py:94: ParserWarning: Both a converter and dtype were specified for column SMILES - only the converter will be used.\n",
      "  for i,df in enumerate(activity_reader):\n",
      "/tmp/ipykernel_364/3853139118.py:94: ParserWarning: Both a converter and dtype were specified for column pchembl_value - only the converter will be used.\n",
      "  for i,df in enumerate(activity_reader):\n"
     ]
    },
    {
     "name": "stdout",
     "output_type": "stream",
     "text": [
      "56350000\n",
      "Start Time = 21:57:20\n",
      "End Time = 21:57:36\n"
     ]
    },
    {
     "name": "stderr",
     "output_type": "stream",
     "text": [
      "/tmp/ipykernel_364/3853139118.py:94: ParserWarning: Both a converter and dtype were specified for column SMILES - only the converter will be used.\n",
      "  for i,df in enumerate(activity_reader):\n",
      "/tmp/ipykernel_364/3853139118.py:94: ParserWarning: Both a converter and dtype were specified for column pchembl_value - only the converter will be used.\n",
      "  for i,df in enumerate(activity_reader):\n"
     ]
    },
    {
     "name": "stdout",
     "output_type": "stream",
     "text": [
      "56400000\n",
      "Start Time = 21:57:51\n",
      "End Time = 21:58:06\n"
     ]
    },
    {
     "name": "stderr",
     "output_type": "stream",
     "text": [
      "/tmp/ipykernel_364/3853139118.py:94: ParserWarning: Both a converter and dtype were specified for column SMILES - only the converter will be used.\n",
      "  for i,df in enumerate(activity_reader):\n",
      "/tmp/ipykernel_364/3853139118.py:94: ParserWarning: Both a converter and dtype were specified for column pchembl_value - only the converter will be used.\n",
      "  for i,df in enumerate(activity_reader):\n"
     ]
    },
    {
     "name": "stdout",
     "output_type": "stream",
     "text": [
      "56450000\n",
      "Start Time = 21:58:20\n",
      "End Time = 21:58:36\n"
     ]
    },
    {
     "name": "stderr",
     "output_type": "stream",
     "text": [
      "/tmp/ipykernel_364/3853139118.py:94: ParserWarning: Both a converter and dtype were specified for column SMILES - only the converter will be used.\n",
      "  for i,df in enumerate(activity_reader):\n",
      "/tmp/ipykernel_364/3853139118.py:94: ParserWarning: Both a converter and dtype were specified for column pchembl_value - only the converter will be used.\n",
      "  for i,df in enumerate(activity_reader):\n"
     ]
    },
    {
     "name": "stdout",
     "output_type": "stream",
     "text": [
      "56500000\n",
      "Start Time = 21:58:50\n",
      "End Time = 21:59:08\n"
     ]
    },
    {
     "name": "stderr",
     "output_type": "stream",
     "text": [
      "/tmp/ipykernel_364/3853139118.py:94: ParserWarning: Both a converter and dtype were specified for column SMILES - only the converter will be used.\n",
      "  for i,df in enumerate(activity_reader):\n",
      "/tmp/ipykernel_364/3853139118.py:94: ParserWarning: Both a converter and dtype were specified for column pchembl_value - only the converter will be used.\n",
      "  for i,df in enumerate(activity_reader):\n"
     ]
    },
    {
     "name": "stdout",
     "output_type": "stream",
     "text": [
      "56550000\n",
      "Start Time = 21:59:22\n",
      "End Time = 21:59:37\n"
     ]
    },
    {
     "name": "stderr",
     "output_type": "stream",
     "text": [
      "/tmp/ipykernel_364/3853139118.py:94: ParserWarning: Both a converter and dtype were specified for column SMILES - only the converter will be used.\n",
      "  for i,df in enumerate(activity_reader):\n",
      "/tmp/ipykernel_364/3853139118.py:94: ParserWarning: Both a converter and dtype were specified for column pchembl_value - only the converter will be used.\n",
      "  for i,df in enumerate(activity_reader):\n"
     ]
    },
    {
     "name": "stdout",
     "output_type": "stream",
     "text": [
      "56600000\n",
      "Start Time = 21:59:52\n",
      "End Time = 22:00:11\n"
     ]
    },
    {
     "name": "stderr",
     "output_type": "stream",
     "text": [
      "/tmp/ipykernel_364/3853139118.py:94: ParserWarning: Both a converter and dtype were specified for column SMILES - only the converter will be used.\n",
      "  for i,df in enumerate(activity_reader):\n",
      "/tmp/ipykernel_364/3853139118.py:94: ParserWarning: Both a converter and dtype were specified for column pchembl_value - only the converter will be used.\n",
      "  for i,df in enumerate(activity_reader):\n"
     ]
    },
    {
     "name": "stdout",
     "output_type": "stream",
     "text": [
      "56650000\n",
      "Start Time = 22:00:26\n",
      "End Time = 22:00:44\n"
     ]
    },
    {
     "name": "stderr",
     "output_type": "stream",
     "text": [
      "/tmp/ipykernel_364/3853139118.py:94: ParserWarning: Both a converter and dtype were specified for column SMILES - only the converter will be used.\n",
      "  for i,df in enumerate(activity_reader):\n",
      "/tmp/ipykernel_364/3853139118.py:94: ParserWarning: Both a converter and dtype were specified for column pchembl_value - only the converter will be used.\n",
      "  for i,df in enumerate(activity_reader):\n"
     ]
    },
    {
     "name": "stdout",
     "output_type": "stream",
     "text": [
      "56700000\n",
      "Start Time = 22:00:58\n",
      "End Time = 22:01:14\n"
     ]
    },
    {
     "name": "stderr",
     "output_type": "stream",
     "text": [
      "/tmp/ipykernel_364/3853139118.py:94: ParserWarning: Both a converter and dtype were specified for column SMILES - only the converter will be used.\n",
      "  for i,df in enumerate(activity_reader):\n",
      "/tmp/ipykernel_364/3853139118.py:94: ParserWarning: Both a converter and dtype were specified for column pchembl_value - only the converter will be used.\n",
      "  for i,df in enumerate(activity_reader):\n"
     ]
    },
    {
     "name": "stdout",
     "output_type": "stream",
     "text": [
      "56750000\n",
      "Start Time = 22:01:28\n",
      "End Time = 22:01:45\n"
     ]
    },
    {
     "name": "stderr",
     "output_type": "stream",
     "text": [
      "/tmp/ipykernel_364/3853139118.py:94: ParserWarning: Both a converter and dtype were specified for column SMILES - only the converter will be used.\n",
      "  for i,df in enumerate(activity_reader):\n",
      "/tmp/ipykernel_364/3853139118.py:94: ParserWarning: Both a converter and dtype were specified for column pchembl_value - only the converter will be used.\n",
      "  for i,df in enumerate(activity_reader):\n"
     ]
    },
    {
     "name": "stdout",
     "output_type": "stream",
     "text": [
      "56800000\n",
      "Start Time = 22:01:59\n",
      "End Time = 22:02:15\n"
     ]
    },
    {
     "name": "stderr",
     "output_type": "stream",
     "text": [
      "/tmp/ipykernel_364/3853139118.py:94: ParserWarning: Both a converter and dtype were specified for column SMILES - only the converter will be used.\n",
      "  for i,df in enumerate(activity_reader):\n",
      "/tmp/ipykernel_364/3853139118.py:94: ParserWarning: Both a converter and dtype were specified for column pchembl_value - only the converter will be used.\n",
      "  for i,df in enumerate(activity_reader):\n"
     ]
    },
    {
     "name": "stdout",
     "output_type": "stream",
     "text": [
      "56850000\n",
      "Start Time = 22:02:30\n",
      "End Time = 22:02:45\n"
     ]
    },
    {
     "name": "stderr",
     "output_type": "stream",
     "text": [
      "/tmp/ipykernel_364/3853139118.py:94: ParserWarning: Both a converter and dtype were specified for column SMILES - only the converter will be used.\n",
      "  for i,df in enumerate(activity_reader):\n",
      "/tmp/ipykernel_364/3853139118.py:94: ParserWarning: Both a converter and dtype were specified for column pchembl_value - only the converter will be used.\n",
      "  for i,df in enumerate(activity_reader):\n"
     ]
    },
    {
     "name": "stdout",
     "output_type": "stream",
     "text": [
      "56900000\n",
      "Start Time = 22:02:59\n",
      "End Time = 22:03:16\n"
     ]
    },
    {
     "name": "stderr",
     "output_type": "stream",
     "text": [
      "/tmp/ipykernel_364/3853139118.py:94: ParserWarning: Both a converter and dtype were specified for column SMILES - only the converter will be used.\n",
      "  for i,df in enumerate(activity_reader):\n",
      "/tmp/ipykernel_364/3853139118.py:94: ParserWarning: Both a converter and dtype were specified for column pchembl_value - only the converter will be used.\n",
      "  for i,df in enumerate(activity_reader):\n"
     ]
    },
    {
     "name": "stdout",
     "output_type": "stream",
     "text": [
      "56950000\n",
      "Start Time = 22:03:30\n",
      "End Time = 22:03:47\n"
     ]
    },
    {
     "name": "stderr",
     "output_type": "stream",
     "text": [
      "/tmp/ipykernel_364/3853139118.py:94: ParserWarning: Both a converter and dtype were specified for column SMILES - only the converter will be used.\n",
      "  for i,df in enumerate(activity_reader):\n",
      "/tmp/ipykernel_364/3853139118.py:94: ParserWarning: Both a converter and dtype were specified for column pchembl_value - only the converter will be used.\n",
      "  for i,df in enumerate(activity_reader):\n"
     ]
    },
    {
     "name": "stdout",
     "output_type": "stream",
     "text": [
      "57000000\n",
      "Start Time = 22:04:02\n",
      "End Time = 22:04:17\n"
     ]
    },
    {
     "name": "stderr",
     "output_type": "stream",
     "text": [
      "/tmp/ipykernel_364/3853139118.py:94: ParserWarning: Both a converter and dtype were specified for column SMILES - only the converter will be used.\n",
      "  for i,df in enumerate(activity_reader):\n",
      "/tmp/ipykernel_364/3853139118.py:94: ParserWarning: Both a converter and dtype were specified for column pchembl_value - only the converter will be used.\n",
      "  for i,df in enumerate(activity_reader):\n"
     ]
    },
    {
     "name": "stdout",
     "output_type": "stream",
     "text": [
      "57050000\n",
      "Start Time = 22:04:32\n",
      "End Time = 22:04:49\n"
     ]
    },
    {
     "name": "stderr",
     "output_type": "stream",
     "text": [
      "/tmp/ipykernel_364/3853139118.py:94: ParserWarning: Both a converter and dtype were specified for column SMILES - only the converter will be used.\n",
      "  for i,df in enumerate(activity_reader):\n",
      "/tmp/ipykernel_364/3853139118.py:94: ParserWarning: Both a converter and dtype were specified for column pchembl_value - only the converter will be used.\n",
      "  for i,df in enumerate(activity_reader):\n"
     ]
    },
    {
     "name": "stdout",
     "output_type": "stream",
     "text": [
      "57100000\n",
      "Start Time = 22:05:03\n",
      "End Time = 22:05:20\n"
     ]
    },
    {
     "name": "stderr",
     "output_type": "stream",
     "text": [
      "/tmp/ipykernel_364/3853139118.py:94: ParserWarning: Both a converter and dtype were specified for column SMILES - only the converter will be used.\n",
      "  for i,df in enumerate(activity_reader):\n",
      "/tmp/ipykernel_364/3853139118.py:94: ParserWarning: Both a converter and dtype were specified for column pchembl_value - only the converter will be used.\n",
      "  for i,df in enumerate(activity_reader):\n"
     ]
    },
    {
     "name": "stdout",
     "output_type": "stream",
     "text": [
      "57150000\n",
      "Start Time = 22:05:35\n",
      "End Time = 22:05:50\n"
     ]
    },
    {
     "name": "stderr",
     "output_type": "stream",
     "text": [
      "/tmp/ipykernel_364/3853139118.py:94: ParserWarning: Both a converter and dtype were specified for column SMILES - only the converter will be used.\n",
      "  for i,df in enumerate(activity_reader):\n",
      "/tmp/ipykernel_364/3853139118.py:94: ParserWarning: Both a converter and dtype were specified for column pchembl_value - only the converter will be used.\n",
      "  for i,df in enumerate(activity_reader):\n"
     ]
    },
    {
     "name": "stdout",
     "output_type": "stream",
     "text": [
      "57200000\n",
      "Start Time = 22:06:05\n",
      "End Time = 22:06:22\n"
     ]
    },
    {
     "name": "stderr",
     "output_type": "stream",
     "text": [
      "/tmp/ipykernel_364/3853139118.py:94: ParserWarning: Both a converter and dtype were specified for column SMILES - only the converter will be used.\n",
      "  for i,df in enumerate(activity_reader):\n",
      "/tmp/ipykernel_364/3853139118.py:94: ParserWarning: Both a converter and dtype were specified for column pchembl_value - only the converter will be used.\n",
      "  for i,df in enumerate(activity_reader):\n"
     ]
    },
    {
     "name": "stdout",
     "output_type": "stream",
     "text": [
      "57250000\n",
      "Start Time = 22:06:37\n",
      "End Time = 22:06:53\n"
     ]
    },
    {
     "name": "stderr",
     "output_type": "stream",
     "text": [
      "/tmp/ipykernel_364/3853139118.py:94: ParserWarning: Both a converter and dtype were specified for column SMILES - only the converter will be used.\n",
      "  for i,df in enumerate(activity_reader):\n",
      "/tmp/ipykernel_364/3853139118.py:94: ParserWarning: Both a converter and dtype were specified for column pchembl_value - only the converter will be used.\n",
      "  for i,df in enumerate(activity_reader):\n"
     ]
    },
    {
     "name": "stdout",
     "output_type": "stream",
     "text": [
      "57300000\n",
      "Start Time = 22:07:08\n",
      "End Time = 22:07:22\n"
     ]
    },
    {
     "name": "stderr",
     "output_type": "stream",
     "text": [
      "/tmp/ipykernel_364/3853139118.py:94: ParserWarning: Both a converter and dtype were specified for column SMILES - only the converter will be used.\n",
      "  for i,df in enumerate(activity_reader):\n",
      "/tmp/ipykernel_364/3853139118.py:94: ParserWarning: Both a converter and dtype were specified for column pchembl_value - only the converter will be used.\n",
      "  for i,df in enumerate(activity_reader):\n"
     ]
    },
    {
     "name": "stdout",
     "output_type": "stream",
     "text": [
      "57350000\n",
      "Start Time = 22:07:37\n",
      "End Time = 22:07:54\n"
     ]
    },
    {
     "name": "stderr",
     "output_type": "stream",
     "text": [
      "/tmp/ipykernel_364/3853139118.py:94: ParserWarning: Both a converter and dtype were specified for column SMILES - only the converter will be used.\n",
      "  for i,df in enumerate(activity_reader):\n",
      "/tmp/ipykernel_364/3853139118.py:94: ParserWarning: Both a converter and dtype were specified for column pchembl_value - only the converter will be used.\n",
      "  for i,df in enumerate(activity_reader):\n"
     ]
    },
    {
     "name": "stdout",
     "output_type": "stream",
     "text": [
      "57400000\n",
      "Start Time = 22:08:08\n",
      "End Time = 22:08:25\n"
     ]
    },
    {
     "name": "stderr",
     "output_type": "stream",
     "text": [
      "/tmp/ipykernel_364/3853139118.py:94: ParserWarning: Both a converter and dtype were specified for column SMILES - only the converter will be used.\n",
      "  for i,df in enumerate(activity_reader):\n",
      "/tmp/ipykernel_364/3853139118.py:94: ParserWarning: Both a converter and dtype were specified for column pchembl_value - only the converter will be used.\n",
      "  for i,df in enumerate(activity_reader):\n"
     ]
    },
    {
     "name": "stdout",
     "output_type": "stream",
     "text": [
      "57450000\n",
      "Start Time = 22:08:39\n",
      "End Time = 22:08:55\n"
     ]
    },
    {
     "name": "stderr",
     "output_type": "stream",
     "text": [
      "/tmp/ipykernel_364/3853139118.py:94: ParserWarning: Both a converter and dtype were specified for column SMILES - only the converter will be used.\n",
      "  for i,df in enumerate(activity_reader):\n",
      "/tmp/ipykernel_364/3853139118.py:94: ParserWarning: Both a converter and dtype were specified for column pchembl_value - only the converter will be used.\n",
      "  for i,df in enumerate(activity_reader):\n"
     ]
    },
    {
     "name": "stdout",
     "output_type": "stream",
     "text": [
      "57500000\n",
      "Start Time = 22:09:09\n",
      "End Time = 22:09:27\n"
     ]
    },
    {
     "name": "stderr",
     "output_type": "stream",
     "text": [
      "/tmp/ipykernel_364/3853139118.py:94: ParserWarning: Both a converter and dtype were specified for column SMILES - only the converter will be used.\n",
      "  for i,df in enumerate(activity_reader):\n",
      "/tmp/ipykernel_364/3853139118.py:94: ParserWarning: Both a converter and dtype were specified for column pchembl_value - only the converter will be used.\n",
      "  for i,df in enumerate(activity_reader):\n"
     ]
    },
    {
     "name": "stdout",
     "output_type": "stream",
     "text": [
      "57550000\n",
      "Start Time = 22:09:41\n",
      "End Time = 22:09:58\n"
     ]
    },
    {
     "name": "stderr",
     "output_type": "stream",
     "text": [
      "/tmp/ipykernel_364/3853139118.py:94: ParserWarning: Both a converter and dtype were specified for column SMILES - only the converter will be used.\n",
      "  for i,df in enumerate(activity_reader):\n",
      "/tmp/ipykernel_364/3853139118.py:94: ParserWarning: Both a converter and dtype were specified for column pchembl_value - only the converter will be used.\n",
      "  for i,df in enumerate(activity_reader):\n"
     ]
    },
    {
     "name": "stdout",
     "output_type": "stream",
     "text": [
      "57600000\n",
      "Start Time = 22:10:13\n",
      "End Time = 22:10:28\n"
     ]
    },
    {
     "name": "stderr",
     "output_type": "stream",
     "text": [
      "/tmp/ipykernel_364/3853139118.py:94: ParserWarning: Both a converter and dtype were specified for column SMILES - only the converter will be used.\n",
      "  for i,df in enumerate(activity_reader):\n",
      "/tmp/ipykernel_364/3853139118.py:94: ParserWarning: Both a converter and dtype were specified for column pchembl_value - only the converter will be used.\n",
      "  for i,df in enumerate(activity_reader):\n"
     ]
    },
    {
     "name": "stdout",
     "output_type": "stream",
     "text": [
      "57650000\n",
      "Start Time = 22:10:43\n",
      "End Time = 22:11:00\n"
     ]
    },
    {
     "name": "stderr",
     "output_type": "stream",
     "text": [
      "/tmp/ipykernel_364/3853139118.py:94: ParserWarning: Both a converter and dtype were specified for column SMILES - only the converter will be used.\n",
      "  for i,df in enumerate(activity_reader):\n",
      "/tmp/ipykernel_364/3853139118.py:94: ParserWarning: Both a converter and dtype were specified for column pchembl_value - only the converter will be used.\n",
      "  for i,df in enumerate(activity_reader):\n"
     ]
    },
    {
     "name": "stdout",
     "output_type": "stream",
     "text": [
      "57700000\n",
      "Start Time = 22:11:14\n",
      "End Time = 22:11:31\n"
     ]
    },
    {
     "name": "stderr",
     "output_type": "stream",
     "text": [
      "/tmp/ipykernel_364/3853139118.py:94: ParserWarning: Both a converter and dtype were specified for column SMILES - only the converter will be used.\n",
      "  for i,df in enumerate(activity_reader):\n",
      "/tmp/ipykernel_364/3853139118.py:94: ParserWarning: Both a converter and dtype were specified for column pchembl_value - only the converter will be used.\n",
      "  for i,df in enumerate(activity_reader):\n"
     ]
    },
    {
     "name": "stdout",
     "output_type": "stream",
     "text": [
      "57750000\n",
      "Start Time = 22:11:45\n",
      "End Time = 22:12:00\n"
     ]
    },
    {
     "name": "stderr",
     "output_type": "stream",
     "text": [
      "/tmp/ipykernel_364/3853139118.py:94: ParserWarning: Both a converter and dtype were specified for column SMILES - only the converter will be used.\n",
      "  for i,df in enumerate(activity_reader):\n",
      "/tmp/ipykernel_364/3853139118.py:94: ParserWarning: Both a converter and dtype were specified for column pchembl_value - only the converter will be used.\n",
      "  for i,df in enumerate(activity_reader):\n"
     ]
    },
    {
     "name": "stdout",
     "output_type": "stream",
     "text": [
      "57800000\n",
      "Start Time = 22:12:13\n",
      "End Time = 22:12:30\n"
     ]
    },
    {
     "name": "stderr",
     "output_type": "stream",
     "text": [
      "/tmp/ipykernel_364/3853139118.py:94: ParserWarning: Both a converter and dtype were specified for column SMILES - only the converter will be used.\n",
      "  for i,df in enumerate(activity_reader):\n",
      "/tmp/ipykernel_364/3853139118.py:94: ParserWarning: Both a converter and dtype were specified for column pchembl_value - only the converter will be used.\n",
      "  for i,df in enumerate(activity_reader):\n"
     ]
    },
    {
     "name": "stdout",
     "output_type": "stream",
     "text": [
      "57850000\n",
      "Start Time = 22:12:44\n",
      "End Time = 22:13:01\n"
     ]
    },
    {
     "name": "stderr",
     "output_type": "stream",
     "text": [
      "/tmp/ipykernel_364/3853139118.py:94: ParserWarning: Both a converter and dtype were specified for column SMILES - only the converter will be used.\n",
      "  for i,df in enumerate(activity_reader):\n",
      "/tmp/ipykernel_364/3853139118.py:94: ParserWarning: Both a converter and dtype were specified for column pchembl_value - only the converter will be used.\n",
      "  for i,df in enumerate(activity_reader):\n"
     ]
    },
    {
     "name": "stdout",
     "output_type": "stream",
     "text": [
      "57900000\n",
      "Start Time = 22:13:15\n",
      "End Time = 22:13:30\n"
     ]
    },
    {
     "name": "stderr",
     "output_type": "stream",
     "text": [
      "/tmp/ipykernel_364/3853139118.py:94: ParserWarning: Both a converter and dtype were specified for column SMILES - only the converter will be used.\n",
      "  for i,df in enumerate(activity_reader):\n",
      "/tmp/ipykernel_364/3853139118.py:94: ParserWarning: Both a converter and dtype were specified for column pchembl_value - only the converter will be used.\n",
      "  for i,df in enumerate(activity_reader):\n"
     ]
    },
    {
     "name": "stdout",
     "output_type": "stream",
     "text": [
      "57950000\n",
      "Start Time = 22:13:44\n",
      "End Time = 22:14:01\n"
     ]
    },
    {
     "name": "stderr",
     "output_type": "stream",
     "text": [
      "/tmp/ipykernel_364/3853139118.py:94: ParserWarning: Both a converter and dtype were specified for column SMILES - only the converter will be used.\n",
      "  for i,df in enumerate(activity_reader):\n",
      "/tmp/ipykernel_364/3853139118.py:94: ParserWarning: Both a converter and dtype were specified for column pchembl_value - only the converter will be used.\n",
      "  for i,df in enumerate(activity_reader):\n"
     ]
    },
    {
     "name": "stdout",
     "output_type": "stream",
     "text": [
      "58000000\n",
      "Start Time = 22:14:16\n",
      "End Time = 22:14:33\n"
     ]
    },
    {
     "name": "stderr",
     "output_type": "stream",
     "text": [
      "/tmp/ipykernel_364/3853139118.py:94: ParserWarning: Both a converter and dtype were specified for column SMILES - only the converter will be used.\n",
      "  for i,df in enumerate(activity_reader):\n",
      "/tmp/ipykernel_364/3853139118.py:94: ParserWarning: Both a converter and dtype were specified for column pchembl_value - only the converter will be used.\n",
      "  for i,df in enumerate(activity_reader):\n"
     ]
    },
    {
     "name": "stdout",
     "output_type": "stream",
     "text": [
      "58050000\n",
      "Start Time = 22:14:48\n",
      "End Time = 22:15:03\n"
     ]
    },
    {
     "name": "stderr",
     "output_type": "stream",
     "text": [
      "/tmp/ipykernel_364/3853139118.py:94: ParserWarning: Both a converter and dtype were specified for column SMILES - only the converter will be used.\n",
      "  for i,df in enumerate(activity_reader):\n",
      "/tmp/ipykernel_364/3853139118.py:94: ParserWarning: Both a converter and dtype were specified for column pchembl_value - only the converter will be used.\n",
      "  for i,df in enumerate(activity_reader):\n"
     ]
    },
    {
     "name": "stdout",
     "output_type": "stream",
     "text": [
      "58100000\n",
      "Start Time = 22:15:17\n",
      "End Time = 22:15:34\n"
     ]
    },
    {
     "name": "stderr",
     "output_type": "stream",
     "text": [
      "/tmp/ipykernel_364/3853139118.py:94: ParserWarning: Both a converter and dtype were specified for column SMILES - only the converter will be used.\n",
      "  for i,df in enumerate(activity_reader):\n",
      "/tmp/ipykernel_364/3853139118.py:94: ParserWarning: Both a converter and dtype were specified for column pchembl_value - only the converter will be used.\n",
      "  for i,df in enumerate(activity_reader):\n"
     ]
    },
    {
     "name": "stdout",
     "output_type": "stream",
     "text": [
      "58150000\n",
      "Start Time = 22:15:49\n",
      "End Time = 22:16:06\n"
     ]
    },
    {
     "name": "stderr",
     "output_type": "stream",
     "text": [
      "/tmp/ipykernel_364/3853139118.py:94: ParserWarning: Both a converter and dtype were specified for column SMILES - only the converter will be used.\n",
      "  for i,df in enumerate(activity_reader):\n",
      "/tmp/ipykernel_364/3853139118.py:94: ParserWarning: Both a converter and dtype were specified for column pchembl_value - only the converter will be used.\n",
      "  for i,df in enumerate(activity_reader):\n"
     ]
    },
    {
     "name": "stdout",
     "output_type": "stream",
     "text": [
      "58200000\n",
      "Start Time = 22:16:21\n",
      "End Time = 22:16:35\n"
     ]
    },
    {
     "name": "stderr",
     "output_type": "stream",
     "text": [
      "/tmp/ipykernel_364/3853139118.py:94: ParserWarning: Both a converter and dtype were specified for column SMILES - only the converter will be used.\n",
      "  for i,df in enumerate(activity_reader):\n",
      "/tmp/ipykernel_364/3853139118.py:94: ParserWarning: Both a converter and dtype were specified for column pchembl_value - only the converter will be used.\n",
      "  for i,df in enumerate(activity_reader):\n"
     ]
    },
    {
     "name": "stdout",
     "output_type": "stream",
     "text": [
      "58250000\n",
      "Start Time = 22:16:49\n",
      "End Time = 22:17:06\n"
     ]
    },
    {
     "name": "stderr",
     "output_type": "stream",
     "text": [
      "/tmp/ipykernel_364/3853139118.py:94: ParserWarning: Both a converter and dtype were specified for column SMILES - only the converter will be used.\n",
      "  for i,df in enumerate(activity_reader):\n",
      "/tmp/ipykernel_364/3853139118.py:94: ParserWarning: Both a converter and dtype were specified for column pchembl_value - only the converter will be used.\n",
      "  for i,df in enumerate(activity_reader):\n"
     ]
    },
    {
     "name": "stdout",
     "output_type": "stream",
     "text": [
      "58300000\n",
      "Start Time = 22:17:20\n",
      "End Time = 22:17:36\n"
     ]
    },
    {
     "name": "stderr",
     "output_type": "stream",
     "text": [
      "/tmp/ipykernel_364/3853139118.py:94: ParserWarning: Both a converter and dtype were specified for column SMILES - only the converter will be used.\n",
      "  for i,df in enumerate(activity_reader):\n",
      "/tmp/ipykernel_364/3853139118.py:94: ParserWarning: Both a converter and dtype were specified for column pchembl_value - only the converter will be used.\n",
      "  for i,df in enumerate(activity_reader):\n"
     ]
    },
    {
     "name": "stdout",
     "output_type": "stream",
     "text": [
      "58350000\n",
      "Start Time = 22:17:51\n",
      "End Time = 22:18:05\n"
     ]
    },
    {
     "name": "stderr",
     "output_type": "stream",
     "text": [
      "/tmp/ipykernel_364/3853139118.py:94: ParserWarning: Both a converter and dtype were specified for column SMILES - only the converter will be used.\n",
      "  for i,df in enumerate(activity_reader):\n",
      "/tmp/ipykernel_364/3853139118.py:94: ParserWarning: Both a converter and dtype were specified for column pchembl_value - only the converter will be used.\n",
      "  for i,df in enumerate(activity_reader):\n"
     ]
    },
    {
     "name": "stdout",
     "output_type": "stream",
     "text": [
      "58400000\n",
      "Start Time = 22:18:20\n",
      "End Time = 22:18:36\n"
     ]
    },
    {
     "name": "stderr",
     "output_type": "stream",
     "text": [
      "/tmp/ipykernel_364/3853139118.py:94: ParserWarning: Both a converter and dtype were specified for column SMILES - only the converter will be used.\n",
      "  for i,df in enumerate(activity_reader):\n",
      "/tmp/ipykernel_364/3853139118.py:94: ParserWarning: Both a converter and dtype were specified for column pchembl_value - only the converter will be used.\n",
      "  for i,df in enumerate(activity_reader):\n"
     ]
    },
    {
     "name": "stdout",
     "output_type": "stream",
     "text": [
      "58450000\n",
      "Start Time = 22:18:51\n",
      "End Time = 22:19:08\n"
     ]
    },
    {
     "name": "stderr",
     "output_type": "stream",
     "text": [
      "/tmp/ipykernel_364/3853139118.py:94: ParserWarning: Both a converter and dtype were specified for column SMILES - only the converter will be used.\n",
      "  for i,df in enumerate(activity_reader):\n",
      "/tmp/ipykernel_364/3853139118.py:94: ParserWarning: Both a converter and dtype were specified for column pchembl_value - only the converter will be used.\n",
      "  for i,df in enumerate(activity_reader):\n"
     ]
    },
    {
     "name": "stdout",
     "output_type": "stream",
     "text": [
      "58500000\n",
      "Start Time = 22:19:23\n",
      "End Time = 22:19:37\n"
     ]
    },
    {
     "name": "stderr",
     "output_type": "stream",
     "text": [
      "/tmp/ipykernel_364/3853139118.py:94: ParserWarning: Both a converter and dtype were specified for column SMILES - only the converter will be used.\n",
      "  for i,df in enumerate(activity_reader):\n",
      "/tmp/ipykernel_364/3853139118.py:94: ParserWarning: Both a converter and dtype were specified for column pchembl_value - only the converter will be used.\n",
      "  for i,df in enumerate(activity_reader):\n"
     ]
    },
    {
     "name": "stdout",
     "output_type": "stream",
     "text": [
      "58550000\n",
      "Start Time = 22:19:52\n",
      "End Time = 22:20:08\n"
     ]
    },
    {
     "name": "stderr",
     "output_type": "stream",
     "text": [
      "/tmp/ipykernel_364/3853139118.py:94: ParserWarning: Both a converter and dtype were specified for column SMILES - only the converter will be used.\n",
      "  for i,df in enumerate(activity_reader):\n",
      "/tmp/ipykernel_364/3853139118.py:94: ParserWarning: Both a converter and dtype were specified for column pchembl_value - only the converter will be used.\n",
      "  for i,df in enumerate(activity_reader):\n"
     ]
    },
    {
     "name": "stdout",
     "output_type": "stream",
     "text": [
      "58600000\n",
      "Start Time = 22:20:22\n",
      "End Time = 22:20:39\n"
     ]
    },
    {
     "name": "stderr",
     "output_type": "stream",
     "text": [
      "/tmp/ipykernel_364/3853139118.py:94: ParserWarning: Both a converter and dtype were specified for column SMILES - only the converter will be used.\n",
      "  for i,df in enumerate(activity_reader):\n",
      "/tmp/ipykernel_364/3853139118.py:94: ParserWarning: Both a converter and dtype were specified for column pchembl_value - only the converter will be used.\n",
      "  for i,df in enumerate(activity_reader):\n"
     ]
    },
    {
     "name": "stdout",
     "output_type": "stream",
     "text": [
      "58650000\n",
      "Start Time = 22:20:53\n",
      "End Time = 22:21:09\n"
     ]
    },
    {
     "name": "stderr",
     "output_type": "stream",
     "text": [
      "/tmp/ipykernel_364/3853139118.py:94: ParserWarning: Both a converter and dtype were specified for column SMILES - only the converter will be used.\n",
      "  for i,df in enumerate(activity_reader):\n",
      "/tmp/ipykernel_364/3853139118.py:94: ParserWarning: Both a converter and dtype were specified for column pchembl_value - only the converter will be used.\n",
      "  for i,df in enumerate(activity_reader):\n"
     ]
    },
    {
     "name": "stdout",
     "output_type": "stream",
     "text": [
      "58700000\n",
      "Start Time = 22:21:24\n",
      "End Time = 22:21:40\n"
     ]
    },
    {
     "name": "stderr",
     "output_type": "stream",
     "text": [
      "/tmp/ipykernel_364/3853139118.py:94: ParserWarning: Both a converter and dtype were specified for column SMILES - only the converter will be used.\n",
      "  for i,df in enumerate(activity_reader):\n",
      "/tmp/ipykernel_364/3853139118.py:94: ParserWarning: Both a converter and dtype were specified for column pchembl_value - only the converter will be used.\n",
      "  for i,df in enumerate(activity_reader):\n"
     ]
    },
    {
     "name": "stdout",
     "output_type": "stream",
     "text": [
      "58750000\n",
      "Start Time = 22:21:55\n",
      "End Time = 22:22:11\n"
     ]
    },
    {
     "name": "stderr",
     "output_type": "stream",
     "text": [
      "/tmp/ipykernel_364/3853139118.py:94: ParserWarning: Both a converter and dtype were specified for column SMILES - only the converter will be used.\n",
      "  for i,df in enumerate(activity_reader):\n",
      "/tmp/ipykernel_364/3853139118.py:94: ParserWarning: Both a converter and dtype were specified for column pchembl_value - only the converter will be used.\n",
      "  for i,df in enumerate(activity_reader):\n"
     ]
    },
    {
     "name": "stdout",
     "output_type": "stream",
     "text": [
      "58800000\n",
      "Start Time = 22:22:25\n",
      "End Time = 22:22:40\n"
     ]
    },
    {
     "name": "stderr",
     "output_type": "stream",
     "text": [
      "/tmp/ipykernel_364/3853139118.py:94: ParserWarning: Both a converter and dtype were specified for column SMILES - only the converter will be used.\n",
      "  for i,df in enumerate(activity_reader):\n",
      "/tmp/ipykernel_364/3853139118.py:94: ParserWarning: Both a converter and dtype were specified for column pchembl_value - only the converter will be used.\n",
      "  for i,df in enumerate(activity_reader):\n"
     ]
    },
    {
     "name": "stdout",
     "output_type": "stream",
     "text": [
      "58850000\n",
      "Start Time = 22:22:54\n",
      "End Time = 22:23:10\n"
     ]
    },
    {
     "name": "stderr",
     "output_type": "stream",
     "text": [
      "/tmp/ipykernel_364/3853139118.py:94: ParserWarning: Both a converter and dtype were specified for column SMILES - only the converter will be used.\n",
      "  for i,df in enumerate(activity_reader):\n",
      "/tmp/ipykernel_364/3853139118.py:94: ParserWarning: Both a converter and dtype were specified for column pchembl_value - only the converter will be used.\n",
      "  for i,df in enumerate(activity_reader):\n"
     ]
    },
    {
     "name": "stdout",
     "output_type": "stream",
     "text": [
      "58900000\n",
      "Start Time = 22:23:24\n",
      "End Time = 22:23:41\n"
     ]
    },
    {
     "name": "stderr",
     "output_type": "stream",
     "text": [
      "/tmp/ipykernel_364/3853139118.py:94: ParserWarning: Both a converter and dtype were specified for column SMILES - only the converter will be used.\n",
      "  for i,df in enumerate(activity_reader):\n",
      "/tmp/ipykernel_364/3853139118.py:94: ParserWarning: Both a converter and dtype were specified for column pchembl_value - only the converter will be used.\n",
      "  for i,df in enumerate(activity_reader):\n"
     ]
    },
    {
     "name": "stdout",
     "output_type": "stream",
     "text": [
      "58950000\n",
      "Start Time = 22:23:55\n",
      "End Time = 22:24:09\n"
     ]
    },
    {
     "name": "stderr",
     "output_type": "stream",
     "text": [
      "/tmp/ipykernel_364/3853139118.py:94: ParserWarning: Both a converter and dtype were specified for column SMILES - only the converter will be used.\n",
      "  for i,df in enumerate(activity_reader):\n",
      "/tmp/ipykernel_364/3853139118.py:94: ParserWarning: Both a converter and dtype were specified for column pchembl_value - only the converter will be used.\n",
      "  for i,df in enumerate(activity_reader):\n"
     ]
    },
    {
     "name": "stdout",
     "output_type": "stream",
     "text": [
      "59000000\n",
      "Start Time = 22:24:24\n",
      "End Time = 22:24:41\n"
     ]
    },
    {
     "name": "stderr",
     "output_type": "stream",
     "text": [
      "/tmp/ipykernel_364/3853139118.py:94: ParserWarning: Both a converter and dtype were specified for column SMILES - only the converter will be used.\n",
      "  for i,df in enumerate(activity_reader):\n",
      "/tmp/ipykernel_364/3853139118.py:94: ParserWarning: Both a converter and dtype were specified for column pchembl_value - only the converter will be used.\n",
      "  for i,df in enumerate(activity_reader):\n"
     ]
    },
    {
     "name": "stdout",
     "output_type": "stream",
     "text": [
      "59050000\n",
      "Start Time = 22:24:56\n",
      "End Time = 22:25:13\n"
     ]
    },
    {
     "name": "stderr",
     "output_type": "stream",
     "text": [
      "/tmp/ipykernel_364/3853139118.py:94: ParserWarning: Both a converter and dtype were specified for column SMILES - only the converter will be used.\n",
      "  for i,df in enumerate(activity_reader):\n",
      "/tmp/ipykernel_364/3853139118.py:94: ParserWarning: Both a converter and dtype were specified for column pchembl_value - only the converter will be used.\n",
      "  for i,df in enumerate(activity_reader):\n"
     ]
    },
    {
     "name": "stdout",
     "output_type": "stream",
     "text": [
      "59100000\n",
      "Start Time = 22:25:27\n",
      "End Time = 22:25:42\n"
     ]
    },
    {
     "name": "stderr",
     "output_type": "stream",
     "text": [
      "/tmp/ipykernel_364/3853139118.py:94: ParserWarning: Both a converter and dtype were specified for column SMILES - only the converter will be used.\n",
      "  for i,df in enumerate(activity_reader):\n",
      "/tmp/ipykernel_364/3853139118.py:94: ParserWarning: Both a converter and dtype were specified for column pchembl_value - only the converter will be used.\n",
      "  for i,df in enumerate(activity_reader):\n"
     ]
    },
    {
     "name": "stdout",
     "output_type": "stream",
     "text": [
      "59150000\n",
      "Start Time = 22:25:57\n",
      "End Time = 22:26:13\n"
     ]
    },
    {
     "name": "stderr",
     "output_type": "stream",
     "text": [
      "/tmp/ipykernel_364/3853139118.py:94: ParserWarning: Both a converter and dtype were specified for column SMILES - only the converter will be used.\n",
      "  for i,df in enumerate(activity_reader):\n",
      "/tmp/ipykernel_364/3853139118.py:94: ParserWarning: Both a converter and dtype were specified for column pchembl_value - only the converter will be used.\n",
      "  for i,df in enumerate(activity_reader):\n"
     ]
    },
    {
     "name": "stdout",
     "output_type": "stream",
     "text": [
      "59200000\n",
      "Start Time = 22:26:28\n",
      "End Time = 22:26:45\n"
     ]
    },
    {
     "name": "stderr",
     "output_type": "stream",
     "text": [
      "/tmp/ipykernel_364/3853139118.py:94: ParserWarning: Both a converter and dtype were specified for column SMILES - only the converter will be used.\n",
      "  for i,df in enumerate(activity_reader):\n",
      "/tmp/ipykernel_364/3853139118.py:94: ParserWarning: Both a converter and dtype were specified for column pchembl_value - only the converter will be used.\n",
      "  for i,df in enumerate(activity_reader):\n"
     ]
    },
    {
     "name": "stdout",
     "output_type": "stream",
     "text": [
      "59250000\n",
      "Start Time = 22:26:59\n",
      "End Time = 22:27:14\n"
     ]
    },
    {
     "name": "stderr",
     "output_type": "stream",
     "text": [
      "/tmp/ipykernel_364/3853139118.py:94: ParserWarning: Both a converter and dtype were specified for column SMILES - only the converter will be used.\n",
      "  for i,df in enumerate(activity_reader):\n",
      "/tmp/ipykernel_364/3853139118.py:94: ParserWarning: Both a converter and dtype were specified for column pchembl_value - only the converter will be used.\n",
      "  for i,df in enumerate(activity_reader):\n"
     ]
    },
    {
     "name": "stdout",
     "output_type": "stream",
     "text": [
      "59300000\n",
      "Start Time = 22:27:28\n",
      "End Time = 22:27:45\n"
     ]
    },
    {
     "name": "stderr",
     "output_type": "stream",
     "text": [
      "/tmp/ipykernel_364/3853139118.py:94: ParserWarning: Both a converter and dtype were specified for column SMILES - only the converter will be used.\n",
      "  for i,df in enumerate(activity_reader):\n",
      "/tmp/ipykernel_364/3853139118.py:94: ParserWarning: Both a converter and dtype were specified for column pchembl_value - only the converter will be used.\n",
      "  for i,df in enumerate(activity_reader):\n"
     ]
    },
    {
     "name": "stdout",
     "output_type": "stream",
     "text": [
      "59350000\n",
      "Start Time = 22:27:59\n",
      "End Time = 22:28:16\n"
     ]
    },
    {
     "name": "stderr",
     "output_type": "stream",
     "text": [
      "/tmp/ipykernel_364/3853139118.py:94: ParserWarning: Both a converter and dtype were specified for column SMILES - only the converter will be used.\n",
      "  for i,df in enumerate(activity_reader):\n",
      "/tmp/ipykernel_364/3853139118.py:94: ParserWarning: Both a converter and dtype were specified for column pchembl_value - only the converter will be used.\n",
      "  for i,df in enumerate(activity_reader):\n"
     ]
    },
    {
     "name": "stdout",
     "output_type": "stream",
     "text": [
      "59400000\n",
      "Start Time = 22:28:30\n",
      "End Time = 22:28:45\n"
     ]
    },
    {
     "name": "stderr",
     "output_type": "stream",
     "text": [
      "/tmp/ipykernel_364/3853139118.py:94: ParserWarning: Both a converter and dtype were specified for column SMILES - only the converter will be used.\n",
      "  for i,df in enumerate(activity_reader):\n",
      "/tmp/ipykernel_364/3853139118.py:94: ParserWarning: Both a converter and dtype were specified for column pchembl_value - only the converter will be used.\n",
      "  for i,df in enumerate(activity_reader):\n"
     ]
    },
    {
     "name": "stdout",
     "output_type": "stream",
     "text": [
      "59450000\n",
      "Start Time = 22:28:59\n",
      "End Time = 22:29:17\n"
     ]
    },
    {
     "name": "stderr",
     "output_type": "stream",
     "text": [
      "/tmp/ipykernel_364/3853139118.py:94: ParserWarning: Both a converter and dtype were specified for column SMILES - only the converter will be used.\n",
      "  for i,df in enumerate(activity_reader):\n",
      "/tmp/ipykernel_364/3853139118.py:94: ParserWarning: Both a converter and dtype were specified for column pchembl_value - only the converter will be used.\n",
      "  for i,df in enumerate(activity_reader):\n"
     ]
    },
    {
     "name": "stdout",
     "output_type": "stream",
     "text": [
      "59500000\n",
      "Start Time = 22:29:31\n",
      "End Time = 22:29:48\n"
     ]
    },
    {
     "name": "stderr",
     "output_type": "stream",
     "text": [
      "/tmp/ipykernel_364/3853139118.py:94: ParserWarning: Both a converter and dtype were specified for column SMILES - only the converter will be used.\n",
      "  for i,df in enumerate(activity_reader):\n",
      "/tmp/ipykernel_364/3853139118.py:94: ParserWarning: Both a converter and dtype were specified for column pchembl_value - only the converter will be used.\n",
      "  for i,df in enumerate(activity_reader):\n"
     ]
    },
    {
     "name": "stdout",
     "output_type": "stream",
     "text": [
      "59550000\n",
      "Start Time = 22:30:02\n",
      "End Time = 22:30:17\n"
     ]
    },
    {
     "name": "stderr",
     "output_type": "stream",
     "text": [
      "/tmp/ipykernel_364/3853139118.py:94: ParserWarning: Both a converter and dtype were specified for column SMILES - only the converter will be used.\n",
      "  for i,df in enumerate(activity_reader):\n",
      "/tmp/ipykernel_364/3853139118.py:94: ParserWarning: Both a converter and dtype were specified for column pchembl_value - only the converter will be used.\n",
      "  for i,df in enumerate(activity_reader):\n"
     ]
    },
    {
     "name": "stdout",
     "output_type": "stream",
     "text": [
      "59600000\n",
      "Start Time = 22:30:31\n",
      "End Time = 22:30:48\n"
     ]
    },
    {
     "name": "stderr",
     "output_type": "stream",
     "text": [
      "/tmp/ipykernel_364/3853139118.py:94: ParserWarning: Both a converter and dtype were specified for column SMILES - only the converter will be used.\n",
      "  for i,df in enumerate(activity_reader):\n",
      "/tmp/ipykernel_364/3853139118.py:94: ParserWarning: Both a converter and dtype were specified for column pchembl_value - only the converter will be used.\n",
      "  for i,df in enumerate(activity_reader):\n"
     ]
    },
    {
     "name": "stdout",
     "output_type": "stream",
     "text": [
      "59650000\n",
      "Start Time = 22:31:03\n",
      "End Time = 22:31:19\n"
     ]
    },
    {
     "name": "stderr",
     "output_type": "stream",
     "text": [
      "/tmp/ipykernel_364/3853139118.py:94: ParserWarning: Both a converter and dtype were specified for column SMILES - only the converter will be used.\n",
      "  for i,df in enumerate(activity_reader):\n",
      "/tmp/ipykernel_364/3853139118.py:94: ParserWarning: Both a converter and dtype were specified for column pchembl_value - only the converter will be used.\n",
      "  for i,df in enumerate(activity_reader):\n"
     ]
    },
    {
     "name": "stdout",
     "output_type": "stream",
     "text": [
      "59700000\n",
      "Start Time = 22:31:33\n",
      "End Time = 22:31:48\n"
     ]
    },
    {
     "name": "stderr",
     "output_type": "stream",
     "text": [
      "/tmp/ipykernel_364/3853139118.py:94: ParserWarning: Both a converter and dtype were specified for column SMILES - only the converter will be used.\n",
      "  for i,df in enumerate(activity_reader):\n",
      "/tmp/ipykernel_364/3853139118.py:94: ParserWarning: Both a converter and dtype were specified for column pchembl_value - only the converter will be used.\n",
      "  for i,df in enumerate(activity_reader):\n"
     ]
    },
    {
     "name": "stdout",
     "output_type": "stream",
     "text": [
      "59750000\n",
      "Start Time = 22:31:56\n",
      "End Time = 22:32:05\n"
     ]
    }
   ],
   "source": [
    "from datetime import datetime\n",
    "\n",
    "def sanitize_and_split(row, length, spl=';'):\n",
    "    split = [v.rstrip() for v in str(row).split(spl)]\n",
    "    if len(split)!= length:\n",
    "        split = [split[0] for i in range(0,length)]\n",
    "    \n",
    "    split = [None if x == '' else x for x in split]\n",
    "    \n",
    "    return split\n",
    "\n",
    "def get_activity_dicts(row):\n",
    "    slice_list = []\n",
    "    pchembl_values = [v.rstrip() for v in row.pchembl_value]\n",
    "\n",
    "    aids = sanitize_and_split(row=row.AID,length=row.pchembl_len)        \n",
    "    doc_ids = sanitize_and_split(row=row.all_doc_ids,length=row.pchembl_len)\n",
    "    years = sanitize_and_split(row=row.all_years,length=row.pchembl_len)\n",
    "    type_IC50s = sanitize_and_split(row=row.type_IC50,length=row.pchembl_len)         \n",
    "    type_EC50s = sanitize_and_split(row=row.type_EC50,length=row.pchembl_len)\n",
    "    type_KDs = sanitize_and_split(row=row.type_KD,length=row.pchembl_len)\n",
    "    type_Kis = sanitize_and_split(row=row.type_Ki,length=row.pchembl_len)\n",
    "\n",
    "    for j in range(0, row.pchembl_len):\n",
    "        update_dict = {\n",
    "            'pchembl_value': pchembl_values[j],\n",
    "            'AID': aids[j],\n",
    "            'doc_id': doc_ids[j],\n",
    "            'Year': years[j],\n",
    "            'type_IC50': type_IC50s[j],\n",
    "            'type_EC50': type_EC50s[j],\n",
    "            'type_KD': type_KDs[j],\n",
    "            'type_Ki': type_Kis[j]\n",
    "        }\n",
    "        row_copy = copy(row._asdict())\n",
    "\n",
    "        row_copy.update(update_dict)\n",
    "\n",
    "        slice_list.append(row_copy)\n",
    "            \n",
    "    return slice_list\n",
    "\n",
    "activity_type_map = {\n",
    "        '1000':'IC50',\n",
    "        '0100':'EC50',\n",
    "        '0010':'KD',\n",
    "        '0001':'Ki',\n",
    "        '0000':'other',\n",
    "    }\n",
    "\n",
    "def get_atype(binstr):\n",
    "    return activity_type_map[binstr]\n",
    "\n",
    "activity_columns = ['Activity_ID', 'SMILES', 'InChI_AuxInfo', 'accession', 'Protein_Type', 'AID', 'doc_id',\n",
    "                    'Year', 'type_IC50', 'type_EC50', 'type_KD', 'type_Ki', 'relation', 'pchembl_value',\n",
    "                    'pchembl_value_Mean', 'pchembl_value_StdDev', 'pchembl_value_SEM', 'pchembl_value_N', \n",
    "                    'pchembl_value_Median', 'pchembl_value_MAD','Quality', 'all_doc_ids', 'all_years',\n",
    "                    'target_id'\n",
    "                   ]\n",
    "\n",
    "activity_reader = pd.read_csv(activity_data, \n",
    "                     sep='\\t', \n",
    "                     compression='xz', \n",
    "                     chunksize = 50000, \n",
    "                     iterator=True, \n",
    "                     dtype=dtypes,\n",
    "                     converters=converters,\n",
    "                     usecols=activity_columns,\n",
    "                     # skiprows=[i for i in range(1,2950000)]\n",
    "                    )\n",
    "\n",
    "xlen = lambda x: (len(x))\n",
    "sval = lambda x: (x[0])\n",
    "\n",
    "\n",
    "def get_molid(key):\n",
    "    return mol_ids[key][0]\n",
    "\n",
    "mid = lambda x: get_molid(f'{x[\"SMILES\"]}_{x[\"InChI_AuxInfo\"]}')\n",
    "\n",
    "import math\n",
    "\n",
    "def yval(val):\n",
    "    if not val:\n",
    "        return 0\n",
    "    if math.isnan(float(val)):\n",
    "        return 0\n",
    "    else:\n",
    "        return int(val)\n",
    "    \n",
    "\n",
    "yvalx = lambda x: (yval(x))\n",
    "\n",
    "for i,df in enumerate(activity_reader):\n",
    "    if i<44:\n",
    "        continue\n",
    "    print(i*50000)\n",
    "    now = datetime.now()        \n",
    "    current_time = now.strftime(\"%H:%M:%S\")\n",
    "    print(\"Start Time =\", current_time)\n",
    "    df['pchembl_len'] = df['pchembl_value'].map(xlen)\n",
    "    multis = df[df['pchembl_len']>1]\n",
    "    updated_rows = []\n",
    "    for row in multis.itertuples():\n",
    "        updated_rows.extend(get_activity_dicts(row))\n",
    "\n",
    "    multi_expanded = pd.DataFrame(updated_rows)\n",
    "    singles = df[df['pchembl_len']==1]\n",
    "    singles['pchembl_value'] = singles['pchembl_value'].map(sval)\n",
    "    all_expanded = pd.concat([multi_expanded, singles])\n",
    "    \n",
    "    all_expanded['atype'] = all_expanded.apply(lambda x: get_atype(f\"{x['type_IC50']}{x['type_EC50']}{x['type_KD']}{x['type_Ki']}\"), axis=1)\n",
    "    all_expanded['molecule_id'] = all_expanded.apply(mid, axis=1)\n",
    "    all_expanded['quality'] = all_expanded.apply(lambda x: (qualities[x['Quality']]), axis=1)\n",
    "    all_expanded['activity_id'] = all_expanded.apply(lambda x: (types[x['atype']]), axis=1)\n",
    "    all_expanded['year'] = all_expanded['Year'].map(yvalx)\n",
    "    \n",
    "    all_expanded.rename(columns = {\n",
    "                                    'Activity_ID': 'papyrus_activity_id',\n",
    "                                    'Protein_Type': 'protein_type',\n",
    "                                    'AID': 'aid',\n",
    "                                    'activity_id': 'type',\n",
    "                                    'pchembl_value_Mean': 'pchembl_value_mean',\n",
    "                                    'pchembl_value_StdDev': 'pchembl_value_stdev',\n",
    "                                    'pchembl_value_N': 'pchembl_value_n',\n",
    "                                    'pchembl_value_Median': 'pchembl_value_median',\n",
    "                                    'pchembl_value_MAD': 'pchembl_value_mad'\n",
    "                                   }, inplace = True)\n",
    "    \n",
    "    \n",
    "    to_keep = ['papyrus_activity_id', \n",
    "       'target_id', 'accession', 'protein_type', 'aid', 'doc_id', \n",
    "        'relation', 'pchembl_value', 'pchembl_value_mean',\n",
    "       'pchembl_value_stdev', 'pchembl_value_SEM', 'pchembl_value_n',\n",
    "       'pchembl_value_median', 'pchembl_value_mad',\n",
    "       'molecule_id', 'quality', 'type', 'year']\n",
    "    \n",
    "    to_del = [x for x in all_expanded.columns if x not in to_keep]\n",
    "    \n",
    "    all_expanded.drop(to_del, axis=1, inplace=True)\n",
    "    all_expanded.fillna('', inplace=True)\n",
    "    all_expanded.replace(r'^\\s*$', None, regex=True, inplace=True)\n",
    "    \n",
    "    adicts = all_expanded.to_dict('records')\n",
    "    clean_adicts = [{k:v if not pd.isnull(v) else None for k,v in d.items()} for d in adicts]\n",
    "    \n",
    "    activities = [Activity(**d) for d in clean_adicts]\n",
    "    session.add_all(activities)\n",
    "    session.commit()\n",
    "    now = datetime.now()        \n",
    "    current_time = now.strftime(\"%H:%M:%S\")\n",
    "    print(\"End Time =\", current_time)"
   ]
  },
  {
   "cell_type": "code",
   "execution_count": null,
   "id": "8cb4124a",
   "metadata": {},
   "outputs": [],
   "source": []
  }
 ],
 "metadata": {
  "kernelspec": {
   "display_name": "Python 3 (ipykernel)",
   "language": "python",
   "name": "python3"
  },
  "language_info": {
   "codemirror_mode": {
    "name": "ipython",
    "version": 3
   },
   "file_extension": ".py",
   "mimetype": "text/x-python",
   "name": "python",
   "nbconvert_exporter": "python",
   "pygments_lexer": "ipython3",
   "version": "3.8.13"
  }
 },
 "nbformat": 4,
 "nbformat_minor": 5
}
